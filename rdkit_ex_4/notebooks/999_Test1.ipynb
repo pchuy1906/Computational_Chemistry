{
 "cells": [
  {
   "cell_type": "markdown",
   "metadata": {},
   "source": [
    "# Test tutorial\n",
    "\n",
    "This isn't really intended to be a useful tutorial, it's there to allow us to excercise the automated testing code.\n",
    "\n",
    "@TAGS: #testing #basics "
   ]
  },
  {
   "cell_type": "code",
   "execution_count": 1,
   "metadata": {},
   "outputs": [],
   "source": [
    "from rdkit import Chem\n",
    "from rdkit.Chem.Draw import IPythonConsole\n",
    "IPythonConsole.ipython_useSVG=True"
   ]
  },
  {
   "cell_type": "code",
   "execution_count": 2,
   "metadata": {},
   "outputs": [
    {
     "name": "stdout",
     "output_type": "stream",
     "text": [
      "Sun Jan 17 14:22:15 2021\n"
     ]
    }
   ],
   "source": [
    "import time\n",
    "print(time.asctime()) # doctest: IGNORE"
   ]
  },
  {
   "cell_type": "code",
   "execution_count": 3,
   "metadata": {},
   "outputs": [
    {
     "data": {
      "text/plain": [
       "'Oc1ccccc1'"
      ]
     },
     "execution_count": 3,
     "metadata": {},
     "output_type": "execute_result"
    }
   ],
   "source": [
    "Chem.CanonSmiles(\"c1ccccc1O\")"
   ]
  },
  {
   "cell_type": "code",
   "execution_count": 4,
   "metadata": {},
   "outputs": [
    {
     "data": {
      "image/png": "[encoded data removed]",
      "image/svg+xml": [
       "<?xml version='1.0' encoding='iso-8859-1'?>\n",
       "<svg version='1.1' baseProfile='full'\n",
       "              xmlns='http://www.w3.org/2000/svg'\n",
       "                      xmlns:rdkit='http://www.rdkit.org/xml'\n",
       "                      xmlns:xlink='http://www.w3.org/1999/xlink'\n",
       "                  xml:space='preserve'\n",
       "width='450px' height='150px' viewBox='0 0 450 150'>\n",
       "<!-- END OF HEADER -->\n",
       "<rect style='opacity:1.0;fill:#FFFFFF;stroke:none' width='450' height='150' x='0' y='0'> </rect>\n",
       "<path class='bond-0' d='M 209.821,143.182 L 131.091,143.182' style='fill:none;fill-rule:evenodd;stroke:#000000;stroke-width:2.0px;stroke-linecap:butt;stroke-linejoin:miter;stroke-opacity:1' />\n",
       "<path class='bond-0' d='M 198.011,127.436 L 142.901,127.436' style='fill:none;fill-rule:evenodd;stroke:#000000;stroke-width:2.0px;stroke-linecap:butt;stroke-linejoin:miter;stroke-opacity:1' />\n",
       "<path class='bond-6' d='M 209.821,143.182 L 249.186,75' style='fill:none;fill-rule:evenodd;stroke:#000000;stroke-width:2.0px;stroke-linecap:butt;stroke-linejoin:miter;stroke-opacity:1' />\n",
       "<path class='bond-1' d='M 131.091,143.182 L 91.7266,75' style='fill:none;fill-rule:evenodd;stroke:#000000;stroke-width:2.0px;stroke-linecap:butt;stroke-linejoin:miter;stroke-opacity:1' />\n",
       "<path class='bond-2' d='M 91.7266,75 L 131.091,6.81818' style='fill:none;fill-rule:evenodd;stroke:#000000;stroke-width:2.0px;stroke-linecap:butt;stroke-linejoin:miter;stroke-opacity:1' />\n",
       "<path class='bond-2' d='M 111.268,72.6457 L 138.823,24.9184' style='fill:none;fill-rule:evenodd;stroke:#000000;stroke-width:2.0px;stroke-linecap:butt;stroke-linejoin:miter;stroke-opacity:1' />\n",
       "<path class='bond-3' d='M 131.091,6.81818 L 209.821,6.81818' style='fill:none;fill-rule:evenodd;stroke:#000000;stroke-width:2.0px;stroke-linecap:butt;stroke-linejoin:miter;stroke-opacity:1' />\n",
       "<path class='bond-4' d='M 209.821,6.81818 L 249.186,75' style='fill:none;fill-rule:evenodd;stroke:#000000;stroke-width:2.0px;stroke-linecap:butt;stroke-linejoin:miter;stroke-opacity:1' />\n",
       "<path class='bond-4' d='M 202.089,24.9184 L 229.645,72.6457' style='fill:none;fill-rule:evenodd;stroke:#000000;stroke-width:2.0px;stroke-linecap:butt;stroke-linejoin:miter;stroke-opacity:1' />\n",
       "<path class='bond-5' d='M 249.186,75 L 282.449,75' style='fill:none;fill-rule:evenodd;stroke:#000000;stroke-width:2.0px;stroke-linecap:butt;stroke-linejoin:miter;stroke-opacity:1' />\n",
       "<path class='bond-5' d='M 282.449,75 L 315.712,75' style='fill:none;fill-rule:evenodd;stroke:#FF0000;stroke-width:2.0px;stroke-linecap:butt;stroke-linejoin:miter;stroke-opacity:1' />\n",
       "<path  class='atom-6' d='M 317.68 75.063\n",
       "Q 317.68 69.7094, 320.326 66.7176\n",
       "Q 322.971 63.7259, 327.915 63.7259\n",
       "Q 332.86 63.7259, 335.505 66.7176\n",
       "Q 338.15 69.7094, 338.15 75.063\n",
       "Q 338.15 80.4796, 335.473 83.5658\n",
       "Q 332.797 86.6205, 327.915 86.6205\n",
       "Q 323.003 86.6205, 320.326 83.5658\n",
       "Q 317.68 80.5111, 317.68 75.063\n",
       "M 327.915 84.1011\n",
       "Q 331.316 84.1011, 333.143 81.8337\n",
       "Q 335.001 79.5348, 335.001 75.063\n",
       "Q 335.001 70.6856, 333.143 68.4812\n",
       "Q 331.316 66.2453, 327.915 66.2453\n",
       "Q 324.514 66.2453, 322.656 68.4497\n",
       "Q 320.83 70.6541, 320.83 75.063\n",
       "Q 320.83 79.5663, 322.656 81.8337\n",
       "Q 324.514 84.1011, 327.915 84.1011\n",
       "' fill='#FF0000'/>\n",
       "<path  class='atom-6' d='M 340.827 63.9779\n",
       "L 343.85 63.9779\n",
       "L 343.85 73.4569\n",
       "L 355.25 73.4569\n",
       "L 355.25 63.9779\n",
       "L 358.273 63.9779\n",
       "L 358.273 86.2741\n",
       "L 355.25 86.2741\n",
       "L 355.25 75.9762\n",
       "L 343.85 75.9762\n",
       "L 343.85 86.2741\n",
       "L 340.827 86.2741\n",
       "L 340.827 63.9779\n",
       "' fill='#FF0000'/>\n",
       "</svg>\n"
      ],
      "text/plain": [
       "<rdkit.Chem.rdchem.Mol at 0x7f12f7dbb030>"
      ]
     },
     "execution_count": 4,
     "metadata": {},
     "output_type": "execute_result"
    }
   ],
   "source": [
    "Chem.MolFromSmiles('c1ccccc1O')"
   ]
  },
  {
   "cell_type": "code",
   "execution_count": 5,
   "metadata": {},
   "outputs": [
    {
     "name": "stdout",
     "output_type": "stream",
     "text": [
      "hello\n"
     ]
    },
    {
     "data": {
      "text/plain": [
       "'CNc1ccccc1'"
      ]
     },
     "execution_count": 5,
     "metadata": {},
     "output_type": "execute_result"
    }
   ],
   "source": [
    "print(\"hello\")\n",
    "# comment\n",
    "Chem.CanonSmiles(\"c1ccccc1NC\")"
   ]
  },
  {
   "cell_type": "markdown",
   "metadata": {
    "collapsed": true
   },
   "source": [
    "Some nice explanatory text"
   ]
  },
  {
   "cell_type": "code",
   "execution_count": 6,
   "metadata": {},
   "outputs": [
    {
     "data": {
      "image/png": "[encoded data removed]",
      "image/svg+xml": [
       "<?xml version='1.0' encoding='iso-8859-1'?>\n",
       "<svg version='1.1' baseProfile='full'\n",
       "              xmlns='http://www.w3.org/2000/svg'\n",
       "                      xmlns:rdkit='http://www.rdkit.org/xml'\n",
       "                      xmlns:xlink='http://www.w3.org/1999/xlink'\n",
       "                  xml:space='preserve'\n",
       "width='450px' height='150px' viewBox='0 0 450 150'>\n",
       "<!-- END OF HEADER -->\n",
       "<rect style='opacity:1.0;fill:#FFFFFF;stroke:none' width='450' height='150' x='0' y='0'> </rect>\n",
       "<path class='bond-0' d='M 305.432,26.7697 L 253.388,48.9157' style='fill:none;fill-rule:evenodd;stroke:#000000;stroke-width:2.0px;stroke-linecap:butt;stroke-linejoin:miter;stroke-opacity:1' />\n",
       "<path class='bond-1' d='M 253.388,48.9157 L 235.171,35.2136' style='fill:none;fill-rule:evenodd;stroke:#000000;stroke-width:2.0px;stroke-linecap:butt;stroke-linejoin:miter;stroke-opacity:1' />\n",
       "<path class='bond-1' d='M 235.171,35.2136 L 216.954,21.5115' style='fill:none;fill-rule:evenodd;stroke:#FF0000;stroke-width:2.0px;stroke-linecap:butt;stroke-linejoin:miter;stroke-opacity:1' />\n",
       "<path class='bond-6' d='M 199.421,18.648 L 180.265,26.7993' style='fill:none;fill-rule:evenodd;stroke:#FF0000;stroke-width:2.0px;stroke-linecap:butt;stroke-linejoin:miter;stroke-opacity:1' />\n",
       "<path class='bond-6' d='M 180.265,26.7993 L 161.109,34.9507' style='fill:none;fill-rule:evenodd;stroke:#191919;stroke-width:2.0px;stroke-linecap:butt;stroke-linejoin:miter;stroke-opacity:1' />\n",
       "<path class='bond-2' d='M 241.139,114.902 L 192.157,86.6222' style='fill:none;fill-rule:evenodd;stroke:#000000;stroke-width:2.0px;stroke-linecap:butt;stroke-linejoin:miter;stroke-opacity:1' />\n",
       "<path class='bond-4' d='M 241.139,114.902 L 192.157,143.182' style='fill:none;fill-rule:evenodd;stroke:#000000;stroke-width:2.0px;stroke-linecap:butt;stroke-linejoin:miter;stroke-opacity:1' />\n",
       "<path class='bond-5' d='M 241.139,114.902 L 262.917,114.902' style='fill:none;fill-rule:evenodd;stroke:#000000;stroke-width:2.0px;stroke-linecap:butt;stroke-linejoin:miter;stroke-opacity:1' />\n",
       "<path class='bond-5' d='M 262.917,114.902 L 284.694,114.902' style='fill:none;fill-rule:evenodd;stroke:#191919;stroke-width:2.0px;stroke-linecap:butt;stroke-linejoin:miter;stroke-opacity:1' />\n",
       "<path class='bond-3' d='M 192.157,86.6222 L 192.157,143.182' style='fill:none;fill-rule:evenodd;stroke:#000000;stroke-width:2.0px;stroke-linecap:butt;stroke-linejoin:miter;stroke-opacity:1' />\n",
       "<path  class='atom-2' d='M 200.835 14.9628\n",
       "Q 200.835 11.1167, 202.735 8.96745\n",
       "Q 204.635 6.81818, 208.187 6.81818\n",
       "Q 211.739 6.81818, 213.64 8.96745\n",
       "Q 215.54 11.1167, 215.54 14.9628\n",
       "Q 215.54 18.8541, 213.617 21.0712\n",
       "Q 211.694 23.2657, 208.187 23.2657\n",
       "Q 204.658 23.2657, 202.735 21.0712\n",
       "Q 200.835 18.8767, 200.835 14.9628\n",
       "M 208.187 21.4558\n",
       "Q 210.631 21.4558, 211.943 19.8269\n",
       "Q 213.278 18.1754, 213.278 14.9628\n",
       "Q 213.278 11.8181, 211.943 10.2344\n",
       "Q 210.631 8.62809, 208.187 8.62809\n",
       "Q 205.744 8.62809, 204.409 10.2118\n",
       "Q 203.097 11.7954, 203.097 14.9628\n",
       "Q 203.097 18.198, 204.409 19.8269\n",
       "Q 205.744 21.4558, 208.187 21.4558\n",
       "' fill='#FF0000'/>\n",
       "<path  class='atom-6' d='M 286.138 110.811\n",
       "Q 286.526 109.81, 287.452 109.258\n",
       "Q 288.378 108.69, 289.662 108.69\n",
       "Q 291.259 108.69, 292.155 109.556\n",
       "Q 293.051 110.422, 293.051 111.96\n",
       "Q 293.051 113.528, 291.887 114.992\n",
       "Q 290.737 116.455, 288.348 118.187\n",
       "L 293.23 118.187\n",
       "L 293.23 119.382\n",
       "L 286.108 119.382\n",
       "L 286.108 118.381\n",
       "Q 288.079 116.978, 289.244 115.932\n",
       "Q 290.423 114.887, 290.991 113.946\n",
       "Q 291.558 113.006, 291.558 112.035\n",
       "Q 291.558 111.02, 291.05 110.452\n",
       "Q 290.543 109.885, 289.662 109.885\n",
       "Q 288.811 109.885, 288.243 110.228\n",
       "Q 287.676 110.572, 287.273 111.333\n",
       "L 286.138 110.811\n",
       "' fill='#191919'/>\n",
       "<path  class='atom-6' d='M 294.678 113.115\n",
       "L 297.031 110.717\n",
       "L 293.909 110.083\n",
       "L 294.384 108.477\n",
       "L 297.257 109.925\n",
       "L 296.85 106.78\n",
       "L 298.547 106.757\n",
       "L 298.072 109.902\n",
       "L 300.99 108.545\n",
       "L 301.488 110.083\n",
       "L 298.321 110.671\n",
       "L 300.583 113.092\n",
       "L 299.203 114.088\n",
       "L 297.642 111.101\n",
       "L 296.058 114.088\n",
       "L 294.678 113.115\n",
       "' fill='#191919'/>\n",
       "<path  class='atom-7' d='M 149.645 35.9735\n",
       "Q 150.675 36.2721, 151.168 36.9441\n",
       "Q 151.675 37.6011, 151.675 38.6463\n",
       "Q 151.675 39.5422, 151.228 40.244\n",
       "Q 150.78 40.9309, 149.958 41.3191\n",
       "Q 149.137 41.6924, 148.062 41.6924\n",
       "Q 146.927 41.6924, 146.076 41.3041\n",
       "Q 145.24 40.901, 144.568 40.0947\n",
       "L 145.419 39.2286\n",
       "Q 146.076 39.9454, 146.629 40.2291\n",
       "Q 147.181 40.4978, 148.062 40.4978\n",
       "Q 149.018 40.4978, 149.6 39.9902\n",
       "Q 150.182 39.4675, 150.182 38.6314\n",
       "Q 150.182 37.5563, 149.57 37.0785\n",
       "Q 148.973 36.5857, 147.674 36.5857\n",
       "L 146.912 36.5857\n",
       "L 146.912 35.5106\n",
       "L 147.584 35.5106\n",
       "Q 148.734 35.4957, 149.346 35.003\n",
       "Q 149.958 34.4953, 149.958 33.5546\n",
       "Q 149.958 32.8677, 149.451 32.4646\n",
       "Q 148.943 32.0465, 148.077 32.0465\n",
       "Q 147.196 32.0465, 146.643 32.36\n",
       "Q 146.106 32.6736, 145.688 33.465\n",
       "L 144.658 32.9125\n",
       "Q 145.031 32.0315, 145.927 31.4492\n",
       "Q 146.823 30.8519, 148.077 30.8519\n",
       "Q 149.63 30.8519, 150.541 31.5836\n",
       "Q 151.452 32.3152, 151.452 33.5546\n",
       "Q 151.452 34.4057, 150.989 35.0179\n",
       "Q 150.526 35.6301, 149.645 35.9735\n",
       "' fill='#191919'/>\n",
       "<path  class='atom-7' d='M 153.123 35.2762\n",
       "L 155.476 32.8781\n",
       "L 152.354 32.2446\n",
       "L 152.829 30.6384\n",
       "L 155.703 32.0863\n",
       "L 155.295 28.9416\n",
       "L 156.992 28.9189\n",
       "L 156.517 32.0637\n",
       "L 159.435 30.7062\n",
       "L 159.933 32.2446\n",
       "L 156.766 32.8329\n",
       "L 159.028 35.2536\n",
       "L 157.648 36.2491\n",
       "L 156.087 33.2627\n",
       "L 154.503 36.2491\n",
       "L 153.123 35.2762\n",
       "' fill='#191919'/>\n",
       "</svg>\n"
      ],
      "text/plain": [
       "<rdkit.Chem.rdchem.Mol at 0x7f12f7dbc7b0>"
      ]
     },
     "execution_count": 6,
     "metadata": {},
     "output_type": "execute_result"
    }
   ],
   "source": [
    "frags = Chem.FragmentOnBonds(Chem.MolFromSmiles('CCOC1CC1'),(2,))\n",
    "frags"
   ]
  },
  {
   "cell_type": "code",
   "execution_count": 7,
   "metadata": {},
   "outputs": [
    {
     "data": {
      "text/plain": [
       "'[2*]C1CC1.[3*]OCC'"
      ]
     },
     "execution_count": 7,
     "metadata": {},
     "output_type": "execute_result"
    }
   ],
   "source": [
    "Chem.MolToSmiles(frags,True)"
   ]
  },
  {
   "cell_type": "code",
   "execution_count": 8,
   "metadata": {},
   "outputs": [
    {
     "data": {
      "text/plain": [
       "2"
      ]
     },
     "execution_count": 8,
     "metadata": {},
     "output_type": "execute_result"
    }
   ],
   "source": [
    "pieces = Chem.GetMolFrags(frags,asMols=True)\n",
    "len(pieces)"
   ]
  },
  {
   "cell_type": "code",
   "execution_count": 9,
   "metadata": {},
   "outputs": [
    {
     "data": {
      "text/plain": [
       "['[3*]OCC', '[2*]C1CC1']"
      ]
     },
     "execution_count": 9,
     "metadata": {},
     "output_type": "execute_result"
    }
   ],
   "source": [
    "[Chem.MolToSmiles(x,True) for x in pieces]"
   ]
  },
  {
   "cell_type": "code",
   "execution_count": 10,
   "metadata": {},
   "outputs": [
    {
     "data": {
      "text/plain": [
       "0"
      ]
     },
     "execution_count": 10,
     "metadata": {},
     "output_type": "execute_result"
    }
   ],
   "source": [
    "from rdkit.Chem import AllChem\n",
    "m = Chem.MolFromSmiles('CCOC1CC1')\n",
    "m.SetProp(\"_Name\",\"test molecule\")\n",
    "AllChem.Compute2DCoords(m)"
   ]
  },
  {
   "cell_type": "code",
   "execution_count": 11,
   "metadata": {},
   "outputs": [
    {
     "name": "stdout",
     "output_type": "stream",
     "text": [
      "test molecule\n",
      "     RDKit          2D\n",
      "\n",
      "  6  6  0  0  0  0  0  0  0  0999 V2000\n",
      "   -3.0582   -0.0065    0.0000 C   0  0  0  0  0  0  0  0  0  0  0  0\n",
      "   -1.6205    0.4213    0.0000 C   0  0  0  0  0  0  0  0  0  0  0  0\n",
      "   -0.5311   -0.6098    0.0000 O   0  0  0  0  0  0  0  0  0  0  0  0\n",
      "    0.9066   -0.1820    0.0000 C   0  0  0  0  0  0  0  0  0  0  0  0\n",
      "    2.3656   -0.5303    0.0000 C   0  0  0  0  0  0  0  0  0  0  0  0\n",
      "    1.9377    0.9074    0.0000 C   0  0  0  0  0  0  0  0  0  0  0  0\n",
      "  1  2  1  0\n",
      "  2  3  1  0\n",
      "  3  4  1  0\n",
      "  4  5  1  0\n",
      "  5  6  1  0\n",
      "  6  4  1  0\n",
      "M  END\n",
      "\n"
     ]
    }
   ],
   "source": [
    "print(Chem.MolToMolBlock(m))"
   ]
  },
  {
   "cell_type": "code",
   "execution_count": 12,
   "metadata": {},
   "outputs": [
    {
     "data": {
      "text/plain": [
       "[(2, 8)]"
      ]
     },
     "execution_count": 12,
     "metadata": {},
     "output_type": "execute_result"
    }
   ],
   "source": [
    "# test that for loops work:\n",
    "atns = []\n",
    "for at in m.GetAtoms():\n",
    "    if at.GetAtomicNum()>6:\n",
    "        atns.append((at.GetIdx(),at.GetAtomicNum()))\n",
    "atns"
   ]
  },
  {
   "cell_type": "code",
   "execution_count": 13,
   "metadata": {},
   "outputs": [
    {
     "data": {
      "text/plain": [
       "[(2, 8)]"
      ]
     },
     "execution_count": 13,
     "metadata": {},
     "output_type": "execute_result"
    }
   ],
   "source": [
    "atns = []\n",
    "for at in m.GetAtoms():\n",
    "    if at.GetAtomicNum()>6:\n",
    "        atns.append((at.GetIdx(),at.GetAtomicNum()))\n",
    "atns"
   ]
  },
  {
   "cell_type": "code",
   "execution_count": 14,
   "metadata": {},
   "outputs": [],
   "source": [
    "for at in m.GetAtoms():\n",
    "    if at.GetAtomicNum()>6:\n",
    "        atns.append((at.GetIdx(),at.GetAtomicNum()))\n",
    "if(len(atns)==1):        \n",
    "    atns"
   ]
  },
  {
   "cell_type": "code",
   "execution_count": null,
   "metadata": {},
   "outputs": [],
   "source": []
  }
 ],
 "metadata": {
  "anaconda-cloud": {},
  "hide_input": false,
  "kernelspec": {
   "display_name": "Python 3",
   "language": "python",
   "name": "python3"
  },
  "language_info": {
   "codemirror_mode": {
    "name": "ipython",
    "version": 3
   },
   "file_extension": ".py",
   "mimetype": "text/x-python",
   "name": "python",
   "nbconvert_exporter": "python",
   "pygments_lexer": "ipython3",
   "version": "3.7.9"
  }
 },
 "nbformat": 4,
 "nbformat_minor": 1
}
