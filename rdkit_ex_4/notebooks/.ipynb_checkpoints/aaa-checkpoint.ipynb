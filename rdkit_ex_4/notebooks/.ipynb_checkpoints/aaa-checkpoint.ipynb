{
 "cells": [
  {
   "cell_type": "markdown",
   "metadata": {},
   "source": [
    "# Chemical space analysis of small molecule drugs with RDKit and dimensionality reduction methods\n",
    "This is a quick tutorial on chemical space analysis and visualization with RDKit and dimensionality reduction methods PCA and t-SNE (sklearn). Due to the high dimensionality of chemical fingerprints, we have to use dimensionality reduction methods in order to facilitate the plotting of chemical space. Two popular methods are:\n",
    "  - [PCA](http://scikit-learn.org/stable/modules/generated/sklearn.decomposition.PCA.html) - Principal component analysis\n",
    "  - [t-SNE](http://scikit-learn.org/stable/modules/generated/sklearn.manifold.TSNE.html) - t-Distributed Stochastic Neighbor Embedding\n",
    "\n",
    "We will use known drugs and try to see if there are differences between different classes of drugs in the projected chemical space."
   ]
  },
  {
   "cell_type": "code",
   "execution_count": 1,
   "metadata": {},
   "outputs": [
    {
     "ename": "ModuleNotFoundError",
     "evalue": "No module named 'rdkit'",
     "output_type": "error",
     "traceback": [
      "\u001b[0;31m---------------------------------------------------------------------------\u001b[0m",
      "\u001b[0;31mModuleNotFoundError\u001b[0m                       Traceback (most recent call last)",
      "\u001b[0;32m<ipython-input-1-3a181df69616>\u001b[0m in \u001b[0;36m<module>\u001b[0;34m\u001b[0m\n\u001b[0;32m----> 1\u001b[0;31m \u001b[0;32mfrom\u001b[0m \u001b[0mrdkit\u001b[0m \u001b[0;32mimport\u001b[0m \u001b[0mChem\u001b[0m\u001b[0;34m\u001b[0m\u001b[0;34m\u001b[0m\u001b[0m\n\u001b[0m",
      "\u001b[0;31mModuleNotFoundError\u001b[0m: No module named 'rdkit'"
     ]
    }
   ],
   "source": [
    "from rdkit import Chem"
   ]
  },
  {
   "cell_type": "code",
   "execution_count": null,
   "metadata": {},
   "outputs": [],
   "source": [
    "conda list"
   ]
  },
  {
   "cell_type": "markdown",
   "metadata": {},
   "source": [
    "@TAGS: #advanced #sklearn #PCA #t-SNE"
   ]
  },
  {
   "cell_type": "code",
   "execution_count": null,
   "metadata": {},
   "outputs": [],
   "source": [
    "#from __future__ import print_function\n",
    "#%matplotlib inline"
   ]
  },
  {
   "cell_type": "code",
   "execution_count": null,
   "metadata": {},
   "outputs": [],
   "source": []
  },
  {
   "cell_type": "code",
   "execution_count": null,
   "metadata": {},
   "outputs": [],
   "source": [
    "import numpy as np\n",
    "import pandas as pd\n",
    "import rdkit\n",
    "from rdkit import Chem\n",
    "#from rdkit.Chem import PandasTools\n",
    "#from rdkit.Chem.Draw import IPythonConsole"
   ]
  },
  {
   "cell_type": "markdown",
   "metadata": {},
   "source": [
    "Load the table of drugs (downloaded from [ChEMBL](https://www.ebi.ac.uk/chembl/) )"
   ]
  },
  {
   "cell_type": "code",
   "execution_count": null,
   "metadata": {},
   "outputs": [],
   "source": [
    "df = pd.read_csv('../data/chembl_drugs.txt.gz', sep='\\t')"
   ]
  },
  {
   "cell_type": "code",
   "execution_count": null,
   "metadata": {},
   "outputs": [],
   "source": [
    "len(df)"
   ]
  },
  {
   "cell_type": "markdown",
   "metadata": {},
   "source": [
    "Keep only compounds with SMILES, [USAN stems](https://www.ama-assn.org/about-us/united-states-adopted-names-approved-stems), that respect [Ro5](https://en.wikipedia.org/wiki/Lipinski's_rule_of_five) and are on the market"
   ]
  },
  {
   "cell_type": "code",
   "execution_count": null,
   "metadata": {},
   "outputs": [],
   "source": [
    "df = df[df['CANONICAL_SMILES'].notnull() & # Keep cpds with SMILES\n",
    "        df['USAN_STEM'].notnull() & # USAN stem\n",
    "        (df['RULE_OF_FIVE'] == 'Y') & # that respect Ro5\n",
    "        (df['DEVELOPMENT_PHASE'] == 4)] # are on the market"
   ]
  },
  {
   "cell_type": "code",
   "execution_count": null,
   "metadata": {},
   "outputs": [],
   "source": [
    "len(df)"
   ]
  },
  {
   "cell_type": "markdown",
   "metadata": {},
   "source": [
    "Add molecule column"
   ]
  },
  {
   "cell_type": "code",
   "execution_count": null,
   "metadata": {},
   "outputs": [],
   "source": [
    "PandasTools.AddMoleculeColumnToFrame(df, smilesCol='CANONICAL_SMILES')"
   ]
  },
  {
   "cell_type": "code",
   "execution_count": null,
   "metadata": {},
   "outputs": [],
   "source": [
    "df = df[~df['ROMol'].isnull()]"
   ]
  },
  {
   "cell_type": "code",
   "execution_count": null,
   "metadata": {},
   "outputs": [],
   "source": [
    "len(df)"
   ]
  },
  {
   "cell_type": "markdown",
   "metadata": {},
   "source": [
    "Check most common compound classees (based on USAN stem)"
   ]
  },
  {
   "cell_type": "code",
   "execution_count": null,
   "metadata": {},
   "outputs": [],
   "source": [
    "common_stems = df.groupby('USAN_STEM').size().sort_values()[-10:]\n",
    "common_stems"
   ]
  },
  {
   "cell_type": "code",
   "execution_count": null,
   "metadata": {},
   "outputs": [],
   "source": [
    "stems = df.drop_duplicates(['USAN_STEM'])[df.drop_duplicates(['USAN_STEM'])['USAN_STEM'].isin(common_stems.index)][['USAN_STEM','USAN_STEM_DEFINITION']]\n",
    "stems.index = stems['USAN_STEM']\n",
    "stems['count'] = common_stems"
   ]
  },
  {
   "cell_type": "code",
   "execution_count": null,
   "metadata": {},
   "outputs": [],
   "source": [
    "stems"
   ]
  },
  {
   "cell_type": "markdown",
   "metadata": {},
   "source": [
    "Helper functions"
   ]
  },
  {
   "cell_type": "code",
   "execution_count": null,
   "metadata": {},
   "outputs": [],
   "source": [
    "from rdkit import DataStructs\n",
    "from rdkit.Chem import AllChem\n",
    "\n",
    "class FP:\n",
    "    \"\"\"\n",
    "    Molecular fingerprint class, useful to pack features in pandas df\n",
    "    \n",
    "    Parameters  \n",
    "    ---------- \n",
    "    fp : np.array\n",
    "        Features stored in numpy array\n",
    "    names : list, np.array\n",
    "        Names of the features\n",
    "    \"\"\"\n",
    "    def __init__(self, fp, names):\n",
    "        self.fp = fp\n",
    "        self.names = names\n",
    "    def __str__(self):\n",
    "        return \"%d bit FP\" % len(self.fp)\n",
    "    def __len__(self):\n",
    "        return len(self.fp)\n",
    "\n",
    "def get_cfps(mol, radius=2, nBits=1024, useFeatures=False, counts=False, dtype=np.float32):\n",
    "    \"\"\"Calculates circural (Morgan) fingerprint.  \n",
    "    http://rdkit.org/docs/GettingStartedInPython.html#morgan-fingerprints-circular-fingerprints  \n",
    "    \n",
    "    Parameters\n",
    "    ----------\n",
    "    mol : rdkit.Chem.rdchem.Mol\n",
    "    radius : float \n",
    "        Fingerprint radius, default 2\n",
    "    nBits : int \n",
    "        Length of hashed fingerprint (without descriptors), default 1024\n",
    "    useFeatures : bool  \n",
    "        To get feature fingerprints (FCFP) instead of normal ones (ECFP), defaults to False\n",
    "    counts : bool\n",
    "        If set to true it returns for each bit number of appearances of each substructure (counts). Defaults to false (fingerprint is binary)\n",
    "    dtype : np.dtype\n",
    "        Numpy data type for the array. Defaults to np.float32 because it is the default dtype for scikit-learn\n",
    "    \n",
    "    Returns\n",
    "    -------\n",
    "    ML.FP\n",
    "        Fingerprint (feature) object\n",
    "    \"\"\"\n",
    "    arr = np.zeros((1,), dtype)\n",
    "    \n",
    "    if counts is True:\n",
    "        info = {}\n",
    "        fp = AllChem.GetMorganFingerprintAsBitVect(mol, radius, nBits=nBits, useFeatures=useFeatures, bitInfo=info)\n",
    "        DataStructs.ConvertToNumpyArray(fp, arr)\n",
    "        arr = np.array([len(info[x]) if x in info else 0 for x in range(nBits)], dtype)\n",
    "    else:\n",
    "        DataStructs.ConvertToNumpyArray(AllChem.GetMorganFingerprintAsBitVect(mol, radius, nBits=nBits, useFeatures=useFeatures), arr)\n",
    "    return FP(arr, range(nBits))"
   ]
  },
  {
   "cell_type": "markdown",
   "metadata": {},
   "source": [
    "Calculate fingerprints"
   ]
  },
  {
   "cell_type": "code",
   "execution_count": null,
   "metadata": {},
   "outputs": [],
   "source": [
    "df['FP'] = df['ROMol'].map(get_cfps)"
   ]
  },
  {
   "cell_type": "markdown",
   "metadata": {},
   "source": [
    "Extract compounds that belong to 10 most common USAN stems"
   ]
  },
  {
   "cell_type": "code",
   "execution_count": null,
   "metadata": {},
   "outputs": [],
   "source": [
    "df_small = df[df['USAN_STEM'].isin(list(stems.index))].copy()"
   ]
  },
  {
   "cell_type": "code",
   "execution_count": null,
   "metadata": {},
   "outputs": [],
   "source": [
    "len(df_small)"
   ]
  },
  {
   "cell_type": "markdown",
   "metadata": {},
   "source": [
    "### PCA analysis"
   ]
  },
  {
   "cell_type": "code",
   "execution_count": null,
   "metadata": {},
   "outputs": [],
   "source": [
    "from sklearn.decomposition import PCA"
   ]
  },
  {
   "cell_type": "code",
   "execution_count": null,
   "metadata": {},
   "outputs": [],
   "source": [
    "X = np.array([x.fp for x in df_small['FP']])"
   ]
  },
  {
   "cell_type": "code",
   "execution_count": null,
   "metadata": {},
   "outputs": [],
   "source": [
    "pca = PCA(n_components=3, random_state=0)\n",
    "pca_drugs = pca.fit_transform(X)"
   ]
  },
  {
   "cell_type": "code",
   "execution_count": null,
   "metadata": {},
   "outputs": [],
   "source": [
    "df_small['PC1'] = pca_drugs.T[0]\n",
    "df_small['PC2'] = pca_drugs.T[1]\n",
    "df_small['PC3'] = pca_drugs.T[2]"
   ]
  },
  {
   "cell_type": "code",
   "execution_count": null,
   "metadata": {},
   "outputs": [],
   "source": [
    "import matplotlib.pyplot as plt\n",
    "import seaborn as sns"
   ]
  },
  {
   "cell_type": "markdown",
   "metadata": {},
   "source": [
    "Plot principal components"
   ]
  },
  {
   "cell_type": "code",
   "execution_count": null,
   "metadata": {},
   "outputs": [],
   "source": [
    "#doctest: IGNORE\n",
    "sns.pairplot(df_small, hue='USAN_STEM', vars=['PC1', 'PC2', 'PC3'], palette='viridis');"
   ]
  },
  {
   "cell_type": "markdown",
   "metadata": {},
   "source": [
    "### t-SNE\n",
    "Note that [t-SNE is very sensitive to hyperparameter settings](http://distill.pub/2016/misread-tsne/).\n",
    "#### Without PCA preprocessing"
   ]
  },
  {
   "cell_type": "code",
   "execution_count": null,
   "metadata": {},
   "outputs": [],
   "source": [
    "from sklearn.manifold import TSNE"
   ]
  },
  {
   "cell_type": "code",
   "execution_count": null,
   "metadata": {},
   "outputs": [],
   "source": [
    "model = TSNE(n_components=2, random_state=0, perplexity=30, n_iter=5000)\n",
    "tsne_drugs = model.fit_transform(X)"
   ]
  },
  {
   "cell_type": "code",
   "execution_count": null,
   "metadata": {},
   "outputs": [],
   "source": [
    "df_small['TSNE_C1'] = tsne_drugs.T[0]\n",
    "df_small['TSNE_C2'] = tsne_drugs.T[1]"
   ]
  },
  {
   "cell_type": "code",
   "execution_count": null,
   "metadata": {},
   "outputs": [],
   "source": [
    "#doctest: IGNORE\n",
    "sns.pairplot(df_small, hue='USAN_STEM', vars=['TSNE_C1', 'TSNE_C2'], palette='viridis');"
   ]
  },
  {
   "cell_type": "markdown",
   "metadata": {},
   "source": [
    "#### With PCA preprocessing\n",
    "In case of high dimensionality data (like molecular fingerprints) it is recommended to reduce the number of dimensions with another method before proceeding with t-SNE."
   ]
  },
  {
   "cell_type": "code",
   "execution_count": null,
   "metadata": {},
   "outputs": [],
   "source": [
    "pca_model = PCA(n_components=30, random_state=0)\n",
    "tsne_model = TSNE(n_components=2, random_state=0, perplexity=30, n_iter=5000)\n",
    "tsne_pca_drugs = tsne_model.fit_transform(pca_model.fit_transform(X))"
   ]
  },
  {
   "cell_type": "code",
   "execution_count": null,
   "metadata": {},
   "outputs": [],
   "source": [
    "df_small['TSNE_PCA_C1'] = tsne_pca_drugs.T[0]\n",
    "df_small['TSNE_PCA_C2'] = tsne_pca_drugs.T[1]"
   ]
  },
  {
   "cell_type": "code",
   "execution_count": null,
   "metadata": {},
   "outputs": [],
   "source": [
    "#doctest: IGNORE\n",
    "sns.pairplot(df_small, hue='USAN_STEM', vars=['TSNE_PCA_C1', 'TSNE_PCA_C2'], palette='viridis');"
   ]
  },
  {
   "cell_type": "markdown",
   "metadata": {},
   "source": [
    "Tutorial author: Samo Turk, Jan. 2017"
   ]
  },
  {
   "cell_type": "code",
   "execution_count": null,
   "metadata": {},
   "outputs": [],
   "source": []
  }
 ],
 "metadata": {
  "anaconda-cloud": {},
  "kernelspec": {
   "display_name": "Python [conda env:root]",
   "language": "python",
   "name": "conda-root-py"
  },
  "language_info": {
   "codemirror_mode": {
    "name": "ipython",
    "version": 3
   },
   "file_extension": ".py",
   "mimetype": "text/x-python",
   "name": "python",
   "nbconvert_exporter": "python",
   "pygments_lexer": "ipython3",
   "version": "3.8.3"
  }
 },
 "nbformat": 4,
 "nbformat_minor": 1
}
