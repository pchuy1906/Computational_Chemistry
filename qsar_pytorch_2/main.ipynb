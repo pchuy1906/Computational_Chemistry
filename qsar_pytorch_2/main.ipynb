{
 "cells": [
  {
   "cell_type": "markdown",
   "metadata": {},
   "source": [
    "Download data and prepare data\n",
    "\n",
    "ExcapeDB (https://solr.ideaconsult.net/search/excape/) is a project developed as part of the BigChem project. It’s a treasure trove of bioactivity data and a nice feature is the possibility to download bulk datasets from the interface after setting search critera. I downloaded the active molecules that had an associated pXC50 value of the SLC6A4 gene. I set the Gene Symbol to SLC6A4 and “Active” in results from the interface and download the dataset in CSV format. The downloaded file was renamed to SLC6A_active_excape_export.csv. SLC6A4 is a serotonine transporter that transport serotonine from the synaptic cleft back into the neurons. It’s a target of many antidepressants, which is likely why there’s collected a lot of measurements on the activity of different compounds.\n",
    "I’ll import some libraries to use later and use pandas to load the CSV file and manage the data"
   ]
  },
  {
   "cell_type": "code",
   "execution_count": 1,
   "metadata": {},
   "outputs": [],
   "source": [
    "import numpy as np\n",
    "import pandas as pd\n",
    "import matplotlib.pyplot as plt\n",
    "import torch\n",
    "import torch.nn as nn\n",
    "from sklearn.preprocessing import StandardScaler\n",
    "from sklearn.model_selection import train_test_split"
   ]
  },
  {
   "cell_type": "code",
   "execution_count": 2,
   "metadata": {},
   "outputs": [
    {
     "data": {
      "text/html": [
       "<div>\n",
       "<style scoped>\n",
       "    .dataframe tbody tr th:only-of-type {\n",
       "        vertical-align: middle;\n",
       "    }\n",
       "\n",
       "    .dataframe tbody tr th {\n",
       "        vertical-align: top;\n",
       "    }\n",
       "\n",
       "    .dataframe thead th {\n",
       "        text-align: right;\n",
       "    }\n",
       "</style>\n",
       "<table border=\"1\" class=\"dataframe\">\n",
       "  <thead>\n",
       "    <tr style=\"text-align: right;\">\n",
       "      <th></th>\n",
       "      <th>Ambit_InchiKey</th>\n",
       "      <th>Original_Entry_ID</th>\n",
       "      <th>Entrez_ID</th>\n",
       "      <th>Activity_Flag</th>\n",
       "      <th>pXC50</th>\n",
       "      <th>DB</th>\n",
       "      <th>Original_Assay_ID</th>\n",
       "      <th>Tax_ID</th>\n",
       "      <th>Gene_Symbol</th>\n",
       "      <th>Ortholog_Group</th>\n",
       "      <th>SMILES</th>\n",
       "    </tr>\n",
       "  </thead>\n",
       "  <tbody>\n",
       "    <tr>\n",
       "      <th>0</th>\n",
       "      <td>AZMKBJHIXZCVNL-BXKDBHETNA-N</td>\n",
       "      <td>44590643</td>\n",
       "      <td>6532</td>\n",
       "      <td>A</td>\n",
       "      <td>5.68382</td>\n",
       "      <td>pubchem</td>\n",
       "      <td>393260</td>\n",
       "      <td>9606</td>\n",
       "      <td>SLC6A4</td>\n",
       "      <td>4061</td>\n",
       "      <td>FC1=CC([C@@H]2O[C@H](CC2)CN)=C(OC)C=C1</td>\n",
       "    </tr>\n",
       "  </tbody>\n",
       "</table>\n",
       "</div>"
      ],
      "text/plain": [
       "                Ambit_InchiKey Original_Entry_ID  Entrez_ID Activity_Flag  \\\n",
       "0  AZMKBJHIXZCVNL-BXKDBHETNA-N          44590643       6532             A   \n",
       "\n",
       "     pXC50       DB  Original_Assay_ID  Tax_ID Gene_Symbol  Ortholog_Group  \\\n",
       "0  5.68382  pubchem             393260    9606      SLC6A4            4061   \n",
       "\n",
       "                                   SMILES  \n",
       "0  FC1=CC([C@@H]2O[C@H](CC2)CN)=C(OC)C=C1  "
      ]
     },
     "execution_count": 2,
     "metadata": {},
     "output_type": "execute_result"
    }
   ],
   "source": [
    "data = pd.read_csv(\"SLC6A4_active_excape_export.csv\")\n",
    "data.head(1)"
   ]
  },
  {
   "cell_type": "markdown",
   "metadata": {},
   "source": [
    "Loading the CSV file gives us a dataframe with the information. The interesting columns for building the QSAR model in PyTorch is the structure, which are encoded in the SMILES column, and the pXC50 which is the – log10 converted IC50 or EC50 values. Ki had been better, but this is what we have for working with.\n",
    "I’ll use RDKit for conversion of the SMILES into molecular objects and for fingerprinting of the molecules. so we’ll start by converting the SMILES to RDKit molecular objects. The pandastools module contain convenient functions for creating a molecule column. The Molecule column is rendered when shown in the jupyter notebook, which is convenient when exploring the data."
   ]
  },
  {
   "cell_type": "code",
   "execution_count": 3,
   "metadata": {},
   "outputs": [],
   "source": [
    "from rdkit import Chem, DataStructs\n",
    "from rdkit.Chem import PandasTools, AllChem\n",
    "PandasTools.AddMoleculeColumnToFrame(data,'SMILES','Molecule')\n",
    "#data[[\"SMILES\",\"Molecule\"]].head(1)"
   ]
  },
  {
   "cell_type": "code",
   "execution_count": 4,
   "metadata": {},
   "outputs": [
    {
     "data": {
      "text/plain": [
       "0"
      ]
     },
     "execution_count": 4,
     "metadata": {},
     "output_type": "execute_result"
    }
   ],
   "source": [
    "data.Molecule.isna().sum()"
   ]
  },
  {
   "cell_type": "markdown",
   "metadata": {},
   "source": [
    "Vectorizing the molecules\n",
    "\n",
    "The Morgan fingerprint is a standard for fingerprinting molecules, but others can be tried as well. Calculating the fingerprints with RDKit allows us to convert the molecules into vectors of numbers that can be used for modelling. It’s fast to compute with a little helper function and as an example I’ll convert the fingerprint of molecule number 1 into a little image."
   ]
  },
  {
   "cell_type": "code",
   "execution_count": 5,
   "metadata": {},
   "outputs": [
    {
     "data": {
      "text/plain": [
       "<matplotlib.image.AxesImage at 0x7fe774cab8d0>"
      ]
     },
     "execution_count": 5,
     "metadata": {},
     "output_type": "execute_result"
    },
    {
     "data": {
      "image/png": "[encoded data removed]",
      "text/plain": [
       "<Figure size 288x288 with 1 Axes>"
      ]
     },
     "metadata": {
      "needs_background": "light"
     },
     "output_type": "display_data"
    }
   ],
   "source": [
    "def mol2fp(mol):\n",
    "    fp = AllChem.GetHashedMorganFingerprint(mol, 2, nBits=4096)\n",
    "    ar = np.zeros((1,), dtype=np.int8)\n",
    "    DataStructs.ConvertToNumpyArray(fp, ar)\n",
    "    return ar\n",
    "     \n",
    "fp =mol2fp(Chem.MolFromSmiles(data.loc[1,\"SMILES\"]))\n",
    "plt.matshow(fp.reshape((64,-1)))"
   ]
  },
  {
   "cell_type": "code",
   "execution_count": 6,
   "metadata": {},
   "outputs": [],
   "source": [
    "data[\"FPs\"] = data.Molecule.apply(mol2fp)\n",
    "#data.head(1)"
   ]
  },
  {
   "cell_type": "code",
   "execution_count": null,
   "metadata": {},
   "outputs": [],
   "source": []
  },
  {
   "cell_type": "code",
   "execution_count": 7,
   "metadata": {},
   "outputs": [
    {
     "data": {
      "image/png": "[encoded data removed]",
      "text/plain": [
       "<rdkit.Chem.rdchem.Mol at 0x7fe774e76850>"
      ]
     },
     "execution_count": 7,
     "metadata": {},
     "output_type": "execute_result"
    }
   ],
   "source": [
    "data.at[0, \"Molecule\"]"
   ]
  },
  {
   "cell_type": "markdown",
   "metadata": {},
   "source": [
    "Splitting and converting data to PyTorch tensors\n",
    "\n",
    "PyTorch need to train on pytorch tensors, which are similar to Numpy arrays, but with some extra features such a the ability to be transferred to the GPU memory. But first we’ll devide the dataset into train, validation and test using scikit learn."
   ]
  },
  {
   "cell_type": "code",
   "execution_count": 8,
   "metadata": {},
   "outputs": [
    {
     "name": "stdout",
     "output_type": "stream",
     "text": [
      "(7228, 4096)\n"
     ]
    }
   ],
   "source": [
    "X = np.stack(data.FPs.values)\n",
    "print(X.shape)"
   ]
  },
  {
   "cell_type": "code",
   "execution_count": 9,
   "metadata": {},
   "outputs": [],
   "source": [
    "from sklearn.preprocessing import StandardScaler\n",
    "from sklearn.model_selection import train_test_split\n",
    "\n",
    "y = data.pXC50.values.reshape((-1,1))\n",
    "X_train, X_test, y_train, y_test = train_test_split(X, y,  test_size=0.10, random_state=42)\n",
    "X_train, X_validation, y_train, y_validation = train_test_split(X_train, y_train,  test_size=0.05, random_state=42)\n",
    "#Normalizing output using standard scaling\n",
    "scaler = StandardScaler()\n",
    "y_train = scaler.fit_transform(y_train)\n",
    "y_test = scaler.transform(y_test)\n",
    "y_validation = scaler.transform(y_validation)"
   ]
  },
  {
   "cell_type": "markdown",
   "metadata": {},
   "source": [
    "I’ll remove some the bits with the lowest variance. They can be almost always on, or very seldom used. The VarienceThreshold class from scikit-learn is handy for just that. Just as for the normalization, we’ll compute the variance using the train set only, and use it to remove the same features from all the data sets."
   ]
  },
  {
   "cell_type": "code",
   "execution_count": 10,
   "metadata": {},
   "outputs": [
    {
     "data": {
      "text/plain": [
       "(6179, 221)"
      ]
     },
     "execution_count": 10,
     "metadata": {},
     "output_type": "execute_result"
    }
   ],
   "source": [
    "# We'll remove low variance features\n",
    "from sklearn.feature_selection import VarianceThreshold\n",
    "feature_select = VarianceThreshold(threshold=0.05)\n",
    "X_train = feature_select.fit_transform(X_train)\n",
    "X_validation = feature_select.transform(X_validation)\n",
    "X_test = feature_select.transform(X_test)\n",
    "X_train.shape"
   ]
  },
  {
   "cell_type": "markdown",
   "metadata": {},
   "source": [
    "Seems like most of the bits were seldom used. The threshold is a hyper-parameter of the entire pipeline for the model, and could be tuned. We’l move the datasets to the GPU and convert them to pytorch tensors."
   ]
  },
  {
   "cell_type": "code",
   "execution_count": 11,
   "metadata": {},
   "outputs": [
    {
     "name": "stdout",
     "output_type": "stream",
     "text": [
      "cpu\n"
     ]
    },
    {
     "data": {
      "text/plain": [
       "tensor([[0., 0., 0.,  ..., 0., 0., 1.],\n",
       "        [0., 0., 0.,  ..., 0., 0., 0.],\n",
       "        [0., 0., 0.,  ..., 0., 0., 0.],\n",
       "        ...,\n",
       "        [0., 0., 0.,  ..., 0., 0., 0.],\n",
       "        [0., 0., 0.,  ..., 0., 0., 0.],\n",
       "        [1., 0., 0.,  ..., 0., 0., 0.]])"
      ]
     },
     "execution_count": 11,
     "metadata": {},
     "output_type": "execute_result"
    }
   ],
   "source": [
    "# Let's get those arrays transfered to the GPU memory as tensors\n",
    "device = torch.device(\"cuda:0\" if torch.cuda.is_available() else \"cpu\")\n",
    "print(device)\n",
    "# If you don't have a GPU, buy a graphics card. I have for a long time used a 1060 GTX, which is not that expensive anymore.\n",
    "X_train = torch.tensor(X_train, device=device).float()\n",
    "X_test = torch.tensor(X_test, device=device).float()\n",
    "X_validation = torch.tensor(X_validation, device=device).float()\n",
    "y_train = torch.tensor(y_train, device=device).float()\n",
    "y_test = torch.tensor(y_test, device=device).float()\n",
    "y_validation = torch.tensor(y_validation, device=device).float()\n",
    "X_train"
   ]
  },
  {
   "cell_type": "markdown",
   "metadata": {},
   "source": [
    "Pytorch work with datasets and dataloaders to feed the minibatches to the model during training, so we convert the data. It’s easy to create a dataset from the already created tensors. The batch size is set to 256 and the trainloader will shuffle the data when an epoch has been used."
   ]
  },
  {
   "cell_type": "code",
   "execution_count": 12,
   "metadata": {},
   "outputs": [],
   "source": [
    "from torch.utils.data import TensorDataset\n",
    "train_dataset = TensorDataset(X_train, y_train)\n",
    "validation_dataset = TensorDataset(X_validation, y_validation)\n",
    "\n",
    "train_loader = torch.utils.data.DataLoader(dataset=train_dataset,\n",
    "                                          batch_size=256,\n",
    "                                          shuffle=True)\n",
    "validation_loader = torch.utils.data.DataLoader(dataset=validation_dataset,\n",
    "                                          batch_size=256,\n",
    "                                          shuffle=False)"
   ]
  },
  {
   "cell_type": "markdown",
   "metadata": {},
   "source": [
    "Good, with the training data ready it’s time for the fun part: Defining the network. In PyTorch this can be done by subclassing the nn.Module. The __init__ function will set up all the layers needed in the network, and the forward method will define how they are used in a syntax very similar to the Keras functional api: tensor = layer()(tensor). There’s no activation function for the final output, as this is a regression model, the linear activation is just fine."
   ]
  },
  {
   "cell_type": "code",
   "execution_count": 13,
   "metadata": {},
   "outputs": [],
   "source": [
    "class Net(nn.Module):\n",
    "    def __init__(self, input_size, hidden_size, dropout_rate, out_size):\n",
    "        super(Net, self).__init__()\n",
    "        # Three layers and a output layer\n",
    "        self.fc1 = nn.Linear(input_size, hidden_size)  # 1st Full-Connected Layer\n",
    "        self.fc2 = nn.Linear(hidden_size, hidden_size)\n",
    "        self.fc3 = nn.Linear(hidden_size, hidden_size)\n",
    "        self.fc_out = nn.Linear(hidden_size, out_size) # Output layer\n",
    "        #Layer normalization for faster training\n",
    "        self.ln1 = nn.LayerNorm(hidden_size)\n",
    "        self.ln2 = nn.LayerNorm(hidden_size)\n",
    "        self.ln3 = nn.LayerNorm(hidden_size)        \n",
    "        #LeakyReLU will be used as the activation function\n",
    "        self.activation = nn.LeakyReLU()\n",
    "        #Dropout for regularization\n",
    "        self.dropout = nn.Dropout(dropout_rate)\n",
    "     \n",
    "    def forward(self, x):# Forward pass: stacking each layer together\n",
    "        # Fully connected =&amp;gt; Layer Norm =&amp;gt; LeakyReLU =&amp;gt; Dropout times 3\n",
    "        out = self.fc1(x)\n",
    "        out = self.ln1(out)\n",
    "        out = self.activation(out)\n",
    "        out = self.dropout(out)\n",
    "        out = self.fc2(out)\n",
    "        out = self.ln2(out)\n",
    "        out = self.activation(out)\n",
    "        out = self.dropout(out)\n",
    "        out = self.fc3(out)\n",
    "        out = self.ln3(out)\n",
    "        out = self.activation(out)\n",
    "        out = self.dropout(out)\n",
    "        #Final output layer\n",
    "        out = self.fc_out(out)\n",
    "        return out"
   ]
  },
  {
   "cell_type": "markdown",
   "metadata": {},
   "source": [
    "With the network class defined we can set the hyperparameters and create the model."
   ]
  },
  {
   "cell_type": "code",
   "execution_count": 14,
   "metadata": {},
   "outputs": [],
   "source": [
    "#Defining the hyperparameters\n",
    "input_size = X_train.size()[-1]     # The input size should fit our fingerprint size\n",
    "hidden_size = 1024   # The size of the hidden layer\n",
    "dropout_rate = 0.80    # The dropout rate\n",
    "output_size = 1        # This is just a single task, so this will be one\n",
    "learning_rate = 0.001  # The learning rate for the optimizer\n",
    "model = Net(input_size, hidden_size, dropout_rate, output_size)"
   ]
  },
  {
   "cell_type": "markdown",
   "metadata": {},
   "source": [
    "The model can be moved to the GPU with the .cuda() method inherited from the nn.Module class. I’ve yet to look up how the module discovers the layers that were set as properties."
   ]
  },
  {
   "cell_type": "code",
   "execution_count": 15,
   "metadata": {},
   "outputs": [],
   "source": [
    "#model.cuda()"
   ]
  },
  {
   "cell_type": "markdown",
   "metadata": {},
   "source": [
    "For a loss function I’ll use the mean squared error. Adam is chosen for the optimizer.\n",
    "\n"
   ]
  },
  {
   "cell_type": "code",
   "execution_count": 16,
   "metadata": {},
   "outputs": [],
   "source": [
    "criterion = nn.MSELoss()\n",
    "optimizer = torch.optim.Adam(model.parameters(), lr=learning_rate)"
   ]
  },
  {
   "cell_type": "markdown",
   "metadata": {},
   "source": [
    "Training is a bit more handheld than in Keras. This gives flexibility to train the network layers in different ways, but here we just train it with all the data. For each epoch, the running_loss is zeroed, and the minibatches fetched from the train data in the DataLoader. We start each mini-batch loop by zeroing the gradients. All forward computations done from this point on, will be recorded and used to calculate the backward pass needed for optimzing the weights of the network. At the end of each epoch, some statistics is printed so that it’s possible to follow the training.\n",
    "\n"
   ]
  },
  {
   "cell_type": "code",
   "execution_count": 17,
   "metadata": {},
   "outputs": [
    {
     "name": "stdout",
     "output_type": "stream",
     "text": [
      "Epoch:   0 Training loss: 1.29 Validation loss: 1.02\n",
      "Epoch:  10 Training loss: 0.52 Validation loss: 0.56\n",
      "Epoch:  20 Training loss: 0.45 Validation loss: 0.50\n",
      "Epoch:  30 Training loss: 0.40 Validation loss: 0.46\n",
      "Epoch:  40 Training loss: 0.36 Validation loss: 0.49\n",
      "Epoch:  50 Training loss: 0.34 Validation loss: 0.43\n",
      "Epoch:  60 Training loss: 0.32 Validation loss: 0.46\n",
      "Epoch:  70 Training loss: 0.31 Validation loss: 0.42\n",
      "Epoch:  80 Training loss: 0.29 Validation loss: 0.48\n",
      "Epoch:  90 Training loss: 0.29 Validation loss: 0.42\n",
      "Epoch: 100 Training loss: 0.28 Validation loss: 0.41\n",
      "Epoch: 110 Training loss: 0.27 Validation loss: 0.42\n",
      "Epoch: 120 Training loss: 0.25 Validation loss: 0.44\n",
      "Epoch: 130 Training loss: 0.25 Validation loss: 0.41\n",
      "Epoch: 140 Training loss: 0.25 Validation loss: 0.40\n",
      "Epoch: 150 Training loss: 0.24 Validation loss: 0.40\n",
      "Epoch: 160 Training loss: 0.23 Validation loss: 0.40\n",
      "Epoch: 170 Training loss: 0.23 Validation loss: 0.35\n",
      "Epoch: 180 Training loss: 0.22 Validation loss: 0.36\n",
      "Epoch: 190 Training loss: 0.22 Validation loss: 0.36\n"
     ]
    }
   ],
   "source": [
    "model.train() #Ensure the network is in \"train\" mode with dropouts active\n",
    "epochs = 200\n",
    "for e in range(epochs):\n",
    "    running_loss = 0\n",
    "    for fps, labels in train_loader:\n",
    "        # Training pass\n",
    "        optimizer.zero_grad() # Initialize the gradients, which will be recorded during the forward pa\n",
    "         \n",
    "        output = model(fps) #Forward pass of the mini-batch\n",
    "        loss = criterion(output, labels) #Computing the loss\n",
    "        loss.backward() # calculate the backward pass\n",
    "        optimizer.step() # Optimize the weights\n",
    "         \n",
    "        running_loss += loss.item()\n",
    "    else:\n",
    "        if e%10 == 0:\n",
    "            validation_loss = torch.mean(( y_validation - model(X_validation) )**2).item()\n",
    "            print(\"Epoch: %3i Training loss: %0.2F Validation loss: %0.2F\"%(e,(running_loss/len(train_loader)), validation_loss))"
   ]
  },
  {
   "cell_type": "markdown",
   "metadata": {},
   "source": [
    "Before using the model for prediction, it must be set to evalulation mode, where the dropout layers are no longer active. We can calculate the prediction on the training set, validation set and the external test set.\n",
    "\n"
   ]
  },
  {
   "cell_type": "code",
   "execution_count": 18,
   "metadata": {},
   "outputs": [],
   "source": [
    "model.eval() #Swith to evaluation mode, where dropout is switched off\n",
    "y_pred_train = model(X_train)\n",
    "y_pred_validation = model(X_validation)\n",
    "y_pred_test = model(X_test)"
   ]
  },
  {
   "cell_type": "markdown",
   "metadata": {},
   "source": [
    "Calculating the root mean square error can be done using the pytorch operators. The .item() method converts single element tensors to Python scalers for printing.\n",
    "\n"
   ]
  },
  {
   "cell_type": "code",
   "execution_count": 19,
   "metadata": {},
   "outputs": [
    {
     "data": {
      "text/plain": [
       "0.12750877439975739"
      ]
     },
     "execution_count": 19,
     "metadata": {},
     "output_type": "execute_result"
    }
   ],
   "source": [
    "torch.mean(( y_train - y_pred_train )**2).item()"
   ]
  },
  {
   "cell_type": "code",
   "execution_count": 20,
   "metadata": {},
   "outputs": [
    {
     "data": {
      "text/plain": [
       "0.30579304695129395"
      ]
     },
     "execution_count": 20,
     "metadata": {},
     "output_type": "execute_result"
    }
   ],
   "source": [
    "torch.mean(( y_validation - y_pred_validation )**2).item()"
   ]
  },
  {
   "cell_type": "code",
   "execution_count": 21,
   "metadata": {},
   "outputs": [
    {
     "data": {
      "text/plain": [
       "0.3001353442668915"
      ]
     },
     "execution_count": 21,
     "metadata": {},
     "output_type": "execute_result"
    }
   ],
   "source": [
    "torch.mean(( y_test - y_pred_test )**2).item()"
   ]
  },
  {
   "cell_type": "markdown",
   "metadata": {},
   "source": [
    "The error on the held out test set is actually lower than the validation set, although both are much worse than the train set. This indicates overfitting, even though the dropout rate was set high at 0.8.\n",
    "Finally, lets evaluate the model visually. Before that is possible there seem to be a need to transport the tensor to cpu, detach it from gradient before we can can convert it to numpy and flatten it."
   ]
  },
  {
   "cell_type": "code",
   "execution_count": 22,
   "metadata": {},
   "outputs": [
    {
     "data": {
      "text/plain": [
       "[<matplotlib.lines.Line2D at 0x7fe76ec96e50>]"
      ]
     },
     "execution_count": 22,
     "metadata": {},
     "output_type": "execute_result"
    },
    {
     "data": {
      "image/png": "[encoded data removed]",
      "text/plain": [
       "<Figure size 432x288 with 1 Axes>"
      ]
     },
     "metadata": {
      "needs_background": "light"
     },
     "output_type": "display_data"
    }
   ],
   "source": [
    "def flatten(tensor):\n",
    "    return tensor.cpu().detach().numpy().flatten()\n",
    "\n",
    "plt.scatter(flatten(y_pred_test), flatten(y_test), alpha=0.5, label=\"Test\")\n",
    "plt.scatter(flatten(y_pred_train), flatten(y_train), alpha=0.1, label=\"Train\")\n",
    "plt.legend()\n",
    "plt.plot([-1.5, 1.5], [-1.5,1.5], c=\"b\")"
   ]
  },
  {
   "cell_type": "markdown",
   "metadata": {},
   "source": [
    "If we want to predict an arbitrary molecule, we have to remember to use the VarianceThreshold object on the fingerprints and also reverse scale the prediction from the feed forward neural network. The scikit_learn objects are already fit and can be used here.\n",
    "\n"
   ]
  },
  {
   "cell_type": "code",
   "execution_count": 23,
   "metadata": {},
   "outputs": [
    {
     "data": {
      "text/plain": [
       "8.897687"
      ]
     },
     "execution_count": 23,
     "metadata": {},
     "output_type": "execute_result"
    }
   ],
   "source": [
    "def predict_smiles(smiles):\n",
    "    fp =mol2fp(Chem.MolFromSmiles(smiles)).reshape(1,-1)\n",
    "    fp_filtered = feature_select.transform(fp)\n",
    "    fp_tensor = torch.tensor(fp_filtered, device=device).float()\n",
    "    prediction = model(fp_tensor)\n",
    "    #return prediction.cpu().detach().numpy()\n",
    "    pXC50 = scaler.inverse_transform(prediction.cpu().detach().numpy())\n",
    "    return pXC50[0][0]\n",
    "predict_smiles('Cc1ccc2c(N3CCNCC3)cc(F)cc2n1')"
   ]
  },
  {
   "cell_type": "code",
   "execution_count": null,
   "metadata": {},
   "outputs": [],
   "source": []
  }
 ],
 "metadata": {
  "kernelspec": {
   "display_name": "Python 3",
   "language": "python",
   "name": "python3"
  },
  "language_info": {
   "codemirror_mode": {
    "name": "ipython",
    "version": 3
   },
   "file_extension": ".py",
   "mimetype": "text/x-python",
   "name": "python",
   "nbconvert_exporter": "python",
   "pygments_lexer": "ipython3",
   "version": "3.7.9"
  }
 },
 "nbformat": 4,
 "nbformat_minor": 4
}
