{
 "cells": [
  {
   "cell_type": "code",
   "execution_count": 1,
   "metadata": {},
   "outputs": [],
   "source": [
    "from rdkit import Chem\n",
    "from rdkit.Chem import AllChem"
   ]
  },
  {
   "cell_type": "code",
   "execution_count": 2,
   "metadata": {},
   "outputs": [
    {
     "name": "stdout",
     "output_type": "stream",
     "text": [
      "cyclobutane\n",
      "     RDKit          2D\n",
      "\n",
      "  4  4  0  0  0  0  0  0  0  0999 V2000\n",
      "    1.0607    0.0000    0.0000 C   0  0  0  0  0  0  0  0  0  0  0  0\n",
      "   -0.0000   -1.0607    0.0000 C   0  0  0  0  0  0  0  0  0  0  0  0\n",
      "   -1.0607    0.0000    0.0000 C   0  0  0  0  0  0  0  0  0  0  0  0\n",
      "    0.0000    1.0607    0.0000 C   0  0  0  0  0  0  0  0  0  0  0  0\n",
      "  1  2  1  0\n",
      "  2  3  1  0\n",
      "  3  4  1  0\n",
      "  4  1  1  0\n",
      "M  END\n",
      "\n"
     ]
    }
   ],
   "source": [
    "m2 = Chem.MolFromSmiles('C1CCC1')\n",
    "m2.SetProp(\"_Name\",\"cyclobutane\")\n",
    "print(Chem.MolToMolBlock(m2)) "
   ]
  },
  {
   "cell_type": "code",
   "execution_count": null,
   "metadata": {},
   "outputs": [],
   "source": []
  },
  {
   "cell_type": "code",
   "execution_count": 3,
   "metadata": {},
   "outputs": [
    {
     "name": "stdout",
     "output_type": "stream",
     "text": [
      "cyclobutane\n",
      "     RDKit          3D\n",
      "\n",
      "  4  4  0  0  0  0  0  0  0  0999 V2000\n",
      "   -0.7372   -0.6322   -0.4324 C   0  0  0  0  0  0  0  0  0  0  0  0\n",
      "   -0.4468    0.8555   -0.5229 C   0  0  0  0  0  0  0  0  0  0  0  0\n",
      "    0.8515    0.5725    0.2205 C   0  0  0  0  0  0  0  0  0  0  0  0\n",
      "    0.3326   -0.7959    0.6107 C   0  0  0  0  0  0  0  0  0  0  0  0\n",
      "  1  2  1  0\n",
      "  2  3  1  0\n",
      "  3  4  1  0\n",
      "  4  1  1  0\n",
      "M  END\n",
      "\n"
     ]
    }
   ],
   "source": [
    "AllChem.EmbedMolecule(m2,randomSeed=0xf00d)\n",
    "print(Chem.MolToMolBlock(m2))\n",
    "print(Chem.MolToMolBlock(m2),file=open('m2.mol','w+'))"
   ]
  },
  {
   "cell_type": "code",
   "execution_count": 4,
   "metadata": {},
   "outputs": [
    {
     "name": "stdout",
     "output_type": "stream",
     "text": [
      "cyclobutane\n",
      "     RDKit          3D\n",
      "\n",
      " 12 12  0  0  0  0  0  0  0  0999 V2000\n",
      "    1.0256    0.2491   -0.0964 C   0  0  0  0  0  0  0  0  0  0  0  0\n",
      "   -0.2041    0.9236    0.4320 C   0  0  0  0  0  0  0  0  0  0  0  0\n",
      "   -1.0435   -0.2466   -0.0266 C   0  0  0  0  0  0  0  0  0  0  0  0\n",
      "    0.2104   -0.9922   -0.3417 C   0  0  0  0  0  0  0  0  0  0  0  0\n",
      "    1.4182    0.7667   -0.9782 H   0  0  0  0  0  0  0  0  0  0  0  0\n",
      "    1.8181    0.1486    0.6820 H   0  0  0  0  0  0  0  0  0  0  0  0\n",
      "   -0.1697    1.0826    1.5236 H   0  0  0  0  0  0  0  0  0  0  0  0\n",
      "   -0.5336    1.8391   -0.1051 H   0  0  0  0  0  0  0  0  0  0  0  0\n",
      "   -1.6809   -0.0600   -0.8987 H   0  0  0  0  0  0  0  0  0  0  0  0\n",
      "   -1.6501   -0.6194    0.8220 H   0  0  0  0  0  0  0  0  0  0  0  0\n",
      "    0.4659   -1.7768    0.3858 H   0  0  0  0  0  0  0  0  0  0  0  0\n",
      "    0.3439   -1.3147   -1.3988 H   0  0  0  0  0  0  0  0  0  0  0  0\n",
      "  1  2  1  0\n",
      "  2  3  1  0\n",
      "  3  4  1  0\n",
      "  4  1  1  0\n",
      "  1  5  1  0\n",
      "  1  6  1  0\n",
      "  2  7  1  0\n",
      "  2  8  1  0\n",
      "  3  9  1  0\n",
      "  3 10  1  0\n",
      "  4 11  1  0\n",
      "  4 12  1  0\n",
      "M  END\n",
      "\n"
     ]
    }
   ],
   "source": [
    "m3 = Chem.AddHs(m2)\n",
    "AllChem.EmbedMolecule(m3,randomSeed=0xf00d)\n",
    "print(Chem.MolToMolBlock(m3))\n",
    "print(Chem.MolToMolBlock(m3),file=open('m3.mol','w+'))"
   ]
  },
  {
   "cell_type": "code",
   "execution_count": null,
   "metadata": {},
   "outputs": [],
   "source": []
  },
  {
   "cell_type": "code",
   "execution_count": null,
   "metadata": {},
   "outputs": [],
   "source": []
  }
 ],
 "metadata": {
  "kernelspec": {
   "display_name": "Python 3",
   "language": "python",
   "name": "python3"
  },
  "language_info": {
   "codemirror_mode": {
    "name": "ipython",
    "version": 3
   },
   "file_extension": ".py",
   "mimetype": "text/x-python",
   "name": "python",
   "nbconvert_exporter": "python",
   "pygments_lexer": "ipython3",
   "version": "3.7.9"
  }
 },
 "nbformat": 4,
 "nbformat_minor": 4
}
