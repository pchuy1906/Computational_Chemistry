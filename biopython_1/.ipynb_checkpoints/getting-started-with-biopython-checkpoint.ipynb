{
 "cells": [
  {
   "cell_type": "markdown",
   "metadata": {
    "_cell_guid": "11ecdbc1-79a2-4418-af92-fe137896b08b",
    "_uuid": "4676da22795fc51fc119791933c5a0f12f543517"
   },
   "source": [
    "#Getting Started with Biopython\n",
    "*Myles O'Neill - based on http://biopython.org/DIST/docs/tutorial/Tutorial.html*\n",
    "\n",
    "Biopython is a library we can use to analyze bioinformatic data. Lets have a look at some of the things we can do with it!\n",
    "\n",
    "This script will go through a selection of tutorial excercises from the Biopython cookbook. I've tweaked them a bit to work with the Drosophila dataset we are using. This is an adapation of the tutorial with a bunch of tweaks, overall it should make it easier to get started with this data on Kaggle.\n",
    "\n",
    "First lets import numpy, pandas, and Bio (biopython):"
   ]
  },
  {
   "cell_type": "code",
   "execution_count": 1,
   "metadata": {
    "_cell_guid": "2932d230-b761-4e6c-a398-51544e5f3814",
    "_uuid": "bb2d8a97e300c150cb9a4f52fc269030a7d4018a"
   },
   "outputs": [
    {
     "name": "stdout",
     "output_type": "stream",
     "text": [
      "Biopython v1.78\n"
     ]
    }
   ],
   "source": [
    "import numpy as np # linear algebra\n",
    "import pandas as pd # data processing, CSV file I/O (e.g. pd.read_csv)\n",
    "import Bio\n",
    "print(\"Biopython v\" + Bio.__version__)"
   ]
  },
  {
   "cell_type": "markdown",
   "metadata": {
    "_cell_guid": "a38748bb-8565-4001-ba04-566150920e08",
    "_uuid": "f2b7b25fa3c97dee02664b0900338cba6c1a8bd0"
   },
   "source": [
    "## 2.2  Working with sequences\n",
    "\n",
    "Disputably (of course!), the central object in bioinformatics is the sequence. Thus, we’ll start with a quick introduction to the Biopython mechanisms for dealing with sequences, the Seq object.\n",
    "\n",
    "Most of the time when we think about sequences we have in my mind a string of letters like ‘AGTACACTGGT’. You can create such Seq object with this sequence as follows:\n",
    "\n"
   ]
  },
  {
   "cell_type": "code",
   "execution_count": 2,
   "metadata": {
    "_cell_guid": "d603893c-a141-42aa-9ef4-024293313509",
    "_uuid": "9dfbe77144840de02be1263a325fa5b70846ee15"
   },
   "outputs": [
    {
     "name": "stdout",
     "output_type": "stream",
     "text": [
      "AGTACACTGGT\n"
     ]
    }
   ],
   "source": [
    "from Bio.Seq import Seq\n",
    "my_seq = Seq(\"AGTACACTGGT\")\n",
    "print(my_seq)\n",
    "#my_seq.alphabet"
   ]
  },
  {
   "cell_type": "markdown",
   "metadata": {
    "_cell_guid": "2d024f71-fa7b-4e26-94a4-ff73348bfc04",
    "_uuid": "5455bdb500c6d76459bec51d048abf4f8d8b22aa"
   },
   "source": [
    "What we have here is a sequence object with a generic alphabet - reflecting the fact we have not specified if this is a DNA or protein sequence (okay, a protein with a lot of Alanines, Glycines, Cysteines and Threonines!).\n",
    "\n",
    "In addition to having an alphabet, the Seq object differs from the Python string in the methods it supports. You can’t do this with a plain string:"
   ]
  },
  {
   "cell_type": "code",
   "execution_count": 3,
   "metadata": {
    "_cell_guid": "2919ba52-baed-4582-b93d-10d7e63d44a3",
    "_uuid": "bc3abafbf293ebe413091c25b413798f247c3da1"
   },
   "outputs": [
    {
     "name": "stdout",
     "output_type": "stream",
     "text": [
      "AGTACACTGGT - Sequence\n",
      "TCATGTGACCA - Complement\n",
      "ACCAGTGTACT - Reverse Complement\n"
     ]
    }
   ],
   "source": [
    "print(my_seq + \" - Sequence\")\n",
    "print(my_seq.complement() + \" - Complement\")\n",
    "print(my_seq.reverse_complement() + \" - Reverse Complement\")"
   ]
  },
  {
   "cell_type": "markdown",
   "metadata": {
    "_cell_guid": "0fdac57e-bd5c-4739-9e71-dba0536df21c",
    "_uuid": "33b18ec566344e8da6a438c76ee17c972cbcf34d"
   },
   "source": [
    "The next most important class is the SeqRecord or Sequence Record. This holds a sequence (as a Seq object) with additional annotation including an identifier, name and description. The Bio.SeqIO module for reading and writing sequence file formats works with SeqRecord objects.\n",
    "\n",
    "This covers the basic features and uses of the Biopython sequence class. Now that you’ve got some idea of what it is like to interact with the Biopython libraries, it’s time to delve into the fun, fun world of dealing with biological file formats!"
   ]
  },
  {
   "cell_type": "markdown",
   "metadata": {
    "_cell_guid": "ecc1a0da-0634-4659-9ebd-69a55df12b8b",
    "_uuid": "cd6e1bc3189ea266a7dfc0cb9f4361d4f8cf21b5"
   },
   "source": [
    "## 2.4  Parsing sequence file formats\n",
    "\n",
    "A large part of much bioinformatics work involves dealing with the many types of file formats designed to hold biological data. These files are loaded with interesting biological data, and a special challenge is parsing these files into a format so that you can manipulate them with some kind of programming language. However the task of parsing these files can be frustrated by the fact that the formats can change quite regularly, and that formats may contain small subtleties which can break even the most well designed parsers.\n",
    "\n",
    "For this example, lets grab the first 6 sequences in the genomic data set"
   ]
  },
  {
   "cell_type": "code",
   "execution_count": 4,
   "metadata": {
    "_cell_guid": "b1603b5a-0ec9-4b18-bae8-1bf56836f253",
    "_uuid": "9e44fe0e9eda1a0e6ac6d87846f985d71c88952e"
   },
   "outputs": [
    {
     "ename": "FileNotFoundError",
     "evalue": "[Errno 2] No such file or directory: '../input/genome.fa'",
     "output_type": "error",
     "traceback": [
      "\u001b[0;31m---------------------------------------------------------------------------\u001b[0m",
      "\u001b[0;31mFileNotFoundError\u001b[0m                         Traceback (most recent call last)",
      "\u001b[0;32m<ipython-input-4-b6eef9f4a804>\u001b[0m in \u001b[0;36m<module>\u001b[0;34m\u001b[0m\n\u001b[1;32m      3\u001b[0m \u001b[0msequences\u001b[0m \u001b[0;34m=\u001b[0m \u001b[0;34m[\u001b[0m\u001b[0;34m]\u001b[0m \u001b[0;31m# Here we are setting up an array to save our sequences for the next step\u001b[0m\u001b[0;34m\u001b[0m\u001b[0;34m\u001b[0m\u001b[0m\n\u001b[1;32m      4\u001b[0m \u001b[0;34m\u001b[0m\u001b[0m\n\u001b[0;32m----> 5\u001b[0;31m \u001b[0;32mfor\u001b[0m \u001b[0mseq_record\u001b[0m \u001b[0;32min\u001b[0m \u001b[0mSeqIO\u001b[0m\u001b[0;34m.\u001b[0m\u001b[0mparse\u001b[0m\u001b[0;34m(\u001b[0m\u001b[0;34m\"../input/genome.fa\"\u001b[0m\u001b[0;34m,\u001b[0m \u001b[0;34m\"fasta\"\u001b[0m\u001b[0;34m)\u001b[0m\u001b[0;34m:\u001b[0m\u001b[0;34m\u001b[0m\u001b[0;34m\u001b[0m\u001b[0m\n\u001b[0m\u001b[1;32m      6\u001b[0m     \u001b[0;32mif\u001b[0m \u001b[0;34m(\u001b[0m\u001b[0mcount\u001b[0m \u001b[0;34m<\u001b[0m \u001b[0;36m6\u001b[0m\u001b[0;34m)\u001b[0m\u001b[0;34m:\u001b[0m\u001b[0;34m\u001b[0m\u001b[0;34m\u001b[0m\u001b[0m\n\u001b[1;32m      7\u001b[0m         \u001b[0msequences\u001b[0m\u001b[0;34m.\u001b[0m\u001b[0mappend\u001b[0m\u001b[0;34m(\u001b[0m\u001b[0mseq_record\u001b[0m\u001b[0;34m)\u001b[0m\u001b[0;34m\u001b[0m\u001b[0;34m\u001b[0m\u001b[0m\n",
      "\u001b[0;32m~/anaconda3/envs/my-rdkit-env/lib/python3.7/site-packages/Bio/SeqIO/__init__.py\u001b[0m in \u001b[0;36mparse\u001b[0;34m(handle, format, alphabet)\u001b[0m\n\u001b[1;32m    605\u001b[0m     \u001b[0miterator_generator\u001b[0m \u001b[0;34m=\u001b[0m \u001b[0m_FormatToIterator\u001b[0m\u001b[0;34m.\u001b[0m\u001b[0mget\u001b[0m\u001b[0;34m(\u001b[0m\u001b[0mformat\u001b[0m\u001b[0;34m)\u001b[0m\u001b[0;34m\u001b[0m\u001b[0;34m\u001b[0m\u001b[0m\n\u001b[1;32m    606\u001b[0m     \u001b[0;32mif\u001b[0m \u001b[0miterator_generator\u001b[0m\u001b[0;34m:\u001b[0m\u001b[0;34m\u001b[0m\u001b[0;34m\u001b[0m\u001b[0m\n\u001b[0;32m--> 607\u001b[0;31m         \u001b[0;32mreturn\u001b[0m \u001b[0miterator_generator\u001b[0m\u001b[0;34m(\u001b[0m\u001b[0mhandle\u001b[0m\u001b[0;34m)\u001b[0m\u001b[0;34m\u001b[0m\u001b[0;34m\u001b[0m\u001b[0m\n\u001b[0m\u001b[1;32m    608\u001b[0m     \u001b[0;32mif\u001b[0m \u001b[0mformat\u001b[0m \u001b[0;32min\u001b[0m \u001b[0mAlignIO\u001b[0m\u001b[0;34m.\u001b[0m\u001b[0m_FormatToIterator\u001b[0m\u001b[0;34m:\u001b[0m\u001b[0;34m\u001b[0m\u001b[0;34m\u001b[0m\u001b[0m\n\u001b[1;32m    609\u001b[0m         \u001b[0;31m# Use Bio.AlignIO to read in the alignments\u001b[0m\u001b[0;34m\u001b[0m\u001b[0;34m\u001b[0m\u001b[0;34m\u001b[0m\u001b[0m\n",
      "\u001b[0;32m~/anaconda3/envs/my-rdkit-env/lib/python3.7/site-packages/Bio/SeqIO/FastaIO.py\u001b[0m in \u001b[0;36m__init__\u001b[0;34m(self, source, alphabet, title2ids)\u001b[0m\n\u001b[1;32m    181\u001b[0m             \u001b[0;32mraise\u001b[0m \u001b[0mValueError\u001b[0m\u001b[0;34m(\u001b[0m\u001b[0;34m\"The alphabet argument is no longer supported\"\u001b[0m\u001b[0;34m)\u001b[0m\u001b[0;34m\u001b[0m\u001b[0;34m\u001b[0m\u001b[0m\n\u001b[1;32m    182\u001b[0m         \u001b[0mself\u001b[0m\u001b[0;34m.\u001b[0m\u001b[0mtitle2ids\u001b[0m \u001b[0;34m=\u001b[0m \u001b[0mtitle2ids\u001b[0m\u001b[0;34m\u001b[0m\u001b[0;34m\u001b[0m\u001b[0m\n\u001b[0;32m--> 183\u001b[0;31m         \u001b[0msuper\u001b[0m\u001b[0;34m(\u001b[0m\u001b[0;34m)\u001b[0m\u001b[0;34m.\u001b[0m\u001b[0m__init__\u001b[0m\u001b[0;34m(\u001b[0m\u001b[0msource\u001b[0m\u001b[0;34m,\u001b[0m \u001b[0mmode\u001b[0m\u001b[0;34m=\u001b[0m\u001b[0;34m\"t\"\u001b[0m\u001b[0;34m,\u001b[0m \u001b[0mfmt\u001b[0m\u001b[0;34m=\u001b[0m\u001b[0;34m\"Fasta\"\u001b[0m\u001b[0;34m)\u001b[0m\u001b[0;34m\u001b[0m\u001b[0;34m\u001b[0m\u001b[0m\n\u001b[0m\u001b[1;32m    184\u001b[0m \u001b[0;34m\u001b[0m\u001b[0m\n\u001b[1;32m    185\u001b[0m     \u001b[0;32mdef\u001b[0m \u001b[0mparse\u001b[0m\u001b[0;34m(\u001b[0m\u001b[0mself\u001b[0m\u001b[0;34m,\u001b[0m \u001b[0mhandle\u001b[0m\u001b[0;34m)\u001b[0m\u001b[0;34m:\u001b[0m\u001b[0;34m\u001b[0m\u001b[0;34m\u001b[0m\u001b[0m\n",
      "\u001b[0;32m~/anaconda3/envs/my-rdkit-env/lib/python3.7/site-packages/Bio/SeqIO/Interfaces.py\u001b[0m in \u001b[0;36m__init__\u001b[0;34m(self, source, alphabet, mode, fmt)\u001b[0m\n\u001b[1;32m     45\u001b[0m             \u001b[0;32mraise\u001b[0m \u001b[0mValueError\u001b[0m\u001b[0;34m(\u001b[0m\u001b[0;34m\"The alphabet argument is no longer supported\"\u001b[0m\u001b[0;34m)\u001b[0m\u001b[0;34m\u001b[0m\u001b[0;34m\u001b[0m\u001b[0m\n\u001b[1;32m     46\u001b[0m         \u001b[0;32mtry\u001b[0m\u001b[0;34m:\u001b[0m\u001b[0;34m\u001b[0m\u001b[0;34m\u001b[0m\u001b[0m\n\u001b[0;32m---> 47\u001b[0;31m             \u001b[0mself\u001b[0m\u001b[0;34m.\u001b[0m\u001b[0mstream\u001b[0m \u001b[0;34m=\u001b[0m \u001b[0mopen\u001b[0m\u001b[0;34m(\u001b[0m\u001b[0msource\u001b[0m\u001b[0;34m,\u001b[0m \u001b[0;34m\"r\"\u001b[0m \u001b[0;34m+\u001b[0m \u001b[0mmode\u001b[0m\u001b[0;34m)\u001b[0m\u001b[0;34m\u001b[0m\u001b[0;34m\u001b[0m\u001b[0m\n\u001b[0m\u001b[1;32m     48\u001b[0m             \u001b[0mself\u001b[0m\u001b[0;34m.\u001b[0m\u001b[0mshould_close_stream\u001b[0m \u001b[0;34m=\u001b[0m \u001b[0;32mTrue\u001b[0m\u001b[0;34m\u001b[0m\u001b[0;34m\u001b[0m\u001b[0m\n\u001b[1;32m     49\u001b[0m         \u001b[0;32mexcept\u001b[0m \u001b[0mTypeError\u001b[0m\u001b[0;34m:\u001b[0m  \u001b[0;31m# not a path, assume we received a stream\u001b[0m\u001b[0;34m\u001b[0m\u001b[0;34m\u001b[0m\u001b[0m\n",
      "\u001b[0;31mFileNotFoundError\u001b[0m: [Errno 2] No such file or directory: '../input/genome.fa'"
     ]
    }
   ],
   "source": [
    "from Bio import SeqIO\n",
    "count = 0\n",
    "sequences = [] # Here we are setting up an array to save our sequences for the next step\n",
    "\n",
    "for seq_record in SeqIO.parse(\"../input/genome.fa\", \"fasta\"):\n",
    "    if (count < 6):\n",
    "        sequences.append(seq_record)\n",
    "        print(\"Id: \" + seq_record.id + \" \\t \" + \"Length: \" + str(\"{:,d}\".format(len(seq_record))) )\n",
    "        print(repr(seq_record.seq) + \"\\n\")\n",
    "        count = count + 1"
   ]
  },
  {
   "cell_type": "code",
   "execution_count": null,
   "metadata": {
    "_cell_guid": "53e4d376-a619-4a21-85cf-14f7058aebee",
    "_uuid": "e84c71df58cd6be9640ab7be7c916244286c0894"
   },
   "outputs": [],
   "source": [
    "# Lets set these sequences up for easy access later\n",
    "\n",
    "chr2L = sequences[0].seq\n",
    "chr2R = sequences[1].seq\n",
    "chr3L = sequences[2].seq\n",
    "chr3R = sequences[3].seq\n",
    "chr4 = sequences[4].seq\n",
    "chrM = sequences[5].seq"
   ]
  },
  {
   "cell_type": "markdown",
   "metadata": {
    "_cell_guid": "5129973a-987e-40db-ac37-c848cbd3cb0a",
    "_uuid": "9d0f1c91e9beef513492f121f73d2ff292bbc05d"
   },
   "source": [
    "## 3.2  Sequences act like strings\n",
    "\n",
    "In many ways, we can deal with Seq objects as if they were normal Python strings, for example getting the length, or iterating over the elements:\n",
    "\n",
    "Lets start by printing the length of the first sequence we grabbed before:"
   ]
  },
  {
   "cell_type": "code",
   "execution_count": null,
   "metadata": {
    "_cell_guid": "8f525ccf-a864-41b8-8890-2ca3d572545a",
    "_uuid": "dd8dd8f332ebf64bbe302b1619c74fe9d7e5e669"
   },
   "outputs": [],
   "source": [
    "print(len(chr2L))"
   ]
  },
  {
   "cell_type": "markdown",
   "metadata": {
    "_cell_guid": "259a2c84-86e7-4f77-be1a-fda5231670ae",
    "_uuid": "e383202b68634694467e1a3bf2ecc8cac7b5aa42"
   },
   "source": [
    "You can access elements of the sequence in the same way as for strings:"
   ]
  },
  {
   "cell_type": "code",
   "execution_count": null,
   "metadata": {
    "_cell_guid": "70108e95-fa5d-44fa-8d6a-bc9b607aa5dc",
    "_uuid": "23617a4ff164372eb49a0a2128600f77ae191be0"
   },
   "outputs": [],
   "source": [
    "print(\"First Letter: \" + chr2L[0])\n",
    "print(\"Third Letter: \" + chr2L[2])\n",
    "print(\"Last Letter: \" + chr2L[-1])"
   ]
  },
  {
   "cell_type": "markdown",
   "metadata": {
    "_cell_guid": "ce6ae462-de9e-4c16-aff5-11a1db9356f7",
    "_uuid": "478320069d80394588770fe5573c07991b6e9c6b"
   },
   "source": [
    "The Seq object has a .count() method, just like a string. Note that this means that like a Python string, this gives a non-overlapping count:"
   ]
  },
  {
   "cell_type": "code",
   "execution_count": null,
   "metadata": {
    "_cell_guid": "4f178fc6-cba7-46f0-b558-2a69a2f10335",
    "_uuid": "516b65d1f631f58cdb97845c5cb3d4a00bca4620"
   },
   "outputs": [],
   "source": [
    "print(\"AAAA\".count(\"AA\"))\n",
    "print(Seq(\"AAAA\").count(\"AA\"))"
   ]
  },
  {
   "cell_type": "markdown",
   "metadata": {
    "_cell_guid": "363d8f86-a921-4c77-a9a4-c9e33f44fe4c",
    "_uuid": "7039b8409a180ba742d20cc20a168ae02581c043"
   },
   "source": [
    "For some biological uses, you may actually want an overlapping count (i.e. 3 in this trivial example). When searching for single letters, this makes no difference."
   ]
  },
  {
   "cell_type": "markdown",
   "metadata": {
    "_cell_guid": "888aaf4f-f661-46dd-9fdb-de96e53651c4",
    "_uuid": "11dc0bbab66f5df1bee8007e1f3b59eb8a18126d"
   },
   "source": [
    "Lets count the number of G shown in the sequence"
   ]
  },
  {
   "cell_type": "code",
   "execution_count": null,
   "metadata": {
    "_cell_guid": "0ce1c0b7-1b1e-4aa4-8d51-bef3946e2e94",
    "_uuid": "2c20ac77136e24d87cea38c0425c818f8f658ed7"
   },
   "outputs": [],
   "source": [
    "print(\"Length:\\t\" + str(len(chr2L)))\n",
    "print(\"G Count:\\t\" + str(chr2L.count(\"G\")))"
   ]
  },
  {
   "cell_type": "markdown",
   "metadata": {
    "_cell_guid": "b89d62d4-d80b-489b-84f6-dee5aad6deb9",
    "_uuid": "3d501fd3d85a61dad2b63e76730fd0c5a49a1cac"
   },
   "source": [
    "The GC Content of a DNA sequence is important and relates to how stable the molecule will be. We can calculate it manually like this:"
   ]
  },
  {
   "cell_type": "code",
   "execution_count": null,
   "metadata": {
    "_cell_guid": "09d50139-31a9-4f6d-bb4e-81e5809c250e",
    "_uuid": "ab3cb563a57482245327ffe0c412299aa4664ea2"
   },
   "outputs": [],
   "source": [
    "print(\"GC%:\\t\\t\" + str(100 * float((chr2L.count(\"G\") + chr2L.count(\"C\")) / len(chr2L) ) ))"
   ]
  },
  {
   "cell_type": "markdown",
   "metadata": {
    "_cell_guid": "95d891ca-6390-4999-9fb9-1f1059c604cf",
    "_uuid": "655b41970472a5765193bf712c04fe7a6a2bb0e7"
   },
   "source": [
    "While you could use the above snippet of code to calculate a GC%, note that the Bio.SeqUtils module has several GC functions already built. For example:"
   ]
  },
  {
   "cell_type": "code",
   "execution_count": null,
   "metadata": {
    "_cell_guid": "b139a051-a39e-4545-a063-c4ecf10f34d4",
    "_uuid": "29d7e76756f4f19ea5ea8d97bdb311eb09e541e0"
   },
   "outputs": [],
   "source": [
    "from Bio.SeqUtils import GC\n",
    "print(\"GC% Package:\\t\" + str(GC(chr2L)))"
   ]
  },
  {
   "cell_type": "markdown",
   "metadata": {
    "_cell_guid": "ef0fda8a-cd2f-48d5-a26a-6c6c42b3b9e4",
    "_uuid": "8e37567c75086e8ba1aee7bcc0b2f0b80ecc7b4e"
   },
   "source": [
    "But wait a minute! Why aren't those two numbers the name?\n",
    "\n",
    "The answer lies in the sequence. We only used capital G/C characters, but in the actual sequence there are lowercase g/c characters. In addition, there are also S and s characters which represent an ambiguous G OR C character - but which are being counted for GC content by the package. Lets add those and check again:\n",
    "\n"
   ]
  },
  {
   "cell_type": "code",
   "execution_count": null,
   "metadata": {
    "_cell_guid": "e08fbc39-a3e9-4c2c-928f-48a8c8362f80",
    "_uuid": "af9eee158b20d8e11e8174a9bd8da26b79d2d202"
   },
   "outputs": [],
   "source": [
    "print(\"GgCcSs%:\\t\" + str(100 * float((chr2L.count(\"G\") + chr2L.count(\"g\") + chr2L.count(\"C\") + chr2L.count(\"c\") + chr2L.count(\"S\") + chr2L.count(\"s\") ) / len(chr2L) ) ))\n",
    "print(\"GC% Package:\\t\" + str(GC(chr2L)))"
   ]
  },
  {
   "cell_type": "markdown",
   "metadata": {
    "_cell_guid": "e4503e44-9ec4-4c8f-885c-b5ef2191304f",
    "_uuid": "882f72738495f1d375ef941635304fdcf4adbb28"
   },
   "source": [
    "Much better!"
   ]
  },
  {
   "cell_type": "markdown",
   "metadata": {
    "_cell_guid": "8b34cb8c-7a06-40d4-a90e-4324a48e6d7f",
    "_uuid": "035ff1ffbecfe070bf6020904fc0001721e0d478"
   },
   "source": [
    "## 3.3  Slicing a sequence\n",
    "\n",
    "A more complicated example, let’s get a slice of the sequence:"
   ]
  },
  {
   "cell_type": "code",
   "execution_count": null,
   "metadata": {
    "_cell_guid": "2b506fd7-5a89-4b6f-bbfe-7be0669c2ad6",
    "_uuid": "5dd7ba2574596cf4abdc3f2401706ecfbc062299"
   },
   "outputs": [],
   "source": [
    "print(chr2L[4:12])"
   ]
  },
  {
   "cell_type": "markdown",
   "metadata": {
    "_cell_guid": "c034a869-76bc-4aa3-93ea-530b1e29a97c",
    "_uuid": "89d90ef551c65cc12e2d702a06ad064db2149eb2"
   },
   "source": [
    "When you do a slice the first item is included (i.e. 4 in this case) and the last is excluded (12 in this case)\n",
    "\n",
    "The second thing to notice is that the slice is performed on the sequence data string, but the new object produced is another Seq object which retains the alphabet information from the original Seq object.\n",
    "\n",
    "Also like a Python string, you can do slices with a start, stop and stride (the step size, which defaults to one). For example, we can get the first, second and third codon positions of this DNA sequence:\n",
    "\n",
    "We are using a short subset of chr2L since we don't want to go printing millions of characters"
   ]
  },
  {
   "cell_type": "code",
   "execution_count": null,
   "metadata": {
    "_cell_guid": "06a1bc1e-ddd4-4f8c-8841-dd41cc07fac0",
    "_uuid": "4ed84102d1f6c962ad841421c28ad82b53fe6916"
   },
   "outputs": [],
   "source": [
    "chr2LSHORT = chr2L[0:20]\n",
    "print(\"Short chr2L: \" + chr2LSHORT)\n",
    "\n",
    "print(\"Codon Pos 1: \" + chr2LSHORT[0::3])\n",
    "print(\"Codon Pos 2: \" + chr2LSHORT[1::3])\n",
    "print(\"Codon Pos 3: \" + chr2LSHORT[2::3])"
   ]
  },
  {
   "cell_type": "markdown",
   "metadata": {
    "_cell_guid": "eb936c97-3976-4894-95d3-2793b2b210aa",
    "_uuid": "32a2cc3e7a828dfc36135779211629179b319d06"
   },
   "source": [
    "Another stride trick you might have seen with a Python string is the use of a -1 stride to reverse the string. You can do this with a Seq object too:"
   ]
  },
  {
   "cell_type": "code",
   "execution_count": null,
   "metadata": {
    "_cell_guid": "498df722-ff7c-410d-b673-6bde0ee085d6",
    "_uuid": "39a94d0ceb99ae4ba6c7d38ac89cdf0cd27facb8"
   },
   "outputs": [],
   "source": [
    "print(\"Reversed: \" + chr2LSHORT[::-1])"
   ]
  },
  {
   "cell_type": "markdown",
   "metadata": {
    "_cell_guid": "a34335e0-6ecf-4dfa-8792-637c61e49bce",
    "_uuid": "f4258f8c04a775bd0507ac07cab393934755187f"
   },
   "source": [
    "## 3.5  Concatenating or adding sequences\n",
    "\n",
    "Naturally, you can in principle add any two Seq objects together - just like you can with Python strings to concatenate them. However, you can’t add sequences with incompatible alphabets, such as a protein sequence and a DNA sequence:"
   ]
  },
  {
   "cell_type": "code",
   "execution_count": null,
   "metadata": {
    "_cell_guid": "69b0c0a5-0940-4388-b390-1256edc3866c",
    "_uuid": "72cc739d9f3c14898f4c5f085a65b6a00febc6fa"
   },
   "outputs": [],
   "source": [
    "chr2LSHORT = chr2L[0:20]\n",
    "print(\"Short chr2L: \" + chr2LSHORT)\n",
    "\n",
    "chr2RSHORT = chr2R[0:20]\n",
    "print(\"Short chr2R: \" + chr2RSHORT)\n",
    "\n",
    "concat = chr2LSHORT + chr2RSHORT\n",
    "print(\"Concat: \" + concat)"
   ]
  },
  {
   "cell_type": "markdown",
   "metadata": {
    "_cell_guid": "18155aaf-9507-48c1-9d6b-d3b776817527",
    "_uuid": "984f4def82b4e206b4cab7c595cde6d23bc057f7"
   },
   "source": [
    "If you really want to concat sequences from different alphabets, you’d have to first give both sequences generic alphabets:"
   ]
  },
  {
   "cell_type": "code",
   "execution_count": null,
   "metadata": {
    "_cell_guid": "511a6e90-d712-46cc-8858-4cdb4db2aef3",
    "_uuid": "5f257e4e33316209d50f9b6d4d99c1e7101d3dd9"
   },
   "outputs": [],
   "source": [
    "from Bio.Alphabet import IUPAC\n",
    "protein_seq = Seq(\"EVRNAK\", IUPAC.protein)\n",
    "dna_seq = Seq(\"ACGT\", IUPAC.unambiguous_dna)\n",
    "\n",
    "# This will fail since they have different alphabets\n",
    "# print(protein_seq + dna_seq)\n",
    "\n",
    "# Error: Incompatible alphabets IUPACProtein() and IUPACUnambiguousDNA()\n",
    "\n",
    "# But if we give them the same generic alphabet it works\n",
    "\n",
    "from Bio.Alphabet import generic_alphabet\n",
    "protein_seq.alphabet = generic_alphabet\n",
    "dna_seq.alphabet = generic_alphabet\n",
    "print(protein_seq + dna_seq)"
   ]
  },
  {
   "cell_type": "markdown",
   "metadata": {
    "_cell_guid": "b016faa6-3e78-48d8-b4f2-4c7d001163f2",
    "_uuid": "9e4a86147521e8be5032cb82198a6bb0e1dbba38"
   },
   "source": [
    "You may often have many sequences to add together, which can be done with a for loop like this:"
   ]
  },
  {
   "cell_type": "code",
   "execution_count": null,
   "metadata": {
    "_cell_guid": "4d5e1a33-b7d5-450b-aad4-6be7d130971e",
    "_uuid": "afb34721adb9d814194a2e039b1d352a9d7d60ef"
   },
   "outputs": [],
   "source": [
    "from Bio.Alphabet import generic_dna\n",
    "\n",
    "list_of_seqs = [Seq(\"ACGT\", generic_dna), Seq(\"AACC\", generic_dna), Seq(\"GGTT\", generic_dna)]\n",
    "concatenated = Seq(\"\", generic_dna)\n",
    "for s in list_of_seqs:\n",
    "    concatenated += s\n",
    "print(concatenated)"
   ]
  },
  {
   "cell_type": "markdown",
   "metadata": {
    "_cell_guid": "94d10247-4bee-40df-a7a7-bab06cc79e24",
    "_uuid": "9892a816b05ab14bb0e07e1cacb936054116dcae"
   },
   "source": [
    "Or, a more elegant approach is to the use built in sum function with its optional start value argument (which otherwise defaults to zero):"
   ]
  },
  {
   "cell_type": "code",
   "execution_count": null,
   "metadata": {
    "_cell_guid": "f0e019b7-b7c7-4228-b22a-05f9dedc5ccb",
    "_uuid": "8da89d30ac51aaa08130b60a1142b1f2e6e8458e"
   },
   "outputs": [],
   "source": [
    "list_of_seqs = [Seq(\"ACGT\", generic_dna), Seq(\"AACC\", generic_dna), Seq(\"GGTT\", generic_dna)]\n",
    "print(sum(list_of_seqs, Seq(\"\", generic_dna)))"
   ]
  },
  {
   "cell_type": "markdown",
   "metadata": {
    "_cell_guid": "de1011ae-ca16-4972-abc3-82dbbd32a641",
    "_uuid": "4669b01d3e7306a6fafc19c4133dfefe99b3ca6a"
   },
   "source": [
    "Unlike the Python string, the Biopython Seq does not (currently) have a .join method."
   ]
  },
  {
   "cell_type": "markdown",
   "metadata": {
    "_cell_guid": "0f8452e8-9ace-4e6a-92ea-02b35d8feab8",
    "_uuid": "644d2d7da435c966f672e84e0a817e95c43cbfa0"
   },
   "source": [
    "## 3.6  Changing case"
   ]
  },
  {
   "cell_type": "code",
   "execution_count": null,
   "metadata": {
    "_cell_guid": "4cdd747c-85dc-4223-807b-b1fae295423a",
    "_uuid": "ea93d538f79dfd02cf74e42bb18166e03d9a5951"
   },
   "outputs": [],
   "source": [
    "dna_seq = Seq(\"acgtACGT\", generic_dna)\n",
    "print(\"Original: \" + dna_seq)\n",
    "print(\"Upper: \" + dna_seq.upper())\n",
    "print(\"Lower: \" + dna_seq.lower())"
   ]
  },
  {
   "cell_type": "markdown",
   "metadata": {
    "_cell_guid": "8f50132c-8d9f-47ff-98cc-24e921587a03",
    "_uuid": "0f5b513a36fd01303ccf512d435a386341c41cc8"
   },
   "source": [
    "These are useful for doing case insensitive matching:"
   ]
  },
  {
   "cell_type": "code",
   "execution_count": null,
   "metadata": {
    "_cell_guid": "dea72af3-a650-4668-adc2-4645cdc75dc6",
    "_uuid": "1d25e41538bccc7debed592d01196a04342bf49b"
   },
   "outputs": [],
   "source": [
    "print(\"GTAC\" in dna_seq)\n",
    "print(\"GTAC\" in dna_seq.upper())"
   ]
  },
  {
   "cell_type": "markdown",
   "metadata": {
    "_cell_guid": "421fa369-e00e-49f5-8dd8-497f1a3fe416",
    "_uuid": "c27e4ce009b4fba0af28aad9f0e1677b5cc615e3"
   },
   "source": [
    "## 3.7  Nucleotide sequences and (reverse) complements\n",
    "\n",
    "For nucleotide sequences, you can easily obtain the complement or reverse complement of a Seq object using its built-in methods:\n"
   ]
  },
  {
   "cell_type": "code",
   "execution_count": null,
   "metadata": {
    "_cell_guid": "17caf43b-edb9-4d02-a705-dff03ede276a",
    "_uuid": "ef420db38939013f25226c6b9ba8c35bb3819c73"
   },
   "outputs": [],
   "source": [
    "print(\"Original: \" + chr2LSHORT)\n",
    "print(\"Complement: \" + chr2LSHORT.complement())\n",
    "print(\"Reverse Complement: \" + chr2LSHORT.reverse_complement())"
   ]
  },
  {
   "cell_type": "markdown",
   "metadata": {
    "_cell_guid": "c3c3f6f0-1db9-40c2-bcbf-a1a7a0b802c0",
    "_uuid": "fe5a71d97e77c72ee617f81e49f0bcf7eaf5ade3"
   },
   "source": [
    "In all of these operations, the alphabet property is maintained. This is very useful in case you accidentally end up trying to do something weird like take the (reverse)complement of a protein sequence (which will give an error)"
   ]
  },
  {
   "cell_type": "markdown",
   "metadata": {
    "_cell_guid": "0c689fa0-e383-4ca3-b565-46930fc53c9e",
    "_uuid": "515b741f79cca1f8ac3c7400712bb3f1a0fe4122"
   },
   "source": [
    "## 3.8  Transcription\n",
    "\n",
    "The actual biological transcription process works from the template strand, doing a reverse complement (TCAG → CUGA) to give the mRNA. However, in Biopython and bioinformatics in general, we typically work directly with the coding strand because this means we can get the mRNA sequence just by switching T → U."
   ]
  },
  {
   "cell_type": "code",
   "execution_count": null,
   "metadata": {
    "_cell_guid": "0bfdf64a-2534-4285-b7ea-1e1b995ff6a8",
    "_uuid": "9c0850280aeed58b68bb88e4fecfdff8ce3c79cc"
   },
   "outputs": [],
   "source": [
    "print(\"Coding DNA: \" + chr2LSHORT)\n",
    "template_dna = chr2LSHORT.reverse_complement()\n",
    "print(\"Template DNA: \" + template_dna)"
   ]
  },
  {
   "cell_type": "markdown",
   "metadata": {
    "_cell_guid": "5cc0e69e-91b7-456a-9dbe-c7388f430246",
    "_uuid": "c6ecde92bdb269bdf8538a2b40818f55c2680ada"
   },
   "source": [
    "Biology Note: (remember by convention nucleotide sequences are normally read from the 5’ to 3’ direction)\n",
    "\n",
    "Now let’s transcribe the coding strand into the corresponding mRNA, using the Seq object’s built in transcribe method:\n"
   ]
  },
  {
   "cell_type": "code",
   "execution_count": null,
   "metadata": {
    "_cell_guid": "2b0df5c1-48af-453a-9306-b5de5240c561",
    "_uuid": "449371b2f766a61b4e06b08d226efb02154e371d"
   },
   "outputs": [],
   "source": [
    "messenger_rna = chr2LSHORT.transcribe()\n",
    "print(\"Messenger RNA: \" + messenger_rna)"
   ]
  },
  {
   "cell_type": "markdown",
   "metadata": {
    "_cell_guid": "104767c4-72fc-416d-b301-c5d3a12fd4f0",
    "_uuid": "42de620a79c8f539978a6d2cbe7f55dc8ae4e1fd"
   },
   "source": [
    "As you can see, all this does is switch T → U, and adjust the alphabet."
   ]
  },
  {
   "cell_type": "markdown",
   "metadata": {
    "_cell_guid": "9ed10e61-4627-41ed-903e-41af79464432",
    "_uuid": "84d1cbe22e2ebda8390eae6f7382dec3fbd6f99c"
   },
   "source": [
    "## 3.9  Translation\n",
    "\n",
    "Using a new example, let’s translate this mRNA into the corresponding protein sequence - again taking advantage of one of the Seq object’s biological methods:\n",
    "\n"
   ]
  },
  {
   "cell_type": "code",
   "execution_count": null,
   "metadata": {
    "_cell_guid": "749df605-a812-4d65-a6c0-b871f154bfae",
    "_uuid": "77a36fa6386ad5f65e00eb26d3752659615a892e"
   },
   "outputs": [],
   "source": [
    "from Bio.Alphabet import IUPAC\n",
    "messenger_rna = Seq(\"AUGGCCAUUGUAAUGGGCCGCUGAAAGGGUGCCCGAUAG\", IUPAC.unambiguous_rna)\n",
    "print(\"Messenger RNA: \" + messenger_rna)\n",
    "print(\"Protein Sequence: \" + messenger_rna.translate())"
   ]
  },
  {
   "cell_type": "markdown",
   "metadata": {
    "_cell_guid": "090060e6-3b1d-4048-bda1-a5f3ca6a4e87",
    "_uuid": "0d72627b2e7de10fb2241b5eb354c628857de06e"
   },
   "source": [
    "You can also translate directly from the coding strand DNA sequence:\n"
   ]
  },
  {
   "cell_type": "code",
   "execution_count": null,
   "metadata": {
    "_cell_guid": "408b3ced-989e-452a-ba9f-bca3d1535bff",
    "_uuid": "8e1325e84039614b6556298510c4457d521598a8"
   },
   "outputs": [],
   "source": [
    "coding_dna = Seq(\"ATGGCCATTGTAATGGGCCGCTGAAAGGGTGCCCGATAG\", IUPAC.unambiguous_dna)\n",
    "print(\"Coding DNA: \" + coding_dna)\n",
    "print(\"Protein Sequence: \" + coding_dna.translate())"
   ]
  },
  {
   "cell_type": "markdown",
   "metadata": {
    "_cell_guid": "2a13807a-5c87-4e2f-9c8b-b92aa4d92300",
    "_uuid": "043ef80f8390f1b94dbb76401d867b715cbb4ac0"
   },
   "source": [
    "You should notice in the above protein sequences that in addition to the end stop character, there is an internal stop as well. This was a deliberate choice of example, as it gives an excuse to talk about some optional arguments, including different translation tables (Genetic Codes).\n",
    "\n",
    "The translation tables available in Biopython are based on those from the NCBI (see the next section of this tutorial). By default, translation will use the standard genetic code (NCBI table id 1). Suppose we are dealing with a mitochondrial sequence. We need to tell the translation function to use the relevant genetic code instead:\n",
    "\n",
    "NCBI Tables: http://www.ncbi.nlm.nih.gov/Taxonomy/Utils/wprintgc.cgi"
   ]
  },
  {
   "cell_type": "code",
   "execution_count": null,
   "metadata": {
    "_cell_guid": "efdb0095-eab5-42d0-867b-d6e79baa45e4",
    "_uuid": "278b792da255084d9075751bcf2537b27c9007df"
   },
   "outputs": [],
   "source": [
    "print(\"Vertebrate Mitochondrial Table Result: \" + coding_dna.translate(table=\"Vertebrate Mitochondrial\"))"
   ]
  },
  {
   "cell_type": "markdown",
   "metadata": {
    "_cell_guid": "dcb20cf4-b446-4364-afb3-4b3e023ecee7",
    "_uuid": "8f8e0896dec9299736accf65816fa942634fd175"
   },
   "source": [
    "You can also specify the table using the NCBI table number which is shorter, and often included in the feature annotation of GenBank files:"
   ]
  },
  {
   "cell_type": "code",
   "execution_count": null,
   "metadata": {
    "_cell_guid": "d398034a-d4b4-4a91-a1c0-a09996f3a013",
    "_uuid": "1c3fc0b2dbc11ba4000c3d29d6be26cece72b864"
   },
   "outputs": [],
   "source": [
    "print (\"Table 2 Result: \" + coding_dna.translate(table=2))"
   ]
  },
  {
   "cell_type": "markdown",
   "metadata": {
    "_cell_guid": "471c26b2-4545-46c5-b15b-26533e46e3cf",
    "_uuid": "828828b8814842397175db18959ff3f39b5fb5a5"
   },
   "source": [
    "Now, you may want to translate the nucleotides up to the first in frame stop codon, and then stop (as happens in nature):"
   ]
  },
  {
   "cell_type": "code",
   "execution_count": null,
   "metadata": {
    "_cell_guid": "95f5090f-734b-4d2d-add9-37a2ce20b263",
    "_uuid": "39b3a6179a2f9166ea6855b460e4692238f365d9"
   },
   "outputs": [],
   "source": [
    "print(\"Standard Translation: \" + coding_dna.translate())\n",
    "print(\"Stop as in Biology: \" + coding_dna.translate(to_stop=True))\n",
    "print(\"Table 2 Translation: \" + coding_dna.translate(table=2))\n",
    "print(\"Table 2 Translation with Stop: \" + coding_dna.translate(table=2, to_stop=True))"
   ]
  },
  {
   "cell_type": "markdown",
   "metadata": {
    "_cell_guid": "ba06f769-3065-40d4-bbb8-2ebd7399cb91",
    "_uuid": "609b36f59895df6cdcf560aa5de931b800fe3f2e"
   },
   "source": [
    "Notice that when you use the to_stop argument, the stop codon itself is not translated - and the stop symbol is not included at the end of your protein sequence."
   ]
  },
  {
   "cell_type": "markdown",
   "metadata": {
    "_cell_guid": "014bc1ad-ad3c-4268-bc16-f6fab33f6b8c",
    "_uuid": "8beb69a45ed0900243089926fcfa2f2c9d00a3f2"
   },
   "source": [
    "Now, suppose you have a complete coding sequence CDS, which is to say a nucleotide sequence (e.g. mRNA – after any splicing) which is a whole number of codons (i.e. the length is a multiple of three), commences with a start codon, ends with a stop codon, and has no internal in-frame stop codons. In general, given a complete CDS, the default translate method will do what you want (perhaps with the to_stop option). However, what if your sequence uses a non-standard start codon? This happens a lot in bacteria – for example the gene yaaX in E. coli K12:"
   ]
  },
  {
   "cell_type": "code",
   "execution_count": null,
   "metadata": {
    "_cell_guid": "65282521-7c37-418a-b88c-89dfa2c827f2",
    "_uuid": "165447c451a8fcd50209922be3f6736434e8c581"
   },
   "outputs": [],
   "source": [
    "from Bio.Seq import Seq\n",
    "from Bio.Alphabet import generic_dna\n",
    "gene = Seq(\"GTGAAAAAGATGCAATCTATCGTACTCGCACTTTCCCTGGTTCTGGTCGCTCCCATGGCAGCACAGGCTGCGGAAATTACGTTAGTCCCGTCAGTAAAATTACAGATAGGCGATCGTGATAATCGTGGCTATTACTGGGATGGAGGTCACTGGCGCGACCACGGCTGGTGGAAACAACATTATGAATGGCGAGGCAATCGCTGGCACCTACACGGACCGCCGCCACCGCCGCGCCACCATAAGAAAGCTCCTCATGATCATCACGGCGGTCATGGTCCAGGCAAACATCACCGCTAA\", generic_dna)\n",
    "print(gene)\n",
    "print(\"Bacterial Translation With Stop: \" + gene.translate(table=\"Bacterial\", to_stop=True))"
   ]
  },
  {
   "cell_type": "markdown",
   "metadata": {
    "_cell_guid": "09cb0734-6b6c-465a-8695-1c4a1566db5d",
    "_uuid": "7ff9ce8cb07042d69fb99bedf967f93c8d45ff6c"
   },
   "source": [
    "In the bacterial genetic code GTG is a valid start codon, and while it does normally encode Valine, if used as a start codon it should be translated as methionine. This happens if you tell Biopython your sequence is a complete CDS:"
   ]
  },
  {
   "cell_type": "code",
   "execution_count": null,
   "metadata": {
    "_cell_guid": "299d7910-7893-41ea-a640-6fba48f7e8ac",
    "_uuid": "03e6f350907cd252639eadb82b65a00fa4f88e72"
   },
   "outputs": [],
   "source": [
    "print (\"Bacterial Translation of CDS: \" + gene.translate(table=\"Bacterial\", cds=True))"
   ]
  },
  {
   "cell_type": "markdown",
   "metadata": {
    "_cell_guid": "c4593188-1855-4dac-b3b2-d0f410afe6ce",
    "_uuid": "aeb317c07aa2a917685fc68968374a2f99d37414"
   },
   "source": [
    "In addition to telling Biopython to translate an alternative start codon as methionine, using this option also makes sure your sequence really is a valid CDS (you’ll get an exception if not)."
   ]
  },
  {
   "cell_type": "markdown",
   "metadata": {
    "_cell_guid": "9adbbc0e-69aa-45df-8c1e-3837e4f01339",
    "_uuid": "788a8354210f268d7fec80fbfd5a66fb83be9462"
   },
   "source": [
    "## 3.11  Comparing Seq objects\n",
    "\n",
    "Sequence comparison is actually a very complicated topic, and there is no easy way to decide if two sequences are equal. The basic problem is the meaning of the letters in a sequence are context dependent - the letter “A” could be part of a DNA, RNA or protein sequence. Biopython uses alphabet objects as part of each Seq object to try to capture this information - so comparing two Seq objects could mean considering both the sequence strings and the alphabets.\n",
    "\n",
    "For example, you might argue that the two DNA Seq objects Seq(\"ACGT\", IUPAC.unambiguous_dna) and Seq(\"ACGT\", IUPAC.ambiguous_dna) should be equal, even though they do have different alphabets. Depending on the context this could be important.\n",
    "\n",
    "This gets worse – suppose you think Seq(\"ACGT\", IUPAC.unambiguous_dna) and Seq(\"ACGT\") (i.e. the default generic alphabet) should be equal. Then, logically, Seq(\"ACGT\", IUPAC.protein) and Seq(\"ACGT\") should also be equal. Now, in logic if A=B and B=C, by transitivity we expect A=C. So for logical consistency we’d require Seq(\"ACGT\", IUPAC.unambiguous_dna) and Seq(\"ACGT\", IUPAC.protein) to be equal – which most people would agree is just not right. This transitivity also has implications for using Seq objects as Python dictionary keys.\n",
    "\n",
    "Now, in everyday use, your sequences will probably all have the same alphabet, or at least all be the same type of sequence (all DNA, all RNA, or all protein). What you probably want is to just compare the sequences as strings – which you can do explicitly:"
   ]
  },
  {
   "cell_type": "code",
   "execution_count": null,
   "metadata": {
    "_cell_guid": "c9fcf1c7-ce82-4cf5-8c6a-f2b36338bd58",
    "_uuid": "a61517b22814481932bb0462eb3d06ecfd2b8946"
   },
   "outputs": [],
   "source": [
    "from Bio.Seq import Seq\n",
    "from Bio.Alphabet import IUPAC\n",
    "seq1 = Seq(\"ACGT\", IUPAC.unambiguous_dna)\n",
    "seq2 = Seq(\"ACGT\", IUPAC.ambiguous_dna)\n",
    "print(str(seq1) == str(seq2))\n",
    "print(str(seq1) == str(seq1))"
   ]
  },
  {
   "cell_type": "markdown",
   "metadata": {
    "_cell_guid": "6f48e418-178c-4fbf-acdc-cd63b280e7a8",
    "_uuid": "198ad82be291d60e3f168562f06880c31d5b269b"
   },
   "source": [
    "So, what does Biopython do? Well, as of Biopython 1.65, sequence comparison only looks at the sequence, essentially ignoring the alphabet:"
   ]
  },
  {
   "cell_type": "code",
   "execution_count": null,
   "metadata": {
    "_cell_guid": "1a35fa31-567c-4f02-8e38-75c6427aae93",
    "_uuid": "aa5ef44eb9fd9d21ed773b63a0b4b45c4d273ada"
   },
   "outputs": [],
   "source": [
    "print(seq1 == seq2)\n",
    "print(seq1 == \"ACGT\")"
   ]
  },
  {
   "cell_type": "markdown",
   "metadata": {
    "_cell_guid": "f8513161-aff7-4a1f-aebb-a12d5194aa00",
    "_uuid": "f56cec64059161fcf45fc63de9f632da7af4bf53"
   },
   "source": [
    "Thats all for now, hope this tutorial run through was helpful! You can find lots more info about biopython here: http://biopython.org/DIST/docs/tutorial/Tutorial.html"
   ]
  }
 ],
 "metadata": {
  "_change_revision": 0,
  "_is_fork": false,
  "kernelspec": {
   "display_name": "Python 3",
   "language": "python",
   "name": "python3"
  },
  "language_info": {
   "codemirror_mode": {
    "name": "ipython",
    "version": 3
   },
   "file_extension": ".py",
   "mimetype": "text/x-python",
   "name": "python",
   "nbconvert_exporter": "python",
   "pygments_lexer": "ipython3",
   "version": "3.7.9"
  }
 },
 "nbformat": 4,
 "nbformat_minor": 1
}
