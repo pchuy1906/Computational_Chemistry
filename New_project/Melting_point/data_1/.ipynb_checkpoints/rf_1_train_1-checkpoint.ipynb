{
 "cells": [
  {
   "cell_type": "code",
   "execution_count": 1,
   "metadata": {},
   "outputs": [
    {
     "name": "stdout",
     "output_type": "stream",
     "text": [
      "the number of data point is  (3041, 2)\n"
     ]
    }
   ],
   "source": [
    "import warnings\n",
    "warnings.filterwarnings('ignore')\n",
    "warnings.simplefilter('ignore')\n",
    "\n",
    "\n",
    "import pandas as pd\n",
    "import numpy as np\n",
    "\n",
    "from rdkit import Chem\n",
    "from rdkit.Chem.EState import Fingerprinter\n",
    "from rdkit.Chem import Descriptors\n",
    "from rdkit.Chem.rdmolops import RDKFingerprint\n",
    "\n",
    "file = \"BradleyDoublePlusGoodMeltingPointDataset.xlsx\"\n",
    "data = pd.read_excel(file, usecols = ['smiles','mpC'])\n",
    "\n",
    "print (\"the number of data point is \", data.shape)\n",
    "\n",
    "\n",
    "fp_case = 0\n",
    "fp_len = 128"
   ]
  },
  {
   "cell_type": "code",
   "execution_count": 2,
   "metadata": {},
   "outputs": [
    {
     "name": "stdout",
     "output_type": "stream",
     "text": [
      "THESE SMILES STRINGS ARE NOT CORRECT, REMOVE DATA:\n",
      "c1cccn1\n",
      "N#Cc3cncc3c1cccc2OC(F)(F)Oc12\n",
      "COc1cc(cc(OC)c1OC)/C=C/C(=O)O[C@@H]3C[C@@H]4CN5CCc2c6ccc(OC)cc6nc2[C@H]5C[C@@H]4[C@@H]([C@H]3OC)C(=O)OC\n",
      "c1cncn1\n",
      "c1cccc2nccc12\n",
      "Cc1cc2nnnc2cc1\n",
      "O=C(OC)[C@@]2(C[C@H]4C[C@@](O)(CC)C[N@@](CCc1c3ccccc3nc12)C4)c5cc9c(cc5OC)N(C=O)[C@@H]6[C@]98CCN7CC=C[C@@](CC)([C@@H](OC(C)=O)[C@]6(O)C(=O)OC)[C@H]78\n",
      "[O-][N+](=O)c1ccc2ncnc2c1\n",
      "[O-][N+](=O)c1cnc(C)n1\n",
      "c1cccc2ncnc12\n",
      "Cc2cnc1ccccc12\n",
      "c1cccc2nnnc12\n",
      "n2cnc(NCc1ccccc1)c3ncnc23\n",
      "n1c3ccccc3nc1c2cscn2\n",
      "N[C@@H](Cc1cncn1)C(=O)O\n",
      "Sc1nc2ccccc2n1\n"
     ]
    },
    {
     "name": "stderr",
     "output_type": "stream",
     "text": [
      "RDKit ERROR: [20:19:21] Can't kekulize mol.  Unkekulized atoms: 0 1 2 3 4\n",
      "RDKit ERROR: \n",
      "RDKit ERROR: [20:19:21] Can't kekulize mol.  Unkekulized atoms: 2 3 4 5 6\n",
      "RDKit ERROR: \n",
      "RDKit ERROR: [20:19:21] Can't kekulize mol.  Unkekulized atoms: 24 25 26 27 28 31 32 33 34\n",
      "RDKit ERROR: \n",
      "RDKit ERROR: [20:19:21] Can't kekulize mol.  Unkekulized atoms: 0 1 2 3 4\n",
      "RDKit ERROR: \n",
      "RDKit ERROR: [20:19:21] Can't kekulize mol.  Unkekulized atoms: 0 1 2 3 4 5 6 7 8\n",
      "RDKit ERROR: \n",
      "RDKit ERROR: [20:19:21] Can't kekulize mol.  Unkekulized atoms: 1 2 3 4 5 6 7 8 9\n",
      "RDKit ERROR: \n",
      "RDKit ERROR: [20:19:21] Can't kekulize mol.  Unkekulized atoms: 16 17 18 19 20 21 22 23 24\n",
      "RDKit ERROR: \n",
      "RDKit ERROR: [20:19:21] Can't kekulize mol.  Unkekulized atoms: 3 4 5 6 7 8 9 10 11\n",
      "RDKit ERROR: \n",
      "RDKit ERROR: [20:19:21] Can't kekulize mol.  Unkekulized atoms: 3 4 5 6 8\n",
      "RDKit ERROR: \n",
      "RDKit ERROR: [20:19:21] Can't kekulize mol.  Unkekulized atoms: 0 1 2 3 4 5 6 7 8\n",
      "RDKit ERROR: \n",
      "RDKit ERROR: [20:19:21] Can't kekulize mol.  Unkekulized atoms: 1 2 3 4 5 6 7 8 9\n",
      "RDKit ERROR: \n",
      "RDKit ERROR: [20:19:21] Can't kekulize mol.  Unkekulized atoms: 0 1 2 3 4 5 6 7 8\n",
      "RDKit ERROR: \n",
      "RDKit ERROR: [20:19:21] Can't kekulize mol.  Unkekulized atoms: 0 1 2 3 12 13 14 15 16\n",
      "RDKit ERROR: \n",
      "RDKit ERROR: [20:19:21] Can't kekulize mol.  Unkekulized atoms: 0 1 2 3 4 5 6 7 8\n",
      "RDKit ERROR: \n",
      "RDKit ERROR: [20:19:21] Can't kekulize mol.  Unkekulized atoms: 3 4 5 6 7\n",
      "RDKit ERROR: \n",
      "RDKit ERROR: [20:19:21] Can't kekulize mol.  Unkekulized atoms: 1 2 3 4 5 6 7 8 9\n",
      "RDKit ERROR: \n"
     ]
    }
   ],
   "source": [
    "all_smiles = data['smiles'].values\n",
    "all_y = data['mpC'].values\n",
    "\n",
    "print (\"THESE SMILES STRINGS ARE NOT CORRECT, REMOVE DATA:\")\n",
    "\n",
    "smiles = []\n",
    "y = []\n",
    "for idx in range(len(all_smiles)):\n",
    "    tsmiles = all_smiles[idx]\n",
    "    tmol = Chem.MolFromSmiles(tsmiles, sanitize=False)\n",
    "    problems = Chem.DetectChemistryProblems(tmol)\n",
    "    if (len(problems)>0):\n",
    "        print (tsmiles)\n",
    "    else:\n",
    "        smiles.append(tsmiles)\n",
    "        y.append(all_y[idx])"
   ]
  },
  {
   "cell_type": "code",
   "execution_count": 3,
   "metadata": {},
   "outputs": [],
   "source": [
    "data = pd.DataFrame(list(zip(smiles, y)), columns = ['smiles', 'mpC'])\n",
    "data['Mol'] = data['smiles'].apply(Chem.MolFromSmiles)"
   ]
  },
  {
   "cell_type": "code",
   "execution_count": 4,
   "metadata": {},
   "outputs": [
    {
     "data": {
      "text/html": [
       "<div>\n",
       "<style scoped>\n",
       "    .dataframe tbody tr th:only-of-type {\n",
       "        vertical-align: middle;\n",
       "    }\n",
       "\n",
       "    .dataframe tbody tr th {\n",
       "        vertical-align: top;\n",
       "    }\n",
       "\n",
       "    .dataframe thead th {\n",
       "        text-align: right;\n",
       "    }\n",
       "</style>\n",
       "<table border=\"1\" class=\"dataframe\">\n",
       "  <thead>\n",
       "    <tr style=\"text-align: right;\">\n",
       "      <th></th>\n",
       "      <th>smiles</th>\n",
       "      <th>mpC</th>\n",
       "      <th>Mol</th>\n",
       "    </tr>\n",
       "  </thead>\n",
       "  <tbody>\n",
       "    <tr>\n",
       "      <th>0</th>\n",
       "      <td>C1(CCC1)C</td>\n",
       "      <td>-161.51</td>\n",
       "      <td>&lt;rdkit.Chem.rdchem.Mol object at 0x7f5498177350&gt;</td>\n",
       "    </tr>\n",
       "    <tr>\n",
       "      <th>1</th>\n",
       "      <td>[O-][N+]#N</td>\n",
       "      <td>-90.80</td>\n",
       "      <td>&lt;rdkit.Chem.rdchem.Mol object at 0x7f54999bc170&gt;</td>\n",
       "    </tr>\n",
       "    <tr>\n",
       "      <th>2</th>\n",
       "      <td>FS(F)(=O)=O</td>\n",
       "      <td>-135.80</td>\n",
       "      <td>&lt;rdkit.Chem.rdchem.Mol object at 0x7f54710e5cb0&gt;</td>\n",
       "    </tr>\n",
       "    <tr>\n",
       "      <th>3</th>\n",
       "      <td>CC(C)N(CCC(c1ccccn1)(c2ccccc2)C(N)=O)C(C)C</td>\n",
       "      <td>94.80</td>\n",
       "      <td>&lt;rdkit.Chem.rdchem.Mol object at 0x7f549a9d06c0&gt;</td>\n",
       "    </tr>\n",
       "    <tr>\n",
       "      <th>4</th>\n",
       "      <td>BrBr</td>\n",
       "      <td>-7.20</td>\n",
       "      <td>&lt;rdkit.Chem.rdchem.Mol object at 0x7f549aa38120&gt;</td>\n",
       "    </tr>\n",
       "  </tbody>\n",
       "</table>\n",
       "</div>"
      ],
      "text/plain": [
       "                                       smiles     mpC  \\\n",
       "0                                   C1(CCC1)C -161.51   \n",
       "1                                  [O-][N+]#N  -90.80   \n",
       "2                                 FS(F)(=O)=O -135.80   \n",
       "3  CC(C)N(CCC(c1ccccn1)(c2ccccc2)C(N)=O)C(C)C   94.80   \n",
       "4                                        BrBr   -7.20   \n",
       "\n",
       "                                                Mol  \n",
       "0  <rdkit.Chem.rdchem.Mol object at 0x7f5498177350>  \n",
       "1  <rdkit.Chem.rdchem.Mol object at 0x7f54999bc170>  \n",
       "2  <rdkit.Chem.rdchem.Mol object at 0x7f54710e5cb0>  \n",
       "3  <rdkit.Chem.rdchem.Mol object at 0x7f549a9d06c0>  \n",
       "4  <rdkit.Chem.rdchem.Mol object at 0x7f549aa38120>  "
      ]
     },
     "execution_count": 4,
     "metadata": {},
     "output_type": "execute_result"
    }
   ],
   "source": [
    "data.head()"
   ]
  },
  {
   "cell_type": "code",
   "execution_count": null,
   "metadata": {},
   "outputs": [],
   "source": []
  },
  {
   "cell_type": "code",
   "execution_count": 5,
   "metadata": {},
   "outputs": [],
   "source": [
    "from rdkit.Chem.rdMolDescriptors import *\n",
    "\n",
    "from rdkit.Chem.AtomPairs.Sheridan import GetBPFingerprint\n",
    "from rdkit.Chem.EState.Fingerprinter import FingerprintMol\n",
    "from rdkit.Avalon.pyAvalonTools import GetAvalonFP\n",
    "from rdkit.Chem.AllChem import  GetMorganFingerprintAsBitVect, GetErGFingerprint\n",
    "from rdkit.DataStructs.cDataStructs import ConvertToNumpyArray\n",
    "import rdkit.DataStructs.cDataStructs"
   ]
  },
  {
   "cell_type": "code",
   "execution_count": 6,
   "metadata": {},
   "outputs": [],
   "source": [
    "from sklearn.preprocessing import StandardScaler\n",
    "\n",
    "def generate_fingerprint(mol, fp_case, fp_len):\n",
    "    #print (\"Using the fingerprint:\")\n",
    "    if (fp_case==0):\n",
    "        #print (\"Estate (1995)\")\n",
    "        return FingerprintMol(mol)[0]\n",
    "    elif (fp_case==1):\n",
    "        print (\"Morgan circular\")\n",
    "        return GetMorganFingerprintAsBitVect(mol, 2, fp_len)\n",
    "    elif (fp_case==2):\n",
    "        print (\"Atom pair (1985)\")\n",
    "        return GetHashedAtomPairFingerprintAsBitVect(mol, fp_len)\n",
    "    elif (fp_case==3):\n",
    "        print (\"Topological torsion (1987)\")\n",
    "        return GetHashedTopologicalTorsionFingerprintAsBitVect(mol, fp_len)\n",
    "    elif (fp_case==4):\n",
    "        print (\"Avalon bit based (2006)\")\n",
    "        return GetAvalonFP(mol, fp_len)\n",
    "    elif (fp_case==5):\n",
    "        print (\"Avalon+mol. weight\")\n",
    "        return np.append(GetAvalonFP(mol, fp_len), Descriptors.MolWt(mol))\n",
    "    elif (fp_case==6):\n",
    "        print (\"RDKit fingerprint\")\n",
    "        return RDKFingerprint(mol, fpSize=fp_len)\n",
    "    elif (fp_case==7):\n",
    "        print (\"ErG fingerprint (2006)\")\n",
    "        return GetErGFingerprint(mol)\n",
    "\n",
    "\n",
    "#Scale X to unit variance and zero mean\n",
    "data['Fingerprint'] = data['Mol'].apply(generate_fingerprint, fp_case=fp_case, fp_len=fp_len)\n",
    "\n",
    "#st = StandardScaler()\n",
    "#X = np.array(list(data['Fingerprint']))\n",
    "#X = st.fit_transform(X)\n",
    "X = np.array(list(data['Fingerprint']))"
   ]
  },
  {
   "cell_type": "code",
   "execution_count": 7,
   "metadata": {},
   "outputs": [],
   "source": [
    "from sklearn.model_selection import GridSearchCV\n",
    "from sklearn.kernel_ridge import KernelRidge\n",
    "from sklearn.linear_model import LinearRegression\n",
    "from sklearn.svm import SVR\n",
    "from sklearn.neighbors import KNeighborsRegressor\n",
    "from sklearn.neural_network import MLPRegressor\n",
    "from sklearn.ensemble import GradientBoostingRegressor\n",
    "from sklearn.gaussian_process import GaussianProcessRegressor\n",
    "from sklearn.linear_model import Ridge\n",
    "from sklearn.ensemble import RandomForestRegressor\n"
   ]
  },
  {
   "cell_type": "code",
   "execution_count": 8,
   "metadata": {},
   "outputs": [
    {
     "data": {
      "text/plain": [
       "<Figure size 432x288 with 0 Axes>"
      ]
     },
     "metadata": {},
     "output_type": "display_data"
    },
    {
     "data": {
      "image/png": "[encoded data removed]",
      "text/plain": [
       "<Figure size 576x576 with 1 Axes>"
      ]
     },
     "metadata": {
      "needs_background": "light"
     },
     "output_type": "display_data"
    },
    {
     "name": "stdout",
     "output_type": "stream",
     "text": [
      "\\begin{tabular}{c c c}\n",
      "           name     &      % test err   & .    abs error in CV \\\\ \n",
      "\\hline\n",
      "                 Random_forest & 102.293 & 34.693 \\\\\n",
      "\\end{tabular}\n"
     ]
    }
   ],
   "source": [
    "import matplotlib.pyplot as plt\n",
    "from sklearn.metrics.pairwise import rbf_kernel\n",
    "\n",
    "from sklearn.model_selection import cross_val_score\n",
    "\n",
    "import pickle\n",
    "\n",
    "\n",
    "def make_scatter_plot(y_pred_train, y_pred_test, y_train, y_test, title, figsize, fontsize, fname):    \n",
    "    plt.clf()\n",
    "    f = plt.figure(figsize=figsize)\n",
    "    plt.scatter(y_train,y_pred_train, label = 'Train', c='blue')\n",
    "    plt.title(title,fontsize=fontsize+5)\n",
    "    plt.xlabel('Experimental Melting Temperature (C)', fontsize=fontsize)\n",
    "    plt.ylabel('Predicted Melting Temperature (C)', fontsize=fontsize)\n",
    "    plt.scatter(y_test,y_pred_test,c='lightgreen', label='Test', alpha = 0.8)\n",
    "    plt.legend(loc=4)\n",
    "    plt.xlim(-200,500)\n",
    "    plt.ylim(-200,500)\n",
    "    plt.show()\n",
    "    f.savefig(fname+\".pdf\")\n",
    "\n",
    "from sklearn.model_selection import train_test_split\n",
    "\n",
    "def test_models_and_plot(x, y, model_dict, plots, fp_case, fp_len):\n",
    "    ''' test a bunch of models and print out a sorted list of CV accuracies\n",
    "        inputs: \n",
    "            x: training data features, numpy array or Pandas dataframe\n",
    "            y: training data labels, numpy array or Pandas dataframe\n",
    "            model_dict: a dictionary of the form {name : model()}, where 'name' is a string\n",
    "                        and 'model()' is a scikit-learn model object. \n",
    "    '''\n",
    "\n",
    "    mean_scores = {}\n",
    "    percent_errors = {}\n",
    "    \n",
    "    for (name, model) in model_dict.items():\n",
    "        #print(\"running %s\" % name)\n",
    "        scores = cross_val_score(model, x, y, cv=20, n_jobs=-1, scoring='neg_mean_absolute_error')\n",
    "        scores = -1*scores\n",
    "        mean_score = scores.mean()\n",
    "        mean_scores[name] = mean_score\n",
    "\n",
    "        X_train, X_test, y_train, y_test = train_test_split(x, y, test_size=0.1, random_state=42)\n",
    "        model.fit(X_train, y_train)\n",
    "        # save the model to disk\n",
    "        filename = name + \"_\" + str(fp_case) + \"_\" + str(fp_len) + \".sav\"\n",
    "        pickle.dump(model, open(filename, 'wb'))\n",
    "        \n",
    "        y_pred_train = model.predict(X_train)\n",
    "        y_pred_test  = model.predict(X_test)\n",
    "        percent_error = np.mean( np.abs(y_test -y_pred_test))\n",
    "        percent_errors[name] = percent_error\n",
    "\n",
    "        fulltitle = name+'\\n mean % error: '+str(percent_error)\n",
    "\n",
    "        if plots:\n",
    "            fname = name + \"_\" + str(fp_case) + \"_\" + str(fp_len)\n",
    "            make_scatter_plot(y_pred_train, y_pred_test, y_train, y_test, fulltitle, (8,8), 16, fname)\n",
    "\n",
    "    sorted_names = sorted(percent_errors, key=mean_scores.__getitem__, reverse=False)\n",
    "\n",
    "    print(\"\\\\begin{tabular}{c c c}\")\n",
    "    print(\"           name     &      % test err   & .    abs error in CV \\\\\\\\ \")\n",
    "    print(\"\\\\hline\")\n",
    "    for i in range(len(sorted_names)):\n",
    "        name = sorted_names[i]\n",
    "        print(\"%30s & %5.3f & %5.3f \\\\\\\\\" % (name, percent_errors[name], mean_scores[name]))\n",
    "    print(\"\\\\end{tabular}\")\n",
    "\n",
    "\n",
    "alpha_grid = {'alpha': np.logspace(1e-11,1e-1,8)}\n",
    "\n",
    "model_dict = {\n",
    "            #'Linear_Regression': LinearRegression(),\n",
    "            #'Kernel Ridge Regression': KernelRidge(),\n",
    "            #'Ridge Regression':Ridge(),\n",
    "            #'Gaussian Process Regressor': GaussianProcessRegressor(normalize_y=True),\n",
    "            #'Support Vector Regression': SVR(),\n",
    "            #'KNeighborsRegressor': KNeighborsRegressor(),\n",
    "            #'Gradient_Boosted_Trees': GradientBoostingRegressor(n_estimators=100),\n",
    "            'Random_forest': RandomForestRegressor()\n",
    "            #'Neural_Network': MLPRegressor(alpha=100,max_iter=8000, hidden_layer_sizes=[80,60], early_stopping=False)\n",
    "            }\n",
    "\n",
    "test_models_and_plot(X, y, model_dict, plots=True, fp_case=fp_case, fp_len=fp_len)"
   ]
  },
  {
   "cell_type": "code",
   "execution_count": null,
   "metadata": {},
   "outputs": [],
   "source": []
  },
  {
   "cell_type": "code",
   "execution_count": null,
   "metadata": {},
   "outputs": [],
   "source": []
  }
 ],
 "metadata": {
  "kernelspec": {
   "display_name": "Python [conda env:my-rdkit-env] *",
   "language": "python",
   "name": "conda-env-my-rdkit-env-py"
  },
  "language_info": {
   "codemirror_mode": {
    "name": "ipython",
    "version": 3
   },
   "file_extension": ".py",
   "mimetype": "text/x-python",
   "name": "python",
   "nbconvert_exporter": "python",
   "pygments_lexer": "ipython3",
   "version": "3.7.9"
  }
 },
 "nbformat": 4,
 "nbformat_minor": 4
}
