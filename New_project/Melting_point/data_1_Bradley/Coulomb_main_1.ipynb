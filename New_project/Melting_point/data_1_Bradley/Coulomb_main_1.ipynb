{
 "cells": [
  {
   "cell_type": "code",
   "execution_count": 1,
   "metadata": {},
   "outputs": [
    {
     "name": "stdout",
     "output_type": "stream",
     "text": [
      "the number of data point is  (3041, 2)\n"
     ]
    }
   ],
   "source": [
    "import warnings\n",
    "warnings.filterwarnings('ignore')\n",
    "warnings.simplefilter('ignore')\n",
    "\n",
    "\n",
    "import pandas as pd\n",
    "import numpy as np\n",
    "\n",
    "from rdkit import Chem\n",
    "from rdkit.Chem.EState import Fingerprinter\n",
    "from rdkit.Chem import Descriptors\n",
    "from rdkit.Chem.rdmolops import RDKFingerprint\n",
    "\n",
    "file = \"BradleyDoublePlusGoodMeltingPointDataset.xlsx\"\n",
    "data = pd.read_excel(file, usecols = ['smiles','mpC'])\n",
    "\n",
    "print (\"the number of data point is \", data.shape)\n",
    "\n",
    "\n",
    "fp_case = 8\n",
    "fp_len = 256"
   ]
  },
  {
   "cell_type": "code",
   "execution_count": 2,
   "metadata": {},
   "outputs": [
    {
     "name": "stdout",
     "output_type": "stream",
     "text": [
      "THESE SMILES STRINGS ARE NOT CORRECT, REMOVE DATA:\n",
      "c1cccn1\n",
      "N#Cc3cncc3c1cccc2OC(F)(F)Oc12\n",
      "COc1cc(cc(OC)c1OC)/C=C/C(=O)O[C@@H]3C[C@@H]4CN5CCc2c6ccc(OC)cc6nc2[C@H]5C[C@@H]4[C@@H]([C@H]3OC)C(=O)OC\n",
      "c1cncn1\n",
      "c1cccc2nccc12\n",
      "Cc1cc2nnnc2cc1\n",
      "O=C(OC)[C@@]2(C[C@H]4C[C@@](O)(CC)C[N@@](CCc1c3ccccc3nc12)C4)c5cc9c(cc5OC)N(C=O)[C@@H]6[C@]98CCN7CC=C[C@@](CC)([C@@H](OC(C)=O)[C@]6(O)C(=O)OC)[C@H]78\n",
      "[O-][N+](=O)c1ccc2ncnc2c1\n",
      "[O-][N+](=O)c1cnc(C)n1\n",
      "c1cccc2ncnc12\n",
      "Cc2cnc1ccccc12\n",
      "c1cccc2nnnc12\n",
      "n2cnc(NCc1ccccc1)c3ncnc23\n",
      "n1c3ccccc3nc1c2cscn2\n",
      "N[C@@H](Cc1cncn1)C(=O)O\n",
      "Sc1nc2ccccc2n1\n"
     ]
    },
    {
     "name": "stderr",
     "output_type": "stream",
     "text": [
      "RDKit ERROR: [16:57:10] Can't kekulize mol.  Unkekulized atoms: 0 1 2 3 4\n",
      "RDKit ERROR: \n",
      "RDKit ERROR: [16:57:10] Can't kekulize mol.  Unkekulized atoms: 2 3 4 5 6\n",
      "RDKit ERROR: \n",
      "RDKit ERROR: [16:57:10] Can't kekulize mol.  Unkekulized atoms: 24 25 26 27 28 31 32 33 34\n",
      "RDKit ERROR: \n",
      "RDKit ERROR: [16:57:10] Can't kekulize mol.  Unkekulized atoms: 0 1 2 3 4\n",
      "RDKit ERROR: \n",
      "RDKit ERROR: [16:57:10] Can't kekulize mol.  Unkekulized atoms: 0 1 2 3 4 5 6 7 8\n",
      "RDKit ERROR: \n",
      "RDKit ERROR: [16:57:10] Can't kekulize mol.  Unkekulized atoms: 1 2 3 4 5 6 7 8 9\n",
      "RDKit ERROR: \n",
      "RDKit ERROR: [16:57:10] Can't kekulize mol.  Unkekulized atoms: 16 17 18 19 20 21 22 23 24\n",
      "RDKit ERROR: \n",
      "RDKit ERROR: [16:57:10] Can't kekulize mol.  Unkekulized atoms: 3 4 5 6 7 8 9 10 11\n",
      "RDKit ERROR: \n",
      "RDKit ERROR: [16:57:10] Can't kekulize mol.  Unkekulized atoms: 3 4 5 6 8\n",
      "RDKit ERROR: \n",
      "RDKit ERROR: [16:57:10] Can't kekulize mol.  Unkekulized atoms: 0 1 2 3 4 5 6 7 8\n",
      "RDKit ERROR: \n",
      "RDKit ERROR: [16:57:10] Can't kekulize mol.  Unkekulized atoms: 1 2 3 4 5 6 7 8 9\n",
      "RDKit ERROR: \n",
      "RDKit ERROR: [16:57:10] Can't kekulize mol.  Unkekulized atoms: 0 1 2 3 4 5 6 7 8\n",
      "RDKit ERROR: \n",
      "RDKit ERROR: [16:57:10] Can't kekulize mol.  Unkekulized atoms: 0 1 2 3 12 13 14 15 16\n",
      "RDKit ERROR: \n",
      "RDKit ERROR: [16:57:10] Can't kekulize mol.  Unkekulized atoms: 0 1 2 3 4 5 6 7 8\n",
      "RDKit ERROR: \n",
      "RDKit ERROR: [16:57:10] Can't kekulize mol.  Unkekulized atoms: 3 4 5 6 7\n",
      "RDKit ERROR: \n",
      "RDKit ERROR: [16:57:10] Can't kekulize mol.  Unkekulized atoms: 1 2 3 4 5 6 7 8 9\n",
      "RDKit ERROR: \n"
     ]
    }
   ],
   "source": [
    "all_smiles = data['smiles'].values\n",
    "all_y = data['mpC'].values\n",
    "\n",
    "print (\"THESE SMILES STRINGS ARE NOT CORRECT, REMOVE DATA:\")\n",
    "\n",
    "smiles = []\n",
    "y = []\n",
    "for idx in range(len(all_smiles)):\n",
    "    tsmiles = all_smiles[idx]\n",
    "    tmol = Chem.MolFromSmiles(tsmiles, sanitize=False)\n",
    "    problems = Chem.DetectChemistryProblems(tmol)\n",
    "    if (len(problems)>0):\n",
    "        print (tsmiles)\n",
    "    else:\n",
    "        smiles.append(tsmiles)\n",
    "        y.append(all_y[idx])"
   ]
  },
  {
   "cell_type": "code",
   "execution_count": 3,
   "metadata": {},
   "outputs": [],
   "source": [
    "data = pd.DataFrame(list(zip(smiles, y)), columns = ['smiles', 'mpC'])\n",
    "data['Mol'] = data['smiles'].apply(Chem.MolFromSmiles)"
   ]
  },
  {
   "cell_type": "code",
   "execution_count": 4,
   "metadata": {},
   "outputs": [
    {
     "data": {
      "text/html": [
       "<div>\n",
       "<style scoped>\n",
       "    .dataframe tbody tr th:only-of-type {\n",
       "        vertical-align: middle;\n",
       "    }\n",
       "\n",
       "    .dataframe tbody tr th {\n",
       "        vertical-align: top;\n",
       "    }\n",
       "\n",
       "    .dataframe thead th {\n",
       "        text-align: right;\n",
       "    }\n",
       "</style>\n",
       "<table border=\"1\" class=\"dataframe\">\n",
       "  <thead>\n",
       "    <tr style=\"text-align: right;\">\n",
       "      <th></th>\n",
       "      <th>smiles</th>\n",
       "      <th>mpC</th>\n",
       "      <th>Mol</th>\n",
       "    </tr>\n",
       "  </thead>\n",
       "  <tbody>\n",
       "    <tr>\n",
       "      <th>0</th>\n",
       "      <td>C1(CCC1)C</td>\n",
       "      <td>-161.51</td>\n",
       "      <td>&lt;rdkit.Chem.rdchem.Mol object at 0x7f1b34c30990&gt;</td>\n",
       "    </tr>\n",
       "    <tr>\n",
       "      <th>1</th>\n",
       "      <td>[O-][N+]#N</td>\n",
       "      <td>-90.80</td>\n",
       "      <td>&lt;rdkit.Chem.rdchem.Mol object at 0x7f1b34e41b70&gt;</td>\n",
       "    </tr>\n",
       "    <tr>\n",
       "      <th>2</th>\n",
       "      <td>FS(F)(=O)=O</td>\n",
       "      <td>-135.80</td>\n",
       "      <td>&lt;rdkit.Chem.rdchem.Mol object at 0x7f1b34e41850&gt;</td>\n",
       "    </tr>\n",
       "    <tr>\n",
       "      <th>3</th>\n",
       "      <td>CC(C)N(CCC(c1ccccn1)(c2ccccc2)C(N)=O)C(C)C</td>\n",
       "      <td>94.80</td>\n",
       "      <td>&lt;rdkit.Chem.rdchem.Mol object at 0x7f1b628bbd50&gt;</td>\n",
       "    </tr>\n",
       "    <tr>\n",
       "      <th>4</th>\n",
       "      <td>BrBr</td>\n",
       "      <td>-7.20</td>\n",
       "      <td>&lt;rdkit.Chem.rdchem.Mol object at 0x7f1b628bbb20&gt;</td>\n",
       "    </tr>\n",
       "  </tbody>\n",
       "</table>\n",
       "</div>"
      ],
      "text/plain": [
       "                                       smiles     mpC  \\\n",
       "0                                   C1(CCC1)C -161.51   \n",
       "1                                  [O-][N+]#N  -90.80   \n",
       "2                                 FS(F)(=O)=O -135.80   \n",
       "3  CC(C)N(CCC(c1ccccn1)(c2ccccc2)C(N)=O)C(C)C   94.80   \n",
       "4                                        BrBr   -7.20   \n",
       "\n",
       "                                                Mol  \n",
       "0  <rdkit.Chem.rdchem.Mol object at 0x7f1b34c30990>  \n",
       "1  <rdkit.Chem.rdchem.Mol object at 0x7f1b34e41b70>  \n",
       "2  <rdkit.Chem.rdchem.Mol object at 0x7f1b34e41850>  \n",
       "3  <rdkit.Chem.rdchem.Mol object at 0x7f1b628bbd50>  \n",
       "4  <rdkit.Chem.rdchem.Mol object at 0x7f1b628bbb20>  "
      ]
     },
     "execution_count": 4,
     "metadata": {},
     "output_type": "execute_result"
    }
   ],
   "source": [
    "data.head()"
   ]
  },
  {
   "cell_type": "code",
   "execution_count": null,
   "metadata": {},
   "outputs": [],
   "source": []
  },
  {
   "cell_type": "code",
   "execution_count": 5,
   "metadata": {},
   "outputs": [],
   "source": [
    "from rdkit.Chem.rdMolDescriptors import *\n",
    "\n",
    "from rdkit.Chem.AtomPairs.Sheridan import GetBPFingerprint\n",
    "from rdkit.Chem.EState.Fingerprinter import FingerprintMol\n",
    "from rdkit.Avalon.pyAvalonTools import GetAvalonFP\n",
    "from rdkit.Chem.AllChem import  GetMorganFingerprintAsBitVect, GetErGFingerprint\n",
    "from rdkit.DataStructs.cDataStructs import ConvertToNumpyArray\n",
    "import rdkit.DataStructs.cDataStructs\n",
    "\n",
    "from rdkit.Chem import AllChem\n",
    "from rdkit.Chem.rdMolDescriptors import CalcCoulombMat"
   ]
  },
  {
   "cell_type": "code",
   "execution_count": 6,
   "metadata": {},
   "outputs": [],
   "source": [
    "from rdkit.Chem import rdqueries\n",
    "def element_count(mol, Zelement):\n",
    "    q = rdqueries.AtomNumEqualsQueryAtom(Zelement)\n",
    "    return len(mol.GetAtomsMatchingQuery(q))"
   ]
  },
  {
   "cell_type": "code",
   "execution_count": 16,
   "metadata": {},
   "outputs": [
    {
     "name": "stderr",
     "output_type": "stream",
     "text": [
      "RDKit ERROR: [17:00:17] \n",
      "RDKit ERROR: \n",
      "RDKit ERROR: ****\n",
      "RDKit ERROR: Pre-condition Violation\n",
      "RDKit ERROR: molecule has no conformers\n",
      "RDKit ERROR: Violation occurred on line 39 in file /opt/conda/conda-bld/rdkit_1603173682698/work/Code/GraphMol/Descriptors/CoulombMat.cpp\n",
      "RDKit ERROR: Failed Expression: mol.getNumConformers() >= 1\n",
      "RDKit ERROR: ****\n",
      "RDKit ERROR: \n",
      "RDKit ERROR: [20:08:37] \n",
      "RDKit ERROR: \n",
      "RDKit ERROR: ****\n",
      "RDKit ERROR: Pre-condition Violation\n",
      "RDKit ERROR: molecule has no conformers\n",
      "RDKit ERROR: Violation occurred on line 39 in file /opt/conda/conda-bld/rdkit_1603173682698/work/Code/GraphMol/Descriptors/CoulombMat.cpp\n",
      "RDKit ERROR: Failed Expression: mol.getNumConformers() >= 1\n",
      "RDKit ERROR: ****\n",
      "RDKit ERROR: \n",
      "RDKit ERROR: [20:17:35] UFFTYPER: Unrecognized charge state for atom: 0\n",
      "RDKit ERROR: [20:17:35] UFFTYPER: Unrecognized charge state for atom: 0\n"
     ]
    },
    {
     "ename": "ValueError",
     "evalue": "Bad Conformer Id",
     "output_type": "error",
     "traceback": [
      "\u001b[0;31m---------------------------------------------------------------------------\u001b[0m",
      "\u001b[0;31mValueError\u001b[0m                                Traceback (most recent call last)",
      "\u001b[0;32m<ipython-input-16-3ead2861742d>\u001b[0m in \u001b[0;36m<module>\u001b[0;34m\u001b[0m\n\u001b[1;32m     43\u001b[0m \u001b[0;34m\u001b[0m\u001b[0m\n\u001b[1;32m     44\u001b[0m \u001b[0;31m#Scale X to unit variance and zero mean\u001b[0m\u001b[0;34m\u001b[0m\u001b[0;34m\u001b[0m\u001b[0;34m\u001b[0m\u001b[0m\n\u001b[0;32m---> 45\u001b[0;31m \u001b[0mdata\u001b[0m\u001b[0;34m[\u001b[0m\u001b[0;34m'Fingerprint'\u001b[0m\u001b[0;34m]\u001b[0m \u001b[0;34m=\u001b[0m \u001b[0mdata\u001b[0m\u001b[0;34m[\u001b[0m\u001b[0;34m'Mol'\u001b[0m\u001b[0;34m]\u001b[0m\u001b[0;34m.\u001b[0m\u001b[0mapply\u001b[0m\u001b[0;34m(\u001b[0m\u001b[0mgenerate_fingerprint\u001b[0m\u001b[0;34m,\u001b[0m \u001b[0mfp_case\u001b[0m\u001b[0;34m=\u001b[0m\u001b[0mfp_case\u001b[0m\u001b[0;34m,\u001b[0m \u001b[0mfp_len\u001b[0m\u001b[0;34m=\u001b[0m\u001b[0mfp_len\u001b[0m\u001b[0;34m)\u001b[0m\u001b[0;34m\u001b[0m\u001b[0;34m\u001b[0m\u001b[0m\n\u001b[0m\u001b[1;32m     46\u001b[0m \u001b[0;34m\u001b[0m\u001b[0m\n\u001b[1;32m     47\u001b[0m \u001b[0mfp_element_count\u001b[0m \u001b[0;34m=\u001b[0m \u001b[0;32mFalse\u001b[0m\u001b[0;34m\u001b[0m\u001b[0;34m\u001b[0m\u001b[0m\n",
      "\u001b[0;32m~/anaconda3/envs/my-rdkit-env/lib/python3.7/site-packages/pandas/core/series.py\u001b[0m in \u001b[0;36mapply\u001b[0;34m(self, func, convert_dtype, args, **kwds)\u001b[0m\n\u001b[1;32m   4106\u001b[0m             \u001b[0;32melse\u001b[0m\u001b[0;34m:\u001b[0m\u001b[0;34m\u001b[0m\u001b[0;34m\u001b[0m\u001b[0m\n\u001b[1;32m   4107\u001b[0m                 \u001b[0mvalues\u001b[0m \u001b[0;34m=\u001b[0m \u001b[0mself\u001b[0m\u001b[0;34m.\u001b[0m\u001b[0mastype\u001b[0m\u001b[0;34m(\u001b[0m\u001b[0mobject\u001b[0m\u001b[0;34m)\u001b[0m\u001b[0;34m.\u001b[0m\u001b[0m_values\u001b[0m\u001b[0;34m\u001b[0m\u001b[0;34m\u001b[0m\u001b[0m\n\u001b[0;32m-> 4108\u001b[0;31m                 \u001b[0mmapped\u001b[0m \u001b[0;34m=\u001b[0m \u001b[0mlib\u001b[0m\u001b[0;34m.\u001b[0m\u001b[0mmap_infer\u001b[0m\u001b[0;34m(\u001b[0m\u001b[0mvalues\u001b[0m\u001b[0;34m,\u001b[0m \u001b[0mf\u001b[0m\u001b[0;34m,\u001b[0m \u001b[0mconvert\u001b[0m\u001b[0;34m=\u001b[0m\u001b[0mconvert_dtype\u001b[0m\u001b[0;34m)\u001b[0m\u001b[0;34m\u001b[0m\u001b[0;34m\u001b[0m\u001b[0m\n\u001b[0m\u001b[1;32m   4109\u001b[0m \u001b[0;34m\u001b[0m\u001b[0m\n\u001b[1;32m   4110\u001b[0m         \u001b[0;32mif\u001b[0m \u001b[0mlen\u001b[0m\u001b[0;34m(\u001b[0m\u001b[0mmapped\u001b[0m\u001b[0;34m)\u001b[0m \u001b[0;32mand\u001b[0m \u001b[0misinstance\u001b[0m\u001b[0;34m(\u001b[0m\u001b[0mmapped\u001b[0m\u001b[0;34m[\u001b[0m\u001b[0;36m0\u001b[0m\u001b[0;34m]\u001b[0m\u001b[0;34m,\u001b[0m \u001b[0mSeries\u001b[0m\u001b[0;34m)\u001b[0m\u001b[0;34m:\u001b[0m\u001b[0;34m\u001b[0m\u001b[0;34m\u001b[0m\u001b[0m\n",
      "\u001b[0;32mpandas/_libs/lib.pyx\u001b[0m in \u001b[0;36mpandas._libs.lib.map_infer\u001b[0;34m()\u001b[0m\n",
      "\u001b[0;32m~/anaconda3/envs/my-rdkit-env/lib/python3.7/site-packages/pandas/core/series.py\u001b[0m in \u001b[0;36mf\u001b[0;34m(x)\u001b[0m\n\u001b[1;32m   4091\u001b[0m \u001b[0;34m\u001b[0m\u001b[0m\n\u001b[1;32m   4092\u001b[0m             \u001b[0;32mdef\u001b[0m \u001b[0mf\u001b[0m\u001b[0;34m(\u001b[0m\u001b[0mx\u001b[0m\u001b[0;34m)\u001b[0m\u001b[0;34m:\u001b[0m\u001b[0;34m\u001b[0m\u001b[0;34m\u001b[0m\u001b[0m\n\u001b[0;32m-> 4093\u001b[0;31m                 \u001b[0;32mreturn\u001b[0m \u001b[0mfunc\u001b[0m\u001b[0;34m(\u001b[0m\u001b[0mx\u001b[0m\u001b[0;34m,\u001b[0m \u001b[0;34m*\u001b[0m\u001b[0margs\u001b[0m\u001b[0;34m,\u001b[0m \u001b[0;34m**\u001b[0m\u001b[0mkwds\u001b[0m\u001b[0;34m)\u001b[0m\u001b[0;34m\u001b[0m\u001b[0;34m\u001b[0m\u001b[0m\n\u001b[0m\u001b[1;32m   4094\u001b[0m \u001b[0;34m\u001b[0m\u001b[0m\n\u001b[1;32m   4095\u001b[0m         \u001b[0;32melse\u001b[0m\u001b[0;34m:\u001b[0m\u001b[0;34m\u001b[0m\u001b[0;34m\u001b[0m\u001b[0m\n",
      "\u001b[0;32m<ipython-input-16-3ead2861742d>\u001b[0m in \u001b[0;36mgenerate_fingerprint\u001b[0;34m(mol, fp_case, fp_len)\u001b[0m\n\u001b[1;32m     39\u001b[0m     \u001b[0;32melif\u001b[0m \u001b[0;34m(\u001b[0m\u001b[0mfp_case\u001b[0m\u001b[0;34m==\u001b[0m\u001b[0;36m8\u001b[0m\u001b[0;34m)\u001b[0m\u001b[0;34m:\u001b[0m\u001b[0;34m\u001b[0m\u001b[0;34m\u001b[0m\u001b[0m\n\u001b[1;32m     40\u001b[0m         \u001b[0;31m#print (\"Coulomb Matrix\")\u001b[0m\u001b[0;34m\u001b[0m\u001b[0;34m\u001b[0m\u001b[0;34m\u001b[0m\u001b[0m\n\u001b[0;32m---> 41\u001b[0;31m         \u001b[0;32mreturn\u001b[0m \u001b[0meig_Coulomb_matrix\u001b[0m\u001b[0;34m(\u001b[0m\u001b[0mmol\u001b[0m\u001b[0;34m,\u001b[0m \u001b[0mlen_max\u001b[0m\u001b[0;34m=\u001b[0m\u001b[0mfp_len\u001b[0m\u001b[0;34m)\u001b[0m\u001b[0;34m\u001b[0m\u001b[0;34m\u001b[0m\u001b[0m\n\u001b[0m\u001b[1;32m     42\u001b[0m \u001b[0;34m\u001b[0m\u001b[0m\n\u001b[1;32m     43\u001b[0m \u001b[0;34m\u001b[0m\u001b[0m\n",
      "\u001b[0;32m<ipython-input-16-3ead2861742d>\u001b[0m in \u001b[0;36meig_Coulomb_matrix\u001b[0;34m(caffeine, len_max)\u001b[0m\n\u001b[1;32m      4\u001b[0m     \u001b[0mcaffeine\u001b[0m \u001b[0;34m=\u001b[0m \u001b[0mChem\u001b[0m\u001b[0;34m.\u001b[0m\u001b[0mAddHs\u001b[0m\u001b[0;34m(\u001b[0m\u001b[0mcaffeine\u001b[0m\u001b[0;34m)\u001b[0m\u001b[0;34m\u001b[0m\u001b[0;34m\u001b[0m\u001b[0m\n\u001b[1;32m      5\u001b[0m     \u001b[0mAllChem\u001b[0m\u001b[0;34m.\u001b[0m\u001b[0mEmbedMolecule\u001b[0m\u001b[0;34m(\u001b[0m\u001b[0mcaffeine\u001b[0m\u001b[0;34m)\u001b[0m\u001b[0;34m\u001b[0m\u001b[0;34m\u001b[0m\u001b[0m\n\u001b[0;32m----> 6\u001b[0;31m     \u001b[0mAllChem\u001b[0m\u001b[0;34m.\u001b[0m\u001b[0mUFFOptimizeMolecule\u001b[0m\u001b[0;34m(\u001b[0m\u001b[0mcaffeine\u001b[0m\u001b[0;34m)\u001b[0m\u001b[0;34m\u001b[0m\u001b[0;34m\u001b[0m\u001b[0m\n\u001b[0m\u001b[1;32m      7\u001b[0m     \u001b[0mCM\u001b[0m \u001b[0;34m=\u001b[0m \u001b[0mCalcCoulombMat\u001b[0m\u001b[0;34m(\u001b[0m\u001b[0mcaffeine\u001b[0m\u001b[0;34m)\u001b[0m\u001b[0;34m\u001b[0m\u001b[0;34m\u001b[0m\u001b[0m\n\u001b[1;32m      8\u001b[0m     \u001b[0ml\u001b[0m\u001b[0;34m,\u001b[0m\u001b[0m_\u001b[0m \u001b[0;34m=\u001b[0m \u001b[0mnp\u001b[0m\u001b[0;34m.\u001b[0m\u001b[0mlinalg\u001b[0m\u001b[0;34m.\u001b[0m\u001b[0meig\u001b[0m\u001b[0;34m(\u001b[0m\u001b[0mnp\u001b[0m\u001b[0;34m.\u001b[0m\u001b[0marray\u001b[0m\u001b[0;34m(\u001b[0m\u001b[0mCM\u001b[0m\u001b[0;34m)\u001b[0m\u001b[0;34m)\u001b[0m\u001b[0;34m\u001b[0m\u001b[0;34m\u001b[0m\u001b[0m\n",
      "\u001b[0;31mValueError\u001b[0m: Bad Conformer Id"
     ]
    }
   ],
   "source": [
    "from sklearn.preprocessing import StandardScaler\n",
    "\n",
    "def eig_Coulomb_matrix(caffeine, len_max):\n",
    "    caffeine = Chem.AddHs(caffeine)\n",
    "    AllChem.EmbedMolecule(caffeine)\n",
    "    AllChem.UFFOptimizeMolecule(caffeine)\n",
    "    CM = CalcCoulombMat(caffeine)\n",
    "    l,_ = np.linalg.eig(np.array(CM))\n",
    "    idxs = np.argsort(np.abs(l))\n",
    "    zeros_ = np.zeros(len_max-len(idxs))\n",
    "    return  np.concatenate((zeros_, l[idxs]))\n",
    "\n",
    "def generate_fingerprint(mol, fp_case, fp_len):\n",
    "    #print (\"Using the fingerprint:\")\n",
    "    if (fp_case==0):\n",
    "        #print (\"Estate (1995)\")\n",
    "        return FingerprintMol(mol)[0]\n",
    "    elif (fp_case==1):\n",
    "        #print (\"Morgan circular\")\n",
    "        return GetMorganFingerprintAsBitVect(mol, 2, fp_len)\n",
    "    elif (fp_case==2):\n",
    "        #print (\"Atom pair (1985)\")\n",
    "        return GetHashedAtomPairFingerprintAsBitVect(mol, fp_len)\n",
    "    elif (fp_case==3):\n",
    "        print (\"Topological torsion (1987)\")\n",
    "        return GetHashedTopologicalTorsionFingerprintAsBitVect(mol, fp_len)\n",
    "    elif (fp_case==4):\n",
    "        print (\"Avalon bit based (2006)\")\n",
    "        return GetAvalonFP(mol, fp_len)\n",
    "    elif (fp_case==5):\n",
    "        print (\"Avalon+mol. weight\")\n",
    "        return np.append(GetAvalonFP(mol, fp_len), Descriptors.MolWt(mol))\n",
    "    elif (fp_case==6):\n",
    "        print (\"RDKit fingerprint\")\n",
    "        return RDKFingerprint(mol, fpSize=fp_len)\n",
    "    elif (fp_case==7):\n",
    "        print (\"ErG fingerprint (2006)\")\n",
    "        return GetErGFingerprint(mol)\n",
    "    elif (fp_case==8):\n",
    "        #print (\"Coulomb Matrix\")\n",
    "        return eig_Coulomb_matrix(mol, len_max=fp_len)\n",
    "\n",
    "\n",
    "#Scale X to unit variance and zero mean\n",
    "data['Fingerprint'] = data['Mol'].apply(generate_fingerprint, fp_case=fp_case, fp_len=fp_len)\n",
    "\n",
    "fp_element_count = False\n",
    "fp_add_fp2 = False\n",
    "fp_add_fp3 = False\n",
    "\n",
    "X = np.array(list(data['Fingerprint']))\n",
    "if fp_element_count:\n",
    "    data['C_count'] = data['Mol'].apply(element_count, Zelement=6)\n",
    "    data['N_count'] = data['Mol'].apply(element_count, Zelement=7)\n",
    "    data['O_count'] = data['Mol'].apply(element_count, Zelement=8)\n",
    "    X1 = data[['C_count','N_count','O_count']].values\n",
    "    X = np.concatenate((X,X1), axis=1)\n",
    "if fp_add_fp2:\n",
    "    data['Fingerprint_2'] = data['Mol'].apply(generate_fingerprint, fp_case=fp_case+1, fp_len=fp_len)\n",
    "    X2 = np.array(list(data['Fingerprint_2']))\n",
    "    X = np.concatenate((X,X2), axis=1)\n",
    "if fp_add_fp3:\n",
    "    data['Fingerprint_3'] = data['Mol'].apply(generate_fingerprint, fp_case=fp_case+2, fp_len=fp_len)\n",
    "    X3 = np.array(list(data['Fingerprint_3']))\n",
    "    X = np.concatenate((X,X3), axis=1)\n",
    "\n",
    "st = StandardScaler()\n",
    "X = st.fit_transform(X)"
   ]
  },
  {
   "cell_type": "code",
   "execution_count": null,
   "metadata": {},
   "outputs": [],
   "source": [
    "for tsmiles in smiles:\n",
    "    print (tsmiles)\n",
    "    mol = Chem.MolFromSmiles(tsmiles)\n",
    "    tmp = generate_fingerprint(mol, fp_case, fp_len)"
   ]
  },
  {
   "cell_type": "code",
   "execution_count": 9,
   "metadata": {},
   "outputs": [
    {
     "name": "stdout",
     "output_type": "stream",
     "text": [
      "CCCCCCCCCCCCCCCC(=O)OCC(COC(=O)CCCCCCCCCCCCCCC)OC(=O)CCCCCCCCCCCCCCC\n"
     ]
    }
   ],
   "source": [
    "print (tsmiles)\n",
    "tmol = Chem.MolFromSmiles(tsmiles)\n",
    "tmol = Chem.AddHs(tmol)"
   ]
  },
  {
   "cell_type": "code",
   "execution_count": 10,
   "metadata": {},
   "outputs": [
    {
     "data": {
      "image/png": "[encoded data removed]",
      "text/plain": [
       "<rdkit.Chem.rdchem.Mol at 0x7f1b39493c10>"
      ]
     },
     "execution_count": 10,
     "metadata": {},
     "output_type": "execute_result"
    }
   ],
   "source": [
    "tmol"
   ]
  },
  {
   "cell_type": "code",
   "execution_count": 11,
   "metadata": {},
   "outputs": [
    {
     "ename": "RuntimeError",
     "evalue": "Pre-condition Violation\n\tmolecule has no conformers\n\tViolation occurred on line 39 in file Code/GraphMol/Descriptors/CoulombMat.cpp\n\tFailed Expression: mol.getNumConformers() >= 1\n\tRDKIT: 2020.09.1\n\tBOOST: 1_73\n",
     "output_type": "error",
     "traceback": [
      "\u001b[0;31m---------------------------------------------------------------------------\u001b[0m",
      "\u001b[0;31mRuntimeError\u001b[0m                              Traceback (most recent call last)",
      "\u001b[0;32m<ipython-input-11-bc68e0641f77>\u001b[0m in \u001b[0;36m<module>\u001b[0;34m\u001b[0m\n\u001b[0;32m----> 1\u001b[0;31m \u001b[0mtmp\u001b[0m \u001b[0;34m=\u001b[0m \u001b[0mgenerate_fingerprint\u001b[0m\u001b[0;34m(\u001b[0m\u001b[0mtmol\u001b[0m\u001b[0;34m,\u001b[0m \u001b[0mfp_case\u001b[0m\u001b[0;34m,\u001b[0m \u001b[0mfp_len\u001b[0m\u001b[0;34m)\u001b[0m\u001b[0;34m\u001b[0m\u001b[0;34m\u001b[0m\u001b[0m\n\u001b[0m",
      "\u001b[0;32m<ipython-input-7-f065b0ca7c7d>\u001b[0m in \u001b[0;36mgenerate_fingerprint\u001b[0;34m(mol, fp_case, fp_len)\u001b[0m\n\u001b[1;32m     39\u001b[0m     \u001b[0;32melif\u001b[0m \u001b[0;34m(\u001b[0m\u001b[0mfp_case\u001b[0m\u001b[0;34m==\u001b[0m\u001b[0;36m8\u001b[0m\u001b[0;34m)\u001b[0m\u001b[0;34m:\u001b[0m\u001b[0;34m\u001b[0m\u001b[0;34m\u001b[0m\u001b[0m\n\u001b[1;32m     40\u001b[0m         \u001b[0;31m#print (\"Coulomb Matrix\")\u001b[0m\u001b[0;34m\u001b[0m\u001b[0;34m\u001b[0m\u001b[0;34m\u001b[0m\u001b[0m\n\u001b[0;32m---> 41\u001b[0;31m         \u001b[0;32mreturn\u001b[0m \u001b[0meig_Coulomb_matrix\u001b[0m\u001b[0;34m(\u001b[0m\u001b[0mmol\u001b[0m\u001b[0;34m,\u001b[0m \u001b[0mlen_max\u001b[0m\u001b[0;34m=\u001b[0m\u001b[0mfp_len\u001b[0m\u001b[0;34m)\u001b[0m\u001b[0;34m\u001b[0m\u001b[0;34m\u001b[0m\u001b[0m\n\u001b[0m\u001b[1;32m     42\u001b[0m \u001b[0;34m\u001b[0m\u001b[0m\n\u001b[1;32m     43\u001b[0m \u001b[0;34m\u001b[0m\u001b[0m\n",
      "\u001b[0;32m<ipython-input-7-f065b0ca7c7d>\u001b[0m in \u001b[0;36meig_Coulomb_matrix\u001b[0;34m(caffeine, len_max)\u001b[0m\n\u001b[1;32m      5\u001b[0m     \u001b[0mAllChem\u001b[0m\u001b[0;34m.\u001b[0m\u001b[0mEmbedMolecule\u001b[0m\u001b[0;34m(\u001b[0m\u001b[0mcaffeine\u001b[0m\u001b[0;34m)\u001b[0m\u001b[0;34m\u001b[0m\u001b[0;34m\u001b[0m\u001b[0m\n\u001b[1;32m      6\u001b[0m     \u001b[0;31m#AllChem.UFFOptimizeMolecule(caffeine)\u001b[0m\u001b[0;34m\u001b[0m\u001b[0;34m\u001b[0m\u001b[0;34m\u001b[0m\u001b[0m\n\u001b[0;32m----> 7\u001b[0;31m     \u001b[0mCM\u001b[0m \u001b[0;34m=\u001b[0m \u001b[0mCalcCoulombMat\u001b[0m\u001b[0;34m(\u001b[0m\u001b[0mcaffeine\u001b[0m\u001b[0;34m)\u001b[0m\u001b[0;34m\u001b[0m\u001b[0;34m\u001b[0m\u001b[0m\n\u001b[0m\u001b[1;32m      8\u001b[0m     \u001b[0ml\u001b[0m\u001b[0;34m,\u001b[0m\u001b[0m_\u001b[0m \u001b[0;34m=\u001b[0m \u001b[0mnp\u001b[0m\u001b[0;34m.\u001b[0m\u001b[0mlinalg\u001b[0m\u001b[0;34m.\u001b[0m\u001b[0meig\u001b[0m\u001b[0;34m(\u001b[0m\u001b[0mnp\u001b[0m\u001b[0;34m.\u001b[0m\u001b[0marray\u001b[0m\u001b[0;34m(\u001b[0m\u001b[0mCM\u001b[0m\u001b[0;34m)\u001b[0m\u001b[0;34m)\u001b[0m\u001b[0;34m\u001b[0m\u001b[0;34m\u001b[0m\u001b[0m\n\u001b[1;32m      9\u001b[0m     \u001b[0midxs\u001b[0m \u001b[0;34m=\u001b[0m \u001b[0mnp\u001b[0m\u001b[0;34m.\u001b[0m\u001b[0margsort\u001b[0m\u001b[0;34m(\u001b[0m\u001b[0mnp\u001b[0m\u001b[0;34m.\u001b[0m\u001b[0mabs\u001b[0m\u001b[0;34m(\u001b[0m\u001b[0ml\u001b[0m\u001b[0;34m)\u001b[0m\u001b[0;34m)\u001b[0m\u001b[0;34m\u001b[0m\u001b[0;34m\u001b[0m\u001b[0m\n",
      "\u001b[0;31mRuntimeError\u001b[0m: Pre-condition Violation\n\tmolecule has no conformers\n\tViolation occurred on line 39 in file Code/GraphMol/Descriptors/CoulombMat.cpp\n\tFailed Expression: mol.getNumConformers() >= 1\n\tRDKIT: 2020.09.1\n\tBOOST: 1_73\n"
     ]
    }
   ],
   "source": [
    "tmp = generate_fingerprint(tmol, fp_case, fp_len)"
   ]
  },
  {
   "cell_type": "code",
   "execution_count": 12,
   "metadata": {},
   "outputs": [],
   "source": [
    "mol = Chem.MolFromSmiles('C[C@H]1CC[C@@H]([C@H](C1)C)C') "
   ]
  },
  {
   "cell_type": "code",
   "execution_count": 13,
   "metadata": {},
   "outputs": [],
   "source": [
    "molh = Chem.AddHs(mol) "
   ]
  },
  {
   "cell_type": "code",
   "execution_count": 14,
   "metadata": {},
   "outputs": [],
   "source": [
    "mol = Chem.RemoveHs(molh)"
   ]
  },
  {
   "cell_type": "code",
   "execution_count": 15,
   "metadata": {},
   "outputs": [
    {
     "name": "stdout",
     "output_type": "stream",
     "text": [
      "C[C@H]1CC[C@H](C)[C@@H](C)C1\n"
     ]
    }
   ],
   "source": [
    "print (Chem.MolToSmiles(mol))"
   ]
  },
  {
   "cell_type": "code",
   "execution_count": null,
   "metadata": {},
   "outputs": [],
   "source": []
  },
  {
   "cell_type": "code",
   "execution_count": null,
   "metadata": {},
   "outputs": [],
   "source": []
  },
  {
   "cell_type": "code",
   "execution_count": null,
   "metadata": {},
   "outputs": [],
   "source": [
    "print (\"The shape of the fingerprint is\", X.shape)"
   ]
  },
  {
   "cell_type": "code",
   "execution_count": null,
   "metadata": {},
   "outputs": [],
   "source": [
    "from sklearn.model_selection import GridSearchCV\n",
    "from sklearn.kernel_ridge import KernelRidge\n",
    "from sklearn.linear_model import LinearRegression\n",
    "from sklearn.svm import SVR\n",
    "from sklearn.neighbors import KNeighborsRegressor\n",
    "from sklearn.neural_network import MLPRegressor\n",
    "from sklearn.ensemble import GradientBoostingRegressor\n",
    "from sklearn.gaussian_process import GaussianProcessRegressor\n",
    "from sklearn.linear_model import Ridge\n",
    "from sklearn.ensemble import RandomForestRegressor\n"
   ]
  },
  {
   "cell_type": "code",
   "execution_count": null,
   "metadata": {},
   "outputs": [],
   "source": [
    "import matplotlib.pyplot as plt\n",
    "from sklearn.metrics.pairwise import rbf_kernel\n",
    "\n",
    "from sklearn.model_selection import cross_val_score\n",
    "\n",
    "import pickle\n",
    "\n",
    "\n",
    "def make_scatter_plot(y_pred_train, y_pred_test, y_train, y_test, title, figsize, fontsize, fname):    \n",
    "    plt.clf()\n",
    "    f = plt.figure(figsize=figsize)\n",
    "    plt.scatter(y_train,y_pred_train, label = 'Train', c='blue')\n",
    "    plt.title(title,fontsize=fontsize+5)\n",
    "    plt.xlabel('Experimental Melting Temperature (C)', fontsize=fontsize)\n",
    "    plt.ylabel('Predicted Melting Temperature (C)', fontsize=fontsize)\n",
    "    plt.scatter(y_test,y_pred_test,c='lightgreen', label='Test', alpha = 0.8)\n",
    "    plt.legend(loc=4)\n",
    "    #plt.xlim(-200,500)\n",
    "    #plt.ylim(-200,500)\n",
    "    plt.show()\n",
    "    f.savefig(fname+\".pdf\")\n",
    "\n",
    "from sklearn.model_selection import train_test_split\n",
    "\n",
    "def test_models_and_plot(x, y, model_dict, plots, fp_case, fp_len):\n",
    "    ''' test a bunch of models and print out a sorted list of CV accuracies\n",
    "        inputs: \n",
    "            x: training data features, numpy array or Pandas dataframe\n",
    "            y: training data labels, numpy array or Pandas dataframe\n",
    "            model_dict: a dictionary of the form {name : model()}, where 'name' is a string\n",
    "                        and 'model()' is a scikit-learn model object. \n",
    "    '''\n",
    "\n",
    "    mean_scores = {}\n",
    "    percent_errors = {}\n",
    "    \n",
    "    for (name, model) in model_dict.items():\n",
    "        #print(\"running %s\" % name)\n",
    "        scores = cross_val_score(model, x, y, cv=20, n_jobs=-1, scoring='neg_mean_absolute_error')\n",
    "        scores = -1*scores\n",
    "        mean_score = scores.mean()\n",
    "        mean_scores[name] = mean_score\n",
    "\n",
    "        X_train, X_test, y_train, y_test = train_test_split(x, y, test_size=0.1, random_state=42)\n",
    "        model.fit(X_train, y_train)\n",
    "        # save the model to disk\n",
    "        filename = name + \"_\" + str(fp_case) + \"_\" + str(fp_len) + \".sav\"\n",
    "        pickle.dump(model, open(filename, 'wb'))\n",
    "        \n",
    "        y_pred_train = model.predict(X_train)\n",
    "        mae_train = np.mean(np.abs(y_train-y_pred_train))\n",
    "        max_train = np.max(np.abs(y_train-y_pred_train))\n",
    "        y_pred_test  = model.predict(X_test)\n",
    "        mae_test = np.mean( np.abs(y_test -y_pred_test))\n",
    "        max_test = np.max( np.abs(y_test -y_pred_test) )\n",
    "        \n",
    "        percent_errors[name] = mae_test\n",
    "\n",
    "        #fulltitle = name+'\\n MAE error: '+str(percent_error)\n",
    "        fulltitle = name + \\\n",
    "            \"\\n MAE train: \" +  str(\"{:.2f}\".format(mae_train)) + \"; max diff train: \" +  str(\"{:.2f}\".format(max_train)) + \\\n",
    "            \"\\n MAE test: \" +  str(\"{:.2f}\".format(mae_test)) + \"; max diff test: \" +  str(\"{:.2f}\".format(max_test))\n",
    "        \n",
    "\n",
    "        if plots:\n",
    "            fname = name + \"_\" + str(fp_case) + \"_\" + str(fp_len)\n",
    "            make_scatter_plot(y_pred_train, y_pred_test, y_train, y_test, fulltitle, (8,8), 16, fname)\n",
    "\n",
    "    sorted_names = sorted(percent_errors, key=mean_scores.__getitem__, reverse=False)\n",
    "\n",
    "    print(\"\\\\begin{tabular}{c c c}\")\n",
    "    print(\"           name     &     test MAE err   & .    abs error in CV \\\\\\\\ \")\n",
    "    print(\"\\\\hline\")\n",
    "    for i in range(len(sorted_names)):\n",
    "        name = sorted_names[i]\n",
    "        print(\"%30s & %5.3f & %5.3f \\\\\\\\\" % (name, percent_errors[name], mean_scores[name]))\n",
    "    print(\"\\\\end{tabular}\")\n",
    "\n",
    "\n",
    "alpha_grid = {'alpha': np.logspace(1e-11,1e-1,8)}\n",
    "\n",
    "model_dict = {\n",
    "            #'Linear_Regression': LinearRegression(),\n",
    "            #'Kernel Ridge Regression': KernelRidge(),\n",
    "            #'Ridge Regression':Ridge(),\n",
    "            #'Gaussian Process Regressor': GaussianProcessRegressor(normalize_y=True),\n",
    "            #'Support Vector Regression': SVR(),\n",
    "            #'KNeighborsRegressor': KNeighborsRegressor(),\n",
    "            'Gradient_Boosted_Trees': GradientBoostingRegressor(n_estimators=100),\n",
    "            'Random_forest': RandomForestRegressor(n_estimators=100),\n",
    "            'Neural_Network': MLPRegressor(alpha=0.01,max_iter=8000, hidden_layer_sizes=[80,60], early_stopping=False)\n",
    "            }\n",
    "\n",
    "test_models_and_plot(X, y, model_dict, plots=True, fp_case=fp_case, fp_len=fp_len)"
   ]
  },
  {
   "cell_type": "code",
   "execution_count": null,
   "metadata": {},
   "outputs": [],
   "source": [
    "import glob\n",
    "\n",
    "filename = \"A.txt\"\n",
    "print(\"read SMILES from file:\", filename)\n",
    "smiles = np.loadtxt(filename, dtype=str)\n",
    "\n",
    "for tsmiles in smiles:\n",
    "    print (\"**********************************\")\n",
    "    print (tsmiles)\n",
    "    tmol = Chem.MolFromSmiles(tsmiles)\n",
    "    fp = generate_fingerprint(tmol, fp_case, fp_len)\n",
    "    X = np.array(list(fp))\n",
    "    \n",
    "    X1 = []\n",
    "    if fp_element_count:\n",
    "        Zelement = 6\n",
    "        X1.append(element_count(tmol, Zelement))\n",
    "        Zelement = 7\n",
    "        X1.append(element_count(tmol, Zelement))\n",
    "        Zelement = 8\n",
    "        X1.append(element_count(tmol, Zelement))\n",
    "        X1 = np.array(X1)\n",
    "        X = np.concatenate((X,X1), axis=0)\n",
    "    if fp_add_fp2:\n",
    "        fp_2 = generate_fingerprint(tmol, fp_case+1, fp_len)\n",
    "        X2 = np.array(list(fp_2))\n",
    "        X = np.concatenate((X,X2), axis=0)\n",
    "    if fp_add_fp3:\n",
    "        fp_3 = generate_fingerprint(tmol, fp_case+2, fp_len)\n",
    "        X3 = np.array(list(fp_3))\n",
    "        X = np.concatenate((X,X3), axis=0)\n",
    "\n",
    "        \n",
    "    nlen = X.shape[0]\n",
    "    X = np.reshape(X, (1, nlen)) \n",
    "    print (\"The shape of the fingerprint is\", X.shape)\n",
    "    X = st.transform(X)\n",
    "    \n",
    "    postname = \"_\" + str(fp_case) + \"_\" + str(fp_len) + \".sav\"\n",
    "    files_model = glob.glob('*'+postname)\n",
    "    for f in files_model:\n",
    "        model = pickle.load(open(f, 'rb'))\n",
    "        y_pred = model.predict(X)\n",
    "        print (f, y_pred)\n"
   ]
  },
  {
   "cell_type": "code",
   "execution_count": null,
   "metadata": {},
   "outputs": [],
   "source": []
  }
 ],
 "metadata": {
  "kernelspec": {
   "display_name": "Python [conda env:my-rdkit-env] *",
   "language": "python",
   "name": "conda-env-my-rdkit-env-py"
  },
  "language_info": {
   "codemirror_mode": {
    "name": "ipython",
    "version": 3
   },
   "file_extension": ".py",
   "mimetype": "text/x-python",
   "name": "python",
   "nbconvert_exporter": "python",
   "pygments_lexer": "ipython3",
   "version": "3.7.9"
  }
 },
 "nbformat": 4,
 "nbformat_minor": 4
}
