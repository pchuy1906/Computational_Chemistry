{
 "cells": [
  {
   "cell_type": "code",
   "execution_count": 1,
   "metadata": {},
   "outputs": [
    {
     "name": "stdout",
     "output_type": "stream",
     "text": [
      "the number of data point is  (277, 2)\n",
      "the number of data point is  (2886, 2)\n",
      "the number of data point is  (22404, 2)\n",
      "the number of data point is  (21883, 2)\n"
     ]
    }
   ],
   "source": [
    "import warnings\n",
    "warnings.filterwarnings('ignore')\n",
    "warnings.simplefilter('ignore')\n",
    "\n",
    "import pandas as pd\n",
    "import numpy as np\n",
    "\n",
    "from rdkit import Chem\n",
    "from rdkit.Chem.EState import Fingerprinter\n",
    "from rdkit.Chem import Descriptors\n",
    "from rdkit.Chem.rdmolops import RDKFingerprint\n",
    "\n",
    "fold = \"/home/huy/data/melting_point/\"\n",
    "cols = ['SMILES','Melting Point {measured}']\n",
    "\n",
    "full_data_1 = pd.read_csv(fold + 'bergstrom.csv')\n",
    "full_data_2 = pd.read_csv(fold + 'bradley.csv')\n",
    "full_data_3 = pd.read_csv(fold + 'enamine.csv')\n",
    "full_data_4 = pd.read_csv(fold + 'ochem.csv')\n",
    "\n",
    "data_1 = pd.read_csv(fold + 'bergstrom.csv', usecols=cols)\n",
    "data_2 = pd.read_csv(fold + 'bradley.csv', usecols=cols)\n",
    "data_3 = pd.read_csv(fold + 'enamine.csv', usecols=cols)\n",
    "data_4 = pd.read_csv(fold + 'ochem.csv', usecols=cols)\n",
    "\n",
    "print (\"the number of data point is \", data_1.shape)\n",
    "print (\"the number of data point is \", data_2.shape)\n",
    "print (\"the number of data point is \", data_3.shape)\n",
    "print (\"the number of data point is \", data_4.shape)\n",
    "\n",
    "data = pd.concat([data_1, data_2, data_3, data_4], join='outer', axis=0)\n",
    "\n",
    "fp_case = 0\n",
    "fp_len = 128"
   ]
  },
  {
   "cell_type": "code",
   "execution_count": 2,
   "metadata": {},
   "outputs": [
    {
     "data": {
      "text/html": [
       "<div>\n",
       "<style scoped>\n",
       "    .dataframe tbody tr th:only-of-type {\n",
       "        vertical-align: middle;\n",
       "    }\n",
       "\n",
       "    .dataframe tbody tr th {\n",
       "        vertical-align: top;\n",
       "    }\n",
       "\n",
       "    .dataframe thead th {\n",
       "        text-align: right;\n",
       "    }\n",
       "</style>\n",
       "<table border=\"1\" class=\"dataframe\">\n",
       "  <thead>\n",
       "    <tr style=\"text-align: right;\">\n",
       "      <th></th>\n",
       "      <th>SMILES</th>\n",
       "      <th>Melting Point {measured}</th>\n",
       "    </tr>\n",
       "  </thead>\n",
       "  <tbody>\n",
       "    <tr>\n",
       "      <th>0</th>\n",
       "      <td>CN(C1=CC2=NC3=C(C=CC4=C3COCN4)C=C2C=C1)S(C)(=O)=O</td>\n",
       "      <td>300.0</td>\n",
       "    </tr>\n",
       "    <tr>\n",
       "      <th>1</th>\n",
       "      <td>CNC1=CC=C2C=C3C=CC(=CC3=NC2=C1CO)N(C)S(C)(=O)=O</td>\n",
       "      <td>150.0</td>\n",
       "    </tr>\n",
       "    <tr>\n",
       "      <th>2</th>\n",
       "      <td>CCOC(=O)NC1=CC2=NC3=C(C=CC4=C3COCN4C(=O)OCC)C=...</td>\n",
       "      <td>174.0</td>\n",
       "    </tr>\n",
       "    <tr>\n",
       "      <th>3</th>\n",
       "      <td>CCOC(=O)NC1=CC=C2C=C3C=CC4=C(COC(=O)N4)C3=NC2=C1</td>\n",
       "      <td>235.0</td>\n",
       "    </tr>\n",
       "    <tr>\n",
       "      <th>4</th>\n",
       "      <td>CCOC(=O)NC1=CC2=NC3=C(C=CC(N)=C3CO)C=C2C=C1</td>\n",
       "      <td>135.0</td>\n",
       "    </tr>\n",
       "  </tbody>\n",
       "</table>\n",
       "</div>"
      ],
      "text/plain": [
       "                                              SMILES Melting Point {measured}\n",
       "0  CN(C1=CC2=NC3=C(C=CC4=C3COCN4)C=C2C=C1)S(C)(=O)=O                    300.0\n",
       "1    CNC1=CC=C2C=C3C=CC(=CC3=NC2=C1CO)N(C)S(C)(=O)=O                    150.0\n",
       "2  CCOC(=O)NC1=CC2=NC3=C(C=CC4=C3COCN4C(=O)OCC)C=...                    174.0\n",
       "3   CCOC(=O)NC1=CC=C2C=C3C=CC4=C(COC(=O)N4)C3=NC2=C1                    235.0\n",
       "4        CCOC(=O)NC1=CC2=NC3=C(C=CC(N)=C3CO)C=C2C=C1                    135.0"
      ]
     },
     "execution_count": 2,
     "metadata": {},
     "output_type": "execute_result"
    }
   ],
   "source": [
    "data_4.head()"
   ]
  },
  {
   "cell_type": "code",
   "execution_count": null,
   "metadata": {},
   "outputs": [],
   "source": []
  },
  {
   "cell_type": "code",
   "execution_count": null,
   "metadata": {},
   "outputs": [],
   "source": []
  },
  {
   "cell_type": "code",
   "execution_count": 3,
   "metadata": {},
   "outputs": [
    {
     "name": "stdout",
     "output_type": "stream",
     "text": [
      "the number of data point is  (47450, 2)\n",
      "the number of data point is  (46998, 2)\n"
     ]
    }
   ],
   "source": [
    "print (\"the number of data point is \", data.shape)\n",
    "\n",
    "data = data[data[cols[-1]].str.contains(\"<|>\")==False]\n",
    "\n",
    "print (\"the number of data point is \", data.shape)\n"
   ]
  },
  {
   "cell_type": "code",
   "execution_count": null,
   "metadata": {},
   "outputs": [],
   "source": []
  },
  {
   "cell_type": "code",
   "execution_count": null,
   "metadata": {},
   "outputs": [],
   "source": []
  },
  {
   "cell_type": "code",
   "execution_count": null,
   "metadata": {},
   "outputs": [],
   "source": []
  },
  {
   "cell_type": "code",
   "execution_count": null,
   "metadata": {},
   "outputs": [],
   "source": []
  },
  {
   "cell_type": "code",
   "execution_count": 4,
   "metadata": {},
   "outputs": [
    {
     "name": "stdout",
     "output_type": "stream",
     "text": [
      "THESE SMILES STRINGS ARE NOT CORRECT, REMOVE DATA:\n"
     ]
    }
   ],
   "source": [
    "all_smiles = data['SMILES'].values\n",
    "all_y = data[cols[-1]].values\n",
    "\n",
    "print (\"THESE SMILES STRINGS ARE NOT CORRECT, REMOVE DATA:\")\n",
    "\n",
    "smiles = []\n",
    "y = []\n",
    "for idx in range(len(all_smiles)):\n",
    "    tsmiles = all_smiles[idx]\n",
    "    tmol = Chem.MolFromSmiles(tsmiles, sanitize=False)\n",
    "    problems = Chem.DetectChemistryProblems(tmol)\n",
    "    if (len(problems)>0):\n",
    "        print (tsmiles)\n",
    "    else:\n",
    "        smiles.append(tsmiles)\n",
    "        y.append(all_y[idx])"
   ]
  },
  {
   "cell_type": "code",
   "execution_count": 5,
   "metadata": {},
   "outputs": [],
   "source": [
    "## correct the values of melting temperature\n",
    "for idx in range(len(y)):\n",
    "    item = y[idx]\n",
    "    if not isinstance(item,float):\n",
    "        tmp = item.split()\n",
    "        if (len(tmp)==3):\n",
    "            y[idx] = 0.5 * (float(tmp[0]) + float(tmp[-1]))\n",
    "y = [float(i) for i in y]"
   ]
  },
  {
   "cell_type": "code",
   "execution_count": 6,
   "metadata": {},
   "outputs": [
    {
     "data": {
      "text/plain": [
       "[<matplotlib.lines.Line2D at 0x7fb8c940aa90>]"
      ]
     },
     "execution_count": 6,
     "metadata": {},
     "output_type": "execute_result"
    },
    {
     "data": {
      "image/png": "[encoded data removed]",
      "text/plain": [
       "<Figure size 432x288 with 1 Axes>"
      ]
     },
     "metadata": {
      "needs_background": "light"
     },
     "output_type": "display_data"
    }
   ],
   "source": [
    "a = np.array(y)\n",
    "Tmin = -200.0\n",
    "Tmax =  500.0\n",
    "npoints = 101\n",
    "delT = (Tmax-Tmin)/(npoints-1)\n",
    "bin_arr = np.linspace(Tmin, Tmax, npoints)\n",
    "\n",
    "import matplotlib.pyplot as plt\n",
    "hist_vals, hist_bins = np.histogram(a, bins=bin_arr)\n",
    "plt.plot(hist_bins[:-1],hist_vals)"
   ]
  },
  {
   "cell_type": "code",
   "execution_count": 7,
   "metadata": {},
   "outputs": [],
   "source": [
    "data = pd.DataFrame(list(zip(smiles, y)), columns = cols)\n",
    "data['ID'] = np.arange(data.shape[0])\n",
    "def ymin(Tvalue, Tmin, delT):\n",
    "    idx = int((Tvalue-Tmin)/delT)\n",
    "    return Tmin+idx*delT\n",
    "data['ymin'] = data[cols[-1]].apply(ymin,Tmin=Tmin,delT=delT)"
   ]
  },
  {
   "cell_type": "code",
   "execution_count": 8,
   "metadata": {},
   "outputs": [
    {
     "data": {
      "text/html": [
       "<div>\n",
       "<style scoped>\n",
       "    .dataframe tbody tr th:only-of-type {\n",
       "        vertical-align: middle;\n",
       "    }\n",
       "\n",
       "    .dataframe tbody tr th {\n",
       "        vertical-align: top;\n",
       "    }\n",
       "\n",
       "    .dataframe thead th {\n",
       "        text-align: right;\n",
       "    }\n",
       "</style>\n",
       "<table border=\"1\" class=\"dataframe\">\n",
       "  <thead>\n",
       "    <tr style=\"text-align: right;\">\n",
       "      <th></th>\n",
       "      <th>SMILES</th>\n",
       "      <th>Melting Point {measured}</th>\n",
       "      <th>ID</th>\n",
       "      <th>ymin</th>\n",
       "    </tr>\n",
       "  </thead>\n",
       "  <tbody>\n",
       "    <tr>\n",
       "      <th>0</th>\n",
       "      <td>CC1CCC1</td>\n",
       "      <td>-161.505</td>\n",
       "      <td>0</td>\n",
       "      <td>-165.0</td>\n",
       "    </tr>\n",
       "    <tr>\n",
       "      <th>1</th>\n",
       "      <td>[O-][N+]#N</td>\n",
       "      <td>-90.805</td>\n",
       "      <td>1</td>\n",
       "      <td>-95.0</td>\n",
       "    </tr>\n",
       "    <tr>\n",
       "      <th>2</th>\n",
       "      <td>FS(F)(=O)=O</td>\n",
       "      <td>-135.810</td>\n",
       "      <td>2</td>\n",
       "      <td>-137.0</td>\n",
       "    </tr>\n",
       "    <tr>\n",
       "      <th>3</th>\n",
       "      <td>CC(C)N(CCC(C(N)=O)(C1=CC=CC=C1)C1=CC=CC=N1)C(C)C</td>\n",
       "      <td>94.775</td>\n",
       "      <td>3</td>\n",
       "      <td>94.0</td>\n",
       "    </tr>\n",
       "    <tr>\n",
       "      <th>4</th>\n",
       "      <td>CCN1C=C(C(O)=O)C(=O)C2=CC(F)=C(N3CCNC(C)C3)C(F...</td>\n",
       "      <td>239.775</td>\n",
       "      <td>4</td>\n",
       "      <td>234.0</td>\n",
       "    </tr>\n",
       "  </tbody>\n",
       "</table>\n",
       "</div>"
      ],
      "text/plain": [
       "                                              SMILES  \\\n",
       "0                                            CC1CCC1   \n",
       "1                                         [O-][N+]#N   \n",
       "2                                        FS(F)(=O)=O   \n",
       "3   CC(C)N(CCC(C(N)=O)(C1=CC=CC=C1)C1=CC=CC=N1)C(C)C   \n",
       "4  CCN1C=C(C(O)=O)C(=O)C2=CC(F)=C(N3CCNC(C)C3)C(F...   \n",
       "\n",
       "   Melting Point {measured}  ID   ymin  \n",
       "0                  -161.505   0 -165.0  \n",
       "1                   -90.805   1  -95.0  \n",
       "2                  -135.810   2 -137.0  \n",
       "3                    94.775   3   94.0  \n",
       "4                   239.775   4  234.0  "
      ]
     },
     "execution_count": 8,
     "metadata": {},
     "output_type": "execute_result"
    }
   ],
   "source": [
    "data.head()"
   ]
  },
  {
   "cell_type": "code",
   "execution_count": 9,
   "metadata": {},
   "outputs": [],
   "source": [
    "Tvalue = Tmin\n",
    "row_nums = []\n",
    "nlim = 250\n",
    "while (Tvalue < Tmax):\n",
    "    tID = data[(data['ymin'] > Tvalue-0.01) & (data['ymin'] < Tvalue+0.01)]['ID'].values\n",
    "    if (len(tID) > 0):\n",
    "        if (len(tID)>nlim):\n",
    "            rand_tID = np.random.permutation(tID)\n",
    "            row_nums.append(list(rand_tID[:nlim]))\n",
    "        else:\n",
    "            row_nums.append(list(tID))\n",
    "    Tvalue += delT"
   ]
  },
  {
   "cell_type": "code",
   "execution_count": 10,
   "metadata": {},
   "outputs": [
    {
     "name": "stdout",
     "output_type": "stream",
     "text": [
      "13480\n"
     ]
    }
   ],
   "source": [
    "row_nums = sum(row_nums, [])\n",
    "print (len(row_nums))"
   ]
  },
  {
   "cell_type": "code",
   "execution_count": 13,
   "metadata": {},
   "outputs": [
    {
     "name": "stdout",
     "output_type": "stream",
     "text": [
      "the number of data point is  (13480, 4)\n"
     ]
    }
   ],
   "source": [
    "data = data.iloc[row_nums]\n",
    "print (\"the number of data point is \", data.shape)\n"
   ]
  },
  {
   "cell_type": "code",
   "execution_count": 14,
   "metadata": {},
   "outputs": [
    {
     "data": {
      "text/plain": [
       "[<matplotlib.lines.Line2D at 0x7fb8caf032d0>]"
      ]
     },
     "execution_count": 14,
     "metadata": {},
     "output_type": "execute_result"
    },
    {
     "data": {
      "image/png": "[encoded data removed]",
      "text/plain": [
       "<Figure size 432x288 with 1 Axes>"
      ]
     },
     "metadata": {
      "needs_background": "light"
     },
     "output_type": "display_data"
    }
   ],
   "source": [
    "y = data[cols[-1]].values\n",
    "a = np.array(y)\n",
    "Tmin = -200.0\n",
    "Tmax =  500.0\n",
    "npoints = 101\n",
    "delT = (Tmax-Tmin)/(npoints-1)\n",
    "bin_arr = np.linspace(Tmin, Tmax, npoints)\n",
    "\n",
    "import matplotlib.pyplot as plt\n",
    "hist_vals, hist_bins = np.histogram(a, bins=bin_arr)\n",
    "plt.plot(hist_bins[:-1],hist_vals)"
   ]
  },
  {
   "cell_type": "code",
   "execution_count": 15,
   "metadata": {},
   "outputs": [],
   "source": [
    "data['Mol'] = data['SMILES'].apply(Chem.MolFromSmiles)"
   ]
  },
  {
   "cell_type": "code",
   "execution_count": 16,
   "metadata": {},
   "outputs": [],
   "source": [
    "from rdkit.Chem.rdMolDescriptors import *\n",
    "\n",
    "from rdkit.Chem.AtomPairs.Sheridan import GetBPFingerprint\n",
    "from rdkit.Chem.EState.Fingerprinter import FingerprintMol\n",
    "from rdkit.Avalon.pyAvalonTools import GetAvalonFP\n",
    "from rdkit.Chem.AllChem import  GetMorganFingerprintAsBitVect, GetErGFingerprint\n",
    "from rdkit.DataStructs.cDataStructs import ConvertToNumpyArray\n",
    "import rdkit.DataStructs.cDataStructs"
   ]
  },
  {
   "cell_type": "code",
   "execution_count": 17,
   "metadata": {},
   "outputs": [],
   "source": [
    "from rdkit.Chem import rdqueries\n",
    "def element_count(mol, Zelement):\n",
    "    q = rdqueries.AtomNumEqualsQueryAtom(Zelement)\n",
    "    return len(mol.GetAtomsMatchingQuery(q))"
   ]
  },
  {
   "cell_type": "code",
   "execution_count": 18,
   "metadata": {},
   "outputs": [],
   "source": [
    "from sklearn.preprocessing import StandardScaler\n",
    "\n",
    "def generate_fingerprint(mol, fp_case, fp_len):\n",
    "    #print (\"Using the fingerprint:\")\n",
    "    if (fp_case==0):\n",
    "        #print (\"Estate (1995)\")\n",
    "        return FingerprintMol(mol)[0]\n",
    "    elif (fp_case==1):\n",
    "        #print (\"Morgan circular\")\n",
    "        return GetMorganFingerprintAsBitVect(mol, 2, fp_len)\n",
    "    elif (fp_case==2):\n",
    "        #print (\"Atom pair (1985)\")\n",
    "        return GetHashedAtomPairFingerprintAsBitVect(mol, fp_len)\n",
    "    elif (fp_case==3):\n",
    "        print (\"Topological torsion (1987)\")\n",
    "        return GetHashedTopologicalTorsionFingerprintAsBitVect(mol, fp_len)\n",
    "    elif (fp_case==4):\n",
    "        print (\"Avalon bit based (2006)\")\n",
    "        return GetAvalonFP(mol, fp_len)\n",
    "    elif (fp_case==5):\n",
    "        print (\"Avalon+mol. weight\")\n",
    "        return np.append(GetAvalonFP(mol, fp_len), Descriptors.MolWt(mol))\n",
    "    elif (fp_case==6):\n",
    "        print (\"RDKit fingerprint\")\n",
    "        return RDKFingerprint(mol, fpSize=fp_len)\n",
    "    elif (fp_case==7):\n",
    "        print (\"ErG fingerprint (2006)\")\n",
    "        return GetErGFingerprint(mol)\n",
    "\n",
    "\n",
    "#Scale X to unit variance and zero mean\n",
    "data['Fingerprint'] = data['Mol'].apply(generate_fingerprint, fp_case=fp_case, fp_len=fp_len)\n",
    "\n",
    "fp_element_count = False\n",
    "\n",
    "fp_add_fp2 = False\n",
    "\n",
    "fp_add_fp3 = False\n",
    "\n",
    "X = np.array(list(data['Fingerprint']))\n",
    "if fp_element_count:\n",
    "    data['C_count'] = data['Mol'].apply(element_count, Zelement=6)\n",
    "    data['N_count'] = data['Mol'].apply(element_count, Zelement=7)\n",
    "    data['O_count'] = data['Mol'].apply(element_count, Zelement=8)\n",
    "    X1 = data[['C_count','N_count','O_count']].values\n",
    "    X = np.concatenate((X,X1), axis=1)\n",
    "if fp_add_fp2:\n",
    "    data['Fingerprint_2'] = data['Mol'].apply(generate_fingerprint, fp_case=fp_case+1, fp_len=fp_len)\n",
    "    X2 = np.array(list(data['Fingerprint_2']))\n",
    "    X = np.concatenate((X,X2), axis=1)\n",
    "if fp_add_fp3:\n",
    "    data['Fingerprint_3'] = data['Mol'].apply(generate_fingerprint, fp_case=fp_case+2, fp_len=fp_len)\n",
    "    X3 = np.array(list(data['Fingerprint_3']))\n",
    "    X = np.concatenate((X,X3), axis=1)\n",
    "\n",
    "\n",
    "st = StandardScaler()\n",
    "X = st.fit_transform(X)"
   ]
  },
  {
   "cell_type": "code",
   "execution_count": 19,
   "metadata": {},
   "outputs": [
    {
     "name": "stdout",
     "output_type": "stream",
     "text": [
      "The shape of the fingerprint is (13480, 79)\n"
     ]
    }
   ],
   "source": [
    "print (\"The shape of the fingerprint is\", X.shape)"
   ]
  },
  {
   "cell_type": "code",
   "execution_count": 20,
   "metadata": {},
   "outputs": [],
   "source": [
    "from sklearn.model_selection import GridSearchCV\n",
    "from sklearn.kernel_ridge import KernelRidge\n",
    "from sklearn.linear_model import LinearRegression\n",
    "from sklearn.svm import SVR\n",
    "from sklearn.neighbors import KNeighborsRegressor\n",
    "from sklearn.neural_network import MLPRegressor\n",
    "from sklearn.ensemble import GradientBoostingRegressor\n",
    "from sklearn.gaussian_process import GaussianProcessRegressor\n",
    "from sklearn.linear_model import Ridge\n",
    "from sklearn.ensemble import RandomForestRegressor\n"
   ]
  },
  {
   "cell_type": "code",
   "execution_count": null,
   "metadata": {},
   "outputs": [],
   "source": []
  },
  {
   "cell_type": "code",
   "execution_count": 21,
   "metadata": {},
   "outputs": [],
   "source": [
    "#print (X_train.shape)\n",
    "#print (len(y_train))"
   ]
  },
  {
   "cell_type": "code",
   "execution_count": null,
   "metadata": {},
   "outputs": [],
   "source": []
  },
  {
   "cell_type": "code",
   "execution_count": 22,
   "metadata": {},
   "outputs": [],
   "source": [
    "from sklearn.model_selection import train_test_split\n",
    "\n",
    "X_train, X_test, y_train, y_test = train_test_split(X, y, test_size=0.3, random_state=42)\n",
    "model = RandomForestRegressor(n_estimators=100)\n",
    "model.fit(X_train, y_train)\n",
    "\n",
    "y_train = [float(i) for i in y_train]\n",
    "\n",
    "y_pred_train = model.predict(X_train)\n",
    "mae_train = np.mean(np.abs(y_train-y_pred_train))\n",
    "max_train = np.max(np.abs(y_train-y_pred_train))\n",
    "y_pred_test  = model.predict(X_test)\n",
    "mae_test = np.mean( np.abs(y_test -y_pred_test))\n",
    "max_test = np.max( np.abs(y_test -y_pred_test) )"
   ]
  },
  {
   "cell_type": "code",
   "execution_count": 23,
   "metadata": {},
   "outputs": [
    {
     "data": {
      "text/plain": [
       "<Figure size 432x288 with 0 Axes>"
      ]
     },
     "metadata": {},
     "output_type": "display_data"
    },
    {
     "data": {
      "image/png": "[encoded data removed]",
      "text/plain": [
       "<Figure size 576x576 with 1 Axes>"
      ]
     },
     "metadata": {
      "needs_background": "light"
     },
     "output_type": "display_data"
    },
    {
     "name": "stdout",
     "output_type": "stream",
     "text": [
      "\\begin{tabular}{c c c}\n",
      "           name     &     test MAE err   & .    abs error in CV \\\\ \n",
      "\\hline\n",
      "                 Random_forest & 39.021 & 43.596 \\\\\n",
      "\\end{tabular}\n"
     ]
    }
   ],
   "source": [
    "import matplotlib.pyplot as plt\n",
    "from sklearn.metrics.pairwise import rbf_kernel\n",
    "\n",
    "from sklearn.model_selection import cross_val_score\n",
    "\n",
    "import pickle\n",
    "\n",
    "\n",
    "def make_scatter_plot(y_pred_train, y_pred_test, y_train, y_test, title, figsize, fontsize, fname):    \n",
    "    plt.clf()\n",
    "    f = plt.figure(figsize=figsize)\n",
    "    plt.scatter(y_train,y_pred_train, label = 'Train', c='blue')\n",
    "    plt.title(title,fontsize=fontsize+5)\n",
    "    plt.xlabel('Experimental Melting Temperature (C)', fontsize=fontsize)\n",
    "    plt.ylabel('Predicted Melting Temperature (C)', fontsize=fontsize)\n",
    "    plt.scatter(y_test,y_pred_test,c='lightgreen', label='Test', alpha = 0.8)\n",
    "    plt.legend(loc=4)\n",
    "    #plt.xlim(-200,500)\n",
    "    #plt.ylim(-200,500)\n",
    "    plt.show()\n",
    "    f.savefig(fname+\".pdf\")\n",
    "\n",
    "from sklearn.model_selection import train_test_split\n",
    "\n",
    "def test_models_and_plot(x, y, model_dict, plots, fp_case, fp_len):\n",
    "    ''' test a bunch of models and print out a sorted list of CV accuracies\n",
    "        inputs: \n",
    "            x: training data features, numpy array or Pandas dataframe\n",
    "            y: training data labels, numpy array or Pandas dataframe\n",
    "            model_dict: a dictionary of the form {name : model()}, where 'name' is a string\n",
    "                        and 'model()' is a scikit-learn model object. \n",
    "    '''\n",
    "\n",
    "    mean_scores = {}\n",
    "    percent_errors = {}\n",
    "    save_models = []\n",
    "    \n",
    "    for (name, model) in model_dict.items():\n",
    "        #print(\"running %s\" % name)\n",
    "        scores = cross_val_score(model, x, y, cv=20, n_jobs=-1, scoring='neg_mean_absolute_error')\n",
    "        scores = -1*scores\n",
    "        mean_score = scores.mean()\n",
    "        mean_scores[name] = mean_score\n",
    "\n",
    "        X_train, X_test, y_train, y_test = train_test_split(x, y, test_size=0.3, random_state=42)\n",
    "        model.fit(X_train, y_train)\n",
    "        \n",
    "        # save the model to disk\n",
    "        #filename = name + \"_\" + str(fp_case) + \"_\" + str(fp_len) + \".sav\"\n",
    "        #pickle.dump(model, open(filename, 'wb'))\n",
    "        \n",
    "        save_models.append(model)\n",
    "        \n",
    "        y_pred_train = model.predict(X_train)\n",
    "        mae_train = np.mean(np.abs(y_train-y_pred_train))\n",
    "        max_train = np.max(np.abs(y_train-y_pred_train))\n",
    "        y_pred_test  = model.predict(X_test)\n",
    "        mae_test = np.mean( np.abs(y_test -y_pred_test))\n",
    "        max_test = np.max( np.abs(y_test -y_pred_test) )\n",
    "        \n",
    "        percent_errors[name] = mae_test\n",
    "\n",
    "        #fulltitle = name+'\\n MAE error: '+str(percent_error)\n",
    "        fulltitle = name + \\\n",
    "            \"\\n MAE train: \" +  str(\"{:.2f}\".format(mae_train)) + \"; max diff train: \" +  str(\"{:.2f}\".format(max_train)) + \\\n",
    "            \"\\n MAE test: \" +  str(\"{:.2f}\".format(mae_test)) + \"; max diff test: \" +  str(\"{:.2f}\".format(max_test))\n",
    "        \n",
    "\n",
    "        if plots:\n",
    "            fname = name + \"_\" + str(fp_case) + \"_\" + str(fp_len)\n",
    "            make_scatter_plot(y_pred_train, y_pred_test, y_train, y_test, fulltitle, (8,8), 16, fname)\n",
    "\n",
    "    sorted_names = sorted(percent_errors, key=mean_scores.__getitem__, reverse=False)\n",
    "\n",
    "    print(\"\\\\begin{tabular}{c c c}\")\n",
    "    print(\"           name     &     test MAE err   & .    abs error in CV \\\\\\\\ \")\n",
    "    print(\"\\\\hline\")\n",
    "    for i in range(len(sorted_names)):\n",
    "        name = sorted_names[i]\n",
    "        print(\"%30s & %5.3f & %5.3f \\\\\\\\\" % (name, percent_errors[name], mean_scores[name]))\n",
    "    print(\"\\\\end{tabular}\")\n",
    "    \n",
    "    return save_models\n",
    "\n",
    "\n",
    "alpha_grid = {'alpha': np.logspace(1e-11,1e-1,8)}\n",
    "\n",
    "model_dict = {\n",
    "            #'Linear_Regression': LinearRegression(),\n",
    "            #'Kernel Ridge Regression': KernelRidge(),\n",
    "            #'Ridge Regression':Ridge(),\n",
    "            #'Gaussian Process Regressor': GaussianProcessRegressor(normalize_y=True),\n",
    "            #'Support Vector Regression': SVR(),\n",
    "            #'KNeighborsRegressor': KNeighborsRegressor(),\n",
    "            #'Gradient_Boosted_Trees': GradientBoostingRegressor(n_estimators=100),\n",
    "            'Random_forest': RandomForestRegressor(n_estimators=100)\n",
    "            #'Neural_Network': MLPRegressor(alpha=1000,max_iter=8000, hidden_layer_sizes=[800,600], early_stopping=False)\n",
    "            }\n",
    "\n",
    "save_models = test_models_and_plot(X, y, model_dict, plots=True, fp_case=fp_case, fp_len=fp_len)"
   ]
  },
  {
   "cell_type": "code",
   "execution_count": 24,
   "metadata": {},
   "outputs": [
    {
     "name": "stdout",
     "output_type": "stream",
     "text": [
      "read SMILES from file: A.txt\n",
      "**********************************\n",
      "CO[N+](=O)[O-]\n",
      "The shape of the fingerprint is (1, 79)\n",
      "model-1 [-63.2053]\n",
      "**********************************\n",
      "CCO[N+](=O)[O-]\n",
      "The shape of the fingerprint is (1, 79)\n",
      "model-1 [-58.54564583]\n",
      "**********************************\n",
      "C(C(CO[N+](=O)[O-])O[N+](=O)[O-])O[N+](=O)[O-]\n",
      "The shape of the fingerprint is (1, 79)\n",
      "model-1 [16.4235]\n",
      "**********************************\n",
      "C(C(CO[N+](=O)[O-])(CO[N+](=O)[O-])[N+](=O)[O-])O[N+](=O)[O-]\n",
      "The shape of the fingerprint is (1, 79)\n",
      "model-1 [-6.41666667]\n",
      "**********************************\n",
      "CC(CO[N+]([O-])=O)(CO[N+]([O-])=O)CO[N+]([O-])=O\n",
      "The shape of the fingerprint is (1, 79)\n",
      "model-1 [-6.50116667]\n",
      "**********************************\n",
      "C(C(CO[N+](=O)[O-])(CO[N+](=O)[O-])CO[N+](=O)[O-])O[N+](=O)[O-]\n",
      "The shape of the fingerprint is (1, 79)\n",
      "model-1 [-2.79978333]\n"
     ]
    }
   ],
   "source": [
    "import glob\n",
    "\n",
    "filename = \"A.txt\"\n",
    "print(\"read SMILES from file:\", filename)\n",
    "smiles = np.loadtxt(filename, dtype=str)\n",
    "\n",
    "for tsmiles in smiles:\n",
    "    print (\"**********************************\")\n",
    "    print (tsmiles)\n",
    "    tmol = Chem.MolFromSmiles(tsmiles)\n",
    "    fp = generate_fingerprint(tmol, fp_case, fp_len)\n",
    "    X = np.array(list(fp))\n",
    "    \n",
    "    X1 = []\n",
    "    if fp_element_count:\n",
    "        Zelement = 6\n",
    "        X1.append(element_count(tmol, Zelement))\n",
    "        Zelement = 7\n",
    "        X1.append(element_count(tmol, Zelement))\n",
    "        Zelement = 8\n",
    "        X1.append(element_count(tmol, Zelement))\n",
    "        X1 = np.array(X1)\n",
    "        X = np.concatenate((X,X1), axis=0)\n",
    "    if fp_add_fp2:\n",
    "        fp_2 = generate_fingerprint(tmol, fp_case+1, fp_len)\n",
    "        X2 = np.array(list(fp_2))\n",
    "        X = np.concatenate((X,X2), axis=0)\n",
    "    if fp_add_fp3:\n",
    "        fp_3 = generate_fingerprint(tmol, fp_case+2, fp_len)\n",
    "        X3 = np.array(list(fp_3))\n",
    "        X = np.concatenate((X,X3), axis=0)\n",
    "\n",
    "        \n",
    "    nlen = X.shape[0]\n",
    "    X = np.reshape(X, (1, nlen)) \n",
    "    print (\"The shape of the fingerprint is\", X.shape)\n",
    "    X = st.transform(X)\n",
    "    \n",
    "    #postname = \"_\" + str(fp_case) + \"_\" + str(fp_len) + \".sav\"\n",
    "    #files_model = glob.glob('*'+postname)\n",
    "    #for f in files_model:\n",
    "    #    model = pickle.load(open(f, 'rb'))\n",
    "    #    y_pred = model.predict(X)\n",
    "    #    print (f, y_pred)\n",
    "    \n",
    "    id_model = 0\n",
    "    for model in save_models:\n",
    "        id_model += 1\n",
    "        y_pred = model.predict(X)\n",
    "        print (\"model-\" + str(id_model), y_pred)"
   ]
  },
  {
   "cell_type": "code",
   "execution_count": null,
   "metadata": {},
   "outputs": [],
   "source": []
  },
  {
   "cell_type": "code",
   "execution_count": null,
   "metadata": {},
   "outputs": [],
   "source": []
  }
 ],
 "metadata": {
  "kernelspec": {
   "display_name": "Python [conda env:my-rdkit-env] *",
   "language": "python",
   "name": "conda-env-my-rdkit-env-py"
  },
  "language_info": {
   "codemirror_mode": {
    "name": "ipython",
    "version": 3
   },
   "file_extension": ".py",
   "mimetype": "text/x-python",
   "name": "python",
   "nbconvert_exporter": "python",
   "pygments_lexer": "ipython3",
   "version": "3.7.9"
  }
 },
 "nbformat": 4,
 "nbformat_minor": 4
}
