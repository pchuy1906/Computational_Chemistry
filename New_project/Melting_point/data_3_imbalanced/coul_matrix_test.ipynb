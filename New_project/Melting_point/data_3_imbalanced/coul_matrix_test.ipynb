{
 "cells": [
  {
   "cell_type": "code",
   "execution_count": 4,
   "metadata": {},
   "outputs": [
    {
     "name": "stdout",
     "output_type": "stream",
     "text": [
      "<class 'rdkit.Chem.rdchem.Mol'>\n",
      "<class 'rdkit.Chem.rdchem.Mol'>\n"
     ]
    }
   ],
   "source": [
    "import numpy as np\n",
    "\n",
    "import rdkit\n",
    "from rdkit import Chem\n",
    "from rdkit.Chem import AllChem\n",
    "from rdkit.Chem.rdMolDescriptors import CalcCoulombMat\n",
    "\n",
    "smiles = 'CN1C=NC2=C1C(=O)N(C(=O)N2C)C'\n",
    "caffeine = Chem.MolFromSmiles(smiles, sanitize=True)\n",
    "print (type(caffeine))\n",
    "\n",
    "def eig_Coulomb_matrix(caffeine, len_max):\n",
    "    #caffeine = Chem.AddHs(caffeine)\n",
    "    AllChem.EmbedMolecule(caffeine)\n",
    "    #AllChem.UFFOptimizeMolecule(caffeine)\n",
    "    CM = CalcCoulombMat(caffeine)\n",
    "    l,_ = np.linalg.eig(np.array(CM))\n",
    "    idxs = np.argsort(np.abs(l))\n",
    "    zeros_ = np.zeros(len_max-len(idxs))\n",
    "    print (type(caffeine))\n",
    "    return  np.concatenate((zeros_, l[idxs]))\n",
    "\n",
    "l = eig_Coulomb_matrix(caffeine, len_max=30)"
   ]
  },
  {
   "cell_type": "code",
   "execution_count": 5,
   "metadata": {},
   "outputs": [
    {
     "name": "stdout",
     "output_type": "stream",
     "text": [
      "[  0.           0.           0.           0.           0.\n",
      "   0.           0.           0.           0.           0.\n",
      "   0.           0.           0.           0.           0.\n",
      "   0.          -0.57204552   3.12124647   4.30413434   6.3248515\n",
      "  14.97044757  17.93806557  18.60111905  26.84685336  35.40739612\n",
      "  39.49823052  48.79287351  79.78976687  94.67039724 265.63972404]\n"
     ]
    }
   ],
   "source": [
    "print (l)"
   ]
  },
  {
   "cell_type": "code",
   "execution_count": 6,
   "metadata": {},
   "outputs": [
    {
     "name": "stdout",
     "output_type": "stream",
     "text": [
      "30\n"
     ]
    }
   ],
   "source": [
    "print (len(l))"
   ]
  },
  {
   "cell_type": "code",
   "execution_count": null,
   "metadata": {},
   "outputs": [],
   "source": []
  }
 ],
 "metadata": {
  "kernelspec": {
   "display_name": "Python [conda env:my-rdkit-env] *",
   "language": "python",
   "name": "conda-env-my-rdkit-env-py"
  },
  "language_info": {
   "codemirror_mode": {
    "name": "ipython",
    "version": 3
   },
   "file_extension": ".py",
   "mimetype": "text/x-python",
   "name": "python",
   "nbconvert_exporter": "python",
   "pygments_lexer": "ipython3",
   "version": "3.7.9"
  }
 },
 "nbformat": 4,
 "nbformat_minor": 4
}
