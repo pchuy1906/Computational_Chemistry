{
 "cells": [
  {
   "cell_type": "code",
   "execution_count": 1,
   "metadata": {},
   "outputs": [],
   "source": [
    "import numpy as np\n",
    "import pandas as pd\n",
    "\n",
    "data = pd.read_csv(\"HOF_data.csv\")"
   ]
  },
  {
   "cell_type": "code",
   "execution_count": 2,
   "metadata": {},
   "outputs": [
    {
     "data": {
      "text/html": [
       "<div>\n",
       "<style scoped>\n",
       "    .dataframe tbody tr th:only-of-type {\n",
       "        vertical-align: middle;\n",
       "    }\n",
       "\n",
       "    .dataframe tbody tr th {\n",
       "        vertical-align: top;\n",
       "    }\n",
       "\n",
       "    .dataframe thead th {\n",
       "        text-align: right;\n",
       "    }\n",
       "</style>\n",
       "<table border=\"1\" class=\"dataframe\">\n",
       "  <thead>\n",
       "    <tr style=\"text-align: right;\">\n",
       "      <th></th>\n",
       "      <th>name</th>\n",
       "      <th>C</th>\n",
       "      <th>H</th>\n",
       "      <th>N</th>\n",
       "      <th>O</th>\n",
       "      <th>Experiment</th>\n",
       "      <th>Calculation</th>\n",
       "      <th>Use_to_train</th>\n",
       "    </tr>\n",
       "  </thead>\n",
       "  <tbody>\n",
       "    <tr>\n",
       "      <th>0</th>\n",
       "      <td>H2O</td>\n",
       "      <td>0</td>\n",
       "      <td>2</td>\n",
       "      <td>0</td>\n",
       "      <td>1</td>\n",
       "      <td>-241.83</td>\n",
       "      <td>-242.273345</td>\n",
       "      <td>1.0</td>\n",
       "    </tr>\n",
       "    <tr>\n",
       "      <th>1</th>\n",
       "      <td>NH3</td>\n",
       "      <td>0</td>\n",
       "      <td>3</td>\n",
       "      <td>1</td>\n",
       "      <td>0</td>\n",
       "      <td>-45.90</td>\n",
       "      <td>-98.279030</td>\n",
       "      <td>1.0</td>\n",
       "    </tr>\n",
       "    <tr>\n",
       "      <th>2</th>\n",
       "      <td>HN3</td>\n",
       "      <td>0</td>\n",
       "      <td>1</td>\n",
       "      <td>3</td>\n",
       "      <td>0</td>\n",
       "      <td>264.00</td>\n",
       "      <td>185.442217</td>\n",
       "      <td>1.0</td>\n",
       "    </tr>\n",
       "    <tr>\n",
       "      <th>3</th>\n",
       "      <td>CO2</td>\n",
       "      <td>1</td>\n",
       "      <td>0</td>\n",
       "      <td>0</td>\n",
       "      <td>2</td>\n",
       "      <td>-393.52</td>\n",
       "      <td>-1137.389589</td>\n",
       "      <td>1.0</td>\n",
       "    </tr>\n",
       "    <tr>\n",
       "      <th>4</th>\n",
       "      <td>CH4</td>\n",
       "      <td>1</td>\n",
       "      <td>4</td>\n",
       "      <td>0</td>\n",
       "      <td>0</td>\n",
       "      <td>-74.87</td>\n",
       "      <td>-881.301620</td>\n",
       "      <td>1.0</td>\n",
       "    </tr>\n",
       "  </tbody>\n",
       "</table>\n",
       "</div>"
      ],
      "text/plain": [
       "  name  C  H  N  O  Experiment  Calculation  Use_to_train\n",
       "0  H2O  0  2  0  1     -241.83  -242.273345           1.0\n",
       "1  NH3  0  3  1  0      -45.90   -98.279030           1.0\n",
       "2  HN3  0  1  3  0      264.00   185.442217           1.0\n",
       "3  CO2  1  0  0  2     -393.52 -1137.389589           1.0\n",
       "4  CH4  1  4  0  0      -74.87  -881.301620           1.0"
      ]
     },
     "execution_count": 2,
     "metadata": {},
     "output_type": "execute_result"
    }
   ],
   "source": [
    "data.head()"
   ]
  },
  {
   "cell_type": "code",
   "execution_count": 3,
   "metadata": {},
   "outputs": [],
   "source": [
    "train = data[data.Use_to_train.notnull()]"
   ]
  },
  {
   "cell_type": "code",
   "execution_count": 4,
   "metadata": {},
   "outputs": [],
   "source": [
    "Amatrix = train[['C','H','N','O']].values\n",
    "bmatrix = train['Experiment'].values - train['Calculation'].values"
   ]
  },
  {
   "cell_type": "code",
   "execution_count": 5,
   "metadata": {},
   "outputs": [
    {
     "name": "stdout",
     "output_type": "stream",
     "text": [
      "(8, 4)\n"
     ]
    }
   ],
   "source": [
    "print ((Amatrix.shape))"
   ]
  },
  {
   "cell_type": "code",
   "execution_count": 6,
   "metadata": {},
   "outputs": [
    {
     "name": "stdout",
     "output_type": "stream",
     "text": [
      "[[770.21326833]\n",
      " [  9.57924606]\n",
      " [ 26.80010143]\n",
      " [  4.51282846]]\n"
     ]
    }
   ],
   "source": [
    "correction_energies = np.linalg.lstsq(Amatrix, bmatrix,rcond=None)[0]\n",
    "correction_energies = correction_energies.reshape((4,1))\n",
    "print (correction_energies)"
   ]
  },
  {
   "cell_type": "code",
   "execution_count": null,
   "metadata": {},
   "outputs": [],
   "source": []
  },
  {
   "cell_type": "code",
   "execution_count": 7,
   "metadata": {},
   "outputs": [],
   "source": [
    "Amatrix = data[['C','H','N','O']].values\n",
    "corrections = np.matmul(Amatrix, correction_energies)\n",
    "calculation = data['Calculation'].values\n",
    "\n",
    "ndata = corrections.shape[0]\n",
    "calculation = calculation.reshape((ndata,1))\n",
    "\n",
    "corrected_energies = calculation + corrections\n",
    "data['corrected_calculation'] = corrected_energies"
   ]
  },
  {
   "cell_type": "code",
   "execution_count": 8,
   "metadata": {},
   "outputs": [],
   "source": [
    "print_cols = ['name','Experiment','corrected_calculation']\n",
    "\n",
    "train = data[data.Use_to_train.notnull()]\n",
    "pred = data[data.Use_to_train.isnull()]"
   ]
  },
  {
   "cell_type": "code",
   "execution_count": 9,
   "metadata": {},
   "outputs": [
    {
     "name": "stdout",
     "output_type": "stream",
     "text": [
      "      name  Experiment  corrected_calculation\n",
      "0      H2O     -241.83            -218.602025\n",
      "1      NH3      -45.90             -42.741190\n",
      "2      HN3      264.00             275.421767\n",
      "3      CO2     -393.52            -358.150664\n",
      "4      CH4      -74.87             -72.771367\n",
      "5    CH3OH     -205.00            -186.694315\n",
      "8   CH3NO3     -122.00            -141.074568\n",
      "9  C2H5NO3     -155.00            -173.349543\n"
     ]
    }
   ],
   "source": [
    "print (train[print_cols])"
   ]
  },
  {
   "cell_type": "code",
   "execution_count": 10,
   "metadata": {},
   "outputs": [
    {
     "name": "stdout",
     "output_type": "stream",
     "text": [
      "             name  Experiment  corrected_calculation\n",
      "6          C2H5OH      -234.0            -220.065348\n",
      "7         GLYCINE      -390.5            -363.074065\n",
      "10          TMETN         NaN            -380.480533\n",
      "11  Nitroglycerin      -279.1            -335.037731\n"
     ]
    }
   ],
   "source": [
    "print (pred[print_cols])"
   ]
  },
  {
   "cell_type": "code",
   "execution_count": null,
   "metadata": {},
   "outputs": [],
   "source": []
  }
 ],
 "metadata": {
  "kernelspec": {
   "display_name": "Python 3",
   "language": "python",
   "name": "python3"
  },
  "language_info": {
   "codemirror_mode": {
    "name": "ipython",
    "version": 3
   },
   "file_extension": ".py",
   "mimetype": "text/x-python",
   "name": "python",
   "nbconvert_exporter": "python",
   "pygments_lexer": "ipython3",
   "version": "3.7.9"
  }
 },
 "nbformat": 4,
 "nbformat_minor": 4
}
