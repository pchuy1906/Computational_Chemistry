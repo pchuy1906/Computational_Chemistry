{
 "cells": [
  {
   "cell_type": "markdown",
   "metadata": {},
   "source": [
    "**Source of the materials**: Biopython Tutorial and Cookbook (adapted)"
   ]
  },
  {
   "cell_type": "markdown",
   "metadata": {},
   "source": [
    "# Sequence Input/Output"
   ]
  },
  {
   "cell_type": "markdown",
   "metadata": {},
   "source": [
    "In this notebook we'll discuss in more detail the Bio.SeqIO module, which was briefly introduced before. This aims to provide a simple interface for working with assorted sequence file formats in a uniform way.\n",
    "See also the Bio.SeqIO wiki page (http://biopython.org/wiki/SeqIO), and the built in documentation (also [online](http://biopython.org/DIST/docs/api/Bio.SeqIO-module.html \"online\")):"
   ]
  },
  {
   "cell_type": "code",
   "execution_count": 1,
   "metadata": {},
   "outputs": [
    {
     "name": "stdout",
     "output_type": "stream",
     "text": [
      "Help on package Bio.SeqIO in Bio:\n",
      "\n",
      "NAME\n",
      "    Bio.SeqIO - Sequence input/output as SeqRecord objects.\n",
      "\n",
      "DESCRIPTION\n",
      "    Bio.SeqIO is also documented at SeqIO_ and by a whole chapter in our tutorial:\n",
      "    \n",
      "      - `HTML Tutorial`_\n",
      "      - `PDF Tutorial`_\n",
      "    \n",
      "    .. _SeqIO: http://biopython.org/wiki/SeqIO\n",
      "    .. _`HTML Tutorial`: http://biopython.org/DIST/docs/tutorial/Tutorial.html\n",
      "    .. _`PDF Tutorial`: http://biopython.org/DIST/docs/tutorial/Tutorial.pdf\n",
      "    \n",
      "    Input\n",
      "    -----\n",
      "    The main function is Bio.SeqIO.parse(...) which takes an input file handle\n",
      "    (or in recent versions of Biopython alternatively a filename as a string),\n",
      "    and format string.  This returns an iterator giving SeqRecord objects:\n",
      "    \n",
      "    >>> from Bio import SeqIO\n",
      "    >>> for record in SeqIO.parse(\"Fasta/f002\", \"fasta\"):\n",
      "    ...     print(\"%s %i\" % (record.id, len(record)))\n",
      "    gi|1348912|gb|G26680|G26680 633\n",
      "    gi|1348917|gb|G26685|G26685 413\n",
      "    gi|1592936|gb|G29385|G29385 471\n",
      "    \n",
      "    Note that the parse() function will invoke the relevant parser for the\n",
      "    format with its default settings.  You may want more control, in which case\n",
      "    you need to create a format specific sequence iterator directly.\n",
      "    \n",
      "    Some of these parsers are wrappers around low-level parsers which build up\n",
      "    SeqRecord objects for the consistent SeqIO interface. In cases where the\n",
      "    run-time is critical, such as large FASTA or FASTQ files, calling these\n",
      "    underlying parsers will be much faster - in this case these generator\n",
      "    functions which return tuples of strings:\n",
      "    \n",
      "    >>> from Bio.SeqIO.FastaIO import SimpleFastaParser\n",
      "    >>> from Bio.SeqIO.QualityIO import FastqGeneralIterator\n",
      "    \n",
      "    \n",
      "    Input - Single Records\n",
      "    ----------------------\n",
      "    If you expect your file to contain one-and-only-one record, then we provide\n",
      "    the following 'helper' function which will return a single SeqRecord, or\n",
      "    raise an exception if there are no records or more than one record:\n",
      "    \n",
      "    >>> from Bio import SeqIO\n",
      "    >>> record = SeqIO.read(\"Fasta/f001\", \"fasta\")\n",
      "    >>> print(\"%s %i\" % (record.id, len(record)))\n",
      "    gi|3318709|pdb|1A91| 79\n",
      "    \n",
      "    This style is useful when you expect a single record only (and would\n",
      "    consider multiple records an error).  For example, when dealing with GenBank\n",
      "    files for bacterial genomes or chromosomes, there is normally only a single\n",
      "    record.  Alternatively, use this with a handle when downloading a single\n",
      "    record from the internet.\n",
      "    \n",
      "    However, if you just want the first record from a file containing multiple\n",
      "    record, use the next() function on the iterator:\n",
      "    \n",
      "    >>> from Bio import SeqIO\n",
      "    >>> record = next(SeqIO.parse(\"Fasta/f002\", \"fasta\"))\n",
      "    >>> print(\"%s %i\" % (record.id, len(record)))\n",
      "    gi|1348912|gb|G26680|G26680 633\n",
      "    \n",
      "    The above code will work as long as the file contains at least one record.\n",
      "    Note that if there is more than one record, the remaining records will be\n",
      "    silently ignored.\n",
      "    \n",
      "    \n",
      "    Input - Multiple Records\n",
      "    ------------------------\n",
      "    For non-interlaced files (e.g. Fasta, GenBank, EMBL) with multiple records\n",
      "    using a sequence iterator can save you a lot of memory (RAM).  There is\n",
      "    less benefit for interlaced file formats (e.g. most multiple alignment file\n",
      "    formats).  However, an iterator only lets you access the records one by one.\n",
      "    \n",
      "    If you want random access to the records by number, turn this into a list:\n",
      "    \n",
      "    >>> from Bio import SeqIO\n",
      "    >>> records = list(SeqIO.parse(\"Fasta/f002\", \"fasta\"))\n",
      "    >>> len(records)\n",
      "    3\n",
      "    >>> print(records[1].id)\n",
      "    gi|1348917|gb|G26685|G26685\n",
      "    \n",
      "    If you want random access to the records by a key such as the record id,\n",
      "    turn the iterator into a dictionary:\n",
      "    \n",
      "    >>> from Bio import SeqIO\n",
      "    >>> record_dict = SeqIO.to_dict(SeqIO.parse(\"Fasta/f002\", \"fasta\"))\n",
      "    >>> len(record_dict)\n",
      "    3\n",
      "    >>> print(len(record_dict[\"gi|1348917|gb|G26685|G26685\"]))\n",
      "    413\n",
      "    \n",
      "    However, using list() or the to_dict() function will load all the records\n",
      "    into memory at once, and therefore is not possible on very large files.\n",
      "    Instead, for *some* file formats Bio.SeqIO provides an indexing approach\n",
      "    providing dictionary like access to any record. For example,\n",
      "    \n",
      "    >>> from Bio import SeqIO\n",
      "    >>> record_dict = SeqIO.index(\"Fasta/f002\", \"fasta\")\n",
      "    >>> len(record_dict)\n",
      "    3\n",
      "    >>> print(len(record_dict[\"gi|1348917|gb|G26685|G26685\"]))\n",
      "    413\n",
      "    >>> record_dict.close()\n",
      "    \n",
      "    Many but not all of the supported input file formats can be indexed like\n",
      "    this. For example \"fasta\", \"fastq\", \"qual\" and even the binary format \"sff\"\n",
      "    work, but alignment formats like \"phylip\", \"clustalw\" and \"nexus\" will not.\n",
      "    \n",
      "    In most cases you can also use SeqIO.index to get the record from the file\n",
      "    as a raw string (not a SeqRecord). This can be useful for example to extract\n",
      "    a sub-set of records from a file where SeqIO cannot output the file format\n",
      "    (e.g. the plain text SwissProt format, \"swiss\") or where it is important to\n",
      "    keep the output 100% identical to the input). For example,\n",
      "    \n",
      "    >>> from Bio import SeqIO\n",
      "    >>> record_dict = SeqIO.index(\"Fasta/f002\", \"fasta\")\n",
      "    >>> len(record_dict)\n",
      "    3\n",
      "    >>> print(record_dict.get_raw(\"gi|1348917|gb|G26685|G26685\").decode())\n",
      "    >gi|1348917|gb|G26685|G26685 human STS STS_D11734.\n",
      "    CGGAGCCAGCGAGCATATGCTGCATGAGGACCTTTCTATCTTACATTATGGCTGGGAATCTTACTCTTTC\n",
      "    ATCTGATACCTTGTTCAGATTTCAAAATAGTTGTAGCCTTATCCTGGTTTTACAGATGTGAAACTTTCAA\n",
      "    GAGATTTACTGACTTTCCTAGAATAGTTTCTCTACTGGAAACCTGATGCTTTTATAAGCCATTGTGATTA\n",
      "    GGATGACTGTTACAGGCTTAGCTTTGTGTGAAANCCAGTCACCTTTCTCCTAGGTAATGAGTAGTGCTGT\n",
      "    TCATATTACTNTAAGTTCTATAGCATACTTGCNATCCTTTANCCATGCTTATCATANGTACCATTTGAGG\n",
      "    AATTGNTTTGCCCTTTTGGGTTTNTTNTTGGTAAANNNTTCCCGGGTGGGGGNGGTNNNGAAA\n",
      "    <BLANKLINE>\n",
      "    >>> print(record_dict[\"gi|1348917|gb|G26685|G26685\"].format(\"fasta\"))\n",
      "    >gi|1348917|gb|G26685|G26685 human STS STS_D11734.\n",
      "    CGGAGCCAGCGAGCATATGCTGCATGAGGACCTTTCTATCTTACATTATGGCTGGGAATC\n",
      "    TTACTCTTTCATCTGATACCTTGTTCAGATTTCAAAATAGTTGTAGCCTTATCCTGGTTT\n",
      "    TACAGATGTGAAACTTTCAAGAGATTTACTGACTTTCCTAGAATAGTTTCTCTACTGGAA\n",
      "    ACCTGATGCTTTTATAAGCCATTGTGATTAGGATGACTGTTACAGGCTTAGCTTTGTGTG\n",
      "    AAANCCAGTCACCTTTCTCCTAGGTAATGAGTAGTGCTGTTCATATTACTNTAAGTTCTA\n",
      "    TAGCATACTTGCNATCCTTTANCCATGCTTATCATANGTACCATTTGAGGAATTGNTTTG\n",
      "    CCCTTTTGGGTTTNTTNTTGGTAAANNNTTCCCGGGTGGGGGNGGTNNNGAAA\n",
      "    <BLANKLINE>\n",
      "    >>> record_dict.close()\n",
      "    \n",
      "    Here the original file and what Biopython would output differ in the line\n",
      "    wrapping. Also note that the get_raw method will return a bytes object,\n",
      "    hence the use of decode to turn it into a string.\n",
      "    \n",
      "    Also note that the get_raw method will preserve the newline endings. This\n",
      "    example FASTQ file uses Unix style endings (b\"\\n\" only),\n",
      "    \n",
      "    >>> from Bio import SeqIO\n",
      "    >>> fastq_dict = SeqIO.index(\"Quality/example.fastq\", \"fastq\")\n",
      "    >>> len(fastq_dict)\n",
      "    3\n",
      "    >>> raw = fastq_dict.get_raw(\"EAS54_6_R1_2_1_540_792\")\n",
      "    >>> raw.count(b\"\\n\")\n",
      "    4\n",
      "    >>> raw.count(b\"\\r\\n\")\n",
      "    0\n",
      "    >>> b\"\\r\" in raw\n",
      "    False\n",
      "    >>> len(raw)\n",
      "    78\n",
      "    >>> fastq_dict.close()\n",
      "    \n",
      "    Here is the same file but using DOS/Windows new lines (b\"\\r\\n\" instead),\n",
      "    \n",
      "    >>> from Bio import SeqIO\n",
      "    >>> fastq_dict = SeqIO.index(\"Quality/example_dos.fastq\", \"fastq\")\n",
      "    >>> len(fastq_dict)\n",
      "    3\n",
      "    >>> raw = fastq_dict.get_raw(\"EAS54_6_R1_2_1_540_792\")\n",
      "    >>> raw.count(b\"\\n\")\n",
      "    4\n",
      "    >>> raw.count(b\"\\r\\n\")\n",
      "    4\n",
      "    >>> b\"\\r\\n\" in raw\n",
      "    True\n",
      "    >>> len(raw)\n",
      "    82\n",
      "    >>> fastq_dict.close()\n",
      "    \n",
      "    Because this uses two bytes for each new line, the file is longer than\n",
      "    the Unix equivalent with only one byte.\n",
      "    \n",
      "    \n",
      "    Input - Alignments\n",
      "    ------------------\n",
      "    You can read in alignment files as alignment objects using Bio.AlignIO.\n",
      "    Alternatively, reading in an alignment file format via Bio.SeqIO will give\n",
      "    you a SeqRecord for each row of each alignment:\n",
      "    \n",
      "    >>> from Bio import SeqIO\n",
      "    >>> for record in SeqIO.parse(\"Clustalw/hedgehog.aln\", \"clustal\"):\n",
      "    ...     print(\"%s %i\" % (record.id, len(record)))\n",
      "    gi|167877390|gb|EDS40773.1| 447\n",
      "    gi|167234445|ref|NP_001107837. 447\n",
      "    gi|74100009|gb|AAZ99217.1| 447\n",
      "    gi|13990994|dbj|BAA33523.2| 447\n",
      "    gi|56122354|gb|AAV74328.1| 447\n",
      "    \n",
      "    \n",
      "    Output\n",
      "    ------\n",
      "    Use the function Bio.SeqIO.write(...), which takes a complete set of\n",
      "    SeqRecord objects (either as a list, or an iterator), an output file handle\n",
      "    (or in recent versions of Biopython an output filename as a string) and of\n",
      "    course the file format::\n",
      "    \n",
      "      from Bio import SeqIO\n",
      "      records = ...\n",
      "      SeqIO.write(records, \"example.faa\", \"fasta\")\n",
      "    \n",
      "    Or, using a handle::\n",
      "    \n",
      "        from Bio import SeqIO\n",
      "        records = ...\n",
      "        with open(\"example.faa\", \"w\") as handle:\n",
      "          SeqIO.write(records, handle, \"fasta\")\n",
      "    \n",
      "    You are expected to call this function once (with all your records) and if\n",
      "    using a handle, make sure you close it to flush the data to the hard disk.\n",
      "    \n",
      "    \n",
      "    Output - Advanced\n",
      "    -----------------\n",
      "    The effect of calling write() multiple times on a single file will vary\n",
      "    depending on the file format, and is best avoided unless you have a strong\n",
      "    reason to do so.\n",
      "    \n",
      "    If you give a filename, then each time you call write() the existing file\n",
      "    will be overwritten. For sequential files formats (e.g. fasta, genbank) each\n",
      "    \"record block\" holds a single sequence.  For these files it would probably\n",
      "    be safe to call write() multiple times by re-using the same handle.\n",
      "    \n",
      "    However, trying this for certain alignment formats (e.g. phylip, clustal,\n",
      "    stockholm) would have the effect of concatenating several multiple sequence\n",
      "    alignments together.  Such files are created by the PHYLIP suite of programs\n",
      "    for bootstrap analysis, but it is clearer to do this via Bio.AlignIO instead.\n",
      "    \n",
      "    Worse, many fileformats have an explicit header and/or footer structure\n",
      "    (e.g. any XMl format, and most binary file formats like SFF). Here making\n",
      "    multiple calls to write() will result in an invalid file.\n",
      "    \n",
      "    \n",
      "    Conversion\n",
      "    ----------\n",
      "    The Bio.SeqIO.convert(...) function allows an easy interface for simple\n",
      "    file format conversions. Additionally, it may use file format specific\n",
      "    optimisations so this should be the fastest way too.\n",
      "    \n",
      "    In general however, you can combine the Bio.SeqIO.parse(...) function with\n",
      "    the Bio.SeqIO.write(...) function for sequence file conversion. Using\n",
      "    generator expressions or generator functions provides a memory efficient way\n",
      "    to perform filtering or other extra operations as part of the process.\n",
      "    \n",
      "    \n",
      "    File Formats\n",
      "    ------------\n",
      "    When specifying the file format, use lowercase strings.  The same format\n",
      "    names are also used in Bio.AlignIO and include the following:\n",
      "    \n",
      "        - abi     - Applied Biosystem's sequencing trace format\n",
      "        - abi-trim - Same as \"abi\" but with quality trimming with Mott's algorithm\n",
      "        - ace     - Reads the contig sequences from an ACE assembly file.\n",
      "        - cif-atom - Uses Bio.PDB.MMCIFParser to determine the (partial) protein\n",
      "          sequence as it appears in the structure based on the atomic coordinates.\n",
      "        - cif-seqres - Reads a macromolecular Crystallographic Information File\n",
      "          (mmCIF) file to determine the complete protein sequence as defined by the\n",
      "          _pdbx_poly_seq_scheme records.\n",
      "        - embl    - The EMBL flat file format. Uses Bio.GenBank internally.\n",
      "        - fasta   - The generic sequence file format where each record starts with\n",
      "          an identifier line starting with a \">\" character, followed by\n",
      "          lines of sequence.\n",
      "        - fasta-2line - Stricter interpretation of the FASTA format using exactly\n",
      "          two lines per record (no line wrapping).\n",
      "        - fastq   - A \"FASTA like\" format used by Sanger which also stores PHRED\n",
      "          sequence quality values (with an ASCII offset of 33).\n",
      "        - fastq-sanger - An alias for \"fastq\" for consistency with BioPerl and EMBOSS\n",
      "        - fastq-solexa - Original Solexa/Illumnia variant of the FASTQ format which\n",
      "          encodes Solexa quality scores (not PHRED quality scores) with an\n",
      "          ASCII offset of 64.\n",
      "        - fastq-illumina - Solexa/Illumina 1.3 to 1.7 variant of the FASTQ format\n",
      "          which encodes PHRED quality scores with an ASCII offset of 64\n",
      "          (not 33). Note as of version 1.8 of the CASAVA pipeline Illumina\n",
      "          will produce FASTQ files using the standard Sanger encoding.\n",
      "        - gck     - Gene Construction Kit's format.\n",
      "        - genbank - The GenBank or GenPept flat file format.\n",
      "        - gb      - An alias for \"genbank\", for consistency with NCBI Entrez Utilities\n",
      "        - ig      - The IntelliGenetics file format, apparently the same as the\n",
      "          MASE alignment format.\n",
      "        - imgt    - An EMBL like format from IMGT where the feature tables are more\n",
      "          indented to allow for longer feature types.\n",
      "        - nib     - UCSC's nib file format for nucleotide sequences, which uses one\n",
      "          nibble (4 bits) to represent each nucleotide, and stores two nucleotides in\n",
      "          one byte.\n",
      "        - pdb-seqres -  Reads a Protein Data Bank (PDB) file to determine the\n",
      "          complete protein sequence as it appears in the header (no dependencies).\n",
      "        - pdb-atom - Uses Bio.PDB to determine the (partial) protein sequence as\n",
      "          it appears in the structure based on the atom coordinate section of the\n",
      "          file (requires NumPy for Bio.PDB).\n",
      "        - phd     - Output from PHRED, used by PHRAP and CONSED for input.\n",
      "        - pir     - A \"FASTA like\" format introduced by the National Biomedical\n",
      "          Research Foundation (NBRF) for the Protein Information Resource\n",
      "          (PIR) database, now part of UniProt.\n",
      "        - seqxml  - SeqXML, simple XML format described in Schmitt et al (2011).\n",
      "        - sff     - Standard Flowgram Format (SFF), typical output from Roche 454.\n",
      "        - sff-trim - Standard Flowgram Format (SFF) with given trimming applied.\n",
      "        - snapgene - SnapGene's native format.\n",
      "        - swiss   - Plain text Swiss-Prot aka UniProt format.\n",
      "        - tab     - Simple two column tab separated sequence files, where each\n",
      "          line holds a record's identifier and sequence. For example,\n",
      "          this is used as by Aligent's eArray software when saving\n",
      "          microarray probes in a minimal tab delimited text file.\n",
      "        - qual    - A \"FASTA like\" format holding PHRED quality values from\n",
      "          sequencing DNA, but no actual sequences (usually provided\n",
      "          in separate FASTA files).\n",
      "        - uniprot-xml - The UniProt XML format (replacement for the SwissProt plain\n",
      "          text format which we call \"swiss\")\n",
      "        - xdna        - DNA Strider's and SerialCloner's native format.\n",
      "    \n",
      "    Note that while Bio.SeqIO can read all the above file formats, it cannot\n",
      "    write to all of them.\n",
      "    \n",
      "    You can also use any file format supported by Bio.AlignIO, such as \"nexus\",\n",
      "    \"phylip\" and \"stockholm\", which gives you access to the individual sequences\n",
      "    making up each alignment as SeqRecords.\n",
      "\n",
      "PACKAGE CONTENTS\n",
      "    AbiIO\n",
      "    AceIO\n",
      "    FastaIO\n",
      "    GckIO\n",
      "    IgIO\n",
      "    InsdcIO\n",
      "    Interfaces\n",
      "    NibIO\n",
      "    PdbIO\n",
      "    PhdIO\n",
      "    PirIO\n",
      "    QualityIO\n",
      "    SeqXmlIO\n",
      "    SffIO\n",
      "    SnapGeneIO\n",
      "    SwissIO\n",
      "    TabIO\n",
      "    UniprotIO\n",
      "    XdnaIO\n",
      "    _index\n",
      "\n",
      "FUNCTIONS\n",
      "    convert(in_file, in_format, out_file, out_format, molecule_type=None)\n",
      "        Convert between two sequence file formats, return number of records.\n",
      "        \n",
      "        Arguments:\n",
      "         - in_file - an input handle or filename\n",
      "         - in_format - input file format, lower case string\n",
      "         - out_file - an output handle or filename\n",
      "         - out_format - output file format, lower case string\n",
      "         - molecule_type - optional molecule type to apply, string containing\n",
      "           \"DNA\", \"RNA\" or \"protein\".\n",
      "        \n",
      "        **NOTE** - If you provide an output filename, it will be opened which will\n",
      "        overwrite any existing file without warning.\n",
      "        \n",
      "        The idea here is that while doing this will work::\n",
      "        \n",
      "            from Bio import SeqIO\n",
      "            records = SeqIO.parse(in_handle, in_format)\n",
      "            count = SeqIO.write(records, out_handle, out_format)\n",
      "        \n",
      "        it is shorter to write::\n",
      "        \n",
      "            from Bio import SeqIO\n",
      "            count = SeqIO.convert(in_handle, in_format, out_handle, out_format)\n",
      "        \n",
      "        Also, Bio.SeqIO.convert is faster for some conversions as it can make some\n",
      "        optimisations.\n",
      "        \n",
      "        For example, going from a filename to a handle:\n",
      "        \n",
      "        >>> from Bio import SeqIO\n",
      "        >>> from io import StringIO\n",
      "        >>> handle = StringIO(\"\")\n",
      "        >>> SeqIO.convert(\"Quality/example.fastq\", \"fastq\", handle, \"fasta\")\n",
      "        3\n",
      "        >>> print(handle.getvalue())\n",
      "        >EAS54_6_R1_2_1_413_324\n",
      "        CCCTTCTTGTCTTCAGCGTTTCTCC\n",
      "        >EAS54_6_R1_2_1_540_792\n",
      "        TTGGCAGGCCAAGGCCGATGGATCA\n",
      "        >EAS54_6_R1_2_1_443_348\n",
      "        GTTGCTTCTGGCGTGGGTGGGGGGG\n",
      "        <BLANKLINE>\n",
      "        \n",
      "        Note some formats like SeqXML require you to specify the molecule type\n",
      "        when it cannot be determined by the parser:\n",
      "        \n",
      "        >>> from Bio import SeqIO\n",
      "        >>> from io import BytesIO\n",
      "        >>> handle = BytesIO()\n",
      "        >>> SeqIO.convert(\"Quality/example.fastq\", \"fastq\", handle, \"seqxml\", \"DNA\")\n",
      "        3\n",
      "    \n",
      "    index(filename, format, alphabet=None, key_function=None)\n",
      "        Indexes a sequence file and returns a dictionary like object.\n",
      "        \n",
      "        Arguments:\n",
      "         - filename - string giving name of file to be indexed\n",
      "         - format   - lower case string describing the file format\n",
      "         - alphabet - no longer used, leave as None\n",
      "         - key_function - Optional callback function which when given a\n",
      "           SeqRecord identifier string should return a unique key for the\n",
      "           dictionary.\n",
      "        \n",
      "        This indexing function will return a dictionary like object, giving the\n",
      "        SeqRecord objects as values.\n",
      "        \n",
      "        As of Biopython 1.69, this will preserve the ordering of the records in\n",
      "        file when iterating over the entries.\n",
      "        \n",
      "        >>> from Bio import SeqIO\n",
      "        >>> records = SeqIO.index(\"Quality/example.fastq\", \"fastq\")\n",
      "        >>> len(records)\n",
      "        3\n",
      "        >>> list(records)  # make a list of the keys\n",
      "        ['EAS54_6_R1_2_1_413_324', 'EAS54_6_R1_2_1_540_792', 'EAS54_6_R1_2_1_443_348']\n",
      "        >>> print(records[\"EAS54_6_R1_2_1_540_792\"].format(\"fasta\"))\n",
      "        >EAS54_6_R1_2_1_540_792\n",
      "        TTGGCAGGCCAAGGCCGATGGATCA\n",
      "        <BLANKLINE>\n",
      "        >>> \"EAS54_6_R1_2_1_540_792\" in records\n",
      "        True\n",
      "        >>> print(records.get(\"Missing\", None))\n",
      "        None\n",
      "        >>> records.close()\n",
      "        \n",
      "        If the file is BGZF compressed, this is detected automatically. Ordinary\n",
      "        GZIP files are not supported:\n",
      "        \n",
      "        >>> from Bio import SeqIO\n",
      "        >>> records = SeqIO.index(\"Quality/example.fastq.bgz\", \"fastq\")\n",
      "        >>> len(records)\n",
      "        3\n",
      "        >>> print(records[\"EAS54_6_R1_2_1_540_792\"].seq)\n",
      "        TTGGCAGGCCAAGGCCGATGGATCA\n",
      "        >>> records.close()\n",
      "        \n",
      "        When you call the index function, it will scan through the file, noting\n",
      "        the location of each record. When you access a particular record via the\n",
      "        dictionary methods, the code will jump to the appropriate part of the\n",
      "        file and then parse that section into a SeqRecord.\n",
      "        \n",
      "        Note that not all the input formats supported by Bio.SeqIO can be used\n",
      "        with this index function. It is designed to work only with sequential\n",
      "        file formats (e.g. \"fasta\", \"gb\", \"fastq\") and is not suitable for any\n",
      "        interlaced file format (e.g. alignment formats such as \"clustal\").\n",
      "        \n",
      "        For small files, it may be more efficient to use an in memory Python\n",
      "        dictionary, e.g.\n",
      "        \n",
      "        >>> from Bio import SeqIO\n",
      "        >>> records = SeqIO.to_dict(SeqIO.parse(\"Quality/example.fastq\", \"fastq\"))\n",
      "        >>> len(records)\n",
      "        3\n",
      "        >>> list(records)  # make a list of the keys\n",
      "        ['EAS54_6_R1_2_1_413_324', 'EAS54_6_R1_2_1_540_792', 'EAS54_6_R1_2_1_443_348']\n",
      "        >>> print(records[\"EAS54_6_R1_2_1_540_792\"].format(\"fasta\"))\n",
      "        >EAS54_6_R1_2_1_540_792\n",
      "        TTGGCAGGCCAAGGCCGATGGATCA\n",
      "        <BLANKLINE>\n",
      "        \n",
      "        As with the to_dict() function, by default the id string of each record\n",
      "        is used as the key. You can specify a callback function to transform\n",
      "        this (the record identifier string) into your preferred key. For example:\n",
      "        \n",
      "        >>> from Bio import SeqIO\n",
      "        >>> def make_tuple(identifier):\n",
      "        ...     parts = identifier.split(\"_\")\n",
      "        ...     return int(parts[-2]), int(parts[-1])\n",
      "        >>> records = SeqIO.index(\"Quality/example.fastq\", \"fastq\",\n",
      "        ...                       key_function=make_tuple)\n",
      "        >>> len(records)\n",
      "        3\n",
      "        >>> list(records)  # make a list of the keys\n",
      "        [(413, 324), (540, 792), (443, 348)]\n",
      "        >>> print(records[(540, 792)].format(\"fasta\"))\n",
      "        >EAS54_6_R1_2_1_540_792\n",
      "        TTGGCAGGCCAAGGCCGATGGATCA\n",
      "        <BLANKLINE>\n",
      "        >>> (540, 792) in records\n",
      "        True\n",
      "        >>> \"EAS54_6_R1_2_1_540_792\" in records\n",
      "        False\n",
      "        >>> print(records.get(\"Missing\", None))\n",
      "        None\n",
      "        >>> records.close()\n",
      "        \n",
      "        Another common use case would be indexing an NCBI style FASTA file,\n",
      "        where you might want to extract the GI number from the FASTA identifier\n",
      "        to use as the dictionary key.\n",
      "        \n",
      "        Notice that unlike the to_dict() function, here the key_function does\n",
      "        not get given the full SeqRecord to use to generate the key. Doing so\n",
      "        would impose a severe performance penalty as it would require the file\n",
      "        to be completely parsed while building the index. Right now this is\n",
      "        usually avoided.\n",
      "        \n",
      "        See Also: Bio.SeqIO.index_db() and Bio.SeqIO.to_dict()\n",
      "    \n",
      "    index_db(index_filename, filenames=None, format=None, alphabet=None, key_function=None)\n",
      "        Index several sequence files and return a dictionary like object.\n",
      "        \n",
      "        The index is stored in an SQLite database rather than in memory (as in the\n",
      "        Bio.SeqIO.index(...) function).\n",
      "        \n",
      "        Arguments:\n",
      "         - index_filename - Where to store the SQLite index\n",
      "         - filenames - list of strings specifying file(s) to be indexed, or when\n",
      "           indexing a single file this can be given as a string.\n",
      "           (optional if reloading an existing index, but must match)\n",
      "         - format   - lower case string describing the file format\n",
      "           (optional if reloading an existing index, but must match)\n",
      "         - alphabet - no longer used, leave as None.\n",
      "         - key_function - Optional callback function which when given a\n",
      "           SeqRecord identifier string should return a unique\n",
      "           key for the dictionary.\n",
      "        \n",
      "        This indexing function will return a dictionary like object, giving the\n",
      "        SeqRecord objects as values:\n",
      "        \n",
      "        >>> from Bio import SeqIO\n",
      "        >>> files = [\"GenBank/NC_000932.faa\", \"GenBank/NC_005816.faa\"]\n",
      "        >>> def get_gi(name):\n",
      "        ...     parts = name.split(\"|\")\n",
      "        ...     i = parts.index(\"gi\")\n",
      "        ...     assert i != -1\n",
      "        ...     return parts[i+1]\n",
      "        >>> idx_name = \":memory:\" #use an in memory SQLite DB for this test\n",
      "        >>> records = SeqIO.index_db(idx_name, files, \"fasta\", key_function=get_gi)\n",
      "        >>> len(records)\n",
      "        95\n",
      "        >>> records[\"7525076\"].description\n",
      "        'gi|7525076|ref|NP_051101.1| Ycf2 [Arabidopsis thaliana]'\n",
      "        >>> records[\"45478717\"].description\n",
      "        'gi|45478717|ref|NP_995572.1| pesticin [Yersinia pestis biovar Microtus str. 91001]'\n",
      "        >>> records.close()\n",
      "        \n",
      "        In this example the two files contain 85 and 10 records respectively.\n",
      "        \n",
      "        BGZF compressed files are supported, and detected automatically. Ordinary\n",
      "        GZIP compressed files are not supported.\n",
      "        \n",
      "        See Also: Bio.SeqIO.index() and Bio.SeqIO.to_dict(), and the Python module\n",
      "        glob which is useful for building lists of files.\n",
      "    \n",
      "    parse(handle, format, alphabet=None)\n",
      "        Turn a sequence file into an iterator returning SeqRecords.\n",
      "        \n",
      "        Arguments:\n",
      "         - handle   - handle to the file, or the filename as a string\n",
      "           (note older versions of Biopython only took a handle).\n",
      "         - format   - lower case string describing the file format.\n",
      "         - alphabet - no longer used, should be None.\n",
      "        \n",
      "        Typical usage, opening a file to read in, and looping over the record(s):\n",
      "        \n",
      "        >>> from Bio import SeqIO\n",
      "        >>> filename = \"Fasta/sweetpea.nu\"\n",
      "        >>> for record in SeqIO.parse(filename, \"fasta\"):\n",
      "        ...    print(\"ID %s\" % record.id)\n",
      "        ...    print(\"Sequence length %i\" % len(record))\n",
      "        ID gi|3176602|gb|U78617.1|LOU78617\n",
      "        Sequence length 309\n",
      "        \n",
      "        If you have a string 'data' containing the file contents, you must\n",
      "        first turn this into a handle in order to parse it:\n",
      "        \n",
      "        >>> data = \">Alpha\\nACCGGATGTA\\n>Beta\\nAGGCTCGGTTA\\n\"\n",
      "        >>> from Bio import SeqIO\n",
      "        >>> from io import StringIO\n",
      "        >>> for record in SeqIO.parse(StringIO(data), \"fasta\"):\n",
      "        ...     print(\"%s %s\" % (record.id, record.seq))\n",
      "        Alpha ACCGGATGTA\n",
      "        Beta AGGCTCGGTTA\n",
      "        \n",
      "        Use the Bio.SeqIO.read(...) function when you expect a single record\n",
      "        only.\n",
      "    \n",
      "    read(handle, format, alphabet=None)\n",
      "        Turn a sequence file into a single SeqRecord.\n",
      "        \n",
      "        Arguments:\n",
      "         - handle   - handle to the file, or the filename as a string\n",
      "           (note older versions of Biopython only took a handle).\n",
      "         - format   - string describing the file format.\n",
      "         - alphabet - no longer used, should be None.\n",
      "        \n",
      "        This function is for use parsing sequence files containing\n",
      "        exactly one record.  For example, reading a GenBank file:\n",
      "        \n",
      "        >>> from Bio import SeqIO\n",
      "        >>> record = SeqIO.read(\"GenBank/arab1.gb\", \"genbank\")\n",
      "        >>> print(\"ID %s\" % record.id)\n",
      "        ID AC007323.5\n",
      "        >>> print(\"Sequence length %i\" % len(record))\n",
      "        Sequence length 86436\n",
      "        \n",
      "        If the handle contains no records, or more than one record,\n",
      "        an exception is raised.  For example:\n",
      "        \n",
      "        >>> from Bio import SeqIO\n",
      "        >>> record = SeqIO.read(\"GenBank/cor6_6.gb\", \"genbank\")\n",
      "        Traceback (most recent call last):\n",
      "            ...\n",
      "        ValueError: More than one record found in handle\n",
      "        \n",
      "        If however you want the first record from a file containing\n",
      "        multiple records this function would raise an exception (as\n",
      "        shown in the example above).  Instead use:\n",
      "        \n",
      "        >>> from Bio import SeqIO\n",
      "        >>> record = next(SeqIO.parse(\"GenBank/cor6_6.gb\", \"genbank\"))\n",
      "        >>> print(\"First record's ID %s\" % record.id)\n",
      "        First record's ID X55053.1\n",
      "        \n",
      "        Use the Bio.SeqIO.parse(handle, format) function if you want\n",
      "        to read multiple records from the handle.\n",
      "    \n",
      "    to_dict(sequences, key_function=None)\n",
      "        Turn a sequence iterator or list into a dictionary.\n",
      "        \n",
      "        Arguments:\n",
      "         - sequences  - An iterator that returns SeqRecord objects,\n",
      "           or simply a list of SeqRecord objects.\n",
      "         - key_function - Optional callback function which when given a\n",
      "           SeqRecord should return a unique key for the dictionary.\n",
      "        \n",
      "        e.g. key_function = lambda rec : rec.name\n",
      "        or,  key_function = lambda rec : rec.description.split()[0]\n",
      "        \n",
      "        If key_function is omitted then record.id is used, on the assumption\n",
      "        that the records objects returned are SeqRecords with a unique id.\n",
      "        \n",
      "        If there are duplicate keys, an error is raised.\n",
      "        \n",
      "        Since Python 3.7, the default dict class maintains key order, meaning\n",
      "        this dictionary will reflect the order of records given to it. For\n",
      "        CPython and PyPy, this was already implemented for Python 3.6, so\n",
      "        effectively you can always assume the record order is preserved.\n",
      "        \n",
      "        Example usage, defaulting to using the record.id as key:\n",
      "        \n",
      "        >>> from Bio import SeqIO\n",
      "        >>> filename = \"GenBank/cor6_6.gb\"\n",
      "        >>> format = \"genbank\"\n",
      "        >>> id_dict = SeqIO.to_dict(SeqIO.parse(filename, format))\n",
      "        >>> print(list(id_dict))\n",
      "        ['X55053.1', 'X62281.1', 'M81224.1', 'AJ237582.1', 'L31939.1', 'AF297471.1']\n",
      "        >>> print(id_dict[\"L31939.1\"].description)\n",
      "        Brassica rapa (clone bif72) kin mRNA, complete cds\n",
      "        \n",
      "        A more complex example, using the key_function argument in order to\n",
      "        use a sequence checksum as the dictionary key:\n",
      "        \n",
      "        >>> from Bio import SeqIO\n",
      "        >>> from Bio.SeqUtils.CheckSum import seguid\n",
      "        >>> filename = \"GenBank/cor6_6.gb\"\n",
      "        >>> format = \"genbank\"\n",
      "        >>> seguid_dict = SeqIO.to_dict(SeqIO.parse(filename, format),\n",
      "        ...               key_function = lambda rec : seguid(rec.seq))\n",
      "        >>> for key, record in sorted(seguid_dict.items()):\n",
      "        ...     print(\"%s %s\" % (key, record.id))\n",
      "        /wQvmrl87QWcm9llO4/efg23Vgg AJ237582.1\n",
      "        BUg6YxXSKWEcFFH0L08JzaLGhQs L31939.1\n",
      "        SabZaA4V2eLE9/2Fm5FnyYy07J4 X55053.1\n",
      "        TtWsXo45S3ZclIBy4X/WJc39+CY M81224.1\n",
      "        l7gjJFE6W/S1jJn5+1ASrUKW/FA X62281.1\n",
      "        uVEYeAQSV5EDQOnFoeMmVea+Oow AF297471.1\n",
      "        \n",
      "        This approach is not suitable for very large sets of sequences, as all\n",
      "        the SeqRecord objects are held in memory. Instead, consider using the\n",
      "        Bio.SeqIO.index() function (if it supports your particular file format).\n",
      "        \n",
      "        Since Python 3.6, the default dict class maintains key order, meaning\n",
      "        this dictionary will reflect the order of records given to it. As of\n",
      "        Biopython 1.72, on older versions of Python we explicitly use an\n",
      "        OrderedDict so that you can always assume the record order is preserved.\n",
      "    \n",
      "    write(sequences, handle, format)\n",
      "        Write complete set of sequences to a file.\n",
      "        \n",
      "        Arguments:\n",
      "         - sequences - A list (or iterator) of SeqRecord objects, or a single\n",
      "           SeqRecord.\n",
      "         - handle    - File handle object to write to, or filename as string.\n",
      "         - format    - lower case string describing the file format to write.\n",
      "        \n",
      "        Note if providing a file handle, your code should close the handle\n",
      "        after calling this function (to ensure the data gets flushed to disk).\n",
      "        \n",
      "        Returns the number of records written (as an integer).\n",
      "\n",
      "FILE\n",
      "    /home/huy/anaconda3/envs/my-rdkit-env/lib/python3.7/site-packages/Bio/SeqIO/__init__.py\n",
      "\n",
      "\n"
     ]
    }
   ],
   "source": [
    "from Bio import SeqIO\n",
    "\n",
    "help(SeqIO)"
   ]
  },
  {
   "cell_type": "markdown",
   "metadata": {},
   "source": [
    "The 'catch' is that you have to work with SeqRecord objects (see Chapter 4), which contain a Seq object (Chapter 3) plus annotation like an identifier and description. Note that when dealing with very large FASTA or FASTQ files, the overhead of working with all these objects can make scripts too slow. In this case consider the low-level SimpleFastaParser and FastqGeneralIterator parsers which return just a tuple of strings for each record (see Section 5.6)"
   ]
  },
  {
   "cell_type": "markdown",
   "metadata": {},
   "source": [
    "## 5.1 Parsing or Reading Sequences"
   ]
  },
  {
   "cell_type": "markdown",
   "metadata": {},
   "source": [
    "The workhorse function Bio.SeqIO.parse() is used to read in sequence data as SeqRecord objects.  This function expects two arguments:\n",
    "\n",
    "1. The first argument is a handle to read the data from, or a filename. A handle is typically a file opened for reading, but could be the output from a command line program, or data downloaded from the internet (see Section 5.3). See Section 24.1 for more about handles.\n",
    "\n",
    "2. The second argument is a lower case string specifying sequence format -- we don't try and guess the file format for you!  See http://biopython.org/wiki/SeqIO for a full listing of supported formats.\n",
    "\n",
    "The Bio.SeqIO.parse() function returns an _iterator_ which gives SeqRecord objects. Iterators are typically used in a for loop as shown below.\n",
    "\n",
    "Sometimes you'll find yourself dealing with files which contain only a single record.  For this situation use the function Bio.SeqIO.read() which takes the same arguments.  Provided there is one and only one record in the file, this is returned as a SeqRecord object.  Otherwise an exception is raised."
   ]
  },
  {
   "cell_type": "markdown",
   "metadata": {},
   "source": [
    "### 5.1.1 Reading Sequence Files"
   ]
  },
  {
   "cell_type": "markdown",
   "metadata": {},
   "source": [
    "In general Bio.SeqIO.parse() is used to read in sequence files as SeqRecord objects, and is typically used with a for loop like this:\n"
   ]
  },
  {
   "cell_type": "code",
   "execution_count": 2,
   "metadata": {},
   "outputs": [
    {
     "name": "stdout",
     "output_type": "stream",
     "text": [
      "gi|2765658|emb|Z78533.1|CIZ78533\n",
      "Seq('CGTAACAAGGTTTCCGTAGGTGAACCTGCGGAAGGATCATTGATGAGACCGTGG...CGC')\n",
      "740\n",
      "gi|2765657|emb|Z78532.1|CCZ78532\n",
      "Seq('CGTAACAAGGTTTCCGTAGGTGAACCTGCGGAAGGATCATTGTTGAGACAACAG...GGC')\n",
      "753\n",
      "gi|2765656|emb|Z78531.1|CFZ78531\n",
      "Seq('CGTAACAAGGTTTCCGTAGGTGAACCTGCGGAAGGATCATTGTTGAGACAGCAG...TAA')\n",
      "748\n"
     ]
    }
   ],
   "source": [
    "# we show the first 3 only\n",
    "from Bio import SeqIO\n",
    "\n",
    "for i, seq_record in enumerate(SeqIO.parse(\"data/ls_orchid.fasta\", \"fasta\")):\n",
    "    print(seq_record.id)\n",
    "    print(repr(seq_record.seq))\n",
    "    print(len(seq_record))\n",
    "    if i == 2:\n",
    "        break"
   ]
  },
  {
   "cell_type": "markdown",
   "metadata": {},
   "source": [
    "The above example is repeated from the introduction in Section 2.4, and will load the orchid DNA sequences in the FASTA format file ls_orchid.fasta. If instead you wanted to load a GenBank format file like ls_orchid.gbk then all you need to do is change the filename and the format string:"
   ]
  },
  {
   "cell_type": "code",
   "execution_count": 3,
   "metadata": {},
   "outputs": [
    {
     "name": "stdout",
     "output_type": "stream",
     "text": [
      "Z78533.1\n",
      "CGTAACAAGGTTTCCGTAGGTGAACCTGCGGAAGGATCATTGATGAGACCGTGGAATAAACGATCGAGTGAATCCGGAGGACCGGTGTACTCAGCTCACCGGGGGCATTGCTCCCGTGGTGACCCTGATTTGTTGTTGGGCCGCCTCGGGAGCGTCCATGGCGGGTTTGAACCTCTAGCCCGGCGCAGTTTGGGCGCCAAGCCATATGAAAGCATCACCGGCGAATGGCATTGTCTTCCCCAAAACCCGGAGCGGCGGCGTGCTGTCGCGTGCCCAATGAATTTTGATGACTCTCGCAAACGGGAATCTTGGCTCTTTGCATCGGATGGAAGGACGCAGCGAAATGCGATAAGTGGTGTGAATTGCAAGATCCCGTGAACCATCGAGTCTTTTGAACGCAAGTTGCGCCCGAGGCCATCAGGCTAAGGGCACGCCTGCTTGGGCGTCGCGCTTCGTCTCTCTCCTGCCAATGCTTGCCCGGCATACAGCCAGGCCGGCGTGGTGCGGATGTGAAAGATTGGCCCCTTGTGCCTAGGTGCGGCGGGTCCAAGAGCTGGTGTTTTGATGGCCCGGAACCCGGCAAGAGGTGGACGGATGCTGGCAGCAGCTGCCGTGCGAATCCCCCATGTTGTCGTGCTTGTCGGACAGGCAGGAGAACCCTTCCGAACCCCAATGGAGGGCGGTTGACCGCCATTCGGATGTGACCCCAGGTCAGGCGGGGGCACCCGCTGAGTTTACGC\n",
      "740\n",
      "Z78532.1\n",
      "CGTAACAAGGTTTCCGTAGGTGAACCTGCGGAAGGATCATTGTTGAGACAACAGAATATATGATCGAGTGAATCTGGAGGACCTGTGGTAACTCAGCTCGTCGTGGCACTGCTTTTGTCGTGACCCTGCTTTGTTGTTGGGCCTCCTCAAGAGCTTTCATGGCAGGTTTGAACTTTAGTACGGTGCAGTTTGCGCCAAGTCATATAAAGCATCACTGATGAATGACATTATTGTCAGAAAAAATCAGAGGGGCAGTATGCTACTGAGCATGCCAGTGAATTTTTATGACTCTCGCAACGGATATCTTGGCTCTAACATCGATGAAGAACGCAGCTAAATGCGATAAGTGGTGTGAATTGCAGAATCCCGTGAACCATCGAGTCTTTGAACGCAAGTTGCGCTCGAGGCCATCAGGCTAAGGGCACGCCTGCCTGGGCGTCGTGTGTTGCGTCTCTCCTACCAATGCTTGCTTGGCATATCGCTAAGCTGGCATTATACGGATGTGAATGATTGGCCCCTTGTGCCTAGGTGCGGTGGGTCTAAGGATTGTTGCTTTGATGGGTAGGAATGTGGCACGAGGTGGAGAATGCTAACAGTCATAAGGCTGCTATTTGAATCCCCCATGTTGTTGTATTTTTTCGAACCTACACAAGAACCTAATTGAACCCCAATGGAGCTAAAATAACCATTGGGCAGTTGATTTCCATTCAGATGCGACCCCAGGTCAGGCGGGGCCACCCGCTGAGTTGAGGC\n",
      "753\n",
      "Z78531.1\n",
      "CGTAACAAGGTTTCCGTAGGTGAACCTGCGGAAGGATCATTGTTGAGACAGCAGAACATACGATCGAGTGAATCCGGAGGACCCGTGGTTACACGGCTCACCGTGGCTTTGCTCTCGTGGTGAACCCGGTTTGCGACCGGGCCGCCTCGGGAACTTTCATGGCGGGTTTGAACGTCTAGCGCGGCGCAGTTTGCGCCAAGTCATATGGAGCGTCACCGATGGATGGCATTTTTGTCAAGAAAAACTCGGAGGGGCGGCGTCTGTTGCGCGTGCCAATGAATTTATGACGACTCTCGGCAACGGGATATCTGGCTCTTGCATCGATGAAGAACGCAGCGAAATGCGATAAGTGGTGTGAATTGCAGAATCCCGCGAACCATCGAGTCTTTGAACGCAAGTTGCGCCCGAGGCCATCAGGCTAAGGGCACGCCTGCCTGGGCGTCGTGTGCTGCGTCTCTCCTGATAATGCTTGATTGGCATGCGGCTAGTCTGTCATTGTGAGGACGTGAAAGATTGGCCCCTTGCGCCTAGGTGCGGCGGGTCTAAGCATCGGTGTTCTGATGGCCCGGAACTTGGCAGTAGGTGGAGGATGCTGGCAGCCGCAAGGCTGCCGTTCGAATCCCCCGTGTTGTCGTACTCGTCAGGCCTACAGAAGAACCTGTTTGAACCCCCAGTGGACGCAAAACCGCCCTCGGGCGGTGATTTCCATTCAGATGCGACCCCAGTCAGGCGGGCCACCCGTGAGTAA\n",
      "748\n"
     ]
    }
   ],
   "source": [
    "#we show the frist 3\n",
    "from Bio import SeqIO\n",
    "\n",
    "for i, seq_record in enumerate(SeqIO.parse(\"data/ls_orchid.gbk\", \"genbank\")):\n",
    "    print(seq_record.id)\n",
    "    print(seq_record.seq)\n",
    "    print(len(seq_record))\n",
    "    if i == 2:\n",
    "        break"
   ]
  },
  {
   "cell_type": "markdown",
   "metadata": {},
   "source": [
    "Similarly, if you wanted to read in a file in another file format, then assuming Bio.SeqIO.parse() supports it you would just need to change the format string as appropriate, for example 'swiss' for SwissProt files or 'embl' for EMBL text files. There is a full listing on the wiki page (http://biopython.org/wiki/SeqIO) and in the built in documentation (also [online](\\http://biopython.org/DIST/docs/api/Bio.SeqIO-module.html \"online\")).\n",
    "\n",
    "Another very common way to use a Python iterator is within a list comprehension (or\n",
    "a generator expression).  For example, if all you wanted to extract from the file was\n",
    "a list of the record identifiers we can easily do this with the following list comprehension:"
   ]
  },
  {
   "cell_type": "code",
   "execution_count": 4,
   "metadata": {},
   "outputs": [
    {
     "data": {
      "text/plain": [
       "['Z78533.1',\n",
       " 'Z78532.1',\n",
       " 'Z78531.1',\n",
       " 'Z78530.1',\n",
       " 'Z78529.1',\n",
       " 'Z78527.1',\n",
       " 'Z78526.1',\n",
       " 'Z78525.1',\n",
       " 'Z78524.1',\n",
       " 'Z78523.1']"
      ]
     },
     "execution_count": 4,
     "metadata": {},
     "output_type": "execute_result"
    }
   ],
   "source": [
    "from Bio import SeqIO \n",
    "\n",
    "identifiers=[seq_record.id for seq_record in SeqIO.parse(\"data/ls_orchid.gbk\", \"genbank\")][:10]  # ten only\n",
    "identifiers"
   ]
  },
  {
   "cell_type": "markdown",
   "metadata": {},
   "source": [
    "There are more examples using SeqIO.parse() in a list comprehension like this in Section 20.2 (e.g. for plotting sequence lengths or GC%)."
   ]
  },
  {
   "cell_type": "markdown",
   "metadata": {},
   "source": [
    "### 5.1.2 Iterating over the records in a sequence file"
   ]
  },
  {
   "cell_type": "markdown",
   "metadata": {},
   "source": [
    "In the above examples, we have usually used a for loop to iterate over all the records one by one. You can use the for loop with all sorts of Python objects (including lists, tuples and strings) which support the iteration interface.\n",
    "\n",
    "The object returned by Bio.SeqIO is actually an iterator which returns SeqRecord objects. You get to see each record in turn, but once and only once. The plus point is that an iterator can save you memory when dealing with large files.\n",
    "\n",
    "Instead of using a for loop, can also use the next() function on an iterator to step through the entries, like this:"
   ]
  },
  {
   "cell_type": "code",
   "execution_count": 5,
   "metadata": {},
   "outputs": [
    {
     "name": "stdout",
     "output_type": "stream",
     "text": [
      "gi|2765658|emb|Z78533.1|CIZ78533\n",
      "gi|2765658|emb|Z78533.1|CIZ78533 C.irapeanum 5.8S rRNA gene and ITS1 and ITS2 DNA\n",
      "gi|2765657|emb|Z78532.1|CCZ78532\n",
      "gi|2765657|emb|Z78532.1|CCZ78532 C.californicum 5.8S rRNA gene and ITS1 and ITS2 DNA\n"
     ]
    }
   ],
   "source": [
    "record_iterator = SeqIO.parse(\"data/ls_orchid.fasta\", \"fasta\")\n",
    "\n",
    "first_record = next(record_iterator)\n",
    "print(first_record.id)\n",
    "print(first_record.description)\n",
    "\n",
    "second_record = next(record_iterator)\n",
    "print(second_record.id)\n",
    "print(second_record.description)"
   ]
  },
  {
   "cell_type": "markdown",
   "metadata": {},
   "source": [
    "Note that if you try to use next() and there are no more results, you'll get the special StopIteration exception.\n",
    "\n",
    "One special case to consider is when your sequence files have multiple records, but you only want the first one.  In this situation the following code is very concise:"
   ]
  },
  {
   "cell_type": "code",
   "execution_count": 6,
   "metadata": {},
   "outputs": [
    {
     "data": {
      "text/plain": [
       "SeqRecord(seq=Seq('CGTAACAAGGTTTCCGTAGGTGAACCTGCGGAAGGATCATTGATGAGACCGTGG...CGC'), id='Z78533.1', name='Z78533', description='C.irapeanum 5.8S rRNA gene and ITS1 and ITS2 DNA', dbxrefs=[])"
      ]
     },
     "execution_count": 6,
     "metadata": {},
     "output_type": "execute_result"
    }
   ],
   "source": [
    "from Bio import SeqIO\n",
    "\n",
    "next(SeqIO.parse(\"data/ls_orchid.gbk\", \"genbank\"))"
   ]
  },
  {
   "cell_type": "markdown",
   "metadata": {},
   "source": [
    "A word of warning here -- using the next() function like this will silently ignore any additional records in the file.\n",
    "If your files have _one and only one_ record, like some of the online examples later in this chapter, or a GenBank file for a single chromosome, then use the new Bio.SeqIO.read() function instead.\n",
    "This will check there are no extra unexpected records present.\n"
   ]
  },
  {
   "cell_type": "markdown",
   "metadata": {},
   "source": [
    "### 5.1.3 Getting a list of the records in a sequence file"
   ]
  },
  {
   "cell_type": "markdown",
   "metadata": {},
   "source": [
    "In the previous section we talked about the fact that Bio.SeqIO.parse() gives you a SeqRecord iterator, and that you get the records one by one. Very often you need to be able to access the records in any order. The Python list data type is perfect for this, and we can turn the record iterator into a list of SeqRecord objects using the built-in Python function list() like so:"
   ]
  },
  {
   "cell_type": "code",
   "execution_count": 7,
   "metadata": {},
   "outputs": [
    {
     "name": "stdout",
     "output_type": "stream",
     "text": [
      "Found 94 records\n",
      "The last record\n",
      "Z78439.1\n",
      "Seq('CATTGTTGAGATCACATAATAATTGATCGAGTTAATCTGGAGGATCTGTTTACT...GCC')\n",
      "592\n",
      "The first record\n",
      "Z78533.1\n",
      "Seq('CGTAACAAGGTTTCCGTAGGTGAACCTGCGGAAGGATCATTGATGAGACCGTGG...CGC')\n",
      "740\n"
     ]
    }
   ],
   "source": [
    "from Bio import SeqIO\n",
    "\n",
    "records = list(SeqIO.parse(\"data/ls_orchid.gbk\", \"genbank\"))\n",
    "\n",
    "print(\"Found %i records\" % len(records))\n",
    "\n",
    "print(\"The last record\")\n",
    "last_record = records[-1] #using Python's list tricks\n",
    "print(last_record.id)\n",
    "print(repr(last_record.seq))\n",
    "print(len(last_record))\n",
    "\n",
    "print(\"The first record\")\n",
    "first_record = records[0] #remember, Python counts from zero\n",
    "print(first_record.id)\n",
    "print(repr(first_record.seq))\n",
    "print(len(first_record))\n"
   ]
  },
  {
   "cell_type": "markdown",
   "metadata": {},
   "source": [
    "You can of course still use a for loop with a list of SeqRecord objects. Using a list is much more flexible than an iterator (for example, you can determine the number of records from the length of the list), but does need more memory because it will hold all the records in memory at once."
   ]
  },
  {
   "cell_type": "markdown",
   "metadata": {},
   "source": [
    "### 5.1.4 Extracting data"
   ]
  },
  {
   "cell_type": "markdown",
   "metadata": {},
   "source": [
    "The SeqRecord object and its annotation structures are described more fully in Chapter 4. As an example of how annotations are stored, we'll look at the output from parsing the first record in the GenBank file ls_orchid.gbk."
   ]
  },
  {
   "cell_type": "code",
   "execution_count": 8,
   "metadata": {},
   "outputs": [
    {
     "name": "stdout",
     "output_type": "stream",
     "text": [
      "ID: Z78533.1\n",
      "Name: Z78533\n",
      "Description: C.irapeanum 5.8S rRNA gene and ITS1 and ITS2 DNA\n",
      "Number of features: 5\n",
      "/molecule_type=DNA\n",
      "/topology=linear\n",
      "/data_file_division=PLN\n",
      "/date=30-NOV-2006\n",
      "/accessions=['Z78533']\n",
      "/sequence_version=1\n",
      "/gi=2765658\n",
      "/keywords=['5.8S ribosomal RNA', '5.8S rRNA gene', 'internal transcribed spacer', 'ITS1', 'ITS2']\n",
      "/source=Cypripedium irapeanum\n",
      "/organism=Cypripedium irapeanum\n",
      "/taxonomy=['Eukaryota', 'Viridiplantae', 'Streptophyta', 'Embryophyta', 'Tracheophyta', 'Spermatophyta', 'Magnoliophyta', 'Liliopsida', 'Asparagales', 'Orchidaceae', 'Cypripedioideae', 'Cypripedium']\n",
      "/references=[Reference(title='Phylogenetics of the slipper orchids (Cypripedioideae: Orchidaceae): nuclear rDNA ITS sequences', ...), Reference(title='Direct Submission', ...)]\n",
      "Seq('CGTAACAAGGTTTCCGTAGGTGAACCTGCGGAAGGATCATTGATGAGACCGTGG...CGC')\n"
     ]
    }
   ],
   "source": [
    "from Bio import SeqIO\n",
    "\n",
    "record_iterator = SeqIO.parse(\"data/ls_orchid.gbk\", \"genbank\")\n",
    "first_record = next(record_iterator)\n",
    "print(first_record)"
   ]
  },
  {
   "cell_type": "markdown",
   "metadata": {},
   "source": [
    "This gives a human readable summary of most of the annotation data for the SeqRecord. For this example we're going to use the .annotations attribute which is just a Python dictionary. The contents of this annotations dictionary were shown when we printed the record above. You can also print them out directly:\n",
    "\n",
    "print(first_record.annotations)\n",
    "\n",
    "Like any Python dictionary, you can easily get a list of the keys:\n",
    "\n",
    "    print(first_record.annotations.keys())\n",
    "\n",
    "or values:\n",
    "\n",
    "    print(first_record.annotations.values())\n",
    "\n",
    "In general, the annotation values are strings, or lists of strings. One special case is any references in the file get stored as reference objects.\n",
    "\n",
    "Suppose you wanted to extract a list of the species from the ls_orchid.gbk GenBank file. The information we want, _Cypripedium irapeanum_, is held in the annotations dictionary under 'source' and 'organism', which we can access like this:"
   ]
  },
  {
   "cell_type": "code",
   "execution_count": 9,
   "metadata": {},
   "outputs": [
    {
     "name": "stdout",
     "output_type": "stream",
     "text": [
      "Cypripedium irapeanum\n",
      "Cypripedium irapeanum\n"
     ]
    }
   ],
   "source": [
    "print(first_record.annotations[\"source\"])\n",
    "print(first_record.annotations[\"organism\"])"
   ]
  },
  {
   "cell_type": "markdown",
   "metadata": {},
   "source": [
    "In general, 'organism' is used for the scientific name (in Latin, e.g. _Arabidopsis thaliana_),\n",
    "while 'source' will often be the common name (e.g. thale cress).  In this example, as is often the case,\n",
    "the two fields are identical.  \n",
    "\n",
    "Now let's go through all the records, building up a list of the species each orchid sequence is from:"
   ]
  },
  {
   "cell_type": "code",
   "execution_count": 10,
   "metadata": {},
   "outputs": [
    {
     "name": "stdout",
     "output_type": "stream",
     "text": [
      "['Cypripedium irapeanum', 'Cypripedium californicum', 'Cypripedium fasciculatum', 'Cypripedium margaritaceum', 'Cypripedium lichiangense', 'Cypripedium yatabeanum', 'Cypripedium guttatum', 'Cypripedium acaule', 'Cypripedium formosanum', 'Cypripedium himalaicum']\n"
     ]
    }
   ],
   "source": [
    "from Bio import SeqIO\n",
    "\n",
    "all_species = []\n",
    "for seq_record in SeqIO.parse(\"data/ls_orchid.gbk\", \"genbank\"):\n",
    "    all_species.append(seq_record.annotations[\"organism\"])\n",
    "print(all_species[:10])  # we print only 10"
   ]
  },
  {
   "cell_type": "markdown",
   "metadata": {},
   "source": [
    "Another way of writing this code is to use a list comprehension:\n"
   ]
  },
  {
   "cell_type": "code",
   "execution_count": 11,
   "metadata": {},
   "outputs": [
    {
     "name": "stdout",
     "output_type": "stream",
     "text": [
      "['Cypripedium irapeanum', 'Cypripedium californicum', 'Cypripedium fasciculatum', 'Cypripedium margaritaceum', 'Cypripedium lichiangense', 'Cypripedium yatabeanum', 'Cypripedium guttatum', 'Cypripedium acaule', 'Cypripedium formosanum', 'Cypripedium himalaicum']\n"
     ]
    }
   ],
   "source": [
    "from Bio import SeqIO\n",
    "\n",
    "all_species = [seq_record.annotations[\"organism\"] \n",
    "for seq_record in SeqIO.parse(\"data/ls_orchid.gbk\", \"genbank\")\n",
    "]\n",
    "print(all_species[:10])"
   ]
  },
  {
   "cell_type": "markdown",
   "metadata": {},
   "source": [
    "Great.  That was pretty easy because GenBank files are annotated in a standardised way.\n",
    "\n",
    "Now, let's suppose you wanted to extract a list of the species from a FASTA file, rather than the GenBank file. The bad news is you will have to write some code to extract the data you want from the record's description line - if the information is in the file in the first place! Our example FASTA format file ls_orchid.fasta starts like this:\n",
    "\n",
    "    >gi|2765658|emb|Z78533.1|CIZ78533 C.irapeanum 5.8S rRNA gene and ITS1 and ITS2 DNA\n",
    "    CGTAACAAGGTTTCCGTAGGTGAACCTGCGGAAGGATCATTGATGAGACCGTGGAATAAACGATCGAGTG\n",
    "    AATCCGGAGGACCGGTGTACTCAGCTCACCGGGGGCATTGCTCCCGTGGTGACCCTGATTTGTTGTTGGG\n",
    "    ...\n",
    "\n",
    "You can check by hand, but for every record the species name is in the description line as the second word. This means if we break up each record's .description at the spaces, then the species is there as field number one (field zero is the record identifier).  That means we can do this:"
   ]
  },
  {
   "cell_type": "code",
   "execution_count": 12,
   "metadata": {},
   "outputs": [
    {
     "name": "stdout",
     "output_type": "stream",
     "text": [
      "['C.irapeanum', 'C.californicum', 'C.fasciculatum', 'C.margaritaceum', 'C.lichiangense', 'C.yatabeanum', 'C.guttatum', 'C.acaule', 'C.formosanum', 'C.himalaicum']\n"
     ]
    }
   ],
   "source": [
    "from Bio import SeqIO\n",
    "\n",
    "all_species = []\n",
    "for seq_record in SeqIO.parse(\"data/ls_orchid.fasta\", \"fasta\"):\n",
    "    all_species.append(seq_record.description.split()[1])\n",
    "print(all_species[:10])"
   ]
  },
  {
   "cell_type": "markdown",
   "metadata": {},
   "source": [
    "The concise alternative using list comprehensions would be:\n"
   ]
  },
  {
   "cell_type": "code",
   "execution_count": 13,
   "metadata": {},
   "outputs": [
    {
     "name": "stdout",
     "output_type": "stream",
     "text": [
      "['C.irapeanum', 'C.californicum', 'C.fasciculatum', 'C.margaritaceum', 'C.lichiangense', 'C.yatabeanum', 'C.guttatum', 'C.acaule', 'C.formosanum', 'C.himalaicum']\n"
     ]
    }
   ],
   "source": [
    "from Bio import SeqIO\n",
    "\n",
    "all_species == [\n",
    "    seq_record.description.split()[1]\n",
    "    for seq_record in SeqIO.parse(\"data/ls_orchid.fasta\", \"fasta\")]\n",
    "print(all_species[:10])"
   ]
  },
  {
   "cell_type": "markdown",
   "metadata": {},
   "source": [
    "In general, extracting information from the FASTA description line is not very nice.\n",
    "If you can get your sequences in a well annotated file format like GenBank or EMBL,\n",
    "then this sort of annotation information is much easier to deal with.\n",
    "\n"
   ]
  },
  {
   "cell_type": "markdown",
   "metadata": {},
   "source": [
    "### 5.1.5 Modifying data"
   ]
  },
  {
   "cell_type": "markdown",
   "metadata": {},
   "source": [
    "In the previus section, we demostrated how to extract data from a SeqRecord. Another common task is to alter this data. The attributes of a SeqRecord can be modified directly, for example:"
   ]
  },
  {
   "cell_type": "code",
   "execution_count": 14,
   "metadata": {},
   "outputs": [
    {
     "data": {
      "text/plain": [
       "'gi|2765658|emb|Z78533.1|CIZ78533'"
      ]
     },
     "execution_count": 14,
     "metadata": {},
     "output_type": "execute_result"
    }
   ],
   "source": [
    "from Bio import SeqIO\n",
    "\n",
    "record_iterator = SeqIO.parse(\"data/ls_orchid.fasta\", \"fasta\")\n",
    "first_record = next(record_iterator)\n",
    "first_record.id   "
   ]
  },
  {
   "cell_type": "code",
   "execution_count": 15,
   "metadata": {},
   "outputs": [
    {
     "data": {
      "text/plain": [
       "'new_id'"
      ]
     },
     "execution_count": 15,
     "metadata": {},
     "output_type": "execute_result"
    }
   ],
   "source": [
    "first_record.id = \"new_id\"\n",
    "first_record.id "
   ]
  },
  {
   "cell_type": "markdown",
   "metadata": {},
   "source": [
    "Note, if you want to change the way FASTA is output when written to a file (see Section 5.5), then you should modify both the id and description attributes. To ensure the correct behaviour, it is best to include the id plus a space at the start of the desired description:"
   ]
  },
  {
   "cell_type": "code",
   "execution_count": 16,
   "metadata": {},
   "outputs": [
    {
     "name": "stdout",
     "output_type": "stream",
     "text": [
      ">new_id desired new description\n",
      "CGTAACAAGGTTTCCGTAGGTGAACCTGCGGAAGGATCATTGATGAGACCGTGGAATAAA\n",
      "CGATCGAGTGAATCCGGAGGACCGGTGTACTCAGCTCACCGGGGGCATTGCTCCCGTGGT\n",
      "GACCCTGATTTGTTGTTGGGCCGCCTCGGGAGCGTCCATGGCGGGT\n"
     ]
    }
   ],
   "source": [
    "from Bio import SeqIO\n",
    "\n",
    "record_iterator = SeqIO.parse(\"data/ls_orchid.fasta\", \"fasta\")\n",
    "first_record = next(record_iterator)\n",
    "first_record.id = \"new_id\"\n",
    "first_record.description = first_record.id + \" \" + \"desired new description\"\n",
    "print(first_record.format(\"fasta\")[:200])"
   ]
  },
  {
   "cell_type": "markdown",
   "metadata": {},
   "source": [
    "## 5.2 Parsing sequences from compressed files"
   ]
  },
  {
   "cell_type": "markdown",
   "metadata": {},
   "source": [
    "In the previous section, we looked at parsing sequence data from a file. Instead of using a filename, you can give Bio.SeqIO a handle (see Section 24.1), and in this section we'll use handles to parse sequence from compressed files.\n",
    "\n",
    "As you'll have seen above, we can use Bio.SeqIO.read() or Bio.SeqIO.parse() with a filename - for instance this quick example calculates the total length of the sequences in a multiple record GenBank file using a generator expression:"
   ]
  },
  {
   "cell_type": "code",
   "execution_count": 17,
   "metadata": {},
   "outputs": [
    {
     "name": "stdout",
     "output_type": "stream",
     "text": [
      "67518\n"
     ]
    }
   ],
   "source": [
    "from Bio import SeqIO\n",
    "\n",
    "print(sum(len(r) for r in SeqIO.parse(\"data/ls_orchid.gbk\", \"gb\")))"
   ]
  },
  {
   "cell_type": "markdown",
   "metadata": {},
   "source": [
    "Here we use a file handle instead, using the \\verb|with| statement\n",
    "to close the handle automatically:\n"
   ]
  },
  {
   "cell_type": "code",
   "execution_count": 18,
   "metadata": {},
   "outputs": [
    {
     "name": "stdout",
     "output_type": "stream",
     "text": [
      "67518\n"
     ]
    }
   ],
   "source": [
    "from Bio import SeqIO\n",
    "\n",
    "with open(\"data/ls_orchid.gbk\") as handle:\n",
    "    print(sum(len(r) for r in SeqIO.parse(handle, \"gb\")))"
   ]
  },
  {
   "cell_type": "markdown",
   "metadata": {},
   "source": [
    "Or, the old fashioned way where you manually close the handle:\n"
   ]
  },
  {
   "cell_type": "code",
   "execution_count": 19,
   "metadata": {},
   "outputs": [
    {
     "name": "stdout",
     "output_type": "stream",
     "text": [
      "67518\n"
     ]
    }
   ],
   "source": [
    "from Bio import SeqIO\n",
    "\n",
    "handle = open(\"data/ls_orchid.gbk\")\n",
    "print(sum(len(r) for r in SeqIO.parse(handle, \"gb\")))"
   ]
  },
  {
   "cell_type": "code",
   "execution_count": 20,
   "metadata": {},
   "outputs": [],
   "source": [
    "handle.close()"
   ]
  },
  {
   "cell_type": "markdown",
   "metadata": {},
   "source": [
    "Now, suppose we have a gzip compressed file instead? These are very\n",
    "commonly used on Linux. We can use Python's gzip module to open\n",
    "the compressed file for reading - which gives us a handle object:"
   ]
  },
  {
   "cell_type": "code",
   "execution_count": 21,
   "metadata": {},
   "outputs": [
    {
     "name": "stdout",
     "output_type": "stream",
     "text": [
      "67518\n"
     ]
    }
   ],
   "source": [
    "import gzip\n",
    "\n",
    "from Bio import SeqIO\n",
    "with gzip.open(\"data/ls_orchid.gbk.gz\", \"rt\") as handle:\n",
    "    print(sum(len(r) for r in SeqIO.parse(handle, \"gb\")))"
   ]
  },
  {
   "cell_type": "markdown",
   "metadata": {},
   "source": [
    "Similarly if we had a bzip2 compressed file:"
   ]
  },
  {
   "cell_type": "code",
   "execution_count": 22,
   "metadata": {},
   "outputs": [
    {
     "name": "stdout",
     "output_type": "stream",
     "text": [
      "67518\n"
     ]
    }
   ],
   "source": [
    "import bz2\n",
    "from Bio import SeqIO\n",
    "\n",
    "with bz2.open(\"data/_ls_orchid.gbk.bz2\", \"rt\") as handle:\n",
    "     print(sum(len(r) for r in SeqIO.parse(handle, \"gb\")))"
   ]
  },
  {
   "cell_type": "markdown",
   "metadata": {},
   "source": [
    "There is a gzip (GNU Zip) variant called BGZF (Blocked GNU Zip Format), which can be treated like an ordinary gzip file for reading, but has advantages for random access later which we'll talk about later in Section 5.4.4."
   ]
  },
  {
   "cell_type": "markdown",
   "metadata": {},
   "source": [
    "## 5.3 Parsing sequences from the net"
   ]
  },
  {
   "cell_type": "markdown",
   "metadata": {},
   "source": [
    "In the previous sections, we looked at parsing sequence data from a file\n",
    "(using a filename or handle), and from compressed files (using a handle).\n",
    "Here we'll use Bio.SeqIO with another type of handle, a network\n",
    "connection, to download and parse sequences from the internet.\n",
    "\n",
    "Note that just because you _can_ download sequence data and parse it into\n",
    "a SeqRecord object in one go doesn't mean this is a good idea.\n",
    "In general, you should probably download sequences _once_ and save them to\n",
    "a file for reuse."
   ]
  },
  {
   "cell_type": "markdown",
   "metadata": {},
   "source": [
    "### 5.3.1 Parsing GenBank records from the net"
   ]
  },
  {
   "cell_type": "markdown",
   "metadata": {},
   "source": [
    "Section 9.6 talks about the Entrez EFetch interface in more detail, but for now let's just connect to NCBI and get a few Opuntia (prickly-pear) sequences from GenBank using their GI numbers.\n",
    "\n",
    "First of all, let's fetch just one record. If you don't care about the annotations and features downloading a FASTA file is a good choice as these are compact. Now remember, when you expect the handle to contain one and only one record, use the Bio.SeqIO.read() function:"
   ]
  },
  {
   "cell_type": "code",
   "execution_count": 23,
   "metadata": {},
   "outputs": [
    {
     "name": "stdout",
     "output_type": "stream",
     "text": [
      "AF191665.1 with 0 features\n"
     ]
    }
   ],
   "source": [
    "from Bio import Entrez\n",
    "from Bio import SeqIO\n",
    "\n",
    "Entrez.email = \"A.N.Other@example.com\"\n",
    "with Entrez.efetch(\n",
    "    db=\"nucleotide\", rettype=\"fasta\", retmode=\"text\", id=\"6273291\"\n",
    ") as handle:\n",
    "    seq_record = SeqIO.read(handle, \"fasta\")\n",
    "print(\"%s with %i features\" % (seq_record.id, len(seq_record.features)))"
   ]
  },
  {
   "cell_type": "markdown",
   "metadata": {},
   "source": [
    "The NCBI will also let you ask for the file in other formats, in particular as\n",
    "a GenBank file. Until Easter 2009, the Entrez EFetch API let you use ``genbank''\n",
    "as the return type, however the NCBI now insist on using the official\n",
    "return types of 'gb' (or 'gp' for proteins) as described on [EFetch for Sequence and other Molecular Biology Databases](http://www.ncbi.nlm.nih.gov/entrez/query/static/efetchseq_help.html \"EFetch for Sequence and other Molecular Biology Databases\"). As a result, in Biopython 1.50 onwards, we support “gb” as an alias for “genbank” in Bio.SeqIO."
   ]
  },
  {
   "cell_type": "code",
   "execution_count": 24,
   "metadata": {},
   "outputs": [
    {
     "name": "stdout",
     "output_type": "stream",
     "text": [
      "AF191665.1 with 3 features\n"
     ]
    }
   ],
   "source": [
    "from Bio import Entrez\n",
    "from Bio import SeqIO\n",
    "\n",
    "Entrez.email = \"A.N.Other@example.com\"\n",
    "with Entrez.efetch(\n",
    "    db=\"nucleotide\", rettype=\"gb\", retmode=\"text\", id=\"6273291\"\n",
    ") as handle:\n",
    "    seq_record = SeqIO.read(handle, \"gb\")  # using \"gb\" as an alias for \"genbank\"\n",
    "print(\"%s with %i features\" % (seq_record.id, len(seq_record.features)))"
   ]
  },
  {
   "cell_type": "markdown",
   "metadata": {},
   "source": [
    "Notice this time we have three features.\n",
    "\n",
    "Now let's fetch several records.  This time the handle contains multiple records,\n",
    "so we must use the Bio.SeqIO.parse() function:\n"
   ]
  },
  {
   "cell_type": "code",
   "execution_count": 25,
   "metadata": {},
   "outputs": [
    {
     "name": "stdout",
     "output_type": "stream",
     "text": [
      "AF191665.1 Opuntia marenae rpl16 gene; chloroplast gene for c...\n",
      "Sequence length 902, 3 features, from: chloroplast Grusonia marenae\n",
      "AF191664.1 Opuntia clavata rpl16 gene; chloroplast gene for c...\n",
      "Sequence length 899, 3 features, from: chloroplast Grusonia clavata\n",
      "AF191663.1 Opuntia bradtiana rpl16 gene; chloroplast gene for...\n",
      "Sequence length 899, 3 features, from: chloroplast Grusonia bradtiana\n"
     ]
    }
   ],
   "source": [
    "from Bio import Entrez\n",
    "from Bio import SeqIO\n",
    "\n",
    "Entrez.email = \"A.N.Other@example.com\"\n",
    "with Entrez.efetch(\n",
    "    db=\"nucleotide\", rettype=\"gb\", retmode=\"text\", id=\"6273291,6273290,6273289\"\n",
    ") as handle:\n",
    "    for seq_record in SeqIO.parse(handle, \"gb\"):\n",
    "        print(\"%s %s...\" % (seq_record.id, seq_record.description[:50]))\n",
    "        print(\n",
    "            \"Sequence length %i, %i features, from: %s\"\n",
    "            % (\n",
    "                len(seq_record),\n",
    "                len(seq_record.features),\n",
    "                seq_record.annotations[\"source\"],\n",
    "            )\n",
    "        )"
   ]
  },
  {
   "cell_type": "markdown",
   "metadata": {},
   "source": [
    "See Chapter 9 for more about the Bio.Entrez module, and make sure to read about the NCBI guidelines for using Entrez (Section 9.1)."
   ]
  },
  {
   "cell_type": "markdown",
   "metadata": {},
   "source": [
    "### 5.3.2 Parsing SwissProt sequences from the net"
   ]
  },
  {
   "cell_type": "markdown",
   "metadata": {},
   "source": [
    "Now let's use a handle to download a SwissProt file from ExPASy, something covered in more depth in Chapter 10. As mentioned above, when you expect the handle to contain one and only one record, use the Bio.SeqIO.read() function:"
   ]
  },
  {
   "cell_type": "code",
   "execution_count": 26,
   "metadata": {},
   "outputs": [
    {
     "name": "stdout",
     "output_type": "stream",
     "text": [
      "O23729\n",
      "CHS3_BROFI\n",
      "RecName: Full=Chalcone synthase 3; EC=2.3.1.74; AltName: Full=Naringenin-chalcone synthase 3;\n",
      "Seq('MAPAMEEIRQAQRAEGPAAVLAIGTSTPPNALYQADYPDYYFRITKSEHLTELK...GAE')\n",
      "Length 394\n",
      "['Acyltransferase', 'Flavonoid biosynthesis', 'Transferase']\n"
     ]
    }
   ],
   "source": [
    "from Bio import ExPASy\n",
    "from Bio import SeqIO\n",
    "\n",
    "with ExPASy.get_sprot_raw(\"O23729\") as handle:\n",
    "    seq_record = SeqIO.read(handle, \"swiss\")\n",
    "print(seq_record.id)\n",
    "print(seq_record.name)\n",
    "print(seq_record.description)\n",
    "print(repr(seq_record.seq))\n",
    "print(\"Length %i\" % len(seq_record))\n",
    "print(seq_record.annotations[\"keywords\"])"
   ]
  },
  {
   "cell_type": "markdown",
   "metadata": {},
   "source": [
    "## 5.4 5Sequence files as dictionaries"
   ]
  },
  {
   "cell_type": "markdown",
   "metadata": {},
   "source": [
    "We're now going to introduce three related functions in the \\verb|Bio.SeqIO|\n",
    "module which allow dictionary like random access to a multi-sequence file.\n",
    "There is a trade off here between flexibility and memory usage. In summary:\n",
    "\n",
    "* **Bio.SeqIO.to_dict()** is the most flexible but also the most memory demanding option (see Section 5.4.1). This is basically a helper function to build a normal Python dictionary with each entry held as a SeqRecord object in memory, allowing you to modify the records.\n",
    "\n",
    "* **Bio.SeqIO.index()** is a useful middle ground, acting like a read only dictionary and parsing sequences into SeqRecord objects on demand (see Section 5.4.2).\n",
    "\n",
    "* **Bio.SeqIO.index_db()** also acts like a read only dictionary but stores the identifiers and file offsets in a file on disk (as an SQLite3 database), meaning it has very low memory requirements (see Section 5.4.3), but will be a little bit slower.\n",
    "\n",
    "See the discussion for an broad overview (Section 5.4.5)."
   ]
  },
  {
   "cell_type": "markdown",
   "metadata": {},
   "source": [
    "### 5.4.1 Sequence files as Dictionaries -- In memory"
   ]
  },
  {
   "cell_type": "markdown",
   "metadata": {},
   "source": [
    "The next thing that we'll do with our ubiquitous orchid files is to show how to index them and access them like a database using the Python dictionary data type (like a hash in Perl). This is very useful for moderately large files where you only need to access certain elements of the file, and makes for a nice quick 'n dirty database. For dealing with larger files where memory becomes a problem, see Section 5.4.2 below.\n",
    "\n",
    "You can use the function Bio.SeqIO.to_dict() to make a SeqRecord dictionary (in memory). By default this will use each record's identifier (i.e. the .id attribute) as the key. Let's try this using our GenBank file:"
   ]
  },
  {
   "cell_type": "code",
   "execution_count": 27,
   "metadata": {},
   "outputs": [],
   "source": [
    "from Bio import SeqIO\n",
    "\n",
    "orchid_dict = SeqIO.to_dict(SeqIO.parse(\"data/ls_orchid.gbk\", \"genbank\"))"
   ]
  },
  {
   "cell_type": "markdown",
   "metadata": {},
   "source": [
    "There is just one required argument for Bio.SeqIO.to_dict(), a list or\n",
    "generator giving SeqRecord objects. Here we have just used the output\n",
    "from the SeqIO.parse function. As the name suggests, this returns a\n",
    "Python dictionary.\n",
    "\n",
    "Since this variable orchid_dict is an ordinary Python dictionary, we can look at all of the keys we have available:"
   ]
  },
  {
   "cell_type": "code",
   "execution_count": 28,
   "metadata": {},
   "outputs": [
    {
     "data": {
      "text/plain": [
       "94"
      ]
     },
     "execution_count": 28,
     "metadata": {},
     "output_type": "execute_result"
    }
   ],
   "source": [
    "len(orchid_dict)   "
   ]
  },
  {
   "cell_type": "code",
   "execution_count": 29,
   "metadata": {},
   "outputs": [
    {
     "data": {
      "text/plain": [
       "['Z78533.1',\n",
       " 'Z78532.1',\n",
       " 'Z78531.1',\n",
       " 'Z78530.1',\n",
       " 'Z78529.1',\n",
       " 'Z78527.1',\n",
       " 'Z78526.1',\n",
       " 'Z78525.1',\n",
       " 'Z78524.1',\n",
       " 'Z78523.1']"
      ]
     },
     "execution_count": 29,
     "metadata": {},
     "output_type": "execute_result"
    }
   ],
   "source": [
    "list(orchid_dict.keys())[:10] #ten only"
   ]
  },
  {
   "cell_type": "markdown",
   "metadata": {},
   "source": [
    "Under Python 3 the dictionary methods like \".keys()\" and \".values()\" are iterators rather than lists.\n",
    "\n",
    "If you really want to, you can even look at all the records at once:\n"
   ]
  },
  {
   "cell_type": "code",
   "execution_count": 30,
   "metadata": {},
   "outputs": [
    {
     "data": {
      "text/plain": [
       "[SeqRecord(seq=Seq('CGTAACAAGGTTTCCGTAGGTGAACCTGCGGAAGGATCATTGATGAGACCGTGG...CGC'), id='Z78533.1', name='Z78533', description='C.irapeanum 5.8S rRNA gene and ITS1 and ITS2 DNA', dbxrefs=[]),\n",
       " SeqRecord(seq=Seq('CGTAACAAGGTTTCCGTAGGTGAACCTGCGGAAGGATCATTGTTGAGACAACAG...GGC'), id='Z78532.1', name='Z78532', description='C.californicum 5.8S rRNA gene and ITS1 and ITS2 DNA', dbxrefs=[]),\n",
       " SeqRecord(seq=Seq('CGTAACAAGGTTTCCGTAGGTGAACCTGCGGAAGGATCATTGTTGAGACAGCAG...TAA'), id='Z78531.1', name='Z78531', description='C.fasciculatum 5.8S rRNA gene and ITS1 and ITS2 DNA', dbxrefs=[]),\n",
       " SeqRecord(seq=Seq('CGTAACAAGGTTTCCGTAGGTGAACCTGCGGAAGGATCATTGTTGAAACAACAT...CAT'), id='Z78530.1', name='Z78530', description='C.margaritaceum 5.8S rRNA gene and ITS1 and ITS2 DNA', dbxrefs=[]),\n",
       " SeqRecord(seq=Seq('ACGGCGAGCTGCCGAAGGACATTGTTGAGACAGCAGAATATACGATTGAGTGAA...AAA'), id='Z78529.1', name='Z78529', description='C.lichiangense 5.8S rRNA gene and ITS1 and ITS2 DNA', dbxrefs=[])]"
      ]
     },
     "execution_count": 30,
     "metadata": {},
     "output_type": "execute_result"
    }
   ],
   "source": [
    "list(orchid_dict.values())[:5]  # Ok not all at once..."
   ]
  },
  {
   "cell_type": "markdown",
   "metadata": {},
   "source": [
    "We can access a single SeqRecord object via the keys and manipulate the object as normal:\n"
   ]
  },
  {
   "cell_type": "code",
   "execution_count": 31,
   "metadata": {},
   "outputs": [
    {
     "name": "stdout",
     "output_type": "stream",
     "text": [
      "P.supardii 5.8S rRNA gene and ITS1 and ITS2 DNA\n"
     ]
    }
   ],
   "source": [
    "seq_record = orchid_dict[\"Z78475.1\"]\n",
    "print(seq_record.description)"
   ]
  },
  {
   "cell_type": "code",
   "execution_count": 32,
   "metadata": {},
   "outputs": [
    {
     "data": {
      "text/plain": [
       "Seq('CGTAACAAGGTTTCCGTAGGTGAACCTGCGGAAGGATCATTGTTGAGATCACAT...GGT')"
      ]
     },
     "execution_count": 32,
     "metadata": {},
     "output_type": "execute_result"
    }
   ],
   "source": [
    "seq_record.seq"
   ]
  },
  {
   "cell_type": "markdown",
   "metadata": {},
   "source": [
    "So, it is very easy to create an in memory 'database' of our GenBank records.  Next we'll try this for the FASTA file instead.\n",
    "\n",
    "Note that those of you with prior Python experience should all be able to construct a dictionary like this 'by hand'.  However, typical dictionary construction methods will not deal with the case of repeated keys very nicely.  Using the Bio.SeqIO.to_dict() will explicitly check for duplicate keys, and raise an exception if any are found."
   ]
  },
  {
   "cell_type": "markdown",
   "metadata": {},
   "source": [
    "#### 5.4.1.1 pecifying the dictionary keys"
   ]
  },
  {
   "cell_type": "markdown",
   "metadata": {},
   "source": [
    "Using the same code as above, but for the FASTA file instead:\n"
   ]
  },
  {
   "cell_type": "code",
   "execution_count": 33,
   "metadata": {},
   "outputs": [
    {
     "name": "stdout",
     "output_type": "stream",
     "text": [
      "['gi|2765658|emb|Z78533.1|CIZ78533', 'gi|2765657|emb|Z78532.1|CCZ78532', 'gi|2765656|emb|Z78531.1|CFZ78531', 'gi|2765655|emb|Z78530.1|CMZ78530', 'gi|2765654|emb|Z78529.1|CLZ78529', 'gi|2765652|emb|Z78527.1|CYZ78527', 'gi|2765651|emb|Z78526.1|CGZ78526', 'gi|2765650|emb|Z78525.1|CAZ78525', 'gi|2765649|emb|Z78524.1|CFZ78524', 'gi|2765648|emb|Z78523.1|CHZ78523']\n"
     ]
    }
   ],
   "source": [
    "from Bio import SeqIO\n",
    "\n",
    "orchid_dict = SeqIO.to_dict(SeqIO.parse(\"data/ls_orchid.fasta\", \"fasta\"))\n",
    "print(list(orchid_dict.keys())[:10])"
   ]
  },
  {
   "cell_type": "markdown",
   "metadata": {},
   "source": [
    "You should recognise these strings from when we parsed the FASTA file earlier in Section 2.4.1. Suppose you would rather have something else as the keys - like the accession numbers. This brings us nicely to SeqIO.to_dict()'s optional argument key_function, which lets you define what to use as the dictionary key for your records.\n",
    "\n",
    "First you must write your own function to return the key you want (as a string) when given a SeqRecord object. In general, the details of function will depend on the sort of input records you are dealing with. But for our orchids, we can just split up the record's identifier using the 'pipe' character (the vertical line) and return the fourth entry (field three):"
   ]
  },
  {
   "cell_type": "code",
   "execution_count": 34,
   "metadata": {},
   "outputs": [],
   "source": [
    "def get_accession(record):\n",
    "    \"\"\"\"Given a SeqRecord, return the accession number as a string.\n",
    "  \n",
    "    e.g. \"gi|2765613|emb|Z78488.1|PTZ78488\" -> \"Z78488.1\"\n",
    "    \"\"\"\n",
    "    parts = record.id.split(\"|\")\n",
    "    assert len(parts) == 5 and parts[0] == \"gi\" and parts[2] == \"emb\"\n",
    "    return parts[3]"
   ]
  },
  {
   "cell_type": "markdown",
   "metadata": {},
   "source": [
    "Then we can give this function to the SeqIO.to_dict() function to use in building the dictionary:"
   ]
  },
  {
   "cell_type": "code",
   "execution_count": 35,
   "metadata": {},
   "outputs": [
    {
     "name": "stdout",
     "output_type": "stream",
     "text": [
      "dict_keys(['Z78533.1', 'Z78532.1', 'Z78531.1', 'Z78530.1', 'Z78529.1', 'Z78527.1', 'Z78526.1', 'Z78525.1', 'Z78524.1', 'Z78523.1', 'Z78522.1', 'Z78521.1', 'Z78520.1', 'Z78519.1', 'Z78518.1', 'Z78517.1', 'Z78516.1', 'Z78515.1', 'Z78514.1', 'Z78513.1', 'Z78512.1', 'Z78511.1', 'Z78510.1', 'Z78509.1', 'Z78508.1', 'Z78507.1', 'Z78506.1', 'Z78505.1', 'Z78504.1', 'Z78503.1', 'Z78502.1', 'Z78501.1', 'Z78500.1', 'Z78499.1', 'Z78498.1', 'Z78497.1', 'Z78496.1', 'Z78495.1', 'Z78494.1', 'Z78493.1', 'Z78492.1', 'Z78491.1', 'Z78490.1', 'Z78489.1', 'Z78488.1', 'Z78487.1', 'Z78486.1', 'Z78485.1', 'Z78484.1', 'Z78483.1', 'Z78482.1', 'Z78481.1', 'Z78480.1', 'Z78479.1', 'Z78478.1', 'Z78477.1', 'Z78476.1', 'Z78475.1', 'Z78474.1', 'Z78473.1', 'Z78472.1', 'Z78471.1', 'Z78470.1', 'Z78469.1', 'Z78468.1', 'Z78467.1', 'Z78466.1', 'Z78465.1', 'Z78464.1', 'Z78463.1', 'Z78462.1', 'Z78461.1', 'Z78460.1', 'Z78459.1', 'Z78458.1', 'Z78457.1', 'Z78456.1', 'Z78455.1', 'Z78454.1', 'Z78453.1', 'Z78452.1', 'Z78451.1', 'Z78450.1', 'Z78449.1', 'Z78448.1', 'Z78447.1', 'Z78446.1', 'Z78445.1', 'Z78444.1', 'Z78443.1', 'Z78442.1', 'Z78441.1', 'Z78440.1', 'Z78439.1'])\n"
     ]
    }
   ],
   "source": [
    "from Bio import SeqIO\n",
    "\n",
    "orchid_dict = SeqIO.to_dict(SeqIO.parse(\"data/ls_orchid.fasta\", \"fasta\"), key_function=get_accession)\n",
    "print(orchid_dict.keys())"
   ]
  },
  {
   "cell_type": "markdown",
   "metadata": {},
   "source": [
    "Finally, as desired, the new dictionary keys:"
   ]
  },
  {
   "cell_type": "code",
   "execution_count": 36,
   "metadata": {},
   "outputs": [
    {
     "name": "stdout",
     "output_type": "stream",
     "text": [
      "['Z78533.1', 'Z78532.1', 'Z78531.1', 'Z78530.1', 'Z78529.1', 'Z78527.1', 'Z78526.1', 'Z78525.1', 'Z78524.1', 'Z78523.1']\n"
     ]
    }
   ],
   "source": [
    "print(list(orchid_dict.keys())[:10])"
   ]
  },
  {
   "cell_type": "markdown",
   "metadata": {},
   "source": [
    "Not to complicated, I hope!"
   ]
  },
  {
   "cell_type": "markdown",
   "metadata": {},
   "source": [
    "#### 5.4.1.2 Indexing a dictionary using the SEGUID checksum"
   ]
  },
  {
   "cell_type": "markdown",
   "metadata": {},
   "source": [
    "To give another example of working with dictionaries of SeqRecord objects, we'll use the SEGUID checksum function.  This is a relatively recent checksum, and collisions should be very rare (i.e. two different sequences with the same checksum), an improvement on the CRC64 checksum.\n",
    "\n",
    "Once again, working with the orchids GenBank file:"
   ]
  },
  {
   "cell_type": "code",
   "execution_count": 37,
   "metadata": {},
   "outputs": [
    {
     "name": "stdout",
     "output_type": "stream",
     "text": [
      "Z78533.1 JUEoWn6DPhgZ9nAyowsgtoD9TTo\n",
      "Z78532.1 MN/s0q9zDoCVEEc+k/IFwCNF2pY\n",
      "Z78531.1 xN45pACrTnmBH8a8Y9cWSgoLrwE\n",
      "Z78530.1 yMhI5UUQfFOPcoJXb9B19XUyYlY\n",
      "Z78529.1 s1Pnjq9zoSHoI/CG9jQr4GyeMZY\n"
     ]
    }
   ],
   "source": [
    "from Bio import SeqIO\n",
    "from Bio.SeqUtils.CheckSum import seguid\n",
    "\n",
    "for i, record in enumerate(SeqIO.parse(\"data/ls_orchid.gbk\", \"genbank\")):\n",
    "    print(record.id, seguid(record.seq))\n",
    "    if i == 4:  # OK, 5 is enough!\n",
    "        break"
   ]
  },
  {
   "cell_type": "markdown",
   "metadata": {},
   "source": [
    "Now, recall the Bio.SeqIO.to_dict() function's key_function argument expects a function which turns a SeqRecord into a string.  We can't use the seguid() function directly because it expects to be given a Seq object (or a string).  However, we can use Python's lambda feature to create a 'one off' function to give to Bio.SeqIO.to_dict() instead:"
   ]
  },
  {
   "cell_type": "code",
   "execution_count": 38,
   "metadata": {},
   "outputs": [
    {
     "name": "stdout",
     "output_type": "stream",
     "text": [
      "Z78532.1\n"
     ]
    }
   ],
   "source": [
    "from Bio import SeqIO\n",
    "from Bio.SeqUtils.CheckSum import seguid\n",
    "\n",
    "seguid_dict = SeqIO.to_dict(SeqIO.parse(\"data/ls_orchid.gbk\", \"genbank\"),\n",
    "                            lambda rec : seguid(rec.seq))\n",
    "record = seguid_dict[\"MN/s0q9zDoCVEEc+k/IFwCNF2pY\"]\n",
    "print(record.id)"
   ]
  },
  {
   "cell_type": "code",
   "execution_count": 39,
   "metadata": {},
   "outputs": [
    {
     "name": "stdout",
     "output_type": "stream",
     "text": [
      "C.californicum 5.8S rRNA gene and ITS1 and ITS2 DNA\n"
     ]
    }
   ],
   "source": [
    "print(record.description)"
   ]
  },
  {
   "cell_type": "markdown",
   "metadata": {},
   "source": [
    "That should have retrieved the record Z78532.1, the second entry in the file."
   ]
  },
  {
   "cell_type": "markdown",
   "metadata": {},
   "source": [
    "### 5.4.2 Sequence files as Dictionaries - Indexed files"
   ]
  },
  {
   "cell_type": "markdown",
   "metadata": {},
   "source": [
    "As the previous couple of examples tried to illustrate, using\n",
    "Bio.SeqIO.to_dict() is very flexible. However, because it holds\n",
    "everything in memory, the size of file you can work with is limited by your\n",
    "computer's RAM. In general, this will only work on small to medium files.\n",
    "\n",
    "For larger files you should consider\n",
    "Bio.SeqIO.index(), which works a little differently. Although\n",
    "it still returns a dictionary like object, this does _not_ keep\n",
    "_everything_ in memory. Instead, it just records where each record\n",
    "is within the file -- when you ask for a particular record, it then parses\n",
    "it on demand.\n",
    "\n",
    "As an example, let's use the same GenBank file as before:"
   ]
  },
  {
   "cell_type": "code",
   "execution_count": 40,
   "metadata": {},
   "outputs": [
    {
     "data": {
      "text/plain": [
       "94"
      ]
     },
     "execution_count": 40,
     "metadata": {},
     "output_type": "execute_result"
    }
   ],
   "source": [
    " from Bio import SeqIO\n",
    "\n",
    "orchid_dict = SeqIO.index(\"data/ls_orchid.gbk\", \"genbank\")\n",
    "len(orchid_dict)"
   ]
  },
  {
   "cell_type": "code",
   "execution_count": 41,
   "metadata": {},
   "outputs": [
    {
     "name": "stdout",
     "output_type": "stream",
     "text": [
      "['Z78533.1', 'Z78532.1', 'Z78531.1', 'Z78530.1', 'Z78529.1', 'Z78527.1', 'Z78526.1', 'Z78525.1', 'Z78524.1', 'Z78523.1', 'Z78522.1', 'Z78521.1', 'Z78520.1', 'Z78519.1', 'Z78518.1', 'Z78517.1', 'Z78516.1', 'Z78515.1', 'Z78514.1', 'Z78513.1', 'Z78512.1', 'Z78511.1', 'Z78510.1', 'Z78509.1', 'Z78508.1', 'Z78507.1', 'Z78506.1', 'Z78505.1', 'Z78504.1', 'Z78503.1', 'Z78502.1', 'Z78501.1', 'Z78500.1', 'Z78499.1', 'Z78498.1', 'Z78497.1', 'Z78496.1', 'Z78495.1', 'Z78494.1', 'Z78493.1', 'Z78492.1', 'Z78491.1', 'Z78490.1', 'Z78489.1', 'Z78488.1', 'Z78487.1', 'Z78486.1', 'Z78485.1', 'Z78484.1', 'Z78483.1', 'Z78482.1', 'Z78481.1', 'Z78480.1', 'Z78479.1', 'Z78478.1', 'Z78477.1', 'Z78476.1', 'Z78475.1', 'Z78474.1', 'Z78473.1', 'Z78472.1', 'Z78471.1', 'Z78470.1', 'Z78469.1', 'Z78468.1', 'Z78467.1', 'Z78466.1', 'Z78465.1', 'Z78464.1', 'Z78463.1', 'Z78462.1', 'Z78461.1', 'Z78460.1', 'Z78459.1', 'Z78458.1', 'Z78457.1', 'Z78456.1', 'Z78455.1', 'Z78454.1', 'Z78453.1', 'Z78452.1', 'Z78451.1', 'Z78450.1', 'Z78449.1', 'Z78448.1', 'Z78447.1', 'Z78446.1', 'Z78445.1', 'Z78444.1', 'Z78443.1', 'Z78442.1', 'Z78441.1', 'Z78440.1', 'Z78439.1']\n"
     ]
    }
   ],
   "source": [
    "print(list(orchid_dict.keys()))"
   ]
  },
  {
   "cell_type": "code",
   "execution_count": 42,
   "metadata": {},
   "outputs": [
    {
     "name": "stdout",
     "output_type": "stream",
     "text": [
      "P.supardii 5.8S rRNA gene and ITS1 and ITS2 DNA\n"
     ]
    }
   ],
   "source": [
    "seq_record = orchid_dict[\"Z78475.1\"]\n",
    "print(seq_record.description)"
   ]
  },
  {
   "cell_type": "code",
   "execution_count": 43,
   "metadata": {},
   "outputs": [
    {
     "data": {
      "text/plain": [
       "Seq('CGTAACAAGGTTTCCGTAGGTGAACCTGCGGAAGGATCATTGTTGAGATCACAT...GGT')"
      ]
     },
     "execution_count": 43,
     "metadata": {},
     "output_type": "execute_result"
    }
   ],
   "source": [
    "seq_record.seq"
   ]
  },
  {
   "cell_type": "code",
   "execution_count": 44,
   "metadata": {},
   "outputs": [],
   "source": [
    "orchid_dict.close()"
   ]
  },
  {
   "cell_type": "markdown",
   "metadata": {},
   "source": [
    "Note that Bio.SeqIO.index() won’t take a handle, but only a filename. There are good reasons for this, but it is a little technical. The second argument is the file format (a lower case string as used in the other Bio.SeqIO functions). You can use many other simple file formats, including FASTA and FASTQ files (see the example in Section 20.1.11). However, alignment formats like PHYLIP or Clustal are not supported. Finally as an optional argument you can supply a key function.\n",
    "\n",
    "Here is the same example using the FASTA file - all we change is the filename and the format name:"
   ]
  },
  {
   "cell_type": "code",
   "execution_count": 45,
   "metadata": {},
   "outputs": [
    {
     "data": {
      "text/plain": [
       "94"
      ]
     },
     "execution_count": 45,
     "metadata": {},
     "output_type": "execute_result"
    }
   ],
   "source": [
    "from Bio import SeqIO\n",
    "\n",
    "orchid_dict = SeqIO.index(\"data/ls_orchid.fasta\", \"fasta\")\n",
    "len(orchid_dict)"
   ]
  },
  {
   "cell_type": "code",
   "execution_count": 46,
   "metadata": {},
   "outputs": [
    {
     "name": "stdout",
     "output_type": "stream",
     "text": [
      "['gi|2765658|emb|Z78533.1|CIZ78533', 'gi|2765657|emb|Z78532.1|CCZ78532', 'gi|2765656|emb|Z78531.1|CFZ78531', 'gi|2765655|emb|Z78530.1|CMZ78530', 'gi|2765654|emb|Z78529.1|CLZ78529', 'gi|2765652|emb|Z78527.1|CYZ78527', 'gi|2765651|emb|Z78526.1|CGZ78526', 'gi|2765650|emb|Z78525.1|CAZ78525', 'gi|2765649|emb|Z78524.1|CFZ78524', 'gi|2765648|emb|Z78523.1|CHZ78523']\n"
     ]
    }
   ],
   "source": [
    "print(list(orchid_dict.keys())[:10])"
   ]
  },
  {
   "cell_type": "markdown",
   "metadata": {},
   "source": [
    "### 5.4.2.1 Specifying the dictionary keys"
   ]
  },
  {
   "cell_type": "markdown",
   "metadata": {},
   "source": [
    "Suppose you want to use the same keys as before? Much like with the Bio.SeqIO.to_dict() example in Section 5.4.1.1, you’ll need to write a tiny function to map from the FASTA identifier (as a string) to the key you want:"
   ]
  },
  {
   "cell_type": "code",
   "execution_count": 47,
   "metadata": {},
   "outputs": [],
   "source": [
    "def get_acc(identifier):\n",
    "    \"\"\"\"Given a SeqRecord identifier string, return the accession number as a string.\n",
    "  \n",
    "    e.g. \"gi|2765613|emb|Z78488.1|PTZ78488\" -> \"Z78488.1\"\n",
    "    \"\"\"\n",
    "    parts = identifier.split(\"|\")\n",
    "    assert len(parts) == 5 and parts[0] == \"gi\" and parts[2] == \"emb\"\n",
    "    return parts[3]"
   ]
  },
  {
   "cell_type": "markdown",
   "metadata": {},
   "source": [
    "Then we can give this function to the Bio.SeqIO.index()\n",
    "function to use in building the dictionary:"
   ]
  },
  {
   "cell_type": "code",
   "execution_count": 48,
   "metadata": {},
   "outputs": [
    {
     "name": "stdout",
     "output_type": "stream",
     "text": [
      "['Z78533.1', 'Z78532.1', 'Z78531.1', 'Z78530.1', 'Z78529.1', 'Z78527.1', 'Z78526.1', 'Z78525.1', 'Z78524.1', 'Z78523.1', 'Z78522.1', 'Z78521.1', 'Z78520.1', 'Z78519.1', 'Z78518.1', 'Z78517.1', 'Z78516.1', 'Z78515.1', 'Z78514.1', 'Z78513.1', 'Z78512.1', 'Z78511.1', 'Z78510.1', 'Z78509.1', 'Z78508.1', 'Z78507.1', 'Z78506.1', 'Z78505.1', 'Z78504.1', 'Z78503.1', 'Z78502.1', 'Z78501.1', 'Z78500.1', 'Z78499.1', 'Z78498.1', 'Z78497.1', 'Z78496.1', 'Z78495.1', 'Z78494.1', 'Z78493.1', 'Z78492.1', 'Z78491.1', 'Z78490.1', 'Z78489.1', 'Z78488.1', 'Z78487.1', 'Z78486.1', 'Z78485.1', 'Z78484.1', 'Z78483.1', 'Z78482.1', 'Z78481.1', 'Z78480.1', 'Z78479.1', 'Z78478.1', 'Z78477.1', 'Z78476.1', 'Z78475.1', 'Z78474.1', 'Z78473.1', 'Z78472.1', 'Z78471.1', 'Z78470.1', 'Z78469.1', 'Z78468.1', 'Z78467.1', 'Z78466.1', 'Z78465.1', 'Z78464.1', 'Z78463.1', 'Z78462.1', 'Z78461.1', 'Z78460.1', 'Z78459.1', 'Z78458.1', 'Z78457.1', 'Z78456.1', 'Z78455.1', 'Z78454.1', 'Z78453.1', 'Z78452.1', 'Z78451.1', 'Z78450.1', 'Z78449.1', 'Z78448.1', 'Z78447.1', 'Z78446.1', 'Z78445.1', 'Z78444.1', 'Z78443.1', 'Z78442.1', 'Z78441.1', 'Z78440.1', 'Z78439.1']\n"
     ]
    }
   ],
   "source": [
    "from Bio import SeqIO\n",
    "\n",
    "orchid_dict = SeqIO.index(\"data/ls_orchid.fasta\", \"fasta\", key_function=get_acc)\n",
    "print(list(orchid_dict.keys()))"
   ]
  },
  {
   "cell_type": "markdown",
   "metadata": {},
   "source": [
    "Easy when you know how?"
   ]
  },
  {
   "cell_type": "markdown",
   "metadata": {},
   "source": [
    "#### 5.4.2.2 Getting the raw data for a record"
   ]
  },
  {
   "cell_type": "markdown",
   "metadata": {},
   "source": [
    "The dictionary-like object from Bio.SeqIO.index() gives you each\n",
    "entry as a SeqRecord object. However, it is sometimes useful to\n",
    "be able to get the original raw data straight from the file. For this\n",
    "use the get_raw() method which takes a\n",
    "single argument (the record identifier) and returns a string (extracted\n",
    "from the file without modification).\n",
    "\n",
    "A motivating example is extracting a subset of a records from a large\n",
    "file where either Bio.SeqIO.write() does not (yet) support the\n",
    "output file format (e.g. the plain text SwissProt file format) or\n",
    "where you need to preserve the text exactly (e.g. GenBank or EMBL\n",
    "output from Biopython does not yet preserve every last bit of\n",
    "annotation).\n",
    "\n",
    "Let's suppose you have download the whole of UniProt in the plain\n",
    "text SwissPort file format from their FTP site\n",
    "(ftp://ftp.uniprot.org/pub/databases/uniprot/current_release/knowledgebase/complete/uniprot_sprot.dat.gz - Careful big download)\n",
    "and uncompressed it as the file uniprot_sprot.dat, and you\n",
    "want to extract just a few records from it:\n"
   ]
  },
  {
   "cell_type": "code",
   "execution_count": null,
   "metadata": {},
   "outputs": [],
   "source": []
  },
  {
   "cell_type": "code",
   "execution_count": 49,
   "metadata": {},
   "outputs": [],
   "source": [
    "#Use this to download the file\n",
    "#!wget -c ftp://ftp.uniprot.org/pub/databases/uniprot/current_release/knowledgebase/complete/uniprot_sprot.dat.gz -O data/uniprot_sprot.dat.gz\n",
    "#!gzip -d data/uniprot_sprot.dat.gz\n",
    "\n",
    "#from Bio import SeqIO\n",
    "\n",
    "#uniprot = SeqIO.index(\"data/uniprot_sprot.dat\", \"swiss\")\n",
    "#with open(\"selected.dat\", \"wb\") as out_handle:\n",
    "#     for acc in [\"P33487\", \"P19801\", \"P13689\", \"Q8JZQ5\", \"Q9TRC7\"]:\n",
    "#         out_handle.write(uniprot.get_raw(acc))"
   ]
  },
  {
   "cell_type": "markdown",
   "metadata": {},
   "source": [
    "Note with Python 3 onwards, we have to open the file for writing in binary mode because the get_raw() method returns bytes strings.\n",
    "\n",
    "There is a longer example in Section 20.1.5 using the SeqIO.index() function to sort a large sequence file (without loading everything into memory at once)."
   ]
  },
  {
   "cell_type": "markdown",
   "metadata": {},
   "source": [
    "### 5.4.3 Sequence files as Dictionaries - Database indexed files"
   ]
  },
  {
   "cell_type": "markdown",
   "metadata": {},
   "source": [
    "Biopython 1.57 introduced an alternative, Bio.SeqIO.index_db(), which\n",
    "can work on even extremely large files since it stores the record information\n",
    "as a file on disk (using an SQLite3 database) rather than in memory. Also,\n",
    "you can index multiple files together (providing all the record identifiers\n",
    "are unique).\n",
    "\n",
    "The Bio.SeqIO.index() function takes three required arguments:\n",
    "\n",
    "* Index filename, we suggest using something ending .idx. This index file is actually an SQLite3 database.\n",
    "\n",
    "* List of sequence filenames to index (or a single filename)\n",
    "\n",
    "* File format (lower case string as used in the rest of the SeqIO module).\n",
    "\n",
    "As an example, consider the GenBank flat file releases from the NCBI FTP site,\n",
    "ftp://ftp.ncbi.nih.gov/genbank/, which are gzip compressed GenBank files.\n",
    "\n",
    "As of GenBank release 210, there are 38 files making up the viral sequences, gbvrl1.seq, ..., gbvrl16.seq, talking about 8GB on disk once decompressed, and containing in total early two million records.\n",
    "\n",
    "If you were interested in the viruses, you could download all the virus files from the command line very easily with the rsync command, and then decompress them with gunzip:"
   ]
  },
  {
   "cell_type": "code",
   "execution_count": 50,
   "metadata": {},
   "outputs": [],
   "source": [
    "# For illustration only, see reduced example below\n",
    "# rsync -avP (\"ftp.ncbi.nih.gov::genbank/gbvrl*.seq.gz\") \n",
    "# gunzip gbvrl*.seq.gz"
   ]
  },
  {
   "cell_type": "markdown",
   "metadata": {},
   "source": [
    "Unless you care about viruses, that’s a lot of data to download just for this example - so let’s download _just_ the first four chunks (about 25MB each compressed), and decompress them (taking in all about 1GB of space):"
   ]
  },
  {
   "cell_type": "code",
   "execution_count": 51,
   "metadata": {},
   "outputs": [],
   "source": [
    "# Reduced example, download only the first four chunks\n",
    "#! curl -O ftp://ftp.ncbi.nih.gov/genbank/gbvrl1.seq.gz\n",
    "#! curl -O ftp://ftp.ncbi.nih.gov/genbank/gbvrl2.seq.gz\n",
    "#! curl -O ftp://ftp.ncbi.nih.gov/genbank/gbvrl3.seq.gz\n",
    "#! curl -O ftp://ftp.ncbi.nih.gov/genbank/gbvrl4.seq.gz\n",
    "#! gunzip gbvrl*.seq.gz"
   ]
  },
  {
   "cell_type": "markdown",
   "metadata": {},
   "source": [
    "Now, in Python, index these GenBank files as follows:"
   ]
  },
  {
   "cell_type": "code",
   "execution_count": 52,
   "metadata": {},
   "outputs": [],
   "source": [
    "#this will download the files - Currently there are more than 16, but we will do only 4\n",
    "#import os\n",
    "#for i in range(1, 5):\n",
    "#    os.system('wget ftp://ftp.ncbi.nih.gov/genbank/gbvrl%i.seq.gz -O data/gbvrl%i.seq.gz' % (i, i))\n",
    "#    os.system('gzip -d data/gbvrl%i.seq.gz' % i)"
   ]
  },
  {
   "cell_type": "code",
   "execution_count": 53,
   "metadata": {},
   "outputs": [],
   "source": [
    "#files = [\"data/gbvrl%i.seq\" % i for i in range(1, 5)]\n",
    "#gb_vrl = SeqIO.index_db(\"data/gbvrl.idx\", files, \"genbank\")\n",
    "#print(\"%i sequences indexed\" % len(gb_vrl))"
   ]
  },
  {
   "cell_type": "markdown",
   "metadata": {},
   "source": [
    "Indexing the full set of virus GenBank files took about ten minutes on my machine, just the first four files took about a minute or so.\n",
    "\n",
    "However, once done, repeating this will reload the index file gbvrl.idx in a fraction of a second.\n",
    "\n",
    "You can use the index as a read only Python dictionary - without having to worry about which file the sequence comes from, e.g.\n"
   ]
  },
  {
   "cell_type": "code",
   "execution_count": 54,
   "metadata": {},
   "outputs": [],
   "source": [
    "#print(gb_vrl[\"AB811634.1\"].description)"
   ]
  },
  {
   "cell_type": "markdown",
   "metadata": {},
   "source": [
    "#### 5.4.3.1 Getting the raw data for a record"
   ]
  },
  {
   "cell_type": "markdown",
   "metadata": {},
   "source": [
    "Just as with the Bio.SeqIO.index() function discussed above in Section 5.4.2.2, the dictionary like object also lets you get at the raw bytes of each record:"
   ]
  },
  {
   "cell_type": "code",
   "execution_count": 55,
   "metadata": {},
   "outputs": [],
   "source": [
    "#print(gb_vrl.get_raw(\"AB811634.1\"))"
   ]
  },
  {
   "cell_type": "markdown",
   "metadata": {},
   "source": [
    "### 5.4.4 Indexing compressed files"
   ]
  },
  {
   "cell_type": "markdown",
   "metadata": {},
   "source": [
    "Very often when you are indexing a sequence file it can be quite large - so\n",
    "you may want to compress it on disk. Unfortunately efficient random access\n",
    "is difficult with the more common file formats like gzip and bzip2. In this\n",
    "setting, BGZF (Blocked GNU Zip Format) can be very helpful. This is a variant\n",
    "of gzip (and can be decompressed using standard gzip tools) popularised by\n",
    "the BAM file format, [samtools](http://samtools.sourceforge.net/ \"samtools\"), and [tabix](http://samtools.sourceforge.net/tabix.shtml \"tabix\").\n",
    "\n",
    "To create a BGZF compressed file you can use the command line tool bgzip\n",
    "which comes with samtools. In our examples we use a filename extension\n",
    "*.bgz, so they can be distinguished from normal gzipped files (named\n",
    "*.gz). You can also use the Bio.bgzf module to read and write\n",
    "BGZF files from within Python.\n",
    "\n",
    "The Bio.SeqIO.index() and Bio.SeqIO.index_db() can both be\n",
    "used with BGZF compressed files. For example, if you started with an\n",
    "uncompressed GenBank file:"
   ]
  },
  {
   "cell_type": "code",
   "execution_count": 56,
   "metadata": {},
   "outputs": [
    {
     "data": {
      "text/plain": [
       "94"
      ]
     },
     "execution_count": 56,
     "metadata": {},
     "output_type": "execute_result"
    }
   ],
   "source": [
    "from Bio import SeqIO\n",
    "\n",
    "orchid_dict = SeqIO.index(\"data/ls_orchid.gbk\", \"genbank\")\n",
    "len(orchid_dict)"
   ]
  },
  {
   "cell_type": "code",
   "execution_count": 57,
   "metadata": {},
   "outputs": [],
   "source": [
    "orchid_dict.close()"
   ]
  },
  {
   "cell_type": "markdown",
   "metadata": {},
   "source": [
    "You could compress this (while keeping the original file) at the command\n",
    "line using the following command:\n",
    "\n",
    "    $ bgzip -c ls_orchid.gbk > ls_orchid.gbk.bgz\n",
    "\n",
    "You can use the compressed file in exactly the same way:"
   ]
  },
  {
   "cell_type": "code",
   "execution_count": 58,
   "metadata": {},
   "outputs": [
    {
     "data": {
      "text/plain": [
       "94"
      ]
     },
     "execution_count": 58,
     "metadata": {},
     "output_type": "execute_result"
    }
   ],
   "source": [
    "from Bio import SeqIO\n",
    "\n",
    "orchid_dict = SeqIO.index(\"data/ls_orchid.gbk.bgz\", \"genbank\")\n",
    "len(orchid_dict)"
   ]
  },
  {
   "cell_type": "code",
   "execution_count": 59,
   "metadata": {},
   "outputs": [],
   "source": [
    "orchid_dict.close()"
   ]
  },
  {
   "cell_type": "markdown",
   "metadata": {},
   "source": [
    "or"
   ]
  },
  {
   "cell_type": "code",
   "execution_count": 60,
   "metadata": {},
   "outputs": [
    {
     "data": {
      "text/plain": [
       "94"
      ]
     },
     "execution_count": 60,
     "metadata": {},
     "output_type": "execute_result"
    }
   ],
   "source": [
    "from Bio import SeqIO\n",
    "\n",
    "orchid_dict = SeqIO.index_db(\"data/ls_orchid.gbk.bgz.idx\", \"data/ls_orchid.gbk.bgz\", \"genbank\")\n",
    "len(orchid_dict)"
   ]
  },
  {
   "cell_type": "code",
   "execution_count": 61,
   "metadata": {},
   "outputs": [],
   "source": [
    "orchid_dict.close()"
   ]
  },
  {
   "cell_type": "markdown",
   "metadata": {},
   "source": [
    "The SeqIO indexing automatically detects the BGZF compression. Note\n",
    "that you can't use the same index file for the uncompressed and compressed files."
   ]
  },
  {
   "cell_type": "markdown",
   "metadata": {},
   "source": [
    "### 5.4.5 Discussion"
   ]
  },
  {
   "cell_type": "markdown",
   "metadata": {},
   "source": [
    "So, which of these methods should you use and why? It depends on what you are trying to do (and how much data you are dealing with). However, in general picking Bio.SeqIO.index() is a good starting point. If you are dealing with millions of records, multiple files, or repeated analyses, then look at Bio.SeqIO.index_db().\n",
    "\n",
    "Reasons to choose Bio.SeqIO.to_dict() over either Bio.SeqIO.index() or Bio.SeqIO.index_db() boil down to a need for flexibility despite its high memory needs. The advantage of storing the SeqRecord objects in memory is they can be changed, added to, or removed at will. In addition to the downside of high memory consumption, indexing can also take longer because all the records must be fully parsed.\n",
    "\n",
    "Both Bio.SeqIO.index() and Bio.SeqIO.index_db() only parse records on demand. When indexing, they scan the file once looking for the start of each record and do as little work as possible to extract the identifier.\n",
    "\n",
    "Reasons to choose Bio.SeqIO.index() over Bio.SeqIO.index_db() include:\n",
    "\n",
    "* Faster to build the index (more noticeable in simple file formats)\n",
    "\n",
    "* Slightly faster access as SeqRecord objects (but the difference is only\n",
    "really noticeable for simple to parse file formats).\n",
    "\n",
    "* Can use any immutable Python object as the dictionary keys (e.g. a\n",
    "tuple of strings, or a frozen set) not just strings.\n",
    "\n",
    "* Don't need to worry about the index database being out of date if the\n",
    "sequence file being indexed has changed.\n",
    "\n",
    "Reasons to choose Bio.SeqIO.index_db() over Bio.SeqIO.index()\n",
    "include:\n",
    "\n",
    "* Not memory limited - this is already important with files from second\n",
    "generation sequencing where 10s of millions of sequences are common, and\n",
    "using Bio.SeqIO.index() can require more than 4GB of RAM and therefore\n",
    "a 64bit version of Python.\n",
    "\n",
    "* Because the index is kept on disk, it can be reused. Although building\n",
    "the index database file takes longer, if you have a script which will be\n",
    "rerun on the same datafiles in future, this could save time in the long run.\n",
    "\n",
    "* Indexing multiple files together\n",
    "\n",
    "* The get_raw() method can be much faster, since for most file\n",
    "formats the length of each record is stored as well as its offset."
   ]
  },
  {
   "cell_type": "markdown",
   "metadata": {},
   "source": [
    "## 5.5 Writing sequence files"
   ]
  },
  {
   "cell_type": "markdown",
   "metadata": {},
   "source": [
    "We've talked about using Bio.SeqIO.parse() for sequence input (reading files), and now we'll look at Bio.SeqIO.write() which is for sequence output (writing files).  This is a function taking three arguments: some SeqRecord objects, a handle or filename to write to, and a sequence format.\n",
    "\n",
    "Here is an example, where we start by creating a few SeqRecord objects the hard way (by hand, rather than by loading them from a file):"
   ]
  },
  {
   "cell_type": "code",
   "execution_count": 62,
   "metadata": {},
   "outputs": [],
   "source": [
    "from Bio.Seq import Seq\n",
    "from Bio.SeqRecord import SeqRecord\n",
    "\n",
    "rec1 = SeqRecord(\n",
    "  Seq(\n",
    "     \"MMYQQGCFAGGTVLRLAKDLAENNRGARVLVVCSEITAVTFRGPSETHLDSMVGQALFGD\" \\\n",
    "                    +\"GAGAVIVGSDPDLSVERPLYELVWTGATLLPDSEGAIDGHLREVGLTFHLLKDVPGLISK\" \\\n",
    "                    +\"NIEKSLKEAFTPLGISDWNSTFWIAHPGGPAILDQVEAKLGLKEEKMRATREVLSEYGNM\" \\\n",
    "                    +\"SSAC\",\n",
    "  ),\n",
    "                 id=\"gi|14150838|gb|AAK54648.1|AF376133_1\",\n",
    "                 description=\"chalcone synthase [Cucumis sativus]\")\n",
    "\n",
    "rec2 = SeqRecord(\n",
    "   Seq(\n",
    "      \"YPDYYFRITNREHKAELKEKFQRMCDKSMIKKRYMYLTEEILKENPSMCEYMAPSLDARQ\" \\\n",
    "                    +\"DMVVVEIPKLGKEAAVKAIKEWGQ\",\n",
    "   ),\n",
    "                 id=\"gi|13919613|gb|AAK33142.1|\",\n",
    "                 description=\"chalcone synthase [Fragaria vesca subsp. bracteata]\")\n",
    "\n",
    "rec3 = SeqRecord(\n",
    "   Seq(\n",
    "      \"MVTVEEFRRAQCAEGPATVMAIGTATPSNCVDQSTYPDYYFRITNSEHKVELKEKFKRMC\" \\\n",
    "                    +\"EKSMIKKRYMHLTEEILKENPNICAYMAPSLDARQDIVVVEVPKLGKEAAQKAIKEWGQP\" \\\n",
    "                    +\"KSKITHLVFCTTSGVDMPGCDYQLTKLLGLRPSVKRFMMYQQGCFAGGTVLRMAKDLAEN\" \\\n",
    "                    +\"NKGARVLVVCSEITAVTFRGPNDTHLDSLVGQALFGDGAAAVIIGSDPIPEVERPLFELV\" \\\n",
    "                    +\"SAAQTLLPDSEGAIDGHLREVGLTFHLLKDVPGLISKNIEKSLVEAFQPLGISDWNSLFW\" \\\n",
    "                    +\"IAHPGGPAILDQVELKLGLKQEKLKATRKVLSNYGNMSSACVLFILDEMRKASAKEGLGT\" \\\n",
    "                    +\"TGEGLEWGVLFGFGPGLTVETVVLHSVAT\",\n",
    "   ),\n",
    "                 id=\"gi|13925890|gb|AAK49457.1|\",\n",
    "                 description=\"chalcone synthase [Nicotiana tabacum]\")\n",
    "               \n",
    "my_records = [rec1, rec2, rec3]"
   ]
  },
  {
   "cell_type": "markdown",
   "metadata": {},
   "source": [
    "Now we have a list of SeqRecord objects, we'll write them to a FASTA format file:\n"
   ]
  },
  {
   "cell_type": "code",
   "execution_count": 63,
   "metadata": {},
   "outputs": [
    {
     "data": {
      "text/plain": [
       "3"
      ]
     },
     "execution_count": 63,
     "metadata": {},
     "output_type": "execute_result"
    }
   ],
   "source": [
    "SeqIO.write(my_records, \"data/my_example.faa\", \"fasta\")"
   ]
  },
  {
   "cell_type": "markdown",
   "metadata": {},
   "source": [
    "And if you open this file in your favourite text editor it should look like this:\n",
    "\n",
    "    >gi|14150838|gb|AAK54648.1|AF376133_1 chalcone synthase [Cucumis sativus]\n",
    "    MMYQQGCFAGGTVLRLAKDLAENNRGARVLVVCSEITAVTFRGPSETHLDSMVGQALFGD\n",
    "    GAGAVIVGSDPDLSVERPLYELVWTGATLLPDSEGAIDGHLREVGLTFHLLKDVPGLISK\n",
    "    NIEKSLKEAFTPLGISDWNSTFWIAHPGGPAILDQVEAKLGLKEEKMRATREVLSEYGNM\n",
    "    SSAC\n",
    "    >gi|13919613|gb|AAK33142.1| chalcone synthase [Fragaria vesca subsp. bracteata]\n",
    "    YPDYYFRITNREHKAELKEKFQRMCDKSMIKKRYMYLTEEILKENPSMCEYMAPSLDARQ\n",
    "    DMVVVEIPKLGKEAAVKAIKEWGQ\n",
    "    >gi|13925890|gb|AAK49457.1| chalcone synthase [Nicotiana tabacum]\n",
    "    MVTVEEFRRAQCAEGPATVMAIGTATPSNCVDQSTYPDYYFRITNSEHKVELKEKFKRMC\n",
    "    EKSMIKKRYMHLTEEILKENPNICAYMAPSLDARQDIVVVEVPKLGKEAAQKAIKEWGQP\n",
    "    KSKITHLVFCTTSGVDMPGCDYQLTKLLGLRPSVKRFMMYQQGCFAGGTVLRMAKDLAEN\n",
    "    NKGARVLVVCSEITAVTFRGPNDTHLDSLVGQALFGDGAAAVIIGSDPIPEVERPLFELV\n",
    "    SAAQTLLPDSEGAIDGHLREVGLTFHLLKDVPGLISKNIEKSLVEAFQPLGISDWNSLFW\n",
    "    IAHPGGPAILDQVELKLGLKQEKLKATRKVLSNYGNMSSACVLFILDEMRKASAKEGLGT\n",
    "    TGEGLEWGVLFGFGPGLTVETVVLHSVAT\n",
    "\n",
    "Suppose you wanted to know how many records the Bio.SeqIO.write() function wrote to the handle?\n",
    "If your records were in a list you could just use len(my_records), however you can't do that when your records come from a generator/iterator.  TheBio.SeqIO.write() function returns the number of SeqRecord objects written to the file.   \n",
    "\n",
    "**Note** - If you tell the Bio.SeqIO.write() function to write to a file that already exists, the old file will be overwritten without any warning."
   ]
  },
  {
   "cell_type": "markdown",
   "metadata": {},
   "source": [
    "### 5.5.1 Round trips"
   ]
  },
  {
   "cell_type": "markdown",
   "metadata": {},
   "source": [
    "\n",
    "Some people like their parsers to be 'round-tripable', meaning if you read in\n",
    "a file and write it back out again it is unchanged. This requires that the parser\n",
    "must extract enough information to reproduce the original file _exactly_.\n",
    "Bio.SeqIO does _not_ aim to do this.\n",
    "\n",
    "As a trivial example, any line wrapping of the sequence data in FASTA files is\n",
    "allowed. An identical SeqRecord would be given from parsing the following\n",
    "two examples which differ only in their line breaks:\n",
    "\n",
    "    >YAL068C-7235.2170 Putative promoter sequence\n",
    "    TACGAGAATAATTTCTCATCATCCAGCTTTAACACAAAATTCGCACAGTTTTCGTTAAGA\n",
    "    GAACTTAACATTTTCTTATGACGTAAATGAAGTTTATATATAAATTTCCTTTTTATTGGA\n",
    "    \n",
    "    >YAL068C-7235.2170 Putative promoter sequence\n",
    "    TACGAGAATAATTTCTCATCATCCAGCTTTAACACAAAATTCGCA\n",
    "    CAGTTTTCGTTAAGAGAACTTAACATTTTCTTATGACGTAAATGA\n",
    "    AGTTTATATATAAATTTCCTTTTTATTGGA\n",
    "\n",
    "To make a round-tripable FASTA parser you would need to keep track of where the\n",
    "sequence line breaks occurred, and this extra information is usually pointless.\n",
    "Instead Biopython uses a default line wrapping of $60$ characters on output.\n",
    "The same problem with white space applies in many other file formats too.\n",
    "Another issue in some cases is that Biopython does not (yet) preserve every\n",
    "last bit of annotation (e.g. GenBank and EMBL).\n",
    "\n",
    "Occasionally preserving the original layout (with any quirks it may have) is important. See Section 5.4.2.2 about the get_raw() method of the Bio.SeqIO.index() dictionary-like object for one potential solution."
   ]
  },
  {
   "cell_type": "markdown",
   "metadata": {},
   "source": [
    "### 5.5.2 Converting between sequence file formats"
   ]
  },
  {
   "cell_type": "markdown",
   "metadata": {},
   "source": [
    "In previous example we used a list of SeqRecord objects as input to the Bio.SeqIO.write() function, but it will also accept a SeqRecord iterator like we get from Bio.SeqIO.parse() - this lets us do file conversion by combining these two functions.\n",
    "\n",
    "For this example we'll read in the GenBank format file and write it out in FASTA format:"
   ]
  },
  {
   "cell_type": "code",
   "execution_count": 64,
   "metadata": {},
   "outputs": [
    {
     "name": "stdout",
     "output_type": "stream",
     "text": [
      "Converted 94 records\n"
     ]
    }
   ],
   "source": [
    "from Bio import SeqIO\n",
    "\n",
    "records = SeqIO.parse(\"data/ls_orchid.gbk\", \"genbank\")\n",
    "count = SeqIO.write(records, \"data/my_example.fasta\", \"fasta\")\n",
    "print(\"Converted %i records\" % count)"
   ]
  },
  {
   "cell_type": "markdown",
   "metadata": {},
   "source": [
    "Still, that is a little bit complicated. So, because file conversion is such a\n",
    "common task, there is a helper function letting you replace that with just:\n"
   ]
  },
  {
   "cell_type": "code",
   "execution_count": 65,
   "metadata": {},
   "outputs": [
    {
     "name": "stdout",
     "output_type": "stream",
     "text": [
      "Converted 94 records\n"
     ]
    }
   ],
   "source": [
    "from Bio import SeqIO\n",
    "\n",
    "count = SeqIO.convert(\"data/ls_orchid.gbk\", \"genbank\", \"data/my_example.fasta\", \"fasta\")\n",
    "print(\"Converted %i records\" % count)"
   ]
  },
  {
   "cell_type": "markdown",
   "metadata": {},
   "source": [
    "The Bio.SeqIO.convert() function will take handles _or_ filenames.\n",
    "Watch out though - if the output file already exists, it will overwrite it!\n",
    "To find out more, see the built in help:"
   ]
  },
  {
   "cell_type": "code",
   "execution_count": 66,
   "metadata": {},
   "outputs": [
    {
     "name": "stdout",
     "output_type": "stream",
     "text": [
      "Help on function convert in module Bio.SeqIO:\n",
      "\n",
      "convert(in_file, in_format, out_file, out_format, molecule_type=None)\n",
      "    Convert between two sequence file formats, return number of records.\n",
      "    \n",
      "    Arguments:\n",
      "     - in_file - an input handle or filename\n",
      "     - in_format - input file format, lower case string\n",
      "     - out_file - an output handle or filename\n",
      "     - out_format - output file format, lower case string\n",
      "     - molecule_type - optional molecule type to apply, string containing\n",
      "       \"DNA\", \"RNA\" or \"protein\".\n",
      "    \n",
      "    **NOTE** - If you provide an output filename, it will be opened which will\n",
      "    overwrite any existing file without warning.\n",
      "    \n",
      "    The idea here is that while doing this will work::\n",
      "    \n",
      "        from Bio import SeqIO\n",
      "        records = SeqIO.parse(in_handle, in_format)\n",
      "        count = SeqIO.write(records, out_handle, out_format)\n",
      "    \n",
      "    it is shorter to write::\n",
      "    \n",
      "        from Bio import SeqIO\n",
      "        count = SeqIO.convert(in_handle, in_format, out_handle, out_format)\n",
      "    \n",
      "    Also, Bio.SeqIO.convert is faster for some conversions as it can make some\n",
      "    optimisations.\n",
      "    \n",
      "    For example, going from a filename to a handle:\n",
      "    \n",
      "    >>> from Bio import SeqIO\n",
      "    >>> from io import StringIO\n",
      "    >>> handle = StringIO(\"\")\n",
      "    >>> SeqIO.convert(\"Quality/example.fastq\", \"fastq\", handle, \"fasta\")\n",
      "    3\n",
      "    >>> print(handle.getvalue())\n",
      "    >EAS54_6_R1_2_1_413_324\n",
      "    CCCTTCTTGTCTTCAGCGTTTCTCC\n",
      "    >EAS54_6_R1_2_1_540_792\n",
      "    TTGGCAGGCCAAGGCCGATGGATCA\n",
      "    >EAS54_6_R1_2_1_443_348\n",
      "    GTTGCTTCTGGCGTGGGTGGGGGGG\n",
      "    <BLANKLINE>\n",
      "    \n",
      "    Note some formats like SeqXML require you to specify the molecule type\n",
      "    when it cannot be determined by the parser:\n",
      "    \n",
      "    >>> from Bio import SeqIO\n",
      "    >>> from io import BytesIO\n",
      "    >>> handle = BytesIO()\n",
      "    >>> SeqIO.convert(\"Quality/example.fastq\", \"fastq\", handle, \"seqxml\", \"DNA\")\n",
      "    3\n",
      "\n"
     ]
    }
   ],
   "source": [
    "from Bio import SeqIO\n",
    "\n",
    "help(SeqIO.convert)"
   ]
  },
  {
   "cell_type": "markdown",
   "metadata": {},
   "source": [
    "In principle, just by changing the filenames and the format names, this code could be used to convert between any file formats available in Biopython. However, writing some formats requires information (e.g. quality scores) which other files formats don’t contain. For example, while you can turn a FASTQ file into a FASTA file, you can’t do the reverse. See also Sections 20.1.9 and 20.1.10 in the cookbook chapter which looks at inter-converting between different FASTQ formats.\n",
    "\n",
    "Finally, as an added incentive for using the Bio.SeqIO.convert() function (on top of the fact your code will be shorter), doing it this way may also be faster! The reason for this is the convert function can take advantage of several file format specific optimisations and tricks."
   ]
  },
  {
   "cell_type": "markdown",
   "metadata": {},
   "source": [
    "### 5.5.3 Converting a file of sequences to their reverse complements"
   ]
  },
  {
   "cell_type": "markdown",
   "metadata": {},
   "source": [
    "Suppose you had a file of nucleotide sequences, and you wanted to turn it into a file containing their reverse complement sequences. This time a little bit of work is required to transform the SeqRecord objects we get from our input file into something suitable for saving to our output file.\n",
    "\n",
    "To start with, we’ll use Bio.SeqIO.parse() to load some nucleotide sequences from a file, then print out their reverse complements using the Seq object’s built in .reverse_complement() method (see Section 3.6):"
   ]
  },
  {
   "cell_type": "code",
   "execution_count": 67,
   "metadata": {},
   "outputs": [
    {
     "name": "stdout",
     "output_type": "stream",
     "text": [
      "Z78533.1\n",
      "GCGTAAACTCAGCGGGTGCCCCCGCCTGACCTGGGGTCACATCCGAATGGCGGTCAACCGCCCTCCATTGGGGTTCGGAAGGGTTCTCCTGCCTGTCCGACAAGCACGACAACATGGGGGATTCGCACGGCAGCTGCTGCCAGCATCCGTCCACCTCTTGCCGGGTTCCGGGCCATCAAAACACCAGCTCTTGGACCCGCCGCACCTAGGCACAAGGGGCCAATCTTTCACATCCGCACCACGCCGGCCTGGCTGTATGCCGGGCAAGCATTGGCAGGAGAGAGACGAAGCGCGACGCCCAAGCAGGCGTGCCCTTAGCCTGATGGCCTCGGGCGCAACTTGCGTTCAAAAGACTCGATGGTTCACGGGATCTTGCAATTCACACCACTTATCGCATTTCGCTGCGTCCTTCCATCCGATGCAAAGAGCCAAGATTCCCGTTTGCGAGAGTCATCAAAATTCATTGGGCACGCGACAGCACGCCGCCGCTCCGGGTTTTGGGGAAGACAATGCCATTCGCCGGTGATGCTTTCATATGGCTTGGCGCCCAAACTGCGCCGGGCTAGAGGTTCAAACCCGCCATGGACGCTCCCGAGGCGGCCCAACAACAAATCAGGGTCACCACGGGAGCAATGCCCCCGGTGAGCTGAGTACACCGGTCCTCCGGATTCACTCGATCGTTTATTCCACGGTCTCATCAATGATCCTTCCGCAGGTTCACCTACGGAAACCTTGTTACG\n",
      "Z78532.1\n",
      "GCCTCAACTCAGCGGGTGGCCCCGCCTGACCTGGGGTCGCATCTGAATGGAAATCAACTGCCCAATGGTTATTTTAGCTCCATTGGGGTTCAATTAGGTTCTTGTGTAGGTTCGAAAAAATACAACAACATGGGGGATTCAAATAGCAGCCTTATGACTGTTAGCATTCTCCACCTCGTGCCACATTCCTACCCATCAAAGCAACAATCCTTAGACCCACCGCACCTAGGCACAAGGGGCCAATCATTCACATCCGTATAATGCCAGCTTAGCGATATGCCAAGCAAGCATTGGTAGGAGAGACGCAACACACGACGCCCAGGCAGGCGTGCCCTTAGCCTGATGGCCTCGAGCGCAACTTGCGTTCAAAGACTCGATGGTTCACGGGATTCTGCAATTCACACCACTTATCGCATTTAGCTGCGTTCTTCATCGATGTTAGAGCCAAGATATCCGTTGCGAGAGTCATAAAAATTCACTGGCATGCTCAGTAGCATACTGCCCCTCTGATTTTTTCTGACAATAATGTCATTCATCAGTGATGCTTTATATGACTTGGCGCAAACTGCACCGTACTAAAGTTCAAACCTGCCATGAAAGCTCTTGAGGAGGCCCAACAACAAAGCAGGGTCACGACAAAAGCAGTGCCACGACGAGCTGAGTTACCACAGGTCCTCCAGATTCACTCGATCATATATTCTGTTGTCTCAACAATGATCCTTCCGCAGGTTCACCTACGGAAACCTTGTTACG\n",
      "Z78531.1\n",
      "TTACTCACGGGTGGCCCGCCTGACTGGGGTCGCATCTGAATGGAAATCACCGCCCGAGGGCGGTTTTGCGTCCACTGGGGGTTCAAACAGGTTCTTCTGTAGGCCTGACGAGTACGACAACACGGGGGATTCGAACGGCAGCCTTGCGGCTGCCAGCATCCTCCACCTACTGCCAAGTTCCGGGCCATCAGAACACCGATGCTTAGACCCGCCGCACCTAGGCGCAAGGGGCCAATCTTTCACGTCCTCACAATGACAGACTAGCCGCATGCCAATCAAGCATTATCAGGAGAGACGCAGCACACGACGCCCAGGCAGGCGTGCCCTTAGCCTGATGGCCTCGGGCGCAACTTGCGTTCAAAGACTCGATGGTTCGCGGGATTCTGCAATTCACACCACTTATCGCATTTCGCTGCGTTCTTCATCGATGCAAGAGCCAGATATCCCGTTGCCGAGAGTCGTCATAAATTCATTGGCACGCGCAACAGACGCCGCCCCTCCGAGTTTTTCTTGACAAAAATGCCATCCATCGGTGACGCTCCATATGACTTGGCGCAAACTGCGCCGCGCTAGACGTTCAAACCCGCCATGAAAGTTCCCGAGGCGGCCCGGTCGCAAACCGGGTTCACCACGAGAGCAAAGCCACGGTGAGCCGTGTAACCACGGGTCCTCCGGATTCACTCGATCGTATGTTCTGCTGTCTCAACAATGATCCTTCCGCAGGTTCACCTACGGAAACCTTGTTACG\n"
     ]
    }
   ],
   "source": [
    "from Bio import SeqIO\n",
    "\n",
    "for i, record in enumerate(SeqIO.parse(\"data/ls_orchid.gbk\", \"genbank\")):\n",
    "    print(record.id)\n",
    "    print(record.seq.reverse_complement())\n",
    "    if i == 2:  # 3 is enough\n",
    "        break"
   ]
  },
  {
   "cell_type": "markdown",
   "metadata": {},
   "source": [
    "Now, if we want to save these reverse complements to a file, we’ll need to make SeqRecord objects. We can use the SeqRecord object’s built in .reverse_complement() method (see Section 4.9) but we must decide how to name our new records.\n",
    "\n",
    "This is an excellent place to demonstrate the power of list comprehensions which make a list in memory:"
   ]
  },
  {
   "cell_type": "code",
   "execution_count": 68,
   "metadata": {},
   "outputs": [
    {
     "data": {
      "text/plain": [
       "94"
      ]
     },
     "execution_count": 68,
     "metadata": {},
     "output_type": "execute_result"
    }
   ],
   "source": [
    "from Bio import SeqIO\n",
    "\n",
    "records = [rec.reverse_complement(id=\"rc_\"+rec.id, description = \"reverse complement\") \\\n",
    "           for rec in SeqIO.parse(\"data/ls_orchid.fasta\", \"fasta\")]\n",
    "len(records)"
   ]
  },
  {
   "cell_type": "markdown",
   "metadata": {},
   "source": [
    "Now list comprehensions have a nice trick up their sleeves, you can add a conditional statement:"
   ]
  },
  {
   "cell_type": "code",
   "execution_count": 69,
   "metadata": {},
   "outputs": [
    {
     "data": {
      "text/plain": [
       "18"
      ]
     },
     "execution_count": 69,
     "metadata": {},
     "output_type": "execute_result"
    }
   ],
   "source": [
    "records = [rec.reverse_complement(id=\"rc_\"+rec.id, description = \"reverse complement\") \\\n",
    "           for rec in SeqIO.parse(\"data/ls_orchid.fasta\", \"fasta\") if len(rec)<700]\n",
    "len(records)"
   ]
  },
  {
   "cell_type": "markdown",
   "metadata": {},
   "source": [
    "That would create an in memory list of reverse complement records where the sequence length was under 700 base pairs. However, we can do exactly the same with a generator expression - but with the advantage that this does not create a list of all the records in memory at once:\n"
   ]
  },
  {
   "cell_type": "code",
   "execution_count": 70,
   "metadata": {},
   "outputs": [],
   "source": [
    "records = (rec.reverse_complement(id=\"rc_\"+rec.id, description = \"reverse complement\") \\\n",
    "          for rec in SeqIO.parse(\"data/ls_orchid.fasta\", \"fasta\") if len(rec)<700)"
   ]
  },
  {
   "cell_type": "markdown",
   "metadata": {},
   "source": [
    "As a complete example:\n"
   ]
  },
  {
   "cell_type": "code",
   "execution_count": 71,
   "metadata": {},
   "outputs": [
    {
     "data": {
      "text/plain": [
       "18"
      ]
     },
     "execution_count": 71,
     "metadata": {},
     "output_type": "execute_result"
    }
   ],
   "source": [
    "from Bio import SeqIO\n",
    "\n",
    "records = (rec.reverse_complement(id=\"rc_\"+rec.id, description = \"reverse complement\") \\\n",
    "           for rec in SeqIO.parse(\"data/ls_orchid.fasta\", \"fasta\") if len(rec)<700)\n",
    "SeqIO.write(records, \"data/rev_comp.fasta\", \"fasta\")"
   ]
  },
  {
   "cell_type": "markdown",
   "metadata": {},
   "source": [
    "There is a related example in Section 20.1.3, translating each record in a FASTA file from nucleotides to amino acids."
   ]
  },
  {
   "cell_type": "markdown",
   "metadata": {},
   "source": [
    "### 5.5.4 Getting your SeqRecord objects as formatted strings"
   ]
  },
  {
   "cell_type": "markdown",
   "metadata": {},
   "source": [
    "Suppose that you don't really want to write your records to a file or handle - instead you want a string containing the records in a particular file format.  The Bio.SeqIO interface is based on handles, but Python has a useful built in module which provides a string based handle.\n",
    "\n",
    "For an example of how you might use this, let's load in a bunch of SeqRecord objects from our orchids GenBank file, and create a string containing the records in FASTA format:"
   ]
  },
  {
   "cell_type": "code",
   "execution_count": 72,
   "metadata": {
    "tags": []
   },
   "outputs": [
    {
     "name": "stdout",
     "output_type": "stream",
     "text": [
      ">Z78533.1 C.irapeanum 5.8S rRNA gene and ITS1 and ITS2 DNA\n",
      "CGTAACAAGGTTTCCGTAGGTGAACCTGCGGAAGGATCATTGATGAGACCGTGGAATAAA\n",
      "CGATCGAGTGAATCCGGAGGACCGGTGTACTCAGCTCACCGGGGGCATTGCTCCCGTGGT\n",
      "GACCCTGATTTGTTGTTGGGCCGCCTCGGGAGCGTCCATGGCGGGTTTGAACCTCTAGCC\n",
      "CGGCGCAGTTTGGGCGCCAAGCCATATGAAAGCATCACCGGCGAATGGCATTGTCTTCCC\n",
      "CAAAACCCGGAGCGGCGGCGTGCTGTCGCGTGCCCAATGAATTTTGATGACTCTCGCAAA\n",
      "CGGGAATCTTGGCTCTTTGCATCGGATGGAAGGACGCAGCGAAATGCGATAAGTGGTGTG\n",
      "AATTGCAAGATCCCGTGAACCATCGAGTCTTTTGAACGCAAGTTGCGCCCGAGGCCATCA\n",
      "GGCTAAGGGCACGC\n"
     ]
    }
   ],
   "source": [
    "from Bio import SeqIO\n",
    "from io import StringIO\n",
    "\n",
    "records = SeqIO.parse(\"data/ls_orchid.gbk\", \"genbank\")\n",
    "out_handle = StringIO()\n",
    "SeqIO.write(records, out_handle, \"fasta\")\n",
    "fasta_data = out_handle.getvalue()\n",
    "print(fasta_data[:500])"
   ]
  },
  {
   "cell_type": "markdown",
   "metadata": {},
   "source": [
    "This isn’t entirely straightforward the first time you see it! On the bright side, for the special case where you would like a string containing a single record in a particular file format, use the the SeqRecord class’ format() method (see Section 4.6).\n",
    "\n",
    "Note that although we don’t encourage it, you can use the format() method to write to a file, for example something like this:"
   ]
  },
  {
   "cell_type": "code",
   "execution_count": 73,
   "metadata": {},
   "outputs": [],
   "source": [
    "from Bio import SeqIO\n",
    "\n",
    "with open(\"data/ls_orchid_long.tab\", \"w\") as out_handle:\n",
    "    for record in SeqIO.parse(\"data/ls_orchid.gbk\", \"genbank\"):\n",
    "        if len(record) > 100:\n",
    "            out_handle.write(record.format(\"tab\"))"
   ]
  },
  {
   "cell_type": "markdown",
   "metadata": {},
   "source": [
    "While this style of code will work for a simple sequential file format like FASTA or the simple tab separated format used here, it will _not_ work for more complex or interlaced file formats. This is why we still recommend using Bio.SeqIO.write(), as in the following example:"
   ]
  },
  {
   "cell_type": "code",
   "execution_count": 74,
   "metadata": {},
   "outputs": [
    {
     "data": {
      "text/plain": [
       "94"
      ]
     },
     "execution_count": 74,
     "metadata": {},
     "output_type": "execute_result"
    }
   ],
   "source": [
    "from Bio import SeqIO\n",
    "\n",
    "records = (rec for rec in SeqIO.parse(\"data/ls_orchid.gbk\", \"genbank\") if len(rec) > 100)\n",
    "SeqIO.write(records, \"data/ls_orchid.tab\", \"tab\")"
   ]
  },
  {
   "cell_type": "markdown",
   "metadata": {},
   "source": [
    "Making a single call to SeqIO.write(...) is also much quicker than\n",
    "multiple calls to the SeqRecord.format(...) method."
   ]
  },
  {
   "cell_type": "markdown",
   "metadata": {},
   "source": [
    "## 5.6 Low level FASTA and FASTQ parsers"
   ]
  },
  {
   "cell_type": "markdown",
   "metadata": {},
   "source": [
    "Working with the low-level SimpleFastaParser or FastqGeneralIterator is often more practical than Bio.SeqIO.parse when dealing with large high-throughput FASTA or FASTQ sequencing files where speed matters. As noted in the introduction to this chapter, the file-format neutral Bio.SeqIO interface has the overhead of creating many objects even for simple formats like FASTA.\n",
    "\n",
    "When parsing FASTA files, internally Bio.SeqIO.parse() calls the low-level SimpleFastaParser with the file handle. You can use this directly - it iterates over the file handle returning each record as a tuple of two strings, the title line (everything after the > character) and the sequence (as a plain string):"
   ]
  },
  {
   "cell_type": "code",
   "execution_count": 75,
   "metadata": {},
   "outputs": [
    {
     "name": "stdout",
     "output_type": "stream",
     "text": [
      "94 records with total sequence length 67518\n"
     ]
    }
   ],
   "source": [
    "from Bio.SeqIO.FastaIO import SimpleFastaParser\n",
    "\n",
    "count = 0\n",
    "total_len = 0\n",
    "with open(\"data/ls_orchid.fasta\") as in_handle:\n",
    "     for title, seq in SimpleFastaParser(in_handle):\n",
    "        count += 1\n",
    "        total_len += len(seq)\n",
    "\n",
    "print(\"%i records with total sequence length %i\" % (count, total_len))"
   ]
  },
  {
   "cell_type": "markdown",
   "metadata": {},
   "source": [
    "As long as you don’t care about line wrapping (and you probably don’t for short read high-througput data), then outputing FASTA format from these strings is also very fast:"
   ]
  },
  {
   "cell_type": "code",
   "execution_count": 79,
   "metadata": {},
   "outputs": [
    {
     "ename": "ValueError",
     "evalue": "I/O operation on closed file.",
     "output_type": "error",
     "traceback": [
      "\u001b[0;31m---------------------------------------------------------------------------\u001b[0m",
      "\u001b[0;31mValueError\u001b[0m                                Traceback (most recent call last)",
      "\u001b[0;32m<ipython-input-79-09d68c1c5dec>\u001b[0m in \u001b[0;36m<module>\u001b[0;34m\u001b[0m\n\u001b[0;32m----> 1\u001b[0;31m \u001b[0mout_handle\u001b[0m\u001b[0;34m.\u001b[0m\u001b[0mwrite\u001b[0m\u001b[0;34m(\u001b[0m\u001b[0;34m\"%s\\n%s\\n\"\u001b[0m \u001b[0;34m%\u001b[0m \u001b[0;34m(\u001b[0m\u001b[0mtitle\u001b[0m\u001b[0;34m,\u001b[0m \u001b[0mseq\u001b[0m\u001b[0;34m)\u001b[0m\u001b[0;34m)\u001b[0m\u001b[0;34m\u001b[0m\u001b[0;34m\u001b[0m\u001b[0m\n\u001b[0m",
      "\u001b[0;31mValueError\u001b[0m: I/O operation on closed file."
     ]
    }
   ],
   "source": [
    "out_handle.write(\"%s\\n%s\\n\" % (title, seq))"
   ]
  },
  {
   "cell_type": "markdown",
   "metadata": {},
   "source": [
    "Likewise, when parsing FASTQ files, internally Bio.SeqIO.parse() calls the low-level FastqGeneralIterator with the file handle. If you don’t need the quality scores turned into integers, or can work with them as ASCII strings this is ideal:"
   ]
  },
  {
   "cell_type": "code",
   "execution_count": 77,
   "metadata": {},
   "outputs": [
    {
     "name": "stdout",
     "output_type": "stream",
     "text": [
      "3 records with total sequence length 75\n"
     ]
    }
   ],
   "source": [
    "from Bio.SeqIO.QualityIO import FastqGeneralIterator\n",
    "\n",
    "count = 0\n",
    "total_len = 0\n",
    "with open(\"data/example.fastq\") as in_handle:\n",
    "     for title, seq, qual in FastqGeneralIterator(in_handle):\n",
    "        count += 1\n",
    "        total_len += len(seq)\n",
    "\n",
    "print(\"%i records with total sequence length %i\" % (count, total_len))"
   ]
  },
  {
   "cell_type": "markdown",
   "metadata": {},
   "source": [
    "There are more examples of this in the Cookbook (Chapter 20), including how to output FASTQ efficiently from strings using this code snippet:"
   ]
  },
  {
   "cell_type": "code",
   "execution_count": 78,
   "metadata": {},
   "outputs": [
    {
     "ename": "ValueError",
     "evalue": "I/O operation on closed file.",
     "output_type": "error",
     "traceback": [
      "\u001b[0;31m---------------------------------------------------------------------------\u001b[0m",
      "\u001b[0;31mValueError\u001b[0m                                Traceback (most recent call last)",
      "\u001b[0;32m<ipython-input-78-713bfcd10660>\u001b[0m in \u001b[0;36m<module>\u001b[0;34m\u001b[0m\n\u001b[0;32m----> 1\u001b[0;31m \u001b[0mout_handle\u001b[0m\u001b[0;34m.\u001b[0m\u001b[0mwrite\u001b[0m\u001b[0;34m(\u001b[0m\u001b[0;34m\"@%s\\n%s\\n+\\n%s\\n\"\u001b[0m \u001b[0;34m%\u001b[0m \u001b[0;34m(\u001b[0m\u001b[0mtitle\u001b[0m\u001b[0;34m,\u001b[0m \u001b[0mseq\u001b[0m\u001b[0;34m,\u001b[0m \u001b[0mqual\u001b[0m\u001b[0;34m)\u001b[0m\u001b[0;34m)\u001b[0m\u001b[0;34m\u001b[0m\u001b[0;34m\u001b[0m\u001b[0m\n\u001b[0m",
      "\u001b[0;31mValueError\u001b[0m: I/O operation on closed file."
     ]
    }
   ],
   "source": [
    "out_handle.write(\"@%s\\n%s\\n+\\n%s\\n\" % (title, seq, qual))"
   ]
  },
  {
   "cell_type": "code",
   "execution_count": null,
   "metadata": {},
   "outputs": [],
   "source": []
  }
 ],
 "metadata": {
  "kernelspec": {
   "display_name": "Python 3",
   "language": "python",
   "name": "python3"
  },
  "language_info": {
   "codemirror_mode": {
    "name": "ipython",
    "version": 3
   },
   "file_extension": ".py",
   "mimetype": "text/x-python",
   "name": "python",
   "nbconvert_exporter": "python",
   "pygments_lexer": "ipython3",
   "version": "3.7.9"
  }
 },
 "nbformat": 4,
 "nbformat_minor": 1
}
