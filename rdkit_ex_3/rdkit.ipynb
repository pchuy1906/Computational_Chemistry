{
 "cells": [
  {
   "cell_type": "markdown",
   "metadata": {},
   "source": [
    "### For the school on chemoinformatics (BIGCHEM project). Munich, 17-21 October, 2016.  \n",
    "Dr. Pavel Polishchuk"
   ]
  },
  {
   "cell_type": "markdown",
   "metadata": {},
   "source": [
    "## Basic of RDKit"
   ]
  },
  {
   "cell_type": "markdown",
   "metadata": {},
   "source": [
    "RDKit is a an open-source cross-platform chemoinformatics toolkit.  \n",
    "Written in C++, supports Python 2 and 3, Java and C#.  \n",
    "BSD license  \n",
    "\n",
    "2000-2006: Developed and used at Rational Discovery for building predictive models for ADME, Tox, biological activity  \n",
    "June 2006: Open-source (BSD license) release of software, Rational Discovery shuts down  \n",
    "to present: Open-source development continues, use within Novartis, contributions from Novartis back to open-source version  "
   ]
  },
  {
   "cell_type": "markdown",
   "metadata": {
    "collapsed": true
   },
   "source": [
    "Detailed documentation with tutorials and examples are available on http://www.rdkit.org/docs/index.html  \n",
    "Recently new github repository was created to manage RDKit tutorials: https://github.com/rdkit/rdkit-tutorials  \n",
    "I highly recommend to subscribe on RDKit maillist https://sourceforge.net/p/rdkit/mailman/rdkit-discuss/"
   ]
  },
  {
   "cell_type": "markdown",
   "metadata": {},
   "source": [
    "## Reading and writing molecules"
   ]
  },
  {
   "cell_type": "markdown",
   "metadata": {
    "collapsed": true
   },
   "source": [
    "RDKit supports various formats: SMILES, Mol, SDF, Mol2, PDB, FASTA, etc.  "
   ]
  },
  {
   "cell_type": "code",
   "execution_count": 1,
   "metadata": {},
   "outputs": [],
   "source": [
    "from rdkit import Chem"
   ]
  },
  {
   "cell_type": "code",
   "execution_count": 2,
   "metadata": {},
   "outputs": [],
   "source": [
    "from rdkit.Chem.Draw import IPythonConsole\n",
    "from rdkit.Chem import Draw\n",
    "IPythonConsole.ipython_useSVG=True"
   ]
  },
  {
   "cell_type": "markdown",
   "metadata": {},
   "source": [
    "### Reading\n",
    "In the case of successful reading the functions return mol object, otherwise `None`. The latter can be used to check whether reading was successful or not."
   ]
  },
  {
   "cell_type": "markdown",
   "metadata": {},
   "source": [
    "#### SMILES  \n",
    "Coordinates for 2D depiction are generated automatically."
   ]
  },
  {
   "cell_type": "code",
   "execution_count": 3,
   "metadata": {},
   "outputs": [],
   "source": [
    "m = Chem.MolFromSmiles(\"c1ccccc1OC\")"
   ]
  },
  {
   "cell_type": "code",
   "execution_count": 4,
   "metadata": {},
   "outputs": [
    {
     "data": {
      "image/png": "[encoded data removed]",
      "image/svg+xml": [
       "<?xml version='1.0' encoding='iso-8859-1'?>\n",
       "<svg version='1.1' baseProfile='full'\n",
       "              xmlns='http://www.w3.org/2000/svg'\n",
       "                      xmlns:rdkit='http://www.rdkit.org/xml'\n",
       "                      xmlns:xlink='http://www.w3.org/1999/xlink'\n",
       "                  xml:space='preserve'\n",
       "width='450px' height='150px' viewBox='0 0 450 150'>\n",
       "<!-- END OF HEADER -->\n",
       "<rect style='opacity:1.0;fill:#FFFFFF;stroke:none' width='450' height='150' x='0' y='0'> </rect>\n",
       "<path class='bond-0' d='M 214.387,127.473 L 144.727,143.182' style='fill:none;fill-rule:evenodd;stroke:#000000;stroke-width:2.0px;stroke-linecap:butt;stroke-linejoin:miter;stroke-opacity:1' />\n",
       "<path class='bond-0' d='M 200.796,115.898 L 152.034,126.893' style='fill:none;fill-rule:evenodd;stroke:#000000;stroke-width:2.0px;stroke-linecap:butt;stroke-linejoin:miter;stroke-opacity:1' />\n",
       "<path class='bond-7' d='M 214.387,127.473 L 235.613,59.2915' style='fill:none;fill-rule:evenodd;stroke:#000000;stroke-width:2.0px;stroke-linecap:butt;stroke-linejoin:miter;stroke-opacity:1' />\n",
       "<path class='bond-1' d='M 144.727,143.182 L 96.2925,90.7085' style='fill:none;fill-rule:evenodd;stroke:#000000;stroke-width:2.0px;stroke-linecap:butt;stroke-linejoin:miter;stroke-opacity:1' />\n",
       "<path class='bond-2' d='M 96.2925,90.7085 L 117.519,22.5266' style='fill:none;fill-rule:evenodd;stroke:#000000;stroke-width:2.0px;stroke-linecap:butt;stroke-linejoin:miter;stroke-opacity:1' />\n",
       "<path class='bond-2' d='M 113.113,84.7264 L 127.971,36.9992' style='fill:none;fill-rule:evenodd;stroke:#000000;stroke-width:2.0px;stroke-linecap:butt;stroke-linejoin:miter;stroke-opacity:1' />\n",
       "<path class='bond-3' d='M 117.519,22.5266 L 187.179,6.81818' style='fill:none;fill-rule:evenodd;stroke:#000000;stroke-width:2.0px;stroke-linecap:butt;stroke-linejoin:miter;stroke-opacity:1' />\n",
       "<path class='bond-4' d='M 187.179,6.81818 L 235.613,59.2915' style='fill:none;fill-rule:evenodd;stroke:#000000;stroke-width:2.0px;stroke-linecap:butt;stroke-linejoin:miter;stroke-opacity:1' />\n",
       "<path class='bond-4' d='M 183.949,24.376 L 217.853,61.1073' style='fill:none;fill-rule:evenodd;stroke:#000000;stroke-width:2.0px;stroke-linecap:butt;stroke-linejoin:miter;stroke-opacity:1' />\n",
       "<path class='bond-5' d='M 235.613,59.2915 L 264.909,52.6853' style='fill:none;fill-rule:evenodd;stroke:#000000;stroke-width:2.0px;stroke-linecap:butt;stroke-linejoin:miter;stroke-opacity:1' />\n",
       "<path class='bond-5' d='M 264.909,52.6853 L 294.205,46.079' style='fill:none;fill-rule:evenodd;stroke:#FF0000;stroke-width:2.0px;stroke-linecap:butt;stroke-linejoin:miter;stroke-opacity:1' />\n",
       "<path class='bond-6' d='M 316.342,55.5746 L 335.025,75.8155' style='fill:none;fill-rule:evenodd;stroke:#FF0000;stroke-width:2.0px;stroke-linecap:butt;stroke-linejoin:miter;stroke-opacity:1' />\n",
       "<path class='bond-6' d='M 335.025,75.8155 L 353.707,96.0564' style='fill:none;fill-rule:evenodd;stroke:#000000;stroke-width:2.0px;stroke-linecap:butt;stroke-linejoin:miter;stroke-opacity:1' />\n",
       "<path  class='atom-6' d='M 295.99 43.6402\n",
       "Q 295.99 38.7844, 298.39 36.0708\n",
       "Q 300.789 33.3572, 305.273 33.3572\n",
       "Q 309.758 33.3572, 312.157 36.0708\n",
       "Q 314.557 38.7844, 314.557 43.6402\n",
       "Q 314.557 48.5532, 312.129 51.3524\n",
       "Q 309.701 54.1231, 305.273 54.1231\n",
       "Q 300.817 54.1231, 298.39 51.3524\n",
       "Q 295.99 48.5817, 295.99 43.6402\n",
       "M 305.273 51.838\n",
       "Q 308.358 51.838, 310.015 49.7814\n",
       "Q 311.7 47.6963, 311.7 43.6402\n",
       "Q 311.7 39.6698, 310.015 37.6704\n",
       "Q 308.358 35.6423, 305.273 35.6423\n",
       "Q 302.189 35.6423, 300.503 37.6418\n",
       "Q 298.847 39.6413, 298.847 43.6402\n",
       "Q 298.847 47.7248, 300.503 49.7814\n",
       "Q 302.189 51.838, 305.273 51.838\n",
       "' fill='#FF0000'/>\n",
       "</svg>\n"
      ],
      "text/plain": [
       "<rdkit.Chem.rdchem.Mol at 0x7fc82917e490>"
      ]
     },
     "execution_count": 4,
     "metadata": {},
     "output_type": "execute_result"
    }
   ],
   "source": [
    "m"
   ]
  },
  {
   "cell_type": "markdown",
   "metadata": {},
   "source": [
    "Reading of a structure with errors leads to errors, result will be `None`."
   ]
  },
  {
   "cell_type": "code",
   "execution_count": 5,
   "metadata": {},
   "outputs": [
    {
     "name": "stderr",
     "output_type": "stream",
     "text": [
      "RDKit ERROR: [13:55:07] Explicit valence for atom # 6 O, 3, is greater than permitted\n"
     ]
    }
   ],
   "source": [
    "m = Chem.MolFromSmiles(\"c1ccccc1O(C)C\")"
   ]
  },
  {
   "cell_type": "code",
   "execution_count": 6,
   "metadata": {},
   "outputs": [
    {
     "data": {
      "text/plain": [
       "True"
      ]
     },
     "execution_count": 6,
     "metadata": {},
     "output_type": "execute_result"
    }
   ],
   "source": [
    "m is None"
   ]
  },
  {
   "cell_type": "markdown",
   "metadata": {},
   "source": [
    "#### reading from MolBlock  \n",
    "MolBlock doesn't contain property fields like in SDF file."
   ]
  },
  {
   "cell_type": "code",
   "execution_count": 7,
   "metadata": {
    "scrolled": true
   },
   "outputs": [
    {
     "data": {
      "image/png": "[encoded data removed]",
      "image/svg+xml": [
       "<?xml version='1.0' encoding='iso-8859-1'?>\n",
       "<svg version='1.1' baseProfile='full'\n",
       "              xmlns='http://www.w3.org/2000/svg'\n",
       "                      xmlns:rdkit='http://www.rdkit.org/xml'\n",
       "                      xmlns:xlink='http://www.w3.org/1999/xlink'\n",
       "                  xml:space='preserve'\n",
       "width='450px' height='150px' viewBox='0 0 450 150'>\n",
       "<!-- END OF HEADER -->\n",
       "<rect style='opacity:1.0;fill:#FFFFFF;stroke:none' width='450' height='150' x='0' y='0'> </rect>\n",
       "<path class='bond-0' d='M 171.587,19.8261 L 118.17,50.665' style='fill:none;fill-rule:evenodd;stroke:#000000;stroke-width:2.0px;stroke-linecap:butt;stroke-linejoin:miter;stroke-opacity:1' />\n",
       "<path class='bond-0' d='M 170.303,36.1062 L 132.911,57.6934' style='fill:none;fill-rule:evenodd;stroke:#000000;stroke-width:2.0px;stroke-linecap:butt;stroke-linejoin:miter;stroke-opacity:1' />\n",
       "<path class='bond-5' d='M 171.587,19.8261 L 224.996,50.665' style='fill:none;fill-rule:evenodd;stroke:#000000;stroke-width:2.0px;stroke-linecap:butt;stroke-linejoin:miter;stroke-opacity:1' />\n",
       "<path class='bond-1' d='M 118.17,50.665 L 118.17,112.343' style='fill:none;fill-rule:evenodd;stroke:#000000;stroke-width:2.0px;stroke-linecap:butt;stroke-linejoin:miter;stroke-opacity:1' />\n",
       "<path class='bond-2' d='M 118.17,112.343 L 171.587,143.182' style='fill:none;fill-rule:evenodd;stroke:#000000;stroke-width:2.0px;stroke-linecap:butt;stroke-linejoin:miter;stroke-opacity:1' />\n",
       "<path class='bond-2' d='M 132.911,105.315 L 170.303,126.902' style='fill:none;fill-rule:evenodd;stroke:#000000;stroke-width:2.0px;stroke-linecap:butt;stroke-linejoin:miter;stroke-opacity:1' />\n",
       "<path class='bond-3' d='M 171.587,143.182 L 224.996,112.343' style='fill:none;fill-rule:evenodd;stroke:#000000;stroke-width:2.0px;stroke-linecap:butt;stroke-linejoin:miter;stroke-opacity:1' />\n",
       "<path class='bond-4' d='M 224.996,112.343 L 224.996,50.665' style='fill:none;fill-rule:evenodd;stroke:#000000;stroke-width:2.0px;stroke-linecap:butt;stroke-linejoin:miter;stroke-opacity:1' />\n",
       "<path class='bond-4' d='M 211.539,103.091 L 211.539,59.9167' style='fill:none;fill-rule:evenodd;stroke:#000000;stroke-width:2.0px;stroke-linecap:butt;stroke-linejoin:miter;stroke-opacity:1' />\n",
       "<path class='bond-6' d='M 224.996,50.665 L 244.434,39.4433' style='fill:none;fill-rule:evenodd;stroke:#000000;stroke-width:2.0px;stroke-linecap:butt;stroke-linejoin:miter;stroke-opacity:1' />\n",
       "<path class='bond-6' d='M 244.434,39.4433 L 263.871,28.2216' style='fill:none;fill-rule:evenodd;stroke:#FF0000;stroke-width:2.0px;stroke-linecap:butt;stroke-linejoin:miter;stroke-opacity:1' />\n",
       "<path class='bond-7' d='M 292.955,28.2216 L 312.392,39.4433' style='fill:none;fill-rule:evenodd;stroke:#FF0000;stroke-width:2.0px;stroke-linecap:butt;stroke-linejoin:miter;stroke-opacity:1' />\n",
       "<path class='bond-7' d='M 312.392,39.4433 L 331.83,50.665' style='fill:none;fill-rule:evenodd;stroke:#000000;stroke-width:2.0px;stroke-linecap:butt;stroke-linejoin:miter;stroke-opacity:1' />\n",
       "<path  class='atom-6' d='M 265.413 19.9061\n",
       "Q 265.413 13.1061, 268.773 9.30612\n",
       "Q 272.133 5.50612, 278.413 5.50612\n",
       "Q 284.693 5.50612, 288.053 9.30612\n",
       "Q 291.413 13.1061, 291.413 19.9061\n",
       "Q 291.413 26.7861, 288.013 30.7061\n",
       "Q 284.613 34.5861, 278.413 34.5861\n",
       "Q 272.173 34.5861, 268.773 30.7061\n",
       "Q 265.413 26.8261, 265.413 19.9061\n",
       "M 278.413 31.3861\n",
       "Q 282.733 31.3861, 285.053 28.5061\n",
       "Q 287.413 25.5861, 287.413 19.9061\n",
       "Q 287.413 14.3461, 285.053 11.5461\n",
       "Q 282.733 8.70612, 278.413 8.70612\n",
       "Q 274.093 8.70612, 271.733 11.5061\n",
       "Q 269.413 14.3061, 269.413 19.9061\n",
       "Q 269.413 25.6261, 271.733 28.5061\n",
       "Q 274.093 31.3861, 278.413 31.3861\n",
       "' fill='#FF0000'/>\n",
       "</svg>\n"
      ],
      "text/plain": [
       "<rdkit.Chem.rdchem.Mol at 0x7fc829191620>"
      ]
     },
     "execution_count": 7,
     "metadata": {},
     "output_type": "execute_result"
    }
   ],
   "source": [
    "molblock = \"\"\"\n",
    "  Mrv1661310131608212D          \n",
    "\n",
    " 16 16  0  0  0  0            999 V2000\n",
    "   -5.9598    1.6732    0.0000 C   0  0  0  0  0  0  0  0  0  0  0  0\n",
    "   -6.6743    1.2607    0.0000 C   0  0  0  0  0  0  0  0  0  0  0  0\n",
    "   -6.6743    0.4357    0.0000 C   0  0  0  0  0  0  0  0  0  0  0  0\n",
    "   -5.9598    0.0232    0.0000 C   0  0  0  0  0  0  0  0  0  0  0  0\n",
    "   -5.2454    0.4357    0.0000 C   0  0  0  0  0  0  0  0  0  0  0  0\n",
    "   -5.2454    1.2607    0.0000 C   0  0  0  0  0  0  0  0  0  0  0  0\n",
    "   -4.5309    1.6732    0.0000 O   0  0  0  0  0  0  0  0  0  0  0  0\n",
    "   -3.8164    1.2607    0.0000 C   0  0  0  0  0  0  0  0  0  0  0  0\n",
    "   -5.9598    2.4982    0.0000 H   0  0  0  0  0  0  0  0  0  0  0  0\n",
    "   -7.3888    1.6732    0.0000 H   0  0  0  0  0  0  0  0  0  0  0  0\n",
    "   -7.3888    0.0232    0.0000 H   0  0  0  0  0  0  0  0  0  0  0  0\n",
    "   -5.9598   -0.8018    0.0000 H   0  0  0  0  0  0  0  0  0  0  0  0\n",
    "   -4.5309    0.0232    0.0000 H   0  0  0  0  0  0  0  0  0  0  0  0\n",
    "   -4.2289    0.5462    0.0000 H   0  0  0  0  0  0  0  0  0  0  0  0\n",
    "   -3.1019    0.8482    0.0000 H   0  0  0  0  0  0  0  0  0  0  0  0\n",
    "   -3.4039    1.9752    0.0000 H   0  0  0  0  0  0  0  0  0  0  0  0\n",
    "  1  2  4  0  0  0  0\n",
    "  2  3  4  0  0  0  0\n",
    "  3  4  4  0  0  0  0\n",
    "  4  5  4  0  0  0  0\n",
    "  5  6  4  0  0  0  0\n",
    "  1  6  4  0  0  0  0\n",
    "  6  7  1  0  0  0  0\n",
    "  7  8  1  0  0  0  0\n",
    "  1  9  1  0  0  0  0\n",
    "  2 10  1  0  0  0  0\n",
    "  3 11  1  0  0  0  0\n",
    "  4 12  1  0  0  0  0\n",
    "  5 13  1  0  0  0  0\n",
    "  8 14  1  0  0  0  0\n",
    "  8 15  1  0  0  0  0\n",
    "  8 16  1  0  0  0  0\n",
    "M  END\n",
    "\"\"\"\n",
    "m = Chem.MolFromMolBlock(molblock)\n",
    "m"
   ]
  },
  {
   "cell_type": "markdown",
   "metadata": {},
   "source": [
    "#### Mol files"
   ]
  },
  {
   "cell_type": "code",
   "execution_count": 8,
   "metadata": {},
   "outputs": [],
   "source": [
    "m = Chem.MolFromMolFile(\"data/anisole.mol\")"
   ]
  },
  {
   "cell_type": "code",
   "execution_count": 9,
   "metadata": {
    "scrolled": false
   },
   "outputs": [
    {
     "data": {
      "image/png": "[encoded data removed]",
      "image/svg+xml": [
       "<?xml version='1.0' encoding='iso-8859-1'?>\n",
       "<svg version='1.1' baseProfile='full'\n",
       "              xmlns='http://www.w3.org/2000/svg'\n",
       "                      xmlns:rdkit='http://www.rdkit.org/xml'\n",
       "                      xmlns:xlink='http://www.w3.org/1999/xlink'\n",
       "                  xml:space='preserve'\n",
       "width='450px' height='150px' viewBox='0 0 450 150'>\n",
       "<!-- END OF HEADER -->\n",
       "<rect style='opacity:1.0;fill:#FFFFFF;stroke:none' width='450' height='150' x='0' y='0'> </rect>\n",
       "<path class='bond-0' d='M 171.587,19.8261 L 118.17,50.665' style='fill:none;fill-rule:evenodd;stroke:#000000;stroke-width:2.0px;stroke-linecap:butt;stroke-linejoin:miter;stroke-opacity:1' />\n",
       "<path class='bond-0' d='M 170.303,36.1062 L 132.911,57.6934' style='fill:none;fill-rule:evenodd;stroke:#000000;stroke-width:2.0px;stroke-linecap:butt;stroke-linejoin:miter;stroke-opacity:1' />\n",
       "<path class='bond-5' d='M 171.587,19.8261 L 224.996,50.665' style='fill:none;fill-rule:evenodd;stroke:#000000;stroke-width:2.0px;stroke-linecap:butt;stroke-linejoin:miter;stroke-opacity:1' />\n",
       "<path class='bond-1' d='M 118.17,50.665 L 118.17,112.343' style='fill:none;fill-rule:evenodd;stroke:#000000;stroke-width:2.0px;stroke-linecap:butt;stroke-linejoin:miter;stroke-opacity:1' />\n",
       "<path class='bond-2' d='M 118.17,112.343 L 171.587,143.182' style='fill:none;fill-rule:evenodd;stroke:#000000;stroke-width:2.0px;stroke-linecap:butt;stroke-linejoin:miter;stroke-opacity:1' />\n",
       "<path class='bond-2' d='M 132.911,105.315 L 170.303,126.902' style='fill:none;fill-rule:evenodd;stroke:#000000;stroke-width:2.0px;stroke-linecap:butt;stroke-linejoin:miter;stroke-opacity:1' />\n",
       "<path class='bond-3' d='M 171.587,143.182 L 224.996,112.343' style='fill:none;fill-rule:evenodd;stroke:#000000;stroke-width:2.0px;stroke-linecap:butt;stroke-linejoin:miter;stroke-opacity:1' />\n",
       "<path class='bond-4' d='M 224.996,112.343 L 224.996,50.665' style='fill:none;fill-rule:evenodd;stroke:#000000;stroke-width:2.0px;stroke-linecap:butt;stroke-linejoin:miter;stroke-opacity:1' />\n",
       "<path class='bond-4' d='M 211.539,103.091 L 211.539,59.9167' style='fill:none;fill-rule:evenodd;stroke:#000000;stroke-width:2.0px;stroke-linecap:butt;stroke-linejoin:miter;stroke-opacity:1' />\n",
       "<path class='bond-6' d='M 224.996,50.665 L 244.434,39.4433' style='fill:none;fill-rule:evenodd;stroke:#000000;stroke-width:2.0px;stroke-linecap:butt;stroke-linejoin:miter;stroke-opacity:1' />\n",
       "<path class='bond-6' d='M 244.434,39.4433 L 263.871,28.2216' style='fill:none;fill-rule:evenodd;stroke:#FF0000;stroke-width:2.0px;stroke-linecap:butt;stroke-linejoin:miter;stroke-opacity:1' />\n",
       "<path class='bond-7' d='M 292.955,28.2216 L 312.392,39.4433' style='fill:none;fill-rule:evenodd;stroke:#FF0000;stroke-width:2.0px;stroke-linecap:butt;stroke-linejoin:miter;stroke-opacity:1' />\n",
       "<path class='bond-7' d='M 312.392,39.4433 L 331.83,50.665' style='fill:none;fill-rule:evenodd;stroke:#000000;stroke-width:2.0px;stroke-linecap:butt;stroke-linejoin:miter;stroke-opacity:1' />\n",
       "<path  class='atom-6' d='M 265.413 19.9061\n",
       "Q 265.413 13.1061, 268.773 9.30612\n",
       "Q 272.133 5.50612, 278.413 5.50612\n",
       "Q 284.693 5.50612, 288.053 9.30612\n",
       "Q 291.413 13.1061, 291.413 19.9061\n",
       "Q 291.413 26.7861, 288.013 30.7061\n",
       "Q 284.613 34.5861, 278.413 34.5861\n",
       "Q 272.173 34.5861, 268.773 30.7061\n",
       "Q 265.413 26.8261, 265.413 19.9061\n",
       "M 278.413 31.3861\n",
       "Q 282.733 31.3861, 285.053 28.5061\n",
       "Q 287.413 25.5861, 287.413 19.9061\n",
       "Q 287.413 14.3461, 285.053 11.5461\n",
       "Q 282.733 8.70612, 278.413 8.70612\n",
       "Q 274.093 8.70612, 271.733 11.5061\n",
       "Q 269.413 14.3061, 269.413 19.9061\n",
       "Q 269.413 25.6261, 271.733 28.5061\n",
       "Q 274.093 31.3861, 278.413 31.3861\n",
       "' fill='#FF0000'/>\n",
       "</svg>\n"
      ],
      "text/plain": [
       "<rdkit.Chem.rdchem.Mol at 0x7fc8291959e0>"
      ]
     },
     "execution_count": 9,
     "metadata": {},
     "output_type": "execute_result"
    }
   ],
   "source": [
    "m"
   ]
  },
  {
   "cell_type": "markdown",
   "metadata": {},
   "source": [
    "#### reading from SDF"
   ]
  },
  {
   "cell_type": "code",
   "execution_count": 10,
   "metadata": {
    "scrolled": true
   },
   "outputs": [
    {
     "name": "stdout",
     "output_type": "stream",
     "text": [
      "5\n",
      "5\n",
      "5\n",
      "5\n"
     ]
    }
   ],
   "source": [
    "iterator = Chem.SDMolSupplier(\"data/logBB.sdf\")\n",
    "for m in iterator:\n",
    "    if m is not None:              # test whether molecule was read\n",
    "        print(m.GetNumAtoms())     # returns number of heavy atoms only, Hs were stripped"
   ]
  },
  {
   "cell_type": "code",
   "execution_count": 11,
   "metadata": {
    "scrolled": true
   },
   "outputs": [
    {
     "data": {
      "text/plain": [
       "4"
      ]
     },
     "execution_count": 11,
     "metadata": {},
     "output_type": "execute_result"
    }
   ],
   "source": [
    "mols = [m for m in iterator]\n",
    "len(mols)"
   ]
  },
  {
   "cell_type": "markdown",
   "metadata": {},
   "source": [
    "In the second case if some molecules failed to read there will be some `None`s in the output list which should be removed"
   ]
  },
  {
   "cell_type": "code",
   "execution_count": 12,
   "metadata": {},
   "outputs": [
    {
     "data": {
      "text/plain": [
       "4"
      ]
     },
     "execution_count": 12,
     "metadata": {},
     "output_type": "execute_result"
    }
   ],
   "source": [
    "mols = [m for m in iterator if m is not None]\n",
    "len(mols)"
   ]
  },
  {
   "cell_type": "markdown",
   "metadata": {},
   "source": [
    "You may use Supplier as a random-access object:"
   ]
  },
  {
   "cell_type": "code",
   "execution_count": 13,
   "metadata": {},
   "outputs": [
    {
     "data": {
      "image/png": "[encoded data removed]",
      "image/svg+xml": [
       "<?xml version='1.0' encoding='iso-8859-1'?>\n",
       "<svg version='1.1' baseProfile='full'\n",
       "              xmlns='http://www.w3.org/2000/svg'\n",
       "                      xmlns:rdkit='http://www.rdkit.org/xml'\n",
       "                      xmlns:xlink='http://www.w3.org/1999/xlink'\n",
       "                  xml:space='preserve'\n",
       "width='450px' height='150px' viewBox='0 0 450 150'>\n",
       "<!-- END OF HEADER -->\n",
       "<rect style='opacity:1.0;fill:#FFFFFF;stroke:none' width='450' height='150' x='0' y='0'> </rect>\n",
       "<path class='bond-0' d='M 252.305,75.4631 L 188.96,75.4631' style='fill:none;fill-rule:evenodd;stroke:#000000;stroke-width:2.0px;stroke-linecap:butt;stroke-linejoin:miter;stroke-opacity:1' />\n",
       "<path class='bond-0' d='M 242.803,61.6422 L 198.461,61.6422' style='fill:none;fill-rule:evenodd;stroke:#000000;stroke-width:2.0px;stroke-linecap:butt;stroke-linejoin:miter;stroke-opacity:1' />\n",
       "<path class='bond-3' d='M 252.305,75.4631 L 263.199,56.5944' style='fill:none;fill-rule:evenodd;stroke:#000000;stroke-width:2.0px;stroke-linecap:butt;stroke-linejoin:miter;stroke-opacity:1' />\n",
       "<path class='bond-3' d='M 263.199,56.5944 L 274.092,37.7256' style='fill:none;fill-rule:evenodd;stroke:#00CC00;stroke-width:2.0px;stroke-linecap:butt;stroke-linejoin:miter;stroke-opacity:1' />\n",
       "<path class='bond-1' d='M 188.96,75.4631 L 177.668,95.0218' style='fill:none;fill-rule:evenodd;stroke:#000000;stroke-width:2.0px;stroke-linecap:butt;stroke-linejoin:miter;stroke-opacity:1' />\n",
       "<path class='bond-1' d='M 177.668,95.0218 L 166.376,114.581' style='fill:none;fill-rule:evenodd;stroke:#33CCCC;stroke-width:2.0px;stroke-linecap:butt;stroke-linejoin:miter;stroke-opacity:1' />\n",
       "<path class='bond-2' d='M 188.96,75.4631 L 177.668,55.9044' style='fill:none;fill-rule:evenodd;stroke:#000000;stroke-width:2.0px;stroke-linecap:butt;stroke-linejoin:miter;stroke-opacity:1' />\n",
       "<path class='bond-2' d='M 177.668,55.9044 L 166.376,36.3456' style='fill:none;fill-rule:evenodd;stroke:#33CCCC;stroke-width:2.0px;stroke-linecap:butt;stroke-linejoin:miter;stroke-opacity:1' />\n",
       "<path  class='atom-2' d='M 148.867 116.164\n",
       "L 165.707 116.164\n",
       "L 165.707 119.404\n",
       "L 152.667 119.404\n",
       "L 152.667 128.004\n",
       "L 164.267 128.004\n",
       "L 164.267 131.284\n",
       "L 152.667 131.284\n",
       "L 152.667 144.484\n",
       "L 148.867 144.484\n",
       "L 148.867 116.164\n",
       "' fill='#33CCCC'/>\n",
       "<path  class='atom-3' d='M 148.867 6.44193\n",
       "L 165.707 6.44193\n",
       "L 165.707 9.68193\n",
       "L 152.667 9.68193\n",
       "L 152.667 18.2819\n",
       "L 164.267 18.2819\n",
       "L 164.267 21.5619\n",
       "L 152.667 21.5619\n",
       "L 152.667 34.7619\n",
       "L 148.867 34.7619\n",
       "L 148.867 6.44193\n",
       "' fill='#33CCCC'/>\n",
       "<path  class='atom-4' d='M 273.058 21.5819\n",
       "Q 273.058 14.5419, 276.338 10.8619\n",
       "Q 279.658 7.14193, 285.938 7.14193\n",
       "Q 291.778 7.14193, 294.898 11.2619\n",
       "L 292.258 13.4219\n",
       "Q 289.978 10.4219, 285.938 10.4219\n",
       "Q 281.658 10.4219, 279.378 13.3019\n",
       "Q 277.138 16.1419, 277.138 21.5819\n",
       "Q 277.138 27.1819, 279.458 30.0619\n",
       "Q 281.818 32.9419, 286.378 32.9419\n",
       "Q 289.498 32.9419, 293.138 31.0619\n",
       "L 294.258 34.0619\n",
       "Q 292.778 35.0219, 290.538 35.5819\n",
       "Q 288.298 36.1419, 285.818 36.1419\n",
       "Q 279.658 36.1419, 276.338 32.3819\n",
       "Q 273.058 28.6219, 273.058 21.5819\n",
       "' fill='#00CC00'/>\n",
       "<path  class='atom-4' d='M 298.338 5.42193\n",
       "L 302.018 5.42193\n",
       "L 302.018 35.7819\n",
       "L 298.338 35.7819\n",
       "L 298.338 5.42193\n",
       "' fill='#00CC00'/>\n",
       "</svg>\n"
      ],
      "text/plain": [
       "<rdkit.Chem.rdchem.Mol at 0x7fc8558a2440>"
      ]
     },
     "execution_count": 13,
     "metadata": {},
     "output_type": "execute_result"
    }
   ],
   "source": [
    "m = iterator[2]\n",
    "m"
   ]
  },
  {
   "cell_type": "code",
   "execution_count": 14,
   "metadata": {
    "scrolled": true
   },
   "outputs": [
    {
     "data": {
      "image/png": "[encoded data removed]",
      "image/svg+xml": [
       "<?xml version='1.0' encoding='iso-8859-1'?>\n",
       "<svg version='1.1' baseProfile='full'\n",
       "              xmlns='http://www.w3.org/2000/svg'\n",
       "                      xmlns:rdkit='http://www.rdkit.org/xml'\n",
       "                      xmlns:xlink='http://www.w3.org/1999/xlink'\n",
       "                  xml:space='preserve'\n",
       "width='450px' height='150px' viewBox='0 0 450 150'>\n",
       "<!-- END OF HEADER -->\n",
       "<rect style='opacity:1.0;fill:#FFFFFF;stroke:none' width='450' height='150' x='0' y='0'> </rect>\n",
       "<path class='bond-0' d='M 229.123,143.182 L 229.123,81.8936' style='fill:none;fill-rule:evenodd;stroke:#000000;stroke-width:2.0px;stroke-linecap:butt;stroke-linejoin:miter;stroke-opacity:1' />\n",
       "<path class='bond-1' d='M 229.123,81.8936 L 229.123,59.7856' style='fill:none;fill-rule:evenodd;stroke:#000000;stroke-width:2.0px;stroke-linecap:butt;stroke-linejoin:miter;stroke-opacity:1' />\n",
       "<path class='bond-1' d='M 229.123,59.7856 L 229.123,37.6775' style='fill:none;fill-rule:evenodd;stroke:#00CC00;stroke-width:2.0px;stroke-linecap:butt;stroke-linejoin:miter;stroke-opacity:1' />\n",
       "<path class='bond-2' d='M 229.123,81.8936 L 253.541,81.8936' style='fill:none;fill-rule:evenodd;stroke:#000000;stroke-width:2.0px;stroke-linecap:butt;stroke-linejoin:miter;stroke-opacity:1' />\n",
       "<path class='bond-2' d='M 253.541,81.8936 L 277.959,81.8936' style='fill:none;fill-rule:evenodd;stroke:#00CC00;stroke-width:2.0px;stroke-linecap:butt;stroke-linejoin:miter;stroke-opacity:1' />\n",
       "<path class='bond-3' d='M 229.123,81.8936 L 200.165,81.8936' style='fill:none;fill-rule:evenodd;stroke:#000000;stroke-width:2.0px;stroke-linecap:butt;stroke-linejoin:miter;stroke-opacity:1' />\n",
       "<path class='bond-3' d='M 200.165,81.8936 L 171.207,81.8936' style='fill:none;fill-rule:evenodd;stroke:#00CC00;stroke-width:2.0px;stroke-linecap:butt;stroke-linejoin:miter;stroke-opacity:1' />\n",
       "<path  class='atom-2' d='M 218.203 21.5853\n",
       "Q 218.203 14.5453, 221.483 10.8653\n",
       "Q 224.803 7.14533, 231.083 7.14533\n",
       "Q 236.923 7.14533, 240.043 11.2653\n",
       "L 237.403 13.4253\n",
       "Q 235.123 10.4253, 231.083 10.4253\n",
       "Q 226.803 10.4253, 224.523 13.3053\n",
       "Q 222.283 16.1453, 222.283 21.5853\n",
       "Q 222.283 27.1853, 224.603 30.0653\n",
       "Q 226.963 32.9453, 231.523 32.9453\n",
       "Q 234.643 32.9453, 238.283 31.0653\n",
       "L 239.403 34.0653\n",
       "Q 237.923 35.0253, 235.683 35.5853\n",
       "Q 233.443 36.1453, 230.963 36.1453\n",
       "Q 224.803 36.1453, 221.483 32.3853\n",
       "Q 218.203 28.6253, 218.203 21.5853\n",
       "' fill='#00CC00'/>\n",
       "<path  class='atom-2' d='M 243.483 5.42533\n",
       "L 247.163 5.42533\n",
       "L 247.163 35.7853\n",
       "L 243.483 35.7853\n",
       "L 243.483 5.42533\n",
       "' fill='#00CC00'/>\n",
       "<path  class='atom-3' d='M 279.492 82.8736\n",
       "Q 279.492 75.8336, 282.772 72.1536\n",
       "Q 286.092 68.4336, 292.372 68.4336\n",
       "Q 298.212 68.4336, 301.332 72.5536\n",
       "L 298.692 74.7136\n",
       "Q 296.412 71.7136, 292.372 71.7136\n",
       "Q 288.092 71.7136, 285.812 74.5936\n",
       "Q 283.572 77.4336, 283.572 82.8736\n",
       "Q 283.572 88.4736, 285.892 91.3536\n",
       "Q 288.252 94.2336, 292.812 94.2336\n",
       "Q 295.932 94.2336, 299.572 92.3536\n",
       "L 300.692 95.3536\n",
       "Q 299.212 96.3136, 296.972 96.8736\n",
       "Q 294.732 97.4336, 292.252 97.4336\n",
       "Q 286.092 97.4336, 282.772 93.6736\n",
       "Q 279.492 89.9136, 279.492 82.8736\n",
       "' fill='#00CC00'/>\n",
       "<path  class='atom-3' d='M 304.772 66.7136\n",
       "L 308.452 66.7136\n",
       "L 308.452 97.0736\n",
       "L 304.772 97.0736\n",
       "L 304.772 66.7136\n",
       "' fill='#00CC00'/>\n",
       "<path  class='atom-4' d='M 140.715 82.8736\n",
       "Q 140.715 75.8336, 143.995 72.1536\n",
       "Q 147.315 68.4336, 153.595 68.4336\n",
       "Q 159.435 68.4336, 162.555 72.5536\n",
       "L 159.915 74.7136\n",
       "Q 157.635 71.7136, 153.595 71.7136\n",
       "Q 149.315 71.7136, 147.035 74.5936\n",
       "Q 144.795 77.4336, 144.795 82.8736\n",
       "Q 144.795 88.4736, 147.115 91.3536\n",
       "Q 149.475 94.2336, 154.035 94.2336\n",
       "Q 157.155 94.2336, 160.795 92.3536\n",
       "L 161.915 95.3536\n",
       "Q 160.435 96.3136, 158.195 96.8736\n",
       "Q 155.955 97.4336, 153.475 97.4336\n",
       "Q 147.315 97.4336, 143.995 93.6736\n",
       "Q 140.715 89.9136, 140.715 82.8736\n",
       "' fill='#00CC00'/>\n",
       "<path  class='atom-4' d='M 165.995 66.7136\n",
       "L 169.675 66.7136\n",
       "L 169.675 97.0736\n",
       "L 165.995 97.0736\n",
       "L 165.995 66.7136\n",
       "' fill='#00CC00'/>\n",
       "</svg>\n"
      ],
      "text/plain": [
       "<rdkit.Chem.rdchem.Mol at 0x7fc8291a4210>"
      ]
     },
     "execution_count": 14,
     "metadata": {},
     "output_type": "execute_result"
    }
   ],
   "source": [
    "m = iterator[0]\n",
    "m"
   ]
  },
  {
   "cell_type": "markdown",
   "metadata": {},
   "source": [
    "#### reading from gzipped SDF and other file-like objects\n",
    "In this case you cannot use random access."
   ]
  },
  {
   "cell_type": "code",
   "execution_count": 15,
   "metadata": {},
   "outputs": [
    {
     "data": {
      "text/plain": [
       "4"
      ]
     },
     "execution_count": 15,
     "metadata": {},
     "output_type": "execute_result"
    }
   ],
   "source": [
    "import gzip\n",
    "iterator = Chem.ForwardSDMolSupplier(gzip.open(\"data/logBB.sdf.gz\"))\n",
    "mols = [m for m in iterator if m is not None]\n",
    "len(mols)"
   ]
  },
  {
   "cell_type": "code",
   "execution_count": 16,
   "metadata": {},
   "outputs": [
    {
     "data": {
      "image/png": "[encoded data removed]",
      "image/svg+xml": [
       "<?xml version='1.0' encoding='iso-8859-1'?>\n",
       "<svg version='1.1' baseProfile='full'\n",
       "              xmlns='http://www.w3.org/2000/svg'\n",
       "                      xmlns:rdkit='http://www.rdkit.org/xml'\n",
       "                      xmlns:xlink='http://www.w3.org/1999/xlink'\n",
       "                  xml:space='preserve'\n",
       "width='450px' height='150px' viewBox='0 0 450 150'>\n",
       "<!-- END OF HEADER -->\n",
       "<rect style='opacity:1.0;fill:#FFFFFF;stroke:none' width='450' height='150' x='0' y='0'> </rect>\n",
       "<path class='bond-0' d='M 229.123,143.182 L 229.123,81.8936' style='fill:none;fill-rule:evenodd;stroke:#000000;stroke-width:2.0px;stroke-linecap:butt;stroke-linejoin:miter;stroke-opacity:1' />\n",
       "<path class='bond-1' d='M 229.123,81.8936 L 229.123,59.7856' style='fill:none;fill-rule:evenodd;stroke:#000000;stroke-width:2.0px;stroke-linecap:butt;stroke-linejoin:miter;stroke-opacity:1' />\n",
       "<path class='bond-1' d='M 229.123,59.7856 L 229.123,37.6775' style='fill:none;fill-rule:evenodd;stroke:#00CC00;stroke-width:2.0px;stroke-linecap:butt;stroke-linejoin:miter;stroke-opacity:1' />\n",
       "<path class='bond-2' d='M 229.123,81.8936 L 253.541,81.8936' style='fill:none;fill-rule:evenodd;stroke:#000000;stroke-width:2.0px;stroke-linecap:butt;stroke-linejoin:miter;stroke-opacity:1' />\n",
       "<path class='bond-2' d='M 253.541,81.8936 L 277.959,81.8936' style='fill:none;fill-rule:evenodd;stroke:#00CC00;stroke-width:2.0px;stroke-linecap:butt;stroke-linejoin:miter;stroke-opacity:1' />\n",
       "<path class='bond-3' d='M 229.123,81.8936 L 200.165,81.8936' style='fill:none;fill-rule:evenodd;stroke:#000000;stroke-width:2.0px;stroke-linecap:butt;stroke-linejoin:miter;stroke-opacity:1' />\n",
       "<path class='bond-3' d='M 200.165,81.8936 L 171.207,81.8936' style='fill:none;fill-rule:evenodd;stroke:#00CC00;stroke-width:2.0px;stroke-linecap:butt;stroke-linejoin:miter;stroke-opacity:1' />\n",
       "<path  class='atom-2' d='M 218.203 21.5853\n",
       "Q 218.203 14.5453, 221.483 10.8653\n",
       "Q 224.803 7.14533, 231.083 7.14533\n",
       "Q 236.923 7.14533, 240.043 11.2653\n",
       "L 237.403 13.4253\n",
       "Q 235.123 10.4253, 231.083 10.4253\n",
       "Q 226.803 10.4253, 224.523 13.3053\n",
       "Q 222.283 16.1453, 222.283 21.5853\n",
       "Q 222.283 27.1853, 224.603 30.0653\n",
       "Q 226.963 32.9453, 231.523 32.9453\n",
       "Q 234.643 32.9453, 238.283 31.0653\n",
       "L 239.403 34.0653\n",
       "Q 237.923 35.0253, 235.683 35.5853\n",
       "Q 233.443 36.1453, 230.963 36.1453\n",
       "Q 224.803 36.1453, 221.483 32.3853\n",
       "Q 218.203 28.6253, 218.203 21.5853\n",
       "' fill='#00CC00'/>\n",
       "<path  class='atom-2' d='M 243.483 5.42533\n",
       "L 247.163 5.42533\n",
       "L 247.163 35.7853\n",
       "L 243.483 35.7853\n",
       "L 243.483 5.42533\n",
       "' fill='#00CC00'/>\n",
       "<path  class='atom-3' d='M 279.492 82.8736\n",
       "Q 279.492 75.8336, 282.772 72.1536\n",
       "Q 286.092 68.4336, 292.372 68.4336\n",
       "Q 298.212 68.4336, 301.332 72.5536\n",
       "L 298.692 74.7136\n",
       "Q 296.412 71.7136, 292.372 71.7136\n",
       "Q 288.092 71.7136, 285.812 74.5936\n",
       "Q 283.572 77.4336, 283.572 82.8736\n",
       "Q 283.572 88.4736, 285.892 91.3536\n",
       "Q 288.252 94.2336, 292.812 94.2336\n",
       "Q 295.932 94.2336, 299.572 92.3536\n",
       "L 300.692 95.3536\n",
       "Q 299.212 96.3136, 296.972 96.8736\n",
       "Q 294.732 97.4336, 292.252 97.4336\n",
       "Q 286.092 97.4336, 282.772 93.6736\n",
       "Q 279.492 89.9136, 279.492 82.8736\n",
       "' fill='#00CC00'/>\n",
       "<path  class='atom-3' d='M 304.772 66.7136\n",
       "L 308.452 66.7136\n",
       "L 308.452 97.0736\n",
       "L 304.772 97.0736\n",
       "L 304.772 66.7136\n",
       "' fill='#00CC00'/>\n",
       "<path  class='atom-4' d='M 140.715 82.8736\n",
       "Q 140.715 75.8336, 143.995 72.1536\n",
       "Q 147.315 68.4336, 153.595 68.4336\n",
       "Q 159.435 68.4336, 162.555 72.5536\n",
       "L 159.915 74.7136\n",
       "Q 157.635 71.7136, 153.595 71.7136\n",
       "Q 149.315 71.7136, 147.035 74.5936\n",
       "Q 144.795 77.4336, 144.795 82.8736\n",
       "Q 144.795 88.4736, 147.115 91.3536\n",
       "Q 149.475 94.2336, 154.035 94.2336\n",
       "Q 157.155 94.2336, 160.795 92.3536\n",
       "L 161.915 95.3536\n",
       "Q 160.435 96.3136, 158.195 96.8736\n",
       "Q 155.955 97.4336, 153.475 97.4336\n",
       "Q 147.315 97.4336, 143.995 93.6736\n",
       "Q 140.715 89.9136, 140.715 82.8736\n",
       "' fill='#00CC00'/>\n",
       "<path  class='atom-4' d='M 165.995 66.7136\n",
       "L 169.675 66.7136\n",
       "L 169.675 97.0736\n",
       "L 165.995 97.0736\n",
       "L 165.995 66.7136\n",
       "' fill='#00CC00'/>\n",
       "</svg>\n"
      ],
      "text/plain": [
       "<rdkit.Chem.rdchem.Mol at 0x7fc82912dcb0>"
      ]
     },
     "execution_count": 16,
     "metadata": {},
     "output_type": "execute_result"
    }
   ],
   "source": [
    "mols[0]"
   ]
  },
  {
   "cell_type": "markdown",
   "metadata": {},
   "source": [
    "#### Hydrogens"
   ]
  },
  {
   "cell_type": "markdown",
   "metadata": {},
   "source": [
    "By default hydrogens are removed during reading."
   ]
  },
  {
   "cell_type": "code",
   "execution_count": 17,
   "metadata": {},
   "outputs": [
    {
     "data": {
      "image/png": "[encoded data removed]",
      "image/svg+xml": [
       "<?xml version='1.0' encoding='iso-8859-1'?>\n",
       "<svg version='1.1' baseProfile='full'\n",
       "              xmlns='http://www.w3.org/2000/svg'\n",
       "                      xmlns:rdkit='http://www.rdkit.org/xml'\n",
       "                      xmlns:xlink='http://www.w3.org/1999/xlink'\n",
       "                  xml:space='preserve'\n",
       "width='450px' height='150px' viewBox='0 0 450 150'>\n",
       "<!-- END OF HEADER -->\n",
       "<rect style='opacity:1.0;fill:#FFFFFF;stroke:none' width='450' height='150' x='0' y='0'> </rect>\n",
       "<path class='bond-0' d='M 171.587,19.8261 L 118.17,50.665' style='fill:none;fill-rule:evenodd;stroke:#000000;stroke-width:2.0px;stroke-linecap:butt;stroke-linejoin:miter;stroke-opacity:1' />\n",
       "<path class='bond-0' d='M 170.303,36.1062 L 132.911,57.6934' style='fill:none;fill-rule:evenodd;stroke:#000000;stroke-width:2.0px;stroke-linecap:butt;stroke-linejoin:miter;stroke-opacity:1' />\n",
       "<path class='bond-5' d='M 171.587,19.8261 L 224.996,50.665' style='fill:none;fill-rule:evenodd;stroke:#000000;stroke-width:2.0px;stroke-linecap:butt;stroke-linejoin:miter;stroke-opacity:1' />\n",
       "<path class='bond-1' d='M 118.17,50.665 L 118.17,112.343' style='fill:none;fill-rule:evenodd;stroke:#000000;stroke-width:2.0px;stroke-linecap:butt;stroke-linejoin:miter;stroke-opacity:1' />\n",
       "<path class='bond-2' d='M 118.17,112.343 L 171.587,143.182' style='fill:none;fill-rule:evenodd;stroke:#000000;stroke-width:2.0px;stroke-linecap:butt;stroke-linejoin:miter;stroke-opacity:1' />\n",
       "<path class='bond-2' d='M 132.911,105.315 L 170.303,126.902' style='fill:none;fill-rule:evenodd;stroke:#000000;stroke-width:2.0px;stroke-linecap:butt;stroke-linejoin:miter;stroke-opacity:1' />\n",
       "<path class='bond-3' d='M 171.587,143.182 L 224.996,112.343' style='fill:none;fill-rule:evenodd;stroke:#000000;stroke-width:2.0px;stroke-linecap:butt;stroke-linejoin:miter;stroke-opacity:1' />\n",
       "<path class='bond-4' d='M 224.996,112.343 L 224.996,50.665' style='fill:none;fill-rule:evenodd;stroke:#000000;stroke-width:2.0px;stroke-linecap:butt;stroke-linejoin:miter;stroke-opacity:1' />\n",
       "<path class='bond-4' d='M 211.539,103.091 L 211.539,59.9167' style='fill:none;fill-rule:evenodd;stroke:#000000;stroke-width:2.0px;stroke-linecap:butt;stroke-linejoin:miter;stroke-opacity:1' />\n",
       "<path class='bond-6' d='M 224.996,50.665 L 244.434,39.4433' style='fill:none;fill-rule:evenodd;stroke:#000000;stroke-width:2.0px;stroke-linecap:butt;stroke-linejoin:miter;stroke-opacity:1' />\n",
       "<path class='bond-6' d='M 244.434,39.4433 L 263.871,28.2216' style='fill:none;fill-rule:evenodd;stroke:#FF0000;stroke-width:2.0px;stroke-linecap:butt;stroke-linejoin:miter;stroke-opacity:1' />\n",
       "<path class='bond-7' d='M 292.955,28.2216 L 312.392,39.4433' style='fill:none;fill-rule:evenodd;stroke:#FF0000;stroke-width:2.0px;stroke-linecap:butt;stroke-linejoin:miter;stroke-opacity:1' />\n",
       "<path class='bond-7' d='M 312.392,39.4433 L 331.83,50.665' style='fill:none;fill-rule:evenodd;stroke:#000000;stroke-width:2.0px;stroke-linecap:butt;stroke-linejoin:miter;stroke-opacity:1' />\n",
       "<path  class='atom-6' d='M 265.413 19.9061\n",
       "Q 265.413 13.1061, 268.773 9.30612\n",
       "Q 272.133 5.50612, 278.413 5.50612\n",
       "Q 284.693 5.50612, 288.053 9.30612\n",
       "Q 291.413 13.1061, 291.413 19.9061\n",
       "Q 291.413 26.7861, 288.013 30.7061\n",
       "Q 284.613 34.5861, 278.413 34.5861\n",
       "Q 272.173 34.5861, 268.773 30.7061\n",
       "Q 265.413 26.8261, 265.413 19.9061\n",
       "M 278.413 31.3861\n",
       "Q 282.733 31.3861, 285.053 28.5061\n",
       "Q 287.413 25.5861, 287.413 19.9061\n",
       "Q 287.413 14.3461, 285.053 11.5461\n",
       "Q 282.733 8.70612, 278.413 8.70612\n",
       "Q 274.093 8.70612, 271.733 11.5061\n",
       "Q 269.413 14.3061, 269.413 19.9061\n",
       "Q 269.413 25.6261, 271.733 28.5061\n",
       "Q 274.093 31.3861, 278.413 31.3861\n",
       "' fill='#FF0000'/>\n",
       "</svg>\n"
      ],
      "text/plain": [
       "<rdkit.Chem.rdchem.Mol at 0x7fc829195c10>"
      ]
     },
     "execution_count": 17,
     "metadata": {},
     "output_type": "execute_result"
    }
   ],
   "source": [
    "m = Chem.MolFromMolFile(\"data/anisole.mol\")\n",
    "m"
   ]
  },
  {
   "cell_type": "markdown",
   "metadata": {},
   "source": [
    "You may add them back manually, however their coordinates will not be recalculated."
   ]
  },
  {
   "cell_type": "code",
   "execution_count": 18,
   "metadata": {},
   "outputs": [
    {
     "data": {
      "image/png": "[encoded data removed]",
      "image/svg+xml": [
       "<?xml version='1.0' encoding='iso-8859-1'?>\n",
       "<svg version='1.1' baseProfile='full'\n",
       "              xmlns='http://www.w3.org/2000/svg'\n",
       "                      xmlns:rdkit='http://www.rdkit.org/xml'\n",
       "                      xmlns:xlink='http://www.w3.org/1999/xlink'\n",
       "                  xml:space='preserve'\n",
       "width='450px' height='150px' viewBox='0 0 450 150'>\n",
       "<!-- END OF HEADER -->\n",
       "<rect style='opacity:1.0;fill:#FFFFFF;stroke:none' width='450' height='150' x='0' y='0'> </rect>\n",
       "<path class='bond-0' d='M 63.1847,25.0395 L 20.4545,49.7088' style='fill:none;fill-rule:evenodd;stroke:#000000;stroke-width:2.0px;stroke-linecap:butt;stroke-linejoin:miter;stroke-opacity:1' />\n",
       "<path class='bond-0' d='M 62.1574,38.0626 L 32.2463,55.3311' style='fill:none;fill-rule:evenodd;stroke:#000000;stroke-width:2.0px;stroke-linecap:butt;stroke-linejoin:miter;stroke-opacity:1' />\n",
       "<path class='bond-5' d='M 63.1847,25.0395 L 105.909,49.7088' style='fill:none;fill-rule:evenodd;stroke:#000000;stroke-width:2.0px;stroke-linecap:butt;stroke-linejoin:miter;stroke-opacity:1' />\n",
       "<path class='bond-8' d='M 63.1847,25.0395 L 400.411,119.715' style='fill:none;fill-rule:evenodd;stroke:#000000;stroke-width:2.0px;stroke-linecap:butt;stroke-linejoin:miter;stroke-opacity:1' />\n",
       "<path class='bond-1' d='M 20.4545,49.7088 L 20.4545,99.0473' style='fill:none;fill-rule:evenodd;stroke:#000000;stroke-width:2.0px;stroke-linecap:butt;stroke-linejoin:miter;stroke-opacity:1' />\n",
       "<path class='bond-9' d='M 20.4545,49.7088 L 399.511,121.308' style='fill:none;fill-rule:evenodd;stroke:#000000;stroke-width:2.0px;stroke-linecap:butt;stroke-linejoin:miter;stroke-opacity:1' />\n",
       "<path class='bond-2' d='M 20.4545,99.0473 L 63.1847,123.717' style='fill:none;fill-rule:evenodd;stroke:#000000;stroke-width:2.0px;stroke-linecap:butt;stroke-linejoin:miter;stroke-opacity:1' />\n",
       "<path class='bond-2' d='M 32.2463,93.425 L 62.1574,110.693' style='fill:none;fill-rule:evenodd;stroke:#000000;stroke-width:2.0px;stroke-linecap:butt;stroke-linejoin:miter;stroke-opacity:1' />\n",
       "<path class='bond-10' d='M 20.4545,99.0473 L 399.666,123.802' style='fill:none;fill-rule:evenodd;stroke:#000000;stroke-width:2.0px;stroke-linecap:butt;stroke-linejoin:miter;stroke-opacity:1' />\n",
       "<path class='bond-3' d='M 63.1847,123.717 L 105.909,99.0473' style='fill:none;fill-rule:evenodd;stroke:#000000;stroke-width:2.0px;stroke-linecap:butt;stroke-linejoin:miter;stroke-opacity:1' />\n",
       "<path class='bond-11' d='M 63.1847,123.717 L 400.756,125.031' style='fill:none;fill-rule:evenodd;stroke:#000000;stroke-width:2.0px;stroke-linecap:butt;stroke-linejoin:miter;stroke-opacity:1' />\n",
       "<path class='bond-4' d='M 105.909,99.0473 L 105.909,49.7088' style='fill:none;fill-rule:evenodd;stroke:#000000;stroke-width:2.0px;stroke-linecap:butt;stroke-linejoin:miter;stroke-opacity:1' />\n",
       "<path class='bond-4' d='M 95.1441,91.6465 L 95.1441,57.1096' style='fill:none;fill-rule:evenodd;stroke:#000000;stroke-width:2.0px;stroke-linecap:butt;stroke-linejoin:miter;stroke-opacity:1' />\n",
       "<path class='bond-12' d='M 105.909,99.0473 L 401.797,123.625' style='fill:none;fill-rule:evenodd;stroke:#000000;stroke-width:2.0px;stroke-linecap:butt;stroke-linejoin:miter;stroke-opacity:1' />\n",
       "<path class='bond-6' d='M 105.909,49.7088 L 120.826,41.0966' style='fill:none;fill-rule:evenodd;stroke:#000000;stroke-width:2.0px;stroke-linecap:butt;stroke-linejoin:miter;stroke-opacity:1' />\n",
       "<path class='bond-6' d='M 120.826,41.0966 L 135.744,32.4844' style='fill:none;fill-rule:evenodd;stroke:#FF0000;stroke-width:2.0px;stroke-linecap:butt;stroke-linejoin:miter;stroke-opacity:1' />\n",
       "<path class='bond-7' d='M 161.534,32.4844 L 176.452,41.0966' style='fill:none;fill-rule:evenodd;stroke:#FF0000;stroke-width:2.0px;stroke-linecap:butt;stroke-linejoin:miter;stroke-opacity:1' />\n",
       "<path class='bond-7' d='M 176.452,41.0966 L 191.369,49.7088' style='fill:none;fill-rule:evenodd;stroke:#000000;stroke-width:2.0px;stroke-linecap:butt;stroke-linejoin:miter;stroke-opacity:1' />\n",
       "<path class='bond-13' d='M 191.369,49.7088 L 403.657,119.836' style='fill:none;fill-rule:evenodd;stroke:#000000;stroke-width:2.0px;stroke-linecap:butt;stroke-linejoin:miter;stroke-opacity:1' />\n",
       "<path class='bond-14' d='M 191.369,49.7088 L 403.657,119.836' style='fill:none;fill-rule:evenodd;stroke:#000000;stroke-width:2.0px;stroke-linecap:butt;stroke-linejoin:miter;stroke-opacity:1' />\n",
       "<path class='bond-15' d='M 191.369,49.7088 L 403.657,119.836' style='fill:none;fill-rule:evenodd;stroke:#000000;stroke-width:2.0px;stroke-linecap:butt;stroke-linejoin:miter;stroke-opacity:1' />\n",
       "<path  class='atom-6' d='M 136.977 25.1113\n",
       "Q 136.977 19.0113, 139.991 15.6024\n",
       "Q 143.005 12.1936, 148.639 12.1936\n",
       "Q 154.273 12.1936, 157.287 15.6024\n",
       "Q 160.301 19.0113, 160.301 25.1113\n",
       "Q 160.301 31.2831, 157.251 34.7996\n",
       "Q 154.201 38.2802, 148.639 38.2802\n",
       "Q 143.041 38.2802, 139.991 34.7996\n",
       "Q 136.977 31.319, 136.977 25.1113\n",
       "M 148.639 35.4096\n",
       "Q 152.514 35.4096, 154.595 32.826\n",
       "Q 156.713 30.2066, 156.713 25.1113\n",
       "Q 156.713 20.1236, 154.595 17.6119\n",
       "Q 152.514 15.0642, 148.639 15.0642\n",
       "Q 144.764 15.0642, 142.647 17.576\n",
       "Q 140.565 20.0877, 140.565 25.1113\n",
       "Q 140.565 30.2425, 142.647 32.826\n",
       "Q 144.764 35.4096, 148.639 35.4096\n",
       "' fill='#FF0000'/>\n",
       "<path  class='atom-8' d='M 409.667 112.402\n",
       "L 413.111 112.402\n",
       "L 413.111 123.202\n",
       "L 426.101 123.202\n",
       "L 426.101 112.402\n",
       "L 429.545 112.402\n",
       "L 429.545 137.806\n",
       "L 426.101 137.806\n",
       "L 426.101 126.073\n",
       "L 413.111 126.073\n",
       "L 413.111 137.806\n",
       "L 409.667 137.806\n",
       "L 409.667 112.402\n",
       "' fill='#000000'/>\n",
       "<path  class='atom-9' d='M 409.667 112.402\n",
       "L 413.111 112.402\n",
       "L 413.111 123.202\n",
       "L 426.101 123.202\n",
       "L 426.101 112.402\n",
       "L 429.545 112.402\n",
       "L 429.545 137.806\n",
       "L 426.101 137.806\n",
       "L 426.101 126.073\n",
       "L 413.111 126.073\n",
       "L 413.111 137.806\n",
       "L 409.667 137.806\n",
       "L 409.667 112.402\n",
       "' fill='#000000'/>\n",
       "<path  class='atom-10' d='M 409.667 112.402\n",
       "L 413.111 112.402\n",
       "L 413.111 123.202\n",
       "L 426.101 123.202\n",
       "L 426.101 112.402\n",
       "L 429.545 112.402\n",
       "L 429.545 137.806\n",
       "L 426.101 137.806\n",
       "L 426.101 126.073\n",
       "L 413.111 126.073\n",
       "L 413.111 137.806\n",
       "L 409.667 137.806\n",
       "L 409.667 112.402\n",
       "' fill='#000000'/>\n",
       "<path  class='atom-11' d='M 409.667 112.402\n",
       "L 413.111 112.402\n",
       "L 413.111 123.202\n",
       "L 426.101 123.202\n",
       "L 426.101 112.402\n",
       "L 429.545 112.402\n",
       "L 429.545 137.806\n",
       "L 426.101 137.806\n",
       "L 426.101 126.073\n",
       "L 413.111 126.073\n",
       "L 413.111 137.806\n",
       "L 409.667 137.806\n",
       "L 409.667 112.402\n",
       "' fill='#000000'/>\n",
       "<path  class='atom-12' d='M 409.667 112.402\n",
       "L 413.111 112.402\n",
       "L 413.111 123.202\n",
       "L 426.101 123.202\n",
       "L 426.101 112.402\n",
       "L 429.545 112.402\n",
       "L 429.545 137.806\n",
       "L 426.101 137.806\n",
       "L 426.101 126.073\n",
       "L 413.111 126.073\n",
       "L 413.111 137.806\n",
       "L 409.667 137.806\n",
       "L 409.667 112.402\n",
       "' fill='#000000'/>\n",
       "<path  class='atom-13' d='M 409.667 112.402\n",
       "L 413.111 112.402\n",
       "L 413.111 123.202\n",
       "L 426.101 123.202\n",
       "L 426.101 112.402\n",
       "L 429.545 112.402\n",
       "L 429.545 137.806\n",
       "L 426.101 137.806\n",
       "L 426.101 126.073\n",
       "L 413.111 126.073\n",
       "L 413.111 137.806\n",
       "L 409.667 137.806\n",
       "L 409.667 112.402\n",
       "' fill='#000000'/>\n",
       "<path  class='atom-14' d='M 409.667 112.402\n",
       "L 413.111 112.402\n",
       "L 413.111 123.202\n",
       "L 426.101 123.202\n",
       "L 426.101 112.402\n",
       "L 429.545 112.402\n",
       "L 429.545 137.806\n",
       "L 426.101 137.806\n",
       "L 426.101 126.073\n",
       "L 413.111 126.073\n",
       "L 413.111 137.806\n",
       "L 409.667 137.806\n",
       "L 409.667 112.402\n",
       "' fill='#000000'/>\n",
       "<path  class='atom-15' d='M 409.667 112.402\n",
       "L 413.111 112.402\n",
       "L 413.111 123.202\n",
       "L 426.101 123.202\n",
       "L 426.101 112.402\n",
       "L 429.545 112.402\n",
       "L 429.545 137.806\n",
       "L 426.101 137.806\n",
       "L 426.101 126.073\n",
       "L 413.111 126.073\n",
       "L 413.111 137.806\n",
       "L 409.667 137.806\n",
       "L 409.667 112.402\n",
       "' fill='#000000'/>\n",
       "<path d='M 413.626,131.084 L 413.626,119.124 L 425.586,119.124 L 425.586,131.084 L 413.626,131.084' style='fill:none;stroke:#FF0000;stroke-width:2px;stroke-linecap:butt;stroke-linejoin:miter;stroke-opacity:1;' />\n",
       "<path d='M 413.626,131.084 L 413.626,119.124 L 425.586,119.124 L 425.586,131.084 L 413.626,131.084' style='fill:none;stroke:#FF0000;stroke-width:2px;stroke-linecap:butt;stroke-linejoin:miter;stroke-opacity:1;' />\n",
       "<path d='M 413.626,131.084 L 413.626,119.124 L 425.586,119.124 L 425.586,131.084 L 413.626,131.084' style='fill:none;stroke:#FF0000;stroke-width:2px;stroke-linecap:butt;stroke-linejoin:miter;stroke-opacity:1;' />\n",
       "<path d='M 413.626,131.084 L 413.626,119.124 L 425.586,119.124 L 425.586,131.084 L 413.626,131.084' style='fill:none;stroke:#FF0000;stroke-width:2px;stroke-linecap:butt;stroke-linejoin:miter;stroke-opacity:1;' />\n",
       "</svg>\n"
      ],
      "text/plain": [
       "<rdkit.Chem.rdchem.Mol at 0x7fc8291347b0>"
      ]
     },
     "execution_count": 18,
     "metadata": {},
     "output_type": "execute_result"
    }
   ],
   "source": [
    "m = Chem.AddHs(m)\n",
    "m"
   ]
  },
  {
   "cell_type": "markdown",
   "metadata": {},
   "source": [
    "You may generate 2D coordinates for atoms to a obtain more reasonable depiction"
   ]
  },
  {
   "cell_type": "code",
   "execution_count": 19,
   "metadata": {},
   "outputs": [],
   "source": [
    "from rdkit.Chem import AllChem"
   ]
  },
  {
   "cell_type": "code",
   "execution_count": 20,
   "metadata": {},
   "outputs": [
    {
     "data": {
      "text/plain": [
       "0"
      ]
     },
     "execution_count": 20,
     "metadata": {},
     "output_type": "execute_result"
    }
   ],
   "source": [
    "AllChem.Compute2DCoords(m)"
   ]
  },
  {
   "cell_type": "code",
   "execution_count": 21,
   "metadata": {},
   "outputs": [
    {
     "data": {
      "image/png": "[encoded data removed]",
      "image/svg+xml": [
       "<?xml version='1.0' encoding='iso-8859-1'?>\n",
       "<svg version='1.1' baseProfile='full'\n",
       "              xmlns='http://www.w3.org/2000/svg'\n",
       "                      xmlns:rdkit='http://www.rdkit.org/xml'\n",
       "                      xmlns:xlink='http://www.w3.org/1999/xlink'\n",
       "                  xml:space='preserve'\n",
       "width='450px' height='150px' viewBox='0 0 450 150'>\n",
       "<!-- END OF HEADER -->\n",
       "<rect style='opacity:1.0;fill:#FFFFFF;stroke:none' width='450' height='150' x='0' y='0'> </rect>\n",
       "<path class='bond-0' d='M 225,95.2873 L 194.921,106.81' style='fill:none;fill-rule:evenodd;stroke:#000000;stroke-width:2.0px;stroke-linecap:butt;stroke-linejoin:miter;stroke-opacity:1' />\n",
       "<path class='bond-0' d='M 218.184,91.0001 L 197.129,99.0662' style='fill:none;fill-rule:evenodd;stroke:#000000;stroke-width:2.0px;stroke-linecap:butt;stroke-linejoin:miter;stroke-opacity:1' />\n",
       "<path class='bond-5' d='M 225,95.2873 L 230.06,63.4769' style='fill:none;fill-rule:evenodd;stroke:#000000;stroke-width:2.0px;stroke-linecap:butt;stroke-linejoin:miter;stroke-opacity:1' />\n",
       "<path class='bond-8' d='M 225,95.2873 L 245.644,112.028' style='fill:none;fill-rule:evenodd;stroke:#000000;stroke-width:2.0px;stroke-linecap:butt;stroke-linejoin:miter;stroke-opacity:1' />\n",
       "<path class='bond-1' d='M 194.921,106.81 L 169.903,86.5231' style='fill:none;fill-rule:evenodd;stroke:#000000;stroke-width:2.0px;stroke-linecap:butt;stroke-linejoin:miter;stroke-opacity:1' />\n",
       "<path class='bond-9' d='M 194.921,106.81 L 190.715,133.255' style='fill:none;fill-rule:evenodd;stroke:#000000;stroke-width:2.0px;stroke-linecap:butt;stroke-linejoin:miter;stroke-opacity:1' />\n",
       "<path class='bond-2' d='M 169.903,86.5231 L 174.963,54.7127' style='fill:none;fill-rule:evenodd;stroke:#000000;stroke-width:2.0px;stroke-linecap:butt;stroke-linejoin:miter;stroke-opacity:1' />\n",
       "<path class='bond-2' d='M 177.024,82.7635 L 180.566,60.4962' style='fill:none;fill-rule:evenodd;stroke:#000000;stroke-width:2.0px;stroke-linecap:butt;stroke-linejoin:miter;stroke-opacity:1' />\n",
       "<path class='bond-10' d='M 169.903,86.5231 L 144.198,96.3704' style='fill:none;fill-rule:evenodd;stroke:#000000;stroke-width:2.0px;stroke-linecap:butt;stroke-linejoin:miter;stroke-opacity:1' />\n",
       "<path class='bond-3' d='M 174.963,54.7127 L 205.041,43.1896' style='fill:none;fill-rule:evenodd;stroke:#000000;stroke-width:2.0px;stroke-linecap:butt;stroke-linejoin:miter;stroke-opacity:1' />\n",
       "<path class='bond-11' d='M 174.963,54.7127 L 154.318,37.9723' style='fill:none;fill-rule:evenodd;stroke:#000000;stroke-width:2.0px;stroke-linecap:butt;stroke-linejoin:miter;stroke-opacity:1' />\n",
       "<path class='bond-4' d='M 205.041,43.1896 L 230.06,63.4769' style='fill:none;fill-rule:evenodd;stroke:#000000;stroke-width:2.0px;stroke-linecap:butt;stroke-linejoin:miter;stroke-opacity:1' />\n",
       "<path class='bond-4' d='M 204.737,51.2364 L 222.25,65.4376' style='fill:none;fill-rule:evenodd;stroke:#000000;stroke-width:2.0px;stroke-linecap:butt;stroke-linejoin:miter;stroke-opacity:1' />\n",
       "<path class='bond-12' d='M 205.041,43.1896 L 209.248,16.7454' style='fill:none;fill-rule:evenodd;stroke:#000000;stroke-width:2.0px;stroke-linecap:butt;stroke-linejoin:miter;stroke-opacity:1' />\n",
       "<path class='bond-6' d='M 230.06,63.4769 L 242.603,58.6717' style='fill:none;fill-rule:evenodd;stroke:#000000;stroke-width:2.0px;stroke-linecap:butt;stroke-linejoin:miter;stroke-opacity:1' />\n",
       "<path class='bond-6' d='M 242.603,58.6717 L 255.146,53.8665' style='fill:none;fill-rule:evenodd;stroke:#FF0000;stroke-width:2.0px;stroke-linecap:butt;stroke-linejoin:miter;stroke-opacity:1' />\n",
       "<path class='bond-7' d='M 265.131,56.0023 L 275.144,64.1218' style='fill:none;fill-rule:evenodd;stroke:#FF0000;stroke-width:2.0px;stroke-linecap:butt;stroke-linejoin:miter;stroke-opacity:1' />\n",
       "<path class='bond-7' d='M 275.144,64.1218 L 285.157,72.2412' style='fill:none;fill-rule:evenodd;stroke:#000000;stroke-width:2.0px;stroke-linecap:butt;stroke-linejoin:miter;stroke-opacity:1' />\n",
       "<path class='bond-13' d='M 285.157,72.2412 L 305.802,88.9816' style='fill:none;fill-rule:evenodd;stroke:#000000;stroke-width:2.0px;stroke-linecap:butt;stroke-linejoin:miter;stroke-opacity:1' />\n",
       "<path class='bond-14' d='M 285.157,72.2412 L 301.093,52.5889' style='fill:none;fill-rule:evenodd;stroke:#000000;stroke-width:2.0px;stroke-linecap:butt;stroke-linejoin:miter;stroke-opacity:1' />\n",
       "<path class='bond-15' d='M 285.157,72.2412 L 269.221,91.8936' style='fill:none;fill-rule:evenodd;stroke:#000000;stroke-width:2.0px;stroke-linecap:butt;stroke-linejoin:miter;stroke-opacity:1' />\n",
       "<path  class='atom-6' d='M 255.951 51.9796\n",
       "Q 255.951 49.7893, 257.034 48.5653\n",
       "Q 258.116 47.3413, 260.139 47.3413\n",
       "Q 262.162 47.3413, 263.244 48.5653\n",
       "Q 264.326 49.7893, 264.326 51.9796\n",
       "Q 264.326 54.1957, 263.231 55.4584\n",
       "Q 262.136 56.7081, 260.139 56.7081\n",
       "Q 258.129 56.7081, 257.034 55.4584\n",
       "Q 255.951 54.2086, 255.951 51.9796\n",
       "M 260.139 55.6774\n",
       "Q 261.53 55.6774, 262.277 54.7497\n",
       "Q 263.038 53.8092, 263.038 51.9796\n",
       "Q 263.038 50.1887, 262.277 49.2868\n",
       "Q 261.53 48.3721, 260.139 48.3721\n",
       "Q 258.747 48.3721, 257.987 49.274\n",
       "Q 257.24 50.1759, 257.24 51.9796\n",
       "Q 257.24 53.8221, 257.987 54.7497\n",
       "Q 258.747 55.6774, 260.139 55.6774\n",
       "' fill='#FF0000'/>\n",
       "<path  class='atom-8' d='M 246.45 111.014\n",
       "L 247.687 111.014\n",
       "L 247.687 114.892\n",
       "L 252.351 114.892\n",
       "L 252.351 111.014\n",
       "L 253.588 111.014\n",
       "L 253.588 120.136\n",
       "L 252.351 120.136\n",
       "L 252.351 115.923\n",
       "L 247.687 115.923\n",
       "L 247.687 120.136\n",
       "L 246.45 120.136\n",
       "L 246.45 111.014\n",
       "' fill='#000000'/>\n",
       "<path  class='atom-9' d='M 186.292 134.06\n",
       "L 187.529 134.06\n",
       "L 187.529 137.938\n",
       "L 192.193 137.938\n",
       "L 192.193 134.06\n",
       "L 193.43 134.06\n",
       "L 193.43 143.182\n",
       "L 192.193 143.182\n",
       "L 192.193 138.969\n",
       "L 187.529 138.969\n",
       "L 187.529 143.182\n",
       "L 186.292 143.182\n",
       "L 186.292 134.06\n",
       "' fill='#000000'/>\n",
       "<path  class='atom-10' d='M 136.255 93.4851\n",
       "L 137.492 93.4851\n",
       "L 137.492 97.3633\n",
       "L 142.156 97.3633\n",
       "L 142.156 93.4851\n",
       "L 143.393 93.4851\n",
       "L 143.393 102.607\n",
       "L 142.156 102.607\n",
       "L 142.156 98.394\n",
       "L 137.492 98.394\n",
       "L 137.492 102.607\n",
       "L 136.255 102.607\n",
       "L 136.255 93.4851\n",
       "' fill='#000000'/>\n",
       "<path  class='atom-11' d='M 146.375 29.8643\n",
       "L 147.612 29.8643\n",
       "L 147.612 33.7424\n",
       "L 152.276 33.7424\n",
       "L 152.276 29.8643\n",
       "L 153.513 29.8643\n",
       "L 153.513 38.9863\n",
       "L 152.276 38.9863\n",
       "L 152.276 34.7732\n",
       "L 147.612 34.7732\n",
       "L 147.612 38.9863\n",
       "L 146.375 38.9863\n",
       "L 146.375 29.8643\n",
       "' fill='#000000'/>\n",
       "<path  class='atom-12' d='M 206.533 6.81818\n",
       "L 207.769 6.81818\n",
       "L 207.769 10.6963\n",
       "L 212.434 10.6963\n",
       "L 212.434 6.81818\n",
       "L 213.67 6.81818\n",
       "L 213.67 15.9402\n",
       "L 212.434 15.9402\n",
       "L 212.434 11.727\n",
       "L 207.769 11.727\n",
       "L 207.769 15.9402\n",
       "L 206.533 15.9402\n",
       "L 206.533 6.81818\n",
       "' fill='#000000'/>\n",
       "<path  class='atom-13' d='M 306.607 87.9676\n",
       "L 307.844 87.9676\n",
       "L 307.844 91.8457\n",
       "L 312.508 91.8457\n",
       "L 312.508 87.9676\n",
       "L 313.745 87.9676\n",
       "L 313.745 97.0896\n",
       "L 312.508 97.0896\n",
       "L 312.508 92.8764\n",
       "L 307.844 92.8764\n",
       "L 307.844 97.0896\n",
       "L 306.607 97.0896\n",
       "L 306.607 87.9676\n",
       "' fill='#000000'/>\n",
       "<path  class='atom-14' d='M 301.876 42.6616\n",
       "L 303.113 42.6616\n",
       "L 303.113 46.5398\n",
       "L 307.777 46.5398\n",
       "L 307.777 42.6616\n",
       "L 309.014 42.6616\n",
       "L 309.014 51.7836\n",
       "L 307.777 51.7836\n",
       "L 307.777 47.5705\n",
       "L 303.113 47.5705\n",
       "L 303.113 51.7836\n",
       "L 301.876 51.7836\n",
       "L 301.876 42.6616\n",
       "' fill='#000000'/>\n",
       "<path  class='atom-15' d='M 261.301 92.6988\n",
       "L 262.538 92.6988\n",
       "L 262.538 96.577\n",
       "L 267.202 96.577\n",
       "L 267.202 92.6988\n",
       "L 268.439 92.6988\n",
       "L 268.439 101.821\n",
       "L 267.202 101.821\n",
       "L 267.202 97.6077\n",
       "L 262.538 97.6077\n",
       "L 262.538 101.821\n",
       "L 261.301 101.821\n",
       "L 261.301 92.6988\n",
       "' fill='#000000'/>\n",
       "</svg>\n"
      ],
      "text/plain": [
       "<rdkit.Chem.rdchem.Mol at 0x7fc8291347b0>"
      ]
     },
     "execution_count": 21,
     "metadata": {},
     "output_type": "execute_result"
    }
   ],
   "source": [
    "m"
   ]
  },
  {
   "cell_type": "markdown",
   "metadata": {},
   "source": [
    "To avoid lose of hydrogens add `removeHs = False`, it will keep them during reading."
   ]
  },
  {
   "cell_type": "code",
   "execution_count": 22,
   "metadata": {},
   "outputs": [
    {
     "data": {
      "image/png": "[encoded data removed]",
      "image/svg+xml": [
       "<?xml version='1.0' encoding='iso-8859-1'?>\n",
       "<svg version='1.1' baseProfile='full'\n",
       "              xmlns='http://www.w3.org/2000/svg'\n",
       "                      xmlns:rdkit='http://www.rdkit.org/xml'\n",
       "                      xmlns:xlink='http://www.w3.org/1999/xlink'\n",
       "                  xml:space='preserve'\n",
       "width='450px' height='150px' viewBox='0 0 450 150'>\n",
       "<!-- END OF HEADER -->\n",
       "<rect style='opacity:1.0;fill:#FFFFFF;stroke:none' width='450' height='150' x='0' y='0'> </rect>\n",
       "<path class='bond-0' d='M 198.844,44.797 L 172.687,59.8985' style='fill:none;fill-rule:evenodd;stroke:#000000;stroke-width:2.0px;stroke-linecap:butt;stroke-linejoin:miter;stroke-opacity:1' />\n",
       "<path class='bond-0' d='M 198.215,52.7692 L 179.905,63.3402' style='fill:none;fill-rule:evenodd;stroke:#000000;stroke-width:2.0px;stroke-linecap:butt;stroke-linejoin:miter;stroke-opacity:1' />\n",
       "<path class='bond-5' d='M 198.844,44.797 L 224.998,59.8985' style='fill:none;fill-rule:evenodd;stroke:#000000;stroke-width:2.0px;stroke-linecap:butt;stroke-linejoin:miter;stroke-opacity:1' />\n",
       "<path class='bond-8' d='M 198.844,44.797 L 198.844,23.125' style='fill:none;fill-rule:evenodd;stroke:#000000;stroke-width:2.0px;stroke-linecap:butt;stroke-linejoin:miter;stroke-opacity:1' />\n",
       "<path class='bond-1' d='M 172.687,59.8985 L 172.687,90.1015' style='fill:none;fill-rule:evenodd;stroke:#000000;stroke-width:2.0px;stroke-linecap:butt;stroke-linejoin:miter;stroke-opacity:1' />\n",
       "<path class='bond-9' d='M 172.687,59.8985 L 153.369,48.7457' style='fill:none;fill-rule:evenodd;stroke:#000000;stroke-width:2.0px;stroke-linecap:butt;stroke-linejoin:miter;stroke-opacity:1' />\n",
       "<path class='bond-2' d='M 172.687,90.1015 L 198.844,105.203' style='fill:none;fill-rule:evenodd;stroke:#000000;stroke-width:2.0px;stroke-linecap:butt;stroke-linejoin:miter;stroke-opacity:1' />\n",
       "<path class='bond-2' d='M 179.905,86.6598 L 198.215,97.2308' style='fill:none;fill-rule:evenodd;stroke:#000000;stroke-width:2.0px;stroke-linecap:butt;stroke-linejoin:miter;stroke-opacity:1' />\n",
       "<path class='bond-10' d='M 172.687,90.1015 L 153.369,101.254' style='fill:none;fill-rule:evenodd;stroke:#000000;stroke-width:2.0px;stroke-linecap:butt;stroke-linejoin:miter;stroke-opacity:1' />\n",
       "<path class='bond-3' d='M 198.844,105.203 L 224.998,90.1015' style='fill:none;fill-rule:evenodd;stroke:#000000;stroke-width:2.0px;stroke-linecap:butt;stroke-linejoin:miter;stroke-opacity:1' />\n",
       "<path class='bond-11' d='M 198.844,105.203 L 198.844,126.875' style='fill:none;fill-rule:evenodd;stroke:#000000;stroke-width:2.0px;stroke-linecap:butt;stroke-linejoin:miter;stroke-opacity:1' />\n",
       "<path class='bond-4' d='M 224.998,90.1015 L 224.998,59.8985' style='fill:none;fill-rule:evenodd;stroke:#000000;stroke-width:2.0px;stroke-linecap:butt;stroke-linejoin:miter;stroke-opacity:1' />\n",
       "<path class='bond-4' d='M 218.408,85.571 L 218.408,64.429' style='fill:none;fill-rule:evenodd;stroke:#000000;stroke-width:2.0px;stroke-linecap:butt;stroke-linejoin:miter;stroke-opacity:1' />\n",
       "<path class='bond-12' d='M 224.998,90.1015 L 244.316,101.254' style='fill:none;fill-rule:evenodd;stroke:#000000;stroke-width:2.0px;stroke-linecap:butt;stroke-linejoin:miter;stroke-opacity:1' />\n",
       "<path class='bond-6' d='M 224.998,59.8985 L 234.13,54.6265' style='fill:none;fill-rule:evenodd;stroke:#000000;stroke-width:2.0px;stroke-linecap:butt;stroke-linejoin:miter;stroke-opacity:1' />\n",
       "<path class='bond-6' d='M 234.13,54.6265 L 243.262,49.3544' style='fill:none;fill-rule:evenodd;stroke:#FF0000;stroke-width:2.0px;stroke-linecap:butt;stroke-linejoin:miter;stroke-opacity:1' />\n",
       "<path class='bond-7' d='M 259.05,49.3544 L 268.182,54.6265' style='fill:none;fill-rule:evenodd;stroke:#FF0000;stroke-width:2.0px;stroke-linecap:butt;stroke-linejoin:miter;stroke-opacity:1' />\n",
       "<path class='bond-7' d='M 268.182,54.6265 L 277.313,59.8985' style='fill:none;fill-rule:evenodd;stroke:#000000;stroke-width:2.0px;stroke-linecap:butt;stroke-linejoin:miter;stroke-opacity:1' />\n",
       "<path class='bond-13' d='M 277.313,59.8985 L 267.137,77.5251' style='fill:none;fill-rule:evenodd;stroke:#000000;stroke-width:2.0px;stroke-linecap:butt;stroke-linejoin:miter;stroke-opacity:1' />\n",
       "<path class='bond-14' d='M 277.313,59.8985 L 296.631,71.0513' style='fill:none;fill-rule:evenodd;stroke:#000000;stroke-width:2.0px;stroke-linecap:butt;stroke-linejoin:miter;stroke-opacity:1' />\n",
       "<path class='bond-15' d='M 277.313,59.8985 L 287.49,42.2719' style='fill:none;fill-rule:evenodd;stroke:#000000;stroke-width:2.0px;stroke-linecap:butt;stroke-linejoin:miter;stroke-opacity:1' />\n",
       "<path  class='atom-6' d='M 244.017 44.841\n",
       "Q 244.017 41.1068, 245.862 39.02\n",
       "Q 247.707 36.9333, 251.156 36.9333\n",
       "Q 254.604 36.9333, 256.45 39.02\n",
       "Q 258.295 41.1068, 258.295 44.841\n",
       "Q 258.295 48.6191, 256.428 50.7717\n",
       "Q 254.56 52.9024, 251.156 52.9024\n",
       "Q 247.729 52.9024, 245.862 50.7717\n",
       "Q 244.017 48.641, 244.017 44.841\n",
       "M 251.156 51.1451\n",
       "Q 253.528 51.1451, 254.802 49.5636\n",
       "Q 256.098 47.9601, 256.098 44.841\n",
       "Q 256.098 41.7877, 254.802 40.2501\n",
       "Q 253.528 38.6905, 251.156 38.6905\n",
       "Q 248.783 38.6905, 247.487 40.2282\n",
       "Q 246.213 41.7658, 246.213 44.841\n",
       "Q 246.213 47.9821, 247.487 49.5636\n",
       "Q 248.783 51.1451, 251.156 51.1451\n",
       "' fill='#FF0000'/>\n",
       "<path  class='atom-8' d='M 192.76 6.81818\n",
       "L 194.868 6.81818\n",
       "L 194.868 13.4299\n",
       "L 202.82 13.4299\n",
       "L 202.82 6.81818\n",
       "L 204.929 6.81818\n",
       "L 204.929 22.37\n",
       "L 202.82 22.37\n",
       "L 202.82 15.1871\n",
       "L 194.868 15.1871\n",
       "L 194.868 22.37\n",
       "L 192.76 22.37\n",
       "L 192.76 6.81818\n",
       "' fill='#000000'/>\n",
       "<path  class='atom-9' d='M 140.445 37.0211\n",
       "L 142.553 37.0211\n",
       "L 142.553 43.6328\n",
       "L 150.505 43.6328\n",
       "L 150.505 37.0211\n",
       "L 152.614 37.0211\n",
       "L 152.614 52.5729\n",
       "L 150.505 52.5729\n",
       "L 150.505 45.3901\n",
       "L 142.553 45.3901\n",
       "L 142.553 52.5729\n",
       "L 140.445 52.5729\n",
       "L 140.445 37.0211\n",
       "' fill='#000000'/>\n",
       "<path  class='atom-10' d='M 140.445 97.4271\n",
       "L 142.553 97.4271\n",
       "L 142.553 104.039\n",
       "L 150.505 104.039\n",
       "L 150.505 97.4271\n",
       "L 152.614 97.4271\n",
       "L 152.614 112.979\n",
       "L 150.505 112.979\n",
       "L 150.505 105.796\n",
       "L 142.553 105.796\n",
       "L 142.553 112.979\n",
       "L 140.445 112.979\n",
       "L 140.445 97.4271\n",
       "' fill='#000000'/>\n",
       "<path  class='atom-11' d='M 192.76 127.63\n",
       "L 194.868 127.63\n",
       "L 194.868 134.242\n",
       "L 202.82 134.242\n",
       "L 202.82 127.63\n",
       "L 204.929 127.63\n",
       "L 204.929 143.182\n",
       "L 202.82 143.182\n",
       "L 202.82 135.999\n",
       "L 194.868 135.999\n",
       "L 194.868 143.182\n",
       "L 192.76 143.182\n",
       "L 192.76 127.63\n",
       "' fill='#000000'/>\n",
       "<path  class='atom-12' d='M 245.071 97.4271\n",
       "L 247.18 97.4271\n",
       "L 247.18 104.039\n",
       "L 255.132 104.039\n",
       "L 255.132 97.4271\n",
       "L 257.24 97.4271\n",
       "L 257.24 112.979\n",
       "L 255.132 112.979\n",
       "L 255.132 105.796\n",
       "L 247.18 105.796\n",
       "L 247.18 112.979\n",
       "L 245.071 112.979\n",
       "L 245.071 97.4271\n",
       "' fill='#000000'/>\n",
       "<path  class='atom-13' d='M 256.127 78.2802\n",
       "L 258.236 78.2802\n",
       "L 258.236 84.8919\n",
       "L 266.188 84.8919\n",
       "L 266.188 78.2802\n",
       "L 268.296 78.2802\n",
       "L 268.296 93.832\n",
       "L 266.188 93.832\n",
       "L 266.188 86.6492\n",
       "L 258.236 86.6492\n",
       "L 258.236 93.832\n",
       "L 256.127 93.832\n",
       "L 256.127 78.2802\n",
       "' fill='#000000'/>\n",
       "<path  class='atom-14' d='M 297.386 67.2241\n",
       "L 299.495 67.2241\n",
       "L 299.495 73.8358\n",
       "L 307.447 73.8358\n",
       "L 307.447 67.2241\n",
       "L 309.555 67.2241\n",
       "L 309.555 82.7759\n",
       "L 307.447 82.7759\n",
       "L 307.447 75.5931\n",
       "L 299.495 75.5931\n",
       "L 299.495 82.7759\n",
       "L 297.386 82.7759\n",
       "L 297.386 67.2241\n",
       "' fill='#000000'/>\n",
       "<path  class='atom-15' d='M 286.33 25.965\n",
       "L 288.439 25.965\n",
       "L 288.439 32.5767\n",
       "L 296.391 32.5767\n",
       "L 296.391 25.965\n",
       "L 298.499 25.965\n",
       "L 298.499 41.5168\n",
       "L 296.391 41.5168\n",
       "L 296.391 34.334\n",
       "L 288.439 34.334\n",
       "L 288.439 41.5168\n",
       "L 286.33 41.5168\n",
       "L 286.33 25.965\n",
       "' fill='#000000'/>\n",
       "</svg>\n"
      ],
      "text/plain": [
       "<rdkit.Chem.rdchem.Mol at 0x7fc828d5a670>"
      ]
     },
     "execution_count": 22,
     "metadata": {},
     "output_type": "execute_result"
    }
   ],
   "source": [
    "m = Chem.MolFromMolFile(\"data/anisole.mol\", removeHs = False)\n",
    "m"
   ]
  },
  {
   "cell_type": "markdown",
   "metadata": {},
   "source": [
    " This can be particularly important for molecules with chiral centers with attached hydrogens."
   ]
  },
  {
   "cell_type": "code",
   "execution_count": 23,
   "metadata": {},
   "outputs": [
    {
     "data": {
      "image/png": "[encoded data removed]",
      "image/svg+xml": [
       "<?xml version='1.0' encoding='iso-8859-1'?>\n",
       "<svg version='1.1' baseProfile='full'\n",
       "              xmlns='http://www.w3.org/2000/svg'\n",
       "                      xmlns:rdkit='http://www.rdkit.org/xml'\n",
       "                      xmlns:xlink='http://www.w3.org/1999/xlink'\n",
       "                  xml:space='preserve'\n",
       "width='450px' height='150px' viewBox='0 0 450 150'>\n",
       "<!-- END OF HEADER -->\n",
       "<rect style='opacity:1.0;fill:#FFFFFF;stroke:none' width='450' height='150' x='0' y='0'> </rect>\n",
       "<path class='bond-0' d='M 216.746,102.327 L 141.533,135.462 L 150.447,150.901 Z' style='fill:#000000;fill-rule:evenodd;fill-opacity:1;stroke:#000000;stroke-width:2px;stroke-linecap:butt;stroke-linejoin:miter;stroke-opacity:1;' />\n",
       "<path class='bond-1' d='M 216.746,102.327 L 216.746,70.2632' style='fill:none;fill-rule:evenodd;stroke:#000000;stroke-width:2.0px;stroke-linecap:butt;stroke-linejoin:miter;stroke-opacity:1' />\n",
       "<path class='bond-1' d='M 216.746,70.2632 L 216.746,38.1996' style='fill:none;fill-rule:evenodd;stroke:#00CC00;stroke-width:2.0px;stroke-linecap:butt;stroke-linejoin:miter;stroke-opacity:1' />\n",
       "<path class='bond-2' d='M 216.746,102.327 L 251.341,105.667' style='fill:none;fill-rule:evenodd;stroke:#000000;stroke-width:2.0px;stroke-linecap:butt;stroke-linejoin:miter;stroke-opacity:1' />\n",
       "<path class='bond-2' d='M 251.341,105.667 L 285.937,109.007' style='fill:none;fill-rule:evenodd;stroke:#33CCCC;stroke-width:2.0px;stroke-linecap:butt;stroke-linejoin:miter;stroke-opacity:1' />\n",
       "<path  class='atom-2' d='M 287.936 95.8525\n",
       "L 304.776 95.8525\n",
       "L 304.776 99.0925\n",
       "L 291.736 99.0925\n",
       "L 291.736 107.693\n",
       "L 303.336 107.693\n",
       "L 303.336 110.973\n",
       "L 291.736 110.973\n",
       "L 291.736 124.173\n",
       "L 287.936 124.173\n",
       "L 287.936 95.8525\n",
       "' fill='#33CCCC'/>\n",
       "<path  class='atom-3' d='M 205.826 21.5969\n",
       "Q 205.826 14.5569, 209.106 10.8769\n",
       "Q 212.426 7.15688, 218.706 7.15688\n",
       "Q 224.546 7.15688, 227.666 11.2769\n",
       "L 225.026 13.4369\n",
       "Q 222.746 10.4369, 218.706 10.4369\n",
       "Q 214.426 10.4369, 212.146 13.3169\n",
       "Q 209.906 16.1569, 209.906 21.5969\n",
       "Q 209.906 27.1969, 212.226 30.0769\n",
       "Q 214.586 32.9569, 219.146 32.9569\n",
       "Q 222.266 32.9569, 225.906 31.0769\n",
       "L 227.026 34.0769\n",
       "Q 225.546 35.0369, 223.306 35.5969\n",
       "Q 221.066 36.1569, 218.586 36.1569\n",
       "Q 212.426 36.1569, 209.106 32.3969\n",
       "Q 205.826 28.6369, 205.826 21.5969\n",
       "' fill='#00CC00'/>\n",
       "<path  class='atom-3' d='M 231.106 5.43688\n",
       "L 234.786 5.43688\n",
       "L 234.786 35.7969\n",
       "L 231.106 35.7969\n",
       "L 231.106 5.43688\n",
       "' fill='#00CC00'/>\n",
       "</svg>\n"
      ],
      "text/plain": [
       "<rdkit.Chem.rdchem.Mol at 0x7fc828d6cb20>"
      ]
     },
     "execution_count": 23,
     "metadata": {},
     "output_type": "execute_result"
    }
   ],
   "source": [
    "m = Chem.MolFromMolFile(\"data/chlorofluoroethane.mol\")\n",
    "m"
   ]
  },
  {
   "cell_type": "code",
   "execution_count": 24,
   "metadata": {},
   "outputs": [
    {
     "data": {
      "image/png": "[encoded data removed]",
      "image/svg+xml": [
       "<?xml version='1.0' encoding='iso-8859-1'?>\n",
       "<svg version='1.1' baseProfile='full'\n",
       "              xmlns='http://www.w3.org/2000/svg'\n",
       "                      xmlns:rdkit='http://www.rdkit.org/xml'\n",
       "                      xmlns:xlink='http://www.w3.org/1999/xlink'\n",
       "                  xml:space='preserve'\n",
       "width='450px' height='150px' viewBox='0 0 450 150'>\n",
       "<!-- END OF HEADER -->\n",
       "<rect style='opacity:1.0;fill:#FFFFFF;stroke:none' width='450' height='150' x='0' y='0'> </rect>\n",
       "<path class='bond-0' d='M 167.786,107.641 L 218.033,78.6282' style='fill:none;fill-rule:evenodd;stroke:#000000;stroke-width:2.0px;stroke-linecap:butt;stroke-linejoin:miter;stroke-opacity:1' />\n",
       "<path class='bond-1' d='M 218.033,78.6282 L 218.033,58.1104' style='fill:none;fill-rule:evenodd;stroke:#000000;stroke-width:2.0px;stroke-linecap:butt;stroke-linejoin:miter;stroke-opacity:1' />\n",
       "<path class='bond-1' d='M 218.033,58.1104 L 218.033,37.5926' style='fill:none;fill-rule:evenodd;stroke:#00CC00;stroke-width:2.0px;stroke-linecap:butt;stroke-linejoin:miter;stroke-opacity:1' />\n",
       "<path class='bond-2' d='M 221.221,88.3681 L 224.041,86.9309' style='fill:none;fill-rule:evenodd;stroke:#000000;stroke-width:1.0px;stroke-linecap:butt;stroke-linejoin:miter;stroke-opacity:1' />\n",
       "<path class='bond-2' d='M 224.409,98.1081 L 230.049,95.2337' style='fill:none;fill-rule:evenodd;stroke:#000000;stroke-width:1.0px;stroke-linecap:butt;stroke-linejoin:miter;stroke-opacity:1' />\n",
       "<path class='bond-2' d='M 227.597,107.848 L 236.057,103.536' style='fill:none;fill-rule:evenodd;stroke:#000000;stroke-width:1.0px;stroke-linecap:butt;stroke-linejoin:miter;stroke-opacity:1' />\n",
       "<path class='bond-2' d='M 230.785,117.588 L 242.064,111.839' style='fill:none;fill-rule:evenodd;stroke:#000000;stroke-width:1.0px;stroke-linecap:butt;stroke-linejoin:miter;stroke-opacity:1' />\n",
       "<path class='bond-3' d='M 218.033,78.6282 L 241.381,80.8822' style='fill:none;fill-rule:evenodd;stroke:#000000;stroke-width:2.0px;stroke-linecap:butt;stroke-linejoin:miter;stroke-opacity:1' />\n",
       "<path class='bond-3' d='M 241.381,80.8822 L 264.728,83.1362' style='fill:none;fill-rule:evenodd;stroke:#33CCCC;stroke-width:2.0px;stroke-linecap:butt;stroke-linejoin:miter;stroke-opacity:1' />\n",
       "<path  class='atom-2' d='M 266.148 69.9261\n",
       "L 282.988 69.9261\n",
       "L 282.988 73.1661\n",
       "L 269.948 73.1661\n",
       "L 269.948 81.7661\n",
       "L 281.548 81.7661\n",
       "L 281.548 85.0461\n",
       "L 269.948 85.0461\n",
       "L 269.948 98.2461\n",
       "L 266.148 98.2461\n",
       "L 266.148 69.9261\n",
       "' fill='#33CCCC'/>\n",
       "<path  class='atom-3' d='M 207.113 21.5819\n",
       "Q 207.113 14.5419, 210.393 10.8619\n",
       "Q 213.713 7.14193, 219.993 7.14193\n",
       "Q 225.833 7.14193, 228.953 11.2619\n",
       "L 226.313 13.4219\n",
       "Q 224.033 10.4219, 219.993 10.4219\n",
       "Q 215.713 10.4219, 213.433 13.3019\n",
       "Q 211.193 16.1419, 211.193 21.5819\n",
       "Q 211.193 27.1819, 213.513 30.0619\n",
       "Q 215.873 32.9419, 220.433 32.9419\n",
       "Q 223.553 32.9419, 227.193 31.0619\n",
       "L 228.313 34.0619\n",
       "Q 226.833 35.0219, 224.593 35.5819\n",
       "Q 222.353 36.1419, 219.873 36.1419\n",
       "Q 213.713 36.1419, 210.393 32.3819\n",
       "Q 207.113 28.6219, 207.113 21.5819\n",
       "' fill='#00CC00'/>\n",
       "<path  class='atom-3' d='M 232.393 5.42193\n",
       "L 236.073 5.42193\n",
       "L 236.073 35.7819\n",
       "L 232.393 35.7819\n",
       "L 232.393 5.42193\n",
       "' fill='#00CC00'/>\n",
       "<path  class='atom-4' d='M 233.301 116.164\n",
       "L 237.141 116.164\n",
       "L 237.141 128.204\n",
       "L 251.621 128.204\n",
       "L 251.621 116.164\n",
       "L 255.461 116.164\n",
       "L 255.461 144.484\n",
       "L 251.621 144.484\n",
       "L 251.621 131.404\n",
       "L 237.141 131.404\n",
       "L 237.141 144.484\n",
       "L 233.301 144.484\n",
       "L 233.301 116.164\n",
       "' fill='#000000'/>\n",
       "</svg>\n"
      ],
      "text/plain": [
       "<rdkit.Chem.rdchem.Mol at 0x7fc82919d260>"
      ]
     },
     "execution_count": 24,
     "metadata": {},
     "output_type": "execute_result"
    }
   ],
   "source": [
    "m = Chem.MolFromMolFile(\"data/chlorofluoroethane.mol\", removeHs = False)\n",
    "m"
   ]
  },
  {
   "cell_type": "markdown",
   "metadata": {},
   "source": [
    "SMILES reading automatically takes into account chiral hydrogen and preserves them."
   ]
  },
  {
   "cell_type": "code",
   "execution_count": 25,
   "metadata": {},
   "outputs": [
    {
     "data": {
      "image/png": "[encoded data removed]",
      "image/svg+xml": [
       "<?xml version='1.0' encoding='iso-8859-1'?>\n",
       "<svg version='1.1' baseProfile='full'\n",
       "              xmlns='http://www.w3.org/2000/svg'\n",
       "                      xmlns:rdkit='http://www.rdkit.org/xml'\n",
       "                      xmlns:xlink='http://www.w3.org/1999/xlink'\n",
       "                  xml:space='preserve'\n",
       "width='450px' height='150px' viewBox='0 0 450 150'>\n",
       "<!-- END OF HEADER -->\n",
       "<rect style='opacity:1.0;fill:#FFFFFF;stroke:none' width='450' height='150' x='0' y='0'> </rect>\n",
       "<path class='bond-0' d='M 221.799,94.3969 L 250.572,111.009' style='fill:none;fill-rule:evenodd;stroke:#000000;stroke-width:2.0px;stroke-linecap:butt;stroke-linejoin:miter;stroke-opacity:1' />\n",
       "<path class='bond-0' d='M 250.572,111.009 L 279.345,127.621' style='fill:none;fill-rule:evenodd;stroke:#33CCCC;stroke-width:2.0px;stroke-linecap:butt;stroke-linejoin:miter;stroke-opacity:1' />\n",
       "<path class='bond-1' d='M 221.799,94.3969 L 221.799,63.2372' style='fill:none;fill-rule:evenodd;stroke:#000000;stroke-width:2.0px;stroke-linecap:butt;stroke-linejoin:miter;stroke-opacity:1' />\n",
       "<path class='bond-1' d='M 221.799,63.2372 L 221.799,32.0775' style='fill:none;fill-rule:evenodd;stroke:#00CC00;stroke-width:2.0px;stroke-linecap:butt;stroke-linejoin:miter;stroke-opacity:1' />\n",
       "<path class='bond-2' d='M 221.799,94.3969 L 153.668,128.464 L 158.231,136.366 Z' style='fill:#000000;fill-rule:evenodd;fill-opacity:1;stroke:#000000;stroke-width:2px;stroke-linecap:butt;stroke-linejoin:miter;stroke-opacity:1;' />\n",
       "<path  class='atom-1' d='M 281.246 121.648\n",
       "L 294.051 121.648\n",
       "L 294.051 124.112\n",
       "L 284.135 124.112\n",
       "L 284.135 130.651\n",
       "L 292.956 130.651\n",
       "L 292.956 133.145\n",
       "L 284.135 133.145\n",
       "L 284.135 143.182\n",
       "L 281.246 143.182\n",
       "L 281.246 121.648\n",
       "' fill='#33CCCC'/>\n",
       "<path  class='atom-2' d='M 213.496 19.1057\n",
       "Q 213.496 13.7527, 215.99 10.9546\n",
       "Q 218.514 8.12601, 223.289 8.12601\n",
       "Q 227.73 8.12601, 230.102 11.2587\n",
       "L 228.095 12.9011\n",
       "Q 226.361 10.62, 223.289 10.62\n",
       "Q 220.035 10.62, 218.301 12.8098\n",
       "Q 216.598 14.9693, 216.598 19.1057\n",
       "Q 216.598 23.3637, 218.362 25.5535\n",
       "Q 220.156 27.7434, 223.624 27.7434\n",
       "Q 225.996 27.7434, 228.764 26.3139\n",
       "L 229.615 28.595\n",
       "Q 228.49 29.3249, 226.787 29.7508\n",
       "Q 225.084 30.1766, 223.198 30.1766\n",
       "Q 218.514 30.1766, 215.99 27.3176\n",
       "Q 213.496 24.4586, 213.496 19.1057\n",
       "' fill='#00CC00'/>\n",
       "<path  class='atom-2' d='M 232.718 6.81818\n",
       "L 235.516 6.81818\n",
       "L 235.516 29.9028\n",
       "L 232.718 29.9028\n",
       "L 232.718 6.81818\n",
       "' fill='#00CC00'/>\n",
       "</svg>\n"
      ],
      "text/plain": [
       "<rdkit.Chem.rdchem.Mol at 0x7fc828d6d3f0>"
      ]
     },
     "execution_count": 25,
     "metadata": {},
     "output_type": "execute_result"
    }
   ],
   "source": [
    "m = Chem.MolFromSmiles(\"[C@@H](F)(Cl)C\")\n",
    "m"
   ]
  },
  {
   "cell_type": "markdown",
   "metadata": {},
   "source": [
    "However, explicitly specified Hs will be removed."
   ]
  },
  {
   "cell_type": "code",
   "execution_count": 26,
   "metadata": {},
   "outputs": [
    {
     "data": {
      "image/png": "[encoded data removed]",
      "image/svg+xml": [
       "<?xml version='1.0' encoding='iso-8859-1'?>\n",
       "<svg version='1.1' baseProfile='full'\n",
       "              xmlns='http://www.w3.org/2000/svg'\n",
       "                      xmlns:rdkit='http://www.rdkit.org/xml'\n",
       "                      xmlns:xlink='http://www.w3.org/1999/xlink'\n",
       "                  xml:space='preserve'\n",
       "width='450px' height='150px' viewBox='0 0 450 150'>\n",
       "<!-- END OF HEADER -->\n",
       "<rect style='opacity:1.0;fill:#FFFFFF;stroke:none' width='450' height='150' x='0' y='0'> </rect>\n",
       "<path class='bond-0' d='M 221.799,94.3969 L 250.572,111.009' style='fill:none;fill-rule:evenodd;stroke:#000000;stroke-width:2.0px;stroke-linecap:butt;stroke-linejoin:miter;stroke-opacity:1' />\n",
       "<path class='bond-0' d='M 250.572,111.009 L 279.345,127.621' style='fill:none;fill-rule:evenodd;stroke:#33CCCC;stroke-width:2.0px;stroke-linecap:butt;stroke-linejoin:miter;stroke-opacity:1' />\n",
       "<path class='bond-1' d='M 221.799,94.3969 L 221.799,63.2372' style='fill:none;fill-rule:evenodd;stroke:#000000;stroke-width:2.0px;stroke-linecap:butt;stroke-linejoin:miter;stroke-opacity:1' />\n",
       "<path class='bond-1' d='M 221.799,63.2372 L 221.799,32.0775' style='fill:none;fill-rule:evenodd;stroke:#00CC00;stroke-width:2.0px;stroke-linecap:butt;stroke-linejoin:miter;stroke-opacity:1' />\n",
       "<path class='bond-2' d='M 221.799,94.3969 L 155.949,132.415' style='fill:none;fill-rule:evenodd;stroke:#000000;stroke-width:2.0px;stroke-linecap:butt;stroke-linejoin:miter;stroke-opacity:1' />\n",
       "<path  class='atom-1' d='M 281.246 121.648\n",
       "L 294.051 121.648\n",
       "L 294.051 124.112\n",
       "L 284.135 124.112\n",
       "L 284.135 130.651\n",
       "L 292.956 130.651\n",
       "L 292.956 133.145\n",
       "L 284.135 133.145\n",
       "L 284.135 143.182\n",
       "L 281.246 143.182\n",
       "L 281.246 121.648\n",
       "' fill='#33CCCC'/>\n",
       "<path  class='atom-2' d='M 213.496 19.1057\n",
       "Q 213.496 13.7527, 215.99 10.9546\n",
       "Q 218.514 8.12601, 223.289 8.12601\n",
       "Q 227.73 8.12601, 230.102 11.2587\n",
       "L 228.095 12.9011\n",
       "Q 226.361 10.62, 223.289 10.62\n",
       "Q 220.035 10.62, 218.301 12.8098\n",
       "Q 216.598 14.9693, 216.598 19.1057\n",
       "Q 216.598 23.3637, 218.362 25.5535\n",
       "Q 220.156 27.7434, 223.624 27.7434\n",
       "Q 225.996 27.7434, 228.764 26.3139\n",
       "L 229.615 28.595\n",
       "Q 228.49 29.3249, 226.787 29.7508\n",
       "Q 225.084 30.1766, 223.198 30.1766\n",
       "Q 218.514 30.1766, 215.99 27.3176\n",
       "Q 213.496 24.4586, 213.496 19.1057\n",
       "' fill='#00CC00'/>\n",
       "<path  class='atom-2' d='M 232.718 6.81818\n",
       "L 235.516 6.81818\n",
       "L 235.516 29.9028\n",
       "L 232.718 29.9028\n",
       "L 232.718 6.81818\n",
       "' fill='#00CC00'/>\n",
       "</svg>\n"
      ],
      "text/plain": [
       "<rdkit.Chem.rdchem.Mol at 0x7fc828d6d850>"
      ]
     },
     "execution_count": 26,
     "metadata": {},
     "output_type": "execute_result"
    }
   ],
   "source": [
    "m = Chem.MolFromSmiles(\"C([H])(F)(Cl)C\")\n",
    "m"
   ]
  },
  {
   "cell_type": "markdown",
   "metadata": {},
   "source": [
    "### Writing"
   ]
  },
  {
   "cell_type": "markdown",
   "metadata": {},
   "source": [
    "#### SMILES\n",
    "By default saving to SMILES provides canonical SMILES but without chirality"
   ]
  },
  {
   "cell_type": "code",
   "execution_count": 27,
   "metadata": {},
   "outputs": [
    {
     "data": {
      "text/plain": [
       "'C[C@H](F)Cl'"
      ]
     },
     "execution_count": 27,
     "metadata": {},
     "output_type": "execute_result"
    }
   ],
   "source": [
    "m = Chem.MolFromSmiles(\"[C@@H](F)(Cl)C\")\n",
    "Chem.MolToSmiles(m)"
   ]
  },
  {
   "cell_type": "code",
   "execution_count": 28,
   "metadata": {},
   "outputs": [
    {
     "data": {
      "text/plain": [
       "'C[C@H](F)Cl'"
      ]
     },
     "execution_count": 28,
     "metadata": {},
     "output_type": "execute_result"
    }
   ],
   "source": [
    "Chem.MolToSmiles(m, isomericSmiles = True)"
   ]
  },
  {
   "cell_type": "markdown",
   "metadata": {},
   "source": [
    "#### MolBlock"
   ]
  },
  {
   "cell_type": "code",
   "execution_count": 29,
   "metadata": {},
   "outputs": [
    {
     "name": "stdout",
     "output_type": "stream",
     "text": [
      "\n",
      "     RDKit          2D\n",
      "\n",
      "  4  3  0  0  0  0  0  0  0  0999 V2000\n",
      "    1.2990    0.7500    0.0000 C   0  0  0  0  0  0  0  0  0  0  0  0\n",
      "    2.5981   -0.0000    0.0000 F   0  0  0  0  0  0  0  0  0  0  0  0\n",
      "    1.2990    2.2500    0.0000 Cl  0  0  0  0  0  0  0  0  0  0  0  0\n",
      "    0.0000    0.0000    0.0000 C   0  0  0  0  0  0  0  0  0  0  0  0\n",
      "  1  2  1  0\n",
      "  1  3  1  0\n",
      "  1  4  1  1\n",
      "M  END\n",
      "\n"
     ]
    }
   ],
   "source": [
    "molblock = Chem.MolToMolBlock(m)\n",
    "print(molblock)"
   ]
  },
  {
   "cell_type": "markdown",
   "metadata": {},
   "source": [
    "However, chirality was lost. Specifying `includeStereo = True` doesn't help."
   ]
  },
  {
   "cell_type": "code",
   "execution_count": 30,
   "metadata": {},
   "outputs": [
    {
     "name": "stdout",
     "output_type": "stream",
     "text": [
      "\n",
      "     RDKit          2D\n",
      "\n",
      "  4  3  0  0  0  0  0  0  0  0999 V2000\n",
      "    1.2990    0.7500    0.0000 C   0  0  0  0  0  0  0  0  0  0  0  0\n",
      "    2.5981   -0.0000    0.0000 F   0  0  0  0  0  0  0  0  0  0  0  0\n",
      "    1.2990    2.2500    0.0000 Cl  0  0  0  0  0  0  0  0  0  0  0  0\n",
      "    0.0000    0.0000    0.0000 C   0  0  0  0  0  0  0  0  0  0  0  0\n",
      "  1  2  1  0\n",
      "  1  3  1  0\n",
      "  1  4  1  1\n",
      "M  END\n",
      "\n"
     ]
    }
   ],
   "source": [
    "molblock = Chem.MolToMolBlock(m, includeStereo = True)\n",
    "print(molblock)"
   ]
  },
  {
   "cell_type": "markdown",
   "metadata": {},
   "source": [
    "You may note that `MolToMolBlock` produces output with all coordinates identical. Therefore it may be useful to generate them to obtain reasonable 2D depiction. At the same time stereoinformation will appear."
   ]
  },
  {
   "cell_type": "code",
   "execution_count": 31,
   "metadata": {},
   "outputs": [
    {
     "name": "stdout",
     "output_type": "stream",
     "text": [
      "\n",
      "     RDKit          2D\n",
      "\n",
      "  4  3  0  0  0  0  0  0  0  0999 V2000\n",
      "    0.0000    0.0000    0.0000 C   0  0  0  0  0  0  0  0  0  0  0  0\n",
      "    1.2990   -0.7500    0.0000 F   0  0  0  0  0  0  0  0  0  0  0  0\n",
      "    0.0000    1.5000    0.0000 Cl  0  0  0  0  0  0  0  0  0  0  0  0\n",
      "   -1.2990   -0.7500    0.0000 C   0  0  0  0  0  0  0  0  0  0  0  0\n",
      "  1  2  1  0\n",
      "  1  3  1  0\n",
      "  1  4  1  1\n",
      "M  END\n",
      "\n"
     ]
    }
   ],
   "source": [
    "AllChem.Compute2DCoords(m)\n",
    "molblock = Chem.MolToMolBlock(m)\n",
    "print(molblock)"
   ]
  },
  {
   "cell_type": "markdown",
   "metadata": {},
   "source": [
    "#### Mol files"
   ]
  },
  {
   "cell_type": "markdown",
   "metadata": {},
   "source": [
    "You may use Python file objects to write mol files."
   ]
  },
  {
   "cell_type": "code",
   "execution_count": 32,
   "metadata": {},
   "outputs": [],
   "source": [
    "print(Chem.MolToMolBlock(m), file=open('data/foo.mol','w+'))"
   ]
  },
  {
   "cell_type": "markdown",
   "metadata": {
    "collapsed": true
   },
   "source": [
    "#### SDF"
   ]
  },
  {
   "cell_type": "code",
   "execution_count": 33,
   "metadata": {},
   "outputs": [],
   "source": [
    "w = Chem.SDWriter('data/foo.sdf')\n",
    "for m in mols:\n",
    "    w.write(m)\n",
    "w.close()"
   ]
  },
  {
   "cell_type": "markdown",
   "metadata": {},
   "source": [
    "You may use file object and write molecules to gzipped sdf"
   ]
  },
  {
   "cell_type": "raw",
   "metadata": {},
   "source": [
    "f = gzip.open('data/foo.sdf.gz', 'a')\n",
    "w = Chem.SDWriter(f)\n",
    "for m in mols:\n",
    "    w.write(m)\n",
    "w.close()\n",
    "f.close()"
   ]
  },
  {
   "cell_type": "markdown",
   "metadata": {},
   "source": [
    "Analogously there is SmilesWriter to create text files containing SMILES representation of molecules"
   ]
  },
  {
   "cell_type": "markdown",
   "metadata": {},
   "source": [
    "## Structure Sanitization"
   ]
  },
  {
   "cell_type": "markdown",
   "metadata": {},
   "source": [
    "http://www.rdkit.org/docs/RDKit_Book.html#molecular-sanitization  \n",
    "The molecule parsing functions all, by default, perform a “sanitization” operation on the molecules read. The idea is to generate useful computed properties (like hybridization, ring membership, etc.) for the rest of the code and to ensure that the molecules are “reasonable”: that they can be represented with octet-complete Lewis dot structures.\n",
    "\n",
    "Here are the steps involved, in order.\n",
    "\n",
    "1. `clearComputedProps`: removes any computed properties that already exist on the molecule and its atoms and bonds. This step is always performed.\n",
    "\n",
    "2. `cleanUp`: standardizes a small number of non-standard valence states. The clean up operations are:\n",
    "\n",
    "   - Neutral 5 valent Ns with double bonds to Os are converted to the zwitterionic form. Example: N(=O)=O -> \\[N+\\](=O)O-]  \n",
    "   - Neutral 5 valent Ns with triple bonds to another N are converted to the zwitterionic form. Example: C-N=N#N -> C-N=[N+]=[N-]  \n",
    "   - Neutral 5 valent phosphorus with one double bond to an O and another to either a C or a P are converted to the zwitterionic form. Example: C=P(=O)O -> C=\\[P+\\]([O-])O  \n",
    "   - Neutral Cl, Br, or I with exclusively O neighbors, and a valence of 3, 5, or 7, are converted to the zwitterionic form. This covers things like chlorous acid, chloric acid, and perchloric acid. Example: O=Cl(=O)O -> \\[O-\\]\\[Cl+2\\][O-]O  \n",
    "This step should not generate exceptions.  \n",
    "    \n",
    "    \n",
    "3. `updatePropertyCache`: calculates the explicit and implicit valences on all atoms. This generates exceptions for atoms in higher-than-allowed valence states. This step is always performed, but if it is “skipped” the test for non-standard valences will not be carried out.  \n",
    "\n",
    "4. `symmetrizeSSSR`: calls the symmetrized smallest set of smallest rings algorithm (discussed in the Getting Started document).  \n",
    "\n",
    "5. `Kekulize`: converts aromatic rings to their Kekule form. Will raise an exception if a ring cannot be kekulized or if aromatic bonds are found outside of rings.  \n",
    "\n",
    "6. `assignRadicals`: determines the number of radical electrons (if any) on each atom.  \n",
    "\n",
    "7. `setAromaticity`: identifies the aromatic rings and ring systems (see above), sets the aromatic flag on atoms and bonds, sets bond orders to aromatic.  \n",
    "\n",
    "8. `setConjugation`: identifies which bonds are conjugated  \n",
    "\n",
    "9. `setHybridization`: calculates the hybridization state of each atom  \n",
    "\n",
    "10. `cleanupChirality`: removes chiral tags from atoms that are not sp3 hybridized.  \n",
    "\n",
    "11. `adjustHs`: adds explicit Hs where necessary to preserve the chemistry. This is typically needed for heteroatoms in aromatic rings. The classic example is the nitrogen atom in pyrrole.  \n",
    "\n",
    "The individual steps can be toggled on or off when calling `MolOps::sanitizeMol` or `Chem.SanitizeMol`."
   ]
  },
  {
   "cell_type": "code",
   "execution_count": 34,
   "metadata": {},
   "outputs": [
    {
     "name": "stderr",
     "output_type": "stream",
     "text": [
      "RDKit ERROR: [13:55:11] non-ring atom 1 marked aromatic\n"
     ]
    }
   ],
   "source": [
    "m = Chem.MolFromSmiles('Cn(:o):o')"
   ]
  },
  {
   "cell_type": "markdown",
   "metadata": {},
   "source": [
    "## Working with molecules"
   ]
  },
  {
   "cell_type": "markdown",
   "metadata": {},
   "source": [
    "### Looping over atoms and bonds"
   ]
  },
  {
   "cell_type": "code",
   "execution_count": 35,
   "metadata": {},
   "outputs": [],
   "source": [
    "m = Chem.MolFromSmiles('C1OC=C1')"
   ]
  },
  {
   "cell_type": "code",
   "execution_count": 36,
   "metadata": {},
   "outputs": [
    {
     "name": "stdout",
     "output_type": "stream",
     "text": [
      "6\n",
      "8\n",
      "6\n",
      "6\n"
     ]
    }
   ],
   "source": [
    "for atom in m.GetAtoms():\n",
    "    print(atom.GetAtomicNum())"
   ]
  },
  {
   "cell_type": "code",
   "execution_count": 37,
   "metadata": {},
   "outputs": [
    {
     "name": "stdout",
     "output_type": "stream",
     "text": [
      "SINGLE\n",
      "SINGLE\n",
      "DOUBLE\n",
      "SINGLE\n"
     ]
    }
   ],
   "source": [
    "for bond in m.GetBonds():\n",
    "    print(bond.GetBondType())"
   ]
  },
  {
   "cell_type": "markdown",
   "metadata": {},
   "source": [
    "Individual atoms and bonds can be accesses as well as their properties"
   ]
  },
  {
   "cell_type": "code",
   "execution_count": 38,
   "metadata": {},
   "outputs": [
    {
     "data": {
      "text/plain": [
       "'O'"
      ]
     },
     "execution_count": 38,
     "metadata": {},
     "output_type": "execute_result"
    }
   ],
   "source": [
    "m.GetAtomWithIdx(1).GetSymbol()"
   ]
  },
  {
   "cell_type": "code",
   "execution_count": 39,
   "metadata": {},
   "outputs": [
    {
     "data": {
      "text/plain": [
       "3"
      ]
     },
     "execution_count": 39,
     "metadata": {},
     "output_type": "execute_result"
    }
   ],
   "source": [
    "m.GetAtomWithIdx(2).GetExplicitValence()"
   ]
  },
  {
   "cell_type": "code",
   "execution_count": 40,
   "metadata": {
    "scrolled": true
   },
   "outputs": [
    {
     "data": {
      "text/plain": [
       "0"
      ]
     },
     "execution_count": 40,
     "metadata": {},
     "output_type": "execute_result"
    }
   ],
   "source": [
    "m.GetBondWithIdx(0).GetBeginAtomIdx()"
   ]
  },
  {
   "cell_type": "code",
   "execution_count": 41,
   "metadata": {
    "scrolled": true
   },
   "outputs": [
    {
     "data": {
      "text/plain": [
       "rdkit.Chem.rdchem.BondType.SINGLE"
      ]
     },
     "execution_count": 41,
     "metadata": {},
     "output_type": "execute_result"
    }
   ],
   "source": [
    "m.GetBondBetweenAtoms(0,1).GetBondType()"
   ]
  },
  {
   "cell_type": "markdown",
   "metadata": {},
   "source": [
    "You may loop through neigbours of particular atoms"
   ]
  },
  {
   "cell_type": "code",
   "execution_count": 42,
   "metadata": {},
   "outputs": [
    {
     "name": "stdout",
     "output_type": "stream",
     "text": [
      "root atom C is connected to O by SINGLE bond\n",
      "root atom C is connected to C by DOUBLE bond\n"
     ]
    }
   ],
   "source": [
    "atom = m.GetAtomWithIdx(2)\n",
    "\n",
    "for nei in atom.GetNeighbors():\n",
    "    print(\"root atom %s is connected to %s by %s bond\" % (atom.GetSymbol(), nei.GetSymbol(), m.GetBondBetweenAtoms(atom.GetIdx(), nei.GetIdx()).GetBondType()))"
   ]
  },
  {
   "cell_type": "markdown",
   "metadata": {},
   "source": [
    "### Molecules properties"
   ]
  },
  {
   "cell_type": "markdown",
   "metadata": {},
   "source": [
    "You may set and read properties of molecules, which can be stored in property fields of sdf files."
   ]
  },
  {
   "cell_type": "code",
   "execution_count": 43,
   "metadata": {},
   "outputs": [],
   "source": [
    "m.SetProp(\"Activity\", \"inactive\")"
   ]
  },
  {
   "cell_type": "code",
   "execution_count": 44,
   "metadata": {},
   "outputs": [],
   "source": [
    "m.SetIntProp(\"Boiling point\", 40)"
   ]
  },
  {
   "cell_type": "code",
   "execution_count": 45,
   "metadata": {},
   "outputs": [
    {
     "data": {
      "text/plain": [
       "'40'"
      ]
     },
     "execution_count": 45,
     "metadata": {},
     "output_type": "execute_result"
    }
   ],
   "source": [
    "m.GetProp(\"Boiling point\")"
   ]
  },
  {
   "cell_type": "markdown",
   "metadata": {},
   "source": [
    "#### Magic properties"
   ]
  },
  {
   "cell_type": "markdown",
   "metadata": {},
   "source": [
    "There are a lot of 'magic' properties of atoms/bonds and molecules. More details can be found at http://www.rdkit.org/docs/RDKit_Book.html#magic-property-values  \n",
    "One of them is a title or a name of a molecule (\"\\_Name\")"
   ]
  },
  {
   "cell_type": "code",
   "execution_count": 46,
   "metadata": {},
   "outputs": [],
   "source": [
    "m.SetProp(\"_Name\", \"molecule name\")"
   ]
  },
  {
   "cell_type": "code",
   "execution_count": 47,
   "metadata": {},
   "outputs": [
    {
     "data": {
      "text/plain": [
       "'molecule name'"
      ]
     },
     "execution_count": 47,
     "metadata": {},
     "output_type": "execute_result"
    }
   ],
   "source": [
    "m.GetProp(\"_Name\")"
   ]
  },
  {
   "cell_type": "markdown",
   "metadata": {},
   "source": [
    "When you save this molecule to sdf file, \\_Name property will be stored as a title, all others as ordinary property fields."
   ]
  },
  {
   "cell_type": "code",
   "execution_count": 48,
   "metadata": {},
   "outputs": [],
   "source": [
    "w = Chem.SDWriter('data/bar.sdf')\n",
    "w.write(m)\n",
    "w.close()"
   ]
  },
  {
   "cell_type": "markdown",
   "metadata": {},
   "source": [
    "## 3D structures and conformers"
   ]
  },
  {
   "cell_type": "markdown",
   "metadata": {},
   "source": [
    "Generation of 3D structure"
   ]
  },
  {
   "cell_type": "code",
   "execution_count": 49,
   "metadata": {},
   "outputs": [
    {
     "data": {
      "image/png": "[encoded data removed]",
      "image/svg+xml": [
       "<?xml version='1.0' encoding='iso-8859-1'?>\n",
       "<svg version='1.1' baseProfile='full'\n",
       "              xmlns='http://www.w3.org/2000/svg'\n",
       "                      xmlns:rdkit='http://www.rdkit.org/xml'\n",
       "                      xmlns:xlink='http://www.w3.org/1999/xlink'\n",
       "                  xml:space='preserve'\n",
       "width='450px' height='150px' viewBox='0 0 450 150'>\n",
       "<!-- END OF HEADER -->\n",
       "<rect style='opacity:1.0;fill:#FFFFFF;stroke:none' width='450' height='150' x='0' y='0'> </rect>\n",
       "<path class='bond-0' d='M 104.673,78.6974 L 113.417,50.612' style='fill:none;fill-rule:evenodd;stroke:#FF0000;stroke-width:2.0px;stroke-linecap:butt;stroke-linejoin:miter;stroke-opacity:1' />\n",
       "<path class='bond-0' d='M 113.417,50.612 L 122.16,22.5266' style='fill:none;fill-rule:evenodd;stroke:#000000;stroke-width:2.0px;stroke-linecap:butt;stroke-linejoin:miter;stroke-opacity:1' />\n",
       "<path class='bond-7' d='M 112.003,102.7 L 130.685,122.941' style='fill:none;fill-rule:evenodd;stroke:#FF0000;stroke-width:2.0px;stroke-linecap:butt;stroke-linejoin:miter;stroke-opacity:1' />\n",
       "<path class='bond-7' d='M 130.685,122.941 L 149.368,143.182' style='fill:none;fill-rule:evenodd;stroke:#000000;stroke-width:2.0px;stroke-linecap:butt;stroke-linejoin:miter;stroke-opacity:1' />\n",
       "<path class='bond-1' d='M 122.16,22.5266 L 191.821,6.81818' style='fill:none;fill-rule:evenodd;stroke:#000000;stroke-width:2.0px;stroke-linecap:butt;stroke-linejoin:miter;stroke-opacity:1' />\n",
       "<path class='bond-2' d='M 191.821,6.81818 L 211.31,27.9333' style='fill:none;fill-rule:evenodd;stroke:#000000;stroke-width:2.0px;stroke-linecap:butt;stroke-linejoin:miter;stroke-opacity:1' />\n",
       "<path class='bond-2' d='M 211.31,27.9333 L 230.8,49.0484' style='fill:none;fill-rule:evenodd;stroke:#0000FF;stroke-width:2.0px;stroke-linecap:butt;stroke-linejoin:miter;stroke-opacity:1' />\n",
       "<path class='bond-3' d='M 249.709,57.1595 L 279.812,50.3713' style='fill:none;fill-rule:evenodd;stroke:#0000FF;stroke-width:2.0px;stroke-linecap:butt;stroke-linejoin:miter;stroke-opacity:1' />\n",
       "<path class='bond-3' d='M 279.812,50.3713 L 309.915,43.5831' style='fill:none;fill-rule:evenodd;stroke:#000000;stroke-width:2.0px;stroke-linecap:butt;stroke-linejoin:miter;stroke-opacity:1' />\n",
       "<path class='bond-5' d='M 236.551,71.1884 L 227.79,99.3309' style='fill:none;fill-rule:evenodd;stroke:#0000FF;stroke-width:2.0px;stroke-linecap:butt;stroke-linejoin:miter;stroke-opacity:1' />\n",
       "<path class='bond-5' d='M 227.79,99.3309 L 219.029,127.473' style='fill:none;fill-rule:evenodd;stroke:#000000;stroke-width:2.0px;stroke-linecap:butt;stroke-linejoin:miter;stroke-opacity:1' />\n",
       "<path class='bond-4' d='M 309.915,43.5831 L 358.349,96.0564' style='fill:none;fill-rule:evenodd;stroke:#000000;stroke-width:2.0px;stroke-linecap:butt;stroke-linejoin:miter;stroke-opacity:1' />\n",
       "<path class='bond-6' d='M 219.029,127.473 L 149.368,143.182' style='fill:none;fill-rule:evenodd;stroke:#000000;stroke-width:2.0px;stroke-linecap:butt;stroke-linejoin:miter;stroke-opacity:1' />\n",
       "<path  class='atom-0' d='M 91.6509 90.7656\n",
       "Q 91.6509 85.9097, 94.0503 83.1962\n",
       "Q 96.4496 80.4826, 100.934 80.4826\n",
       "Q 105.419 80.4826, 107.818 83.1962\n",
       "Q 110.217 85.9097, 110.217 90.7656\n",
       "Q 110.217 95.6786, 107.789 98.4778\n",
       "Q 105.362 101.249, 100.934 101.249\n",
       "Q 96.4782 101.249, 94.0503 98.4778\n",
       "Q 91.6509 95.7071, 91.6509 90.7656\n",
       "M 100.934 98.9634\n",
       "Q 104.019 98.9634, 105.676 96.9068\n",
       "Q 107.361 94.8217, 107.361 90.7656\n",
       "Q 107.361 86.7952, 105.676 84.7958\n",
       "Q 104.019 82.7677, 100.934 82.7677\n",
       "Q 97.8492 82.7677, 96.164 84.7672\n",
       "Q 94.5073 86.7667, 94.5073 90.7656\n",
       "Q 94.5073 94.8502, 96.164 96.9068\n",
       "Q 97.8492 98.9634, 100.934 98.9634\n",
       "' fill='#FF0000'/>\n",
       "<path  class='atom-3' d='M 235.784 49.18\n",
       "L 242.411 59.8914\n",
       "Q 243.068 60.9482, 244.125 62.862\n",
       "Q 245.182 64.7758, 245.239 64.89\n",
       "L 245.239 49.18\n",
       "L 247.924 49.18\n",
       "L 247.924 69.4031\n",
       "L 245.153 69.4031\n",
       "L 238.041 57.692\n",
       "Q 237.213 56.3209, 236.327 54.7499\n",
       "Q 235.47 53.1789, 235.213 52.6933\n",
       "L 235.213 69.4031\n",
       "L 232.585 69.4031\n",
       "L 232.585 49.18\n",
       "L 235.784 49.18\n",
       "' fill='#0000FF'/>\n",
       "</svg>\n"
      ],
      "text/plain": [
       "<rdkit.Chem.rdchem.Mol at 0x7fc828b9c850>"
      ]
     },
     "execution_count": 49,
     "metadata": {},
     "output_type": "execute_result"
    }
   ],
   "source": [
    "m = Chem.MolFromSmiles('O1CCN(CC)CC1')\n",
    "m"
   ]
  },
  {
   "cell_type": "markdown",
   "metadata": {},
   "source": [
    "Since by default RDKit doesn't keep hydrogens they should be added before 3D structure generation to obtain rasonable geometry"
   ]
  },
  {
   "cell_type": "code",
   "execution_count": 50,
   "metadata": {},
   "outputs": [
    {
     "data": {
      "image/png": "[encoded data removed]",
      "image/svg+xml": [
       "<?xml version='1.0' encoding='iso-8859-1'?>\n",
       "<svg version='1.1' baseProfile='full'\n",
       "              xmlns='http://www.w3.org/2000/svg'\n",
       "                      xmlns:rdkit='http://www.rdkit.org/xml'\n",
       "                      xmlns:xlink='http://www.w3.org/1999/xlink'\n",
       "                  xml:space='preserve'\n",
       "width='450px' height='150px' viewBox='0 0 450 150'>\n",
       "<!-- END OF HEADER -->\n",
       "<rect style='opacity:1.0;fill:#FFFFFF;stroke:none' width='450' height='150' x='0' y='0'> </rect>\n",
       "<path class='bond-0' d='M 299.618,80.9064 L 292.768,92.7711' style='fill:none;fill-rule:evenodd;stroke:#FF0000;stroke-width:2.0px;stroke-linecap:butt;stroke-linejoin:miter;stroke-opacity:1' />\n",
       "<path class='bond-0' d='M 292.768,92.7711 L 285.918,104.636' style='fill:none;fill-rule:evenodd;stroke:#000000;stroke-width:2.0px;stroke-linecap:butt;stroke-linejoin:miter;stroke-opacity:1' />\n",
       "<path class='bond-7' d='M 299.705,69.2441 L 292.811,57.3042' style='fill:none;fill-rule:evenodd;stroke:#FF0000;stroke-width:2.0px;stroke-linecap:butt;stroke-linejoin:miter;stroke-opacity:1' />\n",
       "<path class='bond-7' d='M 292.811,57.3042 L 285.918,45.3643' style='fill:none;fill-rule:evenodd;stroke:#000000;stroke-width:2.0px;stroke-linecap:butt;stroke-linejoin:miter;stroke-opacity:1' />\n",
       "<path class='bond-1' d='M 285.918,104.636 L 251.697,104.636' style='fill:none;fill-rule:evenodd;stroke:#000000;stroke-width:2.0px;stroke-linecap:butt;stroke-linejoin:miter;stroke-opacity:1' />\n",
       "<path class='bond-8' d='M 285.918,104.636 L 313.427,114.648' style='fill:none;fill-rule:evenodd;stroke:#000000;stroke-width:2.0px;stroke-linecap:butt;stroke-linejoin:miter;stroke-opacity:1' />\n",
       "<path class='bond-9' d='M 285.918,104.636 L 280.98,132.635' style='fill:none;fill-rule:evenodd;stroke:#000000;stroke-width:2.0px;stroke-linecap:butt;stroke-linejoin:miter;stroke-opacity:1' />\n",
       "<path class='bond-2' d='M 251.697,104.636 L 244.788,92.6684' style='fill:none;fill-rule:evenodd;stroke:#000000;stroke-width:2.0px;stroke-linecap:butt;stroke-linejoin:miter;stroke-opacity:1' />\n",
       "<path class='bond-2' d='M 244.788,92.6684 L 237.879,80.7011' style='fill:none;fill-rule:evenodd;stroke:#0000FF;stroke-width:2.0px;stroke-linecap:butt;stroke-linejoin:miter;stroke-opacity:1' />\n",
       "<path class='bond-10' d='M 251.697,104.636 L 256.634,132.635' style='fill:none;fill-rule:evenodd;stroke:#000000;stroke-width:2.0px;stroke-linecap:butt;stroke-linejoin:miter;stroke-opacity:1' />\n",
       "<path class='bond-11' d='M 251.697,104.636 L 225.854,117.804' style='fill:none;fill-rule:evenodd;stroke:#000000;stroke-width:2.0px;stroke-linecap:butt;stroke-linejoin:miter;stroke-opacity:1' />\n",
       "<path class='bond-3' d='M 230.056,75 L 215.211,75' style='fill:none;fill-rule:evenodd;stroke:#0000FF;stroke-width:2.0px;stroke-linecap:butt;stroke-linejoin:miter;stroke-opacity:1' />\n",
       "<path class='bond-3' d='M 215.211,75 L 200.367,75' style='fill:none;fill-rule:evenodd;stroke:#000000;stroke-width:2.0px;stroke-linecap:butt;stroke-linejoin:miter;stroke-opacity:1' />\n",
       "<path class='bond-5' d='M 237.879,69.2989 L 244.788,57.3316' style='fill:none;fill-rule:evenodd;stroke:#0000FF;stroke-width:2.0px;stroke-linecap:butt;stroke-linejoin:miter;stroke-opacity:1' />\n",
       "<path class='bond-5' d='M 244.788,57.3316 L 251.697,45.3643' style='fill:none;fill-rule:evenodd;stroke:#000000;stroke-width:2.0px;stroke-linecap:butt;stroke-linejoin:miter;stroke-opacity:1' />\n",
       "<path class='bond-4' d='M 200.367,75 L 166.146,75' style='fill:none;fill-rule:evenodd;stroke:#000000;stroke-width:2.0px;stroke-linecap:butt;stroke-linejoin:miter;stroke-opacity:1' />\n",
       "<path class='bond-12' d='M 200.367,75 L 196.895,103.264' style='fill:none;fill-rule:evenodd;stroke:#000000;stroke-width:2.0px;stroke-linecap:butt;stroke-linejoin:miter;stroke-opacity:1' />\n",
       "<path class='bond-13' d='M 200.367,75 L 196.895,46.7359' style='fill:none;fill-rule:evenodd;stroke:#000000;stroke-width:2.0px;stroke-linecap:butt;stroke-linejoin:miter;stroke-opacity:1' />\n",
       "<path class='bond-14' d='M 166.146,75 L 136.573,75' style='fill:none;fill-rule:evenodd;stroke:#000000;stroke-width:2.0px;stroke-linecap:butt;stroke-linejoin:miter;stroke-opacity:1' />\n",
       "<path class='bond-15' d='M 166.146,75 L 166.146,103.519' style='fill:none;fill-rule:evenodd;stroke:#000000;stroke-width:2.0px;stroke-linecap:butt;stroke-linejoin:miter;stroke-opacity:1' />\n",
       "<path class='bond-16' d='M 166.146,75 L 166.146,46.4807' style='fill:none;fill-rule:evenodd;stroke:#000000;stroke-width:2.0px;stroke-linecap:butt;stroke-linejoin:miter;stroke-opacity:1' />\n",
       "<path class='bond-6' d='M 251.697,45.3643 L 285.918,45.3643' style='fill:none;fill-rule:evenodd;stroke:#000000;stroke-width:2.0px;stroke-linecap:butt;stroke-linejoin:miter;stroke-opacity:1' />\n",
       "<path class='bond-17' d='M 251.697,45.3643 L 225.854,32.1957' style='fill:none;fill-rule:evenodd;stroke:#000000;stroke-width:2.0px;stroke-linecap:butt;stroke-linejoin:miter;stroke-opacity:1' />\n",
       "<path class='bond-18' d='M 251.697,45.3643 L 256.634,17.3649' style='fill:none;fill-rule:evenodd;stroke:#000000;stroke-width:2.0px;stroke-linecap:butt;stroke-linejoin:miter;stroke-opacity:1' />\n",
       "<path class='bond-19' d='M 285.918,45.3643 L 280.98,17.3649' style='fill:none;fill-rule:evenodd;stroke:#000000;stroke-width:2.0px;stroke-linecap:butt;stroke-linejoin:miter;stroke-opacity:1' />\n",
       "<path class='bond-20' d='M 285.918,45.3643 L 313.427,35.3516' style='fill:none;fill-rule:evenodd;stroke:#000000;stroke-width:2.0px;stroke-linecap:butt;stroke-linejoin:miter;stroke-opacity:1' />\n",
       "<path  class='atom-0' d='M 298.579 75.0274\n",
       "Q 298.579 72.7004, 299.729 71.4\n",
       "Q 300.879 70.0996, 303.028 70.0996\n",
       "Q 305.177 70.0996, 306.327 71.4\n",
       "Q 307.476 72.7004, 307.476 75.0274\n",
       "Q 307.476 77.3817, 306.313 78.7232\n",
       "Q 305.149 80.0509, 303.028 80.0509\n",
       "Q 300.892 80.0509, 299.729 78.7232\n",
       "Q 298.579 77.3954, 298.579 75.0274\n",
       "M 303.028 78.9559\n",
       "Q 304.506 78.9559, 305.3 77.9703\n",
       "Q 306.108 76.9711, 306.108 75.0274\n",
       "Q 306.108 73.1247, 305.3 72.1666\n",
       "Q 304.506 71.1947, 303.028 71.1947\n",
       "Q 301.549 71.1947, 300.742 72.1529\n",
       "Q 299.948 73.111, 299.948 75.0274\n",
       "Q 299.948 76.9848, 300.742 77.9703\n",
       "Q 301.549 78.9559, 303.028 78.9559\n",
       "' fill='#FF0000'/>\n",
       "<path  class='atom-3' d='M 232.445 70.1544\n",
       "L 235.62 75.2875\n",
       "Q 235.935 75.7939, 236.442 76.711\n",
       "Q 236.948 77.6281, 236.976 77.6829\n",
       "L 236.976 70.1544\n",
       "L 238.262 70.1544\n",
       "L 238.262 79.8456\n",
       "L 236.934 79.8456\n",
       "L 233.526 74.2335\n",
       "Q 233.129 73.5764, 232.705 72.8236\n",
       "Q 232.294 72.0707, 232.171 71.838\n",
       "L 232.171 79.8456\n",
       "L 230.912 79.8456\n",
       "L 230.912 70.1544\n",
       "L 232.445 70.1544\n",
       "' fill='#0000FF'/>\n",
       "<path  class='atom-8' d='M 314.283 111.494\n",
       "L 315.597 111.494\n",
       "L 315.597 115.614\n",
       "L 320.552 115.614\n",
       "L 320.552 111.494\n",
       "L 321.866 111.494\n",
       "L 321.866 121.185\n",
       "L 320.552 121.185\n",
       "L 320.552 116.709\n",
       "L 315.597 116.709\n",
       "L 315.597 121.185\n",
       "L 314.283 121.185\n",
       "L 314.283 111.494\n",
       "' fill='#000000'/>\n",
       "<path  class='atom-9' d='M 276.184 133.491\n",
       "L 277.498 133.491\n",
       "L 277.498 137.611\n",
       "L 282.453 137.611\n",
       "L 282.453 133.491\n",
       "L 283.767 133.491\n",
       "L 283.767 143.182\n",
       "L 282.453 143.182\n",
       "L 282.453 138.706\n",
       "L 277.498 138.706\n",
       "L 277.498 143.182\n",
       "L 276.184 143.182\n",
       "L 276.184 133.491\n",
       "' fill='#000000'/>\n",
       "<path  class='atom-10' d='M 253.848 133.491\n",
       "L 255.162 133.491\n",
       "L 255.162 137.611\n",
       "L 260.117 137.611\n",
       "L 260.117 133.491\n",
       "L 261.431 133.491\n",
       "L 261.431 143.182\n",
       "L 260.117 143.182\n",
       "L 260.117 138.706\n",
       "L 255.162 138.706\n",
       "L 255.162 143.182\n",
       "L 253.848 143.182\n",
       "L 253.848 133.491\n",
       "' fill='#000000'/>\n",
       "<path  class='atom-11' d='M 217.415 115.327\n",
       "L 218.729 115.327\n",
       "L 218.729 119.447\n",
       "L 223.685 119.447\n",
       "L 223.685 115.327\n",
       "L 224.999 115.327\n",
       "L 224.999 125.018\n",
       "L 223.685 125.018\n",
       "L 223.685 120.542\n",
       "L 218.729 120.542\n",
       "L 218.729 125.018\n",
       "L 217.415 125.018\n",
       "L 217.415 115.327\n",
       "' fill='#000000'/>\n",
       "<path  class='atom-12' d='M 192.404 104.12\n",
       "L 193.718 104.12\n",
       "L 193.718 108.24\n",
       "L 198.673 108.24\n",
       "L 198.673 104.12\n",
       "L 199.987 104.12\n",
       "L 199.987 113.811\n",
       "L 198.673 113.811\n",
       "L 198.673 109.335\n",
       "L 193.718 109.335\n",
       "L 193.718 113.811\n",
       "L 192.404 113.811\n",
       "L 192.404 104.12\n",
       "' fill='#000000'/>\n",
       "<path  class='atom-13' d='M 192.404 36.1892\n",
       "L 193.718 36.1892\n",
       "L 193.718 40.3093\n",
       "L 198.673 40.3093\n",
       "L 198.673 36.1892\n",
       "L 199.987 36.1892\n",
       "L 199.987 45.8804\n",
       "L 198.673 45.8804\n",
       "L 198.673 41.4044\n",
       "L 193.718 41.4044\n",
       "L 193.718 45.8804\n",
       "L 192.404 45.8804\n",
       "L 192.404 36.1892\n",
       "' fill='#000000'/>\n",
       "<path  class='atom-14' d='M 128.134 70.1544\n",
       "L 129.448 70.1544\n",
       "L 129.448 74.2745\n",
       "L 134.403 74.2745\n",
       "L 134.403 70.1544\n",
       "L 135.717 70.1544\n",
       "L 135.717 79.8456\n",
       "L 134.403 79.8456\n",
       "L 134.403 75.3696\n",
       "L 129.448 75.3696\n",
       "L 129.448 79.8456\n",
       "L 128.134 79.8456\n",
       "L 128.134 70.1544\n",
       "' fill='#000000'/>\n",
       "<path  class='atom-15' d='M 162.355 104.375\n",
       "L 163.669 104.375\n",
       "L 163.669 108.495\n",
       "L 168.624 108.495\n",
       "L 168.624 104.375\n",
       "L 169.938 104.375\n",
       "L 169.938 114.066\n",
       "L 168.624 114.066\n",
       "L 168.624 109.59\n",
       "L 163.669 109.59\n",
       "L 163.669 114.066\n",
       "L 162.355 114.066\n",
       "L 162.355 104.375\n",
       "' fill='#000000'/>\n",
       "<path  class='atom-16' d='M 162.355 35.934\n",
       "L 163.669 35.934\n",
       "L 163.669 40.0541\n",
       "L 168.624 40.0541\n",
       "L 168.624 35.934\n",
       "L 169.938 35.934\n",
       "L 169.938 45.6252\n",
       "L 168.624 45.6252\n",
       "L 168.624 41.1492\n",
       "L 163.669 41.1492\n",
       "L 163.669 45.6252\n",
       "L 162.355 45.6252\n",
       "L 162.355 35.934\n",
       "' fill='#000000'/>\n",
       "<path  class='atom-17' d='M 217.415 24.9821\n",
       "L 218.729 24.9821\n",
       "L 218.729 29.1023\n",
       "L 223.685 29.1023\n",
       "L 223.685 24.9821\n",
       "L 224.999 24.9821\n",
       "L 224.999 34.6733\n",
       "L 223.685 34.6733\n",
       "L 223.685 30.1973\n",
       "L 218.729 30.1973\n",
       "L 218.729 34.6733\n",
       "L 217.415 34.6733\n",
       "L 217.415 24.9821\n",
       "' fill='#000000'/>\n",
       "<path  class='atom-18' d='M 253.848 6.81818\n",
       "L 255.162 6.81818\n",
       "L 255.162 10.9383\n",
       "L 260.117 10.9383\n",
       "L 260.117 6.81818\n",
       "L 261.431 6.81818\n",
       "L 261.431 16.5094\n",
       "L 260.117 16.5094\n",
       "L 260.117 12.0334\n",
       "L 255.162 12.0334\n",
       "L 255.162 16.5094\n",
       "L 253.848 16.5094\n",
       "L 253.848 6.81818\n",
       "' fill='#000000'/>\n",
       "<path  class='atom-19' d='M 276.184 6.81818\n",
       "L 277.498 6.81818\n",
       "L 277.498 10.9383\n",
       "L 282.453 10.9383\n",
       "L 282.453 6.81818\n",
       "L 283.767 6.81818\n",
       "L 283.767 16.5094\n",
       "L 282.453 16.5094\n",
       "L 282.453 12.0334\n",
       "L 277.498 12.0334\n",
       "L 277.498 16.5094\n",
       "L 276.184 16.5094\n",
       "L 276.184 6.81818\n",
       "' fill='#000000'/>\n",
       "<path  class='atom-20' d='M 314.283 28.8146\n",
       "L 315.597 28.8146\n",
       "L 315.597 32.9348\n",
       "L 320.552 32.9348\n",
       "L 320.552 28.8146\n",
       "L 321.866 28.8146\n",
       "L 321.866 38.5058\n",
       "L 320.552 38.5058\n",
       "L 320.552 34.0298\n",
       "L 315.597 34.0298\n",
       "L 315.597 38.5058\n",
       "L 314.283 38.5058\n",
       "L 314.283 28.8146\n",
       "' fill='#000000'/>\n",
       "</svg>\n"
      ],
      "text/plain": [
       "<rdkit.Chem.rdchem.Mol at 0x7fc828d6d300>"
      ]
     },
     "execution_count": 50,
     "metadata": {},
     "output_type": "execute_result"
    }
   ],
   "source": [
    "m = Chem.AddHs(m)\n",
    "m"
   ]
  },
  {
   "cell_type": "markdown",
   "metadata": {},
   "source": [
    "This command generates 3D structure for a molecule usinf distance matrix approach"
   ]
  },
  {
   "cell_type": "code",
   "execution_count": 51,
   "metadata": {},
   "outputs": [
    {
     "data": {
      "text/plain": [
       "0"
      ]
     },
     "execution_count": 51,
     "metadata": {},
     "output_type": "execute_result"
    }
   ],
   "source": [
    "AllChem.EmbedMolecule(m)"
   ]
  },
  {
   "cell_type": "markdown",
   "metadata": {},
   "source": [
    "The obtained geometry usually is quite ugly and refinement is neccessary. This can be done by using universal force field (UFF) or Merck molecular force field (MMFF)."
   ]
  },
  {
   "cell_type": "code",
   "execution_count": 52,
   "metadata": {},
   "outputs": [
    {
     "data": {
      "text/plain": [
       "0"
      ]
     },
     "execution_count": 52,
     "metadata": {},
     "output_type": "execute_result"
    }
   ],
   "source": [
    "AllChem.UFFOptimizeMolecule(m)"
   ]
  },
  {
   "cell_type": "code",
   "execution_count": 53,
   "metadata": {},
   "outputs": [
    {
     "data": {
      "image/png": "[encoded data removed]",
      "image/svg+xml": [
       "<?xml version='1.0' encoding='iso-8859-1'?>\n",
       "<svg version='1.1' baseProfile='full'\n",
       "              xmlns='http://www.w3.org/2000/svg'\n",
       "                      xmlns:rdkit='http://www.rdkit.org/xml'\n",
       "                      xmlns:xlink='http://www.w3.org/1999/xlink'\n",
       "                  xml:space='preserve'\n",
       "width='450px' height='150px' viewBox='0 0 450 150'>\n",
       "<!-- END OF HEADER -->\n",
       "<rect style='opacity:1.0;fill:#FFFFFF;stroke:none' width='450' height='150' x='0' y='0'> </rect>\n",
       "<path class='bond-0' d='M 317.685,68.9462 L 308.255,53.1395' style='fill:none;fill-rule:evenodd;stroke:#FF0000;stroke-width:2.0px;stroke-linecap:butt;stroke-linejoin:miter;stroke-opacity:1' />\n",
       "<path class='bond-0' d='M 308.255,53.1395 L 298.825,37.3329' style='fill:none;fill-rule:evenodd;stroke:#000000;stroke-width:2.0px;stroke-linecap:butt;stroke-linejoin:miter;stroke-opacity:1' />\n",
       "<path class='bond-7' d='M 318.36,85.1713 L 313.345,94.7131' style='fill:none;fill-rule:evenodd;stroke:#FF0000;stroke-width:2.0px;stroke-linecap:butt;stroke-linejoin:miter;stroke-opacity:1' />\n",
       "<path class='bond-7' d='M 313.345,94.7131 L 308.329,104.255' style='fill:none;fill-rule:evenodd;stroke:#000000;stroke-width:2.0px;stroke-linecap:butt;stroke-linejoin:miter;stroke-opacity:1' />\n",
       "<path class='bond-1' d='M 298.825,37.3329 L 249.713,45.8329' style='fill:none;fill-rule:evenodd;stroke:#000000;stroke-width:2.0px;stroke-linecap:butt;stroke-linejoin:miter;stroke-opacity:1' />\n",
       "<path class='bond-8' d='M 298.825,37.3329 L 306.508,23.9236' style='fill:none;fill-rule:evenodd;stroke:#000000;stroke-width:2.0px;stroke-linecap:butt;stroke-linejoin:miter;stroke-opacity:1' />\n",
       "<path class='bond-9' d='M 298.825,37.3329 L 302.233,26.5322' style='fill:none;fill-rule:evenodd;stroke:#000000;stroke-width:2.0px;stroke-linecap:butt;stroke-linejoin:miter;stroke-opacity:1' />\n",
       "<path class='bond-2' d='M 249.713,45.8329 L 243.677,56.5463' style='fill:none;fill-rule:evenodd;stroke:#000000;stroke-width:2.0px;stroke-linecap:butt;stroke-linejoin:miter;stroke-opacity:1' />\n",
       "<path class='bond-2' d='M 243.677,56.5463 L 237.641,67.2597' style='fill:none;fill-rule:evenodd;stroke:#0000FF;stroke-width:2.0px;stroke-linecap:butt;stroke-linejoin:miter;stroke-opacity:1' />\n",
       "<path class='bond-10' d='M 249.713,45.8329 L 247.088,53.2664' style='fill:none;fill-rule:evenodd;stroke:#000000;stroke-width:2.0px;stroke-linecap:butt;stroke-linejoin:miter;stroke-opacity:1' />\n",
       "<path class='bond-11' d='M 249.713,45.8329 L 236.736,21.6543' style='fill:none;fill-rule:evenodd;stroke:#000000;stroke-width:2.0px;stroke-linecap:butt;stroke-linejoin:miter;stroke-opacity:1' />\n",
       "<path class='bond-3' d='M 226.763,76.5383 L 206.594,81.1325' style='fill:none;fill-rule:evenodd;stroke:#0000FF;stroke-width:2.0px;stroke-linecap:butt;stroke-linejoin:miter;stroke-opacity:1' />\n",
       "<path class='bond-3' d='M 206.594,81.1325 L 186.425,85.7267' style='fill:none;fill-rule:evenodd;stroke:#000000;stroke-width:2.0px;stroke-linecap:butt;stroke-linejoin:miter;stroke-opacity:1' />\n",
       "<path class='bond-5' d='M 238.56,83.2342 L 249.085,99.4183' style='fill:none;fill-rule:evenodd;stroke:#0000FF;stroke-width:2.0px;stroke-linecap:butt;stroke-linejoin:miter;stroke-opacity:1' />\n",
       "<path class='bond-5' d='M 249.085,99.4183 L 259.611,115.602' style='fill:none;fill-rule:evenodd;stroke:#000000;stroke-width:2.0px;stroke-linecap:butt;stroke-linejoin:miter;stroke-opacity:1' />\n",
       "<path class='bond-4' d='M 186.425,85.7267 L 157.122,48.2409' style='fill:none;fill-rule:evenodd;stroke:#000000;stroke-width:2.0px;stroke-linecap:butt;stroke-linejoin:miter;stroke-opacity:1' />\n",
       "<path class='bond-12' d='M 186.425,85.7267 L 179.65,107.364' style='fill:none;fill-rule:evenodd;stroke:#000000;stroke-width:2.0px;stroke-linecap:butt;stroke-linejoin:miter;stroke-opacity:1' />\n",
       "<path class='bond-13' d='M 186.425,85.7267 L 184.966,87.2849' style='fill:none;fill-rule:evenodd;stroke:#000000;stroke-width:2.0px;stroke-linecap:butt;stroke-linejoin:miter;stroke-opacity:1' />\n",
       "<path class='bond-14' d='M 157.122,48.2409 L 128.701,57.0319' style='fill:none;fill-rule:evenodd;stroke:#000000;stroke-width:2.0px;stroke-linecap:butt;stroke-linejoin:miter;stroke-opacity:1' />\n",
       "<path class='bond-15' d='M 157.122,48.2409 L 160.222,44.9095' style='fill:none;fill-rule:evenodd;stroke:#000000;stroke-width:2.0px;stroke-linecap:butt;stroke-linejoin:miter;stroke-opacity:1' />\n",
       "<path class='bond-16' d='M 157.122,48.2409 L 159.408,27.0429' style='fill:none;fill-rule:evenodd;stroke:#000000;stroke-width:2.0px;stroke-linecap:butt;stroke-linejoin:miter;stroke-opacity:1' />\n",
       "<path class='bond-6' d='M 259.611,115.602 L 308.329,104.255' style='fill:none;fill-rule:evenodd;stroke:#000000;stroke-width:2.0px;stroke-linecap:butt;stroke-linejoin:miter;stroke-opacity:1' />\n",
       "<path class='bond-17' d='M 259.611,115.602 L 256.655,127.44' style='fill:none;fill-rule:evenodd;stroke:#000000;stroke-width:2.0px;stroke-linecap:butt;stroke-linejoin:miter;stroke-opacity:1' />\n",
       "<path class='bond-18' d='M 259.611,115.602 L 253.319,128.683' style='fill:none;fill-rule:evenodd;stroke:#000000;stroke-width:2.0px;stroke-linecap:butt;stroke-linejoin:miter;stroke-opacity:1' />\n",
       "<path class='bond-19' d='M 308.329,104.255 L 311.618,95.7254' style='fill:none;fill-rule:evenodd;stroke:#000000;stroke-width:2.0px;stroke-linecap:butt;stroke-linejoin:miter;stroke-opacity:1' />\n",
       "<path class='bond-20' d='M 308.329,104.255 L 322.723,127.221' style='fill:none;fill-rule:evenodd;stroke:#000000;stroke-width:2.0px;stroke-linecap:butt;stroke-linejoin:miter;stroke-opacity:1' />\n",
       "<path  class='atom-0' d='M 316.185 77.1866\n",
       "Q 316.185 73.8426, 317.837 71.9739\n",
       "Q 319.49 70.1052, 322.578 70.1052\n",
       "Q 325.666 70.1052, 327.319 71.9739\n",
       "Q 328.971 73.8426, 328.971 77.1866\n",
       "Q 328.971 80.5699, 327.299 82.4976\n",
       "Q 325.627 84.4057, 322.578 84.4057\n",
       "Q 319.509 84.4057, 317.837 82.4976\n",
       "Q 316.185 80.5896, 316.185 77.1866\n",
       "M 322.578 82.832\n",
       "Q 324.702 82.832, 325.843 81.4158\n",
       "Q 327.004 79.9798, 327.004 77.1866\n",
       "Q 327.004 74.4524, 325.843 73.0755\n",
       "Q 324.702 71.6789, 322.578 71.6789\n",
       "Q 320.454 71.6789, 319.293 73.0558\n",
       "Q 318.152 74.4327, 318.152 77.1866\n",
       "Q 318.152 79.9995, 319.293 81.4158\n",
       "Q 320.454 82.832, 322.578 82.832\n",
       "' fill='#FF0000'/>\n",
       "<path  class='atom-3' d='M 230.167 68.0984\n",
       "L 234.73 75.4749\n",
       "Q 235.183 76.2027, 235.91 77.5206\n",
       "Q 236.638 78.8385, 236.677 78.9172\n",
       "L 236.677 68.0984\n",
       "L 238.526 68.0984\n",
       "L 238.526 82.0252\n",
       "L 236.618 82.0252\n",
       "L 231.72 73.9603\n",
       "Q 231.15 73.0161, 230.54 71.9342\n",
       "Q 229.95 70.8523, 229.773 70.5179\n",
       "L 229.773 82.0252\n",
       "L 227.963 82.0252\n",
       "L 227.963 68.0984\n",
       "L 230.167 68.0984\n",
       "' fill='#0000FF'/>\n",
       "<path  class='atom-8' d='M 305.395 9.39251\n",
       "L 307.283 9.39251\n",
       "L 307.283 15.3133\n",
       "L 314.404 15.3133\n",
       "L 314.404 9.39251\n",
       "L 316.292 9.39251\n",
       "L 316.292 23.3192\n",
       "L 314.404 23.3192\n",
       "L 314.404 16.887\n",
       "L 307.283 16.887\n",
       "L 307.283 23.3192\n",
       "L 305.395 23.3192\n",
       "L 305.395 9.39251\n",
       "' fill='#000000'/>\n",
       "<path  class='atom-9' d='M 299.133 12.1272\n",
       "L 301.021 12.1272\n",
       "L 301.021 18.0481\n",
       "L 308.142 18.0481\n",
       "L 308.142 12.1272\n",
       "L 310.03 12.1272\n",
       "L 310.03 26.054\n",
       "L 308.142 26.054\n",
       "L 308.142 19.6217\n",
       "L 301.021 19.6217\n",
       "L 301.021 26.054\n",
       "L 299.133 26.054\n",
       "L 299.133 12.1272\n",
       "' fill='#000000'/>\n",
       "<path  class='atom-10' d='M 239.041 53.6585\n",
       "L 240.929 53.6585\n",
       "L 240.929 59.5794\n",
       "L 248.05 59.5794\n",
       "L 248.05 53.6585\n",
       "L 249.939 53.6585\n",
       "L 249.939 67.5853\n",
       "L 248.05 67.5853\n",
       "L 248.05 61.153\n",
       "L 240.929 61.153\n",
       "L 240.929 67.5853\n",
       "L 239.041 67.5853\n",
       "L 239.041 53.6585\n",
       "' fill='#000000'/>\n",
       "<path  class='atom-11' d='M 227.062 6.81818\n",
       "L 228.95 6.81818\n",
       "L 228.95 12.739\n",
       "L 236.071 12.739\n",
       "L 236.071 6.81818\n",
       "L 237.959 6.81818\n",
       "L 237.959 20.7449\n",
       "L 236.071 20.7449\n",
       "L 236.071 14.3126\n",
       "L 228.95 14.3126\n",
       "L 228.95 20.7449\n",
       "L 227.062 20.7449\n",
       "L 227.062 6.81818\n",
       "' fill='#000000'/>\n",
       "<path  class='atom-12' d='M 171.78 108.134\n",
       "L 173.669 108.134\n",
       "L 173.669 114.055\n",
       "L 180.789 114.055\n",
       "L 180.789 108.134\n",
       "L 182.678 108.134\n",
       "L 182.678 122.06\n",
       "L 180.789 122.06\n",
       "L 180.789 115.628\n",
       "L 173.669 115.628\n",
       "L 173.669 122.06\n",
       "L 171.78 122.06\n",
       "L 171.78 108.134\n",
       "' fill='#000000'/>\n",
       "<path  class='atom-13' d='M 173.806 86.423\n",
       "L 175.695 86.423\n",
       "L 175.695 92.3438\n",
       "L 182.815 92.3438\n",
       "L 182.815 86.423\n",
       "L 184.704 86.423\n",
       "L 184.704 100.35\n",
       "L 182.815 100.35\n",
       "L 182.815 93.9175\n",
       "L 175.695 93.9175\n",
       "L 175.695 100.35\n",
       "L 173.806 100.35\n",
       "L 173.806 86.423\n",
       "' fill='#000000'/>\n",
       "<path  class='atom-14' d='M 116.894 52.0354\n",
       "L 118.782 52.0354\n",
       "L 118.782 57.9562\n",
       "L 125.903 57.9562\n",
       "L 125.903 52.0354\n",
       "L 127.791 52.0354\n",
       "L 127.791 65.9621\n",
       "L 125.903 65.9621\n",
       "L 125.903 59.5299\n",
       "L 118.782 59.5299\n",
       "L 118.782 65.9621\n",
       "L 116.894 65.9621\n",
       "L 116.894 52.0354\n",
       "' fill='#000000'/>\n",
       "<path  class='atom-15' d='M 160.548 31.7403\n",
       "L 162.436 31.7403\n",
       "L 162.436 37.6611\n",
       "L 169.557 37.6611\n",
       "L 169.557 31.7403\n",
       "L 171.445 31.7403\n",
       "L 171.445 45.667\n",
       "L 169.557 45.667\n",
       "L 169.557 39.2348\n",
       "L 162.436 39.2348\n",
       "L 162.436 45.667\n",
       "L 160.548 45.667\n",
       "L 160.548 31.7403\n",
       "' fill='#000000'/>\n",
       "<path  class='atom-16' d='M 154.789 12.3898\n",
       "L 156.677 12.3898\n",
       "L 156.677 18.3107\n",
       "L 163.798 18.3107\n",
       "L 163.798 12.3898\n",
       "L 165.686 12.3898\n",
       "L 165.686 26.3166\n",
       "L 163.798 26.3166\n",
       "L 163.798 19.8843\n",
       "L 156.677 19.8843\n",
       "L 156.677 26.3166\n",
       "L 154.789 26.3166\n",
       "L 154.789 12.3898\n",
       "' fill='#000000'/>\n",
       "<path  class='atom-17' d='M 249.343 127.938\n",
       "L 251.231 127.938\n",
       "L 251.231 133.859\n",
       "L 258.352 133.859\n",
       "L 258.352 127.938\n",
       "L 260.241 127.938\n",
       "L 260.241 141.864\n",
       "L 258.352 141.864\n",
       "L 258.352 135.432\n",
       "L 251.231 135.432\n",
       "L 251.231 141.864\n",
       "L 249.343 141.864\n",
       "L 249.343 127.938\n",
       "' fill='#000000'/>\n",
       "<path  class='atom-18' d='M 244.246 129.255\n",
       "L 246.135 129.255\n",
       "L 246.135 135.176\n",
       "L 253.255 135.176\n",
       "L 253.255 129.255\n",
       "L 255.144 129.255\n",
       "L 255.144 143.182\n",
       "L 253.255 143.182\n",
       "L 253.255 136.75\n",
       "L 246.135 136.75\n",
       "L 246.135 143.182\n",
       "L 244.246 143.182\n",
       "L 244.246 129.255\n",
       "' fill='#000000'/>\n",
       "<path  class='atom-19' d='M 309.019 81.3721\n",
       "L 310.907 81.3721\n",
       "L 310.907 87.2929\n",
       "L 318.028 87.2929\n",
       "L 318.028 81.3721\n",
       "L 319.916 81.3721\n",
       "L 319.916 95.2988\n",
       "L 318.028 95.2988\n",
       "L 318.028 88.8666\n",
       "L 310.907 88.8666\n",
       "L 310.907 95.2988\n",
       "L 309.019 95.2988\n",
       "L 309.019 81.3721\n",
       "' fill='#000000'/>\n",
       "<path  class='atom-20' d='M 322.209 128.131\n",
       "L 324.097 128.131\n",
       "L 324.097 134.052\n",
       "L 331.218 134.052\n",
       "L 331.218 128.131\n",
       "L 333.106 128.131\n",
       "L 333.106 142.058\n",
       "L 331.218 142.058\n",
       "L 331.218 135.626\n",
       "L 324.097 135.626\n",
       "L 324.097 142.058\n",
       "L 322.209 142.058\n",
       "L 322.209 128.131\n",
       "' fill='#000000'/>\n",
       "</svg>\n"
      ],
      "text/plain": [
       "<rdkit.Chem.rdchem.Mol at 0x7fc828d6d300>"
      ]
     },
     "execution_count": 53,
     "metadata": {},
     "output_type": "execute_result"
    }
   ],
   "source": [
    "m"
   ]
  },
  {
   "cell_type": "code",
   "execution_count": 54,
   "metadata": {},
   "outputs": [
    {
     "data": {
      "text/plain": [
       "0"
      ]
     },
     "execution_count": 54,
     "metadata": {},
     "output_type": "execute_result"
    }
   ],
   "source": [
    "AllChem.MMFFOptimizeMolecule(m)"
   ]
  },
  {
   "cell_type": "code",
   "execution_count": 55,
   "metadata": {},
   "outputs": [
    {
     "data": {
      "image/png": "[encoded data removed]",
      "image/svg+xml": [
       "<?xml version='1.0' encoding='iso-8859-1'?>\n",
       "<svg version='1.1' baseProfile='full'\n",
       "              xmlns='http://www.w3.org/2000/svg'\n",
       "                      xmlns:rdkit='http://www.rdkit.org/xml'\n",
       "                      xmlns:xlink='http://www.w3.org/1999/xlink'\n",
       "                  xml:space='preserve'\n",
       "width='450px' height='150px' viewBox='0 0 450 150'>\n",
       "<!-- END OF HEADER -->\n",
       "<rect style='opacity:1.0;fill:#FFFFFF;stroke:none' width='450' height='150' x='0' y='0'> </rect>\n",
       "<path class='bond-0' d='M 316.377,67.6205 L 306.819,52.0004' style='fill:none;fill-rule:evenodd;stroke:#FF0000;stroke-width:2.0px;stroke-linecap:butt;stroke-linejoin:miter;stroke-opacity:1' />\n",
       "<path class='bond-0' d='M 306.819,52.0004 L 297.261,36.3804' style='fill:none;fill-rule:evenodd;stroke:#000000;stroke-width:2.0px;stroke-linecap:butt;stroke-linejoin:miter;stroke-opacity:1' />\n",
       "<path class='bond-7' d='M 317.523,83.6163 L 312.522,94.0768' style='fill:none;fill-rule:evenodd;stroke:#FF0000;stroke-width:2.0px;stroke-linecap:butt;stroke-linejoin:miter;stroke-opacity:1' />\n",
       "<path class='bond-7' d='M 312.522,94.0768 L 307.521,104.537' style='fill:none;fill-rule:evenodd;stroke:#000000;stroke-width:2.0px;stroke-linecap:butt;stroke-linejoin:miter;stroke-opacity:1' />\n",
       "<path class='bond-1' d='M 297.261,36.3804 L 248.643,44.6675' style='fill:none;fill-rule:evenodd;stroke:#000000;stroke-width:2.0px;stroke-linecap:butt;stroke-linejoin:miter;stroke-opacity:1' />\n",
       "<path class='bond-8' d='M 297.261,36.3804 L 304.339,22.9913' style='fill:none;fill-rule:evenodd;stroke:#000000;stroke-width:2.0px;stroke-linecap:butt;stroke-linejoin:miter;stroke-opacity:1' />\n",
       "<path class='bond-9' d='M 297.261,36.3804 L 301.358,27.3393' style='fill:none;fill-rule:evenodd;stroke:#000000;stroke-width:2.0px;stroke-linecap:butt;stroke-linejoin:miter;stroke-opacity:1' />\n",
       "<path class='bond-2' d='M 248.643,44.6675 L 242.769,55.9255' style='fill:none;fill-rule:evenodd;stroke:#000000;stroke-width:2.0px;stroke-linecap:butt;stroke-linejoin:miter;stroke-opacity:1' />\n",
       "<path class='bond-2' d='M 242.769,55.9255 L 236.895,67.1835' style='fill:none;fill-rule:evenodd;stroke:#0000FF;stroke-width:2.0px;stroke-linecap:butt;stroke-linejoin:miter;stroke-opacity:1' />\n",
       "<path class='bond-10' d='M 248.643,44.6675 L 245.748,50.6673' style='fill:none;fill-rule:evenodd;stroke:#000000;stroke-width:2.0px;stroke-linecap:butt;stroke-linejoin:miter;stroke-opacity:1' />\n",
       "<path class='bond-11' d='M 248.643,44.6675 L 236.212,21.3742' style='fill:none;fill-rule:evenodd;stroke:#000000;stroke-width:2.0px;stroke-linecap:butt;stroke-linejoin:miter;stroke-opacity:1' />\n",
       "<path class='bond-3' d='M 226.52,76.3515 L 206.809,80.9294' style='fill:none;fill-rule:evenodd;stroke:#0000FF;stroke-width:2.0px;stroke-linecap:butt;stroke-linejoin:miter;stroke-opacity:1' />\n",
       "<path class='bond-3' d='M 206.809,80.9294 L 187.097,85.5073' style='fill:none;fill-rule:evenodd;stroke:#000000;stroke-width:2.0px;stroke-linecap:butt;stroke-linejoin:miter;stroke-opacity:1' />\n",
       "<path class='bond-5' d='M 238.217,82.9036 L 248.731,98.7292' style='fill:none;fill-rule:evenodd;stroke:#0000FF;stroke-width:2.0px;stroke-linecap:butt;stroke-linejoin:miter;stroke-opacity:1' />\n",
       "<path class='bond-5' d='M 248.731,98.7292 L 259.246,114.555' style='fill:none;fill-rule:evenodd;stroke:#000000;stroke-width:2.0px;stroke-linecap:butt;stroke-linejoin:miter;stroke-opacity:1' />\n",
       "<path class='bond-4' d='M 187.097,85.5073 L 157.44,47.4446' style='fill:none;fill-rule:evenodd;stroke:#000000;stroke-width:2.0px;stroke-linecap:butt;stroke-linejoin:miter;stroke-opacity:1' />\n",
       "<path class='bond-12' d='M 187.097,85.5073 L 180.932,103.475' style='fill:none;fill-rule:evenodd;stroke:#000000;stroke-width:2.0px;stroke-linecap:butt;stroke-linejoin:miter;stroke-opacity:1' />\n",
       "<path class='bond-13' d='M 187.097,85.5073 L 184.359,90.9434' style='fill:none;fill-rule:evenodd;stroke:#000000;stroke-width:2.0px;stroke-linecap:butt;stroke-linejoin:miter;stroke-opacity:1' />\n",
       "<path class='bond-14' d='M 157.44,47.4446 L 130.062,56.1233' style='fill:none;fill-rule:evenodd;stroke:#000000;stroke-width:2.0px;stroke-linecap:butt;stroke-linejoin:miter;stroke-opacity:1' />\n",
       "<path class='bond-15' d='M 157.44,47.4446 L 160.6,40.6758' style='fill:none;fill-rule:evenodd;stroke:#000000;stroke-width:2.0px;stroke-linecap:butt;stroke-linejoin:miter;stroke-opacity:1' />\n",
       "<path class='bond-16' d='M 157.44,47.4446 L 159.754,29.6343' style='fill:none;fill-rule:evenodd;stroke:#000000;stroke-width:2.0px;stroke-linecap:butt;stroke-linejoin:miter;stroke-opacity:1' />\n",
       "<path class='bond-6' d='M 259.246,114.555 L 307.521,104.537' style='fill:none;fill-rule:evenodd;stroke:#000000;stroke-width:2.0px;stroke-linecap:butt;stroke-linejoin:miter;stroke-opacity:1' />\n",
       "<path class='bond-17' d='M 259.246,114.555 L 256.027,123.987' style='fill:none;fill-rule:evenodd;stroke:#000000;stroke-width:2.0px;stroke-linecap:butt;stroke-linejoin:miter;stroke-opacity:1' />\n",
       "<path class='bond-18' d='M 259.246,114.555 L 253.204,128.914' style='fill:none;fill-rule:evenodd;stroke:#000000;stroke-width:2.0px;stroke-linecap:butt;stroke-linejoin:miter;stroke-opacity:1' />\n",
       "<path class='bond-19' d='M 307.521,104.537 L 311.209,97.7851' style='fill:none;fill-rule:evenodd;stroke:#000000;stroke-width:2.0px;stroke-linecap:butt;stroke-linejoin:miter;stroke-opacity:1' />\n",
       "<path class='bond-20' d='M 307.521,104.537 L 321.329,126.546' style='fill:none;fill-rule:evenodd;stroke:#000000;stroke-width:2.0px;stroke-linecap:butt;stroke-linejoin:miter;stroke-opacity:1' />\n",
       "<path  class='atom-0' d='M 315.035 75.7271\n",
       "Q 315.035 72.443, 316.658 70.6078\n",
       "Q 318.28 68.7726, 321.313 68.7726\n",
       "Q 324.346 68.7726, 325.969 70.6078\n",
       "Q 327.592 72.443, 327.592 75.7271\n",
       "Q 327.592 79.0498, 325.95 80.943\n",
       "Q 324.308 82.8169, 321.313 82.8169\n",
       "Q 318.3 82.8169, 316.658 80.943\n",
       "Q 315.035 79.0691, 315.035 75.7271\n",
       "M 321.313 81.2714\n",
       "Q 323.4 81.2714, 324.52 79.8805\n",
       "Q 325.66 78.4703, 325.66 75.7271\n",
       "Q 325.66 73.0419, 324.52 71.6896\n",
       "Q 323.4 70.318, 321.313 70.318\n",
       "Q 319.227 70.318, 318.087 71.6703\n",
       "Q 316.967 73.0226, 316.967 75.7271\n",
       "Q 316.967 78.4896, 318.087 79.8805\n",
       "Q 319.227 81.2714, 321.313 81.2714\n",
       "' fill='#FF0000'/>\n",
       "<path  class='atom-3' d='M 229.859 68.0353\n",
       "L 234.341 75.2796\n",
       "Q 234.785 75.9944, 235.5 77.2887\n",
       "Q 236.214 78.583, 236.253 78.6603\n",
       "L 236.253 68.0353\n",
       "L 238.069 68.0353\n",
       "L 238.069 81.7126\n",
       "L 236.195 81.7126\n",
       "L 231.385 73.7921\n",
       "Q 230.825 72.8648, 230.226 71.8023\n",
       "Q 229.646 70.7398, 229.472 70.4114\n",
       "L 229.472 81.7126\n",
       "L 227.695 81.7126\n",
       "L 227.695 68.0353\n",
       "L 229.859 68.0353\n",
       "' fill='#0000FF'/>\n",
       "<path  class='atom-8' d='M 302.915 8.72539\n",
       "L 304.769 8.72539\n",
       "L 304.769 14.5402\n",
       "L 311.763 14.5402\n",
       "L 311.763 8.72539\n",
       "L 313.617 8.72539\n",
       "L 313.617 22.4027\n",
       "L 311.763 22.4027\n",
       "L 311.763 16.0856\n",
       "L 304.769 16.0856\n",
       "L 304.769 22.4027\n",
       "L 302.915 22.4027\n",
       "L 302.915 8.72539\n",
       "' fill='#000000'/>\n",
       "<path  class='atom-9' d='M 299.308 13.2139\n",
       "L 301.163 13.2139\n",
       "L 301.163 19.0287\n",
       "L 308.156 19.0287\n",
       "L 308.156 13.2139\n",
       "L 310.01 13.2139\n",
       "L 310.01 26.8912\n",
       "L 308.156 26.8912\n",
       "L 308.156 20.5742\n",
       "L 301.163 20.5742\n",
       "L 301.163 26.8912\n",
       "L 299.308 26.8912\n",
       "L 299.308 13.2139\n",
       "' fill='#000000'/>\n",
       "<path  class='atom-10' d='M 236.92 51.0339\n",
       "L 238.775 51.0339\n",
       "L 238.775 56.8486\n",
       "L 245.768 56.8486\n",
       "L 245.768 51.0339\n",
       "L 247.623 51.0339\n",
       "L 247.623 64.7111\n",
       "L 245.768 64.7111\n",
       "L 245.768 58.3941\n",
       "L 238.775 58.3941\n",
       "L 238.775 64.7111\n",
       "L 236.92 64.7111\n",
       "L 236.92 51.0339\n",
       "' fill='#000000'/>\n",
       "<path  class='atom-11' d='M 226.742 6.81818\n",
       "L 228.596 6.81818\n",
       "L 228.596 12.6329\n",
       "L 235.589 12.6329\n",
       "L 235.589 6.81818\n",
       "L 237.444 6.81818\n",
       "L 237.444 20.4954\n",
       "L 235.589 20.4954\n",
       "L 235.589 14.1784\n",
       "L 228.596 14.1784\n",
       "L 228.596 20.4954\n",
       "L 226.742 20.4954\n",
       "L 226.742 6.81818\n",
       "' fill='#000000'/>\n",
       "<path  class='atom-12' d='M 173.003 104.149\n",
       "L 174.858 104.149\n",
       "L 174.858 109.963\n",
       "L 181.851 109.963\n",
       "L 181.851 104.149\n",
       "L 183.706 104.149\n",
       "L 183.706 117.826\n",
       "L 181.851 117.826\n",
       "L 181.851 111.509\n",
       "L 174.858 111.509\n",
       "L 174.858 117.826\n",
       "L 173.003 117.826\n",
       "L 173.003 104.149\n",
       "' fill='#000000'/>\n",
       "<path  class='atom-13' d='M 175.384 91.2969\n",
       "L 177.239 91.2969\n",
       "L 177.239 97.1117\n",
       "L 184.232 97.1117\n",
       "L 184.232 91.2969\n",
       "L 186.087 91.2969\n",
       "L 186.087 104.974\n",
       "L 184.232 104.974\n",
       "L 184.232 98.6571\n",
       "L 177.239 98.6571\n",
       "L 177.239 104.974\n",
       "L 175.384 104.974\n",
       "L 175.384 91.2969\n",
       "' fill='#000000'/>\n",
       "<path  class='atom-14' d='M 118.479 51.2605\n",
       "L 120.333 51.2605\n",
       "L 120.333 57.0752\n",
       "L 127.326 57.0752\n",
       "L 127.326 51.2605\n",
       "L 129.181 51.2605\n",
       "L 129.181 64.9377\n",
       "L 127.326 64.9377\n",
       "L 127.326 58.6207\n",
       "L 120.333 58.6207\n",
       "L 120.333 64.9377\n",
       "L 118.479 64.9377\n",
       "L 118.479 51.2605\n",
       "' fill='#000000'/>\n",
       "<path  class='atom-15' d='M 158.622 26.6125\n",
       "L 160.476 26.6125\n",
       "L 160.476 32.4273\n",
       "L 167.47 32.4273\n",
       "L 167.47 26.6125\n",
       "L 169.324 26.6125\n",
       "L 169.324 40.2898\n",
       "L 167.47 40.2898\n",
       "L 167.47 33.9727\n",
       "L 160.476 33.9727\n",
       "L 160.476 40.2898\n",
       "L 158.622 40.2898\n",
       "L 158.622 26.6125\n",
       "' fill='#000000'/>\n",
       "<path  class='atom-16' d='M 155.375 15.3195\n",
       "L 157.23 15.3195\n",
       "L 157.23 21.1343\n",
       "L 164.223 21.1343\n",
       "L 164.223 15.3195\n",
       "L 166.077 15.3195\n",
       "L 166.077 28.9968\n",
       "L 164.223 28.9968\n",
       "L 164.223 22.6797\n",
       "L 157.23 22.6797\n",
       "L 157.23 28.9968\n",
       "L 155.375 28.9968\n",
       "L 155.375 15.3195\n",
       "' fill='#000000'/>\n",
       "<path  class='atom-17' d='M 248.192 124.428\n",
       "L 250.046 124.428\n",
       "L 250.046 130.243\n",
       "L 257.039 130.243\n",
       "L 257.039 124.428\n",
       "L 258.894 124.428\n",
       "L 258.894 138.106\n",
       "L 257.039 138.106\n",
       "L 257.039 131.789\n",
       "L 250.046 131.789\n",
       "L 250.046 138.106\n",
       "L 248.192 138.106\n",
       "L 248.192 124.428\n",
       "' fill='#000000'/>\n",
       "<path  class='atom-18' d='M 244.727 129.505\n",
       "L 246.582 129.505\n",
       "L 246.582 135.319\n",
       "L 253.575 135.319\n",
       "L 253.575 129.505\n",
       "L 255.429 129.505\n",
       "L 255.429 143.182\n",
       "L 253.575 143.182\n",
       "L 253.575 136.865\n",
       "L 246.582 136.865\n",
       "L 246.582 143.182\n",
       "L 244.727 143.182\n",
       "L 244.727 129.505\n",
       "' fill='#000000'/>\n",
       "<path  class='atom-19' d='M 309.811 83.7093\n",
       "L 311.666 83.7093\n",
       "L 311.666 89.5241\n",
       "L 318.659 89.5241\n",
       "L 318.659 83.7093\n",
       "L 320.513 83.7093\n",
       "L 320.513 97.3865\n",
       "L 318.659 97.3865\n",
       "L 318.659 91.0695\n",
       "L 311.666 91.0695\n",
       "L 311.666 97.3865\n",
       "L 309.811 97.3865\n",
       "L 309.811 83.7093\n",
       "' fill='#000000'/>\n",
       "<path  class='atom-20' d='M 320.819 127.424\n",
       "L 322.674 127.424\n",
       "L 322.674 133.238\n",
       "L 329.667 133.238\n",
       "L 329.667 127.424\n",
       "L 331.521 127.424\n",
       "L 331.521 141.101\n",
       "L 329.667 141.101\n",
       "L 329.667 134.784\n",
       "L 322.674 134.784\n",
       "L 322.674 141.101\n",
       "L 320.819 141.101\n",
       "L 320.819 127.424\n",
       "' fill='#000000'/>\n",
       "</svg>\n"
      ],
      "text/plain": [
       "<rdkit.Chem.rdchem.Mol at 0x7fc828d6d300>"
      ]
     },
     "execution_count": 55,
     "metadata": {},
     "output_type": "execute_result"
    }
   ],
   "source": [
    "m"
   ]
  },
  {
   "cell_type": "markdown",
   "metadata": {},
   "source": [
    "#### Generation of multiple conformers"
   ]
  },
  {
   "cell_type": "markdown",
   "metadata": {},
   "source": [
    "There are a lot of input options. The major ones are the number of conformers and RMS threshold, which will help to discard too similar 3D structures and keep diverse conformers."
   ]
  },
  {
   "cell_type": "code",
   "execution_count": 56,
   "metadata": {},
   "outputs": [],
   "source": [
    "cids = AllChem.EmbedMultipleConfs(m, numConfs=10, pruneRmsThresh=1)"
   ]
  },
  {
   "cell_type": "code",
   "execution_count": 57,
   "metadata": {},
   "outputs": [
    {
     "data": {
      "text/plain": [
       "7"
      ]
     },
     "execution_count": 57,
     "metadata": {},
     "output_type": "execute_result"
    }
   ],
   "source": [
    "len(cids)"
   ]
  },
  {
   "cell_type": "markdown",
   "metadata": {},
   "source": [
    "You may see that from 10 required conformers only 7 were generated. If you will descrese the RMS threshold value more conformers will be kept up to specified maximum value (10)."
   ]
  },
  {
   "cell_type": "markdown",
   "metadata": {},
   "source": [
    "Generated conformers require geometry optimization to produce more reasonable 3D structures."
   ]
  },
  {
   "cell_type": "code",
   "execution_count": 58,
   "metadata": {},
   "outputs": [],
   "source": [
    "for cid in cids:\n",
    "    AllChem.MMFFOptimizeMolecule(m, confId=cid)"
   ]
  },
  {
   "cell_type": "markdown",
   "metadata": {},
   "source": [
    "For conformers you may corresponding return energy values. Since we optimized geometry with MMFF we will use the same force field for energy calculation."
   ]
  },
  {
   "cell_type": "code",
   "execution_count": 59,
   "metadata": {},
   "outputs": [
    {
     "name": "stdout",
     "output_type": "stream",
     "text": [
      "56.52251332961609\n",
      "59.97698534132177\n",
      "64.0923225919524\n",
      "56.52251332520686\n",
      "58.313409642165944\n",
      "58.31340964762803\n",
      "58.31340955740587\n"
     ]
    }
   ],
   "source": [
    "for cid in cids:\n",
    "    ff = AllChem.MMFFGetMoleculeForceField(m, AllChem.MMFFGetMoleculeProperties(m), confId=cid)\n",
    "    print(ff.CalcEnergy())"
   ]
  },
  {
   "cell_type": "markdown",
   "metadata": {},
   "source": [
    "## Substructure search"
   ]
  },
  {
   "cell_type": "code",
   "execution_count": 60,
   "metadata": {},
   "outputs": [
    {
     "data": {
      "image/png": "[encoded data removed]",
      "image/svg+xml": [
       "<?xml version='1.0' encoding='iso-8859-1'?>\n",
       "<svg version='1.1' baseProfile='full'\n",
       "              xmlns='http://www.w3.org/2000/svg'\n",
       "                      xmlns:rdkit='http://www.rdkit.org/xml'\n",
       "                      xmlns:xlink='http://www.w3.org/1999/xlink'\n",
       "                  xml:space='preserve'\n",
       "width='450px' height='150px' viewBox='0 0 450 150'>\n",
       "<!-- END OF HEADER -->\n",
       "<rect style='opacity:1.0;fill:#FFFFFF;stroke:none' width='450' height='150' x='0' y='0'> </rect>\n",
       "<path class='bond-0' d='M 104.673,78.6974 L 113.417,50.612' style='fill:none;fill-rule:evenodd;stroke:#FF0000;stroke-width:2.0px;stroke-linecap:butt;stroke-linejoin:miter;stroke-opacity:1' />\n",
       "<path class='bond-0' d='M 113.417,50.612 L 122.16,22.5266' style='fill:none;fill-rule:evenodd;stroke:#000000;stroke-width:2.0px;stroke-linecap:butt;stroke-linejoin:miter;stroke-opacity:1' />\n",
       "<path class='bond-7' d='M 112.003,102.7 L 130.685,122.941' style='fill:none;fill-rule:evenodd;stroke:#FF0000;stroke-width:2.0px;stroke-linecap:butt;stroke-linejoin:miter;stroke-opacity:1' />\n",
       "<path class='bond-7' d='M 130.685,122.941 L 149.368,143.182' style='fill:none;fill-rule:evenodd;stroke:#000000;stroke-width:2.0px;stroke-linecap:butt;stroke-linejoin:miter;stroke-opacity:1' />\n",
       "<path class='bond-1' d='M 122.16,22.5266 L 191.821,6.81818' style='fill:none;fill-rule:evenodd;stroke:#000000;stroke-width:2.0px;stroke-linecap:butt;stroke-linejoin:miter;stroke-opacity:1' />\n",
       "<path class='bond-2' d='M 191.821,6.81818 L 211.31,27.9333' style='fill:none;fill-rule:evenodd;stroke:#000000;stroke-width:2.0px;stroke-linecap:butt;stroke-linejoin:miter;stroke-opacity:1' />\n",
       "<path class='bond-2' d='M 211.31,27.9333 L 230.8,49.0484' style='fill:none;fill-rule:evenodd;stroke:#0000FF;stroke-width:2.0px;stroke-linecap:butt;stroke-linejoin:miter;stroke-opacity:1' />\n",
       "<path class='bond-3' d='M 249.709,57.1595 L 279.812,50.3713' style='fill:none;fill-rule:evenodd;stroke:#0000FF;stroke-width:2.0px;stroke-linecap:butt;stroke-linejoin:miter;stroke-opacity:1' />\n",
       "<path class='bond-3' d='M 279.812,50.3713 L 309.915,43.5831' style='fill:none;fill-rule:evenodd;stroke:#000000;stroke-width:2.0px;stroke-linecap:butt;stroke-linejoin:miter;stroke-opacity:1' />\n",
       "<path class='bond-5' d='M 236.551,71.1884 L 227.79,99.3309' style='fill:none;fill-rule:evenodd;stroke:#0000FF;stroke-width:2.0px;stroke-linecap:butt;stroke-linejoin:miter;stroke-opacity:1' />\n",
       "<path class='bond-5' d='M 227.79,99.3309 L 219.029,127.473' style='fill:none;fill-rule:evenodd;stroke:#000000;stroke-width:2.0px;stroke-linecap:butt;stroke-linejoin:miter;stroke-opacity:1' />\n",
       "<path class='bond-4' d='M 309.915,43.5831 L 358.349,96.0564' style='fill:none;fill-rule:evenodd;stroke:#000000;stroke-width:2.0px;stroke-linecap:butt;stroke-linejoin:miter;stroke-opacity:1' />\n",
       "<path class='bond-6' d='M 219.029,127.473 L 149.368,143.182' style='fill:none;fill-rule:evenodd;stroke:#000000;stroke-width:2.0px;stroke-linecap:butt;stroke-linejoin:miter;stroke-opacity:1' />\n",
       "<path  class='atom-0' d='M 91.6509 90.7656\n",
       "Q 91.6509 85.9097, 94.0503 83.1962\n",
       "Q 96.4496 80.4826, 100.934 80.4826\n",
       "Q 105.419 80.4826, 107.818 83.1962\n",
       "Q 110.217 85.9097, 110.217 90.7656\n",
       "Q 110.217 95.6786, 107.789 98.4778\n",
       "Q 105.362 101.249, 100.934 101.249\n",
       "Q 96.4782 101.249, 94.0503 98.4778\n",
       "Q 91.6509 95.7071, 91.6509 90.7656\n",
       "M 100.934 98.9634\n",
       "Q 104.019 98.9634, 105.676 96.9068\n",
       "Q 107.361 94.8217, 107.361 90.7656\n",
       "Q 107.361 86.7952, 105.676 84.7958\n",
       "Q 104.019 82.7677, 100.934 82.7677\n",
       "Q 97.8492 82.7677, 96.164 84.7672\n",
       "Q 94.5073 86.7667, 94.5073 90.7656\n",
       "Q 94.5073 94.8502, 96.164 96.9068\n",
       "Q 97.8492 98.9634, 100.934 98.9634\n",
       "' fill='#FF0000'/>\n",
       "<path  class='atom-3' d='M 235.784 49.18\n",
       "L 242.411 59.8914\n",
       "Q 243.068 60.9482, 244.125 62.862\n",
       "Q 245.182 64.7758, 245.239 64.89\n",
       "L 245.239 49.18\n",
       "L 247.924 49.18\n",
       "L 247.924 69.4031\n",
       "L 245.153 69.4031\n",
       "L 238.041 57.692\n",
       "Q 237.213 56.3209, 236.327 54.7499\n",
       "Q 235.47 53.1789, 235.213 52.6933\n",
       "L 235.213 69.4031\n",
       "L 232.585 69.4031\n",
       "L 232.585 49.18\n",
       "L 235.784 49.18\n",
       "' fill='#0000FF'/>\n",
       "</svg>\n"
      ],
      "text/plain": [
       "<rdkit.Chem.rdchem.Mol at 0x7fc828baa990>"
      ]
     },
     "execution_count": 60,
     "metadata": {},
     "output_type": "execute_result"
    }
   ],
   "source": [
    "m = Chem.MolFromSmiles('O1CCN(CC)CC1')\n",
    "m"
   ]
  },
  {
   "cell_type": "code",
   "execution_count": 61,
   "metadata": {},
   "outputs": [],
   "source": [
    "q = Chem.MolFromSmarts('CCN')"
   ]
  },
  {
   "cell_type": "code",
   "execution_count": 62,
   "metadata": {},
   "outputs": [
    {
     "data": {
      "text/plain": [
       "True"
      ]
     },
     "execution_count": 62,
     "metadata": {},
     "output_type": "execute_result"
    }
   ],
   "source": [
    "m.HasSubstructMatch(q)"
   ]
  },
  {
   "cell_type": "code",
   "execution_count": 63,
   "metadata": {},
   "outputs": [
    {
     "data": {
      "text/plain": [
       "(1, 2, 3)"
      ]
     },
     "execution_count": 63,
     "metadata": {},
     "output_type": "execute_result"
    }
   ],
   "source": [
    "m.GetSubstructMatch(q)"
   ]
  },
  {
   "cell_type": "code",
   "execution_count": 64,
   "metadata": {},
   "outputs": [
    {
     "data": {
      "text/plain": [
       "((1, 2, 3), (5, 4, 3), (7, 6, 3))"
      ]
     },
     "execution_count": 64,
     "metadata": {},
     "output_type": "execute_result"
    }
   ],
   "source": [
    "m.GetSubstructMatches(q)"
   ]
  },
  {
   "cell_type": "markdown",
   "metadata": {},
   "source": [
    "<font color=\"red\">TASK 1</font>. Write a script to retrive compound names having carboxylic acid group from the sdf file - `logBB_big.sdf`.  \n",
    "<font color=\"red\">TASK 2</font>. Write a script to retrive compound names having more than one carboxylic acid group."
   ]
  },
  {
   "cell_type": "code",
   "execution_count": 65,
   "metadata": {},
   "outputs": [
    {
     "name": "stdout",
     "output_type": "stream",
     "text": [
      "MolID_208\n",
      "MolID_215\n",
      "MolID_280\n",
      "MolID_281\n",
      "MolID_317\n",
      "MolID_172\n",
      "MolID_71\n",
      "MolID_41\n",
      "MolID_180\n",
      "MolID_118\n",
      "MolID_160\n",
      "MolID_184\n",
      "MolID_101\n",
      "MolID_152\n",
      "MolID_100\n"
     ]
    },
    {
     "name": "stderr",
     "output_type": "stream",
     "text": [
      "RDKit ERROR: [13:55:16] non-ring atom 4 marked aromatic\n",
      "RDKit ERROR: [13:55:16] ERROR: Could not sanitize molecule ending on line 6561\n",
      "RDKit ERROR: [13:55:16] ERROR: non-ring atom 4 marked aromatic\n",
      "RDKit ERROR: [13:55:16] non-ring atom 0 marked aromatic\n",
      "RDKit ERROR: [13:55:16] ERROR: Could not sanitize molecule ending on line 15523\n",
      "RDKit ERROR: [13:55:16] ERROR: non-ring atom 0 marked aromatic\n",
      "RDKit ERROR: [13:55:16] non-ring atom 16 marked aromatic\n",
      "RDKit ERROR: [13:55:16] ERROR: Could not sanitize molecule ending on line 17846\n",
      "RDKit ERROR: [13:55:16] ERROR: non-ring atom 16 marked aromatic\n",
      "RDKit ERROR: [13:55:16] non-ring atom 16 marked aromatic\n",
      "RDKit ERROR: [13:55:16] ERROR: Could not sanitize molecule ending on line 19055\n",
      "RDKit ERROR: [13:55:16] ERROR: non-ring atom 16 marked aromatic\n",
      "RDKit ERROR: [13:55:16] non-ring atom 16 marked aromatic\n",
      "RDKit ERROR: [13:55:16] ERROR: Could not sanitize molecule ending on line 19968\n",
      "RDKit ERROR: [13:55:16] ERROR: non-ring atom 16 marked aromatic\n",
      "RDKit ERROR: [13:55:16] non-ring atom 18 marked aromatic\n",
      "RDKit ERROR: [13:55:16] ERROR: Could not sanitize molecule ending on line 20965\n",
      "RDKit ERROR: [13:55:16] ERROR: non-ring atom 18 marked aromatic\n",
      "RDKit ERROR: [13:55:16] non-ring atom 20 marked aromatic\n",
      "RDKit ERROR: [13:55:16] ERROR: Could not sanitize molecule ending on line 22625\n",
      "RDKit ERROR: [13:55:16] ERROR: non-ring atom 20 marked aromatic\n",
      "RDKit ERROR: [13:55:16] non-ring atom 18 marked aromatic\n",
      "RDKit ERROR: [13:55:16] ERROR: Could not sanitize molecule ending on line 22844\n",
      "RDKit ERROR: [13:55:16] ERROR: non-ring atom 18 marked aromatic\n",
      "RDKit ERROR: [13:55:16] non-ring atom 19 marked aromatic\n",
      "RDKit ERROR: [13:55:16] ERROR: Could not sanitize molecule ending on line 23484\n",
      "RDKit ERROR: [13:55:16] ERROR: non-ring atom 19 marked aromatic\n",
      "RDKit ERROR: [13:55:16] non-ring atom 12 marked aromatic\n",
      "RDKit ERROR: [13:55:16] ERROR: Could not sanitize molecule ending on line 24286\n",
      "RDKit ERROR: [13:55:16] ERROR: non-ring atom 12 marked aromatic\n",
      "RDKit ERROR: [13:55:16] non-ring atom 23 marked aromatic\n",
      "RDKit ERROR: [13:55:16] ERROR: Could not sanitize molecule ending on line 25470\n",
      "RDKit ERROR: [13:55:16] ERROR: non-ring atom 23 marked aromatic\n",
      "RDKit ERROR: [13:55:16] non-ring atom 26 marked aromatic\n",
      "RDKit ERROR: [13:55:16] ERROR: Could not sanitize molecule ending on line 26268\n"
     ]
    }
   ],
   "source": [
    "for m in Chem.SDMolSupplier('data/logBB_big.sdf'):\n",
    "    if m is not None:\n",
    "        if m.HasSubstructMatch(Chem.MolFromSmarts('C(=O)[OH]')):\n",
    "            print(m.GetProp(\"_Name\"))"
   ]
  },
  {
   "cell_type": "markdown",
   "metadata": {
    "collapsed": true
   },
   "source": [
    "## Descriptors calculation"
   ]
  },
  {
   "cell_type": "markdown",
   "metadata": {},
   "source": [
    "There are a lot of descriptors available in RDKit - http://www.rdkit.org/docs/GettingStartedInPython.html#list-of-available-descriptors"
   ]
  },
  {
   "cell_type": "code",
   "execution_count": 66,
   "metadata": {},
   "outputs": [],
   "source": [
    "from rdkit.Chem import Descriptors\n",
    "m = Chem.MolFromSmiles('c1ccncc1C(=O)O')"
   ]
  },
  {
   "cell_type": "code",
   "execution_count": 67,
   "metadata": {},
   "outputs": [
    {
     "data": {
      "text/plain": [
       "50.19"
      ]
     },
     "execution_count": 67,
     "metadata": {},
     "output_type": "execute_result"
    }
   ],
   "source": [
    "Descriptors.TPSA(m)"
   ]
  },
  {
   "cell_type": "code",
   "execution_count": 68,
   "metadata": {},
   "outputs": [
    {
     "data": {
      "text/plain": [
       "0.7797999999999998"
      ]
     },
     "execution_count": 68,
     "metadata": {},
     "output_type": "execute_result"
    }
   ],
   "source": [
    "Descriptors.MolLogP(m)"
   ]
  },
  {
   "cell_type": "markdown",
   "metadata": {},
   "source": [
    "Charges are computed differently"
   ]
  },
  {
   "cell_type": "code",
   "execution_count": 69,
   "metadata": {},
   "outputs": [
    {
     "name": "stdout",
     "output_type": "stream",
     "text": [
      "atom C id=0 has -0.044587 charge\n",
      "atom C id=1 has -0.042959 charge\n",
      "atom C id=2 has 0.026786 charge\n",
      "atom N id=3 has -0.263835 charge\n",
      "atom C id=4 has 0.041281 charge\n",
      "atom C id=5 has 0.077736 charge\n",
      "atom C id=6 has 0.336759 charge\n",
      "atom O id=7 has -0.246333 charge\n",
      "atom O id=8 has -0.477599 charge\n"
     ]
    }
   ],
   "source": [
    "AllChem.ComputeGasteigerCharges(m)\n",
    "for a in m.GetAtoms():\n",
    "    print(\"atom %s id=%i has %f charge\" % (a.GetSymbol(), a.GetIdx(), float(a.GetProp('_GasteigerCharge'))))"
   ]
  },
  {
   "cell_type": "markdown",
   "metadata": {
    "collapsed": true
   },
   "source": [
    "## Fingerprints"
   ]
  },
  {
   "cell_type": "markdown",
   "metadata": {
    "collapsed": true
   },
   "source": [
    "### Topological fingerprints"
   ]
  },
  {
   "cell_type": "markdown",
   "metadata": {
    "collapsed": true
   },
   "source": [
    "They are topological paths between pairs of atoms on a specified distance (defaults: min 1, max 7)"
   ]
  },
  {
   "cell_type": "code",
   "execution_count": 70,
   "metadata": {},
   "outputs": [],
   "source": [
    "from rdkit import DataStructs\n",
    "from rdkit.Chem.Fingerprints import FingerprintMols"
   ]
  },
  {
   "cell_type": "code",
   "execution_count": 71,
   "metadata": {},
   "outputs": [],
   "source": [
    "m1 = Chem.MolFromSmiles(\"CCCCO\")\n",
    "m2 = Chem.MolFromSmiles(\"c1ccccc1CO\")"
   ]
  },
  {
   "cell_type": "code",
   "execution_count": 72,
   "metadata": {},
   "outputs": [],
   "source": [
    "fp1 = FingerprintMols.FingerprintMol(m1)\n",
    "fp2 = FingerprintMols.FingerprintMol(m2)"
   ]
  },
  {
   "cell_type": "code",
   "execution_count": 73,
   "metadata": {},
   "outputs": [
    {
     "data": {
      "text/plain": [
       "0.14"
      ]
     },
     "execution_count": 73,
     "metadata": {},
     "output_type": "execute_result"
    }
   ],
   "source": [
    "DataStructs.FingerprintSimilarity(fp1, fp2)"
   ]
  },
  {
   "cell_type": "markdown",
   "metadata": {
    "collapsed": true
   },
   "source": [
    "By default for calculation of similarity Tanimoto is used, but there are some other implemented metrics: Tanimoto, Dice, Cosine, Sokal, Russel, Kulczynski, McConnaughey, and Tversky"
   ]
  },
  {
   "cell_type": "code",
   "execution_count": 74,
   "metadata": {},
   "outputs": [
    {
     "data": {
      "text/plain": [
       "0.24561403508771928"
      ]
     },
     "execution_count": 74,
     "metadata": {},
     "output_type": "execute_result"
    }
   ],
   "source": [
    "DataStructs.FingerprintSimilarity(fp1,fp2, metric=DataStructs.DiceSimilarity)"
   ]
  },
  {
   "cell_type": "markdown",
   "metadata": {
    "collapsed": true
   },
   "source": [
    "### MACCS keys"
   ]
  },
  {
   "cell_type": "markdown",
   "metadata": {},
   "source": [
    "They are SMARTS patterns of different functiong groups and common fragments: http://rdkit.org/Python_Docs/rdkit.Chem.MACCSkeys-pysrc.html"
   ]
  },
  {
   "cell_type": "code",
   "execution_count": 75,
   "metadata": {},
   "outputs": [],
   "source": [
    "from rdkit.Chem import MACCSkeys"
   ]
  },
  {
   "cell_type": "code",
   "execution_count": 76,
   "metadata": {},
   "outputs": [],
   "source": [
    "fp1 = MACCSkeys.GenMACCSKeys(m1)\n",
    "fp2 = MACCSkeys.GenMACCSKeys(m2)"
   ]
  },
  {
   "cell_type": "code",
   "execution_count": 77,
   "metadata": {},
   "outputs": [
    {
     "data": {
      "text/plain": [
       "0.3684210526315789"
      ]
     },
     "execution_count": 77,
     "metadata": {},
     "output_type": "execute_result"
    }
   ],
   "source": [
    "DataStructs.FingerprintSimilarity(fp1, fp2)"
   ]
  },
  {
   "cell_type": "markdown",
   "metadata": {},
   "source": [
    "### Morgan fingerprints (Circular Fingerprints)"
   ]
  },
  {
   "cell_type": "code",
   "execution_count": 78,
   "metadata": {},
   "outputs": [],
   "source": [
    "fp1 = AllChem.GetMorganFingerprint(m1, 2)\n",
    "fp2 = AllChem.GetMorganFingerprint(m2, 2)"
   ]
  },
  {
   "cell_type": "markdown",
   "metadata": {},
   "source": [
    "Morgan fingerprints by default are counts, therefore dice similarity should be used as a metric."
   ]
  },
  {
   "cell_type": "code",
   "execution_count": 79,
   "metadata": {},
   "outputs": [
    {
     "data": {
      "text/plain": [
       "0.16666666666666666"
      ]
     },
     "execution_count": 79,
     "metadata": {},
     "output_type": "execute_result"
    }
   ],
   "source": [
    "DataStructs.DiceSimilarity(fp1, fp2)"
   ]
  },
  {
   "cell_type": "markdown",
   "metadata": {},
   "source": [
    "But it is possible calculate Morgan fingerprints as bit vectors."
   ]
  },
  {
   "cell_type": "code",
   "execution_count": 80,
   "metadata": {},
   "outputs": [],
   "source": [
    "fp1 = AllChem.GetMorganFingerprintAsBitVect(m1, 2)\n",
    "fp2 = AllChem.GetMorganFingerprintAsBitVect(m2, 2)"
   ]
  },
  {
   "cell_type": "code",
   "execution_count": 81,
   "metadata": {},
   "outputs": [
    {
     "data": {
      "text/plain": [
       "0.24"
      ]
     },
     "execution_count": 81,
     "metadata": {},
     "output_type": "execute_result"
    }
   ],
   "source": [
    "DataStructs.DiceSimilarity(fp1,fp2)"
   ]
  },
  {
   "cell_type": "code",
   "execution_count": 82,
   "metadata": {},
   "outputs": [
    {
     "data": {
      "text/plain": [
       "0.13636363636363635"
      ]
     },
     "execution_count": 82,
     "metadata": {},
     "output_type": "execute_result"
    }
   ],
   "source": [
    "DataStructs.FingerprintSimilarity(fp1, fp2)"
   ]
  },
  {
   "cell_type": "markdown",
   "metadata": {},
   "source": [
    "Atoms can be labeled by feature types (like pharmacophore features): http://www.rdkit.org/docs/GettingStartedInPython.html#feature-definitions-used-in-the-morgan-fingerprints"
   ]
  },
  {
   "cell_type": "code",
   "execution_count": 83,
   "metadata": {},
   "outputs": [],
   "source": [
    "fp1 = AllChem.GetMorganFingerprintAsBitVect(m1, 2, useFeatures=True)\n",
    "fp2 = AllChem.GetMorganFingerprintAsBitVect(m2, 2, useFeatures=True)"
   ]
  },
  {
   "cell_type": "code",
   "execution_count": 84,
   "metadata": {},
   "outputs": [
    {
     "data": {
      "text/plain": [
       "0.3"
      ]
     },
     "execution_count": 84,
     "metadata": {},
     "output_type": "execute_result"
    }
   ],
   "source": [
    "DataStructs.DiceSimilarity(fp1,fp2)"
   ]
  },
  {
   "cell_type": "code",
   "execution_count": 85,
   "metadata": {},
   "outputs": [
    {
     "data": {
      "text/plain": [
       "0.17647058823529413"
      ]
     },
     "execution_count": 85,
     "metadata": {},
     "output_type": "execute_result"
    }
   ],
   "source": [
    "DataStructs.FingerprintSimilarity(fp1, fp2)"
   ]
  },
  {
   "cell_type": "markdown",
   "metadata": {},
   "source": [
    "<font color=\"red\">TASK 3</font>. Write a script to retrive SMILES of the similar compounds from logBB_big.sdf file to the N1CCNCC1c1ccccc1 molecule based on Tanimoto score and topological and Morgan fingerprints."
   ]
  },
  {
   "cell_type": "code",
   "execution_count": 86,
   "metadata": {},
   "outputs": [
    {
     "name": "stderr",
     "output_type": "stream",
     "text": [
      "RDKit ERROR: [13:55:16] ERROR: non-ring atom 26 marked aromatic\n",
      "RDKit ERROR: [13:55:19] non-ring atom 4 marked aromatic\n",
      "RDKit ERROR: [13:55:19] ERROR: Could not sanitize molecule ending on line 6561\n",
      "RDKit ERROR: [13:55:19] ERROR: non-ring atom 4 marked aromatic\n",
      "RDKit ERROR: [13:55:19] non-ring atom 0 marked aromatic\n",
      "RDKit ERROR: [13:55:19] ERROR: Could not sanitize molecule ending on line 15523\n",
      "RDKit ERROR: [13:55:19] ERROR: non-ring atom 0 marked aromatic\n",
      "RDKit ERROR: [13:55:19] non-ring atom 16 marked aromatic\n",
      "RDKit ERROR: [13:55:19] ERROR: Could not sanitize molecule ending on line 17846\n",
      "RDKit ERROR: [13:55:19] ERROR: non-ring atom 16 marked aromatic\n",
      "RDKit ERROR: [13:55:19] non-ring atom 16 marked aromatic\n",
      "RDKit ERROR: [13:55:19] ERROR: Could not sanitize molecule ending on line 19055\n",
      "RDKit ERROR: [13:55:19] ERROR: non-ring atom 16 marked aromatic\n",
      "RDKit ERROR: [13:55:19] non-ring atom 16 marked aromatic\n",
      "RDKit ERROR: [13:55:19] ERROR: Could not sanitize molecule ending on line 19968\n",
      "RDKit ERROR: [13:55:19] ERROR: non-ring atom 16 marked aromatic\n",
      "RDKit ERROR: [13:55:20] non-ring atom 18 marked aromatic\n",
      "RDKit ERROR: [13:55:20] ERROR: Could not sanitize molecule ending on line 20965\n",
      "RDKit ERROR: [13:55:20] ERROR: non-ring atom 18 marked aromatic\n",
      "RDKit ERROR: [13:55:20] non-ring atom 20 marked aromatic\n",
      "RDKit ERROR: [13:55:20] ERROR: Could not sanitize molecule ending on line 22625\n",
      "RDKit ERROR: [13:55:20] ERROR: non-ring atom 20 marked aromatic\n",
      "RDKit ERROR: [13:55:20] non-ring atom 18 marked aromatic\n",
      "RDKit ERROR: [13:55:20] ERROR: Could not sanitize molecule ending on line 22844\n",
      "RDKit ERROR: [13:55:20] ERROR: non-ring atom 18 marked aromatic\n",
      "RDKit ERROR: [13:55:20] non-ring atom 19 marked aromatic\n",
      "RDKit ERROR: [13:55:20] ERROR: Could not sanitize molecule ending on line 23484\n",
      "RDKit ERROR: [13:55:20] ERROR: non-ring atom 19 marked aromatic\n",
      "RDKit ERROR: [13:55:20] non-ring atom 12 marked aromatic\n",
      "RDKit ERROR: [13:55:20] ERROR: Could not sanitize molecule ending on line 24286\n",
      "RDKit ERROR: [13:55:20] ERROR: non-ring atom 12 marked aromatic\n",
      "RDKit ERROR: [13:55:20] non-ring atom 23 marked aromatic\n",
      "RDKit ERROR: [13:55:20] ERROR: Could not sanitize molecule ending on line 25470\n",
      "RDKit ERROR: [13:55:20] ERROR: non-ring atom 23 marked aromatic\n",
      "RDKit ERROR: [13:55:20] non-ring atom 26 marked aromatic\n",
      "RDKit ERROR: [13:55:20] ERROR: Could not sanitize molecule ending on line 26268\n"
     ]
    }
   ],
   "source": [
    "mol = Chem.MolFromSmiles(\"N1CCNCC1c1ccccc1\")\n",
    "tp = FingerprintMols.FingerprintMol(mol)\n",
    "mg = AllChem.GetMorganFingerprintAsBitVect(mol, 2, useFeatures=True)\n",
    "\n",
    "d = {}\n",
    "for m in Chem.SDMolSupplier('data/logBB_big.sdf'):\n",
    "    if m is not None:\n",
    "        tp_ = FingerprintMols.FingerprintMol(m)\n",
    "        mg_ = AllChem.GetMorganFingerprintAsBitVect(m, 2, useFeatures=True)\n",
    "        d[Chem.MolToSmiles(m)] = (DataStructs.FingerprintSimilarity(tp, tp_), DataStructs.FingerprintSimilarity(mg, mg_))"
   ]
  },
  {
   "cell_type": "markdown",
   "metadata": {},
   "source": [
    "Sort output dictionary by descending order of the topological similarity and return top 5 molecules"
   ]
  },
  {
   "cell_type": "code",
   "execution_count": 87,
   "metadata": {
    "scrolled": true
   },
   "outputs": [
    {
     "data": {
      "text/plain": [
       "[('CNC(C)Cc1ccccc1', (0.5567567567567567, 0.3333333333333333)),\n",
       " ('CCCOC(C)=O', (0.5238095238095238, 0.037037037037037035)),\n",
       " ('CC(=O)OC(C)C', (0.5238095238095238, 0.04)),\n",
       " ('CC(N)Cc1ccccc1', (0.5054945054945055, 0.30434782608695654)),\n",
       " ('FC(F)OC(F)C(F)(F)F', (0.5041322314049587, 0.037037037037037035))]"
      ]
     },
     "execution_count": 87,
     "metadata": {},
     "output_type": "execute_result"
    }
   ],
   "source": [
    "sorted(d.items(), key=lambda x: -x[1][0])[:5]"
   ]
  },
  {
   "cell_type": "markdown",
   "metadata": {},
   "source": [
    "Do the same with Morgan similarity"
   ]
  },
  {
   "cell_type": "code",
   "execution_count": 88,
   "metadata": {
    "scrolled": true
   },
   "outputs": [
    {
     "data": {
      "text/plain": [
       "[('CC(C)(C)c1ccccc1', (0.35978835978835977, 0.3684210526315789)),\n",
       " ('c1cncc(C2CCCN2)c1', (0.4752186588921283, 0.3448275862068966)),\n",
       " ('Cc1ccccc1C', (0.4051724137931034, 0.3333333333333333)),\n",
       " ('CNC(C)Cc1ccccc1', (0.5567567567567567, 0.3333333333333333)),\n",
       " ('Cc1ccccc1', (0.4603174603174603, 0.3333333333333333))]"
      ]
     },
     "execution_count": 88,
     "metadata": {},
     "output_type": "execute_result"
    }
   ],
   "source": [
    "sorted(d.items(), key=lambda x: -x[1][1])[:5]"
   ]
  },
  {
   "cell_type": "markdown",
   "metadata": {},
   "source": [
    "### 2D pharmacophore fingerprints"
   ]
  },
  {
   "cell_type": "code",
   "execution_count": 89,
   "metadata": {},
   "outputs": [],
   "source": [
    "from rdkit.Chem.Pharm2D import Gobbi_Pharm2D, Generate"
   ]
  },
  {
   "cell_type": "code",
   "execution_count": 90,
   "metadata": {},
   "outputs": [],
   "source": [
    "m1 = Chem.MolFromSmiles(\"NCCCCO\")\n",
    "m2 = Chem.MolFromSmiles(\"NCCCCCCO\")"
   ]
  },
  {
   "cell_type": "code",
   "execution_count": 91,
   "metadata": {},
   "outputs": [],
   "source": [
    "fp1 = Generate.Gen2DFingerprint(m1, Gobbi_Pharm2D.factory)\n",
    "fp2 = Generate.Gen2DFingerprint(m2, Gobbi_Pharm2D.factory)"
   ]
  },
  {
   "cell_type": "code",
   "execution_count": 92,
   "metadata": {},
   "outputs": [
    {
     "data": {
      "text/plain": [
       "0.06153846153846154"
      ]
     },
     "execution_count": 92,
     "metadata": {},
     "output_type": "execute_result"
    }
   ],
   "source": [
    "DataStructs.FingerprintSimilarity(fp1, fp2)"
   ]
  },
  {
   "cell_type": "markdown",
   "metadata": {},
   "source": [
    "## Reactions"
   ]
  },
  {
   "cell_type": "markdown",
   "metadata": {},
   "source": [
    "Reactions can be constructed based on SMARTS definitions of reactants and products"
   ]
  },
  {
   "cell_type": "code",
   "execution_count": 93,
   "metadata": {},
   "outputs": [],
   "source": [
    "rxn = AllChem.ReactionFromSmarts('[C:1](=[O:2])-[OD1].[N!H0:3]>>[C:1](=[O:2])[N:3]')"
   ]
  },
  {
   "cell_type": "code",
   "execution_count": 94,
   "metadata": {},
   "outputs": [],
   "source": [
    "p = rxn.RunReactants((Chem.MolFromSmiles('CC(=O)O'),Chem.MolFromSmiles('NC')))"
   ]
  },
  {
   "cell_type": "code",
   "execution_count": 95,
   "metadata": {},
   "outputs": [
    {
     "data": {
      "text/plain": [
       "1"
      ]
     },
     "execution_count": 95,
     "metadata": {},
     "output_type": "execute_result"
    }
   ],
   "source": [
    "len(p)"
   ]
  },
  {
   "cell_type": "code",
   "execution_count": 96,
   "metadata": {},
   "outputs": [
    {
     "data": {
      "image/png": "[encoded data removed]",
      "image/svg+xml": [
       "<?xml version='1.0' encoding='iso-8859-1'?>\n",
       "<svg version='1.1' baseProfile='full'\n",
       "              xmlns='http://www.w3.org/2000/svg'\n",
       "                      xmlns:rdkit='http://www.rdkit.org/xml'\n",
       "                      xmlns:xlink='http://www.w3.org/1999/xlink'\n",
       "                  xml:space='preserve'\n",
       "width='450px' height='150px' viewBox='0 0 450 150'>\n",
       "<!-- END OF HEADER -->\n",
       "<rect style='opacity:1.0;fill:#FFFFFF;stroke:none' width='450' height='150' x='0' y='0'> </rect>\n",
       "<path class='bond-0' d='M 203.338,81.1823 L 203.338,54.2715' style='fill:none;fill-rule:evenodd;stroke:#000000;stroke-width:2.0px;stroke-linecap:butt;stroke-linejoin:miter;stroke-opacity:1' />\n",
       "<path class='bond-0' d='M 203.338,54.2715 L 203.338,27.3607' style='fill:none;fill-rule:evenodd;stroke:#FF0000;stroke-width:2.0px;stroke-linecap:butt;stroke-linejoin:miter;stroke-opacity:1' />\n",
       "<path class='bond-0' d='M 190.328,81.1823 L 190.328,54.2715' style='fill:none;fill-rule:evenodd;stroke:#000000;stroke-width:2.0px;stroke-linecap:butt;stroke-linejoin:miter;stroke-opacity:1' />\n",
       "<path class='bond-0' d='M 190.328,54.2715 L 190.328,27.3607' style='fill:none;fill-rule:evenodd;stroke:#FF0000;stroke-width:2.0px;stroke-linecap:butt;stroke-linejoin:miter;stroke-opacity:1' />\n",
       "<path class='bond-1' d='M 196.833,81.1823 L 220.694,94.9583' style='fill:none;fill-rule:evenodd;stroke:#000000;stroke-width:2.0px;stroke-linecap:butt;stroke-linejoin:miter;stroke-opacity:1' />\n",
       "<path class='bond-1' d='M 220.694,94.9583 L 244.555,108.734' style='fill:none;fill-rule:evenodd;stroke:#0000FF;stroke-width:2.0px;stroke-linecap:butt;stroke-linejoin:miter;stroke-opacity:1' />\n",
       "<path class='bond-2' d='M 196.833,81.1823 L 140.499,113.707' style='fill:none;fill-rule:evenodd;stroke:#000000;stroke-width:2.0px;stroke-linecap:butt;stroke-linejoin:miter;stroke-opacity:1' />\n",
       "<path class='bond-3' d='M 261.78,108.734 L 285.64,94.9583' style='fill:none;fill-rule:evenodd;stroke:#0000FF;stroke-width:2.0px;stroke-linecap:butt;stroke-linejoin:miter;stroke-opacity:1' />\n",
       "<path class='bond-3' d='M 285.64,94.9583 L 309.501,81.1823' style='fill:none;fill-rule:evenodd;stroke:#000000;stroke-width:2.0px;stroke-linecap:butt;stroke-linejoin:miter;stroke-opacity:1' />\n",
       "<path  class='atom-1' d='M 188.377 16.1852\n",
       "Q 188.377 11.7619, 190.562 9.29005\n",
       "Q 192.748 6.81818, 196.833 6.81818\n",
       "Q 200.918 6.81818, 203.104 9.29005\n",
       "Q 205.289 11.7619, 205.289 16.1852\n",
       "Q 205.289 20.6606, 203.078 23.2105\n",
       "Q 200.866 25.7344, 196.833 25.7344\n",
       "Q 192.774 25.7344, 190.562 23.2105\n",
       "Q 188.377 20.6866, 188.377 16.1852\n",
       "M 196.833 23.6529\n",
       "Q 199.643 23.6529, 201.152 21.7795\n",
       "Q 202.687 19.88, 202.687 16.1852\n",
       "Q 202.687 12.5685, 201.152 10.7471\n",
       "Q 199.643 8.89975, 196.833 8.89975\n",
       "Q 194.023 8.89975, 192.488 10.7211\n",
       "Q 190.979 12.5425, 190.979 16.1852\n",
       "Q 190.979 19.9061, 192.488 21.7795\n",
       "Q 194.023 23.6529, 196.833 23.6529\n",
       "' fill='#FF0000'/>\n",
       "<path  class='atom-2' d='M 249.095 104.496\n",
       "L 255.132 114.253\n",
       "Q 255.73 115.216, 256.693 116.959\n",
       "Q 257.655 118.703, 257.707 118.807\n",
       "L 257.707 104.496\n",
       "L 260.153 104.496\n",
       "L 260.153 122.918\n",
       "L 257.629 122.918\n",
       "L 251.151 112.25\n",
       "Q 250.396 111.001, 249.589 109.57\n",
       "Q 248.809 108.139, 248.575 107.696\n",
       "L 248.575 122.918\n",
       "L 246.181 122.918\n",
       "L 246.181 104.496\n",
       "L 249.095 104.496\n",
       "' fill='#0000FF'/>\n",
       "<path  class='atom-2' d='M 245.96 124.76\n",
       "L 248.458 124.76\n",
       "L 248.458 132.592\n",
       "L 257.877 132.592\n",
       "L 257.877 124.76\n",
       "L 260.375 124.76\n",
       "L 260.375 143.182\n",
       "L 257.877 143.182\n",
       "L 257.877 134.673\n",
       "L 248.458 134.673\n",
       "L 248.458 143.182\n",
       "L 245.96 143.182\n",
       "L 245.96 124.76\n",
       "' fill='#0000FF'/>\n",
       "</svg>\n"
      ],
      "text/plain": [
       "<rdkit.Chem.rdchem.Mol at 0x7fc828ab8390>"
      ]
     },
     "execution_count": 96,
     "metadata": {},
     "output_type": "execute_result"
    }
   ],
   "source": [
    "p[0][0]"
   ]
  },
  {
   "cell_type": "markdown",
   "metadata": {},
   "source": [
    "Generation of combinatorial library"
   ]
  },
  {
   "cell_type": "code",
   "execution_count": 97,
   "metadata": {},
   "outputs": [],
   "source": [
    "acids = ['c1ccccc1C(=O)O', 'CC(=O)O', 'OC(=O)CC(=O)O']\n",
    "bases = ['CCN', 'CCNC', 'CNCCN']\n",
    "\n",
    "a = [Chem.MolFromSmiles(s) for s in acids]\n",
    "b = [Chem.MolFromSmiles(s) for s in bases]"
   ]
  },
  {
   "cell_type": "code",
   "execution_count": 98,
   "metadata": {},
   "outputs": [],
   "source": [
    "from itertools import product\n",
    "\n",
    "p = []\n",
    "for s in product(a, b):\n",
    "    p.extend(rxn.RunReactants(s))    "
   ]
  },
  {
   "cell_type": "code",
   "execution_count": 99,
   "metadata": {
    "scrolled": true
   },
   "outputs": [
    {
     "name": "stdout",
     "output_type": "stream",
     "text": [
      "CCNC(=O)c1ccccc1\n",
      "CCN(C)C(=O)c1ccccc1\n",
      "CN(CCN)C(=O)c1ccccc1\n",
      "CNCCNC(=O)c1ccccc1\n",
      "CCNC(C)=O\n",
      "CCN(C)C(C)=O\n",
      "CC(=O)N(C)CCN\n",
      "CNCCNC(C)=O\n",
      "CCNC(=O)CC(=O)O\n",
      "CCNC(=O)CC(=O)O\n",
      "CCN(C)C(=O)CC(=O)O\n",
      "CCN(C)C(=O)CC(=O)O\n",
      "CN(CCN)C(=O)CC(=O)O\n",
      "CNCCNC(=O)CC(=O)O\n",
      "CN(CCN)C(=O)CC(=O)O\n",
      "CNCCNC(=O)CC(=O)O\n"
     ]
    }
   ],
   "source": [
    "for item in p:\n",
    "    print(Chem.MolToSmiles(item[0]))"
   ]
  },
  {
   "cell_type": "markdown",
   "metadata": {},
   "source": [
    "However, products may contain duplicates, they can be removed based on canonical SMILES of products"
   ]
  },
  {
   "cell_type": "code",
   "execution_count": 100,
   "metadata": {},
   "outputs": [
    {
     "data": {
      "text/plain": [
       "{'CC(=O)N(C)CCN',\n",
       " 'CCN(C)C(=O)CC(=O)O',\n",
       " 'CCN(C)C(=O)c1ccccc1',\n",
       " 'CCN(C)C(C)=O',\n",
       " 'CCNC(=O)CC(=O)O',\n",
       " 'CCNC(=O)c1ccccc1',\n",
       " 'CCNC(C)=O',\n",
       " 'CN(CCN)C(=O)CC(=O)O',\n",
       " 'CN(CCN)C(=O)c1ccccc1',\n",
       " 'CNCCNC(=O)CC(=O)O',\n",
       " 'CNCCNC(=O)c1ccccc1',\n",
       " 'CNCCNC(C)=O'}"
      ]
     },
     "execution_count": 100,
     "metadata": {},
     "output_type": "execute_result"
    }
   ],
   "source": [
    "set(Chem.MolToSmiles(item[0]) for item in p)"
   ]
  },
  {
   "cell_type": "markdown",
   "metadata": {},
   "source": [
    "## Drawing molecules"
   ]
  },
  {
   "cell_type": "code",
   "execution_count": 101,
   "metadata": {},
   "outputs": [],
   "source": [
    "from rdkit.Chem import Draw"
   ]
  },
  {
   "cell_type": "markdown",
   "metadata": {},
   "source": [
    "Create a molecule and compute coordinates"
   ]
  },
  {
   "cell_type": "code",
   "execution_count": 102,
   "metadata": {},
   "outputs": [
    {
     "data": {
      "text/plain": [
       "0"
      ]
     },
     "execution_count": 102,
     "metadata": {},
     "output_type": "execute_result"
    }
   ],
   "source": [
    "m = Chem.MolFromSmiles('CC(=O)O')\n",
    "AllChem.Compute2DCoords(m)"
   ]
  },
  {
   "cell_type": "markdown",
   "metadata": {},
   "source": [
    "Image can be directly saved to a file or obtaind as PIL image"
   ]
  },
  {
   "cell_type": "code",
   "execution_count": 103,
   "metadata": {},
   "outputs": [],
   "source": [
    "Draw.MolToFile(m, 'data/mol.png')"
   ]
  },
  {
   "cell_type": "code",
   "execution_count": 104,
   "metadata": {},
   "outputs": [
    {
     "data": {
      "image/png": "[encoded data removed]",
      "text/plain": [
       "<PIL.PngImagePlugin.PngImageFile image mode=RGB size=100x100 at 0x7FC828B0EF90>"
      ]
     },
     "execution_count": 104,
     "metadata": {},
     "output_type": "execute_result"
    }
   ],
   "source": [
    "Draw.MolToImage(m, (100, 100))"
   ]
  },
  {
   "cell_type": "markdown",
   "metadata": {},
   "source": [
    "Multiple molecules can be visualized as a grid. Let's visualize unique products from conbinatorial library generation."
   ]
  },
  {
   "cell_type": "code",
   "execution_count": 105,
   "metadata": {},
   "outputs": [
    {
     "data": {
      "text/plain": [
       "['CNCCNC(=O)c1ccccc1',\n",
       " 'CCNC(=O)c1ccccc1',\n",
       " 'CN(CCN)C(=O)c1ccccc1',\n",
       " 'CCNC(C)=O',\n",
       " 'CN(CCN)C(=O)CC(=O)O',\n",
       " 'CNCCNC(C)=O',\n",
       " 'CCN(C)C(=O)c1ccccc1',\n",
       " 'CC(=O)N(C)CCN',\n",
       " 'CNCCNC(=O)CC(=O)O',\n",
       " 'CCNC(=O)CC(=O)O',\n",
       " 'CCN(C)C(C)=O',\n",
       " 'CCN(C)C(=O)CC(=O)O']"
      ]
     },
     "execution_count": 105,
     "metadata": {},
     "output_type": "execute_result"
    }
   ],
   "source": [
    "pu = list(set(Chem.MolToSmiles(item[0]) for item in p))\n",
    "pu"
   ]
  },
  {
   "cell_type": "code",
   "execution_count": 106,
   "metadata": {
    "scrolled": true
   },
   "outputs": [
    {
     "data": {
      "image/svg+xml": [
       "<svg baseProfile=\"full\" height=\"600px\" version=\"1.1\" viewBox=\"0 0 800 600\" width=\"800px\" xml:space=\"preserve\" xmlns=\"http://www.w3.org/2000/svg\" xmlns:rdkit=\"http://www.rdkit.org/xml\" xmlns:xlink=\"http://www.w3.org/1999/xlink\">\n",
       "<!-- END OF HEADER -->\n",
       "<rect height=\"600\" style=\"opacity:1.0;fill:#FFFFFF;stroke:none\" width=\"800\" x=\"0\" y=\"0\"> </rect>\n",
       "<rect height=\"600\" style=\"opacity:1.0;fill:#FFFFFF;stroke:none\" width=\"800\" x=\"0\" y=\"0\"> </rect>\n",
       "<rect height=\"600\" style=\"opacity:1.0;fill:#FFFFFF;stroke:none\" width=\"800\" x=\"0\" y=\"0\"> </rect>\n",
       "<rect height=\"600\" style=\"opacity:1.0;fill:#FFFFFF;stroke:none\" width=\"800\" x=\"0\" y=\"0\"> </rect>\n",
       "<rect height=\"600\" style=\"opacity:1.0;fill:#FFFFFF;stroke:none\" width=\"800\" x=\"0\" y=\"0\"> </rect>\n",
       "<rect height=\"600\" style=\"opacity:1.0;fill:#FFFFFF;stroke:none\" width=\"800\" x=\"0\" y=\"0\"> </rect>\n",
       "<rect height=\"600\" style=\"opacity:1.0;fill:#FFFFFF;stroke:none\" width=\"800\" x=\"0\" y=\"0\"> </rect>\n",
       "<rect height=\"600\" style=\"opacity:1.0;fill:#FFFFFF;stroke:none\" width=\"800\" x=\"0\" y=\"0\"> </rect>\n",
       "<rect height=\"600\" style=\"opacity:1.0;fill:#FFFFFF;stroke:none\" width=\"800\" x=\"0\" y=\"0\"> </rect>\n",
       "<rect height=\"600\" style=\"opacity:1.0;fill:#FFFFFF;stroke:none\" width=\"800\" x=\"0\" y=\"0\"> </rect>\n",
       "<rect height=\"600\" style=\"opacity:1.0;fill:#FFFFFF;stroke:none\" width=\"800\" x=\"0\" y=\"0\"> </rect>\n",
       "<rect height=\"600\" style=\"opacity:1.0;fill:#FFFFFF;stroke:none\" width=\"800\" x=\"0\" y=\"0\"> </rect>\n",
       "<rect height=\"600\" style=\"opacity:1.0;fill:#FFFFFF;stroke:none\" width=\"800\" x=\"0\" y=\"0\"> </rect>\n",
       "<path class=\"bond-0\" d=\"M 8.43698,62.7455 L 16.3366,68.9215\" style=\"fill:none;fill-rule:evenodd;stroke:#000000;stroke-width:2.0px;stroke-linecap:butt;stroke-linejoin:miter;stroke-opacity:1\"/>\n",
       "<path class=\"bond-0\" d=\"M 16.3366,68.9215 L 24.2362,75.0975\" style=\"fill:none;fill-rule:evenodd;stroke:#0000FF;stroke-width:2.0px;stroke-linecap:butt;stroke-linejoin:miter;stroke-opacity:1\"/>\n",
       "<path class=\"bond-1\" d=\"M 30.6194,76.3044 L 40.2003,72.4371\" style=\"fill:none;fill-rule:evenodd;stroke:#0000FF;stroke-width:2.0px;stroke-linecap:butt;stroke-linejoin:miter;stroke-opacity:1\"/>\n",
       "<path class=\"bond-1\" d=\"M 40.2003,72.4371 L 49.7812,68.5697\" style=\"fill:none;fill-rule:evenodd;stroke:#000000;stroke-width:2.0px;stroke-linecap:butt;stroke-linejoin:miter;stroke-opacity:1\"/>\n",
       "<path class=\"bond-2\" d=\"M 49.7812,68.5697 L 68.772,83.4169\" style=\"fill:none;fill-rule:evenodd;stroke:#000000;stroke-width:2.0px;stroke-linecap:butt;stroke-linejoin:miter;stroke-opacity:1\"/>\n",
       "<path class=\"bond-3\" d=\"M 68.772,83.4169 L 78.3529,79.5496\" style=\"fill:none;fill-rule:evenodd;stroke:#000000;stroke-width:2.0px;stroke-linecap:butt;stroke-linejoin:miter;stroke-opacity:1\"/>\n",
       "<path class=\"bond-3\" d=\"M 78.3529,79.5496 L 87.9339,75.6822\" style=\"fill:none;fill-rule:evenodd;stroke:#0000FF;stroke-width:2.0px;stroke-linecap:butt;stroke-linejoin:miter;stroke-opacity:1\"/>\n",
       "<path class=\"bond-4\" d=\"M 94.3171,76.8892 L 102.217,83.0651\" style=\"fill:none;fill-rule:evenodd;stroke:#0000FF;stroke-width:2.0px;stroke-linecap:butt;stroke-linejoin:miter;stroke-opacity:1\"/>\n",
       "<path class=\"bond-4\" d=\"M 102.217,83.0651 L 110.116,89.2411\" style=\"fill:none;fill-rule:evenodd;stroke:#000000;stroke-width:2.0px;stroke-linecap:butt;stroke-linejoin:miter;stroke-opacity:1\"/>\n",
       "<path class=\"bond-5\" d=\"M 107.729,88.9049 L 106.334,98.8126\" style=\"fill:none;fill-rule:evenodd;stroke:#000000;stroke-width:2.0px;stroke-linecap:butt;stroke-linejoin:miter;stroke-opacity:1\"/>\n",
       "<path class=\"bond-5\" d=\"M 106.334,98.8126 L 104.938,108.72\" style=\"fill:none;fill-rule:evenodd;stroke:#FF0000;stroke-width:2.0px;stroke-linecap:butt;stroke-linejoin:miter;stroke-opacity:1\"/>\n",
       "<path class=\"bond-5\" d=\"M 112.503,89.5774 L 111.108,99.4851\" style=\"fill:none;fill-rule:evenodd;stroke:#000000;stroke-width:2.0px;stroke-linecap:butt;stroke-linejoin:miter;stroke-opacity:1\"/>\n",
       "<path class=\"bond-5\" d=\"M 111.108,99.4851 L 109.712,109.393\" style=\"fill:none;fill-rule:evenodd;stroke:#FF0000;stroke-width:2.0px;stroke-linecap:butt;stroke-linejoin:miter;stroke-opacity:1\"/>\n",
       "<path class=\"bond-6\" d=\"M 110.116,89.2411 L 132.47,80.2182\" style=\"fill:none;fill-rule:evenodd;stroke:#000000;stroke-width:2.0px;stroke-linecap:butt;stroke-linejoin:miter;stroke-opacity:1\"/>\n",
       "<path class=\"bond-7\" d=\"M 132.47,80.2182 L 135.832,56.3481\" style=\"fill:none;fill-rule:evenodd;stroke:#000000;stroke-width:2.0px;stroke-linecap:butt;stroke-linejoin:miter;stroke-opacity:1\"/>\n",
       "<path class=\"bond-7\" d=\"M 137.748,77.3102 L 140.102,60.6011\" style=\"fill:none;fill-rule:evenodd;stroke:#000000;stroke-width:2.0px;stroke-linecap:butt;stroke-linejoin:miter;stroke-opacity:1\"/>\n",
       "<path class=\"bond-12\" d=\"M 132.47,80.2182 L 151.461,95.0653\" style=\"fill:none;fill-rule:evenodd;stroke:#000000;stroke-width:2.0px;stroke-linecap:butt;stroke-linejoin:miter;stroke-opacity:1\"/>\n",
       "<path class=\"bond-8\" d=\"M 135.832,56.3481 L 158.186,47.3251\" style=\"fill:none;fill-rule:evenodd;stroke:#000000;stroke-width:2.0px;stroke-linecap:butt;stroke-linejoin:miter;stroke-opacity:1\"/>\n",
       "<path class=\"bond-9\" d=\"M 158.186,47.3251 L 177.177,62.1723\" style=\"fill:none;fill-rule:evenodd;stroke:#000000;stroke-width:2.0px;stroke-linecap:butt;stroke-linejoin:miter;stroke-opacity:1\"/>\n",
       "<path class=\"bond-9\" d=\"M 158.065,53.3503 L 171.359,63.7434\" style=\"fill:none;fill-rule:evenodd;stroke:#000000;stroke-width:2.0px;stroke-linecap:butt;stroke-linejoin:miter;stroke-opacity:1\"/>\n",
       "<path class=\"bond-10\" d=\"M 177.177,62.1723 L 173.814,86.0424\" style=\"fill:none;fill-rule:evenodd;stroke:#000000;stroke-width:2.0px;stroke-linecap:butt;stroke-linejoin:miter;stroke-opacity:1\"/>\n",
       "<path class=\"bond-11\" d=\"M 173.814,86.0424 L 151.461,95.0653\" style=\"fill:none;fill-rule:evenodd;stroke:#000000;stroke-width:2.0px;stroke-linecap:butt;stroke-linejoin:miter;stroke-opacity:1\"/>\n",
       "<path class=\"bond-11\" d=\"M 168.656,82.9251 L 153.009,89.2412\" style=\"fill:none;fill-rule:evenodd;stroke:#000000;stroke-width:2.0px;stroke-linecap:butt;stroke-linejoin:miter;stroke-opacity:1\"/>\n",
       "<path class=\"atom-1\" d=\"M 25.9188 74.1793 L 28.1558 77.7952 Q 28.3776 78.1519, 28.7343 78.798 Q 29.0911 79.444, 29.1104 79.4826 L 29.1104 74.1793 L 30.0168 74.1793 L 30.0168 81.0061 L 29.0815 81.0061 L 26.6805 77.0527 Q 26.4009 76.5899, 26.102 76.0596 Q 25.8127 75.5292, 25.7259 75.3653 L 25.7259 81.0061 L 24.8388 81.0061 L 24.8388 74.1793 L 25.9188 74.1793 \" fill=\"#0000FF\"/>\n",
       "<path class=\"atom-1\" d=\"M 24.7569 81.6887 L 25.6825 81.6887 L 25.6825 84.5911 L 29.1731 84.5911 L 29.1731 81.6887 L 30.0987 81.6887 L 30.0987 88.5155 L 29.1731 88.5155 L 29.1731 85.3625 L 25.6825 85.3625 L 25.6825 88.5155 L 24.7569 88.5155 L 24.7569 81.6887 \" fill=\"#0000FF\"/>\n",
       "<path class=\"atom-4\" d=\"M 89.6164 70.9806 L 91.8535 74.5964 Q 92.0752 74.9532, 92.432 75.5992 Q 92.7888 76.2453, 92.8081 76.2839 L 92.8081 70.9806 L 93.7144 70.9806 L 93.7144 77.8073 L 92.7791 77.8073 L 90.3782 73.854 Q 90.0986 73.3912, 89.7996 72.8608 Q 89.5104 72.3305, 89.4236 72.1666 L 89.4236 77.8073 L 88.5365 77.8073 L 88.5365 70.9806 L 89.6164 70.9806 \" fill=\"#0000FF\"/>\n",
       "<path class=\"atom-4\" d=\"M 88.4545 63.4711 L 89.3802 63.4711 L 89.3802 66.3735 L 92.8707 66.3735 L 92.8707 63.4711 L 93.7964 63.4711 L 93.7964 70.2979 L 92.8707 70.2979 L 92.8707 67.1449 L 89.3802 67.1449 L 89.3802 70.2979 L 88.4545 70.2979 L 88.4545 63.4711 \" fill=\"#0000FF\"/>\n",
       "<path class=\"atom-6\" d=\"M 103.62 113.131 Q 103.62 111.491, 104.43 110.575 Q 105.24 109.659, 106.754 109.659 Q 108.268 109.659, 109.077 110.575 Q 109.887 111.491, 109.887 113.131 Q 109.887 114.789, 109.068 115.734 Q 108.248 116.669, 106.754 116.669 Q 105.249 116.669, 104.43 115.734 Q 103.62 114.799, 103.62 113.131 M 106.754 115.898 Q 107.795 115.898, 108.354 115.204 Q 108.923 114.5, 108.923 113.131 Q 108.923 111.79, 108.354 111.115 Q 107.795 110.431, 106.754 110.431 Q 105.712 110.431, 105.143 111.106 Q 104.584 111.781, 104.584 113.131 Q 104.584 114.509, 105.143 115.204 Q 105.712 115.898, 106.754 115.898 \" fill=\"#FF0000\"/>\n",
       "<path d=\"M 22.8911 184.432 Q 22.8911 181.616, 24.2031 180.144 Q 25.5311 178.656, 28.0431 178.656 Q 30.3791 178.656, 31.6271 180.304 L 30.5711 181.168 Q 29.6591 179.968, 28.0431 179.968 Q 26.3311 179.968, 25.4191 181.12 Q 24.5231 182.256, 24.5231 184.432 Q 24.5231 186.672, 25.4511 187.824 Q 26.3951 188.976, 28.2191 188.976 Q 29.4671 188.976, 30.9231 188.224 L 31.3711 189.424 Q 30.7791 189.808, 29.8831 190.032 Q 28.9871 190.256, 27.9951 190.256 Q 25.5311 190.256, 24.2031 188.752 Q 22.8911 187.248, 22.8911 184.432 \" fill=\"#000000\"/>\n",
       "<path d=\"M 34.7471 178.784 L 38.4591 184.784 Q 38.8271 185.376, 39.4191 186.448 Q 40.0111 187.52, 40.0431 187.584 L 40.0431 178.784 L 41.5471 178.784 L 41.5471 190.112 L 39.9951 190.112 L 36.0111 183.552 Q 35.5471 182.784, 35.0511 181.904 Q 34.5711 181.024, 34.4271 180.752 L 34.4271 190.112 L 32.9551 190.112 L 32.9551 178.784 L 34.7471 178.784 \" fill=\"#000000\"/>\n",
       "<path d=\"M 42.3471 184.432 Q 42.3471 181.616, 43.6591 180.144 Q 44.9871 178.656, 47.4991 178.656 Q 49.8351 178.656, 51.0831 180.304 L 50.0271 181.168 Q 49.1151 179.968, 47.4991 179.968 Q 45.7871 179.968, 44.8751 181.12 Q 43.9791 182.256, 43.9791 184.432 Q 43.9791 186.672, 44.9071 187.824 Q 45.8511 188.976, 47.6751 188.976 Q 48.9231 188.976, 50.3791 188.224 L 50.8271 189.424 Q 50.2351 189.808, 49.3391 190.032 Q 48.4431 190.256, 47.4511 190.256 Q 44.9871 190.256, 43.6591 188.752 Q 42.3471 187.248, 42.3471 184.432 \" fill=\"#000000\"/>\n",
       "<path d=\"M 51.8831 184.432 Q 51.8831 181.616, 53.1951 180.144 Q 54.5231 178.656, 57.0351 178.656 Q 59.3711 178.656, 60.6191 180.304 L 59.5631 181.168 Q 58.6511 179.968, 57.0351 179.968 Q 55.3231 179.968, 54.4111 181.12 Q 53.5151 182.256, 53.5151 184.432 Q 53.5151 186.672, 54.4431 187.824 Q 55.3871 188.976, 57.2111 188.976 Q 58.4591 188.976, 59.9151 188.224 L 60.3631 189.424 Q 59.7711 189.808, 58.8751 190.032 Q 57.9791 190.256, 56.9871 190.256 Q 54.5231 190.256, 53.1951 188.752 Q 51.8831 187.248, 51.8831 184.432 \" fill=\"#000000\"/>\n",
       "<path d=\"M 63.7391 178.784 L 67.4511 184.784 Q 67.8191 185.376, 68.4111 186.448 Q 69.0031 187.52, 69.0351 187.584 L 69.0351 178.784 L 70.5391 178.784 L 70.5391 190.112 L 68.9871 190.112 L 65.0031 183.552 Q 64.5391 182.784, 64.0431 181.904 Q 63.5631 181.024, 63.4191 180.752 L 63.4191 190.112 L 61.9471 190.112 L 61.9471 178.784 L 63.7391 178.784 \" fill=\"#000000\"/>\n",
       "<path d=\"M 71.3391 184.432 Q 71.3391 181.616, 72.6511 180.144 Q 73.9791 178.656, 76.4911 178.656 Q 78.8271 178.656, 80.0751 180.304 L 79.0191 181.168 Q 78.1071 179.968, 76.4911 179.968 Q 74.7791 179.968, 73.8671 181.12 Q 72.9711 182.256, 72.9711 184.432 Q 72.9711 186.672, 73.8991 187.824 Q 74.8431 188.976, 76.6671 188.976 Q 77.9151 188.976, 79.3711 188.224 L 79.8191 189.424 Q 79.2271 189.808, 78.3311 190.032 Q 77.4351 190.256, 76.4431 190.256 Q 73.9791 190.256, 72.6511 188.752 Q 71.3391 187.248, 71.3391 184.432 \" fill=\"#000000\"/>\n",
       "<path d=\"M 80.8751 185.552 Q 80.8751 183.248, 81.5311 181.376 Q 82.2031 179.504, 83.4991 177.44 L 84.3951 178.016 Q 83.3551 179.92, 82.8271 181.648 Q 82.3151 183.36, 82.3151 185.552 Q 82.3151 187.712, 82.8271 189.424 Q 83.3551 191.12, 84.3951 193.088 L 83.4991 193.664 Q 82.2031 191.632, 81.5311 189.76 Q 80.8751 187.872, 80.8751 185.552 \" fill=\"#000000\"/>\n",
       "<path d=\"M 85.8511 183.152 L 93.1791 183.152 L 93.1791 184.304 L 85.8511 184.304 L 85.8511 183.152 M 85.8511 186.576 L 93.1791 186.576 L 93.1791 187.728 L 85.8511 187.728 L 85.8511 186.576 \" fill=\"#000000\"/>\n",
       "<path d=\"M 93.9791 184.416 Q 93.9791 181.696, 95.3231 180.176 Q 96.6671 178.656, 99.1791 178.656 Q 101.691 178.656, 103.035 180.176 Q 104.379 181.696, 104.379 184.416 Q 104.379 187.168, 103.019 188.736 Q 101.659 190.288, 99.1791 190.288 Q 96.6831 190.288, 95.3231 188.736 Q 93.9791 187.184, 93.9791 184.416 M 99.1791 189.008 Q 100.907 189.008, 101.835 187.856 Q 102.779 186.688, 102.779 184.416 Q 102.779 182.192, 101.835 181.072 Q 100.907 179.936, 99.1791 179.936 Q 97.4511 179.936, 96.5071 181.056 Q 95.5791 182.176, 95.5791 184.416 Q 95.5791 186.704, 96.5071 187.856 Q 97.4511 189.008, 99.1791 189.008 \" fill=\"#000000\"/>\n",
       "<path d=\"M 108.299 185.552 Q 108.299 187.872, 107.627 189.76 Q 106.971 191.632, 105.675 193.664 L 104.779 193.088 Q 105.819 191.12, 106.331 189.424 Q 106.859 187.712, 106.859 185.552 Q 106.859 183.36, 106.331 181.648 Q 105.819 179.92, 104.779 178.016 L 105.675 177.44 Q 106.971 179.504, 107.627 181.376 Q 108.299 183.248, 108.299 185.552 \" fill=\"#000000\"/>\n",
       "<path d=\"M 109.035 185.984 Q 109.035 184, 110.027 182.88 Q 111.019 181.744, 112.971 181.744 Q 114.843 181.744, 115.819 183.104 L 114.811 183.856 Q 114.427 183.392, 113.979 183.168 Q 113.547 182.928, 112.971 182.928 Q 111.835 182.928, 111.195 183.712 Q 110.571 184.48, 110.571 185.984 Q 110.571 187.504, 111.211 188.288 Q 111.867 189.056, 113.067 189.056 Q 113.739 189.056, 114.203 188.912 Q 114.667 188.752, 115.243 188.496 L 115.659 189.52 Q 114.475 190.208, 112.955 190.208 Q 111.019 190.208, 110.027 189.088 Q 109.035 187.968, 109.035 185.984 \" fill=\"#000000\"/>\n",
       "<path d=\"M 117.307 188.832 L 119.787 188.832 L 119.787 180.368 L 117.051 181.216 L 116.683 180.272 L 120.155 178.72 L 121.291 178.912 L 121.291 188.832 L 123.515 188.832 L 123.515 190.112 L 117.307 190.112 L 117.307 188.832 \" fill=\"#000000\"/>\n",
       "<path d=\"M 124.251 185.984 Q 124.251 184, 125.243 182.88 Q 126.235 181.744, 128.187 181.744 Q 130.059 181.744, 131.035 183.104 L 130.027 183.856 Q 129.643 183.392, 129.195 183.168 Q 128.763 182.928, 128.187 182.928 Q 127.051 182.928, 126.411 183.712 Q 125.787 184.48, 125.787 185.984 Q 125.787 187.504, 126.427 188.288 Q 127.083 189.056, 128.283 189.056 Q 128.955 189.056, 129.419 188.912 Q 129.883 188.752, 130.459 188.496 L 130.875 189.52 Q 129.691 190.208, 128.171 190.208 Q 126.235 190.208, 125.243 189.088 Q 124.251 187.968, 124.251 185.984 \" fill=\"#000000\"/>\n",
       "<path d=\"M 131.771 185.984 Q 131.771 184, 132.763 182.88 Q 133.755 181.744, 135.707 181.744 Q 137.579 181.744, 138.555 183.104 L 137.547 183.856 Q 137.163 183.392, 136.715 183.168 Q 136.283 182.928, 135.707 182.928 Q 134.571 182.928, 133.931 183.712 Q 133.307 184.48, 133.307 185.984 Q 133.307 187.504, 133.947 188.288 Q 134.603 189.056, 135.803 189.056 Q 136.475 189.056, 136.939 188.912 Q 137.403 188.752, 137.979 188.496 L 138.395 189.52 Q 137.211 190.208, 135.691 190.208 Q 133.755 190.208, 132.763 189.088 Q 131.771 187.968, 131.771 185.984 \" fill=\"#000000\"/>\n",
       "<path d=\"M 139.291 185.984 Q 139.291 184, 140.283 182.88 Q 141.275 181.744, 143.227 181.744 Q 145.099 181.744, 146.075 183.104 L 145.067 183.856 Q 144.683 183.392, 144.235 183.168 Q 143.803 182.928, 143.227 182.928 Q 142.091 182.928, 141.451 183.712 Q 140.827 184.48, 140.827 185.984 Q 140.827 187.504, 141.467 188.288 Q 142.123 189.056, 143.323 189.056 Q 143.995 189.056, 144.459 188.912 Q 144.923 188.752, 145.499 188.496 L 145.915 189.52 Q 144.731 190.208, 143.211 190.208 Q 141.275 190.208, 140.283 189.088 Q 139.291 187.968, 139.291 185.984 \" fill=\"#000000\"/>\n",
       "<path d=\"M 146.811 185.984 Q 146.811 184, 147.803 182.88 Q 148.795 181.744, 150.747 181.744 Q 152.619 181.744, 153.595 183.104 L 152.587 183.856 Q 152.203 183.392, 151.755 183.168 Q 151.323 182.928, 150.747 182.928 Q 149.611 182.928, 148.971 183.712 Q 148.347 184.48, 148.347 185.984 Q 148.347 187.504, 148.987 188.288 Q 149.643 189.056, 150.843 189.056 Q 151.515 189.056, 151.979 188.912 Q 152.443 188.752, 153.019 188.496 L 153.435 189.52 Q 152.251 190.208, 150.731 190.208 Q 148.795 190.208, 147.803 189.088 Q 146.811 187.968, 146.811 185.984 \" fill=\"#000000\"/>\n",
       "<path d=\"M 154.331 185.984 Q 154.331 184, 155.323 182.88 Q 156.315 181.744, 158.267 181.744 Q 160.139 181.744, 161.115 183.104 L 160.107 183.856 Q 159.723 183.392, 159.275 183.168 Q 158.843 182.928, 158.267 182.928 Q 157.131 182.928, 156.491 183.712 Q 155.867 184.48, 155.867 185.984 Q 155.867 187.504, 156.507 188.288 Q 157.163 189.056, 158.363 189.056 Q 159.035 189.056, 159.499 188.912 Q 159.963 188.752, 160.539 188.496 L 160.955 189.52 Q 159.771 190.208, 158.251 190.208 Q 156.315 190.208, 155.323 189.088 Q 154.331 187.968, 154.331 185.984 \" fill=\"#000000\"/>\n",
       "<path d=\"M 162.603 188.832 L 165.083 188.832 L 165.083 180.368 L 162.347 181.216 L 161.979 180.272 L 165.451 178.72 L 166.587 178.912 L 166.587 188.832 L 168.811 188.832 L 168.811 190.112 L 162.603 190.112 L 162.603 188.832 \" fill=\"#000000\"/>\n",
       "<path class=\"bond-0\" d=\"M 234.96,59.7255 L 252.285,76.4866\" style=\"fill:none;fill-rule:evenodd;stroke:#000000;stroke-width:2.0px;stroke-linecap:butt;stroke-linejoin:miter;stroke-opacity:1\"/>\n",
       "<path class=\"bond-1\" d=\"M 252.285,76.4866 L 262.278,73.6309\" style=\"fill:none;fill-rule:evenodd;stroke:#000000;stroke-width:2.0px;stroke-linecap:butt;stroke-linejoin:miter;stroke-opacity:1\"/>\n",
       "<path class=\"bond-1\" d=\"M 262.278,73.6309 L 272.272,70.7753\" style=\"fill:none;fill-rule:evenodd;stroke:#0000FF;stroke-width:2.0px;stroke-linecap:butt;stroke-linejoin:miter;stroke-opacity:1\"/>\n",
       "<path class=\"bond-2\" d=\"M 278.655,72.951 L 285.722,79.7877\" style=\"fill:none;fill-rule:evenodd;stroke:#0000FF;stroke-width:2.0px;stroke-linecap:butt;stroke-linejoin:miter;stroke-opacity:1\"/>\n",
       "<path class=\"bond-2\" d=\"M 285.722,79.7877 L 292.788,86.6243\" style=\"fill:none;fill-rule:evenodd;stroke:#000000;stroke-width:2.0px;stroke-linecap:butt;stroke-linejoin:miter;stroke-opacity:1\"/>\n",
       "<path class=\"bond-3\" d=\"M 290.45,86.039 L 288.031,95.704\" style=\"fill:none;fill-rule:evenodd;stroke:#000000;stroke-width:2.0px;stroke-linecap:butt;stroke-linejoin:miter;stroke-opacity:1\"/>\n",
       "<path class=\"bond-3\" d=\"M 288.031,95.704 L 285.612,105.369\" style=\"fill:none;fill-rule:evenodd;stroke:#FF0000;stroke-width:2.0px;stroke-linecap:butt;stroke-linejoin:miter;stroke-opacity:1\"/>\n",
       "<path class=\"bond-3\" d=\"M 295.127,87.2096 L 292.708,96.8746\" style=\"fill:none;fill-rule:evenodd;stroke:#000000;stroke-width:2.0px;stroke-linecap:butt;stroke-linejoin:miter;stroke-opacity:1\"/>\n",
       "<path class=\"bond-3\" d=\"M 292.708,96.8746 L 290.289,106.539\" style=\"fill:none;fill-rule:evenodd;stroke:#FF0000;stroke-width:2.0px;stroke-linecap:butt;stroke-linejoin:miter;stroke-opacity:1\"/>\n",
       "<path class=\"bond-4\" d=\"M 292.788,86.6243 L 315.966,80.001\" style=\"fill:none;fill-rule:evenodd;stroke:#000000;stroke-width:2.0px;stroke-linecap:butt;stroke-linejoin:miter;stroke-opacity:1\"/>\n",
       "<path class=\"bond-5\" d=\"M 315.966,80.001 L 321.819,56.6166\" style=\"fill:none;fill-rule:evenodd;stroke:#000000;stroke-width:2.0px;stroke-linecap:butt;stroke-linejoin:miter;stroke-opacity:1\"/>\n",
       "<path class=\"bond-5\" d=\"M 321.521,77.6639 L 325.618,61.2948\" style=\"fill:none;fill-rule:evenodd;stroke:#000000;stroke-width:2.0px;stroke-linecap:butt;stroke-linejoin:miter;stroke-opacity:1\"/>\n",
       "<path class=\"bond-10\" d=\"M 315.966,80.001 L 333.291,96.7621\" style=\"fill:none;fill-rule:evenodd;stroke:#000000;stroke-width:2.0px;stroke-linecap:butt;stroke-linejoin:miter;stroke-opacity:1\"/>\n",
       "<path class=\"bond-6\" d=\"M 321.819,56.6166 L 344.997,49.9932\" style=\"fill:none;fill-rule:evenodd;stroke:#000000;stroke-width:2.0px;stroke-linecap:butt;stroke-linejoin:miter;stroke-opacity:1\"/>\n",
       "<path class=\"bond-7\" d=\"M 344.997,49.9932 L 362.322,66.7543\" style=\"fill:none;fill-rule:evenodd;stroke:#000000;stroke-width:2.0px;stroke-linecap:butt;stroke-linejoin:miter;stroke-opacity:1\"/>\n",
       "<path class=\"bond-7\" d=\"M 344.244,55.9724 L 356.371,67.7051\" style=\"fill:none;fill-rule:evenodd;stroke:#000000;stroke-width:2.0px;stroke-linecap:butt;stroke-linejoin:miter;stroke-opacity:1\"/>\n",
       "<path class=\"bond-8\" d=\"M 362.322,66.7543 L 356.469,90.1387\" style=\"fill:none;fill-rule:evenodd;stroke:#000000;stroke-width:2.0px;stroke-linecap:butt;stroke-linejoin:miter;stroke-opacity:1\"/>\n",
       "<path class=\"bond-9\" d=\"M 356.469,90.1387 L 333.291,96.7621\" style=\"fill:none;fill-rule:evenodd;stroke:#000000;stroke-width:2.0px;stroke-linecap:butt;stroke-linejoin:miter;stroke-opacity:1\"/>\n",
       "<path class=\"bond-9\" d=\"M 351.668,86.4966 L 335.443,91.133\" style=\"fill:none;fill-rule:evenodd;stroke:#000000;stroke-width:2.0px;stroke-linecap:butt;stroke-linejoin:miter;stroke-opacity:1\"/>\n",
       "<path class=\"atom-2\" d=\"M 273.954 66.4499 L 276.191 70.0657 Q 276.413 70.4225, 276.77 71.0685 Q 277.127 71.7146, 277.146 71.7532 L 277.146 66.4499 L 278.052 66.4499 L 278.052 73.2766 L 277.117 73.2766 L 274.716 69.3233 Q 274.436 68.8605, 274.137 68.3301 Q 273.848 67.7998, 273.761 67.6359 L 273.761 73.2766 L 272.874 73.2766 L 272.874 66.4499 L 273.954 66.4499 \" fill=\"#0000FF\"/>\n",
       "<path class=\"atom-2\" d=\"M 272.792 58.9404 L 273.718 58.9404 L 273.718 61.8428 L 277.209 61.8428 L 277.209 58.9404 L 278.134 58.9404 L 278.134 65.7672 L 277.209 65.7672 L 277.209 62.6142 L 273.718 62.6142 L 273.718 65.7672 L 272.792 65.7672 L 272.792 58.9404 \" fill=\"#0000FF\"/>\n",
       "<path class=\"atom-4\" d=\"M 283.801 110.028 Q 283.801 108.389, 284.611 107.473 Q 285.421 106.557, 286.935 106.557 Q 288.449 106.557, 289.259 107.473 Q 290.069 108.389, 290.069 110.028 Q 290.069 111.687, 289.249 112.631 Q 288.43 113.567, 286.935 113.567 Q 285.431 113.567, 284.611 112.631 Q 283.801 111.696, 283.801 110.028 M 286.935 112.795 Q 287.977 112.795, 288.536 112.101 Q 289.105 111.397, 289.105 110.028 Q 289.105 108.688, 288.536 108.013 Q 287.977 107.328, 286.935 107.328 Q 285.894 107.328, 285.325 108.003 Q 284.766 108.678, 284.766 110.028 Q 284.766 111.407, 285.325 112.101 Q 285.894 112.795, 286.935 112.795 \" fill=\"#FF0000\"/>\n",
       "<path d=\"M 232.731 184.432 Q 232.731 181.616, 234.043 180.144 Q 235.371 178.656, 237.883 178.656 Q 240.219 178.656, 241.467 180.304 L 240.411 181.168 Q 239.499 179.968, 237.883 179.968 Q 236.171 179.968, 235.259 181.12 Q 234.363 182.256, 234.363 184.432 Q 234.363 186.672, 235.291 187.824 Q 236.235 188.976, 238.059 188.976 Q 239.307 188.976, 240.763 188.224 L 241.211 189.424 Q 240.619 189.808, 239.723 190.032 Q 238.827 190.256, 237.835 190.256 Q 235.371 190.256, 234.043 188.752 Q 232.731 187.248, 232.731 184.432 \" fill=\"#000000\"/>\n",
       "<path d=\"M 242.267 184.432 Q 242.267 181.616, 243.579 180.144 Q 244.907 178.656, 247.419 178.656 Q 249.755 178.656, 251.003 180.304 L 249.947 181.168 Q 249.035 179.968, 247.419 179.968 Q 245.707 179.968, 244.795 181.12 Q 243.899 182.256, 243.899 184.432 Q 243.899 186.672, 244.827 187.824 Q 245.771 188.976, 247.595 188.976 Q 248.843 188.976, 250.299 188.224 L 250.747 189.424 Q 250.155 189.808, 249.259 190.032 Q 248.363 190.256, 247.371 190.256 Q 244.907 190.256, 243.579 188.752 Q 242.267 187.248, 242.267 184.432 \" fill=\"#000000\"/>\n",
       "<path d=\"M 254.123 178.784 L 257.835 184.784 Q 258.203 185.376, 258.795 186.448 Q 259.387 187.52, 259.419 187.584 L 259.419 178.784 L 260.923 178.784 L 260.923 190.112 L 259.371 190.112 L 255.387 183.552 Q 254.923 182.784, 254.427 181.904 Q 253.947 181.024, 253.803 180.752 L 253.803 190.112 L 252.331 190.112 L 252.331 178.784 L 254.123 178.784 \" fill=\"#000000\"/>\n",
       "<path d=\"M 261.723 184.432 Q 261.723 181.616, 263.035 180.144 Q 264.363 178.656, 266.875 178.656 Q 269.211 178.656, 270.459 180.304 L 269.403 181.168 Q 268.49 179.968, 266.875 179.968 Q 265.163 179.968, 264.25 181.12 Q 263.355 182.256, 263.355 184.432 Q 263.355 186.672, 264.283 187.824 Q 265.226 188.976, 267.05 188.976 Q 268.298 188.976, 269.755 188.224 L 270.202 189.424 Q 269.611 189.808, 268.714 190.032 Q 267.819 190.256, 266.827 190.256 Q 264.363 190.256, 263.035 188.752 Q 261.723 187.248, 261.723 184.432 \" fill=\"#000000\"/>\n",
       "<path d=\"M 271.259 185.552 Q 271.259 183.248, 271.915 181.376 Q 272.587 179.504, 273.882 177.44 L 274.779 178.016 Q 273.738 179.92, 273.211 181.648 Q 272.699 183.36, 272.699 185.552 Q 272.699 187.712, 273.211 189.424 Q 273.738 191.12, 274.779 193.088 L 273.882 193.664 Q 272.587 191.632, 271.915 189.76 Q 271.259 187.872, 271.259 185.552 \" fill=\"#000000\"/>\n",
       "<path d=\"M 276.235 183.152 L 283.562 183.152 L 283.562 184.304 L 276.235 184.304 L 276.235 183.152 M 276.235 186.576 L 283.562 186.576 L 283.562 187.728 L 276.235 187.728 L 276.235 186.576 \" fill=\"#000000\"/>\n",
       "<path d=\"M 284.363 184.416 Q 284.363 181.696, 285.707 180.176 Q 287.05 178.656, 289.562 178.656 Q 292.075 178.656, 293.418 180.176 Q 294.762 181.696, 294.762 184.416 Q 294.762 187.168, 293.402 188.736 Q 292.043 190.288, 289.562 190.288 Q 287.067 190.288, 285.707 188.736 Q 284.363 187.184, 284.363 184.416 M 289.562 189.008 Q 291.291 189.008, 292.219 187.856 Q 293.163 186.688, 293.163 184.416 Q 293.163 182.192, 292.219 181.072 Q 291.291 179.936, 289.562 179.936 Q 287.834 179.936, 286.89 181.056 Q 285.962 182.176, 285.962 184.416 Q 285.962 186.704, 286.89 187.856 Q 287.834 189.008, 289.562 189.008 \" fill=\"#000000\"/>\n",
       "<path d=\"M 298.683 185.552 Q 298.683 187.872, 298.01 189.76 Q 297.354 191.632, 296.058 193.664 L 295.162 193.088 Q 296.202 191.12, 296.714 189.424 Q 297.243 187.712, 297.243 185.552 Q 297.243 183.36, 296.714 181.648 Q 296.202 179.92, 295.162 178.016 L 296.058 177.44 Q 297.354 179.504, 298.01 181.376 Q 298.683 183.248, 298.683 185.552 \" fill=\"#000000\"/>\n",
       "<path d=\"M 299.418 185.984 Q 299.418 184, 300.411 182.88 Q 301.403 181.744, 303.355 181.744 Q 305.226 181.744, 306.202 183.104 L 305.195 183.856 Q 304.81 183.392, 304.363 183.168 Q 303.93 182.928, 303.355 182.928 Q 302.219 182.928, 301.579 183.712 Q 300.954 184.48, 300.954 185.984 Q 300.954 187.504, 301.594 188.288 Q 302.25 189.056, 303.45 189.056 Q 304.123 189.056, 304.587 188.912 Q 305.05 188.752, 305.627 188.496 L 306.043 189.52 Q 304.858 190.208, 303.339 190.208 Q 301.403 190.208, 300.411 189.088 Q 299.418 187.968, 299.418 185.984 \" fill=\"#000000\"/>\n",
       "<path d=\"M 307.69 188.832 L 310.171 188.832 L 310.171 180.368 L 307.435 181.216 L 307.066 180.272 L 310.538 178.72 L 311.674 178.912 L 311.674 188.832 L 313.899 188.832 L 313.899 190.112 L 307.69 190.112 L 307.69 188.832 \" fill=\"#000000\"/>\n",
       "<path d=\"M 314.635 185.984 Q 314.635 184, 315.627 182.88 Q 316.619 181.744, 318.571 181.744 Q 320.442 181.744, 321.418 183.104 L 320.411 183.856 Q 320.026 183.392, 319.579 183.168 Q 319.147 182.928, 318.571 182.928 Q 317.435 182.928, 316.795 183.712 Q 316.171 184.48, 316.171 185.984 Q 316.171 187.504, 316.81 188.288 Q 317.466 189.056, 318.666 189.056 Q 319.339 189.056, 319.803 188.912 Q 320.267 188.752, 320.843 188.496 L 321.259 189.52 Q 320.075 190.208, 318.555 190.208 Q 316.619 190.208, 315.627 189.088 Q 314.635 187.968, 314.635 185.984 \" fill=\"#000000\"/>\n",
       "<path d=\"M 322.154 185.984 Q 322.154 184, 323.147 182.88 Q 324.139 181.744, 326.091 181.744 Q 327.962 181.744, 328.938 183.104 L 327.93 183.856 Q 327.546 183.392, 327.099 183.168 Q 326.666 182.928, 326.091 182.928 Q 324.954 182.928, 324.315 183.712 Q 323.69 184.48, 323.69 185.984 Q 323.69 187.504, 324.33 188.288 Q 324.986 189.056, 326.186 189.056 Q 326.858 189.056, 327.322 188.912 Q 327.786 188.752, 328.363 188.496 L 328.779 189.52 Q 327.594 190.208, 326.075 190.208 Q 324.139 190.208, 323.147 189.088 Q 322.154 187.968, 322.154 185.984 \" fill=\"#000000\"/>\n",
       "<path d=\"M 329.674 185.984 Q 329.674 184, 330.666 182.88 Q 331.659 181.744, 333.611 181.744 Q 335.482 181.744, 336.458 183.104 L 335.45 183.856 Q 335.066 183.392, 334.618 183.168 Q 334.186 182.928, 333.611 182.928 Q 332.474 182.928, 331.834 183.712 Q 331.21 184.48, 331.21 185.984 Q 331.21 187.504, 331.85 188.288 Q 332.506 189.056, 333.706 189.056 Q 334.378 189.056, 334.842 188.912 Q 335.306 188.752, 335.882 188.496 L 336.298 189.52 Q 335.114 190.208, 333.594 190.208 Q 331.659 190.208, 330.666 189.088 Q 329.674 187.968, 329.674 185.984 \" fill=\"#000000\"/>\n",
       "<path d=\"M 337.194 185.984 Q 337.194 184, 338.186 182.88 Q 339.178 181.744, 341.13 181.744 Q 343.002 181.744, 343.978 183.104 L 342.97 183.856 Q 342.586 183.392, 342.138 183.168 Q 341.706 182.928, 341.13 182.928 Q 339.994 182.928, 339.354 183.712 Q 338.73 184.48, 338.73 185.984 Q 338.73 187.504, 339.37 188.288 Q 340.026 189.056, 341.226 189.056 Q 341.898 189.056, 342.362 188.912 Q 342.826 188.752, 343.402 188.496 L 343.818 189.52 Q 342.634 190.208, 341.114 190.208 Q 339.178 190.208, 338.186 189.088 Q 337.194 187.968, 337.194 185.984 \" fill=\"#000000\"/>\n",
       "<path d=\"M 344.714 185.984 Q 344.714 184, 345.707 182.88 Q 346.699 181.744, 348.651 181.744 Q 350.522 181.744, 351.498 183.104 L 350.49 183.856 Q 350.106 183.392, 349.659 183.168 Q 349.226 182.928, 348.651 182.928 Q 347.514 182.928, 346.875 183.712 Q 346.25 184.48, 346.25 185.984 Q 346.25 187.504, 346.89 188.288 Q 347.546 189.056, 348.746 189.056 Q 349.418 189.056, 349.882 188.912 Q 350.346 188.752, 350.923 188.496 L 351.339 189.52 Q 350.154 190.208, 348.635 190.208 Q 346.699 190.208, 345.707 189.088 Q 344.714 187.968, 344.714 185.984 \" fill=\"#000000\"/>\n",
       "<path d=\"M 352.986 188.832 L 355.466 188.832 L 355.466 180.368 L 352.731 181.216 L 352.362 180.272 L 355.834 178.72 L 356.97 178.912 L 356.97 188.832 L 359.195 188.832 L 359.195 190.112 L 352.986 190.112 L 352.986 188.832 \" fill=\"#000000\"/>\n",
       "<path class=\"bond-0\" d=\"M 463.874,107.518 L 471.402,101.02\" style=\"fill:none;fill-rule:evenodd;stroke:#000000;stroke-width:2.0px;stroke-linecap:butt;stroke-linejoin:miter;stroke-opacity:1\"/>\n",
       "<path class=\"bond-0\" d=\"M 471.402,101.02 L 478.93,94.522\" style=\"fill:none;fill-rule:evenodd;stroke:#0000FF;stroke-width:2.0px;stroke-linecap:butt;stroke-linejoin:miter;stroke-opacity:1\"/>\n",
       "<path class=\"bond-1\" d=\"M 481.356,87.7511 L 479.48,77.9197\" style=\"fill:none;fill-rule:evenodd;stroke:#0000FF;stroke-width:2.0px;stroke-linecap:butt;stroke-linejoin:miter;stroke-opacity:1\"/>\n",
       "<path class=\"bond-1\" d=\"M 479.48,77.9197 L 477.605,68.0882\" style=\"fill:none;fill-rule:evenodd;stroke:#000000;stroke-width:2.0px;stroke-linecap:butt;stroke-linejoin:miter;stroke-opacity:1\"/>\n",
       "<path class=\"bond-4\" d=\"M 485.313,92.8786 L 495.1,96.2868\" style=\"fill:none;fill-rule:evenodd;stroke:#0000FF;stroke-width:2.0px;stroke-linecap:butt;stroke-linejoin:miter;stroke-opacity:1\"/>\n",
       "<path class=\"bond-4\" d=\"M 495.1,96.2868 L 504.887,99.695\" style=\"fill:none;fill-rule:evenodd;stroke:#000000;stroke-width:2.0px;stroke-linecap:butt;stroke-linejoin:miter;stroke-opacity:1\"/>\n",
       "<path class=\"bond-2\" d=\"M 477.605,68.0882 L 454.84,60.1604\" style=\"fill:none;fill-rule:evenodd;stroke:#000000;stroke-width:2.0px;stroke-linecap:butt;stroke-linejoin:miter;stroke-opacity:1\"/>\n",
       "<path class=\"bond-3\" d=\"M 454.84,60.1604 L 452.965,50.3289\" style=\"fill:none;fill-rule:evenodd;stroke:#000000;stroke-width:2.0px;stroke-linecap:butt;stroke-linejoin:miter;stroke-opacity:1\"/>\n",
       "<path class=\"bond-3\" d=\"M 452.965,50.3289 L 451.09,40.4975\" style=\"fill:none;fill-rule:evenodd;stroke:#0000FF;stroke-width:2.0px;stroke-linecap:butt;stroke-linejoin:miter;stroke-opacity:1\"/>\n",
       "<path class=\"bond-5\" d=\"M 502.519,100.147 L 504.39,109.959\" style=\"fill:none;fill-rule:evenodd;stroke:#000000;stroke-width:2.0px;stroke-linecap:butt;stroke-linejoin:miter;stroke-opacity:1\"/>\n",
       "<path class=\"bond-5\" d=\"M 504.39,109.959 L 506.262,119.771\" style=\"fill:none;fill-rule:evenodd;stroke:#FF0000;stroke-width:2.0px;stroke-linecap:butt;stroke-linejoin:miter;stroke-opacity:1\"/>\n",
       "<path class=\"bond-5\" d=\"M 507.255,99.2433 L 509.126,109.055\" style=\"fill:none;fill-rule:evenodd;stroke:#000000;stroke-width:2.0px;stroke-linecap:butt;stroke-linejoin:miter;stroke-opacity:1\"/>\n",
       "<path class=\"bond-5\" d=\"M 509.126,109.055 L 510.998,118.868\" style=\"fill:none;fill-rule:evenodd;stroke:#FF0000;stroke-width:2.0px;stroke-linecap:butt;stroke-linejoin:miter;stroke-opacity:1\"/>\n",
       "<path class=\"bond-6\" d=\"M 504.887,99.695 L 523.135,83.944\" style=\"fill:none;fill-rule:evenodd;stroke:#000000;stroke-width:2.0px;stroke-linecap:butt;stroke-linejoin:miter;stroke-opacity:1\"/>\n",
       "<path class=\"bond-7\" d=\"M 523.135,83.944 L 518.618,60.2652\" style=\"fill:none;fill-rule:evenodd;stroke:#000000;stroke-width:2.0px;stroke-linecap:butt;stroke-linejoin:miter;stroke-opacity:1\"/>\n",
       "<path class=\"bond-7\" d=\"M 527.193,79.4889 L 524.031,62.9137\" style=\"fill:none;fill-rule:evenodd;stroke:#000000;stroke-width:2.0px;stroke-linecap:butt;stroke-linejoin:miter;stroke-opacity:1\"/>\n",
       "<path class=\"bond-12\" d=\"M 523.135,83.944 L 545.9,91.8719\" style=\"fill:none;fill-rule:evenodd;stroke:#000000;stroke-width:2.0px;stroke-linecap:butt;stroke-linejoin:miter;stroke-opacity:1\"/>\n",
       "<path class=\"bond-8\" d=\"M 518.618,60.2652 L 536.866,44.5142\" style=\"fill:none;fill-rule:evenodd;stroke:#000000;stroke-width:2.0px;stroke-linecap:butt;stroke-linejoin:miter;stroke-opacity:1\"/>\n",
       "<path class=\"bond-9\" d=\"M 536.866,44.5142 L 559.631,52.4421\" style=\"fill:none;fill-rule:evenodd;stroke:#000000;stroke-width:2.0px;stroke-linecap:butt;stroke-linejoin:miter;stroke-opacity:1\"/>\n",
       "<path class=\"bond-9\" d=\"M 538.695,50.2563 L 554.631,55.8059\" style=\"fill:none;fill-rule:evenodd;stroke:#000000;stroke-width:2.0px;stroke-linecap:butt;stroke-linejoin:miter;stroke-opacity:1\"/>\n",
       "<path class=\"bond-10\" d=\"M 559.631,52.4421 L 564.148,76.1209\" style=\"fill:none;fill-rule:evenodd;stroke:#000000;stroke-width:2.0px;stroke-linecap:butt;stroke-linejoin:miter;stroke-opacity:1\"/>\n",
       "<path class=\"bond-11\" d=\"M 564.148,76.1209 L 545.9,91.8719\" style=\"fill:none;fill-rule:evenodd;stroke:#000000;stroke-width:2.0px;stroke-linecap:butt;stroke-linejoin:miter;stroke-opacity:1\"/>\n",
       "<path class=\"bond-11\" d=\"M 558.26,74.834 L 545.487,85.8596\" style=\"fill:none;fill-rule:evenodd;stroke:#000000;stroke-width:2.0px;stroke-linecap:butt;stroke-linejoin:miter;stroke-opacity:1\"/>\n",
       "<path class=\"atom-1\" d=\"M 480.613 88.3537 L 482.85 91.9696 Q 483.072 92.3264, 483.428 92.9724 Q 483.785 93.6184, 483.804 93.657 L 483.804 88.3537 L 484.711 88.3537 L 484.711 95.1805 L 483.775 95.1805 L 481.375 91.2272 Q 481.095 90.7643, 480.796 90.234 Q 480.507 89.7037, 480.42 89.5397 L 480.42 95.1805 L 479.533 95.1805 L 479.533 88.3537 L 480.613 88.3537 \" fill=\"#0000FF\"/>\n",
       "<path class=\"atom-4\" d=\"M 448.815 33.0681 L 451.052 36.684 Q 451.273 37.0407, 451.63 37.6868 Q 451.987 38.3328, 452.006 38.3714 L 452.006 33.0681 L 452.913 33.0681 L 452.913 39.8949 L 451.977 39.8949 L 449.576 35.9415 Q 449.297 35.4787, 448.998 34.9483 Q 448.709 34.418, 448.622 34.2541 L 448.622 39.8949 L 447.735 39.8949 L 447.735 33.0681 L 448.815 33.0681 \" fill=\"#0000FF\"/>\n",
       "<path class=\"atom-4\" d=\"M 453.732 33.0681 L 454.658 33.0681 L 454.658 35.9704 L 458.148 35.9704 L 458.148 33.0681 L 459.074 33.0681 L 459.074 39.8949 L 458.148 39.8949 L 458.148 36.7418 L 454.658 36.7418 L 454.658 39.8949 L 453.732 39.8949 L 453.732 33.0681 \" fill=\"#0000FF\"/>\n",
       "<path class=\"atom-4\" d=\"M 459.405 39.6553 Q 459.57 39.229, 459.965 38.9935 Q 460.36 38.7517, 460.907 38.7517 Q 461.588 38.7517, 461.97 39.1208 Q 462.351 39.4899, 462.351 40.1454 Q 462.351 40.8136, 461.855 41.4372 Q 461.365 42.0609, 460.347 42.7991 L 462.428 42.7991 L 462.428 43.3082 L 459.392 43.3082 L 459.392 42.8819 Q 460.232 42.2836, 460.729 41.8382 Q 461.231 41.3927, 461.473 40.9918 Q 461.715 40.5908, 461.715 40.1772 Q 461.715 39.7444, 461.499 39.5026 Q 461.282 39.2608, 460.907 39.2608 Q 460.544 39.2608, 460.302 39.4071 Q 460.06 39.5535, 459.889 39.8781 L 459.405 39.6553 \" fill=\"#0000FF\"/>\n",
       "<path class=\"atom-6\" d=\"M 506.27 123.393 Q 506.27 121.754, 507.079 120.838 Q 507.889 119.922, 509.403 119.922 Q 510.917 119.922, 511.727 120.838 Q 512.537 121.754, 512.537 123.393 Q 512.537 125.052, 511.717 125.997 Q 510.898 126.932, 509.403 126.932 Q 507.899 126.932, 507.079 125.997 Q 506.27 125.061, 506.27 123.393 M 509.403 126.161 Q 510.445 126.161, 511.004 125.466 Q 511.573 124.762, 511.573 123.393 Q 511.573 122.053, 511.004 121.378 Q 510.445 120.693, 509.403 120.693 Q 508.362 120.693, 507.793 121.368 Q 507.234 122.043, 507.234 123.393 Q 507.234 124.772, 507.793 125.466 Q 508.362 126.161, 509.403 126.161 \" fill=\"#FF0000\"/>\n",
       "<path d=\"M 418.986 184.432 Q 418.986 181.616, 420.298 180.144 Q 421.626 178.656, 424.138 178.656 Q 426.474 178.656, 427.722 180.304 L 426.666 181.168 Q 425.754 179.968, 424.138 179.968 Q 422.426 179.968, 421.514 181.12 Q 420.618 182.256, 420.618 184.432 Q 420.618 186.672, 421.546 187.824 Q 422.49 188.976, 424.314 188.976 Q 425.562 188.976, 427.018 188.224 L 427.466 189.424 Q 426.874 189.808, 425.978 190.032 Q 425.082 190.256, 424.09 190.256 Q 421.626 190.256, 420.298 188.752 Q 418.986 187.248, 418.986 184.432 \" fill=\"#000000\"/>\n",
       "<path d=\"M 430.842 178.784 L 434.554 184.784 Q 434.922 185.376, 435.514 186.448 Q 436.106 187.52, 436.138 187.584 L 436.138 178.784 L 437.642 178.784 L 437.642 190.112 L 436.09 190.112 L 432.106 183.552 Q 431.642 182.784, 431.146 181.904 Q 430.666 181.024, 430.522 180.752 L 430.522 190.112 L 429.05 190.112 L 429.05 178.784 L 430.842 178.784 \" fill=\"#000000\"/>\n",
       "<path d=\"M 438.442 185.552 Q 438.442 183.248, 439.098 181.376 Q 439.77 179.504, 441.066 177.44 L 441.962 178.016 Q 440.922 179.92, 440.394 181.648 Q 439.882 183.36, 439.882 185.552 Q 439.882 187.712, 440.394 189.424 Q 440.922 191.12, 441.962 193.088 L 441.066 193.664 Q 439.77 191.632, 439.098 189.76 Q 438.442 187.872, 438.442 185.552 \" fill=\"#000000\"/>\n",
       "<path d=\"M 442.762 184.432 Q 442.762 181.616, 444.074 180.144 Q 445.402 178.656, 447.914 178.656 Q 450.25 178.656, 451.498 180.304 L 450.442 181.168 Q 449.53 179.968, 447.914 179.968 Q 446.202 179.968, 445.29 181.12 Q 444.394 182.256, 444.394 184.432 Q 444.394 186.672, 445.322 187.824 Q 446.266 188.976, 448.09 188.976 Q 449.338 188.976, 450.794 188.224 L 451.242 189.424 Q 450.65 189.808, 449.754 190.032 Q 448.858 190.256, 447.866 190.256 Q 445.402 190.256, 444.074 188.752 Q 442.762 187.248, 442.762 184.432 \" fill=\"#000000\"/>\n",
       "<path d=\"M 452.298 184.432 Q 452.298 181.616, 453.61 180.144 Q 454.938 178.656, 457.45 178.656 Q 459.786 178.656, 461.034 180.304 L 459.978 181.168 Q 459.066 179.968, 457.45 179.968 Q 455.738 179.968, 454.826 181.12 Q 453.93 182.256, 453.93 184.432 Q 453.93 186.672, 454.858 187.824 Q 455.802 188.976, 457.626 188.976 Q 458.874 188.976, 460.33 188.224 L 460.778 189.424 Q 460.186 189.808, 459.29 190.032 Q 458.394 190.256, 457.402 190.256 Q 454.938 190.256, 453.61 188.752 Q 452.298 187.248, 452.298 184.432 \" fill=\"#000000\"/>\n",
       "<path d=\"M 464.154 178.784 L 467.866 184.784 Q 468.234 185.376, 468.826 186.448 Q 469.418 187.52, 469.45 187.584 L 469.45 178.784 L 470.954 178.784 L 470.954 190.112 L 469.402 190.112 L 465.418 183.552 Q 464.954 182.784, 464.458 181.904 Q 463.978 181.024, 463.834 180.752 L 463.834 190.112 L 462.362 190.112 L 462.362 178.784 L 464.154 178.784 \" fill=\"#000000\"/>\n",
       "<path d=\"M 474.874 185.552 Q 474.874 187.872, 474.202 189.76 Q 473.546 191.632, 472.25 193.664 L 471.354 193.088 Q 472.394 191.12, 472.906 189.424 Q 473.434 187.712, 473.434 185.552 Q 473.434 183.36, 472.906 181.648 Q 472.394 179.92, 471.354 178.016 L 472.25 177.44 Q 473.546 179.504, 474.202 181.376 Q 474.874 183.248, 474.874 185.552 \" fill=\"#000000\"/>\n",
       "<path d=\"M 475.674 184.432 Q 475.674 181.616, 476.986 180.144 Q 478.314 178.656, 480.826 178.656 Q 483.162 178.656, 484.41 180.304 L 483.354 181.168 Q 482.442 179.968, 480.826 179.968 Q 479.114 179.968, 478.202 181.12 Q 477.306 182.256, 477.306 184.432 Q 477.306 186.672, 478.234 187.824 Q 479.178 188.976, 481.002 188.976 Q 482.25 188.976, 483.706 188.224 L 484.154 189.424 Q 483.562 189.808, 482.666 190.032 Q 481.77 190.256, 480.778 190.256 Q 478.314 190.256, 476.986 188.752 Q 475.674 187.248, 475.674 184.432 \" fill=\"#000000\"/>\n",
       "<path d=\"M 485.21 185.552 Q 485.21 183.248, 485.866 181.376 Q 486.538 179.504, 487.834 177.44 L 488.73 178.016 Q 487.69 179.92, 487.162 181.648 Q 486.65 183.36, 486.65 185.552 Q 486.65 187.712, 487.162 189.424 Q 487.69 191.12, 488.73 193.088 L 487.834 193.664 Q 486.538 191.632, 485.866 189.76 Q 485.21 187.872, 485.21 185.552 \" fill=\"#000000\"/>\n",
       "<path d=\"M 490.186 183.152 L 497.514 183.152 L 497.514 184.304 L 490.186 184.304 L 490.186 183.152 M 490.186 186.576 L 497.514 186.576 L 497.514 187.728 L 490.186 187.728 L 490.186 186.576 \" fill=\"#000000\"/>\n",
       "<path d=\"M 498.314 184.416 Q 498.314 181.696, 499.658 180.176 Q 501.002 178.656, 503.514 178.656 Q 506.026 178.656, 507.37 180.176 Q 508.714 181.696, 508.714 184.416 Q 508.714 187.168, 507.354 188.736 Q 505.994 190.288, 503.514 190.288 Q 501.018 190.288, 499.658 188.736 Q 498.314 187.184, 498.314 184.416 M 503.514 189.008 Q 505.242 189.008, 506.17 187.856 Q 507.114 186.688, 507.114 184.416 Q 507.114 182.192, 506.17 181.072 Q 505.242 179.936, 503.514 179.936 Q 501.786 179.936, 500.842 181.056 Q 499.914 182.176, 499.914 184.416 Q 499.914 186.704, 500.842 187.856 Q 501.786 189.008, 503.514 189.008 \" fill=\"#000000\"/>\n",
       "<path d=\"M 512.634 185.552 Q 512.634 187.872, 511.962 189.76 Q 511.306 191.632, 510.01 193.664 L 509.114 193.088 Q 510.154 191.12, 510.666 189.424 Q 511.194 187.712, 511.194 185.552 Q 511.194 183.36, 510.666 181.648 Q 510.154 179.92, 509.114 178.016 L 510.01 177.44 Q 511.306 179.504, 511.962 181.376 Q 512.634 183.248, 512.634 185.552 \" fill=\"#000000\"/>\n",
       "<path d=\"M 513.37 185.984 Q 513.37 184, 514.362 182.88 Q 515.354 181.744, 517.306 181.744 Q 519.178 181.744, 520.154 183.104 L 519.146 183.856 Q 518.762 183.392, 518.314 183.168 Q 517.882 182.928, 517.306 182.928 Q 516.17 182.928, 515.53 183.712 Q 514.906 184.48, 514.906 185.984 Q 514.906 187.504, 515.546 188.288 Q 516.202 189.056, 517.402 189.056 Q 518.074 189.056, 518.538 188.912 Q 519.002 188.752, 519.578 188.496 L 519.994 189.52 Q 518.81 190.208, 517.29 190.208 Q 515.354 190.208, 514.362 189.088 Q 513.37 187.968, 513.37 185.984 \" fill=\"#000000\"/>\n",
       "<path d=\"M 521.642 188.832 L 524.122 188.832 L 524.122 180.368 L 521.386 181.216 L 521.018 180.272 L 524.49 178.72 L 525.626 178.912 L 525.626 188.832 L 527.85 188.832 L 527.85 190.112 L 521.642 190.112 L 521.642 188.832 \" fill=\"#000000\"/>\n",
       "<path d=\"M 528.586 185.984 Q 528.586 184, 529.578 182.88 Q 530.57 181.744, 532.522 181.744 Q 534.394 181.744, 535.37 183.104 L 534.362 183.856 Q 533.978 183.392, 533.53 183.168 Q 533.098 182.928, 532.522 182.928 Q 531.386 182.928, 530.746 183.712 Q 530.122 184.48, 530.122 185.984 Q 530.122 187.504, 530.762 188.288 Q 531.418 189.056, 532.618 189.056 Q 533.29 189.056, 533.754 188.912 Q 534.218 188.752, 534.794 188.496 L 535.21 189.52 Q 534.026 190.208, 532.506 190.208 Q 530.57 190.208, 529.578 189.088 Q 528.586 187.968, 528.586 185.984 \" fill=\"#000000\"/>\n",
       "<path d=\"M 536.106 185.984 Q 536.106 184, 537.098 182.88 Q 538.09 181.744, 540.042 181.744 Q 541.914 181.744, 542.89 183.104 L 541.882 183.856 Q 541.498 183.392, 541.05 183.168 Q 540.618 182.928, 540.042 182.928 Q 538.906 182.928, 538.266 183.712 Q 537.642 184.48, 537.642 185.984 Q 537.642 187.504, 538.282 188.288 Q 538.938 189.056, 540.138 189.056 Q 540.81 189.056, 541.274 188.912 Q 541.738 188.752, 542.314 188.496 L 542.73 189.52 Q 541.546 190.208, 540.026 190.208 Q 538.09 190.208, 537.098 189.088 Q 536.106 187.968, 536.106 185.984 \" fill=\"#000000\"/>\n",
       "<path d=\"M 543.626 185.984 Q 543.626 184, 544.618 182.88 Q 545.61 181.744, 547.562 181.744 Q 549.434 181.744, 550.41 183.104 L 549.402 183.856 Q 549.018 183.392, 548.57 183.168 Q 548.138 182.928, 547.562 182.928 Q 546.426 182.928, 545.786 183.712 Q 545.162 184.48, 545.162 185.984 Q 545.162 187.504, 545.802 188.288 Q 546.458 189.056, 547.658 189.056 Q 548.33 189.056, 548.794 188.912 Q 549.258 188.752, 549.834 188.496 L 550.25 189.52 Q 549.066 190.208, 547.546 190.208 Q 545.61 190.208, 544.618 189.088 Q 543.626 187.968, 543.626 185.984 \" fill=\"#000000\"/>\n",
       "<path d=\"M 551.146 185.984 Q 551.146 184, 552.138 182.88 Q 553.13 181.744, 555.082 181.744 Q 556.954 181.744, 557.93 183.104 L 556.922 183.856 Q 556.538 183.392, 556.09 183.168 Q 555.658 182.928, 555.082 182.928 Q 553.946 182.928, 553.306 183.712 Q 552.682 184.48, 552.682 185.984 Q 552.682 187.504, 553.322 188.288 Q 553.978 189.056, 555.178 189.056 Q 555.85 189.056, 556.314 188.912 Q 556.778 188.752, 557.354 188.496 L 557.77 189.52 Q 556.586 190.208, 555.066 190.208 Q 553.13 190.208, 552.138 189.088 Q 551.146 187.968, 551.146 185.984 \" fill=\"#000000\"/>\n",
       "<path d=\"M 558.666 185.984 Q 558.666 184, 559.658 182.88 Q 560.65 181.744, 562.602 181.744 Q 564.474 181.744, 565.45 183.104 L 564.442 183.856 Q 564.058 183.392, 563.61 183.168 Q 563.178 182.928, 562.602 182.928 Q 561.466 182.928, 560.826 183.712 Q 560.202 184.48, 560.202 185.984 Q 560.202 187.504, 560.842 188.288 Q 561.498 189.056, 562.698 189.056 Q 563.37 189.056, 563.834 188.912 Q 564.298 188.752, 564.874 188.496 L 565.29 189.52 Q 564.106 190.208, 562.586 190.208 Q 560.65 190.208, 559.658 189.088 Q 558.666 187.968, 558.666 185.984 \" fill=\"#000000\"/>\n",
       "<path d=\"M 566.938 188.832 L 569.418 188.832 L 569.418 180.368 L 566.682 181.216 L 566.314 180.272 L 569.786 178.72 L 570.922 178.912 L 570.922 188.832 L 573.146 188.832 L 573.146 190.112 L 566.938 190.112 L 566.938 188.832 \" fill=\"#000000\"/>\n",
       "<path class=\"bond-0\" d=\"M 660.828,80.1643 L 683.202,71.1927\" style=\"fill:none;fill-rule:evenodd;stroke:#000000;stroke-width:2.0px;stroke-linecap:butt;stroke-linejoin:miter;stroke-opacity:1\"/>\n",
       "<path class=\"bond-1\" d=\"M 683.202,71.1927 L 691.085,77.3845\" style=\"fill:none;fill-rule:evenodd;stroke:#000000;stroke-width:2.0px;stroke-linecap:butt;stroke-linejoin:miter;stroke-opacity:1\"/>\n",
       "<path class=\"bond-1\" d=\"M 691.085,77.3845 L 698.967,83.5764\" style=\"fill:none;fill-rule:evenodd;stroke:#0000FF;stroke-width:2.0px;stroke-linecap:butt;stroke-linejoin:miter;stroke-opacity:1\"/>\n",
       "<path class=\"bond-2\" d=\"M 705.351,84.8036 L 714.942,80.9577\" style=\"fill:none;fill-rule:evenodd;stroke:#0000FF;stroke-width:2.0px;stroke-linecap:butt;stroke-linejoin:miter;stroke-opacity:1\"/>\n",
       "<path class=\"bond-2\" d=\"M 714.942,80.9577 L 724.533,77.1118\" style=\"fill:none;fill-rule:evenodd;stroke:#000000;stroke-width:2.0px;stroke-linecap:butt;stroke-linejoin:miter;stroke-opacity:1\"/>\n",
       "<path class=\"bond-3\" d=\"M 724.533,77.1118 L 743.49,92.0025\" style=\"fill:none;fill-rule:evenodd;stroke:#000000;stroke-width:2.0px;stroke-linecap:butt;stroke-linejoin:miter;stroke-opacity:1\"/>\n",
       "<path class=\"bond-4\" d=\"M 726.919,77.4535 L 728.33,67.6027\" style=\"fill:none;fill-rule:evenodd;stroke:#000000;stroke-width:2.0px;stroke-linecap:butt;stroke-linejoin:miter;stroke-opacity:1\"/>\n",
       "<path class=\"bond-4\" d=\"M 728.33,67.6027 L 729.741,57.7519\" style=\"fill:none;fill-rule:evenodd;stroke:#FF0000;stroke-width:2.0px;stroke-linecap:butt;stroke-linejoin:miter;stroke-opacity:1\"/>\n",
       "<path class=\"bond-4\" d=\"M 722.147,76.7701 L 723.558,66.9192\" style=\"fill:none;fill-rule:evenodd;stroke:#000000;stroke-width:2.0px;stroke-linecap:butt;stroke-linejoin:miter;stroke-opacity:1\"/>\n",
       "<path class=\"bond-4\" d=\"M 723.558,66.9192 L 724.968,57.0684\" style=\"fill:none;fill-rule:evenodd;stroke:#FF0000;stroke-width:2.0px;stroke-linecap:butt;stroke-linejoin:miter;stroke-opacity:1\"/>\n",
       "<path class=\"atom-2\" d=\"M 700.65 82.67 L 702.887 86.2859 Q 703.109 86.6427, 703.465 87.2887 Q 703.822 87.9347, 703.842 87.9733 L 703.842 82.67 L 704.748 82.67 L 704.748 89.4968 L 703.813 89.4968 L 701.412 85.5434 Q 701.132 85.0806, 700.833 84.5503 Q 700.544 84.02, 700.457 83.856 L 700.457 89.4968 L 699.57 89.4968 L 699.57 82.67 L 700.65 82.67 \" fill=\"#0000FF\"/>\n",
       "<path class=\"atom-2\" d=\"M 699.488 90.1795 L 700.414 90.1795 L 700.414 93.0818 L 703.904 93.0818 L 703.904 90.1795 L 704.83 90.1795 L 704.83 97.0062 L 703.904 97.0062 L 703.904 93.8532 L 700.414 93.8532 L 700.414 97.0062 L 699.488 97.0062 L 699.488 90.1795 \" fill=\"#0000FF\"/>\n",
       "<path class=\"atom-5\" d=\"M 724.817 53.2688 Q 724.817 51.6296, 725.627 50.7136 Q 726.437 49.7975, 727.95 49.7975 Q 729.464 49.7975, 730.274 50.7136 Q 731.084 51.6296, 731.084 53.2688 Q 731.084 54.9272, 730.265 55.8722 Q 729.445 56.8075, 727.95 56.8075 Q 726.446 56.8075, 725.627 55.8722 Q 724.817 54.9369, 724.817 53.2688 M 727.95 56.0361 Q 728.992 56.0361, 729.551 55.3419 Q 730.12 54.638, 730.12 53.2688 Q 730.12 51.9285, 729.551 51.2535 Q 728.992 50.5689, 727.95 50.5689 Q 726.909 50.5689, 726.34 51.2439 Q 725.781 51.9188, 725.781 53.2688 Q 725.781 54.6476, 726.34 55.3419 Q 726.909 56.0361, 727.95 56.0361 \" fill=\"#FF0000\"/>\n",
       "<path d=\"M 658.79 184.432 Q 658.79 181.616, 660.102 180.144 Q 661.43 178.656, 663.942 178.656 Q 666.278 178.656, 667.526 180.304 L 666.47 181.168 Q 665.558 179.968, 663.942 179.968 Q 662.23 179.968, 661.318 181.12 Q 660.422 182.256, 660.422 184.432 Q 660.422 186.672, 661.35 187.824 Q 662.294 188.976, 664.118 188.976 Q 665.366 188.976, 666.822 188.224 L 667.27 189.424 Q 666.678 189.808, 665.782 190.032 Q 664.886 190.256, 663.894 190.256 Q 661.43 190.256, 660.102 188.752 Q 658.79 187.248, 658.79 184.432 \" fill=\"#000000\"/>\n",
       "<path d=\"M 668.326 184.432 Q 668.326 181.616, 669.638 180.144 Q 670.966 178.656, 673.478 178.656 Q 675.814 178.656, 677.062 180.304 L 676.006 181.168 Q 675.094 179.968, 673.478 179.968 Q 671.766 179.968, 670.854 181.12 Q 669.958 182.256, 669.958 184.432 Q 669.958 186.672, 670.886 187.824 Q 671.83 188.976, 673.654 188.976 Q 674.902 188.976, 676.358 188.224 L 676.806 189.424 Q 676.214 189.808, 675.318 190.032 Q 674.422 190.256, 673.43 190.256 Q 670.966 190.256, 669.638 188.752 Q 668.326 187.248, 668.326 184.432 \" fill=\"#000000\"/>\n",
       "<path d=\"M 680.182 178.784 L 683.894 184.784 Q 684.262 185.376, 684.854 186.448 Q 685.446 187.52, 685.478 187.584 L 685.478 178.784 L 686.982 178.784 L 686.982 190.112 L 685.43 190.112 L 681.446 183.552 Q 680.982 182.784, 680.486 181.904 Q 680.006 181.024, 679.862 180.752 L 679.862 190.112 L 678.39 190.112 L 678.39 178.784 L 680.182 178.784 \" fill=\"#000000\"/>\n",
       "<path d=\"M 687.782 184.432 Q 687.782 181.616, 689.094 180.144 Q 690.422 178.656, 692.934 178.656 Q 695.27 178.656, 696.518 180.304 L 695.462 181.168 Q 694.55 179.968, 692.934 179.968 Q 691.222 179.968, 690.31 181.12 Q 689.414 182.256, 689.414 184.432 Q 689.414 186.672, 690.342 187.824 Q 691.286 188.976, 693.11 188.976 Q 694.358 188.976, 695.814 188.224 L 696.262 189.424 Q 695.67 189.808, 694.774 190.032 Q 693.878 190.256, 692.886 190.256 Q 690.422 190.256, 689.094 188.752 Q 687.782 187.248, 687.782 184.432 \" fill=\"#000000\"/>\n",
       "<path d=\"M 697.318 185.552 Q 697.318 183.248, 697.974 181.376 Q 698.646 179.504, 699.942 177.44 L 700.838 178.016 Q 699.798 179.92, 699.27 181.648 Q 698.758 183.36, 698.758 185.552 Q 698.758 187.712, 699.27 189.424 Q 699.798 191.12, 700.838 193.088 L 699.942 193.664 Q 698.646 191.632, 697.974 189.76 Q 697.318 187.872, 697.318 185.552 \" fill=\"#000000\"/>\n",
       "<path d=\"M 701.638 184.432 Q 701.638 181.616, 702.95 180.144 Q 704.278 178.656, 706.79 178.656 Q 709.126 178.656, 710.374 180.304 L 709.318 181.168 Q 708.406 179.968, 706.79 179.968 Q 705.078 179.968, 704.166 181.12 Q 703.27 182.256, 703.27 184.432 Q 703.27 186.672, 704.198 187.824 Q 705.142 188.976, 706.966 188.976 Q 708.214 188.976, 709.67 188.224 L 710.118 189.424 Q 709.526 189.808, 708.63 190.032 Q 707.734 190.256, 706.742 190.256 Q 704.278 190.256, 702.95 188.752 Q 701.638 187.248, 701.638 184.432 \" fill=\"#000000\"/>\n",
       "<path d=\"M 714.294 185.552 Q 714.294 187.872, 713.622 189.76 Q 712.966 191.632, 711.67 193.664 L 710.774 193.088 Q 711.814 191.12, 712.326 189.424 Q 712.854 187.712, 712.854 185.552 Q 712.854 183.36, 712.326 181.648 Q 711.814 179.92, 710.774 178.016 L 711.67 177.44 Q 712.966 179.504, 713.622 181.376 Q 714.294 183.248, 714.294 185.552 \" fill=\"#000000\"/>\n",
       "<path d=\"M 715.75 183.152 L 723.078 183.152 L 723.078 184.304 L 715.75 184.304 L 715.75 183.152 M 715.75 186.576 L 723.078 186.576 L 723.078 187.728 L 715.75 187.728 L 715.75 186.576 \" fill=\"#000000\"/>\n",
       "<path d=\"M 723.878 184.416 Q 723.878 181.696, 725.222 180.176 Q 726.566 178.656, 729.078 178.656 Q 731.59 178.656, 732.934 180.176 Q 734.278 181.696, 734.278 184.416 Q 734.278 187.168, 732.918 188.736 Q 731.558 190.288, 729.078 190.288 Q 726.582 190.288, 725.222 188.736 Q 723.878 187.184, 723.878 184.416 M 729.078 189.008 Q 730.806 189.008, 731.734 187.856 Q 732.678 186.688, 732.678 184.416 Q 732.678 182.192, 731.734 181.072 Q 730.806 179.936, 729.078 179.936 Q 727.35 179.936, 726.406 181.056 Q 725.478 182.176, 725.478 184.416 Q 725.478 186.704, 726.406 187.856 Q 727.35 189.008, 729.078 189.008 \" fill=\"#000000\"/>\n",
       "<path class=\"bond-0\" d=\"M 75.2652,236.648 L 79.1803,245.703\" style=\"fill:none;fill-rule:evenodd;stroke:#000000;stroke-width:2.0px;stroke-linecap:butt;stroke-linejoin:miter;stroke-opacity:1\"/>\n",
       "<path class=\"bond-0\" d=\"M 79.1803,245.703 L 83.0954,254.758\" style=\"fill:none;fill-rule:evenodd;stroke:#0000FF;stroke-width:2.0px;stroke-linecap:butt;stroke-linejoin:miter;stroke-opacity:1\"/>\n",
       "<path class=\"bond-1\" d=\"M 81.8472,262.79 L 76.1502,270.456\" style=\"fill:none;fill-rule:evenodd;stroke:#0000FF;stroke-width:2.0px;stroke-linecap:butt;stroke-linejoin:miter;stroke-opacity:1\"/>\n",
       "<path class=\"bond-1\" d=\"M 76.1502,270.456 L 70.4532,278.122\" style=\"fill:none;fill-rule:evenodd;stroke:#000000;stroke-width:2.0px;stroke-linecap:butt;stroke-linejoin:miter;stroke-opacity:1\"/>\n",
       "<path class=\"bond-4\" d=\"M 88.0234,259.145 L 98.4002,260.349\" style=\"fill:none;fill-rule:evenodd;stroke:#0000FF;stroke-width:2.0px;stroke-linecap:butt;stroke-linejoin:miter;stroke-opacity:1\"/>\n",
       "<path class=\"bond-4\" d=\"M 98.4002,260.349 L 108.777,261.552\" style=\"fill:none;fill-rule:evenodd;stroke:#000000;stroke-width:2.0px;stroke-linecap:butt;stroke-linejoin:miter;stroke-opacity:1\"/>\n",
       "<path class=\"bond-2\" d=\"M 70.4532,278.122 L 80.0197,300.248\" style=\"fill:none;fill-rule:evenodd;stroke:#000000;stroke-width:2.0px;stroke-linecap:butt;stroke-linejoin:miter;stroke-opacity:1\"/>\n",
       "<path class=\"bond-3\" d=\"M 80.0197,300.248 L 74.3227,307.914\" style=\"fill:none;fill-rule:evenodd;stroke:#000000;stroke-width:2.0px;stroke-linecap:butt;stroke-linejoin:miter;stroke-opacity:1\"/>\n",
       "<path class=\"bond-3\" d=\"M 74.3227,307.914 L 68.6257,315.58\" style=\"fill:none;fill-rule:evenodd;stroke:#0000FF;stroke-width:2.0px;stroke-linecap:butt;stroke-linejoin:miter;stroke-opacity:1\"/>\n",
       "<path class=\"bond-5\" d=\"M 110.712,262.99 L 116.355,255.397\" style=\"fill:none;fill-rule:evenodd;stroke:#000000;stroke-width:2.0px;stroke-linecap:butt;stroke-linejoin:miter;stroke-opacity:1\"/>\n",
       "<path class=\"bond-5\" d=\"M 116.355,255.397 L 121.998,247.803\" style=\"fill:none;fill-rule:evenodd;stroke:#FF0000;stroke-width:2.0px;stroke-linecap:butt;stroke-linejoin:miter;stroke-opacity:1\"/>\n",
       "<path class=\"bond-5\" d=\"M 106.842,260.115 L 112.485,252.521\" style=\"fill:none;fill-rule:evenodd;stroke:#000000;stroke-width:2.0px;stroke-linecap:butt;stroke-linejoin:miter;stroke-opacity:1\"/>\n",
       "<path class=\"bond-5\" d=\"M 112.485,252.521 L 118.129,244.927\" style=\"fill:none;fill-rule:evenodd;stroke:#FF0000;stroke-width:2.0px;stroke-linecap:butt;stroke-linejoin:miter;stroke-opacity:1\"/>\n",
       "<path class=\"bond-6\" d=\"M 108.777,261.552 L 118.343,283.679\" style=\"fill:none;fill-rule:evenodd;stroke:#000000;stroke-width:2.0px;stroke-linecap:butt;stroke-linejoin:miter;stroke-opacity:1\"/>\n",
       "<path class=\"bond-7\" d=\"M 118.343,283.679 L 142.289,286.457\" style=\"fill:none;fill-rule:evenodd;stroke:#000000;stroke-width:2.0px;stroke-linecap:butt;stroke-linejoin:miter;stroke-opacity:1\"/>\n",
       "<path class=\"bond-8\" d=\"M 144.223,287.895 L 149.867,280.301\" style=\"fill:none;fill-rule:evenodd;stroke:#000000;stroke-width:2.0px;stroke-linecap:butt;stroke-linejoin:miter;stroke-opacity:1\"/>\n",
       "<path class=\"bond-8\" d=\"M 149.867,280.301 L 155.51,272.708\" style=\"fill:none;fill-rule:evenodd;stroke:#FF0000;stroke-width:2.0px;stroke-linecap:butt;stroke-linejoin:miter;stroke-opacity:1\"/>\n",
       "<path class=\"bond-8\" d=\"M 140.354,285.019 L 145.997,277.425\" style=\"fill:none;fill-rule:evenodd;stroke:#000000;stroke-width:2.0px;stroke-linecap:butt;stroke-linejoin:miter;stroke-opacity:1\"/>\n",
       "<path class=\"bond-8\" d=\"M 145.997,277.425 L 151.64,269.832\" style=\"fill:none;fill-rule:evenodd;stroke:#FF0000;stroke-width:2.0px;stroke-linecap:butt;stroke-linejoin:miter;stroke-opacity:1\"/>\n",
       "<path class=\"bond-9\" d=\"M 142.289,286.457 L 146.195,295.493\" style=\"fill:none;fill-rule:evenodd;stroke:#000000;stroke-width:2.0px;stroke-linecap:butt;stroke-linejoin:miter;stroke-opacity:1\"/>\n",
       "<path class=\"bond-9\" d=\"M 146.195,295.493 L 150.102,304.529\" style=\"fill:none;fill-rule:evenodd;stroke:#FF0000;stroke-width:2.0px;stroke-linecap:butt;stroke-linejoin:miter;stroke-opacity:1\"/>\n",
       "<path class=\"atom-1\" d=\"M 83.3228 255.361 L 85.5598 258.977 Q 85.7815 259.334, 86.1383 259.98 Q 86.4951 260.626, 86.5144 260.664 L 86.5144 255.361 L 87.4207 255.361 L 87.4207 262.188 L 86.4854 262.188 L 84.0845 258.234 Q 83.8049 257.771, 83.506 257.241 Q 83.2167 256.711, 83.1299 256.547 L 83.1299 262.188 L 82.2428 262.188 L 82.2428 255.361 L 83.3228 255.361 \" fill=\"#0000FF\"/>\n",
       "<path class=\"atom-4\" d=\"M 53.5562 316.183 L 54.4819 316.183 L 54.4819 319.085 L 57.9724 319.085 L 57.9724 316.183 L 58.898 316.183 L 58.898 323.01 L 57.9724 323.01 L 57.9724 319.857 L 54.4819 319.857 L 54.4819 323.01 L 53.5562 323.01 L 53.5562 316.183 \" fill=\"#0000FF\"/>\n",
       "<path class=\"atom-4\" d=\"M 59.229 322.77 Q 59.3944 322.344, 59.789 322.109 Q 60.1836 321.867, 60.7309 321.867 Q 61.4118 321.867, 61.7936 322.236 Q 62.1755 322.605, 62.1755 323.26 Q 62.1755 323.929, 61.6791 324.552 Q 61.1891 325.176, 60.1708 325.914 L 62.2518 325.914 L 62.2518 326.423 L 59.2162 326.423 L 59.2162 325.997 Q 60.0563 325.399, 60.5527 324.953 Q 61.0554 324.508, 61.2973 324.107 Q 61.5391 323.706, 61.5391 323.292 Q 61.5391 322.859, 61.3227 322.618 Q 61.1063 322.376, 60.7309 322.376 Q 60.3681 322.376, 60.1263 322.522 Q 59.8845 322.669, 59.7126 322.993 L 59.229 322.77 \" fill=\"#0000FF\"/>\n",
       "<path class=\"atom-4\" d=\"M 64.1321 316.183 L 66.3691 319.799 Q 66.5909 320.156, 66.9476 320.802 Q 67.3044 321.448, 67.3237 321.486 L 67.3237 316.183 L 68.2301 316.183 L 68.2301 323.01 L 67.2948 323.01 L 64.8938 319.057 Q 64.6142 318.594, 64.3153 318.063 Q 64.026 317.533, 63.9392 317.369 L 63.9392 323.01 L 63.0522 323.01 L 63.0522 316.183 L 64.1321 316.183 \" fill=\"#0000FF\"/>\n",
       "<path class=\"atom-6\" d=\"M 120.022 242.224 Q 120.022 240.585, 120.832 239.669 Q 121.642 238.753, 123.156 238.753 Q 124.669 238.753, 125.479 239.669 Q 126.289 240.585, 126.289 242.224 Q 126.289 243.882, 125.47 244.827 Q 124.65 245.763, 123.156 245.763 Q 121.651 245.763, 120.832 244.827 Q 120.022 243.892, 120.022 242.224 M 123.156 244.991 Q 124.197 244.991, 124.756 244.297 Q 125.325 243.593, 125.325 242.224 Q 125.325 240.884, 124.756 240.209 Q 124.197 239.524, 123.156 239.524 Q 122.114 239.524, 121.545 240.199 Q 120.986 240.874, 120.986 242.224 Q 120.986 243.603, 121.545 244.297 Q 122.114 244.991, 123.156 244.991 \" fill=\"#FF0000\"/>\n",
       "<path class=\"atom-9\" d=\"M 153.534 267.128 Q 153.534 265.489, 154.343 264.573 Q 155.153 263.657, 156.667 263.657 Q 158.181 263.657, 158.991 264.573 Q 159.801 265.489, 159.801 267.128 Q 159.801 268.787, 158.981 269.732 Q 158.162 270.667, 156.667 270.667 Q 155.163 270.667, 154.343 269.732 Q 153.534 268.796, 153.534 267.128 M 156.667 269.896 Q 157.709 269.896, 158.268 269.201 Q 158.837 268.497, 158.837 267.128 Q 158.837 265.788, 158.268 265.113 Q 157.709 264.428, 156.667 264.428 Q 155.626 264.428, 155.057 265.103 Q 154.498 265.778, 154.498 267.128 Q 154.498 268.507, 155.057 269.201 Q 155.626 269.896, 156.667 269.896 \" fill=\"#FF0000\"/>\n",
       "<path class=\"atom-10\" d=\"M 148.721 308.603 Q 148.721 306.963, 149.531 306.047 Q 150.341 305.131, 151.855 305.131 Q 153.369 305.131, 154.179 306.047 Q 154.989 306.963, 154.989 308.603 Q 154.989 310.261, 154.169 311.206 Q 153.35 312.141, 151.855 312.141 Q 150.351 312.141, 149.531 311.206 Q 148.721 310.271, 148.721 308.603 M 151.855 311.37 Q 152.897 311.37, 153.456 310.676 Q 154.025 309.972, 154.025 308.603 Q 154.025 307.262, 153.456 306.587 Q 152.897 305.903, 151.855 305.903 Q 150.814 305.903, 150.245 306.578 Q 149.686 307.253, 149.686 308.603 Q 149.686 309.981, 150.245 310.676 Q 150.814 311.37, 151.855 311.37 \" fill=\"#FF0000\"/>\n",
       "<path class=\"atom-10\" d=\"M 155.809 305.208 L 156.734 305.208 L 156.734 308.111 L 160.225 308.111 L 160.225 305.208 L 161.15 305.208 L 161.15 312.035 L 160.225 312.035 L 160.225 308.882 L 156.734 308.882 L 156.734 312.035 L 155.809 312.035 L 155.809 305.208 \" fill=\"#FF0000\"/>\n",
       "<path d=\"M 20.6884 384.432 Q 20.6884 381.616, 22.0004 380.144 Q 23.3284 378.656, 25.8404 378.656 Q 28.1764 378.656, 29.4244 380.304 L 28.3684 381.168 Q 27.4564 379.968, 25.8404 379.968 Q 24.1284 379.968, 23.2164 381.12 Q 22.3204 382.256, 22.3204 384.432 Q 22.3204 386.672, 23.2484 387.824 Q 24.1924 388.976, 26.0164 388.976 Q 27.2644 388.976, 28.7204 388.224 L 29.1684 389.424 Q 28.5764 389.808, 27.6804 390.032 Q 26.7844 390.256, 25.7924 390.256 Q 23.3284 390.256, 22.0004 388.752 Q 20.6884 387.248, 20.6884 384.432 \" fill=\"#000000\"/>\n",
       "<path d=\"M 32.5444 378.784 L 36.2564 384.784 Q 36.6244 385.376, 37.2164 386.448 Q 37.8084 387.52, 37.8404 387.584 L 37.8404 378.784 L 39.3444 378.784 L 39.3444 390.112 L 37.7924 390.112 L 33.8084 383.552 Q 33.3444 382.784, 32.8484 381.904 Q 32.3684 381.024, 32.2244 380.752 L 32.2244 390.112 L 30.7524 390.112 L 30.7524 378.784 L 32.5444 378.784 \" fill=\"#000000\"/>\n",
       "<path d=\"M 40.1444 385.552 Q 40.1444 383.248, 40.8004 381.376 Q 41.4724 379.504, 42.7684 377.44 L 43.6644 378.016 Q 42.6244 379.92, 42.0964 381.648 Q 41.5844 383.36, 41.5844 385.552 Q 41.5844 387.712, 42.0964 389.424 Q 42.6244 391.12, 43.6644 393.088 L 42.7684 393.664 Q 41.4724 391.632, 40.8004 389.76 Q 40.1444 387.872, 40.1444 385.552 \" fill=\"#000000\"/>\n",
       "<path d=\"M 44.4644 384.432 Q 44.4644 381.616, 45.7764 380.144 Q 47.1044 378.656, 49.6164 378.656 Q 51.9524 378.656, 53.2004 380.304 L 52.1444 381.168 Q 51.2324 379.968, 49.6164 379.968 Q 47.9044 379.968, 46.9924 381.12 Q 46.0964 382.256, 46.0964 384.432 Q 46.0964 386.672, 47.0244 387.824 Q 47.9684 388.976, 49.7924 388.976 Q 51.0404 388.976, 52.4964 388.224 L 52.9444 389.424 Q 52.3524 389.808, 51.4564 390.032 Q 50.5604 390.256, 49.5684 390.256 Q 47.1044 390.256, 45.7764 388.752 Q 44.4644 387.248, 44.4644 384.432 \" fill=\"#000000\"/>\n",
       "<path d=\"M 54.0004 384.432 Q 54.0004 381.616, 55.3124 380.144 Q 56.6404 378.656, 59.1524 378.656 Q 61.4884 378.656, 62.7364 380.304 L 61.6804 381.168 Q 60.7684 379.968, 59.1524 379.968 Q 57.4404 379.968, 56.5284 381.12 Q 55.6324 382.256, 55.6324 384.432 Q 55.6324 386.672, 56.5604 387.824 Q 57.5044 388.976, 59.3284 388.976 Q 60.5764 388.976, 62.0324 388.224 L 62.4804 389.424 Q 61.8884 389.808, 60.9924 390.032 Q 60.0964 390.256, 59.1044 390.256 Q 56.6404 390.256, 55.3124 388.752 Q 54.0004 387.248, 54.0004 384.432 \" fill=\"#000000\"/>\n",
       "<path d=\"M 65.8564 378.784 L 69.5684 384.784 Q 69.9364 385.376, 70.5284 386.448 Q 71.1204 387.52, 71.1524 387.584 L 71.1524 378.784 L 72.6564 378.784 L 72.6564 390.112 L 71.1044 390.112 L 67.1204 383.552 Q 66.6564 382.784, 66.1604 381.904 Q 65.6804 381.024, 65.5364 380.752 L 65.5364 390.112 L 64.0644 390.112 L 64.0644 378.784 L 65.8564 378.784 \" fill=\"#000000\"/>\n",
       "<path d=\"M 76.5764 385.552 Q 76.5764 387.872, 75.9044 389.76 Q 75.2484 391.632, 73.9524 393.664 L 73.0564 393.088 Q 74.0964 391.12, 74.6084 389.424 Q 75.1364 387.712, 75.1364 385.552 Q 75.1364 383.36, 74.6084 381.648 Q 74.0964 379.92, 73.0564 378.016 L 73.9524 377.44 Q 75.2484 379.504, 75.9044 381.376 Q 76.5764 383.248, 76.5764 385.552 \" fill=\"#000000\"/>\n",
       "<path d=\"M 77.3764 384.432 Q 77.3764 381.616, 78.6884 380.144 Q 80.0164 378.656, 82.5284 378.656 Q 84.8644 378.656, 86.1124 380.304 L 85.0564 381.168 Q 84.1444 379.968, 82.5284 379.968 Q 80.8164 379.968, 79.9044 381.12 Q 79.0084 382.256, 79.0084 384.432 Q 79.0084 386.672, 79.9364 387.824 Q 80.8804 388.976, 82.7044 388.976 Q 83.9524 388.976, 85.4084 388.224 L 85.8564 389.424 Q 85.2644 389.808, 84.3684 390.032 Q 83.4724 390.256, 82.4804 390.256 Q 80.0164 390.256, 78.6884 388.752 Q 77.3764 387.248, 77.3764 384.432 \" fill=\"#000000\"/>\n",
       "<path d=\"M 86.9124 385.552 Q 86.9124 383.248, 87.5684 381.376 Q 88.2404 379.504, 89.5364 377.44 L 90.4324 378.016 Q 89.3924 379.92, 88.8644 381.648 Q 88.3524 383.36, 88.3524 385.552 Q 88.3524 387.712, 88.8644 389.424 Q 89.3924 391.12, 90.4324 393.088 L 89.5364 393.664 Q 88.2404 391.632, 87.5684 389.76 Q 86.9124 387.872, 86.9124 385.552 \" fill=\"#000000\"/>\n",
       "<path d=\"M 91.8884 383.152 L 99.2164 383.152 L 99.2164 384.304 L 91.8884 384.304 L 91.8884 383.152 M 91.8884 386.576 L 99.2164 386.576 L 99.2164 387.728 L 91.8884 387.728 L 91.8884 386.576 \" fill=\"#000000\"/>\n",
       "<path d=\"M 100.016 384.416 Q 100.016 381.696, 101.36 380.176 Q 102.704 378.656, 105.216 378.656 Q 107.728 378.656, 109.072 380.176 Q 110.416 381.696, 110.416 384.416 Q 110.416 387.168, 109.056 388.736 Q 107.696 390.288, 105.216 390.288 Q 102.72 390.288, 101.36 388.736 Q 100.016 387.184, 100.016 384.416 M 105.216 389.008 Q 106.944 389.008, 107.872 387.856 Q 108.816 386.688, 108.816 384.416 Q 108.816 382.192, 107.872 381.072 Q 106.944 379.936, 105.216 379.936 Q 103.488 379.936, 102.544 381.056 Q 101.616 382.176, 101.616 384.416 Q 101.616 386.704, 102.544 387.856 Q 103.488 389.008, 105.216 389.008 \" fill=\"#000000\"/>\n",
       "<path d=\"M 114.336 385.552 Q 114.336 387.872, 113.664 389.76 Q 113.008 391.632, 111.712 393.664 L 110.816 393.088 Q 111.856 391.12, 112.368 389.424 Q 112.896 387.712, 112.896 385.552 Q 112.896 383.36, 112.368 381.648 Q 111.856 379.92, 110.816 378.016 L 111.712 377.44 Q 113.008 379.504, 113.664 381.376 Q 114.336 383.248, 114.336 385.552 \" fill=\"#000000\"/>\n",
       "<path d=\"M 115.136 384.432 Q 115.136 381.616, 116.448 380.144 Q 117.776 378.656, 120.288 378.656 Q 122.624 378.656, 123.872 380.304 L 122.816 381.168 Q 121.904 379.968, 120.288 379.968 Q 118.576 379.968, 117.664 381.12 Q 116.768 382.256, 116.768 384.432 Q 116.768 386.672, 117.696 387.824 Q 118.64 388.976, 120.464 388.976 Q 121.712 388.976, 123.168 388.224 L 123.616 389.424 Q 123.024 389.808, 122.128 390.032 Q 121.232 390.256, 120.24 390.256 Q 117.776 390.256, 116.448 388.752 Q 115.136 387.248, 115.136 384.432 \" fill=\"#000000\"/>\n",
       "<path d=\"M 124.672 384.432 Q 124.672 381.616, 125.984 380.144 Q 127.312 378.656, 129.824 378.656 Q 132.16 378.656, 133.408 380.304 L 132.352 381.168 Q 131.44 379.968, 129.824 379.968 Q 128.112 379.968, 127.2 381.12 Q 126.304 382.256, 126.304 384.432 Q 126.304 386.672, 127.232 387.824 Q 128.176 388.976, 130 388.976 Q 131.248 388.976, 132.704 388.224 L 133.152 389.424 Q 132.56 389.808, 131.664 390.032 Q 130.768 390.256, 129.776 390.256 Q 127.312 390.256, 125.984 388.752 Q 124.672 387.248, 124.672 384.432 \" fill=\"#000000\"/>\n",
       "<path d=\"M 134.208 385.552 Q 134.208 383.248, 134.864 381.376 Q 135.536 379.504, 136.832 377.44 L 137.728 378.016 Q 136.688 379.92, 136.16 381.648 Q 135.648 383.36, 135.648 385.552 Q 135.648 387.712, 136.16 389.424 Q 136.688 391.12, 137.728 393.088 L 136.832 393.664 Q 135.536 391.632, 134.864 389.76 Q 134.208 387.872, 134.208 385.552 \" fill=\"#000000\"/>\n",
       "<path d=\"M 139.184 383.152 L 146.512 383.152 L 146.512 384.304 L 139.184 384.304 L 139.184 383.152 M 139.184 386.576 L 146.512 386.576 L 146.512 387.728 L 139.184 387.728 L 139.184 386.576 \" fill=\"#000000\"/>\n",
       "<path d=\"M 147.312 384.416 Q 147.312 381.696, 148.656 380.176 Q 150 378.656, 152.512 378.656 Q 155.024 378.656, 156.368 380.176 Q 157.712 381.696, 157.712 384.416 Q 157.712 387.168, 156.352 388.736 Q 154.992 390.288, 152.512 390.288 Q 150.016 390.288, 148.656 388.736 Q 147.312 387.184, 147.312 384.416 M 152.512 389.008 Q 154.24 389.008, 155.168 387.856 Q 156.112 386.688, 156.112 384.416 Q 156.112 382.192, 155.168 381.072 Q 154.24 379.936, 152.512 379.936 Q 150.784 379.936, 149.84 381.056 Q 148.912 382.176, 148.912 384.416 Q 148.912 386.704, 149.84 387.856 Q 150.784 389.008, 152.512 389.008 \" fill=\"#000000\"/>\n",
       "<path d=\"M 161.632 385.552 Q 161.632 387.872, 160.96 389.76 Q 160.304 391.632, 159.008 393.664 L 158.112 393.088 Q 159.152 391.12, 159.664 389.424 Q 160.192 387.712, 160.192 385.552 Q 160.192 383.36, 159.664 381.648 Q 159.152 379.92, 158.112 378.016 L 159.008 377.44 Q 160.304 379.504, 160.96 381.376 Q 161.632 383.248, 161.632 385.552 \" fill=\"#000000\"/>\n",
       "<path d=\"M 162.432 384.416 Q 162.432 381.696, 163.776 380.176 Q 165.12 378.656, 167.632 378.656 Q 170.144 378.656, 171.488 380.176 Q 172.832 381.696, 172.832 384.416 Q 172.832 387.168, 171.472 388.736 Q 170.112 390.288, 167.632 390.288 Q 165.136 390.288, 163.776 388.736 Q 162.432 387.184, 162.432 384.416 M 167.632 389.008 Q 169.36 389.008, 170.288 387.856 Q 171.232 386.688, 171.232 384.416 Q 171.232 382.192, 170.288 381.072 Q 169.36 379.936, 167.632 379.936 Q 165.904 379.936, 164.96 381.056 Q 164.032 382.176, 164.032 384.416 Q 164.032 386.704, 164.96 387.856 Q 165.904 389.008, 167.632 389.008 \" fill=\"#000000\"/>\n",
       "<path class=\"bond-0\" d=\"M 238.645,279.632 L 247.98,275.294\" style=\"fill:none;fill-rule:evenodd;stroke:#000000;stroke-width:2.0px;stroke-linecap:butt;stroke-linejoin:miter;stroke-opacity:1\"/>\n",
       "<path class=\"bond-0\" d=\"M 247.98,275.294 L 257.315,270.957\" style=\"fill:none;fill-rule:evenodd;stroke:#0000FF;stroke-width:2.0px;stroke-linecap:butt;stroke-linejoin:miter;stroke-opacity:1\"/>\n",
       "<path class=\"bond-1\" d=\"M 263.698,271.716 L 271.966,277.522\" style=\"fill:none;fill-rule:evenodd;stroke:#0000FF;stroke-width:2.0px;stroke-linecap:butt;stroke-linejoin:miter;stroke-opacity:1\"/>\n",
       "<path class=\"bond-1\" d=\"M 271.966,277.522 L 280.234,283.328\" style=\"fill:none;fill-rule:evenodd;stroke:#000000;stroke-width:2.0px;stroke-linecap:butt;stroke-linejoin:miter;stroke-opacity:1\"/>\n",
       "<path class=\"bond-2\" d=\"M 280.234,283.328 L 302.095,273.171\" style=\"fill:none;fill-rule:evenodd;stroke:#000000;stroke-width:2.0px;stroke-linecap:butt;stroke-linejoin:miter;stroke-opacity:1\"/>\n",
       "<path class=\"bond-3\" d=\"M 302.095,273.171 L 310.363,278.977\" style=\"fill:none;fill-rule:evenodd;stroke:#000000;stroke-width:2.0px;stroke-linecap:butt;stroke-linejoin:miter;stroke-opacity:1\"/>\n",
       "<path class=\"bond-3\" d=\"M 310.363,278.977 L 318.631,284.783\" style=\"fill:none;fill-rule:evenodd;stroke:#0000FF;stroke-width:2.0px;stroke-linecap:butt;stroke-linejoin:miter;stroke-opacity:1\"/>\n",
       "<path class=\"bond-4\" d=\"M 325.014,285.541 L 334.349,281.204\" style=\"fill:none;fill-rule:evenodd;stroke:#0000FF;stroke-width:2.0px;stroke-linecap:butt;stroke-linejoin:miter;stroke-opacity:1\"/>\n",
       "<path class=\"bond-4\" d=\"M 334.349,281.204 L 343.684,276.867\" style=\"fill:none;fill-rule:evenodd;stroke:#000000;stroke-width:2.0px;stroke-linecap:butt;stroke-linejoin:miter;stroke-opacity:1\"/>\n",
       "<path class=\"bond-5\" d=\"M 343.684,276.867 L 363.411,290.721\" style=\"fill:none;fill-rule:evenodd;stroke:#000000;stroke-width:2.0px;stroke-linecap:butt;stroke-linejoin:miter;stroke-opacity:1\"/>\n",
       "<path class=\"bond-6\" d=\"M 346.085,277.08 L 346.967,267.155\" style=\"fill:none;fill-rule:evenodd;stroke:#000000;stroke-width:2.0px;stroke-linecap:butt;stroke-linejoin:miter;stroke-opacity:1\"/>\n",
       "<path class=\"bond-6\" d=\"M 346.967,267.155 L 347.849,257.23\" style=\"fill:none;fill-rule:evenodd;stroke:#FF0000;stroke-width:2.0px;stroke-linecap:butt;stroke-linejoin:miter;stroke-opacity:1\"/>\n",
       "<path class=\"bond-6\" d=\"M 341.283,276.654 L 342.165,266.728\" style=\"fill:none;fill-rule:evenodd;stroke:#000000;stroke-width:2.0px;stroke-linecap:butt;stroke-linejoin:miter;stroke-opacity:1\"/>\n",
       "<path class=\"bond-6\" d=\"M 342.165,266.728 L 343.047,256.803\" style=\"fill:none;fill-rule:evenodd;stroke:#FF0000;stroke-width:2.0px;stroke-linecap:butt;stroke-linejoin:miter;stroke-opacity:1\"/>\n",
       "<path class=\"atom-1\" d=\"M 258.998 266.061 L 261.235 269.677 Q 261.457 270.033, 261.813 270.679 Q 262.17 271.325, 262.189 271.364 L 262.189 266.061 L 263.096 266.061 L 263.096 272.888 L 262.16 272.888 L 259.76 268.934 Q 259.48 268.471, 259.181 267.941 Q 258.892 267.411, 258.805 267.247 L 258.805 272.888 L 257.918 272.888 L 257.918 266.061 L 258.998 266.061 \" fill=\"#0000FF\"/>\n",
       "<path class=\"atom-1\" d=\"M 257.836 258.551 L 258.762 258.551 L 258.762 261.454 L 262.252 261.454 L 262.252 258.551 L 263.178 258.551 L 263.178 265.378 L 262.252 265.378 L 262.252 262.225 L 258.762 262.225 L 258.762 265.378 L 257.836 265.378 L 257.836 258.551 \" fill=\"#0000FF\"/>\n",
       "<path class=\"atom-4\" d=\"M 320.313 283.611 L 322.55 287.227 Q 322.772 287.584, 323.129 288.23 Q 323.486 288.876, 323.505 288.914 L 323.505 283.611 L 324.411 283.611 L 324.411 290.438 L 323.476 290.438 L 321.075 286.484 Q 320.796 286.022, 320.497 285.491 Q 320.207 284.961, 320.121 284.797 L 320.121 290.438 L 319.234 290.438 L 319.234 283.611 L 320.313 283.611 \" fill=\"#0000FF\"/>\n",
       "<path class=\"atom-4\" d=\"M 319.152 291.12 L 320.077 291.12 L 320.077 294.023 L 323.568 294.023 L 323.568 291.12 L 324.493 291.12 L 324.493 297.947 L 323.568 297.947 L 323.568 294.794 L 320.077 294.794 L 320.077 297.947 L 319.152 297.947 L 319.152 291.12 \" fill=\"#0000FF\"/>\n",
       "<path class=\"atom-7\" d=\"M 342.684 252.875 Q 342.684 251.236, 343.494 250.32 Q 344.304 249.404, 345.818 249.404 Q 347.332 249.404, 348.142 250.32 Q 348.952 251.236, 348.952 252.875 Q 348.952 254.534, 348.132 255.479 Q 347.313 256.414, 345.818 256.414 Q 344.314 256.414, 343.494 255.479 Q 342.684 254.543, 342.684 252.875 M 345.818 255.643 Q 346.859 255.643, 347.419 254.948 Q 347.987 254.244, 347.987 252.875 Q 347.987 251.535, 347.419 250.86 Q 346.859 250.175, 345.818 250.175 Q 344.777 250.175, 344.208 250.85 Q 343.648 251.525, 343.648 252.875 Q 343.648 254.254, 344.208 254.948 Q 344.777 255.643, 345.818 255.643 \" fill=\"#FF0000\"/>\n",
       "<path d=\"M 248.932 384.432 Q 248.932 381.616, 250.244 380.144 Q 251.572 378.656, 254.084 378.656 Q 256.42 378.656, 257.668 380.304 L 256.612 381.168 Q 255.7 379.968, 254.084 379.968 Q 252.372 379.968, 251.46 381.12 Q 250.564 382.256, 250.564 384.432 Q 250.564 386.672, 251.492 387.824 Q 252.436 388.976, 254.26 388.976 Q 255.508 388.976, 256.964 388.224 L 257.412 389.424 Q 256.82 389.808, 255.924 390.032 Q 255.028 390.256, 254.036 390.256 Q 251.572 390.256, 250.244 388.752 Q 248.932 387.248, 248.932 384.432 \" fill=\"#000000\"/>\n",
       "<path d=\"M 260.788 378.784 L 264.5 384.784 Q 264.868 385.376, 265.46 386.448 Q 266.052 387.52, 266.084 387.584 L 266.084 378.784 L 267.588 378.784 L 267.588 390.112 L 266.036 390.112 L 262.052 383.552 Q 261.588 382.784, 261.092 381.904 Q 260.612 381.024, 260.468 380.752 L 260.468 390.112 L 258.996 390.112 L 258.996 378.784 L 260.788 378.784 \" fill=\"#000000\"/>\n",
       "<path d=\"M 268.388 384.432 Q 268.388 381.616, 269.7 380.144 Q 271.028 378.656, 273.54 378.656 Q 275.876 378.656, 277.124 380.304 L 276.068 381.168 Q 275.156 379.968, 273.54 379.968 Q 271.828 379.968, 270.916 381.12 Q 270.02 382.256, 270.02 384.432 Q 270.02 386.672, 270.948 387.824 Q 271.892 388.976, 273.716 388.976 Q 274.964 388.976, 276.42 388.224 L 276.868 389.424 Q 276.276 389.808, 275.38 390.032 Q 274.484 390.256, 273.492 390.256 Q 271.028 390.256, 269.7 388.752 Q 268.388 387.248, 268.388 384.432 \" fill=\"#000000\"/>\n",
       "<path d=\"M 277.924 384.432 Q 277.924 381.616, 279.236 380.144 Q 280.564 378.656, 283.076 378.656 Q 285.412 378.656, 286.66 380.304 L 285.604 381.168 Q 284.692 379.968, 283.076 379.968 Q 281.364 379.968, 280.452 381.12 Q 279.556 382.256, 279.556 384.432 Q 279.556 386.672, 280.484 387.824 Q 281.428 388.976, 283.252 388.976 Q 284.5 388.976, 285.956 388.224 L 286.404 389.424 Q 285.812 389.808, 284.916 390.032 Q 284.02 390.256, 283.028 390.256 Q 280.564 390.256, 279.236 388.752 Q 277.924 387.248, 277.924 384.432 \" fill=\"#000000\"/>\n",
       "<path d=\"M 289.78 378.784 L 293.492 384.784 Q 293.86 385.376, 294.452 386.448 Q 295.044 387.52, 295.076 387.584 L 295.076 378.784 L 296.58 378.784 L 296.58 390.112 L 295.028 390.112 L 291.044 383.552 Q 290.58 382.784, 290.084 381.904 Q 289.604 381.024, 289.46 380.752 L 289.46 390.112 L 287.988 390.112 L 287.988 378.784 L 289.78 378.784 \" fill=\"#000000\"/>\n",
       "<path d=\"M 297.38 384.432 Q 297.38 381.616, 298.692 380.144 Q 300.02 378.656, 302.532 378.656 Q 304.868 378.656, 306.116 380.304 L 305.06 381.168 Q 304.148 379.968, 302.532 379.968 Q 300.82 379.968, 299.908 381.12 Q 299.012 382.256, 299.012 384.432 Q 299.012 386.672, 299.94 387.824 Q 300.884 388.976, 302.708 388.976 Q 303.956 388.976, 305.412 388.224 L 305.86 389.424 Q 305.268 389.808, 304.372 390.032 Q 303.476 390.256, 302.484 390.256 Q 300.02 390.256, 298.692 388.752 Q 297.38 387.248, 297.38 384.432 \" fill=\"#000000\"/>\n",
       "<path d=\"M 306.916 385.552 Q 306.916 383.248, 307.572 381.376 Q 308.244 379.504, 309.54 377.44 L 310.436 378.016 Q 309.396 379.92, 308.868 381.648 Q 308.356 383.36, 308.356 385.552 Q 308.356 387.712, 308.868 389.424 Q 309.396 391.12, 310.436 393.088 L 309.54 393.664 Q 308.244 391.632, 307.572 389.76 Q 306.916 387.872, 306.916 385.552 \" fill=\"#000000\"/>\n",
       "<path d=\"M 311.236 384.432 Q 311.236 381.616, 312.548 380.144 Q 313.876 378.656, 316.388 378.656 Q 318.724 378.656, 319.972 380.304 L 318.916 381.168 Q 318.004 379.968, 316.388 379.968 Q 314.676 379.968, 313.764 381.12 Q 312.868 382.256, 312.868 384.432 Q 312.868 386.672, 313.796 387.824 Q 314.74 388.976, 316.564 388.976 Q 317.812 388.976, 319.268 388.224 L 319.716 389.424 Q 319.124 389.808, 318.228 390.032 Q 317.332 390.256, 316.34 390.256 Q 313.876 390.256, 312.548 388.752 Q 311.236 387.248, 311.236 384.432 \" fill=\"#000000\"/>\n",
       "<path d=\"M 323.892 385.552 Q 323.892 387.872, 323.22 389.76 Q 322.564 391.632, 321.268 393.664 L 320.372 393.088 Q 321.412 391.12, 321.924 389.424 Q 322.452 387.712, 322.452 385.552 Q 322.452 383.36, 321.924 381.648 Q 321.412 379.92, 320.372 378.016 L 321.268 377.44 Q 322.564 379.504, 323.22 381.376 Q 323.892 383.248, 323.892 385.552 \" fill=\"#000000\"/>\n",
       "<path d=\"M 325.348 383.152 L 332.676 383.152 L 332.676 384.304 L 325.348 384.304 L 325.348 383.152 M 325.348 386.576 L 332.676 386.576 L 332.676 387.728 L 325.348 387.728 L 325.348 386.576 \" fill=\"#000000\"/>\n",
       "<path d=\"M 333.476 384.416 Q 333.476 381.696, 334.82 380.176 Q 336.164 378.656, 338.676 378.656 Q 341.188 378.656, 342.532 380.176 Q 343.876 381.696, 343.876 384.416 Q 343.876 387.168, 342.516 388.736 Q 341.156 390.288, 338.676 390.288 Q 336.18 390.288, 334.82 388.736 Q 333.476 387.184, 333.476 384.416 M 338.676 389.008 Q 340.404 389.008, 341.332 387.856 Q 342.276 386.688, 342.276 384.416 Q 342.276 382.192, 341.332 381.072 Q 340.404 379.936, 338.676 379.936 Q 336.948 379.936, 336.004 381.056 Q 335.076 382.176, 335.076 384.416 Q 335.076 386.704, 336.004 387.856 Q 336.948 389.008, 338.676 389.008 \" fill=\"#000000\"/>\n",
       "<path class=\"bond-0\" d=\"M 457.346,242.522 L 477.219,256.167\" style=\"fill:none;fill-rule:evenodd;stroke:#000000;stroke-width:2.0px;stroke-linecap:butt;stroke-linejoin:miter;stroke-opacity:1\"/>\n",
       "<path class=\"bond-1\" d=\"M 477.219,256.167 L 476.435,266.175\" style=\"fill:none;fill-rule:evenodd;stroke:#000000;stroke-width:2.0px;stroke-linecap:butt;stroke-linejoin:miter;stroke-opacity:1\"/>\n",
       "<path class=\"bond-1\" d=\"M 476.435,266.175 L 475.652,276.183\" style=\"fill:none;fill-rule:evenodd;stroke:#0000FF;stroke-width:2.0px;stroke-linecap:butt;stroke-linejoin:miter;stroke-opacity:1\"/>\n",
       "<path class=\"bond-2\" d=\"M 472.146,281.723 L 462.866,286.155\" style=\"fill:none;fill-rule:evenodd;stroke:#0000FF;stroke-width:2.0px;stroke-linecap:butt;stroke-linejoin:miter;stroke-opacity:1\"/>\n",
       "<path class=\"bond-2\" d=\"M 462.866,286.155 L 453.585,290.587\" style=\"fill:none;fill-rule:evenodd;stroke:#000000;stroke-width:2.0px;stroke-linecap:butt;stroke-linejoin:miter;stroke-opacity:1\"/>\n",
       "<path class=\"bond-3\" d=\"M 478.53,282.391 L 486.87,288.117\" style=\"fill:none;fill-rule:evenodd;stroke:#0000FF;stroke-width:2.0px;stroke-linecap:butt;stroke-linejoin:miter;stroke-opacity:1\"/>\n",
       "<path class=\"bond-3\" d=\"M 486.87,288.117 L 495.21,293.844\" style=\"fill:none;fill-rule:evenodd;stroke:#000000;stroke-width:2.0px;stroke-linecap:butt;stroke-linejoin:miter;stroke-opacity:1\"/>\n",
       "<path class=\"bond-4\" d=\"M 492.807,293.656 L 492.026,303.645\" style=\"fill:none;fill-rule:evenodd;stroke:#000000;stroke-width:2.0px;stroke-linecap:butt;stroke-linejoin:miter;stroke-opacity:1\"/>\n",
       "<path class=\"bond-4\" d=\"M 492.026,303.645 L 491.244,313.634\" style=\"fill:none;fill-rule:evenodd;stroke:#FF0000;stroke-width:2.0px;stroke-linecap:butt;stroke-linejoin:miter;stroke-opacity:1\"/>\n",
       "<path class=\"bond-4\" d=\"M 497.614,294.032 L 496.832,304.021\" style=\"fill:none;fill-rule:evenodd;stroke:#000000;stroke-width:2.0px;stroke-linecap:butt;stroke-linejoin:miter;stroke-opacity:1\"/>\n",
       "<path class=\"bond-4\" d=\"M 496.832,304.021 L 496.05,314.01\" style=\"fill:none;fill-rule:evenodd;stroke:#FF0000;stroke-width:2.0px;stroke-linecap:butt;stroke-linejoin:miter;stroke-opacity:1\"/>\n",
       "<path class=\"bond-5\" d=\"M 495.21,293.844 L 516.963,283.456\" style=\"fill:none;fill-rule:evenodd;stroke:#000000;stroke-width:2.0px;stroke-linecap:butt;stroke-linejoin:miter;stroke-opacity:1\"/>\n",
       "<path class=\"bond-6\" d=\"M 516.963,283.456 L 518.844,259.424\" style=\"fill:none;fill-rule:evenodd;stroke:#000000;stroke-width:2.0px;stroke-linecap:butt;stroke-linejoin:miter;stroke-opacity:1\"/>\n",
       "<path class=\"bond-6\" d=\"M 522.052,280.228 L 523.368,263.405\" style=\"fill:none;fill-rule:evenodd;stroke:#000000;stroke-width:2.0px;stroke-linecap:butt;stroke-linejoin:miter;stroke-opacity:1\"/>\n",
       "<path class=\"bond-11\" d=\"M 516.963,283.456 L 536.836,297.101\" style=\"fill:none;fill-rule:evenodd;stroke:#000000;stroke-width:2.0px;stroke-linecap:butt;stroke-linejoin:miter;stroke-opacity:1\"/>\n",
       "<path class=\"bond-7\" d=\"M 518.844,259.424 L 540.597,249.036\" style=\"fill:none;fill-rule:evenodd;stroke:#000000;stroke-width:2.0px;stroke-linecap:butt;stroke-linejoin:miter;stroke-opacity:1\"/>\n",
       "<path class=\"bond-8\" d=\"M 540.597,249.036 L 560.469,262.681\" style=\"fill:none;fill-rule:evenodd;stroke:#000000;stroke-width:2.0px;stroke-linecap:butt;stroke-linejoin:miter;stroke-opacity:1\"/>\n",
       "<path class=\"bond-8\" d=\"M 540.849,255.058 L 554.759,264.609\" style=\"fill:none;fill-rule:evenodd;stroke:#000000;stroke-width:2.0px;stroke-linecap:butt;stroke-linejoin:miter;stroke-opacity:1\"/>\n",
       "<path class=\"bond-9\" d=\"M 560.469,262.681 L 558.589,286.713\" style=\"fill:none;fill-rule:evenodd;stroke:#000000;stroke-width:2.0px;stroke-linecap:butt;stroke-linejoin:miter;stroke-opacity:1\"/>\n",
       "<path class=\"bond-10\" d=\"M 558.589,286.713 L 536.836,297.101\" style=\"fill:none;fill-rule:evenodd;stroke:#000000;stroke-width:2.0px;stroke-linecap:butt;stroke-linejoin:miter;stroke-opacity:1\"/>\n",
       "<path class=\"bond-10\" d=\"M 553.248,283.921 L 538.021,291.192\" style=\"fill:none;fill-rule:evenodd;stroke:#000000;stroke-width:2.0px;stroke-linecap:butt;stroke-linejoin:miter;stroke-opacity:1\"/>\n",
       "<path class=\"atom-2\" d=\"M 473.829 276.786 L 476.066 280.402 Q 476.288 280.759, 476.645 281.405 Q 477.001 282.051, 477.021 282.089 L 477.021 276.786 L 477.927 276.786 L 477.927 283.613 L 476.992 283.613 L 474.591 279.659 Q 474.311 279.197, 474.012 278.666 Q 473.723 278.136, 473.636 277.972 L 473.636 283.613 L 472.749 283.613 L 472.749 276.786 L 473.829 276.786 \" fill=\"#0000FF\"/>\n",
       "<path class=\"atom-5\" d=\"M 490.196 317.896 Q 490.196 316.256, 491.006 315.34 Q 491.816 314.424, 493.33 314.424 Q 494.844 314.424, 495.654 315.34 Q 496.464 316.256, 496.464 317.896 Q 496.464 319.554, 495.644 320.499 Q 494.825 321.434, 493.33 321.434 Q 491.826 321.434, 491.006 320.499 Q 490.196 319.564, 490.196 317.896 M 493.33 320.663 Q 494.371 320.663, 494.931 319.969 Q 495.499 319.265, 495.499 317.896 Q 495.499 316.555, 494.931 315.88 Q 494.371 315.196, 493.33 315.196 Q 492.289 315.196, 491.72 315.871 Q 491.16 316.546, 491.16 317.896 Q 491.16 319.274, 491.72 319.969 Q 492.289 320.663, 493.33 320.663 \" fill=\"#FF0000\"/>\n",
       "<path d=\"M 424.016 384.432 Q 424.016 381.616, 425.328 380.144 Q 426.656 378.656, 429.168 378.656 Q 431.504 378.656, 432.752 380.304 L 431.696 381.168 Q 430.784 379.968, 429.168 379.968 Q 427.456 379.968, 426.544 381.12 Q 425.648 382.256, 425.648 384.432 Q 425.648 386.672, 426.576 387.824 Q 427.52 388.976, 429.344 388.976 Q 430.592 388.976, 432.048 388.224 L 432.496 389.424 Q 431.904 389.808, 431.008 390.032 Q 430.112 390.256, 429.12 390.256 Q 426.656 390.256, 425.328 388.752 Q 424.016 387.248, 424.016 384.432 \" fill=\"#000000\"/>\n",
       "<path d=\"M 433.552 384.432 Q 433.552 381.616, 434.864 380.144 Q 436.192 378.656, 438.704 378.656 Q 441.04 378.656, 442.288 380.304 L 441.232 381.168 Q 440.32 379.968, 438.704 379.968 Q 436.992 379.968, 436.08 381.12 Q 435.184 382.256, 435.184 384.432 Q 435.184 386.672, 436.112 387.824 Q 437.056 388.976, 438.88 388.976 Q 440.128 388.976, 441.584 388.224 L 442.032 389.424 Q 441.44 389.808, 440.544 390.032 Q 439.648 390.256, 438.656 390.256 Q 436.192 390.256, 434.864 388.752 Q 433.552 387.248, 433.552 384.432 \" fill=\"#000000\"/>\n",
       "<path d=\"M 445.408 378.784 L 449.12 384.784 Q 449.488 385.376, 450.08 386.448 Q 450.672 387.52, 450.704 387.584 L 450.704 378.784 L 452.208 378.784 L 452.208 390.112 L 450.656 390.112 L 446.672 383.552 Q 446.208 382.784, 445.712 381.904 Q 445.232 381.024, 445.088 380.752 L 445.088 390.112 L 443.616 390.112 L 443.616 378.784 L 445.408 378.784 \" fill=\"#000000\"/>\n",
       "<path d=\"M 453.008 385.552 Q 453.008 383.248, 453.664 381.376 Q 454.336 379.504, 455.632 377.44 L 456.528 378.016 Q 455.488 379.92, 454.96 381.648 Q 454.448 383.36, 454.448 385.552 Q 454.448 387.712, 454.96 389.424 Q 455.488 391.12, 456.528 393.088 L 455.632 393.664 Q 454.336 391.632, 453.664 389.76 Q 453.008 387.872, 453.008 385.552 \" fill=\"#000000\"/>\n",
       "<path d=\"M 457.328 384.432 Q 457.328 381.616, 458.64 380.144 Q 459.968 378.656, 462.48 378.656 Q 464.816 378.656, 466.064 380.304 L 465.008 381.168 Q 464.096 379.968, 462.48 379.968 Q 460.768 379.968, 459.856 381.12 Q 458.96 382.256, 458.96 384.432 Q 458.96 386.672, 459.888 387.824 Q 460.832 388.976, 462.656 388.976 Q 463.904 388.976, 465.36 388.224 L 465.808 389.424 Q 465.216 389.808, 464.32 390.032 Q 463.424 390.256, 462.432 390.256 Q 459.968 390.256, 458.64 388.752 Q 457.328 387.248, 457.328 384.432 \" fill=\"#000000\"/>\n",
       "<path d=\"M 469.984 385.552 Q 469.984 387.872, 469.312 389.76 Q 468.656 391.632, 467.36 393.664 L 466.464 393.088 Q 467.504 391.12, 468.016 389.424 Q 468.544 387.712, 468.544 385.552 Q 468.544 383.36, 468.016 381.648 Q 467.504 379.92, 466.464 378.016 L 467.36 377.44 Q 468.656 379.504, 469.312 381.376 Q 469.984 383.248, 469.984 385.552 \" fill=\"#000000\"/>\n",
       "<path d=\"M 470.784 384.432 Q 470.784 381.616, 472.096 380.144 Q 473.424 378.656, 475.936 378.656 Q 478.272 378.656, 479.52 380.304 L 478.464 381.168 Q 477.552 379.968, 475.936 379.968 Q 474.224 379.968, 473.312 381.12 Q 472.416 382.256, 472.416 384.432 Q 472.416 386.672, 473.344 387.824 Q 474.288 388.976, 476.112 388.976 Q 477.36 388.976, 478.816 388.224 L 479.264 389.424 Q 478.672 389.808, 477.776 390.032 Q 476.88 390.256, 475.888 390.256 Q 473.424 390.256, 472.096 388.752 Q 470.784 387.248, 470.784 384.432 \" fill=\"#000000\"/>\n",
       "<path d=\"M 480.32 385.552 Q 480.32 383.248, 480.976 381.376 Q 481.648 379.504, 482.944 377.44 L 483.84 378.016 Q 482.8 379.92, 482.272 381.648 Q 481.76 383.36, 481.76 385.552 Q 481.76 387.712, 482.272 389.424 Q 482.8 391.12, 483.84 393.088 L 482.944 393.664 Q 481.648 391.632, 480.976 389.76 Q 480.32 387.872, 480.32 385.552 \" fill=\"#000000\"/>\n",
       "<path d=\"M 485.296 383.152 L 492.624 383.152 L 492.624 384.304 L 485.296 384.304 L 485.296 383.152 M 485.296 386.576 L 492.624 386.576 L 492.624 387.728 L 485.296 387.728 L 485.296 386.576 \" fill=\"#000000\"/>\n",
       "<path d=\"M 493.424 384.416 Q 493.424 381.696, 494.768 380.176 Q 496.112 378.656, 498.624 378.656 Q 501.136 378.656, 502.48 380.176 Q 503.824 381.696, 503.824 384.416 Q 503.824 387.168, 502.464 388.736 Q 501.104 390.288, 498.624 390.288 Q 496.128 390.288, 494.768 388.736 Q 493.424 387.184, 493.424 384.416 M 498.624 389.008 Q 500.352 389.008, 501.28 387.856 Q 502.224 386.688, 502.224 384.416 Q 502.224 382.192, 501.28 381.072 Q 500.352 379.936, 498.624 379.936 Q 496.896 379.936, 495.952 381.056 Q 495.024 382.176, 495.024 384.416 Q 495.024 386.704, 495.952 387.856 Q 496.896 389.008, 498.624 389.008 \" fill=\"#000000\"/>\n",
       "<path d=\"M 507.744 385.552 Q 507.744 387.872, 507.072 389.76 Q 506.416 391.632, 505.12 393.664 L 504.224 393.088 Q 505.264 391.12, 505.776 389.424 Q 506.304 387.712, 506.304 385.552 Q 506.304 383.36, 505.776 381.648 Q 505.264 379.92, 504.224 378.016 L 505.12 377.44 Q 506.416 379.504, 507.072 381.376 Q 507.744 383.248, 507.744 385.552 \" fill=\"#000000\"/>\n",
       "<path d=\"M 508.48 385.984 Q 508.48 384, 509.472 382.88 Q 510.464 381.744, 512.416 381.744 Q 514.288 381.744, 515.264 383.104 L 514.256 383.856 Q 513.872 383.392, 513.424 383.168 Q 512.992 382.928, 512.416 382.928 Q 511.28 382.928, 510.64 383.712 Q 510.016 384.48, 510.016 385.984 Q 510.016 387.504, 510.656 388.288 Q 511.312 389.056, 512.512 389.056 Q 513.184 389.056, 513.648 388.912 Q 514.112 388.752, 514.688 388.496 L 515.104 389.52 Q 513.92 390.208, 512.4 390.208 Q 510.464 390.208, 509.472 389.088 Q 508.48 387.968, 508.48 385.984 \" fill=\"#000000\"/>\n",
       "<path d=\"M 516.752 388.832 L 519.232 388.832 L 519.232 380.368 L 516.496 381.216 L 516.128 380.272 L 519.6 378.72 L 520.736 378.912 L 520.736 388.832 L 522.96 388.832 L 522.96 390.112 L 516.752 390.112 L 516.752 388.832 \" fill=\"#000000\"/>\n",
       "<path d=\"M 523.696 385.984 Q 523.696 384, 524.688 382.88 Q 525.68 381.744, 527.632 381.744 Q 529.504 381.744, 530.48 383.104 L 529.472 383.856 Q 529.088 383.392, 528.64 383.168 Q 528.208 382.928, 527.632 382.928 Q 526.496 382.928, 525.856 383.712 Q 525.232 384.48, 525.232 385.984 Q 525.232 387.504, 525.872 388.288 Q 526.528 389.056, 527.728 389.056 Q 528.4 389.056, 528.864 388.912 Q 529.328 388.752, 529.904 388.496 L 530.32 389.52 Q 529.136 390.208, 527.616 390.208 Q 525.68 390.208, 524.688 389.088 Q 523.696 387.968, 523.696 385.984 \" fill=\"#000000\"/>\n",
       "<path d=\"M 531.216 385.984 Q 531.216 384, 532.208 382.88 Q 533.2 381.744, 535.152 381.744 Q 537.024 381.744, 538 383.104 L 536.992 383.856 Q 536.608 383.392, 536.16 383.168 Q 535.728 382.928, 535.152 382.928 Q 534.016 382.928, 533.376 383.712 Q 532.752 384.48, 532.752 385.984 Q 532.752 387.504, 533.392 388.288 Q 534.048 389.056, 535.248 389.056 Q 535.92 389.056, 536.384 388.912 Q 536.848 388.752, 537.424 388.496 L 537.84 389.52 Q 536.656 390.208, 535.136 390.208 Q 533.2 390.208, 532.208 389.088 Q 531.216 387.968, 531.216 385.984 \" fill=\"#000000\"/>\n",
       "<path d=\"M 538.736 385.984 Q 538.736 384, 539.728 382.88 Q 540.72 381.744, 542.672 381.744 Q 544.544 381.744, 545.52 383.104 L 544.512 383.856 Q 544.128 383.392, 543.68 383.168 Q 543.248 382.928, 542.672 382.928 Q 541.536 382.928, 540.896 383.712 Q 540.272 384.48, 540.272 385.984 Q 540.272 387.504, 540.912 388.288 Q 541.568 389.056, 542.768 389.056 Q 543.44 389.056, 543.904 388.912 Q 544.368 388.752, 544.944 388.496 L 545.36 389.52 Q 544.176 390.208, 542.656 390.208 Q 540.72 390.208, 539.728 389.088 Q 538.736 387.968, 538.736 385.984 \" fill=\"#000000\"/>\n",
       "<path d=\"M 546.256 385.984 Q 546.256 384, 547.248 382.88 Q 548.24 381.744, 550.192 381.744 Q 552.064 381.744, 553.04 383.104 L 552.032 383.856 Q 551.648 383.392, 551.2 383.168 Q 550.768 382.928, 550.192 382.928 Q 549.056 382.928, 548.416 383.712 Q 547.792 384.48, 547.792 385.984 Q 547.792 387.504, 548.432 388.288 Q 549.088 389.056, 550.288 389.056 Q 550.96 389.056, 551.424 388.912 Q 551.888 388.752, 552.464 388.496 L 552.88 389.52 Q 551.696 390.208, 550.176 390.208 Q 548.24 390.208, 547.248 389.088 Q 546.256 387.968, 546.256 385.984 \" fill=\"#000000\"/>\n",
       "<path d=\"M 553.776 385.984 Q 553.776 384, 554.768 382.88 Q 555.76 381.744, 557.712 381.744 Q 559.584 381.744, 560.56 383.104 L 559.552 383.856 Q 559.168 383.392, 558.72 383.168 Q 558.288 382.928, 557.712 382.928 Q 556.576 382.928, 555.936 383.712 Q 555.312 384.48, 555.312 385.984 Q 555.312 387.504, 555.952 388.288 Q 556.608 389.056, 557.808 389.056 Q 558.48 389.056, 558.944 388.912 Q 559.408 388.752, 559.984 388.496 L 560.4 389.52 Q 559.216 390.208, 557.696 390.208 Q 555.76 390.208, 554.768 389.088 Q 553.776 387.968, 553.776 385.984 \" fill=\"#000000\"/>\n",
       "<path d=\"M 562.048 388.832 L 564.528 388.832 L 564.528 380.368 L 561.792 381.216 L 561.424 380.272 L 564.896 378.72 L 566.032 378.912 L 566.032 388.832 L 568.256 388.832 L 568.256 390.112 L 562.048 390.112 L 562.048 388.832 \" fill=\"#000000\"/>\n",
       "<path class=\"bond-0\" d=\"M 734.273,247.538 L 733.337,271.626\" style=\"fill:none;fill-rule:evenodd;stroke:#000000;stroke-width:2.0px;stroke-linecap:butt;stroke-linejoin:miter;stroke-opacity:1\"/>\n",
       "<path class=\"bond-1\" d=\"M 732.051,273.665 L 740.379,278.914\" style=\"fill:none;fill-rule:evenodd;stroke:#000000;stroke-width:2.0px;stroke-linecap:butt;stroke-linejoin:miter;stroke-opacity:1\"/>\n",
       "<path class=\"bond-1\" d=\"M 740.379,278.914 L 748.707,284.164\" style=\"fill:none;fill-rule:evenodd;stroke:#FF0000;stroke-width:2.0px;stroke-linecap:butt;stroke-linejoin:miter;stroke-opacity:1\"/>\n",
       "<path class=\"bond-1\" d=\"M 734.622,269.586 L 742.95,274.836\" style=\"fill:none;fill-rule:evenodd;stroke:#000000;stroke-width:2.0px;stroke-linecap:butt;stroke-linejoin:miter;stroke-opacity:1\"/>\n",
       "<path class=\"bond-1\" d=\"M 742.95,274.836 L 751.278,280.086\" style=\"fill:none;fill-rule:evenodd;stroke:#FF0000;stroke-width:2.0px;stroke-linecap:butt;stroke-linejoin:miter;stroke-opacity:1\"/>\n",
       "<path class=\"bond-2\" d=\"M 733.337,271.626 L 724.268,276.402\" style=\"fill:none;fill-rule:evenodd;stroke:#000000;stroke-width:2.0px;stroke-linecap:butt;stroke-linejoin:miter;stroke-opacity:1\"/>\n",
       "<path class=\"bond-2\" d=\"M 724.268,276.402 L 715.2,281.178\" style=\"fill:none;fill-rule:evenodd;stroke:#0000FF;stroke-width:2.0px;stroke-linecap:butt;stroke-linejoin:miter;stroke-opacity:1\"/>\n",
       "<path class=\"bond-3\" d=\"M 711.852,286.875 L 711.462,296.91\" style=\"fill:none;fill-rule:evenodd;stroke:#0000FF;stroke-width:2.0px;stroke-linecap:butt;stroke-linejoin:miter;stroke-opacity:1\"/>\n",
       "<path class=\"bond-3\" d=\"M 711.462,296.91 L 711.072,306.946\" style=\"fill:none;fill-rule:evenodd;stroke:#000000;stroke-width:2.0px;stroke-linecap:butt;stroke-linejoin:miter;stroke-opacity:1\"/>\n",
       "<path class=\"bond-4\" d=\"M 708.817,280.847 L 700.216,275.425\" style=\"fill:none;fill-rule:evenodd;stroke:#0000FF;stroke-width:2.0px;stroke-linecap:butt;stroke-linejoin:miter;stroke-opacity:1\"/>\n",
       "<path class=\"bond-4\" d=\"M 700.216,275.425 L 691.616,270.004\" style=\"fill:none;fill-rule:evenodd;stroke:#000000;stroke-width:2.0px;stroke-linecap:butt;stroke-linejoin:miter;stroke-opacity:1\"/>\n",
       "<path class=\"bond-5\" d=\"M 691.616,270.004 L 670.287,281.237\" style=\"fill:none;fill-rule:evenodd;stroke:#000000;stroke-width:2.0px;stroke-linecap:butt;stroke-linejoin:miter;stroke-opacity:1\"/>\n",
       "<path class=\"bond-6\" d=\"M 670.287,281.237 L 661.687,275.816\" style=\"fill:none;fill-rule:evenodd;stroke:#000000;stroke-width:2.0px;stroke-linecap:butt;stroke-linejoin:miter;stroke-opacity:1\"/>\n",
       "<path class=\"bond-6\" d=\"M 661.687,275.816 L 653.086,270.395\" style=\"fill:none;fill-rule:evenodd;stroke:#0000FF;stroke-width:2.0px;stroke-linecap:butt;stroke-linejoin:miter;stroke-opacity:1\"/>\n",
       "<path class=\"atom-2\" d=\"M 750.595 284.499 Q 750.595 282.86, 751.405 281.944 Q 752.215 281.028, 753.729 281.028 Q 755.243 281.028, 756.053 281.944 Q 756.863 282.86, 756.863 284.499 Q 756.863 286.158, 756.043 287.103 Q 755.224 288.038, 753.729 288.038 Q 752.225 288.038, 751.405 287.103 Q 750.595 286.167, 750.595 284.499 M 753.729 287.267 Q 754.771 287.267, 755.33 286.572 Q 755.899 285.869, 755.899 284.499 Q 755.899 283.159, 755.33 282.484 Q 754.771 281.799, 753.729 281.799 Q 752.688 281.799, 752.119 282.474 Q 751.56 283.149, 751.56 284.499 Q 751.56 285.878, 752.119 286.572 Q 752.688 287.267, 753.729 287.267 \" fill=\"#FF0000\"/>\n",
       "<path class=\"atom-3\" d=\"M 710.499 279.445 L 712.736 283.061 Q 712.958 283.418, 713.315 284.064 Q 713.671 284.71, 713.691 284.749 L 713.691 279.445 L 714.597 279.445 L 714.597 286.272 L 713.662 286.272 L 711.261 282.319 Q 710.981 281.856, 710.682 281.325 Q 710.393 280.795, 710.306 280.631 L 710.306 286.272 L 709.419 286.272 L 709.419 279.445 L 710.499 279.445 \" fill=\"#0000FF\"/>\n",
       "<path class=\"atom-7\" d=\"M 637.81 264.969 L 638.736 264.969 L 638.736 267.872 L 642.226 267.872 L 642.226 264.969 L 643.152 264.969 L 643.152 271.796 L 642.226 271.796 L 642.226 268.643 L 638.736 268.643 L 638.736 271.796 L 637.81 271.796 L 637.81 264.969 \" fill=\"#0000FF\"/>\n",
       "<path class=\"atom-7\" d=\"M 643.483 271.557 Q 643.648 271.13, 644.043 270.895 Q 644.437 270.653, 644.985 270.653 Q 645.665 270.653, 646.047 271.022 Q 646.429 271.391, 646.429 272.047 Q 646.429 272.715, 645.933 273.338 Q 645.443 273.962, 644.425 274.7 L 646.506 274.7 L 646.506 275.209 L 643.47 275.209 L 643.47 274.783 Q 644.31 274.185, 644.806 273.739 Q 645.309 273.294, 645.551 272.893 Q 645.793 272.492, 645.793 272.078 Q 645.793 271.646, 645.576 271.404 Q 645.36 271.162, 644.985 271.162 Q 644.622 271.162, 644.38 271.308 Q 644.138 271.455, 643.966 271.779 L 643.483 271.557 \" fill=\"#0000FF\"/>\n",
       "<path class=\"atom-7\" d=\"M 648.386 264.969 L 650.623 268.585 Q 650.845 268.942, 651.201 269.588 Q 651.558 270.234, 651.577 270.273 L 651.577 264.969 L 652.484 264.969 L 652.484 271.796 L 651.548 271.796 L 649.148 267.843 Q 648.868 267.38, 648.569 266.85 Q 648.28 266.319, 648.193 266.155 L 648.193 271.796 L 647.306 271.796 L 647.306 264.969 L 648.386 264.969 \" fill=\"#0000FF\"/>\n",
       "<path d=\"M 645.002 384.432 Q 645.002 381.616, 646.314 380.144 Q 647.642 378.656, 650.154 378.656 Q 652.49 378.656, 653.738 380.304 L 652.682 381.168 Q 651.77 379.968, 650.154 379.968 Q 648.442 379.968, 647.53 381.12 Q 646.634 382.256, 646.634 384.432 Q 646.634 386.672, 647.562 387.824 Q 648.506 388.976, 650.33 388.976 Q 651.578 388.976, 653.034 388.224 L 653.482 389.424 Q 652.89 389.808, 651.994 390.032 Q 651.098 390.256, 650.106 390.256 Q 647.642 390.256, 646.314 388.752 Q 645.002 387.248, 645.002 384.432 \" fill=\"#000000\"/>\n",
       "<path d=\"M 654.538 384.432 Q 654.538 381.616, 655.85 380.144 Q 657.178 378.656, 659.69 378.656 Q 662.026 378.656, 663.274 380.304 L 662.218 381.168 Q 661.306 379.968, 659.69 379.968 Q 657.978 379.968, 657.066 381.12 Q 656.17 382.256, 656.17 384.432 Q 656.17 386.672, 657.098 387.824 Q 658.042 388.976, 659.866 388.976 Q 661.114 388.976, 662.57 388.224 L 663.018 389.424 Q 662.426 389.808, 661.53 390.032 Q 660.634 390.256, 659.642 390.256 Q 657.178 390.256, 655.85 388.752 Q 654.538 387.248, 654.538 384.432 \" fill=\"#000000\"/>\n",
       "<path d=\"M 664.074 385.552 Q 664.074 383.248, 664.73 381.376 Q 665.402 379.504, 666.698 377.44 L 667.594 378.016 Q 666.554 379.92, 666.026 381.648 Q 665.514 383.36, 665.514 385.552 Q 665.514 387.712, 666.026 389.424 Q 666.554 391.12, 667.594 393.088 L 666.698 393.664 Q 665.402 391.632, 664.73 389.76 Q 664.074 387.872, 664.074 385.552 \" fill=\"#000000\"/>\n",
       "<path d=\"M 669.05 383.152 L 676.378 383.152 L 676.378 384.304 L 669.05 384.304 L 669.05 383.152 M 669.05 386.576 L 676.378 386.576 L 676.378 387.728 L 669.05 387.728 L 669.05 386.576 \" fill=\"#000000\"/>\n",
       "<path d=\"M 677.178 384.416 Q 677.178 381.696, 678.522 380.176 Q 679.866 378.656, 682.378 378.656 Q 684.89 378.656, 686.234 380.176 Q 687.578 381.696, 687.578 384.416 Q 687.578 387.168, 686.218 388.736 Q 684.858 390.288, 682.378 390.288 Q 679.882 390.288, 678.522 388.736 Q 677.178 387.184, 677.178 384.416 M 682.378 389.008 Q 684.106 389.008, 685.034 387.856 Q 685.978 386.688, 685.978 384.416 Q 685.978 382.192, 685.034 381.072 Q 684.106 379.936, 682.378 379.936 Q 680.65 379.936, 679.706 381.056 Q 678.778 382.176, 678.778 384.416 Q 678.778 386.704, 679.706 387.856 Q 680.65 389.008, 682.378 389.008 \" fill=\"#000000\"/>\n",
       "<path d=\"M 691.498 385.552 Q 691.498 387.872, 690.826 389.76 Q 690.17 391.632, 688.874 393.664 L 687.978 393.088 Q 689.018 391.12, 689.53 389.424 Q 690.058 387.712, 690.058 385.552 Q 690.058 383.36, 689.53 381.648 Q 689.018 379.92, 687.978 378.016 L 688.874 377.44 Q 690.17 379.504, 690.826 381.376 Q 691.498 383.248, 691.498 385.552 \" fill=\"#000000\"/>\n",
       "<path d=\"M 694.618 378.784 L 698.33 384.784 Q 698.698 385.376, 699.29 386.448 Q 699.882 387.52, 699.914 387.584 L 699.914 378.784 L 701.418 378.784 L 701.418 390.112 L 699.866 390.112 L 695.882 383.552 Q 695.418 382.784, 694.922 381.904 Q 694.442 381.024, 694.298 380.752 L 694.298 390.112 L 692.826 390.112 L 692.826 378.784 L 694.618 378.784 \" fill=\"#000000\"/>\n",
       "<path d=\"M 702.218 385.552 Q 702.218 383.248, 702.874 381.376 Q 703.546 379.504, 704.842 377.44 L 705.738 378.016 Q 704.698 379.92, 704.17 381.648 Q 703.658 383.36, 703.658 385.552 Q 703.658 387.712, 704.17 389.424 Q 704.698 391.12, 705.738 393.088 L 704.842 393.664 Q 703.546 391.632, 702.874 389.76 Q 702.218 387.872, 702.218 385.552 \" fill=\"#000000\"/>\n",
       "<path d=\"M 706.538 384.432 Q 706.538 381.616, 707.85 380.144 Q 709.178 378.656, 711.69 378.656 Q 714.026 378.656, 715.274 380.304 L 714.218 381.168 Q 713.306 379.968, 711.69 379.968 Q 709.978 379.968, 709.066 381.12 Q 708.17 382.256, 708.17 384.432 Q 708.17 386.672, 709.098 387.824 Q 710.042 388.976, 711.866 388.976 Q 713.114 388.976, 714.57 388.224 L 715.018 389.424 Q 714.426 389.808, 713.53 390.032 Q 712.634 390.256, 711.642 390.256 Q 709.178 390.256, 707.85 388.752 Q 706.538 387.248, 706.538 384.432 \" fill=\"#000000\"/>\n",
       "<path d=\"M 719.194 385.552 Q 719.194 387.872, 718.522 389.76 Q 717.866 391.632, 716.57 393.664 L 715.674 393.088 Q 716.714 391.12, 717.226 389.424 Q 717.754 387.712, 717.754 385.552 Q 717.754 383.36, 717.226 381.648 Q 716.714 379.92, 715.674 378.016 L 716.57 377.44 Q 717.866 379.504, 718.522 381.376 Q 719.194 383.248, 719.194 385.552 \" fill=\"#000000\"/>\n",
       "<path d=\"M 719.994 384.432 Q 719.994 381.616, 721.306 380.144 Q 722.634 378.656, 725.146 378.656 Q 727.482 378.656, 728.73 380.304 L 727.674 381.168 Q 726.762 379.968, 725.146 379.968 Q 723.434 379.968, 722.522 381.12 Q 721.626 382.256, 721.626 384.432 Q 721.626 386.672, 722.554 387.824 Q 723.498 388.976, 725.322 388.976 Q 726.57 388.976, 728.026 388.224 L 728.474 389.424 Q 727.882 389.808, 726.986 390.032 Q 726.09 390.256, 725.098 390.256 Q 722.634 390.256, 721.306 388.752 Q 719.994 387.248, 719.994 384.432 \" fill=\"#000000\"/>\n",
       "<path d=\"M 729.53 384.432 Q 729.53 381.616, 730.842 380.144 Q 732.17 378.656, 734.682 378.656 Q 737.018 378.656, 738.266 380.304 L 737.21 381.168 Q 736.298 379.968, 734.682 379.968 Q 732.97 379.968, 732.058 381.12 Q 731.162 382.256, 731.162 384.432 Q 731.162 386.672, 732.09 387.824 Q 733.034 388.976, 734.858 388.976 Q 736.106 388.976, 737.562 388.224 L 738.01 389.424 Q 737.418 389.808, 736.522 390.032 Q 735.626 390.256, 734.634 390.256 Q 732.17 390.256, 730.842 388.752 Q 729.53 387.248, 729.53 384.432 \" fill=\"#000000\"/>\n",
       "<path d=\"M 741.386 378.784 L 745.098 384.784 Q 745.466 385.376, 746.058 386.448 Q 746.65 387.52, 746.682 387.584 L 746.682 378.784 L 748.186 378.784 L 748.186 390.112 L 746.634 390.112 L 742.65 383.552 Q 742.186 382.784, 741.69 381.904 Q 741.21 381.024, 741.066 380.752 L 741.066 390.112 L 739.594 390.112 L 739.594 378.784 L 741.386 378.784 \" fill=\"#000000\"/>\n",
       "<path class=\"bond-0\" d=\"M 15.3675,480.771 L 24.63,476.308\" style=\"fill:none;fill-rule:evenodd;stroke:#000000;stroke-width:2.0px;stroke-linecap:butt;stroke-linejoin:miter;stroke-opacity:1\"/>\n",
       "<path class=\"bond-0\" d=\"M 24.63,476.308 L 33.8924,471.845\" style=\"fill:none;fill-rule:evenodd;stroke:#0000FF;stroke-width:2.0px;stroke-linecap:butt;stroke-linejoin:miter;stroke-opacity:1\"/>\n",
       "<path class=\"bond-1\" d=\"M 40.2757,472.482 L 48.6397,478.183\" style=\"fill:none;fill-rule:evenodd;stroke:#0000FF;stroke-width:2.0px;stroke-linecap:butt;stroke-linejoin:miter;stroke-opacity:1\"/>\n",
       "<path class=\"bond-1\" d=\"M 48.6397,478.183 L 57.0038,483.883\" style=\"fill:none;fill-rule:evenodd;stroke:#000000;stroke-width:2.0px;stroke-linecap:butt;stroke-linejoin:miter;stroke-opacity:1\"/>\n",
       "<path class=\"bond-2\" d=\"M 57.0038,483.883 L 78.7204,473.419\" style=\"fill:none;fill-rule:evenodd;stroke:#000000;stroke-width:2.0px;stroke-linecap:butt;stroke-linejoin:miter;stroke-opacity:1\"/>\n",
       "<path class=\"bond-3\" d=\"M 78.7204,473.419 L 87.0845,479.12\" style=\"fill:none;fill-rule:evenodd;stroke:#000000;stroke-width:2.0px;stroke-linecap:butt;stroke-linejoin:miter;stroke-opacity:1\"/>\n",
       "<path class=\"bond-3\" d=\"M 87.0845,479.12 L 95.4485,484.82\" style=\"fill:none;fill-rule:evenodd;stroke:#0000FF;stroke-width:2.0px;stroke-linecap:butt;stroke-linejoin:miter;stroke-opacity:1\"/>\n",
       "<path class=\"bond-4\" d=\"M 101.832,485.457 L 111.094,480.994\" style=\"fill:none;fill-rule:evenodd;stroke:#0000FF;stroke-width:2.0px;stroke-linecap:butt;stroke-linejoin:miter;stroke-opacity:1\"/>\n",
       "<path class=\"bond-4\" d=\"M 111.094,480.994 L 120.357,476.532\" style=\"fill:none;fill-rule:evenodd;stroke:#000000;stroke-width:2.0px;stroke-linecap:butt;stroke-linejoin:miter;stroke-opacity:1\"/>\n",
       "<path class=\"bond-5\" d=\"M 122.761,476.711 L 123.503,466.772\" style=\"fill:none;fill-rule:evenodd;stroke:#000000;stroke-width:2.0px;stroke-linecap:butt;stroke-linejoin:miter;stroke-opacity:1\"/>\n",
       "<path class=\"bond-5\" d=\"M 123.503,466.772 L 124.246,456.833\" style=\"fill:none;fill-rule:evenodd;stroke:#FF0000;stroke-width:2.0px;stroke-linecap:butt;stroke-linejoin:miter;stroke-opacity:1\"/>\n",
       "<path class=\"bond-5\" d=\"M 117.953,476.352 L 118.696,466.413\" style=\"fill:none;fill-rule:evenodd;stroke:#000000;stroke-width:2.0px;stroke-linecap:butt;stroke-linejoin:miter;stroke-opacity:1\"/>\n",
       "<path class=\"bond-5\" d=\"M 118.696,466.413 L 119.439,456.474\" style=\"fill:none;fill-rule:evenodd;stroke:#FF0000;stroke-width:2.0px;stroke-linecap:butt;stroke-linejoin:miter;stroke-opacity:1\"/>\n",
       "<path class=\"bond-6\" d=\"M 120.357,476.532 L 140.276,490.107\" style=\"fill:none;fill-rule:evenodd;stroke:#000000;stroke-width:2.0px;stroke-linecap:butt;stroke-linejoin:miter;stroke-opacity:1\"/>\n",
       "<path class=\"bond-7\" d=\"M 140.276,490.107 L 161.993,479.644\" style=\"fill:none;fill-rule:evenodd;stroke:#000000;stroke-width:2.0px;stroke-linecap:butt;stroke-linejoin:miter;stroke-opacity:1\"/>\n",
       "<path class=\"bond-8\" d=\"M 164.397,479.823 L 165.14,469.884\" style=\"fill:none;fill-rule:evenodd;stroke:#000000;stroke-width:2.0px;stroke-linecap:butt;stroke-linejoin:miter;stroke-opacity:1\"/>\n",
       "<path class=\"bond-8\" d=\"M 165.14,469.884 L 165.883,459.945\" style=\"fill:none;fill-rule:evenodd;stroke:#FF0000;stroke-width:2.0px;stroke-linecap:butt;stroke-linejoin:miter;stroke-opacity:1\"/>\n",
       "<path class=\"bond-8\" d=\"M 159.589,479.464 L 160.332,469.525\" style=\"fill:none;fill-rule:evenodd;stroke:#000000;stroke-width:2.0px;stroke-linecap:butt;stroke-linejoin:miter;stroke-opacity:1\"/>\n",
       "<path class=\"bond-8\" d=\"M 160.332,469.525 L 161.075,459.586\" style=\"fill:none;fill-rule:evenodd;stroke:#FF0000;stroke-width:2.0px;stroke-linecap:butt;stroke-linejoin:miter;stroke-opacity:1\"/>\n",
       "<path class=\"bond-9\" d=\"M 161.993,479.644 L 170.085,485.158\" style=\"fill:none;fill-rule:evenodd;stroke:#000000;stroke-width:2.0px;stroke-linecap:butt;stroke-linejoin:miter;stroke-opacity:1\"/>\n",
       "<path class=\"bond-9\" d=\"M 170.085,485.158 L 178.176,490.673\" style=\"fill:none;fill-rule:evenodd;stroke:#FF0000;stroke-width:2.0px;stroke-linecap:butt;stroke-linejoin:miter;stroke-opacity:1\"/>\n",
       "<path class=\"atom-1\" d=\"M 35.575 466.894 L 37.8121 470.51 Q 38.0338 470.867, 38.3906 471.513 Q 38.7474 472.159, 38.7666 472.197 L 38.7666 466.894 L 39.673 466.894 L 39.673 473.721 L 38.7377 473.721 L 36.3368 469.767 Q 36.0571 469.305, 35.7582 468.774 Q 35.469 468.244, 35.3822 468.08 L 35.3822 473.721 L 34.4951 473.721 L 34.4951 466.894 L 35.575 466.894 \" fill=\"#0000FF\"/>\n",
       "<path class=\"atom-1\" d=\"M 34.4131 459.385 L 35.3388 459.385 L 35.3388 462.287 L 38.8293 462.287 L 38.8293 459.385 L 39.755 459.385 L 39.755 466.211 L 38.8293 466.211 L 38.8293 463.058 L 35.3388 463.058 L 35.3388 466.211 L 34.4131 466.211 L 34.4131 459.385 \" fill=\"#0000FF\"/>\n",
       "<path class=\"atom-4\" d=\"M 97.1311 483.582 L 99.3681 487.197 Q 99.5899 487.554, 99.9467 488.2 Q 100.303 488.846, 100.323 488.885 L 100.323 483.582 L 101.229 483.582 L 101.229 490.408 L 100.294 490.408 L 97.8929 486.455 Q 97.6132 485.992, 97.3143 485.462 Q 97.0251 484.931, 96.9383 484.768 L 96.9383 490.408 L 96.0512 490.408 L 96.0512 483.582 L 97.1311 483.582 \" fill=\"#0000FF\"/>\n",
       "<path class=\"atom-4\" d=\"M 95.9692 491.091 L 96.8949 491.091 L 96.8949 493.993 L 100.385 493.993 L 100.385 491.091 L 101.311 491.091 L 101.311 497.918 L 100.385 497.918 L 100.385 494.765 L 96.8949 494.765 L 96.8949 497.918 L 95.9692 497.918 L 95.9692 491.091 \" fill=\"#0000FF\"/>\n",
       "<path class=\"atom-6\" d=\"M 119.02 452.512 Q 119.02 450.873, 119.83 449.957 Q 120.64 449.041, 122.153 449.041 Q 123.667 449.041, 124.477 449.957 Q 125.287 450.873, 125.287 452.512 Q 125.287 454.171, 124.468 455.116 Q 123.648 456.051, 122.153 456.051 Q 120.649 456.051, 119.83 455.116 Q 119.02 454.18, 119.02 452.512 M 122.153 455.279 Q 123.195 455.279, 123.754 454.585 Q 124.323 453.881, 124.323 452.512 Q 124.323 451.172, 123.754 450.497 Q 123.195 449.812, 122.153 449.812 Q 121.112 449.812, 120.543 450.487 Q 119.984 451.162, 119.984 452.512 Q 119.984 453.891, 120.543 454.585 Q 121.112 455.279, 122.153 455.279 \" fill=\"#FF0000\"/>\n",
       "<path class=\"atom-9\" d=\"M 160.656 455.624 Q 160.656 453.985, 161.466 453.069 Q 162.276 452.153, 163.79 452.153 Q 165.304 452.153, 166.114 453.069 Q 166.924 453.985, 166.924 455.624 Q 166.924 457.283, 166.104 458.228 Q 165.284 459.163, 163.79 459.163 Q 162.286 459.163, 161.466 458.228 Q 160.656 457.292, 160.656 455.624 M 163.79 458.392 Q 164.831 458.392, 165.39 457.697 Q 165.959 456.993, 165.959 455.624 Q 165.959 454.284, 165.39 453.609 Q 164.831 452.924, 163.79 452.924 Q 162.748 452.924, 162.18 453.599 Q 161.62 454.274, 161.62 455.624 Q 161.62 457.003, 162.18 457.697 Q 162.748 458.392, 163.79 458.392 \" fill=\"#FF0000\"/>\n",
       "<path class=\"atom-10\" d=\"M 178.779 493.238 Q 178.779 491.599, 179.589 490.683 Q 180.399 489.767, 181.913 489.767 Q 183.427 489.767, 184.237 490.683 Q 185.047 491.599, 185.047 493.238 Q 185.047 494.897, 184.227 495.842 Q 183.407 496.777, 181.913 496.777 Q 180.409 496.777, 179.589 495.842 Q 178.779 494.906, 178.779 493.238 M 181.913 496.006 Q 182.954 496.006, 183.513 495.311 Q 184.082 494.608, 184.082 493.238 Q 184.082 491.898, 183.513 491.223 Q 182.954 490.539, 181.913 490.539 Q 180.871 490.539, 180.303 491.213 Q 179.743 491.888, 179.743 493.238 Q 179.743 494.617, 180.303 495.311 Q 180.871 496.006, 181.913 496.006 \" fill=\"#FF0000\"/>\n",
       "<path class=\"atom-10\" d=\"M 185.866 489.844 L 186.792 489.844 L 186.792 492.747 L 190.282 492.747 L 190.282 489.844 L 191.208 489.844 L 191.208 496.671 L 190.282 496.671 L 190.282 493.518 L 186.792 493.518 L 186.792 496.671 L 185.866 496.671 L 185.866 489.844 \" fill=\"#FF0000\"/>\n",
       "<path d=\"M 24.5619 584.432 Q 24.5619 581.616, 25.8739 580.144 Q 27.2019 578.656, 29.7139 578.656 Q 32.0499 578.656, 33.2979 580.304 L 32.2419 581.168 Q 31.3299 579.968, 29.7139 579.968 Q 28.0019 579.968, 27.0899 581.12 Q 26.1939 582.256, 26.1939 584.432 Q 26.1939 586.672, 27.1219 587.824 Q 28.0659 588.976, 29.8899 588.976 Q 31.1379 588.976, 32.5939 588.224 L 33.0419 589.424 Q 32.4499 589.808, 31.5539 590.032 Q 30.6579 590.256, 29.6659 590.256 Q 27.2019 590.256, 25.8739 588.752 Q 24.5619 587.248, 24.5619 584.432 \" fill=\"#000000\"/>\n",
       "<path d=\"M 36.4179 578.784 L 40.1299 584.784 Q 40.4979 585.376, 41.0899 586.448 Q 41.6819 587.52, 41.7139 587.584 L 41.7139 578.784 L 43.2179 578.784 L 43.2179 590.112 L 41.6659 590.112 L 37.6819 583.552 Q 37.2179 582.784, 36.7219 581.904 Q 36.2419 581.024, 36.0979 580.752 L 36.0979 590.112 L 34.6259 590.112 L 34.6259 578.784 L 36.4179 578.784 \" fill=\"#000000\"/>\n",
       "<path d=\"M 44.0179 584.432 Q 44.0179 581.616, 45.3299 580.144 Q 46.6579 578.656, 49.1699 578.656 Q 51.5059 578.656, 52.7539 580.304 L 51.6979 581.168 Q 50.7859 579.968, 49.1699 579.968 Q 47.4579 579.968, 46.5459 581.12 Q 45.6499 582.256, 45.6499 584.432 Q 45.6499 586.672, 46.5779 587.824 Q 47.5219 588.976, 49.3459 588.976 Q 50.5939 588.976, 52.0499 588.224 L 52.4979 589.424 Q 51.9059 589.808, 51.0099 590.032 Q 50.1139 590.256, 49.1219 590.256 Q 46.6579 590.256, 45.3299 588.752 Q 44.0179 587.248, 44.0179 584.432 \" fill=\"#000000\"/>\n",
       "<path d=\"M 53.5539 584.432 Q 53.5539 581.616, 54.8659 580.144 Q 56.1939 578.656, 58.7059 578.656 Q 61.0419 578.656, 62.2899 580.304 L 61.2339 581.168 Q 60.3219 579.968, 58.7059 579.968 Q 56.9939 579.968, 56.0819 581.12 Q 55.1859 582.256, 55.1859 584.432 Q 55.1859 586.672, 56.1139 587.824 Q 57.0579 588.976, 58.8819 588.976 Q 60.1299 588.976, 61.5859 588.224 L 62.0339 589.424 Q 61.4419 589.808, 60.5459 590.032 Q 59.6499 590.256, 58.6579 590.256 Q 56.1939 590.256, 54.8659 588.752 Q 53.5539 587.248, 53.5539 584.432 \" fill=\"#000000\"/>\n",
       "<path d=\"M 65.4099 578.784 L 69.1219 584.784 Q 69.4899 585.376, 70.0819 586.448 Q 70.6739 587.52, 70.7059 587.584 L 70.7059 578.784 L 72.2099 578.784 L 72.2099 590.112 L 70.6579 590.112 L 66.6739 583.552 Q 66.2099 582.784, 65.7139 581.904 Q 65.2339 581.024, 65.0899 580.752 L 65.0899 590.112 L 63.6179 590.112 L 63.6179 578.784 L 65.4099 578.784 \" fill=\"#000000\"/>\n",
       "<path d=\"M 73.0099 584.432 Q 73.0099 581.616, 74.3219 580.144 Q 75.6499 578.656, 78.1619 578.656 Q 80.4979 578.656, 81.7459 580.304 L 80.6899 581.168 Q 79.7779 579.968, 78.1619 579.968 Q 76.4499 579.968, 75.5379 581.12 Q 74.6419 582.256, 74.6419 584.432 Q 74.6419 586.672, 75.5699 587.824 Q 76.5139 588.976, 78.3379 588.976 Q 79.5859 588.976, 81.0419 588.224 L 81.4899 589.424 Q 80.8979 589.808, 80.0019 590.032 Q 79.1059 590.256, 78.1139 590.256 Q 75.6499 590.256, 74.3219 588.752 Q 73.0099 587.248, 73.0099 584.432 \" fill=\"#000000\"/>\n",
       "<path d=\"M 82.5459 585.552 Q 82.5459 583.248, 83.2019 581.376 Q 83.8739 579.504, 85.1699 577.44 L 86.0659 578.016 Q 85.0259 579.92, 84.4979 581.648 Q 83.9859 583.36, 83.9859 585.552 Q 83.9859 587.712, 84.4979 589.424 Q 85.0259 591.12, 86.0659 593.088 L 85.1699 593.664 Q 83.8739 591.632, 83.2019 589.76 Q 82.5459 587.872, 82.5459 585.552 \" fill=\"#000000\"/>\n",
       "<path d=\"M 87.5219 583.152 L 94.8499 583.152 L 94.8499 584.304 L 87.5219 584.304 L 87.5219 583.152 M 87.5219 586.576 L 94.8499 586.576 L 94.8499 587.728 L 87.5219 587.728 L 87.5219 586.576 \" fill=\"#000000\"/>\n",
       "<path d=\"M 95.6499 584.416 Q 95.6499 581.696, 96.9939 580.176 Q 98.3379 578.656, 100.85 578.656 Q 103.362 578.656, 104.706 580.176 Q 106.05 581.696, 106.05 584.416 Q 106.05 587.168, 104.69 588.736 Q 103.33 590.288, 100.85 590.288 Q 98.3539 590.288, 96.9939 588.736 Q 95.6499 587.184, 95.6499 584.416 M 100.85 589.008 Q 102.578 589.008, 103.506 587.856 Q 104.45 586.688, 104.45 584.416 Q 104.45 582.192, 103.506 581.072 Q 102.578 579.936, 100.85 579.936 Q 99.1219 579.936, 98.1779 581.056 Q 97.2499 582.176, 97.2499 584.416 Q 97.2499 586.704, 98.1779 587.856 Q 99.1219 589.008, 100.85 589.008 \" fill=\"#000000\"/>\n",
       "<path d=\"M 109.97 585.552 Q 109.97 587.872, 109.298 589.76 Q 108.642 591.632, 107.346 593.664 L 106.45 593.088 Q 107.49 591.12, 108.002 589.424 Q 108.53 587.712, 108.53 585.552 Q 108.53 583.36, 108.002 581.648 Q 107.49 579.92, 106.45 578.016 L 107.346 577.44 Q 108.642 579.504, 109.298 581.376 Q 109.97 583.248, 109.97 585.552 \" fill=\"#000000\"/>\n",
       "<path d=\"M 110.77 584.432 Q 110.77 581.616, 112.082 580.144 Q 113.41 578.656, 115.922 578.656 Q 118.258 578.656, 119.506 580.304 L 118.45 581.168 Q 117.538 579.968, 115.922 579.968 Q 114.21 579.968, 113.298 581.12 Q 112.402 582.256, 112.402 584.432 Q 112.402 586.672, 113.33 587.824 Q 114.274 588.976, 116.098 588.976 Q 117.346 588.976, 118.802 588.224 L 119.25 589.424 Q 118.658 589.808, 117.762 590.032 Q 116.866 590.256, 115.874 590.256 Q 113.41 590.256, 112.082 588.752 Q 110.77 587.248, 110.77 584.432 \" fill=\"#000000\"/>\n",
       "<path d=\"M 120.306 584.432 Q 120.306 581.616, 121.618 580.144 Q 122.946 578.656, 125.458 578.656 Q 127.794 578.656, 129.042 580.304 L 127.986 581.168 Q 127.074 579.968, 125.458 579.968 Q 123.746 579.968, 122.834 581.12 Q 121.938 582.256, 121.938 584.432 Q 121.938 586.672, 122.866 587.824 Q 123.81 588.976, 125.634 588.976 Q 126.882 588.976, 128.338 588.224 L 128.786 589.424 Q 128.194 589.808, 127.298 590.032 Q 126.402 590.256, 125.41 590.256 Q 122.946 590.256, 121.618 588.752 Q 120.306 587.248, 120.306 584.432 \" fill=\"#000000\"/>\n",
       "<path d=\"M 129.842 585.552 Q 129.842 583.248, 130.498 581.376 Q 131.17 579.504, 132.466 577.44 L 133.362 578.016 Q 132.322 579.92, 131.794 581.648 Q 131.282 583.36, 131.282 585.552 Q 131.282 587.712, 131.794 589.424 Q 132.322 591.12, 133.362 593.088 L 132.466 593.664 Q 131.17 591.632, 130.498 589.76 Q 129.842 587.872, 129.842 585.552 \" fill=\"#000000\"/>\n",
       "<path d=\"M 134.818 583.152 L 142.146 583.152 L 142.146 584.304 L 134.818 584.304 L 134.818 583.152 M 134.818 586.576 L 142.146 586.576 L 142.146 587.728 L 134.818 587.728 L 134.818 586.576 \" fill=\"#000000\"/>\n",
       "<path d=\"M 142.946 584.416 Q 142.946 581.696, 144.29 580.176 Q 145.634 578.656, 148.146 578.656 Q 150.658 578.656, 152.002 580.176 Q 153.346 581.696, 153.346 584.416 Q 153.346 587.168, 151.986 588.736 Q 150.626 590.288, 148.146 590.288 Q 145.65 590.288, 144.29 588.736 Q 142.946 587.184, 142.946 584.416 M 148.146 589.008 Q 149.874 589.008, 150.802 587.856 Q 151.746 586.688, 151.746 584.416 Q 151.746 582.192, 150.802 581.072 Q 149.874 579.936, 148.146 579.936 Q 146.418 579.936, 145.474 581.056 Q 144.546 582.176, 144.546 584.416 Q 144.546 586.704, 145.474 587.856 Q 146.418 589.008, 148.146 589.008 \" fill=\"#000000\"/>\n",
       "<path d=\"M 157.266 585.552 Q 157.266 587.872, 156.594 589.76 Q 155.938 591.632, 154.642 593.664 L 153.746 593.088 Q 154.786 591.12, 155.298 589.424 Q 155.826 587.712, 155.826 585.552 Q 155.826 583.36, 155.298 581.648 Q 154.786 579.92, 153.746 578.016 L 154.642 577.44 Q 155.938 579.504, 156.594 581.376 Q 157.266 583.248, 157.266 585.552 \" fill=\"#000000\"/>\n",
       "<path d=\"M 158.066 584.416 Q 158.066 581.696, 159.41 580.176 Q 160.754 578.656, 163.266 578.656 Q 165.778 578.656, 167.122 580.176 Q 168.466 581.696, 168.466 584.416 Q 168.466 587.168, 167.106 588.736 Q 165.746 590.288, 163.266 590.288 Q 160.77 590.288, 159.41 588.736 Q 158.066 587.184, 158.066 584.416 M 163.266 589.008 Q 164.994 589.008, 165.922 587.856 Q 166.866 586.688, 166.866 584.416 Q 166.866 582.192, 165.922 581.072 Q 164.994 579.936, 163.266 579.936 Q 161.538 579.936, 160.594 581.056 Q 159.666 582.176, 159.666 584.416 Q 159.666 586.704, 160.594 587.856 Q 161.538 589.008, 163.266 589.008 \" fill=\"#000000\"/>\n",
       "<path class=\"bond-0\" d=\"M 238.991,483.066 L 260.795,472.786\" style=\"fill:none;fill-rule:evenodd;stroke:#000000;stroke-width:2.0px;stroke-linecap:butt;stroke-linejoin:miter;stroke-opacity:1\"/>\n",
       "<path class=\"bond-1\" d=\"M 260.795,472.786 L 269.102,478.55\" style=\"fill:none;fill-rule:evenodd;stroke:#000000;stroke-width:2.0px;stroke-linecap:butt;stroke-linejoin:miter;stroke-opacity:1\"/>\n",
       "<path class=\"bond-1\" d=\"M 269.102,478.55 L 277.408,484.314\" style=\"fill:none;fill-rule:evenodd;stroke:#0000FF;stroke-width:2.0px;stroke-linecap:butt;stroke-linejoin:miter;stroke-opacity:1\"/>\n",
       "<path class=\"bond-2\" d=\"M 283.792,485.024 L 293.098,480.637\" style=\"fill:none;fill-rule:evenodd;stroke:#0000FF;stroke-width:2.0px;stroke-linecap:butt;stroke-linejoin:miter;stroke-opacity:1\"/>\n",
       "<path class=\"bond-2\" d=\"M 293.098,480.637 L 302.404,476.249\" style=\"fill:none;fill-rule:evenodd;stroke:#000000;stroke-width:2.0px;stroke-linecap:butt;stroke-linejoin:miter;stroke-opacity:1\"/>\n",
       "<path class=\"bond-3\" d=\"M 304.806,476.449 L 305.633,466.518\" style=\"fill:none;fill-rule:evenodd;stroke:#000000;stroke-width:2.0px;stroke-linecap:butt;stroke-linejoin:miter;stroke-opacity:1\"/>\n",
       "<path class=\"bond-3\" d=\"M 305.633,466.518 L 306.459,456.587\" style=\"fill:none;fill-rule:evenodd;stroke:#FF0000;stroke-width:2.0px;stroke-linecap:butt;stroke-linejoin:miter;stroke-opacity:1\"/>\n",
       "<path class=\"bond-3\" d=\"M 300.002,476.049 L 300.828,466.118\" style=\"fill:none;fill-rule:evenodd;stroke:#000000;stroke-width:2.0px;stroke-linecap:butt;stroke-linejoin:miter;stroke-opacity:1\"/>\n",
       "<path class=\"bond-3\" d=\"M 300.828,466.118 L 301.655,456.187\" style=\"fill:none;fill-rule:evenodd;stroke:#FF0000;stroke-width:2.0px;stroke-linecap:butt;stroke-linejoin:miter;stroke-opacity:1\"/>\n",
       "<path class=\"bond-4\" d=\"M 302.404,476.249 L 322.209,489.992\" style=\"fill:none;fill-rule:evenodd;stroke:#000000;stroke-width:2.0px;stroke-linecap:butt;stroke-linejoin:miter;stroke-opacity:1\"/>\n",
       "<path class=\"bond-5\" d=\"M 322.209,489.992 L 344.013,479.712\" style=\"fill:none;fill-rule:evenodd;stroke:#000000;stroke-width:2.0px;stroke-linecap:butt;stroke-linejoin:miter;stroke-opacity:1\"/>\n",
       "<path class=\"bond-6\" d=\"M 346.415,479.912 L 347.241,469.981\" style=\"fill:none;fill-rule:evenodd;stroke:#000000;stroke-width:2.0px;stroke-linecap:butt;stroke-linejoin:miter;stroke-opacity:1\"/>\n",
       "<path class=\"bond-6\" d=\"M 347.241,469.981 L 348.068,460.05\" style=\"fill:none;fill-rule:evenodd;stroke:#FF0000;stroke-width:2.0px;stroke-linecap:butt;stroke-linejoin:miter;stroke-opacity:1\"/>\n",
       "<path class=\"bond-6\" d=\"M 341.61,479.512 L 342.437,469.581\" style=\"fill:none;fill-rule:evenodd;stroke:#000000;stroke-width:2.0px;stroke-linecap:butt;stroke-linejoin:miter;stroke-opacity:1\"/>\n",
       "<path class=\"bond-6\" d=\"M 342.437,469.581 L 343.263,459.65\" style=\"fill:none;fill-rule:evenodd;stroke:#FF0000;stroke-width:2.0px;stroke-linecap:butt;stroke-linejoin:miter;stroke-opacity:1\"/>\n",
       "<path class=\"bond-7\" d=\"M 344.013,479.712 L 352.047,485.287\" style=\"fill:none;fill-rule:evenodd;stroke:#000000;stroke-width:2.0px;stroke-linecap:butt;stroke-linejoin:miter;stroke-opacity:1\"/>\n",
       "<path class=\"bond-7\" d=\"M 352.047,485.287 L 360.081,490.862\" style=\"fill:none;fill-rule:evenodd;stroke:#FF0000;stroke-width:2.0px;stroke-linecap:butt;stroke-linejoin:miter;stroke-opacity:1\"/>\n",
       "<path class=\"atom-2\" d=\"M 279.091 483.116 L 281.328 486.732 Q 281.55 487.088, 281.906 487.734 Q 282.263 488.38, 282.283 488.419 L 282.283 483.116 L 283.189 483.116 L 283.189 489.943 L 282.254 489.943 L 279.853 485.989 Q 279.573 485.526, 279.274 484.996 Q 278.985 484.466, 278.898 484.302 L 278.898 489.943 L 278.011 489.943 L 278.011 483.116 L 279.091 483.116 \" fill=\"#0000FF\"/>\n",
       "<path class=\"atom-2\" d=\"M 277.929 490.625 L 278.855 490.625 L 278.855 493.528 L 282.345 493.528 L 282.345 490.625 L 283.271 490.625 L 283.271 497.452 L 282.345 497.452 L 282.345 494.299 L 278.855 494.299 L 278.855 497.452 L 277.929 497.452 L 277.929 490.625 \" fill=\"#0000FF\"/>\n",
       "<path class=\"atom-4\" d=\"M 301.27 452.246 Q 301.27 450.607, 302.079 449.691 Q 302.889 448.775, 304.403 448.775 Q 305.917 448.775, 306.727 449.691 Q 307.537 450.607, 307.537 452.246 Q 307.537 453.904, 306.717 454.849 Q 305.898 455.785, 304.403 455.785 Q 302.899 455.785, 302.079 454.849 Q 301.27 453.914, 301.27 452.246 M 304.403 455.013 Q 305.445 455.013, 306.004 454.319 Q 306.573 453.615, 306.573 452.246 Q 306.573 450.906, 306.004 450.231 Q 305.445 449.546, 304.403 449.546 Q 303.362 449.546, 302.793 450.221 Q 302.234 450.896, 302.234 452.246 Q 302.234 453.625, 302.793 454.319 Q 303.362 455.013, 304.403 455.013 \" fill=\"#FF0000\"/>\n",
       "<path class=\"atom-7\" d=\"M 342.878 455.709 Q 342.878 454.07, 343.688 453.154 Q 344.498 452.238, 346.012 452.238 Q 347.526 452.238, 348.336 453.154 Q 349.146 454.07, 349.146 455.709 Q 349.146 457.367, 348.326 458.312 Q 347.506 459.248, 346.012 459.248 Q 344.508 459.248, 343.688 458.312 Q 342.878 457.377, 342.878 455.709 M 346.012 458.476 Q 347.053 458.476, 347.613 457.782 Q 348.181 457.078, 348.181 455.709 Q 348.181 454.369, 347.613 453.694 Q 347.053 453.009, 346.012 453.009 Q 344.971 453.009, 344.402 453.684 Q 343.842 454.359, 343.842 455.709 Q 343.842 457.088, 344.402 457.782 Q 344.971 458.476, 346.012 458.476 \" fill=\"#FF0000\"/>\n",
       "<path class=\"atom-8\" d=\"M 360.683 493.474 Q 360.683 491.835, 361.493 490.919 Q 362.303 490.003, 363.817 490.003 Q 365.331 490.003, 366.141 490.919 Q 366.951 491.835, 366.951 493.474 Q 366.951 495.133, 366.131 496.078 Q 365.312 497.013, 363.817 497.013 Q 362.313 497.013, 361.493 496.078 Q 360.683 495.143, 360.683 493.474 M 363.817 496.242 Q 364.859 496.242, 365.418 495.548 Q 365.987 494.844, 365.987 493.474 Q 365.987 492.134, 365.418 491.459 Q 364.859 490.775, 363.817 490.775 Q 362.776 490.775, 362.207 491.45 Q 361.648 492.125, 361.648 493.474 Q 361.648 494.853, 362.207 495.548 Q 362.776 496.242, 363.817 496.242 \" fill=\"#FF0000\"/>\n",
       "<path class=\"atom-8\" d=\"M 367.77 490.08 L 368.696 490.08 L 368.696 492.983 L 372.187 492.983 L 372.187 490.08 L 373.112 490.08 L 373.112 496.907 L 372.187 496.907 L 372.187 493.754 L 368.696 493.754 L 368.696 496.907 L 367.77 496.907 L 367.77 490.08 \" fill=\"#FF0000\"/>\n",
       "<path d=\"M 234.382 584.432 Q 234.382 581.616, 235.694 580.144 Q 237.022 578.656, 239.534 578.656 Q 241.87 578.656, 243.118 580.304 L 242.062 581.168 Q 241.15 579.968, 239.534 579.968 Q 237.822 579.968, 236.91 581.12 Q 236.014 582.256, 236.014 584.432 Q 236.014 586.672, 236.942 587.824 Q 237.886 588.976, 239.71 588.976 Q 240.958 588.976, 242.414 588.224 L 242.862 589.424 Q 242.27 589.808, 241.374 590.032 Q 240.478 590.256, 239.486 590.256 Q 237.022 590.256, 235.694 588.752 Q 234.382 587.248, 234.382 584.432 \" fill=\"#000000\"/>\n",
       "<path d=\"M 243.918 584.432 Q 243.918 581.616, 245.23 580.144 Q 246.558 578.656, 249.07 578.656 Q 251.406 578.656, 252.654 580.304 L 251.598 581.168 Q 250.686 579.968, 249.07 579.968 Q 247.358 579.968, 246.446 581.12 Q 245.55 582.256, 245.55 584.432 Q 245.55 586.672, 246.478 587.824 Q 247.422 588.976, 249.246 588.976 Q 250.494 588.976, 251.95 588.224 L 252.398 589.424 Q 251.806 589.808, 250.91 590.032 Q 250.014 590.256, 249.022 590.256 Q 246.558 590.256, 245.23 588.752 Q 243.918 587.248, 243.918 584.432 \" fill=\"#000000\"/>\n",
       "<path d=\"M 255.774 578.784 L 259.486 584.784 Q 259.854 585.376, 260.446 586.448 Q 261.038 587.52, 261.07 587.584 L 261.07 578.784 L 262.574 578.784 L 262.574 590.112 L 261.022 590.112 L 257.038 583.552 Q 256.574 582.784, 256.078 581.904 Q 255.598 581.024, 255.454 580.752 L 255.454 590.112 L 253.982 590.112 L 253.982 578.784 L 255.774 578.784 \" fill=\"#000000\"/>\n",
       "<path d=\"M 263.374 584.432 Q 263.374 581.616, 264.686 580.144 Q 266.014 578.656, 268.526 578.656 Q 270.862 578.656, 272.11 580.304 L 271.054 581.168 Q 270.142 579.968, 268.526 579.968 Q 266.814 579.968, 265.902 581.12 Q 265.006 582.256, 265.006 584.432 Q 265.006 586.672, 265.934 587.824 Q 266.878 588.976, 268.702 588.976 Q 269.95 588.976, 271.406 588.224 L 271.854 589.424 Q 271.262 589.808, 270.366 590.032 Q 269.47 590.256, 268.478 590.256 Q 266.014 590.256, 264.686 588.752 Q 263.374 587.248, 263.374 584.432 \" fill=\"#000000\"/>\n",
       "<path d=\"M 272.91 585.552 Q 272.91 583.248, 273.566 581.376 Q 274.238 579.504, 275.534 577.44 L 276.43 578.016 Q 275.39 579.92, 274.862 581.648 Q 274.35 583.36, 274.35 585.552 Q 274.35 587.712, 274.862 589.424 Q 275.39 591.12, 276.43 593.088 L 275.534 593.664 Q 274.238 591.632, 273.566 589.76 Q 272.91 587.872, 272.91 585.552 \" fill=\"#000000\"/>\n",
       "<path d=\"M 277.886 583.152 L 285.214 583.152 L 285.214 584.304 L 277.886 584.304 L 277.886 583.152 M 277.886 586.576 L 285.214 586.576 L 285.214 587.728 L 277.886 587.728 L 277.886 586.576 \" fill=\"#000000\"/>\n",
       "<path d=\"M 286.014 584.416 Q 286.014 581.696, 287.358 580.176 Q 288.702 578.656, 291.214 578.656 Q 293.726 578.656, 295.07 580.176 Q 296.414 581.696, 296.414 584.416 Q 296.414 587.168, 295.054 588.736 Q 293.694 590.288, 291.214 590.288 Q 288.718 590.288, 287.358 588.736 Q 286.014 587.184, 286.014 584.416 M 291.214 589.008 Q 292.942 589.008, 293.87 587.856 Q 294.814 586.688, 294.814 584.416 Q 294.814 582.192, 293.87 581.072 Q 292.942 579.936, 291.214 579.936 Q 289.486 579.936, 288.542 581.056 Q 287.614 582.176, 287.614 584.416 Q 287.614 586.704, 288.542 587.856 Q 289.486 589.008, 291.214 589.008 \" fill=\"#000000\"/>\n",
       "<path d=\"M 300.334 585.552 Q 300.334 587.872, 299.662 589.76 Q 299.006 591.632, 297.71 593.664 L 296.814 593.088 Q 297.854 591.12, 298.366 589.424 Q 298.894 587.712, 298.894 585.552 Q 298.894 583.36, 298.366 581.648 Q 297.854 579.92, 296.814 578.016 L 297.71 577.44 Q 299.006 579.504, 299.662 581.376 Q 300.334 583.248, 300.334 585.552 \" fill=\"#000000\"/>\n",
       "<path d=\"M 301.134 584.432 Q 301.134 581.616, 302.446 580.144 Q 303.774 578.656, 306.286 578.656 Q 308.622 578.656, 309.87 580.304 L 308.814 581.168 Q 307.902 579.968, 306.286 579.968 Q 304.574 579.968, 303.662 581.12 Q 302.766 582.256, 302.766 584.432 Q 302.766 586.672, 303.694 587.824 Q 304.638 588.976, 306.462 588.976 Q 307.71 588.976, 309.166 588.224 L 309.614 589.424 Q 309.022 589.808, 308.126 590.032 Q 307.23 590.256, 306.238 590.256 Q 303.774 590.256, 302.446 588.752 Q 301.134 587.248, 301.134 584.432 \" fill=\"#000000\"/>\n",
       "<path d=\"M 310.67 584.432 Q 310.67 581.616, 311.982 580.144 Q 313.31 578.656, 315.822 578.656 Q 318.158 578.656, 319.406 580.304 L 318.35 581.168 Q 317.438 579.968, 315.822 579.968 Q 314.11 579.968, 313.198 581.12 Q 312.302 582.256, 312.302 584.432 Q 312.302 586.672, 313.23 587.824 Q 314.174 588.976, 315.998 588.976 Q 317.246 588.976, 318.702 588.224 L 319.15 589.424 Q 318.558 589.808, 317.662 590.032 Q 316.766 590.256, 315.774 590.256 Q 313.31 590.256, 311.982 588.752 Q 310.67 587.248, 310.67 584.432 \" fill=\"#000000\"/>\n",
       "<path d=\"M 320.206 585.552 Q 320.206 583.248, 320.862 581.376 Q 321.534 579.504, 322.83 577.44 L 323.726 578.016 Q 322.686 579.92, 322.158 581.648 Q 321.646 583.36, 321.646 585.552 Q 321.646 587.712, 322.158 589.424 Q 322.686 591.12, 323.726 593.088 L 322.83 593.664 Q 321.534 591.632, 320.862 589.76 Q 320.206 587.872, 320.206 585.552 \" fill=\"#000000\"/>\n",
       "<path d=\"M 325.182 583.152 L 332.51 583.152 L 332.51 584.304 L 325.182 584.304 L 325.182 583.152 M 325.182 586.576 L 332.51 586.576 L 332.51 587.728 L 325.182 587.728 L 325.182 586.576 \" fill=\"#000000\"/>\n",
       "<path d=\"M 333.31 584.416 Q 333.31 581.696, 334.654 580.176 Q 335.998 578.656, 338.51 578.656 Q 341.022 578.656, 342.366 580.176 Q 343.71 581.696, 343.71 584.416 Q 343.71 587.168, 342.35 588.736 Q 340.99 590.288, 338.51 590.288 Q 336.014 590.288, 334.654 588.736 Q 333.31 587.184, 333.31 584.416 M 338.51 589.008 Q 340.238 589.008, 341.166 587.856 Q 342.11 586.688, 342.11 584.416 Q 342.11 582.192, 341.166 581.072 Q 340.238 579.936, 338.51 579.936 Q 336.782 579.936, 335.838 581.056 Q 334.91 582.176, 334.91 584.416 Q 334.91 586.704, 335.838 587.856 Q 336.782 589.008, 338.51 589.008 \" fill=\"#000000\"/>\n",
       "<path d=\"M 347.63 585.552 Q 347.63 587.872, 346.958 589.76 Q 346.302 591.632, 345.006 593.664 L 344.11 593.088 Q 345.15 591.12, 345.662 589.424 Q 346.19 587.712, 346.19 585.552 Q 346.19 583.36, 345.662 581.648 Q 345.15 579.92, 344.11 578.016 L 345.006 577.44 Q 346.302 579.504, 346.958 581.376 Q 347.63 583.248, 347.63 585.552 \" fill=\"#000000\"/>\n",
       "<path d=\"M 348.43 584.416 Q 348.43 581.696, 349.774 580.176 Q 351.118 578.656, 353.63 578.656 Q 356.142 578.656, 357.486 580.176 Q 358.83 581.696, 358.83 584.416 Q 358.83 587.168, 357.47 588.736 Q 356.11 590.288, 353.63 590.288 Q 351.134 590.288, 349.774 588.736 Q 348.43 587.184, 348.43 584.416 M 353.63 589.008 Q 355.358 589.008, 356.286 587.856 Q 357.23 586.688, 357.23 584.416 Q 357.23 582.192, 356.286 581.072 Q 355.358 579.936, 353.63 579.936 Q 351.902 579.936, 350.958 581.056 Q 350.03 582.176, 350.03 584.416 Q 350.03 586.704, 350.958 587.856 Q 351.902 589.008, 353.63 589.008 \" fill=\"#000000\"/>\n",
       "<path class=\"bond-0\" d=\"M 543.186,467.687 L 531.133,488.563\" style=\"fill:none;fill-rule:evenodd;stroke:#000000;stroke-width:2.0px;stroke-linecap:butt;stroke-linejoin:miter;stroke-opacity:1\"/>\n",
       "<path class=\"bond-1\" d=\"M 531.133,488.563 L 520.676,488.563\" style=\"fill:none;fill-rule:evenodd;stroke:#000000;stroke-width:2.0px;stroke-linecap:butt;stroke-linejoin:miter;stroke-opacity:1\"/>\n",
       "<path class=\"bond-1\" d=\"M 520.676,488.563 L 510.219,488.563\" style=\"fill:none;fill-rule:evenodd;stroke:#0000FF;stroke-width:2.0px;stroke-linecap:butt;stroke-linejoin:miter;stroke-opacity:1\"/>\n",
       "<path class=\"bond-2\" d=\"M 504.708,492.579 L 499.841,501.009\" style=\"fill:none;fill-rule:evenodd;stroke:#0000FF;stroke-width:2.0px;stroke-linecap:butt;stroke-linejoin:miter;stroke-opacity:1\"/>\n",
       "<path class=\"bond-2\" d=\"M 499.841,501.009 L 494.974,509.44\" style=\"fill:none;fill-rule:evenodd;stroke:#000000;stroke-width:2.0px;stroke-linecap:butt;stroke-linejoin:miter;stroke-opacity:1\"/>\n",
       "<path class=\"bond-3\" d=\"M 504.708,484.547 L 499.841,476.117\" style=\"fill:none;fill-rule:evenodd;stroke:#0000FF;stroke-width:2.0px;stroke-linecap:butt;stroke-linejoin:miter;stroke-opacity:1\"/>\n",
       "<path class=\"bond-3\" d=\"M 499.841,476.117 L 494.974,467.687\" style=\"fill:none;fill-rule:evenodd;stroke:#000000;stroke-width:2.0px;stroke-linecap:butt;stroke-linejoin:miter;stroke-opacity:1\"/>\n",
       "<path class=\"bond-4\" d=\"M 494.974,467.687 L 470.868,467.687\" style=\"fill:none;fill-rule:evenodd;stroke:#000000;stroke-width:2.0px;stroke-linecap:butt;stroke-linejoin:miter;stroke-opacity:1\"/>\n",
       "<path class=\"bond-5\" d=\"M 497.062,468.892 L 501.887,460.535\" style=\"fill:none;fill-rule:evenodd;stroke:#000000;stroke-width:2.0px;stroke-linecap:butt;stroke-linejoin:miter;stroke-opacity:1\"/>\n",
       "<path class=\"bond-5\" d=\"M 501.887,460.535 L 506.713,452.177\" style=\"fill:none;fill-rule:evenodd;stroke:#FF0000;stroke-width:2.0px;stroke-linecap:butt;stroke-linejoin:miter;stroke-opacity:1\"/>\n",
       "<path class=\"bond-5\" d=\"M 492.887,466.482 L 497.712,458.124\" style=\"fill:none;fill-rule:evenodd;stroke:#000000;stroke-width:2.0px;stroke-linecap:butt;stroke-linejoin:miter;stroke-opacity:1\"/>\n",
       "<path class=\"bond-5\" d=\"M 497.712,458.124 L 502.537,449.766\" style=\"fill:none;fill-rule:evenodd;stroke:#FF0000;stroke-width:2.0px;stroke-linecap:butt;stroke-linejoin:miter;stroke-opacity:1\"/>\n",
       "<path class=\"atom-2\" d=\"M 505.518 485.15 L 507.755 488.766 Q 507.977 489.123, 508.334 489.769 Q 508.69 490.415, 508.71 490.453 L 508.71 485.15 L 509.616 485.15 L 509.616 491.977 L 508.681 491.977 L 506.28 488.023 Q 506 487.561, 505.701 487.03 Q 505.412 486.5, 505.325 486.336 L 505.325 491.977 L 504.438 491.977 L 504.438 485.15 L 505.518 485.15 \" fill=\"#0000FF\"/>\n",
       "<path class=\"atom-6\" d=\"M 503.893 446.83 Q 503.893 445.191, 504.703 444.275 Q 505.513 443.359, 507.027 443.359 Q 508.541 443.359, 509.351 444.275 Q 510.161 445.191, 510.161 446.83 Q 510.161 448.489, 509.341 449.434 Q 508.522 450.369, 507.027 450.369 Q 505.523 450.369, 504.703 449.434 Q 503.893 448.498, 503.893 446.83 M 507.027 449.597 Q 508.068 449.597, 508.628 448.903 Q 509.197 448.199, 509.197 446.83 Q 509.197 445.49, 508.628 444.815 Q 508.068 444.13, 507.027 444.13 Q 505.986 444.13, 505.417 444.805 Q 504.858 445.48, 504.858 446.83 Q 504.858 448.209, 505.417 448.903 Q 505.986 449.597, 507.027 449.597 \" fill=\"#FF0000\"/>\n",
       "<path d=\"M 450.249 584.432 Q 450.249 581.616, 451.561 580.144 Q 452.889 578.656, 455.401 578.656 Q 457.737 578.656, 458.985 580.304 L 457.929 581.168 Q 457.017 579.968, 455.401 579.968 Q 453.689 579.968, 452.777 581.12 Q 451.881 582.256, 451.881 584.432 Q 451.881 586.672, 452.809 587.824 Q 453.753 588.976, 455.577 588.976 Q 456.825 588.976, 458.281 588.224 L 458.729 589.424 Q 458.137 589.808, 457.241 590.032 Q 456.345 590.256, 455.353 590.256 Q 452.889 590.256, 451.561 588.752 Q 450.249 587.248, 450.249 584.432 \" fill=\"#000000\"/>\n",
       "<path d=\"M 459.785 584.432 Q 459.785 581.616, 461.097 580.144 Q 462.425 578.656, 464.937 578.656 Q 467.273 578.656, 468.521 580.304 L 467.465 581.168 Q 466.553 579.968, 464.937 579.968 Q 463.225 579.968, 462.313 581.12 Q 461.417 582.256, 461.417 584.432 Q 461.417 586.672, 462.345 587.824 Q 463.289 588.976, 465.113 588.976 Q 466.361 588.976, 467.817 588.224 L 468.265 589.424 Q 467.673 589.808, 466.777 590.032 Q 465.881 590.256, 464.889 590.256 Q 462.425 590.256, 461.097 588.752 Q 459.785 587.248, 459.785 584.432 \" fill=\"#000000\"/>\n",
       "<path d=\"M 471.641 578.784 L 475.353 584.784 Q 475.721 585.376, 476.313 586.448 Q 476.905 587.52, 476.937 587.584 L 476.937 578.784 L 478.441 578.784 L 478.441 590.112 L 476.889 590.112 L 472.905 583.552 Q 472.441 582.784, 471.945 581.904 Q 471.465 581.024, 471.321 580.752 L 471.321 590.112 L 469.849 590.112 L 469.849 578.784 L 471.641 578.784 \" fill=\"#000000\"/>\n",
       "<path d=\"M 479.241 585.552 Q 479.241 583.248, 479.897 581.376 Q 480.569 579.504, 481.865 577.44 L 482.761 578.016 Q 481.721 579.92, 481.193 581.648 Q 480.681 583.36, 480.681 585.552 Q 480.681 587.712, 481.193 589.424 Q 481.721 591.12, 482.761 593.088 L 481.865 593.664 Q 480.569 591.632, 479.897 589.76 Q 479.241 587.872, 479.241 585.552 \" fill=\"#000000\"/>\n",
       "<path d=\"M 483.561 584.432 Q 483.561 581.616, 484.873 580.144 Q 486.201 578.656, 488.713 578.656 Q 491.049 578.656, 492.297 580.304 L 491.241 581.168 Q 490.329 579.968, 488.713 579.968 Q 487.001 579.968, 486.089 581.12 Q 485.193 582.256, 485.193 584.432 Q 485.193 586.672, 486.121 587.824 Q 487.065 588.976, 488.889 588.976 Q 490.137 588.976, 491.593 588.224 L 492.041 589.424 Q 491.449 589.808, 490.553 590.032 Q 489.657 590.256, 488.665 590.256 Q 486.201 590.256, 484.873 588.752 Q 483.561 587.248, 483.561 584.432 \" fill=\"#000000\"/>\n",
       "<path d=\"M 496.217 585.552 Q 496.217 587.872, 495.545 589.76 Q 494.889 591.632, 493.593 593.664 L 492.697 593.088 Q 493.737 591.12, 494.249 589.424 Q 494.777 587.712, 494.777 585.552 Q 494.777 583.36, 494.249 581.648 Q 493.737 579.92, 492.697 578.016 L 493.593 577.44 Q 494.889 579.504, 495.545 581.376 Q 496.217 583.248, 496.217 585.552 \" fill=\"#000000\"/>\n",
       "<path d=\"M 497.017 584.432 Q 497.017 581.616, 498.329 580.144 Q 499.657 578.656, 502.169 578.656 Q 504.505 578.656, 505.753 580.304 L 504.697 581.168 Q 503.785 579.968, 502.169 579.968 Q 500.457 579.968, 499.545 581.12 Q 498.649 582.256, 498.649 584.432 Q 498.649 586.672, 499.577 587.824 Q 500.521 588.976, 502.345 588.976 Q 503.593 588.976, 505.049 588.224 L 505.497 589.424 Q 504.905 589.808, 504.009 590.032 Q 503.113 590.256, 502.121 590.256 Q 499.657 590.256, 498.329 588.752 Q 497.017 587.248, 497.017 584.432 \" fill=\"#000000\"/>\n",
       "<path d=\"M 506.553 585.552 Q 506.553 583.248, 507.209 581.376 Q 507.881 579.504, 509.177 577.44 L 510.073 578.016 Q 509.033 579.92, 508.505 581.648 Q 507.993 583.36, 507.993 585.552 Q 507.993 587.712, 508.505 589.424 Q 509.033 591.12, 510.073 593.088 L 509.177 593.664 Q 507.881 591.632, 507.209 589.76 Q 506.553 587.872, 506.553 585.552 \" fill=\"#000000\"/>\n",
       "<path d=\"M 510.873 584.432 Q 510.873 581.616, 512.185 580.144 Q 513.513 578.656, 516.025 578.656 Q 518.361 578.656, 519.609 580.304 L 518.553 581.168 Q 517.641 579.968, 516.025 579.968 Q 514.313 579.968, 513.401 581.12 Q 512.505 582.256, 512.505 584.432 Q 512.505 586.672, 513.433 587.824 Q 514.377 588.976, 516.201 588.976 Q 517.449 588.976, 518.905 588.224 L 519.353 589.424 Q 518.761 589.808, 517.865 590.032 Q 516.969 590.256, 515.977 590.256 Q 513.513 590.256, 512.185 588.752 Q 510.873 587.248, 510.873 584.432 \" fill=\"#000000\"/>\n",
       "<path d=\"M 523.529 585.552 Q 523.529 587.872, 522.857 589.76 Q 522.201 591.632, 520.905 593.664 L 520.009 593.088 Q 521.049 591.12, 521.561 589.424 Q 522.089 587.712, 522.089 585.552 Q 522.089 583.36, 521.561 581.648 Q 521.049 579.92, 520.009 578.016 L 520.905 577.44 Q 522.201 579.504, 522.857 581.376 Q 523.529 583.248, 523.529 585.552 \" fill=\"#000000\"/>\n",
       "<path d=\"M 524.985 583.152 L 532.313 583.152 L 532.313 584.304 L 524.985 584.304 L 524.985 583.152 M 524.985 586.576 L 532.313 586.576 L 532.313 587.728 L 524.985 587.728 L 524.985 586.576 \" fill=\"#000000\"/>\n",
       "<path d=\"M 533.113 584.416 Q 533.113 581.696, 534.457 580.176 Q 535.801 578.656, 538.313 578.656 Q 540.825 578.656, 542.169 580.176 Q 543.513 581.696, 543.513 584.416 Q 543.513 587.168, 542.153 588.736 Q 540.793 590.288, 538.313 590.288 Q 535.817 590.288, 534.457 588.736 Q 533.113 587.184, 533.113 584.416 M 538.313 589.008 Q 540.041 589.008, 540.969 587.856 Q 541.913 586.688, 541.913 584.416 Q 541.913 582.192, 540.969 581.072 Q 540.041 579.936, 538.313 579.936 Q 536.585 579.936, 535.641 581.056 Q 534.713 582.176, 534.713 584.416 Q 534.713 586.704, 535.641 587.856 Q 536.585 589.008, 538.313 589.008 \" fill=\"#000000\"/>\n",
       "<path class=\"bond-0\" d=\"M 752.955,452.528 L 752.955,476.634\" style=\"fill:none;fill-rule:evenodd;stroke:#000000;stroke-width:2.0px;stroke-linecap:butt;stroke-linejoin:miter;stroke-opacity:1\"/>\n",
       "<path class=\"bond-1\" d=\"M 752.955,476.634 L 744.112,481.739\" style=\"fill:none;fill-rule:evenodd;stroke:#000000;stroke-width:2.0px;stroke-linecap:butt;stroke-linejoin:miter;stroke-opacity:1\"/>\n",
       "<path class=\"bond-1\" d=\"M 744.112,481.739 L 735.27,486.844\" style=\"fill:none;fill-rule:evenodd;stroke:#0000FF;stroke-width:2.0px;stroke-linecap:butt;stroke-linejoin:miter;stroke-opacity:1\"/>\n",
       "<path class=\"bond-2\" d=\"M 732.079,492.703 L 732.079,502.748\" style=\"fill:none;fill-rule:evenodd;stroke:#0000FF;stroke-width:2.0px;stroke-linecap:butt;stroke-linejoin:miter;stroke-opacity:1\"/>\n",
       "<path class=\"bond-2\" d=\"M 732.079,502.748 L 732.079,512.793\" style=\"fill:none;fill-rule:evenodd;stroke:#000000;stroke-width:2.0px;stroke-linecap:butt;stroke-linejoin:miter;stroke-opacity:1\"/>\n",
       "<path class=\"bond-3\" d=\"M 728.887,486.844 L 720.045,481.739\" style=\"fill:none;fill-rule:evenodd;stroke:#0000FF;stroke-width:2.0px;stroke-linecap:butt;stroke-linejoin:miter;stroke-opacity:1\"/>\n",
       "<path class=\"bond-3\" d=\"M 720.045,481.739 L 711.202,476.634\" style=\"fill:none;fill-rule:evenodd;stroke:#000000;stroke-width:2.0px;stroke-linecap:butt;stroke-linejoin:miter;stroke-opacity:1\"/>\n",
       "<path class=\"bond-4\" d=\"M 713.613,476.634 L 713.613,466.661\" style=\"fill:none;fill-rule:evenodd;stroke:#000000;stroke-width:2.0px;stroke-linecap:butt;stroke-linejoin:miter;stroke-opacity:1\"/>\n",
       "<path class=\"bond-4\" d=\"M 713.613,466.661 L 713.613,456.689\" style=\"fill:none;fill-rule:evenodd;stroke:#FF0000;stroke-width:2.0px;stroke-linecap:butt;stroke-linejoin:miter;stroke-opacity:1\"/>\n",
       "<path class=\"bond-4\" d=\"M 708.792,476.634 L 708.792,466.661\" style=\"fill:none;fill-rule:evenodd;stroke:#000000;stroke-width:2.0px;stroke-linecap:butt;stroke-linejoin:miter;stroke-opacity:1\"/>\n",
       "<path class=\"bond-4\" d=\"M 708.792,466.661 L 708.792,456.689\" style=\"fill:none;fill-rule:evenodd;stroke:#FF0000;stroke-width:2.0px;stroke-linecap:butt;stroke-linejoin:miter;stroke-opacity:1\"/>\n",
       "<path class=\"bond-5\" d=\"M 711.202,476.634 L 690.326,488.687\" style=\"fill:none;fill-rule:evenodd;stroke:#000000;stroke-width:2.0px;stroke-linecap:butt;stroke-linejoin:miter;stroke-opacity:1\"/>\n",
       "<path class=\"bond-6\" d=\"M 690.326,488.687 L 669.45,476.634\" style=\"fill:none;fill-rule:evenodd;stroke:#000000;stroke-width:2.0px;stroke-linecap:butt;stroke-linejoin:miter;stroke-opacity:1\"/>\n",
       "<path class=\"bond-7\" d=\"M 671.86,476.634 L 671.86,466.661\" style=\"fill:none;fill-rule:evenodd;stroke:#000000;stroke-width:2.0px;stroke-linecap:butt;stroke-linejoin:miter;stroke-opacity:1\"/>\n",
       "<path class=\"bond-7\" d=\"M 671.86,466.661 L 671.86,456.689\" style=\"fill:none;fill-rule:evenodd;stroke:#FF0000;stroke-width:2.0px;stroke-linecap:butt;stroke-linejoin:miter;stroke-opacity:1\"/>\n",
       "<path class=\"bond-7\" d=\"M 667.039,476.634 L 667.039,466.661\" style=\"fill:none;fill-rule:evenodd;stroke:#000000;stroke-width:2.0px;stroke-linecap:butt;stroke-linejoin:miter;stroke-opacity:1\"/>\n",
       "<path class=\"bond-7\" d=\"M 667.039,466.661 L 667.039,456.689\" style=\"fill:none;fill-rule:evenodd;stroke:#FF0000;stroke-width:2.0px;stroke-linecap:butt;stroke-linejoin:miter;stroke-opacity:1\"/>\n",
       "<path class=\"bond-8\" d=\"M 669.45,476.634 L 660.88,481.582\" style=\"fill:none;fill-rule:evenodd;stroke:#000000;stroke-width:2.0px;stroke-linecap:butt;stroke-linejoin:miter;stroke-opacity:1\"/>\n",
       "<path class=\"bond-8\" d=\"M 660.88,481.582 L 652.31,486.53\" style=\"fill:none;fill-rule:evenodd;stroke:#FF0000;stroke-width:2.0px;stroke-linecap:butt;stroke-linejoin:miter;stroke-opacity:1\"/>\n",
       "<path class=\"atom-2\" d=\"M 730.57 485.274 L 732.807 488.889 Q 733.028 489.246, 733.385 489.892 Q 733.742 490.538, 733.761 490.577 L 733.761 485.274 L 734.668 485.274 L 734.668 492.1 L 733.732 492.1 L 731.331 488.147 Q 731.052 487.684, 730.753 487.154 Q 730.463 486.623, 730.377 486.46 L 730.377 492.1 L 729.49 492.1 L 729.49 485.274 L 730.57 485.274 \" fill=\"#0000FF\"/>\n",
       "<path class=\"atom-5\" d=\"M 708.069 452.548 Q 708.069 450.908, 708.879 449.992 Q 709.689 449.076, 711.202 449.076 Q 712.716 449.076, 713.526 449.992 Q 714.336 450.908, 714.336 452.548 Q 714.336 454.206, 713.517 455.151 Q 712.697 456.086, 711.202 456.086 Q 709.698 456.086, 708.879 455.151 Q 708.069 454.216, 708.069 452.548 M 711.202 455.315 Q 712.244 455.315, 712.803 454.621 Q 713.372 453.917, 713.372 452.548 Q 713.372 451.207, 712.803 450.532 Q 712.244 449.848, 711.202 449.848 Q 710.161 449.848, 709.592 450.523 Q 709.033 451.198, 709.033 452.548 Q 709.033 453.926, 709.592 454.621 Q 710.161 455.315, 711.202 455.315 \" fill=\"#FF0000\"/>\n",
       "<path class=\"atom-8\" d=\"M 666.316 452.548 Q 666.316 450.908, 667.126 449.992 Q 667.936 449.076, 669.45 449.076 Q 670.964 449.076, 671.774 449.992 Q 672.584 450.908, 672.584 452.548 Q 672.584 454.206, 671.764 455.151 Q 670.944 456.086, 669.45 456.086 Q 667.946 456.086, 667.126 455.151 Q 666.316 454.216, 666.316 452.548 M 669.45 455.315 Q 670.491 455.315, 671.051 454.621 Q 671.619 453.917, 671.619 452.548 Q 671.619 451.207, 671.051 450.532 Q 670.491 449.848, 669.45 449.848 Q 668.409 449.848, 667.84 450.523 Q 667.28 451.198, 667.28 452.548 Q 667.28 453.926, 667.84 454.621 Q 668.409 455.315, 669.45 455.315 \" fill=\"#FF0000\"/>\n",
       "<path class=\"atom-9\" d=\"M 639.616 485.312 L 640.542 485.312 L 640.542 488.214 L 644.032 488.214 L 644.032 485.312 L 644.958 485.312 L 644.958 492.139 L 644.032 492.139 L 644.032 488.986 L 640.542 488.986 L 640.542 492.139 L 639.616 492.139 L 639.616 485.312 \" fill=\"#FF0000\"/>\n",
       "<path class=\"atom-9\" d=\"M 645.44 488.706 Q 645.44 487.067, 646.25 486.151 Q 647.06 485.235, 648.574 485.235 Q 650.087 485.235, 650.897 486.151 Q 651.707 487.067, 651.707 488.706 Q 651.707 490.365, 650.888 491.31 Q 650.068 492.245, 648.574 492.245 Q 647.069 492.245, 646.25 491.31 Q 645.44 490.374, 645.44 488.706 M 648.574 491.474 Q 649.615 491.474, 650.174 490.779 Q 650.743 490.075, 650.743 488.706 Q 650.743 487.366, 650.174 486.691 Q 649.615 486.006, 648.574 486.006 Q 647.532 486.006, 646.963 486.681 Q 646.404 487.356, 646.404 488.706 Q 646.404 490.085, 646.963 490.779 Q 647.532 491.474, 648.574 491.474 \" fill=\"#FF0000\"/>\n",
       "<path d=\"M 625.713 584.432 Q 625.713 581.616, 627.025 580.144 Q 628.353 578.656, 630.865 578.656 Q 633.201 578.656, 634.449 580.304 L 633.393 581.168 Q 632.481 579.968, 630.865 579.968 Q 629.153 579.968, 628.241 581.12 Q 627.345 582.256, 627.345 584.432 Q 627.345 586.672, 628.273 587.824 Q 629.217 588.976, 631.041 588.976 Q 632.289 588.976, 633.745 588.224 L 634.193 589.424 Q 633.601 589.808, 632.705 590.032 Q 631.809 590.256, 630.817 590.256 Q 628.353 590.256, 627.025 588.752 Q 625.713 587.248, 625.713 584.432 \" fill=\"#000000\"/>\n",
       "<path d=\"M 635.249 584.432 Q 635.249 581.616, 636.561 580.144 Q 637.889 578.656, 640.401 578.656 Q 642.737 578.656, 643.985 580.304 L 642.929 581.168 Q 642.017 579.968, 640.401 579.968 Q 638.689 579.968, 637.777 581.12 Q 636.881 582.256, 636.881 584.432 Q 636.881 586.672, 637.809 587.824 Q 638.753 588.976, 640.577 588.976 Q 641.825 588.976, 643.281 588.224 L 643.729 589.424 Q 643.137 589.808, 642.241 590.032 Q 641.345 590.256, 640.353 590.256 Q 637.889 590.256, 636.561 588.752 Q 635.249 587.248, 635.249 584.432 \" fill=\"#000000\"/>\n",
       "<path d=\"M 647.105 578.784 L 650.817 584.784 Q 651.185 585.376, 651.777 586.448 Q 652.369 587.52, 652.401 587.584 L 652.401 578.784 L 653.905 578.784 L 653.905 590.112 L 652.353 590.112 L 648.369 583.552 Q 647.905 582.784, 647.409 581.904 Q 646.929 581.024, 646.785 580.752 L 646.785 590.112 L 645.313 590.112 L 645.313 578.784 L 647.105 578.784 \" fill=\"#000000\"/>\n",
       "<path d=\"M 654.705 585.552 Q 654.705 583.248, 655.361 581.376 Q 656.033 579.504, 657.329 577.44 L 658.225 578.016 Q 657.185 579.92, 656.657 581.648 Q 656.145 583.36, 656.145 585.552 Q 656.145 587.712, 656.657 589.424 Q 657.185 591.12, 658.225 593.088 L 657.329 593.664 Q 656.033 591.632, 655.361 589.76 Q 654.705 587.872, 654.705 585.552 \" fill=\"#000000\"/>\n",
       "<path d=\"M 659.025 584.432 Q 659.025 581.616, 660.337 580.144 Q 661.665 578.656, 664.177 578.656 Q 666.513 578.656, 667.761 580.304 L 666.705 581.168 Q 665.793 579.968, 664.177 579.968 Q 662.465 579.968, 661.553 581.12 Q 660.657 582.256, 660.657 584.432 Q 660.657 586.672, 661.585 587.824 Q 662.529 588.976, 664.353 588.976 Q 665.601 588.976, 667.057 588.224 L 667.505 589.424 Q 666.913 589.808, 666.017 590.032 Q 665.121 590.256, 664.129 590.256 Q 661.665 590.256, 660.337 588.752 Q 659.025 587.248, 659.025 584.432 \" fill=\"#000000\"/>\n",
       "<path d=\"M 671.681 585.552 Q 671.681 587.872, 671.009 589.76 Q 670.353 591.632, 669.057 593.664 L 668.161 593.088 Q 669.201 591.12, 669.713 589.424 Q 670.241 587.712, 670.241 585.552 Q 670.241 583.36, 669.713 581.648 Q 669.201 579.92, 668.161 578.016 L 669.057 577.44 Q 670.353 579.504, 671.009 581.376 Q 671.681 583.248, 671.681 585.552 \" fill=\"#000000\"/>\n",
       "<path d=\"M 672.481 584.432 Q 672.481 581.616, 673.793 580.144 Q 675.121 578.656, 677.633 578.656 Q 679.969 578.656, 681.217 580.304 L 680.161 581.168 Q 679.249 579.968, 677.633 579.968 Q 675.921 579.968, 675.009 581.12 Q 674.113 582.256, 674.113 584.432 Q 674.113 586.672, 675.041 587.824 Q 675.985 588.976, 677.809 588.976 Q 679.057 588.976, 680.513 588.224 L 680.961 589.424 Q 680.369 589.808, 679.473 590.032 Q 678.577 590.256, 677.585 590.256 Q 675.121 590.256, 673.793 588.752 Q 672.481 587.248, 672.481 584.432 \" fill=\"#000000\"/>\n",
       "<path d=\"M 682.017 585.552 Q 682.017 583.248, 682.673 581.376 Q 683.345 579.504, 684.641 577.44 L 685.537 578.016 Q 684.497 579.92, 683.969 581.648 Q 683.457 583.36, 683.457 585.552 Q 683.457 587.712, 683.969 589.424 Q 684.497 591.12, 685.537 593.088 L 684.641 593.664 Q 683.345 591.632, 682.673 589.76 Q 682.017 587.872, 682.017 585.552 \" fill=\"#000000\"/>\n",
       "<path d=\"M 686.993 583.152 L 694.321 583.152 L 694.321 584.304 L 686.993 584.304 L 686.993 583.152 M 686.993 586.576 L 694.321 586.576 L 694.321 587.728 L 686.993 587.728 L 686.993 586.576 \" fill=\"#000000\"/>\n",
       "<path d=\"M 695.121 584.416 Q 695.121 581.696, 696.465 580.176 Q 697.809 578.656, 700.321 578.656 Q 702.833 578.656, 704.177 580.176 Q 705.521 581.696, 705.521 584.416 Q 705.521 587.168, 704.161 588.736 Q 702.801 590.288, 700.321 590.288 Q 697.825 590.288, 696.465 588.736 Q 695.121 587.184, 695.121 584.416 M 700.321 589.008 Q 702.049 589.008, 702.977 587.856 Q 703.921 586.688, 703.921 584.416 Q 703.921 582.192, 702.977 581.072 Q 702.049 579.936, 700.321 579.936 Q 698.593 579.936, 697.649 581.056 Q 696.721 582.176, 696.721 584.416 Q 696.721 586.704, 697.649 587.856 Q 698.593 589.008, 700.321 589.008 \" fill=\"#000000\"/>\n",
       "<path d=\"M 709.441 585.552 Q 709.441 587.872, 708.769 589.76 Q 708.113 591.632, 706.817 593.664 L 705.921 593.088 Q 706.961 591.12, 707.473 589.424 Q 708.001 587.712, 708.001 585.552 Q 708.001 583.36, 707.473 581.648 Q 706.961 579.92, 705.921 578.016 L 706.817 577.44 Q 708.113 579.504, 708.769 581.376 Q 709.441 583.248, 709.441 585.552 \" fill=\"#000000\"/>\n",
       "<path d=\"M 710.241 584.432 Q 710.241 581.616, 711.553 580.144 Q 712.881 578.656, 715.393 578.656 Q 717.729 578.656, 718.977 580.304 L 717.921 581.168 Q 717.009 579.968, 715.393 579.968 Q 713.681 579.968, 712.769 581.12 Q 711.873 582.256, 711.873 584.432 Q 711.873 586.672, 712.801 587.824 Q 713.745 588.976, 715.569 588.976 Q 716.817 588.976, 718.273 588.224 L 718.721 589.424 Q 718.129 589.808, 717.233 590.032 Q 716.337 590.256, 715.345 590.256 Q 712.881 590.256, 711.553 588.752 Q 710.241 587.248, 710.241 584.432 \" fill=\"#000000\"/>\n",
       "<path d=\"M 719.777 584.432 Q 719.777 581.616, 721.089 580.144 Q 722.417 578.656, 724.929 578.656 Q 727.265 578.656, 728.513 580.304 L 727.457 581.168 Q 726.545 579.968, 724.929 579.968 Q 723.217 579.968, 722.305 581.12 Q 721.409 582.256, 721.409 584.432 Q 721.409 586.672, 722.337 587.824 Q 723.281 588.976, 725.105 588.976 Q 726.353 588.976, 727.809 588.224 L 728.257 589.424 Q 727.665 589.808, 726.769 590.032 Q 725.873 590.256, 724.881 590.256 Q 722.417 590.256, 721.089 588.752 Q 719.777 587.248, 719.777 584.432 \" fill=\"#000000\"/>\n",
       "<path d=\"M 729.313 585.552 Q 729.313 583.248, 729.969 581.376 Q 730.641 579.504, 731.937 577.44 L 732.833 578.016 Q 731.793 579.92, 731.265 581.648 Q 730.753 583.36, 730.753 585.552 Q 730.753 587.712, 731.265 589.424 Q 731.793 591.12, 732.833 593.088 L 731.937 593.664 Q 730.641 591.632, 729.969 589.76 Q 729.313 587.872, 729.313 585.552 \" fill=\"#000000\"/>\n",
       "<path d=\"M 734.289 583.152 L 741.617 583.152 L 741.617 584.304 L 734.289 584.304 L 734.289 583.152 M 734.289 586.576 L 741.617 586.576 L 741.617 587.728 L 734.289 587.728 L 734.289 586.576 \" fill=\"#000000\"/>\n",
       "<path d=\"M 742.417 584.416 Q 742.417 581.696, 743.761 580.176 Q 745.105 578.656, 747.617 578.656 Q 750.129 578.656, 751.473 580.176 Q 752.817 581.696, 752.817 584.416 Q 752.817 587.168, 751.457 588.736 Q 750.097 590.288, 747.617 590.288 Q 745.121 590.288, 743.761 588.736 Q 742.417 587.184, 742.417 584.416 M 747.617 589.008 Q 749.345 589.008, 750.273 587.856 Q 751.217 586.688, 751.217 584.416 Q 751.217 582.192, 750.273 581.072 Q 749.345 579.936, 747.617 579.936 Q 745.889 579.936, 744.945 581.056 Q 744.017 582.176, 744.017 584.416 Q 744.017 586.704, 744.945 587.856 Q 745.889 589.008, 747.617 589.008 \" fill=\"#000000\"/>\n",
       "<path d=\"M 756.737 585.552 Q 756.737 587.872, 756.065 589.76 Q 755.409 591.632, 754.113 593.664 L 753.217 593.088 Q 754.257 591.12, 754.769 589.424 Q 755.297 587.712, 755.297 585.552 Q 755.297 583.36, 754.769 581.648 Q 754.257 579.92, 753.217 578.016 L 754.113 577.44 Q 755.409 579.504, 756.065 581.376 Q 756.737 583.248, 756.737 585.552 \" fill=\"#000000\"/>\n",
       "<path d=\"M 757.537 584.416 Q 757.537 581.696, 758.881 580.176 Q 760.225 578.656, 762.737 578.656 Q 765.249 578.656, 766.593 580.176 Q 767.937 581.696, 767.937 584.416 Q 767.937 587.168, 766.577 588.736 Q 765.217 590.288, 762.737 590.288 Q 760.241 590.288, 758.881 588.736 Q 757.537 587.184, 757.537 584.416 M 762.737 589.008 Q 764.465 589.008, 765.393 587.856 Q 766.337 586.688, 766.337 584.416 Q 766.337 582.192, 765.393 581.072 Q 764.465 579.936, 762.737 579.936 Q 761.009 579.936, 760.065 581.056 Q 759.137 582.176, 759.137 584.416 Q 759.137 586.704, 760.065 587.856 Q 761.009 589.008, 762.737 589.008 \" fill=\"#000000\"/>\n",
       "</svg>"
      ],
      "text/plain": [
       "<IPython.core.display.SVG object>"
      ]
     },
     "execution_count": 106,
     "metadata": {},
     "output_type": "execute_result"
    }
   ],
   "source": [
    "Draw.MolsToGridImage([Chem.MolFromSmiles(s) for s in pu], molsPerRow=4, subImgSize=(200,200), legends=pu)"
   ]
  },
  {
   "cell_type": "markdown",
   "metadata": {
    "collapsed": true
   },
   "source": [
    "---"
   ]
  },
  {
   "cell_type": "markdown",
   "metadata": {
    "collapsed": true
   },
   "source": [
    "Recommended sources:\n",
    "\n",
    "1. RDKit official web-site: http://www.rdkit.org/docs/index.html\n",
    "2. RDKit maillists: https://sourceforge.net/p/rdkit/mailman/rdkit-discuss/"
   ]
  }
 ],
 "metadata": {
  "kernelspec": {
   "display_name": "Python 3",
   "language": "python",
   "name": "python3"
  },
  "language_info": {
   "codemirror_mode": {
    "name": "ipython",
    "version": 3
   },
   "file_extension": ".py",
   "mimetype": "text/x-python",
   "name": "python",
   "nbconvert_exporter": "python",
   "pygments_lexer": "ipython3",
   "version": "3.7.9"
  }
 },
 "nbformat": 4,
 "nbformat_minor": 1
}
